{
 "cells": [
  {
   "cell_type": "code",
   "execution_count": 1,
   "metadata": {},
   "outputs": [],
   "source": [
    "%run utils.py\n",
    "%matplotlib inline\n",
    "import os.path as osp\n",
    "import pandas as pd\n",
    "import numpy as np\n",
    "import tqdm\n",
    "import mygene"
   ]
  },
  {
   "cell_type": "code",
   "execution_count": 2,
   "metadata": {},
   "outputs": [],
   "source": [
    "mg = mygene.MyGeneInfo()"
   ]
  },
  {
   "cell_type": "code",
   "execution_count": 3,
   "metadata": {},
   "outputs": [
    {
     "name": "stdout",
     "output_type": "stream",
     "text": [
      "<class 'pandas.core.frame.DataFrame'>\n",
      "RangeIndex: 61064 entries, 0 to 61063\n",
      "Data columns (total 8 columns):\n",
      "id            61064 non-null int64\n",
      "start         61064 non-null int64\n",
      "end           61064 non-null int64\n",
      "value         61064 non-null object\n",
      "class         61064 non-null object\n",
      "value_norm    61064 non-null object\n",
      "value_lbl     61064 non-null object\n",
      "value_sym     17341 non-null object\n",
      "dtypes: int64(3), object(5)\n",
      "memory usage: 3.7+ MB\n"
     ]
    }
   ],
   "source": [
    "df_pr = pd.read_csv(osp.join(DATA_DIR, 'pubmed_abstract_proteins_resolved.csv'))\n",
    "df_pr.info()"
   ]
  },
  {
   "cell_type": "code",
   "execution_count": 4,
   "metadata": {},
   "outputs": [],
   "source": [
    "# Use normalized raw value instead of HGNC-resolved value_lbl\n",
    "qfld = 'value_norm'"
   ]
  },
  {
   "cell_type": "markdown",
   "metadata": {},
   "source": [
    "## Build Queries"
   ]
  },
  {
   "cell_type": "code",
   "execution_count": 5,
   "metadata": {},
   "outputs": [
    {
     "data": {
      "text/html": [
       "<div>\n",
       "<style scoped>\n",
       "    .dataframe tbody tr th:only-of-type {\n",
       "        vertical-align: middle;\n",
       "    }\n",
       "\n",
       "    .dataframe tbody tr th {\n",
       "        vertical-align: top;\n",
       "    }\n",
       "\n",
       "    .dataframe thead th {\n",
       "        text-align: right;\n",
       "    }\n",
       "</style>\n",
       "<table border=\"1\" class=\"dataframe\">\n",
       "  <thead>\n",
       "    <tr style=\"text-align: right;\">\n",
       "      <th></th>\n",
       "      <th>query</th>\n",
       "      <th>value_norm</th>\n",
       "    </tr>\n",
       "  </thead>\n",
       "  <tbody>\n",
       "    <tr>\n",
       "      <th>0</th>\n",
       "      <td>FCGRIIB</td>\n",
       "      <td>FCGRIIB</td>\n",
       "    </tr>\n",
       "    <tr>\n",
       "      <th>1</th>\n",
       "      <td>IL2</td>\n",
       "      <td>IL2</td>\n",
       "    </tr>\n",
       "    <tr>\n",
       "      <th>2</th>\n",
       "      <td>FOXP3</td>\n",
       "      <td>FOXP3</td>\n",
       "    </tr>\n",
       "    <tr>\n",
       "      <th>3</th>\n",
       "      <td>CD4</td>\n",
       "      <td>CD4</td>\n",
       "    </tr>\n",
       "    <tr>\n",
       "      <th>4</th>\n",
       "      <td>TCR</td>\n",
       "      <td>TCR</td>\n",
       "    </tr>\n",
       "  </tbody>\n",
       "</table>\n",
       "</div>"
      ],
      "text/plain": [
       "     query value_norm\n",
       "0  FCGRIIB    FCGRIIB\n",
       "1      IL2        IL2\n",
       "2    FOXP3      FOXP3\n",
       "3      CD4        CD4\n",
       "4      TCR        TCR"
      ]
     },
     "execution_count": 5,
     "metadata": {},
     "output_type": "execute_result"
    }
   ],
   "source": [
    "from unidecode import unidecode\n",
    "\n",
    "def normalize_to_query(pr):\n",
    "    # Normalize greeks and super/subscripts (TNFα -> TNFa, CX₃CR1 -> CX3CR1)\n",
    "    # Quotes and ticks will result bad http requests\n",
    "    return unidecode(pr).replace(\"'\", \"\").replace('\"', '')\n",
    "\n",
    "df_query = pd.DataFrame([\n",
    "    {'query': normalize_to_query(pr), qfld: pr}\n",
    "    for pr in df_pr[qfld].unique()\n",
    "])\n",
    "df_query.head()"
   ]
  },
  {
   "cell_type": "code",
   "execution_count": 6,
   "metadata": {},
   "outputs": [
    {
     "data": {
      "text/html": [
       "<div>\n",
       "<style scoped>\n",
       "    .dataframe tbody tr th:only-of-type {\n",
       "        vertical-align: middle;\n",
       "    }\n",
       "\n",
       "    .dataframe tbody tr th {\n",
       "        vertical-align: top;\n",
       "    }\n",
       "\n",
       "    .dataframe thead th {\n",
       "        text-align: right;\n",
       "    }\n",
       "</style>\n",
       "<table border=\"1\" class=\"dataframe\">\n",
       "  <thead>\n",
       "    <tr style=\"text-align: right;\">\n",
       "      <th></th>\n",
       "      <th>query</th>\n",
       "      <th>value_norm</th>\n",
       "    </tr>\n",
       "  </thead>\n",
       "  <tbody>\n",
       "  </tbody>\n",
       "</table>\n",
       "</div>"
      ],
      "text/plain": [
       "Empty DataFrame\n",
       "Columns: [query, value_norm]\n",
       "Index: []"
      ]
     },
     "execution_count": 6,
     "metadata": {},
     "output_type": "execute_result"
    }
   ],
   "source": [
    "# Show proteins that normalized to the same query terms (which isn't a problem)\n",
    "cts = df_query.groupby('query').size()\n",
    "df_query[df_query['query'].isin(cts[cts > 1].index.values)].sort_values('query')"
   ]
  },
  {
   "cell_type": "code",
   "execution_count": 7,
   "metadata": {},
   "outputs": [
    {
     "name": "stdout",
     "output_type": "stream",
     "text": [
      "Number of queries total = 5165\n",
      "Number of query batches = 20\n",
      "Batch size counts:\n",
      "258    15\n",
      "259     5\n",
      "dtype: int64\n"
     ]
    }
   ],
   "source": [
    "batch_size = 250\n",
    "q_pr = df_query['query'].unique()\n",
    "q_pr_n = len(q_pr)\n",
    "q_pr = np.array_split(q_pr, q_pr_n//batch_size)\n",
    "print(\n",
    "    'Number of queries total = {}\\nNumber of query batches = {}\\nBatch size counts:\\n{}'\n",
    "    .format(q_pr_n, len(q_pr), pd.Series([len(b) for b in q_pr]).value_counts())\n",
    ")"
   ]
  },
  {
   "cell_type": "markdown",
   "metadata": {},
   "source": [
    "## Run Queries"
   ]
  },
  {
   "cell_type": "code",
   "execution_count": 8,
   "metadata": {},
   "outputs": [
    {
     "name": "stderr",
     "output_type": "stream",
     "text": [
      "\r",
      "  0%|          | 0/20 [00:00<?, ?it/s]"
     ]
    },
    {
     "name": "stdout",
     "output_type": "stream",
     "text": [
      "querying 1-259...done.\n"
     ]
    },
    {
     "name": "stderr",
     "output_type": "stream",
     "text": [
      "\r",
      "  5%|▌         | 1/20 [00:02<00:42,  2.24s/it]"
     ]
    },
    {
     "name": "stdout",
     "output_type": "stream",
     "text": [
      "Finished.\n",
      "149 input query terms found dup hits:\n",
      "\t[('IL2', 4), ('FOXP3', 5), ('CD4', 10), ('TCR', 4), ('SATB1', 4), ('CD14', 3), ('HLA', 10), ('PD1', \n",
      "103 input query terms found no hit:\n",
      "\t['FCGRIIB', 'PROGRAMMEDDEATH1', 'TFH2', 'TFH17', 'TFH1', 'LGLS', 'MHCI', 'APRCA', 'IMMUNOGLOBULING2A\n",
      "Pass \"returnall=True\" to return complete lists of duplicate or missing query terms.\n",
      "querying 1-259...done.\n"
     ]
    },
    {
     "name": "stderr",
     "output_type": "stream",
     "text": [
      "\r",
      " 10%|█         | 2/20 [00:05<00:44,  2.46s/it]"
     ]
    },
    {
     "name": "stdout",
     "output_type": "stream",
     "text": [
      "Finished.\n",
      "98 input query terms found dup hits:\n",
      "\t[('TF', 10), ('AKT', 10), ('GARP', 10), ('CD73', 2), ('TCRA', 6), ('TCRB', 10), ('GMCSF', 2), ('INOS\n",
      "144 input query terms found no hit:\n",
      "\t['WB', 'HUT102', 'IFC', 'HIV1', 'GRANU', 'GROWTHFACTOR', 'ADGM', 'TARGET6', 'ESAT6', 'RV0753C', 'RV0\n",
      "Pass \"returnall=True\" to return complete lists of duplicate or missing query terms.\n",
      "querying 1-259...done.\n"
     ]
    },
    {
     "name": "stderr",
     "output_type": "stream",
     "text": [
      "\r",
      " 15%|█▌        | 3/20 [00:08<00:45,  2.70s/it]"
     ]
    },
    {
     "name": "stdout",
     "output_type": "stream",
     "text": [
      "Finished.\n",
      "99 input query terms found dup hits:\n",
      "\t[('SEMA3A', 2), ('REGULATOR', 10), ('CD24', 9), ('CD27', 3), ('MDA5', 2), ('STAT1', 2), ('IL27', 3),\n",
      "147 input query terms found no hit:\n",
      "\t['SEMAPHORIN3A', 'SEMAPHORINS', 'RIGILIKE', 'RLR', 'CHB', 'CD4AND', 'TGM', 'COMPLEMENTCONTROLPROTEIN\n",
      "Pass \"returnall=True\" to return complete lists of duplicate or missing query terms.\n",
      "querying 1-259...done.\n"
     ]
    },
    {
     "name": "stderr",
     "output_type": "stream",
     "text": [
      "\r",
      " 20%|██        | 4/20 [00:10<00:39,  2.48s/it]"
     ]
    },
    {
     "name": "stdout",
     "output_type": "stream",
     "text": [
      "Finished.\n",
      "92 input query terms found dup hits:\n",
      "\t[('SYK', 2), ('MYD88', 2), ('P38', 10), ('JNK', 2), ('SUPER', 4), ('HDAC', 4), ('HDAC6', 2), ('HISTO\n",
      "154 input query terms found no hit:\n",
      "\t['IMMUNOGLOBULING1', 'IL4HS2', 'IL4CNS2', 'OROXYLINA', 'SMAD3P', 'P38P', 'JNKP', 'ERK12', 'TPATH2', \n",
      "Pass \"returnall=True\" to return complete lists of duplicate or missing query terms.\n",
      "querying 1-259...done.\n"
     ]
    },
    {
     "name": "stderr",
     "output_type": "stream",
     "text": [
      "\r",
      " 25%|██▌       | 5/20 [00:12<00:34,  2.33s/it]"
     ]
    },
    {
     "name": "stdout",
     "output_type": "stream",
     "text": [
      "Finished.\n",
      "100 input query terms found dup hits:\n",
      "\t[('PSA', 8), ('GONADOTROPIN', 10), ('HCG', 5), ('FOLR4', 2), ('ITGB8', 2), ('PGLYRP1', 2), ('IL1RL1'\n",
      "143 input query terms found no hit:\n",
      "\t['STAT3BASED', 'TYPEIICOLLAGEN', 'COLLAGENII', 'HUMANCHORIONICGONADOTROPIN', 'GALECTIN10', 'EOE', 'I\n",
      "Pass \"returnall=True\" to return complete lists of duplicate or missing query terms.\n",
      "querying 1-258...done.\n"
     ]
    },
    {
     "name": "stderr",
     "output_type": "stream",
     "text": [
      "\r",
      " 30%|███       | 6/20 [00:14<00:33,  2.39s/it]"
     ]
    },
    {
     "name": "stdout",
     "output_type": "stream",
     "text": [
      "Finished.\n",
      "77 input query terms found dup hits:\n",
      "\t[('EXO', 4), ('3P', 5), ('B1', 10), ('CB', 2), ('MOG', 2), ('CD47', 2), ('GITRL', 2), ('QA1', 3), ('\n",
      "166 input query terms found no hit:\n",
      "\t['MIR243P', 'CD11CMHC', 'CD11CLANGERINMHC', 'TYPE1', 'CANNABINOID1AND2', 'AEA', 'RORGTFACTOR', 'GLUC\n",
      "Pass \"returnall=True\" to return complete lists of duplicate or missing query terms.\n",
      "querying 1-258...done.\n"
     ]
    },
    {
     "name": "stderr",
     "output_type": "stream",
     "text": [
      "\r",
      " 35%|███▌      | 7/20 [00:18<00:33,  2.59s/it]"
     ]
    },
    {
     "name": "stdout",
     "output_type": "stream",
     "text": [
      "Finished.\n",
      "90 input query terms found dup hits:\n",
      "\t[('RAI', 5), ('CD134', 2), ('CD134L', 2), ('TNFRSF4', 2), ('TNFSF4', 2), ('SIT', 2), ('CD152', 2), (\n",
      "144 input query terms found no hit:\n",
      "\t['OX40OX40L', 'BOXPROTEINP3', 'TRECS', 'SIRT1MTOR', 'RUNTRELATEDTRANSCRIPTIONFACTOR3', 'RUNTDOMAIN',\n",
      "Pass \"returnall=True\" to return complete lists of duplicate or missing query terms.\n",
      "querying 1-258...done.\n"
     ]
    },
    {
     "name": "stderr",
     "output_type": "stream",
     "text": [
      "\r",
      " 40%|████      | 8/20 [00:20<00:29,  2.46s/it]"
     ]
    },
    {
     "name": "stdout",
     "output_type": "stream",
     "text": [
      "Finished.\n",
      "72 input query terms found dup hits:\n",
      "\t[('LTBR', 2), ('LYMPHOTOXIN', 6), ('CEBPB', 4), ('ITK', 2), ('MST1', 4), ('DRB1', 4), ('JAK2', 2), (\n",
      "170 input query terms found no hit:\n",
      "\t['LUCIFERASE', 'TLTS', 'LYMPHOTOXINAB', 'LTAB', 'PHOSPHOSTAT5', 'BINDINGPROTEIN', 'IL6C', 'KINASEITK\n",
      "Pass \"returnall=True\" to return complete lists of duplicate or missing query terms.\n",
      "querying 1-258...done.\n"
     ]
    },
    {
     "name": "stderr",
     "output_type": "stream",
     "text": [
      "\r",
      " 45%|████▌     | 9/20 [00:22<00:25,  2.36s/it]"
     ]
    },
    {
     "name": "stdout",
     "output_type": "stream",
     "text": [
      "Finished.\n",
      "94 input query terms found dup hits:\n",
      "\t[('NFAT1', 2), ('NFAT2', 2), ('NFATC2', 2), ('NFATC1', 2), ('P53', 10), ('KIR3DL2', 2), ('TPC', 3), \n",
      "147 input query terms found no hit:\n",
      "\t['RAPAMYCIN1', 'MTOR1', 'DOGMA', 'DNTGFBRII', 'AGALCER', 'MYELINASSOCIATEDAGS', 'NFAT1CD4', 'DIOXINL\n",
      "Pass \"returnall=True\" to return complete lists of duplicate or missing query terms.\n",
      "querying 1-258...done.\n"
     ]
    },
    {
     "name": "stderr",
     "output_type": "stream",
     "text": [
      "\r",
      " 50%|█████     | 10/20 [00:25<00:25,  2.53s/it]"
     ]
    },
    {
     "name": "stdout",
     "output_type": "stream",
     "text": [
      "Finished.\n",
      "73 input query terms found dup hits:\n",
      "\t[('PLT', 2), ('ECTO', 8), ('MBP', 5), ('IFNAR1', 2), ('ACC1', 3), ('MALT1', 2), ('PARACASPASE', 2), \n",
      "166 input query terms found no hit:\n",
      "\t['CLASSIBMAJORHISTOCOMPATIBILITY', 'FOXP3MRNA', 'SCCS', 'FOXP3EXPRESSION', 'ACETYLCOACARBOXYLASE1', \n",
      "Pass \"returnall=True\" to return complete lists of duplicate or missing query terms.\n",
      "querying 1-258...done.\n"
     ]
    },
    {
     "name": "stderr",
     "output_type": "stream",
     "text": [
      "\r",
      " 55%|█████▌    | 11/20 [00:28<00:24,  2.68s/it]"
     ]
    },
    {
     "name": "stdout",
     "output_type": "stream",
     "text": [
      "Finished.\n",
      "67 input query terms found dup hits:\n",
      "\t[('CAMK4', 2), ('TYROSINASE', 9), ('LPL', 3), ('RAG2', 2), ('IA', 9), ('CDM', 3), ('MUC4', 2), ('IRA\n",
      "177 input query terms found no hit:\n",
      "\t['CTLA4PKCE', 'GIT2APIX', 'CAMK4DEPENDENT', 'CREMA', 'CALCIUMCALMODULINDEPENDENTPROTEINKINASEIV', 'C\n",
      "Pass \"returnall=True\" to return complete lists of duplicate or missing query terms.\n",
      "querying 1-258...done.\n"
     ]
    },
    {
     "name": "stderr",
     "output_type": "stream",
     "text": [
      "\r",
      " 60%|██████    | 12/20 [00:30<00:19,  2.49s/it]"
     ]
    },
    {
     "name": "stdout",
     "output_type": "stream",
     "text": [
      "Finished.\n",
      "81 input query terms found dup hits:\n",
      "\t[('CHAPERONE', 10), ('HSF1', 2), ('HSP70', 10), ('HBZ', 2), ('BST2', 3), ('ISG15', 2), ('OAS2', 2), \n",
      "165 input query terms found no hit:\n",
      "\t['SHOCKFACTOR1', '17AAG', 'ALLERGENSIT', 'HTLV1', 'BASICLEUCINEZIPPERFACTOR', 'AVPS', 'NTERMINALKINA\n",
      "Pass \"returnall=True\" to return complete lists of duplicate or missing query terms.\n",
      "querying 1-258...done.\n"
     ]
    },
    {
     "name": "stderr",
     "output_type": "stream",
     "text": [
      "\r",
      " 65%|██████▌   | 13/20 [00:32<00:16,  2.38s/it]"
     ]
    },
    {
     "name": "stdout",
     "output_type": "stream",
     "text": [
      "Finished.\n",
      "65 input query terms found dup hits:\n",
      "\t[('VEGFR2', 2), ('SLAMF1', 2), ('CD205', 3), ('ISLET', 10), ('GAPDH', 3), ('ZBTB16', 2), ('POLYMORPH\n",
      "179 input query terms found no hit:\n",
      "\t['PEIFNGA2B', 'OESTROGEN', 'BCLXL', 'TKI', 'VEGFRS', 'SIGAD', 'IDCM', 'CLASSIORCLASSIIHLA', 'PLATELE\n",
      "Pass \"returnall=True\" to return complete lists of duplicate or missing query terms.\n",
      "querying 1-258...done.\n"
     ]
    },
    {
     "name": "stderr",
     "output_type": "stream",
     "text": [
      "\r",
      " 70%|███████   | 14/20 [00:34<00:13,  2.23s/it]"
     ]
    },
    {
     "name": "stdout",
     "output_type": "stream",
     "text": [
      "Finished.\n",
      "63 input query terms found dup hits:\n",
      "\t[('CELLS', 10), ('IRX2', 2), ('MANNOSE', 10), ('TICAM1', 2), ('TRIF', 6), ('CDK6', 2), ('CD59', 2), \n",
      "179 input query terms found no hit:\n",
      "\t['EAHL', 'CD8086DEPENDENT', '86', 'TCCR7', 'TNFRELATEDAPOPTOSISINDUCING', 'GZMBPROGRAMMEDDEATH12', '\n",
      "Pass \"returnall=True\" to return complete lists of duplicate or missing query terms.\n",
      "querying 1-258...done.\n"
     ]
    },
    {
     "name": "stderr",
     "output_type": "stream",
     "text": [
      "\r",
      " 75%|███████▌  | 15/20 [00:37<00:12,  2.52s/it]"
     ]
    },
    {
     "name": "stdout",
     "output_type": "stream",
     "text": [
      "Finished.\n",
      "57 input query terms found dup hits:\n",
      "\t[('VAP1', 2), ('CLIP', 7), ('PRB', 2), ('GDA', 5), ('NOS2', 6), ('PGD2', 3), ('SLIT', 10), ('IGVH', \n",
      "183 input query terms found no hit:\n",
      "\t['FEEL1', 'STABILIN1', 'VASCULARADHESIONPROTEIN1', 'ASSOCIATEDINVARIANTCHAIN', 'ASSOCIATEDINVARIANTC\n",
      "Pass \"returnall=True\" to return complete lists of duplicate or missing query terms.\n",
      "querying 1-258...done.\n"
     ]
    },
    {
     "name": "stderr",
     "output_type": "stream",
     "text": [
      "\r",
      " 80%|████████  | 16/20 [00:39<00:09,  2.36s/it]"
     ]
    },
    {
     "name": "stdout",
     "output_type": "stream",
     "text": [
      "Finished.\n",
      "47 input query terms found dup hits:\n",
      "\t[('MKI67', 10), ('MAJOR', 10), ('TIEG1', 2), ('DESMOGLEIN', 10), ('MIR223', 3), ('POLYMERASE', 10), \n",
      "196 input query terms found no hit:\n",
      "\t['FCRL3T', 'PROTEIN1A', 'GRANULOCYTECHEMOTACTICPROTEIN2', 'C57BL6', 'BCELLACTIVATINGFACTOROFTHETNF',\n",
      "Pass \"returnall=True\" to return complete lists of duplicate or missing query terms.\n",
      "querying 1-258...done.\n"
     ]
    },
    {
     "name": "stderr",
     "output_type": "stream",
     "text": [
      "\r",
      " 85%|████████▌ | 17/20 [00:41<00:06,  2.21s/it]"
     ]
    },
    {
     "name": "stdout",
     "output_type": "stream",
     "text": [
      "Finished.\n",
      "57 input query terms found dup hits:\n",
      "\t[('SLAM', 10), ('TGFA', 4), ('PLCG2', 2), ('P28', 8), ('HY', 2), ('NFATC', 2), ('CD29', 2), ('CD212'\n",
      "180 input query terms found no hit:\n",
      "\t['SIGNALLINGLYMPHOCYTICACTIVATIONMOLECULE', 'IFNGANDTYPE2', 'CLTA4', 'OFTH2', 'SCD30', 'CD11CBDCA1',\n",
      "Pass \"returnall=True\" to return complete lists of duplicate or missing query terms.\n",
      "querying 1-258...done.\n"
     ]
    },
    {
     "name": "stderr",
     "output_type": "stream",
     "text": [
      "\r",
      " 90%|█████████ | 18/20 [00:43<00:04,  2.11s/it]"
     ]
    },
    {
     "name": "stdout",
     "output_type": "stream",
     "text": [
      "Finished.\n",
      "57 input query terms found dup hits:\n",
      "\t[('VLA1', 2), ('RD6', 2), ('JANUS', 10), ('SPRED1', 2), ('RELAXIN', 10), ('VA', 5), ('DAP10', 2), ('\n",
      "189 input query terms found no hit:\n",
      "\t['TREGULATORYCELLTYPE', 'ANGIOGENICGROWTHFACTOR', 'HPV16E6', 'ESCC', 'ME6D', 'ME7', 'TBHSP70D', 'BET\n",
      "Pass \"returnall=True\" to return complete lists of duplicate or missing query terms.\n",
      "querying 1-258...done.\n"
     ]
    },
    {
     "name": "stderr",
     "output_type": "stream",
     "text": [
      "\r",
      " 95%|█████████▌| 19/20 [00:45<00:02,  2.25s/it]"
     ]
    },
    {
     "name": "stdout",
     "output_type": "stream",
     "text": [
      "Finished.\n",
      "60 input query terms found dup hits:\n",
      "\t[('A21', 6), ('IFNB1', 2), ('MCP3', 2), ('MIP3B', 2), ('AB1', 4), ('PDE4B', 2), ('PDE4A', 2), ('H1R'\n",
      "184 input query terms found no hit:\n",
      "\t['HTYR', 'MTYR', 'NONSELF', 'CTLASSOCIATEDAG4', 'CD3SFV', 'ALLERGENANDRECALL', 'LAGE1', 'DRB10401', \n",
      "Pass \"returnall=True\" to return complete lists of duplicate or missing query terms.\n",
      "querying 1-258...done.\n"
     ]
    },
    {
     "name": "stderr",
     "output_type": "stream",
     "text": [
      "\r",
      "100%|██████████| 20/20 [00:48<00:00,  2.50s/it]"
     ]
    },
    {
     "name": "stdout",
     "output_type": "stream",
     "text": [
      "Finished.\n",
      "44 input query terms found dup hits:\n",
      "\t[('CARDIOLIPIN', 2), ('ID', 8), ('ABPA', 2), ('JUN', 10), ('NKRP1A', 2), ('CAK', 4), ('PHOSPHODIESTE\n",
      "192 input query terms found no hit:\n",
      "\t['BSAB', 'THROMBOPLASTIN', 'APTT', 'P38AMITOGENACTIVATEDPROTEINKINASE', 'GGLOBULIN', 'DHGG', 'THELPE\n",
      "Pass \"returnall=True\" to return complete lists of duplicate or missing query terms.\n"
     ]
    },
    {
     "name": "stderr",
     "output_type": "stream",
     "text": [
      "\n"
     ]
    }
   ],
   "source": [
    "# See full list: http://docs.mygene.info/en/latest/doc/data.html#species\n",
    "SPECIES = {9606: 'human', 10090: 'mouse'}\n",
    "\n",
    "def query(terms):\n",
    "    df = mg.querymany(\n",
    "        terms,\n",
    "        scopes=[\"symbol\", \"retired\", \"name\", \"alias\"],\n",
    "        fields='symbol,name,taxid,ensembl.gene,alias', \n",
    "        species='human,mouse', \n",
    "        ensemblonly=True,\n",
    "        as_dataframe=True\n",
    "    )\n",
    "    if 'taxid' in df:\n",
    "        df['species'] = df['taxid'].apply(lambda v: None if pd.isnull(v) else SPECIES.get(int(v), 'unknown'))\n",
    "    return df\n",
    "\n",
    "df_res = []\n",
    "for batch in tqdm.tqdm(q_pr):\n",
    "    df_res.append(query(list(batch)))\n",
    "    \n",
    "df_res = pd.concat(df_res)"
   ]
  },
  {
   "cell_type": "code",
   "execution_count": 9,
   "metadata": {},
   "outputs": [
    {
     "name": "stdout",
     "output_type": "stream",
     "text": [
      "<class 'pandas.core.frame.DataFrame'>\n",
      "Index: 10216 entries, FCGRIIB to CYA\n",
      "Data columns (total 10 columns):\n",
      "_id             6908 non-null object\n",
      "_score          6908 non-null float64\n",
      "alias           5813 non-null object\n",
      "ensembl         244 non-null object\n",
      "ensembl.gene    5575 non-null object\n",
      "name            6908 non-null object\n",
      "notfound        3308 non-null object\n",
      "symbol          6908 non-null object\n",
      "taxid           6908 non-null float64\n",
      "species         6908 non-null object\n",
      "dtypes: float64(2), object(8)\n",
      "memory usage: 877.9+ KB\n"
     ]
    }
   ],
   "source": [
    "df_res.info()"
   ]
  },
  {
   "cell_type": "code",
   "execution_count": 10,
   "metadata": {},
   "outputs": [
    {
     "data": {
      "text/html": [
       "<div>\n",
       "<style scoped>\n",
       "    .dataframe tbody tr th:only-of-type {\n",
       "        vertical-align: middle;\n",
       "    }\n",
       "\n",
       "    .dataframe tbody tr th {\n",
       "        vertical-align: top;\n",
       "    }\n",
       "\n",
       "    .dataframe thead th {\n",
       "        text-align: right;\n",
       "    }\n",
       "</style>\n",
       "<table border=\"1\" class=\"dataframe\">\n",
       "  <thead>\n",
       "    <tr style=\"text-align: right;\">\n",
       "      <th></th>\n",
       "      <th>_id</th>\n",
       "      <th>_score</th>\n",
       "      <th>alias</th>\n",
       "      <th>ensembl</th>\n",
       "      <th>ensembl.gene</th>\n",
       "      <th>name</th>\n",
       "      <th>notfound</th>\n",
       "      <th>symbol</th>\n",
       "      <th>taxid</th>\n",
       "      <th>species</th>\n",
       "    </tr>\n",
       "    <tr>\n",
       "      <th>query</th>\n",
       "      <th></th>\n",
       "      <th></th>\n",
       "      <th></th>\n",
       "      <th></th>\n",
       "      <th></th>\n",
       "      <th></th>\n",
       "      <th></th>\n",
       "      <th></th>\n",
       "      <th></th>\n",
       "      <th></th>\n",
       "    </tr>\n",
       "  </thead>\n",
       "  <tbody>\n",
       "    <tr>\n",
       "      <th>FCGRIIB</th>\n",
       "      <td>NaN</td>\n",
       "      <td>NaN</td>\n",
       "      <td>NaN</td>\n",
       "      <td>NaN</td>\n",
       "      <td>NaN</td>\n",
       "      <td>NaN</td>\n",
       "      <td>True</td>\n",
       "      <td>NaN</td>\n",
       "      <td>NaN</td>\n",
       "      <td>None</td>\n",
       "    </tr>\n",
       "    <tr>\n",
       "      <th>IL2</th>\n",
       "      <td>3558</td>\n",
       "      <td>91.855820</td>\n",
       "      <td>[IL-2, TCGF, lymphokine]</td>\n",
       "      <td>NaN</td>\n",
       "      <td>ENSG00000109471</td>\n",
       "      <td>interleukin 2</td>\n",
       "      <td>NaN</td>\n",
       "      <td>IL2</td>\n",
       "      <td>9606.0</td>\n",
       "      <td>human</td>\n",
       "    </tr>\n",
       "    <tr>\n",
       "      <th>IL2</th>\n",
       "      <td>16183</td>\n",
       "      <td>76.127144</td>\n",
       "      <td>Il-2</td>\n",
       "      <td>NaN</td>\n",
       "      <td>ENSMUSG00000027720</td>\n",
       "      <td>interleukin 2</td>\n",
       "      <td>NaN</td>\n",
       "      <td>Il2</td>\n",
       "      <td>10090.0</td>\n",
       "      <td>mouse</td>\n",
       "    </tr>\n",
       "    <tr>\n",
       "      <th>IL2</th>\n",
       "      <td>3702</td>\n",
       "      <td>12.199604</td>\n",
       "      <td>[EMT, LPFS1, LYK, PSCTK2]</td>\n",
       "      <td>NaN</td>\n",
       "      <td>ENSG00000113263</td>\n",
       "      <td>IL2 inducible T cell kinase</td>\n",
       "      <td>NaN</td>\n",
       "      <td>ITK</td>\n",
       "      <td>9606.0</td>\n",
       "      <td>human</td>\n",
       "    </tr>\n",
       "    <tr>\n",
       "      <th>IL2</th>\n",
       "      <td>16428</td>\n",
       "      <td>10.449790</td>\n",
       "      <td>[Emt, Tcsk, Tsk]</td>\n",
       "      <td>NaN</td>\n",
       "      <td>ENSMUSG00000020395</td>\n",
       "      <td>IL2 inducible T cell kinase</td>\n",
       "      <td>NaN</td>\n",
       "      <td>Itk</td>\n",
       "      <td>10090.0</td>\n",
       "      <td>mouse</td>\n",
       "    </tr>\n",
       "  </tbody>\n",
       "</table>\n",
       "</div>"
      ],
      "text/plain": [
       "           _id     _score                      alias ensembl  \\\n",
       "query                                                          \n",
       "FCGRIIB    NaN        NaN                        NaN     NaN   \n",
       "IL2       3558  91.855820   [IL-2, TCGF, lymphokine]     NaN   \n",
       "IL2      16183  76.127144                       Il-2     NaN   \n",
       "IL2       3702  12.199604  [EMT, LPFS1, LYK, PSCTK2]     NaN   \n",
       "IL2      16428  10.449790           [Emt, Tcsk, Tsk]     NaN   \n",
       "\n",
       "               ensembl.gene                         name notfound symbol  \\\n",
       "query                                                                      \n",
       "FCGRIIB                 NaN                          NaN     True    NaN   \n",
       "IL2         ENSG00000109471                interleukin 2      NaN    IL2   \n",
       "IL2      ENSMUSG00000027720                interleukin 2      NaN    Il2   \n",
       "IL2         ENSG00000113263  IL2 inducible T cell kinase      NaN    ITK   \n",
       "IL2      ENSMUSG00000020395  IL2 inducible T cell kinase      NaN    Itk   \n",
       "\n",
       "           taxid species  \n",
       "query                     \n",
       "FCGRIIB      NaN    None  \n",
       "IL2       9606.0   human  \n",
       "IL2      10090.0   mouse  \n",
       "IL2       9606.0   human  \n",
       "IL2      10090.0   mouse  "
      ]
     },
     "execution_count": 10,
     "metadata": {},
     "output_type": "execute_result"
    }
   ],
   "source": [
    "df_res.head()"
   ]
  },
  {
   "cell_type": "code",
   "execution_count": 11,
   "metadata": {},
   "outputs": [
    {
     "data": {
      "text/plain": [
       "True"
      ]
     },
     "execution_count": 11,
     "metadata": {},
     "output_type": "execute_result"
    }
   ],
   "source": [
    "df_qlkp = df_query.set_index('query')\n",
    "df_qlkp.index.is_unique"
   ]
  },
  {
   "cell_type": "code",
   "execution_count": 12,
   "metadata": {},
   "outputs": [
    {
     "data": {
      "text/html": [
       "<div>\n",
       "<style scoped>\n",
       "    .dataframe tbody tr th:only-of-type {\n",
       "        vertical-align: middle;\n",
       "    }\n",
       "\n",
       "    .dataframe tbody tr th {\n",
       "        vertical-align: top;\n",
       "    }\n",
       "\n",
       "    .dataframe thead th {\n",
       "        text-align: right;\n",
       "    }\n",
       "</style>\n",
       "<table border=\"1\" class=\"dataframe\">\n",
       "  <thead>\n",
       "    <tr style=\"text-align: right;\">\n",
       "      <th></th>\n",
       "      <th>value_norm</th>\n",
       "    </tr>\n",
       "    <tr>\n",
       "      <th>query</th>\n",
       "      <th></th>\n",
       "    </tr>\n",
       "  </thead>\n",
       "  <tbody>\n",
       "    <tr>\n",
       "      <th>FCGRIIB</th>\n",
       "      <td>FCGRIIB</td>\n",
       "    </tr>\n",
       "    <tr>\n",
       "      <th>IL2</th>\n",
       "      <td>IL2</td>\n",
       "    </tr>\n",
       "    <tr>\n",
       "      <th>FOXP3</th>\n",
       "      <td>FOXP3</td>\n",
       "    </tr>\n",
       "    <tr>\n",
       "      <th>CD4</th>\n",
       "      <td>CD4</td>\n",
       "    </tr>\n",
       "    <tr>\n",
       "      <th>TCR</th>\n",
       "      <td>TCR</td>\n",
       "    </tr>\n",
       "  </tbody>\n",
       "</table>\n",
       "</div>"
      ],
      "text/plain": [
       "        value_norm\n",
       "query             \n",
       "FCGRIIB    FCGRIIB\n",
       "IL2            IL2\n",
       "FOXP3        FOXP3\n",
       "CD4            CD4\n",
       "TCR            TCR"
      ]
     },
     "execution_count": 12,
     "metadata": {},
     "output_type": "execute_result"
    }
   ],
   "source": [
    "df_qlkp.head()"
   ]
  },
  {
   "cell_type": "code",
   "execution_count": 13,
   "metadata": {},
   "outputs": [
    {
     "name": "stdout",
     "output_type": "stream",
     "text": [
      "<class 'pandas.core.frame.DataFrame'>\n",
      "Int64Index: 6908 entries, 1 to 10214\n",
      "Data columns (total 7 columns):\n",
      "id             6908 non-null object\n",
      "score          6908 non-null float64\n",
      "sym            6908 non-null object\n",
      "name           6908 non-null object\n",
      "ensemblgene    5575 non-null object\n",
      "species        6908 non-null object\n",
      "value_norm     6908 non-null object\n",
      "dtypes: float64(1), object(6)\n",
      "memory usage: 431.8+ KB\n"
     ]
    }
   ],
   "source": [
    "# Merge results by query string back to query frame containing original protein symbol\n",
    "df_res_pr = pd.merge(\n",
    "    df_res.reset_index(), \n",
    "    df_qlkp.reset_index(),\n",
    "    on='query',\n",
    "    how='left'\n",
    ")\n",
    "\n",
    "# Reorganize some field names\n",
    "df_res_pr = df_res_pr.rename(columns={\n",
    "    '_id': 'id', \n",
    "    '_score': 'score', \n",
    "    'ensembl.gene': 'ensemblgene',\n",
    "    'symbol': 'sym'\n",
    "})\n",
    "\n",
    "# Remove results with no match\n",
    "df_res_pr = df_res_pr[df_res_pr['id'].notnull()]\n",
    "df_res_pr = df_res_pr[['id', 'score', 'sym', 'name', 'ensemblgene', 'species', qfld]]\n",
    "\n",
    "df_res_pr['ensemblgene'] = df_res_pr['ensemblgene'].str.strip()\n",
    "\n",
    "# Ensure that remaining records all have a reference to pubmed protein name\n",
    "assert df_res_pr[qfld].notnull().all()\n",
    "\n",
    "df_res_pr.info()"
   ]
  },
  {
   "cell_type": "code",
   "execution_count": 14,
   "metadata": {},
   "outputs": [
    {
     "data": {
      "text/html": [
       "<div>\n",
       "<style scoped>\n",
       "    .dataframe tbody tr th:only-of-type {\n",
       "        vertical-align: middle;\n",
       "    }\n",
       "\n",
       "    .dataframe tbody tr th {\n",
       "        vertical-align: top;\n",
       "    }\n",
       "\n",
       "    .dataframe thead th {\n",
       "        text-align: right;\n",
       "    }\n",
       "</style>\n",
       "<table border=\"1\" class=\"dataframe\">\n",
       "  <thead>\n",
       "    <tr style=\"text-align: right;\">\n",
       "      <th></th>\n",
       "      <th>id</th>\n",
       "      <th>score</th>\n",
       "      <th>sym</th>\n",
       "      <th>name</th>\n",
       "      <th>ensemblgene</th>\n",
       "      <th>species</th>\n",
       "      <th>value_norm</th>\n",
       "    </tr>\n",
       "  </thead>\n",
       "  <tbody>\n",
       "    <tr>\n",
       "      <th>1</th>\n",
       "      <td>3558</td>\n",
       "      <td>91.855820</td>\n",
       "      <td>IL2</td>\n",
       "      <td>interleukin 2</td>\n",
       "      <td>ENSG00000109471</td>\n",
       "      <td>human</td>\n",
       "      <td>IL2</td>\n",
       "    </tr>\n",
       "    <tr>\n",
       "      <th>2</th>\n",
       "      <td>16183</td>\n",
       "      <td>76.127144</td>\n",
       "      <td>Il2</td>\n",
       "      <td>interleukin 2</td>\n",
       "      <td>ENSMUSG00000027720</td>\n",
       "      <td>mouse</td>\n",
       "      <td>IL2</td>\n",
       "    </tr>\n",
       "    <tr>\n",
       "      <th>3</th>\n",
       "      <td>3702</td>\n",
       "      <td>12.199604</td>\n",
       "      <td>ITK</td>\n",
       "      <td>IL2 inducible T cell kinase</td>\n",
       "      <td>ENSG00000113263</td>\n",
       "      <td>human</td>\n",
       "      <td>IL2</td>\n",
       "    </tr>\n",
       "    <tr>\n",
       "      <th>4</th>\n",
       "      <td>16428</td>\n",
       "      <td>10.449790</td>\n",
       "      <td>Itk</td>\n",
       "      <td>IL2 inducible T cell kinase</td>\n",
       "      <td>ENSMUSG00000020395</td>\n",
       "      <td>mouse</td>\n",
       "      <td>IL2</td>\n",
       "    </tr>\n",
       "    <tr>\n",
       "      <th>5</th>\n",
       "      <td>50943</td>\n",
       "      <td>87.493290</td>\n",
       "      <td>FOXP3</td>\n",
       "      <td>forkhead box P3</td>\n",
       "      <td>ENSG00000049768</td>\n",
       "      <td>human</td>\n",
       "      <td>FOXP3</td>\n",
       "    </tr>\n",
       "  </tbody>\n",
       "</table>\n",
       "</div>"
      ],
      "text/plain": [
       "      id      score    sym                         name         ensemblgene  \\\n",
       "1   3558  91.855820    IL2                interleukin 2     ENSG00000109471   \n",
       "2  16183  76.127144    Il2                interleukin 2  ENSMUSG00000027720   \n",
       "3   3702  12.199604    ITK  IL2 inducible T cell kinase     ENSG00000113263   \n",
       "4  16428  10.449790    Itk  IL2 inducible T cell kinase  ENSMUSG00000020395   \n",
       "5  50943  87.493290  FOXP3              forkhead box P3     ENSG00000049768   \n",
       "\n",
       "  species value_norm  \n",
       "1   human        IL2  \n",
       "2   mouse        IL2  \n",
       "3   human        IL2  \n",
       "4   mouse        IL2  \n",
       "5   human      FOXP3  "
      ]
     },
     "execution_count": 14,
     "metadata": {},
     "output_type": "execute_result"
    }
   ],
   "source": [
    "df_res_pr.head()"
   ]
  },
  {
   "cell_type": "code",
   "execution_count": 15,
   "metadata": {},
   "outputs": [
    {
     "data": {
      "text/plain": [
       "<matplotlib.axes._subplots.AxesSubplot at 0x11dfca208>"
      ]
     },
     "execution_count": 15,
     "metadata": {},
     "output_type": "execute_result"
    },
    {
     "data": {
      "image/png": "[encoded data removed]",
      "text/plain": [
       "<Figure size 864x216 with 1 Axes>"
      ]
     },
     "metadata": {
      "needs_background": "light"
     },
     "output_type": "display_data"
    }
   ],
   "source": [
    "df_res_pr['score'].hist(bins=32, figsize=(12, 3))"
   ]
  },
  {
   "cell_type": "code",
   "execution_count": 16,
   "metadata": {},
   "outputs": [
    {
     "data": {
      "text/plain": [
       "human    4125\n",
       "mouse    2783\n",
       "Name: species, dtype: int64"
      ]
     },
     "execution_count": 16,
     "metadata": {},
     "output_type": "execute_result"
    }
   ],
   "source": [
    "# Validate that all species results were resolved\n",
    "assert df_res_pr['species'].isin(SPECIES.values()).all()\n",
    "df_res_pr['species'].value_counts()"
   ]
  },
  {
   "cell_type": "markdown",
   "metadata": {},
   "source": [
    "## Add transcription factor flag"
   ]
  },
  {
   "cell_type": "code",
   "execution_count": 17,
   "metadata": {},
   "outputs": [
    {
     "data": {
      "text/plain": [
       "False    6582\n",
       "True      326\n",
       "Name: is_tf, dtype: int64"
      ]
     },
     "execution_count": 17,
     "metadata": {},
     "output_type": "execute_result"
    }
   ],
   "source": [
    "# This is small enough that it doesn't need a separate annotation notebook\n",
    "df_tf = pd.read_csv(osp.join(DATA_DIR, 'human_tfs.csv'))\n",
    "df_tf['ensemblid'] = df_tf['ensemblid'].str.strip()\n",
    "df_res_pr['is_tf'] = df_res_pr['ensemblgene'].isin(df_tf['ensemblid'].unique())\n",
    "df_res_pr['is_tf'].value_counts()"
   ]
  },
  {
   "cell_type": "markdown",
   "metadata": {},
   "source": [
    "## Export"
   ]
  },
  {
   "cell_type": "code",
   "execution_count": 18,
   "metadata": {},
   "outputs": [
    {
     "name": "stdout",
     "output_type": "stream",
     "text": [
      "<class 'pandas.core.frame.DataFrame'>\n",
      "Int64Index: 6908 entries, 1 to 10214\n",
      "Data columns (total 8 columns):\n",
      "id               6908 non-null object\n",
      "score            6908 non-null float64\n",
      "sym              6908 non-null object\n",
      "name             6908 non-null object\n",
      "ensemblgene      5575 non-null object\n",
      "species          6908 non-null object\n",
      "pr_value_norm    6908 non-null object\n",
      "is_tf            6908 non-null bool\n",
      "dtypes: bool(1), float64(1), object(6)\n",
      "memory usage: 438.5+ KB\n"
     ]
    }
   ],
   "source": [
    "# For consistency with other annotation notebooks, prefix field originating\n",
    "# from pubmed protein table\n",
    "df_exp = df_res_pr.rename(columns={qfld: 'pr_' + qfld})\n",
    "df_exp.info()"
   ]
  },
  {
   "cell_type": "code",
   "execution_count": 20,
   "metadata": {},
   "outputs": [
    {
     "data": {
      "text/plain": [
       "'data/pubmed_mygene_protein_annotations.csv'"
      ]
     },
     "execution_count": 20,
     "metadata": {},
     "output_type": "execute_result"
    }
   ],
   "source": [
    "path = osp.join(DATA_DIR, 'pubmed_mygene_protein_annotations.csv')\n",
    "df_exp.to_csv(path, index=False)\n",
    "path"
   ]
  }
 ],
 "metadata": {
  "kernelspec": {
   "display_name": "Python 3",
   "language": "python",
   "name": "python3"
  },
  "language_info": {
   "codemirror_mode": {
    "name": "ipython",
    "version": 3
   },
   "file_extension": ".py",
   "mimetype": "text/x-python",
   "name": "python",
   "nbconvert_exporter": "python",
   "pygments_lexer": "ipython3",
   "version": "3.6.7"
  }
 },
 "nbformat": 4,
 "nbformat_minor": 2
}
