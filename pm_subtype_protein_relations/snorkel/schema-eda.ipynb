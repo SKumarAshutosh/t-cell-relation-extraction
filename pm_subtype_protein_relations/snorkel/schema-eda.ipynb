{
 "cells": [
  {
   "cell_type": "code",
   "execution_count": 1,
   "metadata": {},
   "outputs": [],
   "source": [
    "from snorkel import SnorkelSession\n",
    "from snorkel.models import StableLabel\n",
    "session = SnorkelSession()"
   ]
  },
  {
   "cell_type": "code",
   "execution_count": 2,
   "metadata": {},
   "outputs": [],
   "source": [
    "from sqlalchemy import MetaData\n",
    "m = MetaData()\n",
    "m.reflect(session.connection())"
   ]
  },
  {
   "cell_type": "code",
   "execution_count": 3,
   "metadata": {},
   "outputs": [
    {
     "data": {
      "text/plain": [
       "dict_keys(['candidate', 'context', 'document', 'feature', 'feature_key', 'gold_label', 'gold_label_key', 'inducing_cytokine', 'inducing_transcription_factor', 'label', 'label_key', 'marginal', 'prediction', 'prediction_key', 'secreted_cytokine', 'sentence', 'span', 'stable_label'])"
      ]
     },
     "execution_count": 3,
     "metadata": {},
     "output_type": "execute_result"
    }
   ],
   "source": [
    "m.tables.keys()"
   ]
  },
  {
   "cell_type": "code",
   "execution_count": 4,
   "metadata": {},
   "outputs": [
    {
     "data": {
      "text/plain": [
       "Table('stable_label', MetaData(bind=None), Column('context_stable_ids', VARCHAR(), table=<stable_label>, primary_key=True, nullable=False), Column('annotator_name', VARCHAR(), table=<stable_label>, primary_key=True, nullable=False), Column('split', INTEGER(), table=<stable_label>), Column('value', INTEGER(), table=<stable_label>, nullable=False), schema=None)"
      ]
     },
     "execution_count": 4,
     "metadata": {},
     "output_type": "execute_result"
    }
   ],
   "source": [
    "tbl = m.tables['stable_label']\n",
    "tbl"
   ]
  },
  {
   "cell_type": "code",
   "execution_count": 5,
   "metadata": {},
   "outputs": [
    {
     "ename": "KeyError",
     "evalue": "'inducing_cytokine'",
     "output_type": "error",
     "traceback": [
      "\u001b[0;31m---------------------------------------------------------------------------\u001b[0m",
      "\u001b[0;31mKeyError\u001b[0m                                  Traceback (most recent call last)",
      "\u001b[0;32m<ipython-input-5-94bee261f859>\u001b[0m in \u001b[0;36m<module>\u001b[0;34m\u001b[0m\n\u001b[0;32m----> 1\u001b[0;31m \u001b[0mm\u001b[0m\u001b[0;34m.\u001b[0m\u001b[0mtables\u001b[0m\u001b[0;34m[\u001b[0m\u001b[0;34m'inducing_cytokine'\u001b[0m\u001b[0;34m]\u001b[0m\u001b[0;34m\u001b[0m\u001b[0;34m\u001b[0m\u001b[0m\n\u001b[0m",
      "\u001b[0;31mKeyError\u001b[0m: 'inducing_cytokine'"
     ]
    }
   ],
   "source": [
    "m.tables['inducing_cytokine']"
   ]
  },
  {
   "cell_type": "code",
   "execution_count": 5,
   "metadata": {},
   "outputs": [
    {
     "data": {
      "text/plain": [
       "Table('inducing_transcription_factor', MetaData(bind=None), Column('id', INTEGER(), ForeignKey('candidate.id'), table=<inducing_transcription_factor>, primary_key=True, nullable=False), Column('cytokine_id', INTEGER(), ForeignKey('context.id'), table=<inducing_transcription_factor>), Column('cytokine_cid', VARCHAR(), table=<inducing_transcription_factor>), Column('immune_cell_type_id', INTEGER(), ForeignKey('context.id'), table=<inducing_transcription_factor>), Column('immune_cell_type_cid', VARCHAR(), table=<inducing_transcription_factor>), schema=None)"
      ]
     },
     "execution_count": 5,
     "metadata": {},
     "output_type": "execute_result"
    }
   ],
   "source": [
    "m.tables['inducing_transcription_factor']"
   ]
  },
  {
   "cell_type": "code",
   "execution_count": 9,
   "metadata": {},
   "outputs": [
    {
     "data": {
      "text/plain": [
       "212"
      ]
     },
     "execution_count": 9,
     "metadata": {},
     "output_type": "execute_result"
    }
   ],
   "source": [
    "from snorkel.models import StableLabel\n",
    "session.query(StableLabel).count()"
   ]
  }
 ],
 "metadata": {
  "kernelspec": {
   "display_name": "Python (snorkel)",
   "language": "python",
   "name": "snorkel"
  },
  "language_info": {
   "codemirror_mode": {
    "name": "ipython",
    "version": 3
   },
   "file_extension": ".py",
   "mimetype": "text/x-python",
   "name": "python",
   "nbconvert_exporter": "python",
   "pygments_lexer": "ipython3",
   "version": "3.6.7"
  }
 },
 "nbformat": 4,
 "nbformat_minor": 2
}
