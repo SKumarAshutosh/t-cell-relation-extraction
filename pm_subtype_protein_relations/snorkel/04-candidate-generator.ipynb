{
 "cells": [
  {
   "cell_type": "code",
   "execution_count": 5,
   "metadata": {},
   "outputs": [],
   "source": [
    "import os\n",
    "import os.path as osp\n",
    "import pandas as pd\n",
    "import numpy as np\n",
    "import snorkel\n",
    "import dotenv\n",
    "from snorkel.parser import TextDocPreprocessor\n",
    "from snorkel.parser import CorpusParser\n",
    "from snorkel import SnorkelSession\n",
    "\n",
    "dotenv.load_dotenv('../env.sh')\n",
    "corpus_dir = osp.join(os.environ['DATA_DIR'], 'articles', 'corpus', 'corpus_00')\n",
    "corpus_docs_dir = osp.join(corpus_dir, 'links')\n",
    "#collection_dir = osp.join(os.environ['REPO_DATA_DIR'], 'brat', 'collection_01')\n",
    "collection_dir = osp.join(os.environ['REPO_DATA_DIR'], 'brat', 'collection_02')\n",
    "session = SnorkelSession()"
   ]
  },
  {
   "cell_type": "code",
   "execution_count": 6,
   "metadata": {},
   "outputs": [],
   "source": [
    "#doc_preprocessor = TextDocPreprocessor(corpus_docs_dir, max_docs=10)\n",
    "doc_preprocessor = TextDocPreprocessor(corpus_docs_dir)"
   ]
  },
  {
   "cell_type": "code",
   "execution_count": 10,
   "metadata": {},
   "outputs": [
    {
     "name": "stdout",
     "output_type": "stream",
     "text": [
      "CYTOKINE                19632\n",
      "TCELL_TYPE              19514\n",
      "TRANSCRIPTION_FACTOR    16834\n",
      "Name: type, dtype: int64\n"
     ]
    },
    {
     "data": {
      "text/html": [
       "<div>\n",
       "<style scoped>\n",
       "    .dataframe tbody tr th:only-of-type {\n",
       "        vertical-align: middle;\n",
       "    }\n",
       "\n",
       "    .dataframe tbody tr th {\n",
       "        vertical-align: top;\n",
       "    }\n",
       "\n",
       "    .dataframe thead th {\n",
       "        text-align: right;\n",
       "    }\n",
       "</style>\n",
       "<table border=\"1\" class=\"dataframe\">\n",
       "  <thead>\n",
       "    <tr style=\"text-align: right;\">\n",
       "      <th></th>\n",
       "      <th>id</th>\n",
       "      <th>type</th>\n",
       "      <th>ent_id</th>\n",
       "      <th>ent_lbl</th>\n",
       "      <th>start_chr</th>\n",
       "      <th>end_chr</th>\n",
       "      <th>start_wrd</th>\n",
       "      <th>end_wrd</th>\n",
       "      <th>text</th>\n",
       "    </tr>\n",
       "  </thead>\n",
       "  <tbody>\n",
       "    <tr>\n",
       "      <th>1</th>\n",
       "      <td>PMC5743442</td>\n",
       "      <td>TCELL_TYPE</td>\n",
       "      <td>CTBFBDE5121B6748D1</td>\n",
       "      <td>Th17</td>\n",
       "      <td>65</td>\n",
       "      <td>69</td>\n",
       "      <td>8</td>\n",
       "      <td>9</td>\n",
       "      <td>Th17</td>\n",
       "    </tr>\n",
       "    <tr>\n",
       "      <th>2</th>\n",
       "      <td>PMC5743442</td>\n",
       "      <td>TCELL_TYPE</td>\n",
       "      <td>CTBFBDE5121B6748D1</td>\n",
       "      <td>Th17</td>\n",
       "      <td>87</td>\n",
       "      <td>91</td>\n",
       "      <td>11</td>\n",
       "      <td>12</td>\n",
       "      <td>Th17</td>\n",
       "    </tr>\n",
       "    <tr>\n",
       "      <th>3</th>\n",
       "      <td>PMC5743442</td>\n",
       "      <td>CYTOKINE</td>\n",
       "      <td>CK1C5A7BDC959D1365</td>\n",
       "      <td>TGF-β1</td>\n",
       "      <td>174</td>\n",
       "      <td>179</td>\n",
       "      <td>25</td>\n",
       "      <td>26</td>\n",
       "      <td>TGF-β</td>\n",
       "    </tr>\n",
       "    <tr>\n",
       "      <th>4</th>\n",
       "      <td>PMC5743442</td>\n",
       "      <td>TCELL_TYPE</td>\n",
       "      <td>CTBFBDE5121B6748D1</td>\n",
       "      <td>Th17</td>\n",
       "      <td>199</td>\n",
       "      <td>203</td>\n",
       "      <td>29</td>\n",
       "      <td>30</td>\n",
       "      <td>Th17</td>\n",
       "    </tr>\n",
       "    <tr>\n",
       "      <th>6</th>\n",
       "      <td>PMC5743442</td>\n",
       "      <td>CYTOKINE</td>\n",
       "      <td>CK1C5A7BDC959D1365</td>\n",
       "      <td>TGF-β1</td>\n",
       "      <td>275</td>\n",
       "      <td>280</td>\n",
       "      <td>42</td>\n",
       "      <td>43</td>\n",
       "      <td>TGF-β</td>\n",
       "    </tr>\n",
       "  </tbody>\n",
       "</table>\n",
       "</div>"
      ],
      "text/plain": [
       "           id        type              ent_id ent_lbl  start_chr  end_chr  \\\n",
       "1  PMC5743442  TCELL_TYPE  CTBFBDE5121B6748D1    Th17         65       69   \n",
       "2  PMC5743442  TCELL_TYPE  CTBFBDE5121B6748D1    Th17         87       91   \n",
       "3  PMC5743442    CYTOKINE  CK1C5A7BDC959D1365  TGF-β1        174      179   \n",
       "4  PMC5743442  TCELL_TYPE  CTBFBDE5121B6748D1    Th17        199      203   \n",
       "6  PMC5743442    CYTOKINE  CK1C5A7BDC959D1365  TGF-β1        275      280   \n",
       "\n",
       "   start_wrd  end_wrd   text  \n",
       "1          8        9   Th17  \n",
       "2         11       12   Th17  \n",
       "3         25       26  TGF-β  \n",
       "4         29       30   Th17  \n",
       "6         42       43  TGF-β  "
      ]
     },
     "execution_count": 10,
     "metadata": {},
     "output_type": "execute_result"
    }
   ],
   "source": [
    "tags = pd.read_csv(osp.join(corpus_dir, 'tags.csv'))\n",
    "tags = tags[tags['type'].isin(['TCELL_TYPE', 'TRANSCRIPTION_FACTOR', 'CYTOKINE'])]\n",
    "print(tags['type'].value_counts())\n",
    "tags.head()"
   ]
  },
  {
   "cell_type": "code",
   "execution_count": 11,
   "metadata": {},
   "outputs": [
    {
     "data": {
      "text/plain": [
       "{'PMC4423225': True,\n",
       " 'PMC3850168': True,\n",
       " 'PMC4056277': True,\n",
       " 'PMC3246047': True,\n",
       " 'PMC4337382': True,\n",
       " 'PMC6197911': True,\n",
       " 'PMC4291544': True,\n",
       " 'PMC5876181': True,\n",
       " 'PMC6282816': True,\n",
       " 'PMC5611846': True,\n",
       " 'PMC5578684': True,\n",
       " 'PMC3317433': False,\n",
       " 'PMC2196041': True,\n",
       " 'PMC5343661': True,\n",
       " 'PMC5020626': True,\n",
       " 'PMC4905708': True,\n",
       " 'PMC4214202': True,\n",
       " 'PMC4100769': False,\n",
       " 'PMC3321800': True,\n",
       " 'PMC5118948': True,\n",
       " 'PMC5052263': True,\n",
       " 'PMC2646571': True,\n",
       " 'PMC3750006': True,\n",
       " 'PMC4474185': True,\n",
       " 'PMC5464295': True,\n",
       " 'PMC5191835': True,\n",
       " 'PMC5206501': True,\n",
       " 'PMC3304099': True,\n",
       " 'PMC2805085': True,\n",
       " 'PMC4241840': True,\n",
       " 'PMC4233385': True,\n",
       " 'PMC3064981': True,\n",
       " 'PMC5429091': True,\n",
       " 'PMC3639604': True,\n",
       " 'PMC5749247': False,\n",
       " 'PMC5611819': True,\n",
       " 'PMC3926063': True,\n",
       " 'PMC6141714': True,\n",
       " 'PMC6373736': False,\n",
       " 'PMC3092345': True,\n",
       " 'PMC200936': True,\n",
       " 'PMC4959015': True,\n",
       " 'PMC6122729': True,\n",
       " 'PMC6372559': True,\n",
       " 'PMC4084624': True,\n",
       " 'PMC2634967': True,\n",
       " 'PMC4592272': True,\n",
       " 'PMC3842119': True,\n",
       " 'PMC3204990': True,\n",
       " 'PMC4023883': True,\n",
       " 'PMC4856445': True,\n",
       " 'PMC3650071': True,\n",
       " 'PMC4418002': True,\n",
       " 'PMC5833121': False,\n",
       " 'PMC4168117': True,\n",
       " 'PMC6274670': True,\n",
       " 'PMC4159719': True,\n",
       " 'PMC3189223': True,\n",
       " 'PMC4451961': True,\n",
       " 'PMC5293011': True,\n",
       " 'PMC3927957': True,\n",
       " 'PMC3249647': True,\n",
       " 'PMC3787487': True,\n",
       " 'PMC2989239': False,\n",
       " 'PMC4224975': True,\n",
       " 'PMC5727967': True,\n",
       " 'PMC5417820': False,\n",
       " 'PMC6290922': True,\n",
       " 'PMC6092975': True,\n",
       " 'PMC5519767': True,\n",
       " 'PMC5112176': True,\n",
       " 'PMC4426480': True,\n",
       " 'PMC5257256': True,\n",
       " 'PMC3095633': True,\n",
       " 'PMC5342705': True,\n",
       " 'PMC2193209': True,\n",
       " 'PMC2772737': True,\n",
       " 'PMC3228524': True,\n",
       " 'PMC2983473': False,\n",
       " 'PMC3067507': True,\n",
       " 'PMC5648021': True,\n",
       " 'PMC3323935': True,\n",
       " 'PMC4418961': True,\n",
       " 'PMC2783637': True,\n",
       " 'PMC4385920': True,\n",
       " 'PMC4151505': True,\n",
       " 'PMC5923349': True,\n",
       " 'PMC5290235': True,\n",
       " 'PMC3854702': True,\n",
       " 'PMC3791721': True,\n",
       " 'PMC5983667': True,\n",
       " 'PMC2938478': True,\n",
       " 'PMC4628936': True,\n",
       " 'PMC4552951': True,\n",
       " 'PMC5520220': True,\n",
       " 'PMC4649113': True,\n",
       " 'PMC4710466': True,\n",
       " 'PMC6130380': True,\n",
       " 'PMC6157333': True,\n",
       " 'PMC5591438': True,\n",
       " 'PMC4720349': True,\n",
       " 'PMC3235500': True,\n",
       " 'PMC2587175': True,\n",
       " 'PMC4007342': True,\n",
       " 'PMC4851424': True,\n",
       " 'PMC3711858': True,\n",
       " 'PMC3855395': True,\n",
       " 'PMC2996551': True,\n",
       " 'PMC3046151': True,\n",
       " 'PMC3173465': True}"
      ]
     },
     "execution_count": 11,
     "metadata": {},
     "output_type": "execute_result"
    }
   ],
   "source": [
    "def get_annotated_doc_ids():\n",
    "    import glob\n",
    "    return [osp.splitext(osp.basename(f))[0] for f in glob.glob(osp.join(collection_dir, '*.txt'))]\n",
    "annotated_ids = get_annotated_doc_ids()\n",
    "annotated_ids\n",
    "{did:did in tags['id'].values for did in annotated_ids}"
   ]
  },
  {
   "cell_type": "code",
   "execution_count": 5,
   "metadata": {},
   "outputs": [],
   "source": [
    "from string import punctuation\n",
    "\n",
    "def offsets_to_token(left, right, offset_array, lemmas, punc=set(punctuation)):\n",
    "    token_start, token_end = None, None\n",
    "    for i, c in enumerate(offset_array):\n",
    "        if left >= c:\n",
    "            token_start = i\n",
    "        if c > right and token_end is None:\n",
    "            token_end = i\n",
    "            break\n",
    "    token_end = len(offset_array) - 1 if token_end is None else token_end\n",
    "    token_end = token_end - 1 if lemmas[token_end - 1] in punc else token_end\n",
    "    return range(token_start, token_end)\n",
    "\n",
    "\n",
    "class EntityTagger(object):\n",
    "\n",
    "    def __init__(self, tags):   \n",
    "        self.tags = tags.set_index('id')\n",
    "        self.reset_stats()\n",
    "\n",
    "    def reset_stats(self):\n",
    "        self.stats = {'docs': set(), 'found': set()}\n",
    "        return self\n",
    "    \n",
    "    def get_stats(self):\n",
    "        return dict(\n",
    "            n_tags=len(self.tags), \n",
    "            n_docs=len(self.stats['docs']),\n",
    "            n_docs_found=len(self.stats['found']),\n",
    "            pct_docs_found=100*len(self.stats['found'])/len(self.stats['docs'])\n",
    "        )\n",
    "    \n",
    "    def tag(self, parts):\n",
    "        \"\"\"Tag tokens in a single sentence\"\"\"\n",
    "        # Extract doc id (e.g. PMC123932) and character offsets of sentence\n",
    "        docid, _, _, sent_start, sent_end = parts['stable_id'].split(':')\n",
    "        self.stats['docs'].add(docid)\n",
    "        if docid not in self.tags.index:\n",
    "            return parts\n",
    "        self.stats['found'].add(docid)\n",
    "        tags = self.tags.loc[[docid]]\n",
    "        sent_start, sent_end = int(sent_start), int(sent_end)\n",
    "        for r in tags.itertuples():\n",
    "            tag_start, tag_end = r.start_chr, r.end_chr\n",
    "            # Determine whether or not the tag is in this sentence\n",
    "            if not (sent_start <= tag_start <= sent_end):\n",
    "                continue\n",
    "            offsets = [offset + sent_start for offset in parts['char_offsets']]\n",
    "            tkn_idx_rng = offsets_to_token(tag_start, tag_end, offsets, parts['lemmas'])\n",
    "            for tkn_idx in tkn_idx_rng:\n",
    "                parts['entity_types'][tkn_idx] = r.type.lower()\n",
    "                parts['entity_cids'][tkn_idx] = r.ent_id\n",
    "        return parts"
   ]
  },
  {
   "cell_type": "code",
   "execution_count": 6,
   "metadata": {},
   "outputs": [
    {
     "name": "stdout",
     "output_type": "stream",
     "text": [
      "Clearing existing...\n"
     ]
    },
    {
     "name": "stderr",
     "output_type": "stream",
     "text": [
      "\r",
      "  0%|          | 0/510 [00:00<?, ?it/s]"
     ]
    },
    {
     "name": "stdout",
     "output_type": "stream",
     "text": [
      "Running UDF...\n"
     ]
    },
    {
     "name": "stderr",
     "output_type": "stream",
     "text": [
      "100%|██████████| 510/510 [05:53<00:00,  1.44it/s]\n"
     ]
    }
   ],
   "source": [
    "from snorkel.parser import CorpusParser, Spacy\n",
    "\n",
    "tagger = EntityTagger(tags)\n",
    "corpus_parser = CorpusParser(fn=tagger.tag)\n",
    "corpus_parser.apply(list(doc_preprocessor))"
   ]
  },
  {
   "cell_type": "code",
   "execution_count": 7,
   "metadata": {},
   "outputs": [
    {
     "data": {
      "text/plain": [
       "{'n_tags': 34923,\n",
       " 'n_docs': 510,\n",
       " 'n_docs_found': 440,\n",
       " 'pct_docs_found': 86.27450980392157}"
      ]
     },
     "execution_count": 7,
     "metadata": {},
     "output_type": "execute_result"
    }
   ],
   "source": [
    "# This will show how many documents didn't have any tagged\n",
    "# (or that were otherwise not included in tagging but included\n",
    "# here in parsing -- which should be rare)\n",
    "tagger.get_stats()"
   ]
  },
  {
   "cell_type": "code",
   "execution_count": 14,
   "metadata": {},
   "outputs": [
    {
     "name": "stdout",
     "output_type": "stream",
     "text": [
      "Documents: 510\n",
      "Sentences: 72944\n"
     ]
    }
   ],
   "source": [
    "from snorkel.models import Document, Sentence\n",
    "\n",
    "print(\"Documents:\", session.query(Document).count())\n",
    "print(\"Sentences:\", session.query(Sentence).count())"
   ]
  },
  {
   "cell_type": "code",
   "execution_count": 15,
   "metadata": {},
   "outputs": [],
   "source": [
    "docs = session.query(Document).all()"
   ]
  },
  {
   "cell_type": "code",
   "execution_count": 16,
   "metadata": {},
   "outputs": [
    {
     "data": {
      "text/plain": [
       "(430, 10)"
      ]
     },
     "execution_count": 16,
     "metadata": {},
     "output_type": "execute_result"
    }
   ],
   "source": [
    "all_ids = [doc.name for doc in docs]\n",
    "tagged_ids = list(np.intersect1d(all_ids, tags['id']))\n",
    "dev_ids = list(set(annotated_ids))\n",
    "train_ids = [i for i in tagged_ids if i not in dev_ids]\n",
    "len(train_ids), len(dev_ids)"
   ]
  },
  {
   "cell_type": "code",
   "execution_count": 17,
   "metadata": {},
   "outputs": [],
   "source": [
    "train_sents, dev_sents = set(), set()\n",
    "for i, doc in enumerate(docs):\n",
    "    if doc.name not in tagged_ids:\n",
    "        continue\n",
    "    for s in doc.sentences:\n",
    "        if doc.name in train_ids:\n",
    "            train_sents.add(s)\n",
    "        elif doc.name in dev_ids:\n",
    "            dev_sents.add(s)\n",
    "        else:\n",
    "            raise Exception('ID <{0}> not found in any id set'.format(doc.name))"
   ]
  },
  {
   "cell_type": "code",
   "execution_count": 24,
   "metadata": {},
   "outputs": [],
   "source": [
    "# for sent in session.query(Sentence).all():\n",
    "#     if 'cytokine' in sent.entity_types and 'cell_type' in sent.entity_types:\n",
    "#         print(set(sent.entity_types))"
   ]
  },
  {
   "cell_type": "code",
   "execution_count": 13,
   "metadata": {},
   "outputs": [],
   "source": [
    "#sent.entity_types"
   ]
  },
  {
   "cell_type": "code",
   "execution_count": 18,
   "metadata": {},
   "outputs": [],
   "source": [
    "from snorkel.models import Candidate, candidate_subclass\n",
    "from snorkel.candidates import PretaggedCandidateExtractor\n",
    "\n",
    "# * Make sure SecretedCytokine gives cytokine + cell type in same order as they will share rules\n",
    "# for labeling functions\n",
    "InducingCytokine = candidate_subclass('InducingCytokine', ['cytokine', 'cell_type'])\n",
    "# The entity_types passed here appear to need to be exact matches on the strings\n",
    "# provided above if \"_\" is included (must be some kind of camel case conversion oversight)\n",
    "candidate_extractor = PretaggedCandidateExtractor(InducingCytokine, ['cytokine', 'cell_type'])"
   ]
  },
  {
   "cell_type": "code",
   "execution_count": 19,
   "metadata": {},
   "outputs": [
    {
     "name": "stderr",
     "output_type": "stream",
     "text": [
      "  0%|          | 167/71838 [00:00<00:43, 1649.94it/s]"
     ]
    },
    {
     "name": "stdout",
     "output_type": "stream",
     "text": [
      "Clearing existing...\n",
      "Running UDF...\n"
     ]
    },
    {
     "name": "stderr",
     "output_type": "stream",
     "text": [
      "100%|██████████| 71838/71838 [00:31<00:00, 2247.33it/s]\n",
      " 18%|█▊        | 113/644 [00:00<00:00, 1104.73it/s]"
     ]
    },
    {
     "name": "stdout",
     "output_type": "stream",
     "text": [
      "Number of candidates: 8011\n",
      "Clearing existing...\n",
      "Running UDF...\n"
     ]
    },
    {
     "name": "stderr",
     "output_type": "stream",
     "text": [
      "100%|██████████| 644/644 [00:00<00:00, 1346.03it/s]"
     ]
    },
    {
     "name": "stdout",
     "output_type": "stream",
     "text": [
      "Number of candidates: 168\n"
     ]
    },
    {
     "name": "stderr",
     "output_type": "stream",
     "text": [
      "\n"
     ]
    }
   ],
   "source": [
    "for k, sents in enumerate([train_sents, dev_sents]):\n",
    "    candidate_extractor.apply(sents, split=k)\n",
    "    print(\"Number of candidates:\", session.query(InducingCytokine).filter(InducingCytokine.split == k).count())"
   ]
  },
  {
   "cell_type": "markdown",
   "metadata": {},
   "source": [
    "## Load Relations"
   ]
  },
  {
   "cell_type": "code",
   "execution_count": 20,
   "metadata": {},
   "outputs": [
    {
     "data": {
      "text/html": [
       "<div>\n",
       "<style scoped>\n",
       "    .dataframe tbody tr th:only-of-type {\n",
       "        vertical-align: middle;\n",
       "    }\n",
       "\n",
       "    .dataframe tbody tr th {\n",
       "        vertical-align: top;\n",
       "    }\n",
       "\n",
       "    .dataframe thead th {\n",
       "        text-align: right;\n",
       "    }\n",
       "</style>\n",
       "<table border=\"1\" class=\"dataframe\">\n",
       "  <thead>\n",
       "    <tr style=\"text-align: right;\">\n",
       "      <th></th>\n",
       "      <th>e1_end_chr</th>\n",
       "      <th>e1_start_chr</th>\n",
       "      <th>e1_text</th>\n",
       "      <th>e1_typ</th>\n",
       "      <th>e2_end_chr</th>\n",
       "      <th>e2_start_chr</th>\n",
       "      <th>e2_text</th>\n",
       "      <th>e2_typ</th>\n",
       "      <th>id</th>\n",
       "      <th>rel_typ</th>\n",
       "    </tr>\n",
       "  </thead>\n",
       "  <tbody>\n",
       "    <tr>\n",
       "      <th>0</th>\n",
       "      <td>24</td>\n",
       "      <td>19</td>\n",
       "      <td>Gfi-1</td>\n",
       "      <td>TF</td>\n",
       "      <td>85</td>\n",
       "      <td>81</td>\n",
       "      <td>Th17</td>\n",
       "      <td>CELL_TYPE</td>\n",
       "      <td>PMC2646571</td>\n",
       "      <td>Differentiation</td>\n",
       "    </tr>\n",
       "    <tr>\n",
       "      <th>1</th>\n",
       "      <td>44</td>\n",
       "      <td>39</td>\n",
       "      <td>TGF-β</td>\n",
       "      <td>CYTOKINE</td>\n",
       "      <td>85</td>\n",
       "      <td>81</td>\n",
       "      <td>Th17</td>\n",
       "      <td>CELL_TYPE</td>\n",
       "      <td>PMC2646571</td>\n",
       "      <td>Induction</td>\n",
       "    </tr>\n",
       "    <tr>\n",
       "      <th>2</th>\n",
       "      <td>44</td>\n",
       "      <td>39</td>\n",
       "      <td>TGF-β</td>\n",
       "      <td>CYTOKINE</td>\n",
       "      <td>125</td>\n",
       "      <td>90</td>\n",
       "      <td>CD103+ inducible regulatory T cells</td>\n",
       "      <td>CELL_TYPE</td>\n",
       "      <td>PMC2646571</td>\n",
       "      <td>Induction</td>\n",
       "    </tr>\n",
       "    <tr>\n",
       "      <th>3</th>\n",
       "      <td>24</td>\n",
       "      <td>19</td>\n",
       "      <td>Gfi-1</td>\n",
       "      <td>TF</td>\n",
       "      <td>125</td>\n",
       "      <td>90</td>\n",
       "      <td>CD103+ inducible regulatory T cells</td>\n",
       "      <td>CELL_TYPE</td>\n",
       "      <td>PMC2646571</td>\n",
       "      <td>Differentiation</td>\n",
       "    </tr>\n",
       "    <tr>\n",
       "      <th>4</th>\n",
       "      <td>371</td>\n",
       "      <td>366</td>\n",
       "      <td>Gfi-1</td>\n",
       "      <td>TF</td>\n",
       "      <td>436</td>\n",
       "      <td>433</td>\n",
       "      <td>Th2</td>\n",
       "      <td>CELL_TYPE</td>\n",
       "      <td>PMC2646571</td>\n",
       "      <td>Differentiation</td>\n",
       "    </tr>\n",
       "  </tbody>\n",
       "</table>\n",
       "</div>"
      ],
      "text/plain": [
       "   e1_end_chr  e1_start_chr e1_text    e1_typ  e2_end_chr  e2_start_chr  \\\n",
       "0          24            19   Gfi-1        TF          85            81   \n",
       "1          44            39   TGF-β  CYTOKINE          85            81   \n",
       "2          44            39   TGF-β  CYTOKINE         125            90   \n",
       "3          24            19   Gfi-1        TF         125            90   \n",
       "4         371           366   Gfi-1        TF         436           433   \n",
       "\n",
       "                               e2_text     e2_typ          id          rel_typ  \n",
       "0                                 Th17  CELL_TYPE  PMC2646571  Differentiation  \n",
       "1                                 Th17  CELL_TYPE  PMC2646571        Induction  \n",
       "2  CD103+ inducible regulatory T cells  CELL_TYPE  PMC2646571        Induction  \n",
       "3  CD103+ inducible regulatory T cells  CELL_TYPE  PMC2646571  Differentiation  \n",
       "4                                  Th2  CELL_TYPE  PMC2646571  Differentiation  "
      ]
     },
     "execution_count": 20,
     "metadata": {},
     "output_type": "execute_result"
    }
   ],
   "source": [
    "relations = pd.read_csv(osp.join(corpus_dir, 'relations.csv'))\n",
    "relations.head()"
   ]
  },
  {
   "cell_type": "code",
   "execution_count": 21,
   "metadata": {},
   "outputs": [],
   "source": [
    "# person1\tperson2\tlabel\n",
    "# 36c3703b-bd5b-4888-be46-2f45bcb37f8e::span:95:106\t36c3703b-bd5b-4888-be46-2f45bcb37f8e::span:0:10\t1\n",
    "# e16a971f-23ce-42e4-81df-b2386126f8b3::span:126:134\te16a971f-23ce-42e4-81df-b2386126f8b3::span:140:157\t-1"
   ]
  },
  {
   "cell_type": "code",
   "execution_count": 22,
   "metadata": {},
   "outputs": [
    {
     "name": "stdout",
     "output_type": "stream",
     "text": [
      "AnnotatorLabels created: 30\n"
     ]
    }
   ],
   "source": [
    "from snorkel.models import StableLabel\n",
    "from snorkel.db_helpers import reload_annotator_labels\n",
    "\n",
    "def get_stable_id(r):\n",
    "    return '{}::span:{}:{}'.format(r['id'], r['start_chr'], r['end_chr']-1)\n",
    "\n",
    "def load_external_labels(session, relations, candidate_class, annotator_name='gold'):\n",
    "    for i, r in relations.iterrows():    \n",
    "\n",
    "        # We check if the label already exists, in case this cell was already executed\n",
    "        e1_id = get_stable_id(r.filter(regex='^e1_|^id$').rename(lambda v: v.replace('e1_', '')))\n",
    "        e2_id = get_stable_id(r.filter(regex='^e2_|^id$').rename(lambda v: v.replace('e2_', '')))\n",
    "        \n",
    "        context_stable_ids = \"~~\".join([e1_id, e2_id])\n",
    "        query = session.query(StableLabel)\\\n",
    "            .filter(StableLabel.context_stable_ids == context_stable_ids)\\\n",
    "            .filter(StableLabel.annotator_name == annotator_name)\n",
    "        if query.count() == 0:\n",
    "            session.add(StableLabel(\n",
    "                context_stable_ids=context_stable_ids,\n",
    "                annotator_name=annotator_name,\n",
    "                value=1\n",
    "            ))\n",
    "            \n",
    "    session.commit()\n",
    "    reload_annotator_labels(\n",
    "        session, candidate_class, annotator_name, split=1, \n",
    "        filter_label_split=False, create_missing_cands=False)\n",
    "    \n",
    "load_external_labels(session, relations[relations['rel_typ'] == 'Induction'], InducingCytokine)"
   ]
  },
  {
   "cell_type": "code",
   "execution_count": 78,
   "metadata": {},
   "outputs": [],
   "source": [
    "# session.execute('DELETE FROM stable_label;')\n",
    "# session.execute('DELETE FROM gold_label;')\n",
    "# session.execute('DELETE FROM gold_label_key;')\n",
    "# from snorkel.models import GoldLabel, GoldLabelKey, StableLabel\n",
    "# session.query(StableLabel).count(), session.query(GoldLabel).count(), session.query(GoldLabelKey).count()"
   ]
  },
  {
   "cell_type": "code",
   "execution_count": 79,
   "metadata": {},
   "outputs": [
    {
     "data": {
      "text/plain": [
       "(46, 134, 4892)"
      ]
     },
     "execution_count": 79,
     "metadata": {},
     "output_type": "execute_result"
    }
   ],
   "source": [
    "# stbl_ids = np.unique([\n",
    "#     v\n",
    "#     for r in session.query(StableLabel).all() \n",
    "#     for v in r.context_stable_ids.split('~~')\n",
    "# ])\n",
    "# cand_ids = np.unique([\n",
    "#     cand.get_stable_id()\n",
    "#     for r in session.query(InducingCytokine).all()\n",
    "#     for cand in r\n",
    "# ])\n",
    "# len(np.intersect1d(stbl_ids, cand_ids)), len(stbl_ids), len(cand_ids)"
   ]
  },
  {
   "cell_type": "code",
   "execution_count": 23,
   "metadata": {},
   "outputs": [],
   "source": [
    "from snorkel.annotations import load_gold_labels\n",
    "\n",
    "L_gold_dev = load_gold_labels(session, annotator_name='gold', split=1)"
   ]
  },
  {
   "cell_type": "code",
   "execution_count": 24,
   "metadata": {},
   "outputs": [
    {
     "data": {
      "text/plain": [
       "((168, 1), 168)"
      ]
     },
     "execution_count": 24,
     "metadata": {},
     "output_type": "execute_result"
    }
   ],
   "source": [
    "L_gold_dev.shape, session.query(InducingCytokine).filter(InducingCytokine.split == 1).count()"
   ]
  }
 ],
 "metadata": {
  "kernelspec": {
   "display_name": "Python (snorkel)",
   "language": "python",
   "name": "snorkel"
  },
  "language_info": {
   "codemirror_mode": {
    "name": "ipython",
    "version": 3
   },
   "file_extension": ".py",
   "mimetype": "text/x-python",
   "name": "python",
   "nbconvert_exporter": "python",
   "pygments_lexer": "ipython3",
   "version": "3.6.7"
  }
 },
 "nbformat": 4,
 "nbformat_minor": 2
}
