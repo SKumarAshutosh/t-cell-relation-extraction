{
 "cells": [
  {
   "cell_type": "code",
   "execution_count": 1,
   "metadata": {},
   "outputs": [],
   "source": [
    "import os\n",
    "import os.path as osp\n",
    "import pandas as pd\n",
    "import numpy as np\n",
    "import snorkel\n",
    "import dotenv\n",
    "from snorkel.parser import TextDocPreprocessor\n",
    "from snorkel.parser import CorpusParser\n",
    "from snorkel import SnorkelSession\n",
    "\n",
    "dotenv.load_dotenv('../env.sh')\n",
    "corpus_dir = osp.join(os.environ['DATA_DIR'], 'articles', 'corpus', 'corpus_00')\n",
    "corpus_docs_dir = osp.join(corpus_dir, 'links')\n",
    "collection_dir = osp.join(os.environ['REPO_DATA_DIR'], 'brat', 'collection_01')\n",
    "session = SnorkelSession()"
   ]
  },
  {
   "cell_type": "code",
   "execution_count": 2,
   "metadata": {},
   "outputs": [],
   "source": [
    "#doc_preprocessor = TextDocPreprocessor(corpus_docs_dir, max_docs=10)\n",
    "doc_preprocessor = TextDocPreprocessor(corpus_docs_dir)"
   ]
  },
  {
   "cell_type": "code",
   "execution_count": 3,
   "metadata": {},
   "outputs": [
    {
     "data": {
      "text/html": [
       "<div>\n",
       "<style scoped>\n",
       "    .dataframe tbody tr th:only-of-type {\n",
       "        vertical-align: middle;\n",
       "    }\n",
       "\n",
       "    .dataframe tbody tr th {\n",
       "        vertical-align: top;\n",
       "    }\n",
       "\n",
       "    .dataframe thead th {\n",
       "        text-align: right;\n",
       "    }\n",
       "</style>\n",
       "<table border=\"1\" class=\"dataframe\">\n",
       "  <thead>\n",
       "    <tr style=\"text-align: right;\">\n",
       "      <th></th>\n",
       "      <th>id</th>\n",
       "      <th>type</th>\n",
       "      <th>ent_typ_id</th>\n",
       "      <th>ent_typ_lbl</th>\n",
       "      <th>start_chr</th>\n",
       "      <th>end_chr</th>\n",
       "      <th>start_wrd</th>\n",
       "      <th>end_wrd</th>\n",
       "      <th>text</th>\n",
       "    </tr>\n",
       "  </thead>\n",
       "  <tbody>\n",
       "    <tr>\n",
       "      <th>0</th>\n",
       "      <td>PMC5743442</td>\n",
       "      <td>CELL_TYPE</td>\n",
       "      <td>4</td>\n",
       "      <td>Th17</td>\n",
       "      <td>65</td>\n",
       "      <td>69</td>\n",
       "      <td>8</td>\n",
       "      <td>9</td>\n",
       "      <td>Th17</td>\n",
       "    </tr>\n",
       "    <tr>\n",
       "      <th>1</th>\n",
       "      <td>PMC5743442</td>\n",
       "      <td>CELL_TYPE</td>\n",
       "      <td>4</td>\n",
       "      <td>Th17</td>\n",
       "      <td>87</td>\n",
       "      <td>91</td>\n",
       "      <td>11</td>\n",
       "      <td>12</td>\n",
       "      <td>Th17</td>\n",
       "    </tr>\n",
       "    <tr>\n",
       "      <th>2</th>\n",
       "      <td>PMC5743442</td>\n",
       "      <td>CYTOKINE</td>\n",
       "      <td>81</td>\n",
       "      <td>TGF-β1</td>\n",
       "      <td>174</td>\n",
       "      <td>179</td>\n",
       "      <td>25</td>\n",
       "      <td>26</td>\n",
       "      <td>TGF-β</td>\n",
       "    </tr>\n",
       "    <tr>\n",
       "      <th>3</th>\n",
       "      <td>PMC5743442</td>\n",
       "      <td>CELL_TYPE</td>\n",
       "      <td>4</td>\n",
       "      <td>Th17</td>\n",
       "      <td>199</td>\n",
       "      <td>203</td>\n",
       "      <td>29</td>\n",
       "      <td>30</td>\n",
       "      <td>Th17</td>\n",
       "    </tr>\n",
       "    <tr>\n",
       "      <th>4</th>\n",
       "      <td>PMC5743442</td>\n",
       "      <td>CYTOKINE</td>\n",
       "      <td>81</td>\n",
       "      <td>TGF-β1</td>\n",
       "      <td>275</td>\n",
       "      <td>280</td>\n",
       "      <td>42</td>\n",
       "      <td>43</td>\n",
       "      <td>TGF-β</td>\n",
       "    </tr>\n",
       "  </tbody>\n",
       "</table>\n",
       "</div>"
      ],
      "text/plain": [
       "           id       type  ent_typ_id ent_typ_lbl  start_chr  end_chr  \\\n",
       "0  PMC5743442  CELL_TYPE           4        Th17         65       69   \n",
       "1  PMC5743442  CELL_TYPE           4        Th17         87       91   \n",
       "2  PMC5743442   CYTOKINE          81      TGF-β1        174      179   \n",
       "3  PMC5743442  CELL_TYPE           4        Th17        199      203   \n",
       "4  PMC5743442   CYTOKINE          81      TGF-β1        275      280   \n",
       "\n",
       "   start_wrd  end_wrd   text  \n",
       "0          8        9   Th17  \n",
       "1         11       12   Th17  \n",
       "2         25       26  TGF-β  \n",
       "3         29       30   Th17  \n",
       "4         42       43  TGF-β  "
      ]
     },
     "execution_count": 3,
     "metadata": {},
     "output_type": "execute_result"
    }
   ],
   "source": [
    "tags = pd.read_csv(osp.join(corpus_dir, 'tags.csv'))\n",
    "tags.head()"
   ]
  },
  {
   "cell_type": "code",
   "execution_count": 4,
   "metadata": {},
   "outputs": [
    {
     "data": {
      "text/plain": [
       "{'PMC2646571': True,\n",
       " 'PMC3304099': True,\n",
       " 'PMC2634967': True,\n",
       " 'PMC3189223': True,\n",
       " 'PMC3095633': False,\n",
       " 'PMC2193209': True,\n",
       " 'PMC2938478': True,\n",
       " 'PMC3235500': True,\n",
       " 'PMC3046151': True,\n",
       " 'PMC3173465': True}"
      ]
     },
     "execution_count": 4,
     "metadata": {},
     "output_type": "execute_result"
    }
   ],
   "source": [
    "def get_annotated_doc_ids():\n",
    "    import glob\n",
    "    return [osp.splitext(osp.basename(f))[0] for f in glob.glob(osp.join(collection_dir, '*.txt'))]\n",
    "annotated_ids = get_annotated_doc_ids()\n",
    "annotated_ids\n",
    "{did:did in tags['id'].values for did in annotated_ids}"
   ]
  },
  {
   "cell_type": "code",
   "execution_count": 5,
   "metadata": {},
   "outputs": [],
   "source": [
    "from string import punctuation\n",
    "\n",
    "def offsets_to_token(left, right, offset_array, lemmas, punc=set(punctuation)):\n",
    "    \"\"\"Find the token range that spans character offsets \n",
    "    \n",
    "    This will find the indexes of tokens, as a range, that span a target character \n",
    "    range where the first token index has a character offset <= `left` and the \n",
    "    last token index has a character offset > `right`\n",
    "    \n",
    "    Example: offsets_to_token(15, 25, [0, 10, 20, 30]) --> range(1, 3)\n",
    "    \n",
    "    This is useful for identifying all tokens in a document that span a range\n",
    "    of characters determined by another process that may have tokenized the same\n",
    "    document differently.\n",
    "    \"\"\"\n",
    "    token_start, token_end = None, None\n",
    "    for i, c in enumerate(offset_array):\n",
    "        if left >= c:\n",
    "            token_start = i\n",
    "        if c > right and token_end is None:\n",
    "            token_end = i\n",
    "            break\n",
    "    token_end = len(offset_array) - 1 if token_end is None else token_end\n",
    "    token_end = token_end - 1 if lemmas[token_end - 1] in punc else token_end\n",
    "    return range(token_start, token_end)\n",
    "\n",
    "\n",
    "class EntityTagger(object):\n",
    "\n",
    "    def __init__(self, tags):   \n",
    "        self.tags = tags.set_index('id')\n",
    "        self.reset_stats()\n",
    "\n",
    "    def reset_stats(self):\n",
    "        self.stats = {'docs': set(), 'found': set()}\n",
    "        return self\n",
    "    \n",
    "    def get_stats(self):\n",
    "        return dict(\n",
    "            n_tags=len(self.tags), \n",
    "            n_docs=len(self.stats['docs']),\n",
    "            n_docs_found=len(self.stats['found']),\n",
    "            pct_docs_found=100*len(self.stats['found'])/len(self.stats['docs'])\n",
    "        )\n",
    "    \n",
    "    def tag(self, parts):\n",
    "        \"\"\"Tag tokens in a single sentence\"\"\"\n",
    "        # Extract doc id (e.g. PMC123932) and character offsets of sentence\n",
    "        docid, _, _, sent_start, sent_end = parts['stable_id'].split(':')\n",
    "        self.stats['docs'].add(docid)\n",
    "        if docid not in self.tags.index:\n",
    "            return parts\n",
    "        self.stats['found'].add(docid)\n",
    "        tags = self.tags.loc[[docid]]\n",
    "        sent_start, sent_end = int(sent_start), int(sent_end)\n",
    "        for r in tags.itertuples():\n",
    "            tag_start, tag_end = r.start_chr, r.end_chr\n",
    "            # Determine whether or not the tag is in this sentence\n",
    "            if not (sent_start <= tag_start <= sent_end):\n",
    "                continue\n",
    "            offsets = [offset + sent_start for offset in parts['char_offsets']]\n",
    "            tkn_idx_rng = offsets_to_token(tag_start, tag_end, offsets, parts['lemmas'])\n",
    "            for tkn_idx in tkn_idx_rng:\n",
    "                parts['entity_types'][tkn_idx] = r.type.lower()\n",
    "                parts['entity_cids'][tkn_idx] = r.ent_typ_lbl # TODO: use the id of the entity instead\n",
    "        return parts"
   ]
  },
  {
   "cell_type": "code",
   "execution_count": 6,
   "metadata": {},
   "outputs": [
    {
     "name": "stderr",
     "output_type": "stream",
     "text": [
      "\r",
      "  0%|          | 0/510 [00:00<?, ?it/s]"
     ]
    },
    {
     "name": "stdout",
     "output_type": "stream",
     "text": [
      "Clearing existing...\n",
      "Running UDF...\n"
     ]
    },
    {
     "name": "stderr",
     "output_type": "stream",
     "text": [
      " 16%|█▌        | 82/510 [00:41<03:36,  1.98it/s]"
     ]
    },
    {
     "name": "stdout",
     "output_type": "stream",
     "text": [
      "0 241 39 44 7 cytokine TGF-β1\n",
      "0 241 81 85 13 cell_type Th17\n",
      "242 324 305 308 12 cell_type Th2\n",
      "325 554 433 436 18 cell_type Th2\n",
      "325 554 509 513 32 cell_type Th17\n",
      "555 899 566 569 2 cell_type Th2\n",
      "555 899 695 698 27 cell_type Th2\n",
      "555 899 767 771 39 cell_type Th17\n",
      "555 899 804 807 47 cell_type Th2\n",
      "555 899 851 856 54 cytokine IL-17\n",
      "900 1105 935 939 7 cell_type Th17\n",
      "1481 1614 1533 1536 10 cell_type Th2\n",
      "1481 1614 1583 1587 18 cell_type Th17\n",
      "1614 1865 1728 1731 20 cell_type Th1\n",
      "1614 1865 1736 1739 22 cell_type Th2\n",
      "1614 1865 1805 1810 39 cytokine IL-17\n",
      "1614 1865 1812 1816 41 cell_type Th17\n",
      "1925 2017 1925 1928 0 cell_type Th1\n",
      "1925 2017 1950 1955 4 cytokine IFN-γ\n",
      "2018 2168 2018 2021 0 cell_type Th2\n",
      "2018 2168 2036 2040 3 cytokine IL-4\n",
      "2018 2168 2042 2046 5 cytokine IL-5\n",
      "2018 2168 2052 2057 8 cytokine IL-13\n",
      "2169 2293 2169 2173 0 cell_type Th17\n",
      "2294 2413 2294 2297 0 cell_type Th1\n",
      "2294 2413 2299 2302 2 cell_type Th2\n",
      "2294 2413 2308 2312 5 cell_type Th17\n",
      "2414 2566 2420 2423 2 cell_type Th1\n",
      "2414 2566 2428 2432 4 cell_type Th17\n",
      "2414 2566 2498 2501 17 cell_type Th2\n",
      "2903 3080 2980 2985 13 cytokine TGF-β1\n",
      "2903 3080 3018 3023 23 cytokine TGF-β1\n",
      "3080 3425 3194 3199 21 cytokine IL-12\n",
      "3080 3425 3204 3209 23 cytokine IFN-γ\n",
      "3080 3425 3217 3220 25 cell_type Th1\n",
      "3080 3425 3251 3255 32 cytokine IL-4\n",
      "3080 3425 3260 3264 34 cytokine IL-2\n",
      "3080 3425 3272 3275 36 cell_type Th2\n",
      "3080 3425 3306 3311 43 cytokine TGF-β1\n",
      "3080 3425 3334 3338 47 cell_type Th17\n",
      "3080 3425 3373 3378 55 cytokine TGF-β1\n",
      "3080 3425 3383 3387 57 cytokine IL-2\n",
      "3426 3826 3650 3655 33 tf T-bet\n",
      "3426 3826 3650 3655 34 tf T-bet\n",
      "3426 3826 3650 3655 35 tf T-bet\n",
      "3426 3826 3670 3673 39 cell_type Th1\n",
      "3426 3826 3710 3713 49 cell_type Th2\n",
      "3426 3826 3753 3757 61 cell_type Th17\n",
      "3826 4002 3980 3984 26 cytokine IL-2\n",
      "4114 4283 4121 4124 1 cell_type Th2\n",
      "4284 4447 4326 4330 7 cytokine IL-2\n",
      "4284 4447 4403 4407 21 cytokine IL-4\n",
      "4506 4613 4558 4562 8 cytokine IL-4\n",
      "4506 4613 4585 4588 13 cell_type Th2\n",
      "4614 4757 4654 4658 7 cytokine IL-2\n",
      "4614 4757 4726 4729 19 cell_type Th2\n",
      "5492 5575 5492 5495 0 cell_type Th2\n",
      "5576 5644 5589 5592 4 cell_type Th2\n",
      "5645 5823 5664 5669 5 cytokine IFN-γ\n",
      "5824 5996 5861 5865 6 cell_type Th17\n",
      "5824 5996 5913 5918 15 cytokine TGF-β1\n",
      "5824 5996 5933 5937 19 cell_type Th17\n",
      "6102 6404 6102 6105 0 cell_type Th2\n",
      "6102 6404 6200 6203 19 cell_type Th2\n",
      "6102 6404 6324 6329 44 cytokine IFN-γ\n",
      "6102 6404 6385 6388 54 cell_type Th2\n",
      "7240 7366 7281 7284 10 cell_type Th2\n",
      "7240 7366 7349 7354 21 tf Gata3\n",
      "7367 7551 7486 7489 19 cell_type Th2\n",
      "7367 7551 7526 7529 27 cell_type Th2\n",
      "7552 7757 7656 7659 20 cell_type Th2\n",
      "7552 7757 7735 7738 35 cell_type Th2\n",
      "7552 7757 7742 7746 37 cell_type Th17\n",
      "7765 7929 7818 7822 11 cell_type Th17\n",
      "7765 7929 7854 7857 17 cell_type Th2\n",
      "7765 7929 7913 7917 26 cell_type Th17\n",
      "7936 8018 8003 8006 12 cell_type Th2\n",
      "8025 8079 8069 8072 9 cell_type Th2\n",
      "8080 8304 8089 8092 2 cell_type Th2\n",
      "8080 8304 8138 8142 11 cell_type Th17\n",
      "8080 8304 8235 8238 29 cell_type Th2\n",
      "8080 8304 8275 8279 37 cell_type Th17\n",
      "8305 8472 8390 8394 13 cell_type Th17\n",
      "8305 8472 8462 8465 30 cell_type Th2\n",
      "8473 8778 8491 8494 3 cell_type Th2\n",
      "8473 8778 8565 8568 17 cell_type Th2\n",
      "8473 8778 8602 8606 25 cell_type Th17\n",
      "8473 8778 8689 8694 40 cytokine TGF-β1\n",
      "8473 8778 8699 8703 42 cytokine IL-6\n",
      "8473 8778 8770 8775 56 cytokine IL-17\n",
      "8778 8872 8862 8865 16 cell_type Th2\n",
      "8873 9008 8945 8948 16 cell_type Th2\n",
      "8873 9008 8952 8956 18 cell_type Th17\n",
      "9106 9224 9151 9156 11 tf Gata3\n",
      "9225 9346 9316 9319 24 cell_type Th2\n",
      "9465 9728 9598 9601 26 cell_type Th2\n",
      "9465 9728 9674 9677 39 cell_type Th2\n",
      "9465 9728 9704 9708 44 cell_type Th17\n",
      "9729 9934 9738 9741 2 cell_type Th2\n",
      "9729 9934 9782 9785 11 cell_type Th2\n",
      "9729 9934 9855 9858 27 cell_type Th2\n",
      "9729 9934 9907 9911 36 cell_type Th17\n"
     ]
    },
    {
     "name": "stderr",
     "output_type": "stream",
     "text": [
      "100%|██████████| 510/510 [05:15<00:00,  1.62it/s]\n"
     ]
    }
   ],
   "source": [
    "from snorkel.parser import CorpusParser, Spacy\n",
    "\n",
    "tagger = EntityTagger(tags)\n",
    "corpus_parser = CorpusParser(fn=tagger.tag)\n",
    "corpus_parser.apply(list(doc_preprocessor))"
   ]
  },
  {
   "cell_type": "code",
   "execution_count": 7,
   "metadata": {},
   "outputs": [
    {
     "data": {
      "text/plain": [
       "{'n_tags': 23745,\n",
       " 'n_docs': 510,\n",
       " 'n_docs_found': 399,\n",
       " 'pct_docs_found': 78.23529411764706}"
      ]
     },
     "execution_count": 7,
     "metadata": {},
     "output_type": "execute_result"
    }
   ],
   "source": [
    "# This will show how many documents didn't have any tagged\n",
    "# (or that were otherwise not included in tagging but included\n",
    "# here in parsing -- which should be rare)\n",
    "tagger.get_stats()"
   ]
  },
  {
   "cell_type": "code",
   "execution_count": 8,
   "metadata": {},
   "outputs": [
    {
     "name": "stdout",
     "output_type": "stream",
     "text": [
      "Documents: 510\n",
      "Sentences: 72944\n"
     ]
    }
   ],
   "source": [
    "from snorkel.models import Document, Sentence\n",
    "\n",
    "print(\"Documents:\", session.query(Document).count())\n",
    "print(\"Sentences:\", session.query(Sentence).count())"
   ]
  },
  {
   "cell_type": "code",
   "execution_count": 9,
   "metadata": {},
   "outputs": [],
   "source": [
    "docs = session.query(Document).all()"
   ]
  },
  {
   "cell_type": "code",
   "execution_count": 12,
   "metadata": {},
   "outputs": [
    {
     "data": {
      "text/plain": [
       "(390, 10)"
      ]
     },
     "execution_count": 12,
     "metadata": {},
     "output_type": "execute_result"
    }
   ],
   "source": [
    "all_ids = [doc.name for doc in docs]\n",
    "tagged_ids = list(np.intersect1d(all_ids, tags['id']))\n",
    "dev_ids = list(set(annotated_ids))\n",
    "train_ids = [i for i in tagged_ids if i not in dev_ids]\n",
    "len(train_ids), len(dev_ids)"
   ]
  },
  {
   "cell_type": "code",
   "execution_count": 13,
   "metadata": {},
   "outputs": [],
   "source": [
    "train_sents, dev_sents = set(), set()\n",
    "for i, doc in enumerate(docs):\n",
    "    if doc.name not in tagged_ids:\n",
    "        continue\n",
    "    for s in doc.sentences:\n",
    "        if doc.name in train_ids:\n",
    "            train_sents.add(s)\n",
    "        elif doc.name in dev_ids:\n",
    "            dev_sents.add(s)\n",
    "        else:\n",
    "            raise Exception('ID <{0}> not found in any id set'.format(doc.name))"
   ]
  },
  {
   "cell_type": "code",
   "execution_count": 24,
   "metadata": {},
   "outputs": [],
   "source": [
    "# for sent in session.query(Sentence).all():\n",
    "#     if 'cytokine' in sent.entity_types and 'cell_type' in sent.entity_types:\n",
    "#         print(set(sent.entity_types))"
   ]
  },
  {
   "cell_type": "code",
   "execution_count": 13,
   "metadata": {},
   "outputs": [],
   "source": [
    "#sent.entity_types"
   ]
  },
  {
   "cell_type": "code",
   "execution_count": 14,
   "metadata": {},
   "outputs": [],
   "source": [
    "from snorkel.models import Candidate, candidate_subclass\n",
    "from snorkel.candidates import PretaggedCandidateExtractor\n",
    "\n",
    "InducingCytokine = candidate_subclass('InducingCytokine', ['cytokine', 'cell_type'])\n",
    "# The entity_types passed here appear to need to be exact matches on the strings\n",
    "# provided above if \"_\" is included (must be some kind of camel case conversion oversight)\n",
    "candidate_extractor = PretaggedCandidateExtractor(InducingCytokine, ['cytokine', 'cell_type'])"
   ]
  },
  {
   "cell_type": "code",
   "execution_count": 15,
   "metadata": {},
   "outputs": [
    {
     "name": "stderr",
     "output_type": "stream",
     "text": [
      "  0%|          | 304/71130 [00:00<00:23, 3030.49it/s]"
     ]
    },
    {
     "name": "stdout",
     "output_type": "stream",
     "text": [
      "Clearing existing...\n",
      "Running UDF...\n"
     ]
    },
    {
     "name": "stderr",
     "output_type": "stream",
     "text": [
      "100%|██████████| 71130/71130 [00:21<00:00, 3302.99it/s]\n",
      " 31%|███▏      | 181/577 [00:00<00:00, 1799.01it/s]"
     ]
    },
    {
     "name": "stdout",
     "output_type": "stream",
     "text": [
      "Number of candidates: 4334\n",
      "Clearing existing...\n",
      "Running UDF...\n"
     ]
    },
    {
     "name": "stderr",
     "output_type": "stream",
     "text": [
      "100%|██████████| 577/577 [00:00<00:00, 1460.06it/s]"
     ]
    },
    {
     "name": "stdout",
     "output_type": "stream",
     "text": [
      "Number of candidates: 120\n"
     ]
    },
    {
     "name": "stderr",
     "output_type": "stream",
     "text": [
      "\n"
     ]
    }
   ],
   "source": [
    "for k, sents in enumerate([train_sents, dev_sents]):\n",
    "    candidate_extractor.apply(sents, split=k)\n",
    "    print(\"Number of candidates:\", session.query(InducingCytokine).filter(InducingCytokine.split == k).count())"
   ]
  },
  {
   "cell_type": "markdown",
   "metadata": {},
   "source": [
    "## Load Relations"
   ]
  },
  {
   "cell_type": "code",
   "execution_count": 71,
   "metadata": {},
   "outputs": [
    {
     "data": {
      "text/html": [
       "<div>\n",
       "<style scoped>\n",
       "    .dataframe tbody tr th:only-of-type {\n",
       "        vertical-align: middle;\n",
       "    }\n",
       "\n",
       "    .dataframe tbody tr th {\n",
       "        vertical-align: top;\n",
       "    }\n",
       "\n",
       "    .dataframe thead th {\n",
       "        text-align: right;\n",
       "    }\n",
       "</style>\n",
       "<table border=\"1\" class=\"dataframe\">\n",
       "  <thead>\n",
       "    <tr style=\"text-align: right;\">\n",
       "      <th></th>\n",
       "      <th>e1_end_chr</th>\n",
       "      <th>e1_start_chr</th>\n",
       "      <th>e1_text</th>\n",
       "      <th>e1_typ</th>\n",
       "      <th>e2_end_chr</th>\n",
       "      <th>e2_start_chr</th>\n",
       "      <th>e2_text</th>\n",
       "      <th>e2_typ</th>\n",
       "      <th>id</th>\n",
       "      <th>rel_typ</th>\n",
       "    </tr>\n",
       "  </thead>\n",
       "  <tbody>\n",
       "    <tr>\n",
       "      <th>0</th>\n",
       "      <td>24</td>\n",
       "      <td>19</td>\n",
       "      <td>Gfi-1</td>\n",
       "      <td>TF</td>\n",
       "      <td>85</td>\n",
       "      <td>81</td>\n",
       "      <td>Th17</td>\n",
       "      <td>CELL_TYPE</td>\n",
       "      <td>PMC2646571</td>\n",
       "      <td>Differentiation</td>\n",
       "    </tr>\n",
       "    <tr>\n",
       "      <th>1</th>\n",
       "      <td>44</td>\n",
       "      <td>39</td>\n",
       "      <td>TGF-β</td>\n",
       "      <td>CYTOKINE</td>\n",
       "      <td>85</td>\n",
       "      <td>81</td>\n",
       "      <td>Th17</td>\n",
       "      <td>CELL_TYPE</td>\n",
       "      <td>PMC2646571</td>\n",
       "      <td>Induction</td>\n",
       "    </tr>\n",
       "    <tr>\n",
       "      <th>2</th>\n",
       "      <td>44</td>\n",
       "      <td>39</td>\n",
       "      <td>TGF-β</td>\n",
       "      <td>CYTOKINE</td>\n",
       "      <td>125</td>\n",
       "      <td>90</td>\n",
       "      <td>CD103+ inducible regulatory T cells</td>\n",
       "      <td>CELL_TYPE</td>\n",
       "      <td>PMC2646571</td>\n",
       "      <td>Induction</td>\n",
       "    </tr>\n",
       "    <tr>\n",
       "      <th>3</th>\n",
       "      <td>24</td>\n",
       "      <td>19</td>\n",
       "      <td>Gfi-1</td>\n",
       "      <td>TF</td>\n",
       "      <td>125</td>\n",
       "      <td>90</td>\n",
       "      <td>CD103+ inducible regulatory T cells</td>\n",
       "      <td>CELL_TYPE</td>\n",
       "      <td>PMC2646571</td>\n",
       "      <td>Differentiation</td>\n",
       "    </tr>\n",
       "    <tr>\n",
       "      <th>4</th>\n",
       "      <td>371</td>\n",
       "      <td>366</td>\n",
       "      <td>Gfi-1</td>\n",
       "      <td>TF</td>\n",
       "      <td>436</td>\n",
       "      <td>433</td>\n",
       "      <td>Th2</td>\n",
       "      <td>CELL_TYPE</td>\n",
       "      <td>PMC2646571</td>\n",
       "      <td>Differentiation</td>\n",
       "    </tr>\n",
       "  </tbody>\n",
       "</table>\n",
       "</div>"
      ],
      "text/plain": [
       "   e1_end_chr  e1_start_chr e1_text    e1_typ  e2_end_chr  e2_start_chr  \\\n",
       "0          24            19   Gfi-1        TF          85            81   \n",
       "1          44            39   TGF-β  CYTOKINE          85            81   \n",
       "2          44            39   TGF-β  CYTOKINE         125            90   \n",
       "3          24            19   Gfi-1        TF         125            90   \n",
       "4         371           366   Gfi-1        TF         436           433   \n",
       "\n",
       "                               e2_text     e2_typ          id          rel_typ  \n",
       "0                                 Th17  CELL_TYPE  PMC2646571  Differentiation  \n",
       "1                                 Th17  CELL_TYPE  PMC2646571        Induction  \n",
       "2  CD103+ inducible regulatory T cells  CELL_TYPE  PMC2646571        Induction  \n",
       "3  CD103+ inducible regulatory T cells  CELL_TYPE  PMC2646571  Differentiation  \n",
       "4                                  Th2  CELL_TYPE  PMC2646571  Differentiation  "
      ]
     },
     "execution_count": 71,
     "metadata": {},
     "output_type": "execute_result"
    }
   ],
   "source": [
    "relations = pd.read_csv(osp.join(corpus_dir, 'relations.csv'))\n",
    "relations.head()"
   ]
  },
  {
   "cell_type": "code",
   "execution_count": null,
   "metadata": {},
   "outputs": [],
   "source": [
    "# person1\tperson2\tlabel\n",
    "# 36c3703b-bd5b-4888-be46-2f45bcb37f8e::span:95:106\t36c3703b-bd5b-4888-be46-2f45bcb37f8e::span:0:10\t1\n",
    "# e16a971f-23ce-42e4-81df-b2386126f8b3::span:126:134\te16a971f-23ce-42e4-81df-b2386126f8b3::span:140:157\t-1"
   ]
  },
  {
   "cell_type": "code",
   "execution_count": 76,
   "metadata": {},
   "outputs": [
    {
     "name": "stdout",
     "output_type": "stream",
     "text": [
      "AnnotatorLabels created: 24\n"
     ]
    }
   ],
   "source": [
    "from snorkel.models import StableLabel\n",
    "from snorkel.db_helpers import reload_annotator_labels\n",
    "\n",
    "def get_stable_id(r):\n",
    "    return '{}::span:{}:{}'.format(r['id'], r['start_chr'], r['end_chr']-1)\n",
    "\n",
    "def load_external_labels(session, relations, candidate_class, annotator_name='gold'):\n",
    "    for i, r in relations.iterrows():    \n",
    "\n",
    "        # We check if the label already exists, in case this cell was already executed\n",
    "        e1_id = get_stable_id(r.filter(regex='^e1_|^id$').rename(lambda v: v.replace('e1_', '')))\n",
    "        e2_id = get_stable_id(r.filter(regex='^e2_|^id$').rename(lambda v: v.replace('e2_', '')))\n",
    "        \n",
    "        context_stable_ids = \"~~\".join([e1_id, e2_id])\n",
    "        query = session.query(StableLabel)\\\n",
    "            .filter(StableLabel.context_stable_ids == context_stable_ids)\\\n",
    "            .filter(StableLabel.annotator_name == annotator_name)\n",
    "        if query.count() == 0:\n",
    "            session.add(StableLabel(\n",
    "                context_stable_ids=context_stable_ids,\n",
    "                annotator_name=annotator_name,\n",
    "                value=1\n",
    "            ))\n",
    "            \n",
    "    session.commit()\n",
    "    # Reload annotator labels (* not sure why this is needed yet)\n",
    "    reload_annotator_labels(\n",
    "        session, candidate_class, annotator_name, split=1, \n",
    "        filter_label_split=False, create_missing_cands=False)\n",
    "    \n",
    "load_external_labels(session, relations[relations['rel_typ'] == 'Induction'], InducingCytokine)"
   ]
  },
  {
   "cell_type": "code",
   "execution_count": 78,
   "metadata": {},
   "outputs": [],
   "source": [
    "# session.execute('DELETE FROM stable_label;')\n",
    "# session.execute('DELETE FROM gold_label;')\n",
    "# session.execute('DELETE FROM gold_label_key;')\n",
    "# from snorkel.models import GoldLabel, GoldLabelKey, StableLabel\n",
    "# session.query(StableLabel).count(), session.query(GoldLabel).count(), session.query(GoldLabelKey).count()"
   ]
  },
  {
   "cell_type": "code",
   "execution_count": 79,
   "metadata": {},
   "outputs": [
    {
     "data": {
      "text/plain": [
       "(46, 134, 4892)"
      ]
     },
     "execution_count": 79,
     "metadata": {},
     "output_type": "execute_result"
    }
   ],
   "source": [
    "# stbl_ids = np.unique([\n",
    "#     v\n",
    "#     for r in session.query(StableLabel).all() \n",
    "#     for v in r.context_stable_ids.split('~~')\n",
    "# ])\n",
    "# cand_ids = np.unique([\n",
    "#     cand.get_stable_id()\n",
    "#     for r in session.query(InducingCytokine).all()\n",
    "#     for cand in r\n",
    "# ])\n",
    "# len(np.intersect1d(stbl_ids, cand_ids)), len(stbl_ids), len(cand_ids)"
   ]
  },
  {
   "cell_type": "code",
   "execution_count": 81,
   "metadata": {},
   "outputs": [],
   "source": [
    "from snorkel.annotations import load_gold_labels\n",
    "\n",
    "L_gold_dev = load_gold_labels(session, annotator_name='gold', split=1)"
   ]
  },
  {
   "cell_type": "code",
   "execution_count": 88,
   "metadata": {},
   "outputs": [
    {
     "data": {
      "text/plain": [
       "((120, 1), 120)"
      ]
     },
     "execution_count": 88,
     "metadata": {},
     "output_type": "execute_result"
    }
   ],
   "source": [
    "L_gold_dev.shape, session.query(InducingCytokine).filter(InducingCytokine.split == 1).count()"
   ]
  }
 ],
 "metadata": {
  "kernelspec": {
   "display_name": "Python (snorkel)",
   "language": "python",
   "name": "snorkel"
  },
  "language_info": {
   "codemirror_mode": {
    "name": "ipython",
    "version": 3
   },
   "file_extension": ".py",
   "mimetype": "text/x-python",
   "name": "python",
   "nbconvert_exporter": "python",
   "pygments_lexer": "ipython3",
   "version": "3.6.7"
  }
 },
 "nbformat": 4,
 "nbformat_minor": 2
}
