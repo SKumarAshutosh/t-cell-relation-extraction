{
 "cells": [
  {
   "cell_type": "code",
   "execution_count": 1,
   "metadata": {},
   "outputs": [],
   "source": [
    "import os\n",
    "import os.path as osp\n",
    "import pandas as pd\n",
    "import numpy as np\n",
    "import snorkel\n",
    "import dotenv\n",
    "from snorkel.parser import TextDocPreprocessor\n",
    "from snorkel.parser import CorpusParser\n",
    "from snorkel import SnorkelSession\n",
    "\n",
    "dotenv.load_dotenv('../env.sh')\n",
    "%run ../src/supervision.py\n",
    "corpus_dir = osp.join(os.environ['DATA_DIR'], 'articles', 'corpus', 'corpus_00')\n",
    "corpus_docs_dir = osp.join(corpus_dir, 'links')\n",
    "#collection_dir = osp.join(os.environ['REPO_DATA_DIR'], 'brat', 'collection_01')\n",
    "collection_dir = osp.join(os.environ['REPO_DATA_DIR'], 'brat', 'collection_02')\n",
    "session = SnorkelSession()"
   ]
  },
  {
   "cell_type": "code",
   "execution_count": null,
   "metadata": {},
   "outputs": [],
   "source": [
    "# Clear existing candidates, if need be\n",
    "\n",
    "from snorkel.models import Candidate\n",
    "ct = session.query(Candidate).count()\n",
    "# if ct > 0:\n",
    "#     # Clear all existing candidates (don't let extractors do it)\n",
    "#     # See: https://github.com/HazyResearch/snorkel/blob/master/snorkel/candidates.py#L47\n",
    "#     # *This seems to always cause a database lock somehow -- perhaps it needs to be done with autocommit but\n",
    "#     # for now a workaround is to do this at the beginning and the restart the kernel\n",
    "#     from snorkel.models import Candidate\n",
    "#     ndelete = session.query(Candidate).delete()\n",
    "#     session.commit()\n",
    "#     # Restart kernel\n",
    "ct"
   ]
  },
  {
   "cell_type": "code",
   "execution_count": 7,
   "metadata": {},
   "outputs": [
    {
     "name": "stdout",
     "output_type": "stream",
     "text": [
      "CYTOKINE                22440\n",
      "IMMUNE_CELL_TYPE        21023\n",
      "TRANSCRIPTION_FACTOR    16806\n",
      "Name: type, dtype: int64\n"
     ]
    },
    {
     "data": {
      "text/html": [
       "<div>\n",
       "<style scoped>\n",
       "    .dataframe tbody tr th:only-of-type {\n",
       "        vertical-align: middle;\n",
       "    }\n",
       "\n",
       "    .dataframe tbody tr th {\n",
       "        vertical-align: top;\n",
       "    }\n",
       "\n",
       "    .dataframe thead th {\n",
       "        text-align: right;\n",
       "    }\n",
       "</style>\n",
       "<table border=\"1\" class=\"dataframe\">\n",
       "  <thead>\n",
       "    <tr style=\"text-align: right;\">\n",
       "      <th></th>\n",
       "      <th>id</th>\n",
       "      <th>type</th>\n",
       "      <th>ent_id</th>\n",
       "      <th>ent_lbl</th>\n",
       "      <th>ent_prefid</th>\n",
       "      <th>start_chr</th>\n",
       "      <th>end_chr</th>\n",
       "      <th>start_wrd</th>\n",
       "      <th>end_wrd</th>\n",
       "      <th>text</th>\n",
       "    </tr>\n",
       "  </thead>\n",
       "  <tbody>\n",
       "    <tr>\n",
       "      <th>1</th>\n",
       "      <td>PMC5743442</td>\n",
       "      <td>IMMUNE_CELL_TYPE</td>\n",
       "      <td>CTBFBDE5121B6748D1</td>\n",
       "      <td>Th17</td>\n",
       "      <td>CTBFBDE5121B6748D1</td>\n",
       "      <td>65</td>\n",
       "      <td>69</td>\n",
       "      <td>8</td>\n",
       "      <td>9</td>\n",
       "      <td>Th17</td>\n",
       "    </tr>\n",
       "    <tr>\n",
       "      <th>2</th>\n",
       "      <td>PMC5743442</td>\n",
       "      <td>IMMUNE_CELL_TYPE</td>\n",
       "      <td>CTBFBDE5121B6748D1</td>\n",
       "      <td>Th17</td>\n",
       "      <td>CTBFBDE5121B6748D1</td>\n",
       "      <td>87</td>\n",
       "      <td>91</td>\n",
       "      <td>11</td>\n",
       "      <td>12</td>\n",
       "      <td>Th17</td>\n",
       "    </tr>\n",
       "    <tr>\n",
       "      <th>3</th>\n",
       "      <td>PMC5743442</td>\n",
       "      <td>CYTOKINE</td>\n",
       "      <td>CKFD4CA0B2B4BC3AE4</td>\n",
       "      <td>TGF-β</td>\n",
       "      <td>CKFD4CA0B2B4BC3AE4</td>\n",
       "      <td>174</td>\n",
       "      <td>179</td>\n",
       "      <td>25</td>\n",
       "      <td>26</td>\n",
       "      <td>TGF-β</td>\n",
       "    </tr>\n",
       "    <tr>\n",
       "      <th>4</th>\n",
       "      <td>PMC5743442</td>\n",
       "      <td>IMMUNE_CELL_TYPE</td>\n",
       "      <td>CTBFBDE5121B6748D1</td>\n",
       "      <td>Th17</td>\n",
       "      <td>CTBFBDE5121B6748D1</td>\n",
       "      <td>199</td>\n",
       "      <td>203</td>\n",
       "      <td>29</td>\n",
       "      <td>30</td>\n",
       "      <td>Th17</td>\n",
       "    </tr>\n",
       "    <tr>\n",
       "      <th>6</th>\n",
       "      <td>PMC5743442</td>\n",
       "      <td>CYTOKINE</td>\n",
       "      <td>CKC59F8990F767EBD4</td>\n",
       "      <td>TGF-β</td>\n",
       "      <td>CKC59F8990F767EBD4</td>\n",
       "      <td>275</td>\n",
       "      <td>280</td>\n",
       "      <td>42</td>\n",
       "      <td>43</td>\n",
       "      <td>TGF-β</td>\n",
       "    </tr>\n",
       "  </tbody>\n",
       "</table>\n",
       "</div>"
      ],
      "text/plain": [
       "           id              type              ent_id ent_lbl  \\\n",
       "1  PMC5743442  IMMUNE_CELL_TYPE  CTBFBDE5121B6748D1    Th17   \n",
       "2  PMC5743442  IMMUNE_CELL_TYPE  CTBFBDE5121B6748D1    Th17   \n",
       "3  PMC5743442          CYTOKINE  CKFD4CA0B2B4BC3AE4   TGF-β   \n",
       "4  PMC5743442  IMMUNE_CELL_TYPE  CTBFBDE5121B6748D1    Th17   \n",
       "6  PMC5743442          CYTOKINE  CKC59F8990F767EBD4   TGF-β   \n",
       "\n",
       "           ent_prefid  start_chr  end_chr  start_wrd  end_wrd   text  \n",
       "1  CTBFBDE5121B6748D1         65       69          8        9   Th17  \n",
       "2  CTBFBDE5121B6748D1         87       91         11       12   Th17  \n",
       "3  CKFD4CA0B2B4BC3AE4        174      179         25       26  TGF-β  \n",
       "4  CTBFBDE5121B6748D1        199      203         29       30   Th17  \n",
       "6  CKC59F8990F767EBD4        275      280         42       43  TGF-β  "
      ]
     },
     "execution_count": 7,
     "metadata": {},
     "output_type": "execute_result"
    }
   ],
   "source": [
    "tags = pd.read_csv(osp.join(corpus_dir, 'tags.csv'))\n",
    "tags = tags[tags['type'].isin(ENT_TYPES)]\n",
    "print(tags['type'].value_counts())\n",
    "tags.head()"
   ]
  },
  {
   "cell_type": "code",
   "execution_count": null,
   "metadata": {},
   "outputs": [],
   "source": [
    "#doc_preprocessor = TextDocPreprocessor(corpus_docs_dir, max_docs=10)\n",
    "doc_preprocessor = TextDocPreprocessor(corpus_docs_dir)"
   ]
  },
  {
   "cell_type": "code",
   "execution_count": 9,
   "metadata": {},
   "outputs": [
    {
     "data": {
      "text/plain": [
       "True     102\n",
       "False      7\n",
       "dtype: int64"
      ]
     },
     "execution_count": 9,
     "metadata": {},
     "output_type": "execute_result"
    }
   ],
   "source": [
    "def get_annotated_doc_ids():\n",
    "    import glob\n",
    "    return [osp.splitext(osp.basename(f))[0] for f in glob.glob(osp.join(collection_dir, '*.txt'))]\n",
    "annotated_ids = get_annotated_doc_ids()\n",
    "# Show frequency of docs that are annotated AND have tags of some kind\n",
    "pd.Series({did:did in tags['id'].values for did in annotated_ids}).value_counts()"
   ]
  },
  {
   "cell_type": "code",
   "execution_count": 9,
   "metadata": {},
   "outputs": [],
   "source": [
    "from string import punctuation\n",
    "\n",
    "def offsets_to_token(left, right, offset_array, lemmas, punc=set(punctuation)):\n",
    "    token_start, token_end = None, None\n",
    "    for i, c in enumerate(offset_array):\n",
    "        if left >= c:\n",
    "            token_start = i\n",
    "        if c > right and token_end is None:\n",
    "            token_end = i\n",
    "            break\n",
    "    token_end = len(offset_array) - 1 if token_end is None else token_end\n",
    "    token_end = token_end - 1 if lemmas[token_end - 1] in punc else token_end\n",
    "    return range(token_start, token_end)\n",
    "\n",
    "\n",
    "class EntityTagger(object):\n",
    "\n",
    "    def __init__(self, tags):   \n",
    "        self.tags = tags.set_index('id')\n",
    "        self.reset_stats()\n",
    "\n",
    "    def reset_stats(self):\n",
    "        self.stats = {'docs': set(), 'found': set()}\n",
    "        return self\n",
    "    \n",
    "    def get_stats(self):\n",
    "        return dict(\n",
    "            n_tags=len(self.tags), \n",
    "            n_docs=len(self.stats['docs']),\n",
    "            n_docs_found=len(self.stats['found']),\n",
    "            pct_docs_found=100*len(self.stats['found'])/len(self.stats['docs'])\n",
    "        )\n",
    "    \n",
    "    def tag(self, parts):\n",
    "        \"\"\"Tag tokens in a single sentence\"\"\"\n",
    "        # Extract doc id (e.g. PMC123932) and character offsets of sentence\n",
    "        docid, _, _, sent_start, sent_end = parts['stable_id'].split(':')\n",
    "        self.stats['docs'].add(docid)\n",
    "        if docid not in self.tags.index:\n",
    "            return parts\n",
    "        self.stats['found'].add(docid)\n",
    "        tags = self.tags.loc[[docid]]\n",
    "        sent_start, sent_end = int(sent_start), int(sent_end)\n",
    "        for r in tags.itertuples():\n",
    "            tag_start, tag_end = r.start_chr, r.end_chr\n",
    "            # Determine whether or not the tag is in this sentence\n",
    "            if not (sent_start <= tag_start <= sent_end):\n",
    "                continue\n",
    "            offsets = [offset + sent_start for offset in parts['char_offsets']]\n",
    "            tkn_idx_rng = offsets_to_token(tag_start, tag_end, offsets, parts['lemmas'])\n",
    "            for tkn_idx in tkn_idx_rng:\n",
    "                parts['entity_types'][tkn_idx] = r.type.lower()\n",
    "                parts['entity_cids'][tkn_idx] = r.ent_id + ':' + r.ent_prefid\n",
    "        return parts"
   ]
  },
  {
   "cell_type": "code",
   "execution_count": 10,
   "metadata": {},
   "outputs": [
    {
     "name": "stdout",
     "output_type": "stream",
     "text": [
      "Clearing existing...\n"
     ]
    },
    {
     "name": "stderr",
     "output_type": "stream",
     "text": [
      "\r",
      "  0%|          | 0/595 [00:00<?, ?it/s]"
     ]
    },
    {
     "name": "stdout",
     "output_type": "stream",
     "text": [
      "Running UDF...\n"
     ]
    },
    {
     "name": "stderr",
     "output_type": "stream",
     "text": [
      "100%|██████████| 595/595 [06:35<00:00,  1.51it/s]\n"
     ]
    }
   ],
   "source": [
    "from snorkel.parser import CorpusParser, Spacy\n",
    "\n",
    "tagger = EntityTagger(tags)\n",
    "corpus_parser = CorpusParser(fn=tagger.tag)\n",
    "corpus_parser.apply(list(doc_preprocessor))"
   ]
  },
  {
   "cell_type": "code",
   "execution_count": 11,
   "metadata": {},
   "outputs": [
    {
     "data": {
      "text/plain": [
       "{'n_tags': 60269,\n",
       " 'n_docs': 595,\n",
       " 'n_docs_found': 556,\n",
       " 'pct_docs_found': 93.4453781512605}"
      ]
     },
     "execution_count": 11,
     "metadata": {},
     "output_type": "execute_result"
    }
   ],
   "source": [
    "# This will show how many documents didn't have any tagged\n",
    "# (or that were otherwise not included in tagging but included\n",
    "# here in parsing -- which should be rare)\n",
    "tagger.get_stats()"
   ]
  },
  {
   "cell_type": "code",
   "execution_count": 4,
   "metadata": {},
   "outputs": [
    {
     "name": "stdout",
     "output_type": "stream",
     "text": [
      "Documents: 595\n",
      "Sentences: 72547\n"
     ]
    }
   ],
   "source": [
    "from snorkel.models import Document, Sentence\n",
    "\n",
    "print(\"Documents:\", session.query(Document).count())\n",
    "print(\"Sentences:\", session.query(Sentence).count())"
   ]
  },
  {
   "cell_type": "code",
   "execution_count": 5,
   "metadata": {},
   "outputs": [],
   "source": [
    "docs = session.query(Document).all()"
   ]
  },
  {
   "cell_type": "code",
   "execution_count": 10,
   "metadata": {},
   "outputs": [
    {
     "data": {
      "text/plain": [
       "(454, 109)"
      ]
     },
     "execution_count": 10,
     "metadata": {},
     "output_type": "execute_result"
    }
   ],
   "source": [
    "all_ids = [doc.name for doc in docs]\n",
    "tagged_ids = list(np.intersect1d(all_ids, tags['id']))\n",
    "dev_ids = list(set(annotated_ids))\n",
    "train_ids = [i for i in tagged_ids if i not in dev_ids]\n",
    "len(train_ids), len(dev_ids)"
   ]
  },
  {
   "cell_type": "code",
   "execution_count": 11,
   "metadata": {},
   "outputs": [],
   "source": [
    "train_sents, dev_sents = set(), set()\n",
    "for i, doc in enumerate(docs):\n",
    "    if doc.name not in tagged_ids:\n",
    "        continue\n",
    "    for s in doc.sentences:\n",
    "        if doc.name in train_ids:\n",
    "            train_sents.add(s)\n",
    "        elif doc.name in dev_ids:\n",
    "            dev_sents.add(s)\n",
    "        else:\n",
    "            raise Exception('ID <{0}> not found in any id set'.format(doc.name))"
   ]
  },
  {
   "cell_type": "code",
   "execution_count": 16,
   "metadata": {},
   "outputs": [],
   "source": [
    "# for sent in session.query(Sentence).all():\n",
    "#     if 'cytokine' in sent.entity_types and 'cell_type' in sent.entity_types:\n",
    "#         print(set(sent.entity_types))"
   ]
  },
  {
   "cell_type": "code",
   "execution_count": 12,
   "metadata": {},
   "outputs": [],
   "source": [
    "from snorkel.candidates import PretaggedCandidateExtractor\n",
    "classes = get_relation_classes()\n",
    "\n",
    "# The entity_types passed here appear to need to be exact matches on the strings\n",
    "# provided above if \"_\" is included (must be some kind of camel case conversion oversight)\n",
    "#candidate_extractor = PretaggedCandidateExtractor(InducingCytokine, ['cytokine', 'cell_type'])\n",
    "candidate_extractors = [\n",
    "    PretaggedCandidateExtractor(classes.inducing_cytokine_class, classes.inducing_cytokine_types),\n",
    "    PretaggedCandidateExtractor(classes.secreted_cytokine_class, classes.secreted_cytokine_types),\n",
    "    PretaggedCandidateExtractor(classes.inducing_transcription_factor_class, classes.inducing_transcription_factor_types),\n",
    "]"
   ]
  },
  {
   "cell_type": "code",
   "execution_count": 14,
   "metadata": {},
   "outputs": [
    {
     "name": "stderr",
     "output_type": "stream",
     "text": [
      "  0%|          | 144/69941 [00:00<00:51, 1349.38it/s]"
     ]
    },
    {
     "name": "stdout",
     "output_type": "stream",
     "text": [
      "Running UDF...\n"
     ]
    },
    {
     "name": "stderr",
     "output_type": "stream",
     "text": [
      "100%|██████████| 69941/69941 [00:32<00:00, 2127.07it/s]\n",
      "  0%|          | 259/69941 [00:00<00:30, 2258.16it/s]"
     ]
    },
    {
     "name": "stdout",
     "output_type": "stream",
     "text": [
      "Number of candidates generated for split 0, relation type InducingCytokine: 11817\n",
      "Running UDF...\n"
     ]
    },
    {
     "name": "stderr",
     "output_type": "stream",
     "text": [
      "100%|██████████| 69941/69941 [00:27<00:00, 2551.44it/s]\n",
      "  0%|          | 259/69941 [00:00<00:29, 2351.08it/s]"
     ]
    },
    {
     "name": "stdout",
     "output_type": "stream",
     "text": [
      "Number of candidates generated for split 0, relation type SecretedCytokine: 11817\n",
      "Running UDF...\n"
     ]
    },
    {
     "name": "stderr",
     "output_type": "stream",
     "text": [
      "100%|██████████| 69941/69941 [00:22<00:00, 3062.05it/s]\n",
      "  6%|▌         | 131/2320 [00:00<00:01, 1288.68it/s]"
     ]
    },
    {
     "name": "stdout",
     "output_type": "stream",
     "text": [
      "Number of candidates generated for split 0, relation type InducingTranscriptionFactor: 8462\n",
      "Running UDF...\n"
     ]
    },
    {
     "name": "stderr",
     "output_type": "stream",
     "text": [
      "100%|██████████| 2320/2320 [00:01<00:00, 1718.82it/s]\n",
      "  6%|▌         | 144/2320 [00:00<00:01, 1407.87it/s]"
     ]
    },
    {
     "name": "stdout",
     "output_type": "stream",
     "text": [
      "Number of candidates generated for split 1, relation type InducingCytokine: 662\n",
      "Running UDF...\n"
     ]
    },
    {
     "name": "stderr",
     "output_type": "stream",
     "text": [
      "100%|██████████| 2320/2320 [00:01<00:00, 1963.41it/s]\n",
      " 12%|█▏        | 285/2320 [00:00<00:00, 2830.72it/s]"
     ]
    },
    {
     "name": "stdout",
     "output_type": "stream",
     "text": [
      "Number of candidates generated for split 1, relation type SecretedCytokine: 662\n",
      "Running UDF...\n"
     ]
    },
    {
     "name": "stderr",
     "output_type": "stream",
     "text": [
      "100%|██████████| 2320/2320 [00:00<00:00, 2431.39it/s]"
     ]
    },
    {
     "name": "stdout",
     "output_type": "stream",
     "text": [
      "Number of candidates generated for split 1, relation type InducingTranscriptionFactor: 455\n"
     ]
    },
    {
     "name": "stderr",
     "output_type": "stream",
     "text": [
      "\n"
     ]
    }
   ],
   "source": [
    "for k, sents in enumerate([train_sents, dev_sents]):\n",
    "    for extractor in candidate_extractors:\n",
    "        relation_class = extractor.udf_init_kwargs['candidate_class']\n",
    "        extractor.apply(sents, split=k, clear=False)\n",
    "        print('Number of candidates generated for split {}, relation type {}: {}'.format(\n",
    "            k, relation_class.__name__,\n",
    "            session.query(relation_class).filter(relation_class.split == k).count()\n",
    "        ))"
   ]
  },
  {
   "cell_type": "markdown",
   "metadata": {},
   "source": [
    "## Load Relations"
   ]
  },
  {
   "cell_type": "code",
   "execution_count": 15,
   "metadata": {},
   "outputs": [
    {
     "data": {
      "text/html": [
       "<div>\n",
       "<style scoped>\n",
       "    .dataframe tbody tr th:only-of-type {\n",
       "        vertical-align: middle;\n",
       "    }\n",
       "\n",
       "    .dataframe tbody tr th {\n",
       "        vertical-align: top;\n",
       "    }\n",
       "\n",
       "    .dataframe thead th {\n",
       "        text-align: right;\n",
       "    }\n",
       "</style>\n",
       "<table border=\"1\" class=\"dataframe\">\n",
       "  <thead>\n",
       "    <tr style=\"text-align: right;\">\n",
       "      <th></th>\n",
       "      <th>e1_end_chr</th>\n",
       "      <th>e1_start_chr</th>\n",
       "      <th>e1_text</th>\n",
       "      <th>e1_typ</th>\n",
       "      <th>e2_end_chr</th>\n",
       "      <th>e2_start_chr</th>\n",
       "      <th>e2_text</th>\n",
       "      <th>e2_typ</th>\n",
       "      <th>id</th>\n",
       "      <th>rel_typ</th>\n",
       "    </tr>\n",
       "  </thead>\n",
       "  <tbody>\n",
       "    <tr>\n",
       "      <th>0</th>\n",
       "      <td>24</td>\n",
       "      <td>19</td>\n",
       "      <td>Gfi-1</td>\n",
       "      <td>TRANSCRIPTION_FACTOR</td>\n",
       "      <td>85</td>\n",
       "      <td>81</td>\n",
       "      <td>Th17</td>\n",
       "      <td>IMMUNE_CELL_TYPE</td>\n",
       "      <td>PMC2646571</td>\n",
       "      <td>Differentiation</td>\n",
       "    </tr>\n",
       "    <tr>\n",
       "      <th>1</th>\n",
       "      <td>44</td>\n",
       "      <td>39</td>\n",
       "      <td>TGF-β</td>\n",
       "      <td>CYTOKINE</td>\n",
       "      <td>85</td>\n",
       "      <td>81</td>\n",
       "      <td>Th17</td>\n",
       "      <td>IMMUNE_CELL_TYPE</td>\n",
       "      <td>PMC2646571</td>\n",
       "      <td>Induction</td>\n",
       "    </tr>\n",
       "    <tr>\n",
       "      <th>2</th>\n",
       "      <td>44</td>\n",
       "      <td>39</td>\n",
       "      <td>TGF-β</td>\n",
       "      <td>CYTOKINE</td>\n",
       "      <td>125</td>\n",
       "      <td>90</td>\n",
       "      <td>CD103+ inducible regulatory T cells</td>\n",
       "      <td>IMMUNE_CELL_TYPE</td>\n",
       "      <td>PMC2646571</td>\n",
       "      <td>Induction</td>\n",
       "    </tr>\n",
       "    <tr>\n",
       "      <th>3</th>\n",
       "      <td>24</td>\n",
       "      <td>19</td>\n",
       "      <td>Gfi-1</td>\n",
       "      <td>TRANSCRIPTION_FACTOR</td>\n",
       "      <td>125</td>\n",
       "      <td>90</td>\n",
       "      <td>CD103+ inducible regulatory T cells</td>\n",
       "      <td>IMMUNE_CELL_TYPE</td>\n",
       "      <td>PMC2646571</td>\n",
       "      <td>Differentiation</td>\n",
       "    </tr>\n",
       "    <tr>\n",
       "      <th>4</th>\n",
       "      <td>371</td>\n",
       "      <td>366</td>\n",
       "      <td>Gfi-1</td>\n",
       "      <td>TRANSCRIPTION_FACTOR</td>\n",
       "      <td>436</td>\n",
       "      <td>433</td>\n",
       "      <td>Th2</td>\n",
       "      <td>IMMUNE_CELL_TYPE</td>\n",
       "      <td>PMC2646571</td>\n",
       "      <td>Differentiation</td>\n",
       "    </tr>\n",
       "  </tbody>\n",
       "</table>\n",
       "</div>"
      ],
      "text/plain": [
       "   e1_end_chr  e1_start_chr e1_text                e1_typ  e2_end_chr  \\\n",
       "0          24            19   Gfi-1  TRANSCRIPTION_FACTOR          85   \n",
       "1          44            39   TGF-β              CYTOKINE          85   \n",
       "2          44            39   TGF-β              CYTOKINE         125   \n",
       "3          24            19   Gfi-1  TRANSCRIPTION_FACTOR         125   \n",
       "4         371           366   Gfi-1  TRANSCRIPTION_FACTOR         436   \n",
       "\n",
       "   e2_start_chr                              e2_text            e2_typ  \\\n",
       "0            81                                 Th17  IMMUNE_CELL_TYPE   \n",
       "1            81                                 Th17  IMMUNE_CELL_TYPE   \n",
       "2            90  CD103+ inducible regulatory T cells  IMMUNE_CELL_TYPE   \n",
       "3            90  CD103+ inducible regulatory T cells  IMMUNE_CELL_TYPE   \n",
       "4           433                                  Th2  IMMUNE_CELL_TYPE   \n",
       "\n",
       "           id          rel_typ  \n",
       "0  PMC2646571  Differentiation  \n",
       "1  PMC2646571        Induction  \n",
       "2  PMC2646571        Induction  \n",
       "3  PMC2646571  Differentiation  \n",
       "4  PMC2646571  Differentiation  "
      ]
     },
     "execution_count": 15,
     "metadata": {},
     "output_type": "execute_result"
    }
   ],
   "source": [
    "relations = pd.read_csv(osp.join(corpus_dir, 'relations.csv'))\n",
    "relations.head()"
   ]
  },
  {
   "cell_type": "code",
   "execution_count": 17,
   "metadata": {},
   "outputs": [
    {
     "data": {
      "text/plain": [
       "Induction          116\n",
       "Secretion          113\n",
       "Differentiation    101\n",
       "Name: rel_typ, dtype: int64"
      ]
     },
     "execution_count": 17,
     "metadata": {},
     "output_type": "execute_result"
    }
   ],
   "source": [
    "relations['rel_typ'].value_counts()"
   ]
  },
  {
   "cell_type": "code",
   "execution_count": 16,
   "metadata": {},
   "outputs": [
    {
     "data": {
      "text/plain": [
       "e1_typ                e2_typ          \n",
       "CYTOKINE              IMMUNE_CELL_TYPE    116\n",
       "IMMUNE_CELL_TYPE      CYTOKINE            113\n",
       "TRANSCRIPTION_FACTOR  IMMUNE_CELL_TYPE    101\n",
       "dtype: int64"
      ]
     },
     "execution_count": 16,
     "metadata": {},
     "output_type": "execute_result"
    }
   ],
   "source": [
    "relations.groupby(['e1_typ', 'e2_typ']).size()"
   ]
  },
  {
   "cell_type": "code",
   "execution_count": 21,
   "metadata": {},
   "outputs": [],
   "source": [
    "# person1\tperson2\tlabel\n",
    "# 36c3703b-bd5b-4888-be46-2f45bcb37f8e::span:95:106\t36c3703b-bd5b-4888-be46-2f45bcb37f8e::span:0:10\t1\n",
    "# e16a971f-23ce-42e4-81df-b2386126f8b3::span:126:134\te16a971f-23ce-42e4-81df-b2386126f8b3::span:140:157\t-1"
   ]
  },
  {
   "cell_type": "code",
   "execution_count": 44,
   "metadata": {},
   "outputs": [
    {
     "name": "stdout",
     "output_type": "stream",
     "text": [
      "Found 116 relations for type Induction\n",
      "AnnotatorLabels created: 99\n",
      "Found 113 relations for type Secretion\n",
      "AnnotatorLabels created: 99\n",
      "Found 101 relations for type Differentiation\n",
      "AnnotatorLabels created: 59\n"
     ]
    }
   ],
   "source": [
    "from snorkel.models import StableLabel\n",
    "from snorkel.db_helpers import reload_annotator_labels\n",
    "\n",
    "def get_stable_id(r):\n",
    "    return '{}::span:{}:{}'.format(r['id'], r['start_chr'], r['end_chr']-1)\n",
    "\n",
    "def load_external_labels(session, relations, candidate_class, annotator_name='gold'):\n",
    "    for i, r in relations.iterrows():    \n",
    "\n",
    "        # We check if the label already exists, in case this cell was already executed\n",
    "        e1_id = get_stable_id(r.filter(regex='^e1_|^id$').rename(lambda v: v.replace('e1_', '')))\n",
    "        e2_id = get_stable_id(r.filter(regex='^e2_|^id$').rename(lambda v: v.replace('e2_', '')))\n",
    "        \n",
    "        context_stable_ids = \"~~\".join([e1_id, e2_id])\n",
    "        query = session.query(StableLabel)\\\n",
    "            .filter(StableLabel.context_stable_ids == context_stable_ids)\\\n",
    "            .filter(StableLabel.annotator_name == annotator_name)\n",
    "        if query.count() == 0:\n",
    "            session.add(StableLabel(\n",
    "                context_stable_ids=context_stable_ids,\n",
    "                annotator_name=annotator_name,\n",
    "                value=1\n",
    "            ))\n",
    "            \n",
    "    session.commit()\n",
    "    reload_annotator_labels(\n",
    "        session, candidate_class, annotator_name, split=1, \n",
    "        filter_label_split=False, create_missing_cands=False)\n",
    "    \n",
    "for extractor in candidate_extractors:\n",
    "    relation_class = extractor.udf_init_kwargs['candidate_class']\n",
    "    label = RELATION_CLASSES[relation_class.__name__]['label']\n",
    "    df = relations[relations['rel_typ'] == label]\n",
    "    print('Found {} relations for type {}'.format(len(df), label))\n",
    "    load_external_labels(session, df, relation_class)"
   ]
  },
  {
   "cell_type": "code",
   "execution_count": 43,
   "metadata": {},
   "outputs": [
    {
     "data": {
      "text/plain": [
       "(0, 0, 0)"
      ]
     },
     "execution_count": 43,
     "metadata": {},
     "output_type": "execute_result"
    }
   ],
   "source": [
    "session.execute('DELETE FROM stable_label;')\n",
    "session.execute('DELETE FROM gold_label;')\n",
    "session.execute('DELETE FROM gold_label_key;')\n",
    "from snorkel.models import GoldLabel, GoldLabelKey, StableLabel\n",
    "session.commit()\n",
    "session.query(StableLabel).count(), session.query(GoldLabel).count(), session.query(GoldLabelKey).count()"
   ]
  },
  {
   "cell_type": "code",
   "execution_count": 45,
   "metadata": {},
   "outputs": [],
   "source": [
    "# stbl_ids = np.unique([\n",
    "#     v\n",
    "#     for r in session.query(StableLabel).all() \n",
    "#     for v in r.context_stable_ids.split('~~')\n",
    "# ])\n",
    "# cand_ids = np.unique([\n",
    "#     cand.get_stable_id()\n",
    "#     for r in session.query(InducingCytokine).all()\n",
    "#     for cand in r\n",
    "# ])\n",
    "# len(np.intersect1d(stbl_ids, cand_ids)), len(stbl_ids), len(cand_ids)"
   ]
  },
  {
   "cell_type": "code",
   "execution_count": 46,
   "metadata": {},
   "outputs": [],
   "source": [
    "from snorkel.annotations import load_gold_labels\n",
    "\n",
    "L_gold_dev = load_gold_labels(session, annotator_name='gold', split=1)"
   ]
  },
  {
   "cell_type": "code",
   "execution_count": 57,
   "metadata": {},
   "outputs": [
    {
     "data": {
      "text/plain": [
       "(snorkel.annotations.csr_LabelMatrix, (1779, 1))"
      ]
     },
     "execution_count": 57,
     "metadata": {},
     "output_type": "execute_result"
    }
   ],
   "source": [
    "type(L_gold_dev), L_gold_dev.shape"
   ]
  },
  {
   "cell_type": "code",
   "execution_count": 55,
   "metadata": {},
   "outputs": [
    {
     "data": {
      "text/plain": [
       "SecretedCytokine               662\n",
       "InducingCytokine               662\n",
       "InducingTranscriptionFactor    455\n",
       "dtype: int64"
      ]
     },
     "execution_count": 55,
     "metadata": {},
     "output_type": "execute_result"
    }
   ],
   "source": [
    "pd.Series([type(L_gold_dev.get_candidate(session, i)).__name__ for i in range(L_gold_dev.shape[0])]).value_counts()"
   ]
  },
  {
   "cell_type": "code",
   "execution_count": 56,
   "metadata": {},
   "outputs": [],
   "source": [
    "#L_gold_dev.shape, session.query(InducingCytokine).filter(InducingCytokine.split == 1).count()"
   ]
  }
 ],
 "metadata": {
  "kernelspec": {
   "display_name": "Python (snorkel)",
   "language": "python",
   "name": "snorkel"
  },
  "language_info": {
   "codemirror_mode": {
    "name": "ipython",
    "version": 3
   },
   "file_extension": ".py",
   "mimetype": "text/x-python",
   "name": "python",
   "nbconvert_exporter": "python",
   "pygments_lexer": "ipython3",
   "version": "3.6.7"
  }
 },
 "nbformat": 4,
 "nbformat_minor": 2
}
