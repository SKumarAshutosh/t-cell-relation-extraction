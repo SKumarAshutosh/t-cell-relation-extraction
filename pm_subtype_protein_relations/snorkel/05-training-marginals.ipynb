{
 "cells": [
  {
   "cell_type": "code",
   "execution_count": 1,
   "metadata": {},
   "outputs": [],
   "source": [
    "import os.path as osp\n",
    "import dotenv\n",
    "from snorkel import SnorkelSession\n",
    "dotenv.load_dotenv('../env.sh')\n",
    "session = SnorkelSession()"
   ]
  },
  {
   "cell_type": "code",
   "execution_count": 2,
   "metadata": {},
   "outputs": [],
   "source": [
    "from snorkel.models import candidate_subclass\n",
    "\n",
    "InducingCytokine = candidate_subclass('InducingCytokine', ['cytokine', 'cell_type'])\n",
    "train_cands = session.query(InducingCytokine).filter(InducingCytokine.split == 0).all()\n",
    "dev_cands = session.query(InducingCytokine).filter(InducingCytokine.split == 1).all()"
   ]
  },
  {
   "cell_type": "code",
   "execution_count": 4,
   "metadata": {},
   "outputs": [
    {
     "data": {
      "text/plain": [
       "[InducingCytokine(Span(\"b'IFN-\\xce\\xb2'\", sentence=1201, chars=[6,10], words=[1,1]), Span(\"b'Th2'\", sentence=1201, chars=[100,102], words=[16,16])),\n",
       " InducingCytokine(Span(\"b'IL-4'\", sentence=1173, chars=[238,241], words=[47,47]), Span(\"b'Th2'\", sentence=1173, chars=[210,212], words=[43,43])),\n",
       " InducingCytokine(Span(\"b'IL-5'\", sentence=1173, chars=[250,253], words=[49,49]), Span(\"b'Th2'\", sentence=1173, chars=[210,212], words=[43,43])),\n",
       " InducingCytokine(Span(\"b'IL-13'\", sentence=1173, chars=[262,266], words=[51,51]), Span(\"b'Th2'\", sentence=1173, chars=[210,212], words=[43,43])),\n",
       " InducingCytokine(Span(\"b'IL-17'\", sentence=836, chars=[124,128], words=[22,22]), Span(\"b'Th17'\", sentence=836, chars=[143,146], words=[26,26]))]"
      ]
     },
     "execution_count": 4,
     "metadata": {},
     "output_type": "execute_result"
    }
   ],
   "source": [
    "train_cands[:5]"
   ]
  }
 ],
 "metadata": {
  "kernelspec": {
   "display_name": "Python (snorkel)",
   "language": "python",
   "name": "snorkel"
  },
  "language_info": {
   "codemirror_mode": {
    "name": "ipython",
    "version": 3
   },
   "file_extension": ".py",
   "mimetype": "text/x-python",
   "name": "python",
   "nbconvert_exporter": "python",
   "pygments_lexer": "ipython3",
   "version": "3.6.7"
  }
 },
 "nbformat": 4,
 "nbformat_minor": 2
}
