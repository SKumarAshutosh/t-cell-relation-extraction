{
 "cells": [
  {
   "cell_type": "code",
   "execution_count": 1,
   "metadata": {},
   "outputs": [],
   "source": [
    "%run utils.py\n",
    "%matplotlib inline\n",
    "import os.path as osp\n",
    "import pandas as pd\n",
    "import numpy as np\n",
    "import tqdm\n",
    "import mygene"
   ]
  },
  {
   "cell_type": "code",
   "execution_count": 2,
   "metadata": {},
   "outputs": [],
   "source": [
    "mg = mygene.MyGeneInfo()"
   ]
  },
  {
   "cell_type": "code",
   "execution_count": 3,
   "metadata": {},
   "outputs": [
    {
     "name": "stdout",
     "output_type": "stream",
     "text": [
      "<class 'pandas.core.frame.DataFrame'>\n",
      "RangeIndex: 61175 entries, 0 to 61174\n",
      "Data columns (total 8 columns):\n",
      "id            61175 non-null int64\n",
      "start         61175 non-null int64\n",
      "end           61175 non-null int64\n",
      "value         61175 non-null object\n",
      "class         61175 non-null object\n",
      "value_norm    61175 non-null object\n",
      "value_lbl     61175 non-null object\n",
      "value_sym     17228 non-null object\n",
      "dtypes: int64(3), object(5)\n",
      "memory usage: 3.7+ MB\n"
     ]
    }
   ],
   "source": [
    "df_pr = pd.read_csv(osp.join(DATA_DIR, 'pubmed_abstract_proteins_resolved.csv'))\n",
    "df_pr.info()"
   ]
  },
  {
   "cell_type": "code",
   "execution_count": 4,
   "metadata": {},
   "outputs": [],
   "source": [
    "# Use normalized raw value instead of HGNC-resolved value_lbl\n",
    "qfld = 'value_norm'"
   ]
  },
  {
   "cell_type": "markdown",
   "metadata": {},
   "source": [
    "## Build Queries"
   ]
  },
  {
   "cell_type": "code",
   "execution_count": 5,
   "metadata": {},
   "outputs": [
    {
     "data": {
      "text/html": [
       "<div>\n",
       "<style scoped>\n",
       "    .dataframe tbody tr th:only-of-type {\n",
       "        vertical-align: middle;\n",
       "    }\n",
       "\n",
       "    .dataframe tbody tr th {\n",
       "        vertical-align: top;\n",
       "    }\n",
       "\n",
       "    .dataframe thead th {\n",
       "        text-align: right;\n",
       "    }\n",
       "</style>\n",
       "<table border=\"1\" class=\"dataframe\">\n",
       "  <thead>\n",
       "    <tr style=\"text-align: right;\">\n",
       "      <th></th>\n",
       "      <th>query</th>\n",
       "      <th>value_norm</th>\n",
       "    </tr>\n",
       "  </thead>\n",
       "  <tbody>\n",
       "    <tr>\n",
       "      <th>0</th>\n",
       "      <td>FCGRIIB</td>\n",
       "      <td>FCGRIIB</td>\n",
       "    </tr>\n",
       "    <tr>\n",
       "      <th>1</th>\n",
       "      <td>IL2</td>\n",
       "      <td>IL2</td>\n",
       "    </tr>\n",
       "    <tr>\n",
       "      <th>2</th>\n",
       "      <td>FOXP3</td>\n",
       "      <td>FOXP3</td>\n",
       "    </tr>\n",
       "    <tr>\n",
       "      <th>3</th>\n",
       "      <td>CD4</td>\n",
       "      <td>CD4</td>\n",
       "    </tr>\n",
       "    <tr>\n",
       "      <th>4</th>\n",
       "      <td>TCR</td>\n",
       "      <td>TCR</td>\n",
       "    </tr>\n",
       "  </tbody>\n",
       "</table>\n",
       "</div>"
      ],
      "text/plain": [
       "     query value_norm\n",
       "0  FCGRIIB    FCGRIIB\n",
       "1      IL2        IL2\n",
       "2    FOXP3      FOXP3\n",
       "3      CD4        CD4\n",
       "4      TCR        TCR"
      ]
     },
     "execution_count": 5,
     "metadata": {},
     "output_type": "execute_result"
    }
   ],
   "source": [
    "from unidecode import unidecode\n",
    "\n",
    "def normalize_to_query(pr):\n",
    "    # Normalize greeks and super/subscripts (TNFα -> TNFa, CX₃CR1 -> CX3CR1)\n",
    "    # Quotes and ticks will result bad http requests\n",
    "    return unidecode(pr).replace(\"'\", \"\").replace('\"', '')\n",
    "\n",
    "df_query = pd.DataFrame([\n",
    "    {'query': normalize_to_query(pr), qfld: pr}\n",
    "    for pr in df_pr[qfld].unique()\n",
    "])\n",
    "df_query.head()"
   ]
  },
  {
   "cell_type": "code",
   "execution_count": 6,
   "metadata": {},
   "outputs": [
    {
     "data": {
      "text/html": [
       "<div>\n",
       "<style scoped>\n",
       "    .dataframe tbody tr th:only-of-type {\n",
       "        vertical-align: middle;\n",
       "    }\n",
       "\n",
       "    .dataframe tbody tr th {\n",
       "        vertical-align: top;\n",
       "    }\n",
       "\n",
       "    .dataframe thead th {\n",
       "        text-align: right;\n",
       "    }\n",
       "</style>\n",
       "<table border=\"1\" class=\"dataframe\">\n",
       "  <thead>\n",
       "    <tr style=\"text-align: right;\">\n",
       "      <th></th>\n",
       "      <th>query</th>\n",
       "      <th>value_norm</th>\n",
       "    </tr>\n",
       "  </thead>\n",
       "  <tbody>\n",
       "    <tr>\n",
       "      <th>484</th>\n",
       "      <td>CD3E</td>\n",
       "      <td>CD3Ε</td>\n",
       "    </tr>\n",
       "    <tr>\n",
       "      <th>1087</th>\n",
       "      <td>CD3E</td>\n",
       "      <td>CD3Ɛ</td>\n",
       "    </tr>\n",
       "    <tr>\n",
       "      <th>2584</th>\n",
       "      <td>CX3CL1</td>\n",
       "      <td>CX₃CL1</td>\n",
       "    </tr>\n",
       "    <tr>\n",
       "      <th>2125</th>\n",
       "      <td>CX3CL1</td>\n",
       "      <td>CX3CL1</td>\n",
       "    </tr>\n",
       "    <tr>\n",
       "      <th>2586</th>\n",
       "      <td>CX3CR1</td>\n",
       "      <td>CX₃CR1</td>\n",
       "    </tr>\n",
       "    <tr>\n",
       "      <th>342</th>\n",
       "      <td>CX3CR1</td>\n",
       "      <td>CX3CR1</td>\n",
       "    </tr>\n",
       "    <tr>\n",
       "      <th>3402</th>\n",
       "      <td>DP2</td>\n",
       "      <td>DP₂</td>\n",
       "    </tr>\n",
       "    <tr>\n",
       "      <th>2556</th>\n",
       "      <td>DP2</td>\n",
       "      <td>DP2</td>\n",
       "    </tr>\n",
       "    <tr>\n",
       "      <th>3845</th>\n",
       "      <td>FOXP3</td>\n",
       "      <td>FOXP³</td>\n",
       "    </tr>\n",
       "    <tr>\n",
       "      <th>2</th>\n",
       "      <td>FOXP3</td>\n",
       "      <td>FOXP3</td>\n",
       "    </tr>\n",
       "    <tr>\n",
       "      <th>965</th>\n",
       "      <td>MDC</td>\n",
       "      <td>MDC</td>\n",
       "    </tr>\n",
       "    <tr>\n",
       "      <th>4214</th>\n",
       "      <td>MDC</td>\n",
       "      <td>MDC'</td>\n",
       "    </tr>\n",
       "    <tr>\n",
       "      <th>3701</th>\n",
       "      <td>PGD2</td>\n",
       "      <td>PGD₂</td>\n",
       "    </tr>\n",
       "    <tr>\n",
       "      <th>4513</th>\n",
       "      <td>PGD2</td>\n",
       "      <td>PGD2</td>\n",
       "    </tr>\n",
       "    <tr>\n",
       "      <th>328</th>\n",
       "      <td>PHOSPHATIDYLINOSITOL3KINASE</td>\n",
       "      <td>PHOSPHATIDYLINOSITOL3KINASE</td>\n",
       "    </tr>\n",
       "    <tr>\n",
       "      <th>4991</th>\n",
       "      <td>PHOSPHATIDYLINOSITOL3KINASE</td>\n",
       "      <td>PHOSPHATIDYLINOSITOL3'KINASE</td>\n",
       "    </tr>\n",
       "    <tr>\n",
       "      <th>4542</th>\n",
       "      <td>PROSTAGLANDIND2</td>\n",
       "      <td>PROSTAGLANDIND2</td>\n",
       "    </tr>\n",
       "    <tr>\n",
       "      <th>3815</th>\n",
       "      <td>PROSTAGLANDIND2</td>\n",
       "      <td>PROSTAGLANDIND₂</td>\n",
       "    </tr>\n",
       "    <tr>\n",
       "      <th>4215</th>\n",
       "      <td>TARC</td>\n",
       "      <td>TARC'</td>\n",
       "    </tr>\n",
       "    <tr>\n",
       "      <th>1131</th>\n",
       "      <td>TARC</td>\n",
       "      <td>TARC</td>\n",
       "    </tr>\n",
       "    <tr>\n",
       "      <th>3783</th>\n",
       "      <td>TGFb1</td>\n",
       "      <td>TGFβ₁</td>\n",
       "    </tr>\n",
       "    <tr>\n",
       "      <th>33</th>\n",
       "      <td>TGFb1</td>\n",
       "      <td>TGFβ1</td>\n",
       "    </tr>\n",
       "    <tr>\n",
       "      <th>2790</th>\n",
       "      <td>WILMSTUMOR1</td>\n",
       "      <td>WILMS'TUMOR1</td>\n",
       "    </tr>\n",
       "    <tr>\n",
       "      <th>4100</th>\n",
       "      <td>WILMSTUMOR1</td>\n",
       "      <td>WILMSTUMOR1</td>\n",
       "    </tr>\n",
       "  </tbody>\n",
       "</table>\n",
       "</div>"
      ],
      "text/plain": [
       "                            query                    value_norm\n",
       "484                          CD3E                          CD3Ε\n",
       "1087                         CD3E                          CD3Ɛ\n",
       "2584                       CX3CL1                        CX₃CL1\n",
       "2125                       CX3CL1                        CX3CL1\n",
       "2586                       CX3CR1                        CX₃CR1\n",
       "342                        CX3CR1                        CX3CR1\n",
       "3402                          DP2                           DP₂\n",
       "2556                          DP2                           DP2\n",
       "3845                        FOXP3                         FOXP³\n",
       "2                           FOXP3                         FOXP3\n",
       "965                           MDC                           MDC\n",
       "4214                          MDC                          MDC'\n",
       "3701                         PGD2                          PGD₂\n",
       "4513                         PGD2                          PGD2\n",
       "328   PHOSPHATIDYLINOSITOL3KINASE   PHOSPHATIDYLINOSITOL3KINASE\n",
       "4991  PHOSPHATIDYLINOSITOL3KINASE  PHOSPHATIDYLINOSITOL3'KINASE\n",
       "4542              PROSTAGLANDIND2               PROSTAGLANDIND2\n",
       "3815              PROSTAGLANDIND2               PROSTAGLANDIND₂\n",
       "4215                         TARC                         TARC'\n",
       "1131                         TARC                          TARC\n",
       "3783                        TGFb1                         TGFβ₁\n",
       "33                          TGFb1                         TGFβ1\n",
       "2790                  WILMSTUMOR1                  WILMS'TUMOR1\n",
       "4100                  WILMSTUMOR1                   WILMSTUMOR1"
      ]
     },
     "execution_count": 6,
     "metadata": {},
     "output_type": "execute_result"
    }
   ],
   "source": [
    "# Show proteins that normalized to the same query terms (which isn't a problem)\n",
    "cts = df_query.groupby('query').size()\n",
    "df_query[df_query['query'].isin(cts[cts > 1].index.values)].sort_values('query')"
   ]
  },
  {
   "cell_type": "code",
   "execution_count": 7,
   "metadata": {},
   "outputs": [
    {
     "name": "stdout",
     "output_type": "stream",
     "text": [
      "Number of queries total = 5244\n",
      "Number of query batches = 20\n",
      "Batch size counts:\n",
      "262    16\n",
      "263     4\n",
      "dtype: int64\n"
     ]
    }
   ],
   "source": [
    "batch_size = 250\n",
    "q_pr = df_query['query'].unique()\n",
    "q_pr_n = len(q_pr)\n",
    "q_pr = np.array_split(q_pr, q_pr_n//batch_size)\n",
    "print(\n",
    "    'Number of queries total = {}\\nNumber of query batches = {}\\nBatch size counts:\\n{}'\n",
    "    .format(q_pr_n, len(q_pr), pd.Series([len(b) for b in q_pr]).value_counts())\n",
    ")"
   ]
  },
  {
   "cell_type": "markdown",
   "metadata": {},
   "source": [
    "## Run Queries"
   ]
  },
  {
   "cell_type": "code",
   "execution_count": 8,
   "metadata": {},
   "outputs": [
    {
     "name": "stderr",
     "output_type": "stream",
     "text": [
      "\r",
      "  0%|          | 0/20 [00:00<?, ?it/s]"
     ]
    },
    {
     "name": "stdout",
     "output_type": "stream",
     "text": [
      "querying 1-263...done.\n"
     ]
    },
    {
     "name": "stderr",
     "output_type": "stream",
     "text": [
      "\r",
      "  5%|▌         | 1/20 [00:02<00:44,  2.36s/it]"
     ]
    },
    {
     "name": "stdout",
     "output_type": "stream",
     "text": [
      "Finished.\n",
      "153 input query terms found dup hits:\n",
      "\t[('IL2', 4), ('FOXP3', 5), ('CD4', 10), ('TCR', 4), ('SATB1', 4), ('CD14', 3), ('HLA', 10), ('PD1', \n",
      "102 input query terms found no hit:\n",
      "\t['FCGRIIB', 'PROGRAMMEDDEATH1', 'TFH2', 'TFH17', 'TFH1', 'LGLS', 'MHCI', 'APRCA', 'IMMUNOGLOBULING2A\n",
      "Pass \"returnall=True\" to return complete lists of duplicate or missing query terms.\n",
      "querying 1-263...done.\n"
     ]
    },
    {
     "name": "stderr",
     "output_type": "stream",
     "text": [
      "\r",
      " 10%|█         | 2/20 [00:04<00:41,  2.33s/it]"
     ]
    },
    {
     "name": "stdout",
     "output_type": "stream",
     "text": [
      "Finished.\n",
      "100 input query terms found dup hits:\n",
      "\t[('TF', 10), ('AKT', 10), ('GARP', 10), ('CD73', 2), ('TCRa', 6), ('TCRb', 10), ('GMCSF', 2), ('INOS\n",
      "145 input query terms found no hit:\n",
      "\t['CCTYPE5', 'WB', 'HUT102', 'IFC', 'HIV1', 'GRANU', 'GROWTHFACTOR', 'ADGM', 'TARGET6', 'ESAT6', 'RV0\n",
      "Pass \"returnall=True\" to return complete lists of duplicate or missing query terms.\n",
      "querying 1-263...done.\n"
     ]
    },
    {
     "name": "stderr",
     "output_type": "stream",
     "text": [
      "\r",
      " 15%|█▌        | 3/20 [00:08<00:49,  2.94s/it]"
     ]
    },
    {
     "name": "stdout",
     "output_type": "stream",
     "text": [
      "Finished.\n",
      "101 input query terms found dup hits:\n",
      "\t[('SEMA3A', 2), ('REGULATOR', 10), ('CD24', 9), ('CD27', 3), ('MDA5', 2), ('STAT1', 2), ('IL27', 3),\n",
      "149 input query terms found no hit:\n",
      "\t['RIGILIKE', 'RLR', 'CHB', 'CD4AND', 'TGM', 'COMPLEMENTCONTROLPROTEINSUPER', 'NUCLEARHORMONE', 'HIST\n",
      "Pass \"returnall=True\" to return complete lists of duplicate or missing query terms.\n",
      "querying 1-263...done.\n"
     ]
    },
    {
     "name": "stderr",
     "output_type": "stream",
     "text": [
      "\r",
      " 20%|██        | 4/20 [00:11<00:42,  2.68s/it]"
     ]
    },
    {
     "name": "stdout",
     "output_type": "stream",
     "text": [
      "Finished.\n",
      "95 input query terms found dup hits:\n",
      "\t[('IL2RA', 2), ('SYK', 2), ('MYD88', 2), ('P38', 10), ('JNK', 2), ('SUPER', 4), ('HDAC', 4), ('HDAC6\n",
      "155 input query terms found no hit:\n",
      "\t['IL4HS2', 'IL4CNS2', 'OROXYLINA', 'SMAD3P', 'P38P', 'JNKP', 'ERK12', 'TPATH2', 'MHCCLASS', 'IFNgAND\n",
      "Pass \"returnall=True\" to return complete lists of duplicate or missing query terms.\n",
      "querying 1-262...done.\n"
     ]
    },
    {
     "name": "stderr",
     "output_type": "stream",
     "text": [
      "\r",
      " 25%|██▌       | 5/20 [00:13<00:37,  2.52s/it]"
     ]
    },
    {
     "name": "stdout",
     "output_type": "stream",
     "text": [
      "Finished.\n",
      "101 input query terms found dup hits:\n",
      "\t[('GONADOTROPIN', 10), ('HCG', 5), ('FOLR4', 2), ('ITGB8', 2), ('PGLYRP1', 2), ('IL1RL1', 2), ('ITGA\n",
      "147 input query terms found no hit:\n",
      "\t['COLLAGENII', 'HUMANCHORIONICGONADOTROPIN', 'GALECTIN10', 'EOE', 'IL17ANEG', 'ASSOCIATEDINVARIANT',\n",
      "Pass \"returnall=True\" to return complete lists of duplicate or missing query terms.\n",
      "querying 1-262...done.\n"
     ]
    },
    {
     "name": "stderr",
     "output_type": "stream",
     "text": [
      "\r",
      " 30%|███       | 6/20 [00:15<00:34,  2.50s/it]"
     ]
    },
    {
     "name": "stdout",
     "output_type": "stream",
     "text": [
      "Finished.\n",
      "80 input query terms found dup hits:\n",
      "\t[('3P', 5), ('b1', 10), ('CB', 2), ('MOG', 2), ('CD47', 2), ('GITRL', 2), ('QA1', 3), ('KLF2', 2), (\n",
      "167 input query terms found no hit:\n",
      "\t['CD11CMHC', 'CD11CLANGERINMHC', 'TYPE1', 'CANNABINOID1AND2', 'AEA', 'RORgTFACTOR', 'GLUCOCORTICOIDI\n",
      "Pass \"returnall=True\" to return complete lists of duplicate or missing query terms.\n",
      "querying 1-262...done.\n"
     ]
    },
    {
     "name": "stderr",
     "output_type": "stream",
     "text": [
      "\r",
      " 35%|███▌      | 7/20 [00:19<00:35,  2.76s/it]"
     ]
    },
    {
     "name": "stdout",
     "output_type": "stream",
     "text": [
      "Finished.\n",
      "90 input query terms found dup hits:\n",
      "\t[('CD134L', 2), ('TNFRSF4', 2), ('TNFSF4', 2), ('SIT', 2), ('CD152', 2), ('CCR10', 5), ('IL20', 2), \n",
      "149 input query terms found no hit:\n",
      "\t['OX40OX40L', 'INDOLEAMINE23DIOXYGENASE1', 'BOXPROTEINP3', 'TRECS', 'SIRT1MTOR', 'RUNTRELATEDTRANSCR\n",
      "Pass \"returnall=True\" to return complete lists of duplicate or missing query terms.\n",
      "querying 1-262...done.\n"
     ]
    },
    {
     "name": "stderr",
     "output_type": "stream",
     "text": [
      "\r",
      " 40%|████      | 8/20 [00:21<00:30,  2.58s/it]"
     ]
    },
    {
     "name": "stdout",
     "output_type": "stream",
     "text": [
      "Finished.\n",
      "74 input query terms found dup hits:\n",
      "\t[('LTbR', 2), ('LYMPHOTOXIN', 6), ('CEBPb', 4), ('ITK', 2), ('MST1', 4), ('~92', 10), ('DRB1', 4), (\n",
      "172 input query terms found no hit:\n",
      "\t['LYMPHOTOXINab', 'LTab', 'PHOSPHOSTAT5', 'BINDINGPROTEIN', 'IL6C', 'KINASEITK', 'IL2INDUCIBLETCELLK\n",
      "Pass \"returnall=True\" to return complete lists of duplicate or missing query terms.\n",
      "querying 1-262...done.\n"
     ]
    },
    {
     "name": "stderr",
     "output_type": "stream",
     "text": [
      "\r",
      " 45%|████▌     | 9/20 [00:23<00:27,  2.49s/it]"
     ]
    },
    {
     "name": "stdout",
     "output_type": "stream",
     "text": [
      "Finished.\n",
      "99 input query terms found dup hits:\n",
      "\t[('NFAT1', 2), ('NFAT2', 2), ('NFATC2', 2), ('NFATC1', 2), ('P53', 10), ('KIR3DL2', 2), ('TPC', 3), \n",
      "146 input query terms found no hit:\n",
      "\t['IL_10', 'IL_4', 'MYELINASSOCIATEDAGS', 'NFAT1CD4', 'DIOXINLIKECOMPOUNDS', 'LATENTTGFb', 'CASPASE8'\n",
      "Pass \"returnall=True\" to return complete lists of duplicate or missing query terms.\n",
      "querying 1-262...done.\n"
     ]
    },
    {
     "name": "stderr",
     "output_type": "stream",
     "text": [
      "\r",
      " 50%|█████     | 10/20 [00:25<00:23,  2.33s/it]"
     ]
    },
    {
     "name": "stdout",
     "output_type": "stream",
     "text": [
      "Finished.\n",
      "74 input query terms found dup hits:\n",
      "\t[('MBP', 5), ('IFNAR1', 2), ('ACC1', 3), ('MALT1', 2), ('PARACASPASE', 2), ('LECTIN', 10), ('IGF1', \n",
      "168 input query terms found no hit:\n",
      "\t['CLASSIBMAJORHISTOCOMPATIBILITY', 'FOXP3MRNA', 'SCCS', 'FOXP3EXPRESSION', 'ACETYLCOACARBOXYLASE1', \n",
      "Pass \"returnall=True\" to return complete lists of duplicate or missing query terms.\n",
      "querying 1-262...done.\n"
     ]
    },
    {
     "name": "stderr",
     "output_type": "stream",
     "text": [
      "\r",
      " 55%|█████▌    | 11/20 [00:29<00:25,  2.81s/it]"
     ]
    },
    {
     "name": "stdout",
     "output_type": "stream",
     "text": [
      "Finished.\n",
      "69 input query terms found dup hits:\n",
      "\t[('CAMK4', 2), ('TYROSINASE', 9), ('LPL', 3), ('RAG2', 2), ('IA', 9), ('CDM', 3), ('MUC4', 2), ('IRA\n",
      "179 input query terms found no hit:\n",
      "\t['GIT2aPIX', 'CAMK4DEPENDENT', 'CREMa', 'CALCIUMCALMODULINDEPENDENTPROTEINKINASEIV', 'CAMPRESPONSEEL\n",
      "Pass \"returnall=True\" to return complete lists of duplicate or missing query terms.\n",
      "querying 1-262...done.\n"
     ]
    },
    {
     "name": "stderr",
     "output_type": "stream",
     "text": [
      "\r",
      " 60%|██████    | 12/20 [00:31<00:20,  2.57s/it]"
     ]
    },
    {
     "name": "stdout",
     "output_type": "stream",
     "text": [
      "Finished.\n",
      "83 input query terms found dup hits:\n",
      "\t[('HSF1', 2), ('HSP70', 10), ('HBZ', 2), ('BST2', 3), ('ISG15', 2), ('OAS2', 2), ('AVP', 7), ('FMS',\n",
      "167 input query terms found no hit:\n",
      "\t['SHOCKFACTOR1', '17AAG', 'ALLERGENSIT', 'HTLV1', 'BASICLEUCINEZIPPERFACTOR', 'AVPS', 'NTERMINALKINA\n",
      "Pass \"returnall=True\" to return complete lists of duplicate or missing query terms.\n",
      "querying 1-262...done.\n"
     ]
    },
    {
     "name": "stderr",
     "output_type": "stream",
     "text": [
      "\r",
      " 65%|██████▌   | 13/20 [00:33<00:16,  2.39s/it]"
     ]
    },
    {
     "name": "stdout",
     "output_type": "stream",
     "text": [
      "Finished.\n",
      "72 input query terms found dup hits:\n",
      "\t[('VEGFR2', 2), ('SLAMF1', 2), ('CD205', 3), ('ISLET', 10), ('GAPDH', 3), ('ZBTB16', 2), ('POLYMORPH\n",
      "178 input query terms found no hit:\n",
      "\t['TKI', 'VEGFRS', 'SIGAD', 'IDCM', 'CLASSIORCLASSIIHLA', 'PLATELETDERIVEDGROWTHFACTOR', 'PDGF', 'NAD\n",
      "Pass \"returnall=True\" to return complete lists of duplicate or missing query terms.\n",
      "querying 1-262...done.\n"
     ]
    },
    {
     "name": "stderr",
     "output_type": "stream",
     "text": [
      "\r",
      " 70%|███████   | 14/20 [00:35<00:13,  2.27s/it]"
     ]
    },
    {
     "name": "stdout",
     "output_type": "stream",
     "text": [
      "Finished.\n",
      "69 input query terms found dup hits:\n",
      "\t[('CELLS', 10), ('IRX2', 2), ('MANNOSE', 10), ('TICAM1', 2), ('TRIF', 6), ('CDK6', 2), ('B7.2', 2), \n",
      "176 input query terms found no hit:\n",
      "\t['EAHL', 'CD8086DEPENDENT', '86', 'TCCR7', 'TNFRELATEDAPOPTOSISINDUCING', 'GZMBPROGRAMMEDDEATH12', '\n",
      "Pass \"returnall=True\" to return complete lists of duplicate or missing query terms.\n",
      "querying 1-262...done.\n"
     ]
    },
    {
     "name": "stderr",
     "output_type": "stream",
     "text": [
      "\r",
      " 75%|███████▌  | 15/20 [00:38<00:13,  2.66s/it]"
     ]
    },
    {
     "name": "stdout",
     "output_type": "stream",
     "text": [
      "Finished.\n",
      "59 input query terms found dup hits:\n",
      "\t[('CATHELICIDIN', 2), ('VAP1', 2), ('CLIP', 7), ('PRB', 2), ('GDA', 5), ('NOS2', 6), ('PGD2', 3), ('\n",
      "184 input query terms found no hit:\n",
      "\t['CATIONICHOSTDEFENSEPEPTIDE', 'GRANZYMEAANDB', 'CLEVER1', 'FEEL1', 'STABILIN1', 'VASCULARADHESIONPR\n",
      "Pass \"returnall=True\" to return complete lists of duplicate or missing query terms.\n",
      "querying 1-262...done.\n"
     ]
    },
    {
     "name": "stderr",
     "output_type": "stream",
     "text": [
      "\r",
      " 80%|████████  | 16/20 [00:40<00:09,  2.45s/it]"
     ]
    },
    {
     "name": "stdout",
     "output_type": "stream",
     "text": [
      "Finished.\n",
      "45 input query terms found dup hits:\n",
      "\t[('MKI67', 10), ('MAJOR', 10), ('TIEG1', 2), ('DESMOGLEIN', 10), ('MIR223', 3), ('POLYMERASE', 10), \n",
      "202 input query terms found no hit:\n",
      "\t['CD4IFN', 'bIFN', 'ESO1B', 'FCRL3T', 'HLADR]', 'PROTEIN1a', 'GRANULOCYTECHEMOTACTICPROTEIN2', 'C57B\n",
      "Pass \"returnall=True\" to return complete lists of duplicate or missing query terms.\n",
      "querying 1-262...done.\n"
     ]
    },
    {
     "name": "stderr",
     "output_type": "stream",
     "text": [
      "\r",
      " 85%|████████▌ | 17/20 [00:42<00:07,  2.36s/it]"
     ]
    },
    {
     "name": "stdout",
     "output_type": "stream",
     "text": [
      "Finished.\n",
      "61 input query terms found dup hits:\n",
      "\t[('LGALS1', 2), ('LGALS3', 2), ('SLAM', 10), ('TGFA', 4), ('PLCg2', 2), ('P28', 8), ('HY', 2), ('NFA\n",
      "180 input query terms found no hit:\n",
      "\t['IDODCS', 'SIGNALLINGLYMPHOCYTICACTIVATIONMOLECULE', 'IFNgANDTYPE2', 'CLTA4', 'OFTH2', 'SCD30', 'CD\n",
      "Pass \"returnall=True\" to return complete lists of duplicate or missing query terms.\n",
      "querying 1-262...done.\n"
     ]
    },
    {
     "name": "stderr",
     "output_type": "stream",
     "text": [
      "\r",
      " 90%|█████████ | 18/20 [00:45<00:04,  2.25s/it]"
     ]
    },
    {
     "name": "stdout",
     "output_type": "stream",
     "text": [
      "Finished.\n",
      "61 input query terms found dup hits:\n",
      "\t[('BMI1', 5), ('TGFb]', 10), ('VLA1', 2), ('RD6', 2), ('JANUS', 10), ('SPRED1', 2), ('RELAXIN', 10),\n",
      "188 input query terms found no hit:\n",
      "\t['DCIL12P70', 'TYPEIANDIIIFN', 'TREGULATORYCELLTYPE', 'ANGIOGENICGROWTHFACTOR', 'HPV16E6', 'ESCC', '\n",
      "Pass \"returnall=True\" to return complete lists of duplicate or missing query terms.\n",
      "querying 1-262...done.\n"
     ]
    },
    {
     "name": "stderr",
     "output_type": "stream",
     "text": [
      "\r",
      " 95%|█████████▌| 19/20 [00:49<00:02,  2.85s/it]"
     ]
    },
    {
     "name": "stdout",
     "output_type": "stream",
     "text": [
      "Finished.\n",
      "61 input query terms found dup hits:\n",
      "\t[('IFNb1', 2), ('MCP3', 2), ('MIP3b', 2), ('Ab', 10), ('Ab1', 4), ('PDE4B', 2), ('PDE4A', 2), ('H1R'\n",
      "187 input query terms found no hit:\n",
      "\t['AIG', 'TXA23', 'TXA51', 'HTYR', 'MTYR', 'A2.1', 'NONSELF', 'CTLASSOCIATEDAG4', 'CD3SFV', 'ALLERGEN\n",
      "Pass \"returnall=True\" to return complete lists of duplicate or missing query terms.\n",
      "querying 1-262...done.\n"
     ]
    },
    {
     "name": "stderr",
     "output_type": "stream",
     "text": [
      "\r",
      "100%|██████████| 20/20 [00:51<00:00,  2.57s/it]"
     ]
    },
    {
     "name": "stdout",
     "output_type": "stream",
     "text": [
      "Finished.\n",
      "45 input query terms found dup hits:\n",
      "\t[('CARDIOLIPIN', 2), ('ID', 8), ('ABPA', 2), ('JUN', 10), ('NKRP1A', 2), ('CAK', 4), ('PHOSPHODIESTE\n",
      "194 input query terms found no hit:\n",
      "\t['MELANOMAASSOCIATEDPROTEIN', 'OVALBUMINPEPTIDE', 'BSAB', 'THROMBOPLASTIN', 'APTT', 'P38aMITOGENACTI\n",
      "Pass \"returnall=True\" to return complete lists of duplicate or missing query terms.\n"
     ]
    },
    {
     "name": "stderr",
     "output_type": "stream",
     "text": [
      "\n"
     ]
    }
   ],
   "source": [
    "# See full list: http://docs.mygene.info/en/latest/doc/data.html#species\n",
    "SPECIES = {9606: 'human', 10090: 'mouse'}\n",
    "\n",
    "def query(terms):\n",
    "    df = mg.querymany(\n",
    "        terms,\n",
    "        scopes=[\"symbol\", \"retired\", \"name\", \"alias\"],\n",
    "        fields='symbol,name,taxid,ensembl.gene,alias', \n",
    "        species='human,mouse', \n",
    "        ensemblonly=True,\n",
    "        as_dataframe=True\n",
    "    )\n",
    "    if 'taxid' in df:\n",
    "        df['species'] = df['taxid'].apply(lambda v: None if pd.isnull(v) else SPECIES.get(int(v), 'unknown'))\n",
    "    return df\n",
    "\n",
    "df_res = []\n",
    "for batch in tqdm.tqdm(q_pr):\n",
    "    df_res.append(query(list(batch)))\n",
    "    \n",
    "df_res = pd.concat(df_res)"
   ]
  },
  {
   "cell_type": "code",
   "execution_count": 9,
   "metadata": {},
   "outputs": [
    {
     "name": "stdout",
     "output_type": "stream",
     "text": [
      "<class 'pandas.core.frame.DataFrame'>\n",
      "Index: 10509 entries, FCGRIIB to CYA\n",
      "Data columns (total 10 columns):\n",
      "_id             7174 non-null object\n",
      "_score          7174 non-null float64\n",
      "alias           6028 non-null object\n",
      "ensembl         259 non-null object\n",
      "ensembl.gene    5762 non-null object\n",
      "name            7174 non-null object\n",
      "notfound        3335 non-null object\n",
      "symbol          7174 non-null object\n",
      "taxid           7174 non-null float64\n",
      "species         7174 non-null object\n",
      "dtypes: float64(2), object(8)\n",
      "memory usage: 903.1+ KB\n"
     ]
    }
   ],
   "source": [
    "df_res.info()"
   ]
  },
  {
   "cell_type": "code",
   "execution_count": 10,
   "metadata": {},
   "outputs": [
    {
     "data": {
      "text/html": [
       "<div>\n",
       "<style scoped>\n",
       "    .dataframe tbody tr th:only-of-type {\n",
       "        vertical-align: middle;\n",
       "    }\n",
       "\n",
       "    .dataframe tbody tr th {\n",
       "        vertical-align: top;\n",
       "    }\n",
       "\n",
       "    .dataframe thead th {\n",
       "        text-align: right;\n",
       "    }\n",
       "</style>\n",
       "<table border=\"1\" class=\"dataframe\">\n",
       "  <thead>\n",
       "    <tr style=\"text-align: right;\">\n",
       "      <th></th>\n",
       "      <th>_id</th>\n",
       "      <th>_score</th>\n",
       "      <th>alias</th>\n",
       "      <th>ensembl</th>\n",
       "      <th>ensembl.gene</th>\n",
       "      <th>name</th>\n",
       "      <th>notfound</th>\n",
       "      <th>symbol</th>\n",
       "      <th>taxid</th>\n",
       "      <th>species</th>\n",
       "    </tr>\n",
       "    <tr>\n",
       "      <th>query</th>\n",
       "      <th></th>\n",
       "      <th></th>\n",
       "      <th></th>\n",
       "      <th></th>\n",
       "      <th></th>\n",
       "      <th></th>\n",
       "      <th></th>\n",
       "      <th></th>\n",
       "      <th></th>\n",
       "      <th></th>\n",
       "    </tr>\n",
       "  </thead>\n",
       "  <tbody>\n",
       "    <tr>\n",
       "      <th>FCGRIIB</th>\n",
       "      <td>NaN</td>\n",
       "      <td>NaN</td>\n",
       "      <td>NaN</td>\n",
       "      <td>NaN</td>\n",
       "      <td>NaN</td>\n",
       "      <td>NaN</td>\n",
       "      <td>True</td>\n",
       "      <td>NaN</td>\n",
       "      <td>NaN</td>\n",
       "      <td>None</td>\n",
       "    </tr>\n",
       "    <tr>\n",
       "      <th>IL2</th>\n",
       "      <td>3558</td>\n",
       "      <td>91.829506</td>\n",
       "      <td>[IL-2, TCGF, lymphokine]</td>\n",
       "      <td>NaN</td>\n",
       "      <td>ENSG00000109471</td>\n",
       "      <td>interleukin 2</td>\n",
       "      <td>NaN</td>\n",
       "      <td>IL2</td>\n",
       "      <td>9606.0</td>\n",
       "      <td>human</td>\n",
       "    </tr>\n",
       "    <tr>\n",
       "      <th>IL2</th>\n",
       "      <td>16183</td>\n",
       "      <td>75.850266</td>\n",
       "      <td>Il-2</td>\n",
       "      <td>NaN</td>\n",
       "      <td>ENSMUSG00000027720</td>\n",
       "      <td>interleukin 2</td>\n",
       "      <td>NaN</td>\n",
       "      <td>Il2</td>\n",
       "      <td>10090.0</td>\n",
       "      <td>mouse</td>\n",
       "    </tr>\n",
       "    <tr>\n",
       "      <th>IL2</th>\n",
       "      <td>3702</td>\n",
       "      <td>12.175253</td>\n",
       "      <td>[EMT, LPFS1, LYK, PSCTK2]</td>\n",
       "      <td>NaN</td>\n",
       "      <td>ENSG00000113263</td>\n",
       "      <td>IL2 inducible T cell kinase</td>\n",
       "      <td>NaN</td>\n",
       "      <td>ITK</td>\n",
       "      <td>9606.0</td>\n",
       "      <td>human</td>\n",
       "    </tr>\n",
       "    <tr>\n",
       "      <th>IL2</th>\n",
       "      <td>16428</td>\n",
       "      <td>10.497415</td>\n",
       "      <td>[Emt, Tcsk, Tsk]</td>\n",
       "      <td>NaN</td>\n",
       "      <td>ENSMUSG00000020395</td>\n",
       "      <td>IL2 inducible T cell kinase</td>\n",
       "      <td>NaN</td>\n",
       "      <td>Itk</td>\n",
       "      <td>10090.0</td>\n",
       "      <td>mouse</td>\n",
       "    </tr>\n",
       "  </tbody>\n",
       "</table>\n",
       "</div>"
      ],
      "text/plain": [
       "           _id     _score                      alias ensembl  \\\n",
       "query                                                          \n",
       "FCGRIIB    NaN        NaN                        NaN     NaN   \n",
       "IL2       3558  91.829506   [IL-2, TCGF, lymphokine]     NaN   \n",
       "IL2      16183  75.850266                       Il-2     NaN   \n",
       "IL2       3702  12.175253  [EMT, LPFS1, LYK, PSCTK2]     NaN   \n",
       "IL2      16428  10.497415           [Emt, Tcsk, Tsk]     NaN   \n",
       "\n",
       "               ensembl.gene                         name notfound symbol  \\\n",
       "query                                                                      \n",
       "FCGRIIB                 NaN                          NaN     True    NaN   \n",
       "IL2         ENSG00000109471                interleukin 2      NaN    IL2   \n",
       "IL2      ENSMUSG00000027720                interleukin 2      NaN    Il2   \n",
       "IL2         ENSG00000113263  IL2 inducible T cell kinase      NaN    ITK   \n",
       "IL2      ENSMUSG00000020395  IL2 inducible T cell kinase      NaN    Itk   \n",
       "\n",
       "           taxid species  \n",
       "query                     \n",
       "FCGRIIB      NaN    None  \n",
       "IL2       9606.0   human  \n",
       "IL2      10090.0   mouse  \n",
       "IL2       9606.0   human  \n",
       "IL2      10090.0   mouse  "
      ]
     },
     "execution_count": 10,
     "metadata": {},
     "output_type": "execute_result"
    }
   ],
   "source": [
    "df_res.head()"
   ]
  },
  {
   "cell_type": "code",
   "execution_count": 11,
   "metadata": {},
   "outputs": [
    {
     "data": {
      "text/plain": [
       "False"
      ]
     },
     "execution_count": 11,
     "metadata": {},
     "output_type": "execute_result"
    }
   ],
   "source": [
    "df_qlkp = df_query.set_index('query')\n",
    "df_qlkp.index.is_unique"
   ]
  },
  {
   "cell_type": "code",
   "execution_count": 12,
   "metadata": {},
   "outputs": [
    {
     "data": {
      "text/html": [
       "<div>\n",
       "<style scoped>\n",
       "    .dataframe tbody tr th:only-of-type {\n",
       "        vertical-align: middle;\n",
       "    }\n",
       "\n",
       "    .dataframe tbody tr th {\n",
       "        vertical-align: top;\n",
       "    }\n",
       "\n",
       "    .dataframe thead th {\n",
       "        text-align: right;\n",
       "    }\n",
       "</style>\n",
       "<table border=\"1\" class=\"dataframe\">\n",
       "  <thead>\n",
       "    <tr style=\"text-align: right;\">\n",
       "      <th></th>\n",
       "      <th>value_norm</th>\n",
       "    </tr>\n",
       "    <tr>\n",
       "      <th>query</th>\n",
       "      <th></th>\n",
       "    </tr>\n",
       "  </thead>\n",
       "  <tbody>\n",
       "    <tr>\n",
       "      <th>FCGRIIB</th>\n",
       "      <td>FCGRIIB</td>\n",
       "    </tr>\n",
       "    <tr>\n",
       "      <th>IL2</th>\n",
       "      <td>IL2</td>\n",
       "    </tr>\n",
       "    <tr>\n",
       "      <th>FOXP3</th>\n",
       "      <td>FOXP3</td>\n",
       "    </tr>\n",
       "    <tr>\n",
       "      <th>CD4</th>\n",
       "      <td>CD4</td>\n",
       "    </tr>\n",
       "    <tr>\n",
       "      <th>TCR</th>\n",
       "      <td>TCR</td>\n",
       "    </tr>\n",
       "  </tbody>\n",
       "</table>\n",
       "</div>"
      ],
      "text/plain": [
       "        value_norm\n",
       "query             \n",
       "FCGRIIB    FCGRIIB\n",
       "IL2            IL2\n",
       "FOXP3        FOXP3\n",
       "CD4            CD4\n",
       "TCR            TCR"
      ]
     },
     "execution_count": 12,
     "metadata": {},
     "output_type": "execute_result"
    }
   ],
   "source": [
    "df_qlkp.head()"
   ]
  },
  {
   "cell_type": "code",
   "execution_count": 27,
   "metadata": {},
   "outputs": [
    {
     "name": "stdout",
     "output_type": "stream",
     "text": [
      "<class 'pandas.core.frame.DataFrame'>\n",
      "Int64Index: 7202 entries, 1 to 10538\n",
      "Data columns (total 7 columns):\n",
      "id             7202 non-null object\n",
      "score          7202 non-null float64\n",
      "sym            7202 non-null object\n",
      "name           7202 non-null object\n",
      "ensemblgene    5788 non-null object\n",
      "species        7202 non-null object\n",
      "value_norm     7202 non-null object\n",
      "dtypes: float64(1), object(6)\n",
      "memory usage: 450.1+ KB\n"
     ]
    }
   ],
   "source": [
    "# Merge results by query string back to query frame containing original protein symbol\n",
    "df_res_pr = pd.merge(\n",
    "    df_res.reset_index(), \n",
    "    df_qlkp.reset_index(),\n",
    "    on='query',\n",
    "    how='left'\n",
    ")\n",
    "\n",
    "# Reorganize some field names\n",
    "df_res_pr = df_res_pr.rename(columns={\n",
    "    '_id': 'id', \n",
    "    '_score': 'score', \n",
    "    'ensembl.gene': 'ensemblgene',\n",
    "    'symbol': 'sym'\n",
    "})\n",
    "\n",
    "# Remove results with no match\n",
    "df_res_pr = df_res_pr[df_res_pr['id'].notnull()]\n",
    "df_res_pr = df_res_pr[['id', 'score', 'sym', 'name', 'ensemblgene', 'species', qfld]]\n",
    "\n",
    "df_res_pr['ensemblgene'] = df_res_pr['ensemblgene'].str.strip()\n",
    "\n",
    "# Ensure that remaining records all have a reference to pubmed protein name\n",
    "assert df_res_pr[qfld].notnull().all()\n",
    "\n",
    "df_res_pr.info()"
   ]
  },
  {
   "cell_type": "code",
   "execution_count": 28,
   "metadata": {},
   "outputs": [
    {
     "data": {
      "text/html": [
       "<div>\n",
       "<style scoped>\n",
       "    .dataframe tbody tr th:only-of-type {\n",
       "        vertical-align: middle;\n",
       "    }\n",
       "\n",
       "    .dataframe tbody tr th {\n",
       "        vertical-align: top;\n",
       "    }\n",
       "\n",
       "    .dataframe thead th {\n",
       "        text-align: right;\n",
       "    }\n",
       "</style>\n",
       "<table border=\"1\" class=\"dataframe\">\n",
       "  <thead>\n",
       "    <tr style=\"text-align: right;\">\n",
       "      <th></th>\n",
       "      <th>id</th>\n",
       "      <th>score</th>\n",
       "      <th>sym</th>\n",
       "      <th>name</th>\n",
       "      <th>ensemblgene</th>\n",
       "      <th>species</th>\n",
       "      <th>value_norm</th>\n",
       "    </tr>\n",
       "  </thead>\n",
       "  <tbody>\n",
       "    <tr>\n",
       "      <th>1</th>\n",
       "      <td>3558</td>\n",
       "      <td>91.829506</td>\n",
       "      <td>IL2</td>\n",
       "      <td>interleukin 2</td>\n",
       "      <td>ENSG00000109471</td>\n",
       "      <td>human</td>\n",
       "      <td>IL2</td>\n",
       "    </tr>\n",
       "    <tr>\n",
       "      <th>2</th>\n",
       "      <td>16183</td>\n",
       "      <td>75.850266</td>\n",
       "      <td>Il2</td>\n",
       "      <td>interleukin 2</td>\n",
       "      <td>ENSMUSG00000027720</td>\n",
       "      <td>mouse</td>\n",
       "      <td>IL2</td>\n",
       "    </tr>\n",
       "    <tr>\n",
       "      <th>3</th>\n",
       "      <td>3702</td>\n",
       "      <td>12.175253</td>\n",
       "      <td>ITK</td>\n",
       "      <td>IL2 inducible T cell kinase</td>\n",
       "      <td>ENSG00000113263</td>\n",
       "      <td>human</td>\n",
       "      <td>IL2</td>\n",
       "    </tr>\n",
       "    <tr>\n",
       "      <th>4</th>\n",
       "      <td>16428</td>\n",
       "      <td>10.497415</td>\n",
       "      <td>Itk</td>\n",
       "      <td>IL2 inducible T cell kinase</td>\n",
       "      <td>ENSMUSG00000020395</td>\n",
       "      <td>mouse</td>\n",
       "      <td>IL2</td>\n",
       "    </tr>\n",
       "    <tr>\n",
       "      <th>5</th>\n",
       "      <td>50943</td>\n",
       "      <td>89.723680</td>\n",
       "      <td>FOXP3</td>\n",
       "      <td>forkhead box P3</td>\n",
       "      <td>ENSG00000049768</td>\n",
       "      <td>human</td>\n",
       "      <td>FOXP3</td>\n",
       "    </tr>\n",
       "  </tbody>\n",
       "</table>\n",
       "</div>"
      ],
      "text/plain": [
       "      id      score    sym                         name         ensemblgene  \\\n",
       "1   3558  91.829506    IL2                interleukin 2     ENSG00000109471   \n",
       "2  16183  75.850266    Il2                interleukin 2  ENSMUSG00000027720   \n",
       "3   3702  12.175253    ITK  IL2 inducible T cell kinase     ENSG00000113263   \n",
       "4  16428  10.497415    Itk  IL2 inducible T cell kinase  ENSMUSG00000020395   \n",
       "5  50943  89.723680  FOXP3              forkhead box P3     ENSG00000049768   \n",
       "\n",
       "  species value_norm  \n",
       "1   human        IL2  \n",
       "2   mouse        IL2  \n",
       "3   human        IL2  \n",
       "4   mouse        IL2  \n",
       "5   human      FOXP3  "
      ]
     },
     "execution_count": 28,
     "metadata": {},
     "output_type": "execute_result"
    }
   ],
   "source": [
    "df_res_pr.head()"
   ]
  },
  {
   "cell_type": "code",
   "execution_count": 29,
   "metadata": {},
   "outputs": [
    {
     "data": {
      "text/plain": [
       "human    4306\n",
       "mouse    2896\n",
       "Name: species, dtype: int64"
      ]
     },
     "execution_count": 29,
     "metadata": {},
     "output_type": "execute_result"
    }
   ],
   "source": [
    "# Validate that all species results were resolved\n",
    "assert df_res_pr['species'].isin(SPECIES.values()).all()\n",
    "df_res_pr['species'].value_counts()"
   ]
  },
  {
   "cell_type": "markdown",
   "metadata": {},
   "source": [
    "## Add transcription factor flag"
   ]
  },
  {
   "cell_type": "code",
   "execution_count": 31,
   "metadata": {},
   "outputs": [
    {
     "data": {
      "text/plain": [
       "False    6849\n",
       "True      353\n",
       "Name: is_tf, dtype: int64"
      ]
     },
     "execution_count": 31,
     "metadata": {},
     "output_type": "execute_result"
    }
   ],
   "source": [
    "# This is small enough that it doesn't need a separate annotation notebook\n",
    "df_tf = pd.read_csv(osp.join(DATA_DIR, 'human_tfs.csv'))\n",
    "df_tf['ensemblid'] = df_tf['ensemblid'].str.strip()\n",
    "df_res_pr['is_tf'] = df_res_pr['ensemblgene'].isin(df_tf['ensemblid'].unique())\n",
    "df_res_pr['is_tf'].value_counts()"
   ]
  },
  {
   "cell_type": "markdown",
   "metadata": {},
   "source": [
    "## Export"
   ]
  },
  {
   "cell_type": "code",
   "execution_count": 35,
   "metadata": {},
   "outputs": [
    {
     "name": "stdout",
     "output_type": "stream",
     "text": [
      "<class 'pandas.core.frame.DataFrame'>\n",
      "Int64Index: 7202 entries, 1 to 10538\n",
      "Data columns (total 8 columns):\n",
      "id               7202 non-null object\n",
      "score            7202 non-null float64\n",
      "sym              7202 non-null object\n",
      "name             7202 non-null object\n",
      "ensemblgene      5788 non-null object\n",
      "species          7202 non-null object\n",
      "pr_value_norm    7202 non-null object\n",
      "is_tf            7202 non-null bool\n",
      "dtypes: bool(1), float64(1), object(6)\n",
      "memory usage: 457.2+ KB\n"
     ]
    }
   ],
   "source": [
    "# For consistency with other annotation notebooks, prefix field originating\n",
    "# from pubmed protein table\n",
    "df_exp = df_res_pr.rename(columns={qfld: 'pr_' + qfld})\n",
    "df_exp.info()"
   ]
  },
  {
   "cell_type": "code",
   "execution_count": 33,
   "metadata": {},
   "outputs": [
    {
     "data": {
      "text/plain": [
       "'data/pubmed_mygene_protein_annotations.csv'"
      ]
     },
     "execution_count": 33,
     "metadata": {},
     "output_type": "execute_result"
    }
   ],
   "source": [
    "path = osp.join(DATA_DIR, 'pubmed_mygene_protein_annotations.csv')\n",
    "df_res_pr.to_csv(path, index=False)\n",
    "path"
   ]
  }
 ],
 "metadata": {
  "kernelspec": {
   "display_name": "Python 3",
   "language": "python",
   "name": "python3"
  },
  "language_info": {
   "codemirror_mode": {
    "name": "ipython",
    "version": 3
   },
   "file_extension": ".py",
   "mimetype": "text/x-python",
   "name": "python",
   "nbconvert_exporter": "python",
   "pygments_lexer": "ipython3",
   "version": "3.6.7"
  }
 },
 "nbformat": 4,
 "nbformat_minor": 2
}
