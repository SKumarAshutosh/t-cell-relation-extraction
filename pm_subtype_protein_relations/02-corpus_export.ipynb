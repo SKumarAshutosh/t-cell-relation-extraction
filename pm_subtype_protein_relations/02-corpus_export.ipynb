{
 "cells": [
  {
   "cell_type": "markdown",
   "metadata": {},
   "source": [
    "## Training Corpus Export\n",
    "\n",
    "Select documents from large imported set and merge with an annotated document collection"
   ]
  },
  {
   "cell_type": "code",
   "execution_count": 1,
   "metadata": {},
   "outputs": [],
   "source": [
    "import os\n",
    "import tqdm\n",
    "import os.path as osp\n",
    "import pandas as pd\n",
    "%run env.py\n",
    "%run src/integration.py\n",
    "\n",
    "#article_data_file = osp.join(IMPORT_DATA_DIR_01, 'data.csv')\n",
    "#corpus_dir = osp.join(DATA_DIR, 'articles', 'corpus', 'corpus_00', 'docs')\n",
    "#doc_limit = 500\n",
    "\n",
    "article_data_file = osp.join(IMPORT_DATA_DIR_02, 'data.csv')\n",
    "corpus_dir = osp.join(DATA_DIR, 'articles', 'corpus', 'corpus_01', 'docs')\n",
    "doc_limit = 10000"
   ]
  },
  {
   "cell_type": "code",
   "execution_count": 2,
   "metadata": {},
   "outputs": [
    {
     "name": "stdout",
     "output_type": "stream",
     "text": [
      "<class 'pandas.core.frame.DataFrame'>\n",
      "Int64Index: 12988 entries, 0 to 20449\n",
      "Data columns (total 6 columns):\n",
      "abstract    12988 non-null object\n",
      "date        12988 non-null object\n",
      "has_text    12988 non-null bool\n",
      "id          12988 non-null int64\n",
      "title       12988 non-null object\n",
      "xml         12988 non-null object\n",
      "dtypes: bool(1), int64(1), object(4)\n",
      "memory usage: 621.5+ KB\n"
     ]
    }
   ],
   "source": [
    "df = pd.read_csv(article_data_file)\n",
    "df = df[df['abstract'].notnull() & df['title'].notnull() & df['date'].notnull()]\n",
    "df.info()"
   ]
  },
  {
   "cell_type": "code",
   "execution_count": 3,
   "metadata": {},
   "outputs": [
    {
     "name": "stdout",
     "output_type": "stream",
     "text": [
      "Sampling from 12988 records to 10000\n",
      "<class 'pandas.core.frame.DataFrame'>\n",
      "Int64Index: 10000 entries, 3013 to 3615\n",
      "Data columns (total 6 columns):\n",
      "abstract    10000 non-null object\n",
      "date        10000 non-null object\n",
      "has_text    10000 non-null bool\n",
      "id          10000 non-null int64\n",
      "title       10000 non-null object\n",
      "xml         10000 non-null object\n",
      "dtypes: bool(1), int64(1), object(4)\n",
      "memory usage: 478.5+ KB\n"
     ]
    }
   ],
   "source": [
    "if doc_limit is not None and doc_limit < len(df):\n",
    "    print('Sampling from {} records to {}'.format(len(df), doc_limit))\n",
    "    df = df.sample(n=doc_limit, random_state=1)\n",
    "df.info()"
   ]
  },
  {
   "cell_type": "code",
   "execution_count": 4,
   "metadata": {},
   "outputs": [
    {
     "data": {
      "text/plain": [
       "<matplotlib.axes._subplots.AxesSubplot at 0x11c463be0>"
      ]
     },
     "execution_count": 4,
     "metadata": {},
     "output_type": "execute_result"
    },
    {
     "data": {
      "image/png": "[encoded data removed]",
      "text/plain": [
       "<Figure size 432x288 with 1 Axes>"
      ]
     },
     "metadata": {
      "needs_background": "light"
     },
     "output_type": "display_data"
    }
   ],
   "source": [
    "%matplotlib inline\n",
    "dates = pd.to_datetime(df['date'])\n",
    "pd.Series(index=dates).groupby(pd.Grouper(freq='M')).size().sort_index().plot()"
   ]
  },
  {
   "cell_type": "code",
   "execution_count": 5,
   "metadata": {},
   "outputs": [
    {
     "name": "stderr",
     "output_type": "stream",
     "text": [
      "100%|██████████| 10000/10000 [09:23<00:00, 14.17it/s]\n"
     ]
    }
   ],
   "source": [
    "text = []\n",
    "for i, r in tqdm.tqdm(df.iterrows(), total=len(df)):\n",
    "    body = extract_text(r['xml'])\n",
    "    text.append(combine_text(r['title'], r['abstract'], body))\n",
    "df['text'] = text"
   ]
  },
  {
   "cell_type": "code",
   "execution_count": 7,
   "metadata": {},
   "outputs": [
    {
     "name": "stderr",
     "output_type": "stream",
     "text": [
      "10000it [00:04, 2491.47it/s]\n"
     ]
    },
    {
     "data": {
      "text/plain": [
       "'/Users/eczech/data/research/hammer/nlp/20190311-pubmed-tcell-relation/articles/corpus/corpus_01/docs'"
      ]
     },
     "execution_count": 7,
     "metadata": {},
     "output_type": "execute_result"
    }
   ],
   "source": [
    "# Export un-annotated documents\n",
    "if not osp.exists(corpus_dir):\n",
    "    os.makedirs(corpus_dir)\n",
    "\n",
    "for i, r in tqdm.tqdm(df.iterrows()):\n",
    "    path = osp.join(corpus_dir, 'PMC{}.txt'.format(r['id']))\n",
    "    with open(path, 'w') as fd:\n",
    "        fd.write(r['text'])\n",
    "corpus_dir"
   ]
  }
 ],
 "metadata": {
  "kernelspec": {
   "display_name": "Python 3",
   "language": "python",
   "name": "python3"
  },
  "language_info": {
   "codemirror_mode": {
    "name": "ipython",
    "version": 3
   },
   "file_extension": ".py",
   "mimetype": "text/x-python",
   "name": "python",
   "nbconvert_exporter": "python",
   "pygments_lexer": "ipython3",
   "version": "3.6.7"
  }
 },
 "nbformat": 4,
 "nbformat_minor": 2
}
