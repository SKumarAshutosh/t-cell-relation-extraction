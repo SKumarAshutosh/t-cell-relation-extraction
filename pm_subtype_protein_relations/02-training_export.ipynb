{
 "cells": [
  {
   "cell_type": "code",
   "execution_count": 2,
   "metadata": {},
   "outputs": [],
   "source": [
    "import tqdm\n",
    "import os.path as osp\n",
    "import pandas as pd\n",
    "import spacy\n",
    "%run src/logging.py\n",
    "%run src/integration.py\n",
    "%run env.py\n",
    "article_data_file = osp.join(DATA_DIR, 'articles', 'data.csv')\n",
    "output_collection_dir = osp.join(REPO_DATA_DIR, 'brat', 'collection_01')"
   ]
  },
  {
   "cell_type": "code",
   "execution_count": null,
   "metadata": {},
   "outputs": [],
   "source": [
    "nlp = get_scispacy_pipeline()\n",
    "nlp.pipeline"
   ]
  },
  {
   "cell_type": "code",
   "execution_count": 3,
   "metadata": {},
   "outputs": [
    {
     "name": "stdout",
     "output_type": "stream",
     "text": [
      "<class 'pandas.core.frame.DataFrame'>\n",
      "RangeIndex: 2990 entries, 0 to 2989\n",
      "Data columns (total 5 columns):\n",
      "abstract    2972 non-null object\n",
      "date        1833 non-null object\n",
      "id          2990 non-null int64\n",
      "text        1490 non-null object\n",
      "title       2990 non-null object\n",
      "dtypes: int64(1), object(4)\n",
      "memory usage: 116.9+ KB\n"
     ]
    }
   ],
   "source": [
    "df = pd.read_csv(article_data_file)\n",
    "df.info()"
   ]
  },
  {
   "cell_type": "code",
   "execution_count": 4,
   "metadata": {},
   "outputs": [
    {
     "name": "stdout",
     "output_type": "stream",
     "text": [
      "<class 'pandas.core.frame.DataFrame'>\n",
      "Int64Index: 100 entries, 68 to 137\n",
      "Data columns (total 5 columns):\n",
      "abstract    100 non-null object\n",
      "date        88 non-null object\n",
      "id          100 non-null int64\n",
      "text        100 non-null object\n",
      "title       100 non-null object\n",
      "dtypes: int64(1), object(4)\n",
      "memory usage: 4.7+ KB\n"
     ]
    }
   ],
   "source": [
    "df_exp = df[df['text'].notnull() & df['abstract'].notnull()].sample(n=100, random_state=1)\n",
    "df_exp.info()"
   ]
  },
  {
   "cell_type": "code",
   "execution_count": 5,
   "metadata": {},
   "outputs": [
    {
     "data": {
      "text/plain": [
       "'4441007, 6080923, 6159523, 3402525, 6069866, 5392269, 2634967, 3798598, 4758703, 4890327, 3888704, 5357273, 4810024, 5536310, 6385830, 6127336, 2646571, 5318439, 4029221, 6303068, 4784746, 4422701, 6384271, 4919350, 3942504, 4451961, 5352345, 5464295, 4363672, 5771098, 3235500, 5550994, 5472765, 5597704, 4372528, 5785573, 4423225, 4409658, 3724802, 3616072, 4674549, 3304099, 5209687, 3828240, 5215294, 5173246, 3189223, 5339304, 4363301, 5264496, 4449014, 4978836, 5150244, 6249024, 4136865, 3637864, 4028272, 3804955, 3832935, 3707302, 5827529, 3531463, 4314580, 3922392, 5549607, 5406529, 6371971, 4390375, 5597262, 4893440, 4100769, 4991385, 4809658, 6070887, 4586477, 5532287, 4545657, 5148907, 3173465, 6077677, 5075284, 5704186, 4232071, 4203955, 3674606, 2193209, 3095633, 2938478, 4896250, 3672957, 6053392, 4529306, 5085117, 5179326, 4792960, 4016499, 3046151, 5716032, 6318333, 3418275'"
      ]
     },
     "execution_count": 5,
     "metadata": {},
     "output_type": "execute_result"
    }
   ],
   "source": [
    "df_exp['id'].astype(str).str.cat(sep=', ')"
   ]
  },
  {
   "cell_type": "code",
   "execution_count": 6,
   "metadata": {},
   "outputs": [
    {
     "data": {
      "text/plain": [
       "204       66549\n",
       "381       66980\n",
       "215       68161\n",
       "98        70894\n",
       "2072      76938\n",
       "68        84116\n",
       "2347      88164\n",
       "90      1532124\n",
       "Name: text, dtype: int64"
      ]
     },
     "execution_count": 6,
     "metadata": {},
     "output_type": "execute_result"
    }
   ],
   "source": [
    "df_exp['text'].str.len().sort_values().tail(8)"
   ]
  },
  {
   "cell_type": "code",
   "execution_count": 9,
   "metadata": {},
   "outputs": [
    {
     "name": "stderr",
     "output_type": "stream",
     "text": [
      "100%|██████████| 3/3 [00:00<00:00,  3.39it/s]\n"
     ]
    }
   ],
   "source": [
    "MAX_TEXT_LEN = 10000\n",
    "\n",
    "def to_ann(doc):\n",
    "    ann = []\n",
    "    for i, ent in enumerate(doc.ents):\n",
    "        if not ent.text.strip():\n",
    "            continue\n",
    "        if '\\n' in ent.text:\n",
    "            continue\n",
    "        line = 'T{}\\t{} {} {}\\t{}'.format(i+1, ent.label_, ent.start_char, ent.end_char, ent.text)\n",
    "        ann.append(line)\n",
    "    return '\\n'.join(ann)\n",
    "\n",
    "def export_annotations(df):\n",
    "    if not osp.exists(output_collection_dir):\n",
    "        os.makedirs(output_collection_dir)\n",
    "\n",
    "    for i, r in tqdm.tqdm(list(df.iterrows())):\n",
    "        text = combine_text(r['title'], r['abstract'], r['text'])\n",
    "        \n",
    "        # Clip texts to manageable size for annotation (10k chars is ~50-100 sentences)\n",
    "        text = text if len(text) < MAX_TEXT_LEN else text[:MAX_TEXT_LEN]\n",
    "        doc = nlp(text)\n",
    "        filename = 'PMC{}'.format(r['id'])\n",
    "        with open(osp.join(output_collection_dir, filename+'.ann'), 'w') as fd:\n",
    "            fd.write(to_ann(doc))\n",
    "        with open(osp.join(output_collection_dir, filename+'.txt'), 'w') as fd:\n",
    "            fd.write(text)\n",
    "\n",
    "export_annotations(df_exp)\n",
    "#export_annotations(df_exp[df_exp['id'].isin([2193209, 2634967, 2646571])])"
   ]
  },
  {
   "cell_type": "code",
   "execution_count": null,
   "metadata": {},
   "outputs": [],
   "source": [
    "# with open('/tmp/test_doc.ann', 'w') as fd:\n",
    "#     fd.write(to_ann(doc))\n",
    "# with open('/tmp/test_doc.txt', 'w') as fd:\n",
    "#     fd.write(doc.text)"
   ]
  },
  {
   "cell_type": "code",
   "execution_count": 7,
   "metadata": {},
   "outputs": [],
   "source": [
    "# doc = nlp(df[df['text'].notnull()]['text'].iloc[0])"
   ]
  },
  {
   "cell_type": "code",
   "execution_count": 31,
   "metadata": {},
   "outputs": [],
   "source": [
    "# colors = {k: 'grey' for k in ner_types}\n",
    "# colors.update({'PROTEIN': 'green', 'CELL_TYPE': 'red'})\n",
    "# options = {'ents': ner_types, 'colors': colors}\n",
    "# displacy.render(doc, style='ent', jupyter=True, options=options)"
   ]
  },
  {
   "cell_type": "code",
   "execution_count": 10,
   "metadata": {},
   "outputs": [],
   "source": [
    "# T1\tOrganization 0 4\tSony\n",
    "# T2\tMERGE-ORG 14 27\tjoint venture\n",
    "# T3\tOrganization 33 41\tEricsson\n",
    "# E1\tMERGE-ORG:T2 Org1:T1 Org2:T3\n",
    "# T4\tCountry 75 81\tSweden\n",
    "# R1\tOrigin Arg1:T3 Arg2:T4"
   ]
  }
 ],
 "metadata": {
  "kernelspec": {
   "display_name": "Python 3",
   "language": "python",
   "name": "python3"
  },
  "language_info": {
   "codemirror_mode": {
    "name": "ipython",
    "version": 3
   },
   "file_extension": ".py",
   "mimetype": "text/x-python",
   "name": "python",
   "nbconvert_exporter": "python",
   "pygments_lexer": "ipython3",
   "version": "3.6.7"
  }
 },
 "nbformat": 4,
 "nbformat_minor": 2
}
