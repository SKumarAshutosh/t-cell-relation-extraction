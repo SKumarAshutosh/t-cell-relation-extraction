{
 "cells": [
  {
   "cell_type": "code",
   "execution_count": 1,
   "metadata": {},
   "outputs": [],
   "source": [
    "import tqdm\n",
    "import os.path as osp\n",
    "import pandas as pd\n",
    "import numpy as np \n",
    "import spacy\n",
    "%run src/logging.py\n",
    "%run src/integration.py\n",
    "%run src/brat.py\n",
    "%run env.py\n",
    "article_data_file = osp.join(DATA_DIR, 'articles', 'data.csv')\n",
    "\n",
    "# To create new collection: \n",
    "# - Export all results and (optionally) include results from previous sets\n",
    "# - Copy txt and ann files from all previous sets into current collection (including .conf)\n",
    "#output_collection_dir = osp.join(REPO_DATA_DIR, 'brat', 'collection_01')\n",
    "output_collection_dir = osp.join(REPO_DATA_DIR, 'brat', 'collection_02')\n",
    "\n",
    "# Originally annotated set of 10 articles\n",
    "IDS1 = [\n",
    "    2193209, 2634967, 2646571, 2938478, 3046151, \n",
    "    3095633, 3173465, 3189223, 3235500, 3304099\n",
    "]\n",
    "IDS_ALL = IDS1"
   ]
  },
  {
   "cell_type": "code",
   "execution_count": 2,
   "metadata": {},
   "outputs": [
    {
     "data": {
      "text/plain": [
       "[('tagger', <spacy.pipeline.Tagger at 0x119a13198>),\n",
       " ('parser', <spacy.pipeline.DependencyParser at 0x119a4abf8>),\n",
       " ('ner', <spacy.pipeline.EntityRecognizer at 0x1248ed570>)]"
      ]
     },
     "execution_count": 2,
     "metadata": {},
     "output_type": "execute_result"
    }
   ],
   "source": [
    "nlp = get_scispacy_pipeline()\n",
    "nlp.pipeline"
   ]
  },
  {
   "cell_type": "code",
   "execution_count": 3,
   "metadata": {},
   "outputs": [
    {
     "name": "stdout",
     "output_type": "stream",
     "text": [
      "<class 'pandas.core.frame.DataFrame'>\n",
      "RangeIndex: 3500 entries, 0 to 3499\n",
      "Data columns (total 6 columns):\n",
      "abstract    3481 non-null object\n",
      "date        2155 non-null object\n",
      "has_text    3500 non-null bool\n",
      "id          3500 non-null int64\n",
      "title       3500 non-null object\n",
      "xml         3500 non-null object\n",
      "dtypes: bool(1), int64(1), object(4)\n",
      "memory usage: 140.2+ KB\n"
     ]
    }
   ],
   "source": [
    "df = pd.read_csv(article_data_file)\n",
    "df.info()"
   ]
  },
  {
   "cell_type": "code",
   "execution_count": 4,
   "metadata": {},
   "outputs": [
    {
     "name": "stdout",
     "output_type": "stream",
     "text": [
      "<class 'pandas.core.frame.DataFrame'>\n",
      "Int64Index: 110 entries, 22 to 3496\n",
      "Data columns (total 6 columns):\n",
      "abstract    110 non-null object\n",
      "date        69 non-null object\n",
      "has_text    110 non-null bool\n",
      "id          110 non-null int64\n",
      "title       110 non-null object\n",
      "xml         110 non-null object\n",
      "dtypes: bool(1), int64(1), object(4)\n",
      "memory usage: 5.3+ KB\n"
     ]
    }
   ],
   "source": [
    "df_exp = df[df['abstract'].notnull() | df['id'].isin(IDS_ALL)]\n",
    "\n",
    "# Get list of N ids not in previous sets\n",
    "ids = pd.Series(np.setdiff1d(df_exp['id'].unique(), IDS_ALL)).sample(n=100, random_state=SEED).values\n",
    "df_exp = df_exp[df_exp['id'].isin(list(IDS_ALL) + list(ids))]\n",
    "\n",
    "df_exp.info()"
   ]
  },
  {
   "cell_type": "code",
   "execution_count": 5,
   "metadata": {},
   "outputs": [
    {
     "data": {
      "text/plain": [
       "'4426480, 5876181, 4959015, 5112176, 4056277, 4474185, 4224975, 4552951, 5052263, 4159719, 3067507, 2193209, 6282816, 3855395, 6130380, 5611819, 5611846, 4592272, 4649113, 3317433, 5429091, 4241840, 3650071, 200936, 5191835, 4007342, 3787487, 5591438, 4214202, 3092345, 2783637, 5833121, 4418961, 6141714, 3854702, 4084624, 3246047, 3304099, 5020626, 3750006, 3791721, 2989239, 3321800, 3204990, 4851424, 5118948, 2996551, 4100769, 3926063, 5293011, 3064981, 5290235, 3095633, 6373736, 4023883, 2196041, 5983667, 3639604, 5520220, 2587175, 6197911, 4720349, 3046151, 3235500, 4423225, 4451961, 2646571, 5648021, 2634967, 3850168, 2938478, 6157333, 4233385, 3711858, 5519767, 5464295, 4628936, 5749247, 5923349, 3189223, 6372559, 4856445, 3323935, 6290922, 3228524, 2772737, 4710466, 3173465, 5578684, 3249647, 5206501, 5342705, 6274670, 4418002, 4385920, 5343661, 5257256, 4291544, 4905708, 3842119, 4151505, 2805085, 2983473, 4168117, 6092975, 5417820, 5727967, 6122729, 3927957, 4337382'"
      ]
     },
     "execution_count": 5,
     "metadata": {},
     "output_type": "execute_result"
    }
   ],
   "source": [
    "df_exp['id'].astype(str).str.cat(sep=', ')"
   ]
  },
  {
   "cell_type": "code",
   "execution_count": 6,
   "metadata": {},
   "outputs": [
    {
     "name": "stdout",
     "output_type": "stream",
     "text": [
      "<class 'pandas.core.frame.DataFrame'>\n",
      "Int64Index: 110 entries, 22 to 3496\n",
      "Data columns (total 8 columns):\n",
      "abstract    110 non-null object\n",
      "date        69 non-null object\n",
      "has_text    110 non-null bool\n",
      "id          110 non-null int64\n",
      "title       110 non-null object\n",
      "xml         110 non-null object\n",
      "body        56 non-null object\n",
      "text        110 non-null object\n",
      "dtypes: bool(1), int64(1), object(6)\n",
      "memory usage: 7.0+ KB\n"
     ]
    }
   ],
   "source": [
    "df_exp['body'] = df_exp['xml'].apply(extract_text)\n",
    "df_exp['text'] = df_exp.apply(lambda r: combine_text(r['title'], r['abstract'], r['body']), axis=1)\n",
    "df_exp.info()"
   ]
  },
  {
   "cell_type": "code",
   "execution_count": 7,
   "metadata": {},
   "outputs": [
    {
     "data": {
      "text/plain": [
       "1085     55029\n",
       "3496     56990\n",
       "898      58356\n",
       "3354     59462\n",
       "2679     59862\n",
       "1033     84306\n",
       "1083    102343\n",
       "1125    162841\n",
       "Name: text, dtype: int64"
      ]
     },
     "execution_count": 7,
     "metadata": {},
     "output_type": "execute_result"
    }
   ],
   "source": [
    "df_exp['text'].str.len().sort_values().tail(8)"
   ]
  },
  {
   "cell_type": "code",
   "execution_count": 12,
   "metadata": {},
   "outputs": [
    {
     "name": "stderr",
     "output_type": "stream",
     "text": [
      "100%|██████████| 110/110 [00:11<00:00,  9.74it/s]\n"
     ]
    }
   ],
   "source": [
    "def export_annotations(df):\n",
    "    if not osp.exists(output_collection_dir):\n",
    "        os.makedirs(output_collection_dir)\n",
    "\n",
    "    for i, r in tqdm.tqdm(list(df.iterrows())):\n",
    "        text = r['text']\n",
    "        if r['id'] in IDS1:\n",
    "            max_len = 10000\n",
    "        else:\n",
    "            max_len = 5000\n",
    "            \n",
    "        # Clip texts to manageable size for annotation (10k chars is ~50-100 sentences)\n",
    "        text = text if len(text) < max_len else text[:max_len]\n",
    "        doc = nlp(text)\n",
    "        doc_id = 'PMC{}'.format(r['id'])\n",
    "        # Ignore whitespace-only or other single character named entities\n",
    "        doc.ents = [ent for ent in doc.ents if len(ent.text.strip()) >= 2]\n",
    "        brat_doc = spacy_doc_to_brat_doc(doc, doc_id)\n",
    "        brat_doc.export(output_collection_dir)\n",
    "\n",
    "export_annotations(df_exp)\n",
    "#export_annotations(df_exp[df_exp['id'].isin([2193209, 2634967, 2646571])])"
   ]
  },
  {
   "cell_type": "code",
   "execution_count": 13,
   "metadata": {},
   "outputs": [],
   "source": [
    "! cp data/brat/collection_01/* data/brat/collection_02/"
   ]
  },
  {
   "cell_type": "code",
   "execution_count": null,
   "metadata": {},
   "outputs": [],
   "source": [
    "# with open('/tmp/test_doc.ann', 'w') as fd:\n",
    "#     fd.write(to_ann(doc))\n",
    "# with open('/tmp/test_doc.txt', 'w') as fd:\n",
    "#     fd.write(doc.text)"
   ]
  },
  {
   "cell_type": "code",
   "execution_count": 7,
   "metadata": {},
   "outputs": [],
   "source": [
    "# doc = nlp(df[df['text'].notnull()]['text'].iloc[0])"
   ]
  },
  {
   "cell_type": "code",
   "execution_count": 31,
   "metadata": {},
   "outputs": [],
   "source": [
    "# colors = {k: 'grey' for k in ner_types}\n",
    "# colors.update({'PROTEIN': 'green', 'CELL_TYPE': 'red'})\n",
    "# options = {'ents': ner_types, 'colors': colors}\n",
    "# displacy.render(doc, style='ent', jupyter=True, options=options)"
   ]
  },
  {
   "cell_type": "code",
   "execution_count": 10,
   "metadata": {},
   "outputs": [],
   "source": [
    "# T1\tOrganization 0 4\tSony\n",
    "# T2\tMERGE-ORG 14 27\tjoint venture\n",
    "# T3\tOrganization 33 41\tEricsson\n",
    "# E1\tMERGE-ORG:T2 Org1:T1 Org2:T3\n",
    "# T4\tCountry 75 81\tSweden\n",
    "# R1\tOrigin Arg1:T3 Arg2:T4"
   ]
  }
 ],
 "metadata": {
  "kernelspec": {
   "display_name": "Python 3",
   "language": "python",
   "name": "python3"
  },
  "language_info": {
   "codemirror_mode": {
    "name": "ipython",
    "version": 3
   },
   "file_extension": ".py",
   "mimetype": "text/x-python",
   "name": "python",
   "nbconvert_exporter": "python",
   "pygments_lexer": "ipython3",
   "version": "3.6.7"
  }
 },
 "nbformat": 4,
 "nbformat_minor": 2
}
