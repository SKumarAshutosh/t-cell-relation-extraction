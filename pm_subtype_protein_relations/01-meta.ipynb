{
 "cells": [
  {
   "cell_type": "markdown",
   "metadata": {},
   "source": [
    "## Metadata Integration"
   ]
  },
  {
   "cell_type": "code",
   "execution_count": 1,
   "metadata": {},
   "outputs": [],
   "source": [
    "import os.path as osp\n",
    "import pandas as pd\n",
    "import numpy as np\n",
    "%run env.py\n",
    "%run src/lib.py"
   ]
  },
  {
   "cell_type": "code",
   "execution_count": 2,
   "metadata": {},
   "outputs": [],
   "source": [
    "import hashlib\n",
    "ID_TYP_CK = 'CK'\n",
    "ID_TYP_TF = 'TF'\n",
    "ID_TYP_CT = 'CT'\n",
    "\n",
    "def get_ids(df, typ):\n",
    "    ids = [':'.join([r['src'], str(r['spid']), r['sym'], r['lbl']]) for _, r in df.iterrows()]\n",
    "    return [typ + hashlib.md5(v.encode('utf-8')).hexdigest()[:16].upper() for v in ids]"
   ]
  },
  {
   "cell_type": "markdown",
   "metadata": {},
   "source": [
    "## Cytokines"
   ]
  },
  {
   "cell_type": "markdown",
   "metadata": {},
   "source": [
    "#### Load from book table (Cameron and Kelvin)\n",
    "\n",
    "From: https://www.ncbi.nlm.nih.gov/books/NBK6294/table/A13506/?report=objectonly"
   ]
  },
  {
   "cell_type": "code",
   "execution_count": 3,
   "metadata": {},
   "outputs": [
    {
     "data": {
      "text/html": [
       "<div>\n",
       "<style scoped>\n",
       "    .dataframe tbody tr th:only-of-type {\n",
       "        vertical-align: middle;\n",
       "    }\n",
       "\n",
       "    .dataframe tbody tr th {\n",
       "        vertical-align: top;\n",
       "    }\n",
       "\n",
       "    .dataframe thead th {\n",
       "        text-align: right;\n",
       "    }\n",
       "</style>\n",
       "<table border=\"1\" class=\"dataframe\">\n",
       "  <thead>\n",
       "    <tr style=\"text-align: right;\">\n",
       "      <th></th>\n",
       "      <th>name</th>\n",
       "      <th>synonym</th>\n",
       "      <th>amino</th>\n",
       "      <th>chromosome_acids</th>\n",
       "      <th>mwt</th>\n",
       "      <th>receptor_form</th>\n",
       "      <th>receptor_location</th>\n",
       "    </tr>\n",
       "  </thead>\n",
       "  <tbody>\n",
       "    <tr>\n",
       "      <th>0</th>\n",
       "      <td>IL-1α</td>\n",
       "      <td>hematopoietin-1</td>\n",
       "      <td>271</td>\n",
       "      <td>2q14</td>\n",
       "      <td>30606</td>\n",
       "      <td>CD121a, CDw121b</td>\n",
       "      <td>2q12, 2q12-q22</td>\n",
       "    </tr>\n",
       "    <tr>\n",
       "      <th>1</th>\n",
       "      <td>IL-1β</td>\n",
       "      <td>catabolin</td>\n",
       "      <td>269</td>\n",
       "      <td>2q14</td>\n",
       "      <td>20747</td>\n",
       "      <td>CD121a, CDw121b</td>\n",
       "      <td>2q12,2q12-q22</td>\n",
       "    </tr>\n",
       "    <tr>\n",
       "      <th>2</th>\n",
       "      <td>IL-1RA</td>\n",
       "      <td>IL-1 receptor antagonist</td>\n",
       "      <td>177</td>\n",
       "      <td>2q14.2</td>\n",
       "      <td>20055</td>\n",
       "      <td>CD121a</td>\n",
       "      <td>2q12</td>\n",
       "    </tr>\n",
       "    <tr>\n",
       "      <th>3</th>\n",
       "      <td>IL-18</td>\n",
       "      <td>interferon-γ inducing factor</td>\n",
       "      <td>193</td>\n",
       "      <td>11q22.2-q22.3</td>\n",
       "      <td>22326</td>\n",
       "      <td>IL-18Rα, β</td>\n",
       "      <td>2q12</td>\n",
       "    </tr>\n",
       "    <tr>\n",
       "      <th>4</th>\n",
       "      <td>IL-2</td>\n",
       "      <td>T cell growth factor</td>\n",
       "      <td>153</td>\n",
       "      <td>4q26-q27</td>\n",
       "      <td>17628</td>\n",
       "      <td>CD25, 122,132</td>\n",
       "      <td>10p15-p14, 22q13.1, Xq13.1</td>\n",
       "    </tr>\n",
       "  </tbody>\n",
       "</table>\n",
       "</div>"
      ],
      "text/plain": [
       "     name                       synonym amino chromosome_acids    mwt  \\\n",
       "0   IL-1α               hematopoietin-1   271             2q14  30606   \n",
       "1   IL-1β                     catabolin   269             2q14  20747   \n",
       "2  IL-1RA      IL-1 receptor antagonist   177           2q14.2  20055   \n",
       "3   IL-18  interferon-γ inducing factor   193    11q22.2-q22.3  22326   \n",
       "4    IL-2          T cell growth factor   153         4q26-q27  17628   \n",
       "\n",
       "     receptor_form           receptor_location  \n",
       "0  CD121a, CDw121b              2q12, 2q12-q22  \n",
       "1  CD121a, CDw121b               2q12,2q12-q22  \n",
       "2           CD121a                        2q12  \n",
       "3       IL-18Rα, β                        2q12  \n",
       "4    CD25, 122,132  10p15-p14, 22q13.1, Xq13.1  "
      ]
     },
     "execution_count": 3,
     "metadata": {},
     "output_type": "execute_result"
    }
   ],
   "source": [
    "SRC = 'cameron'\n",
    "dfr = pd.read_csv(osp.join(META_DATA_DIR, 'raw', 'cytokines.cameron.csv'), sep='\\t')\n",
    "dfr.head()"
   ]
  },
  {
   "cell_type": "code",
   "execution_count": 4,
   "metadata": {},
   "outputs": [
    {
     "data": {
      "text/html": [
       "<div>\n",
       "<style scoped>\n",
       "    .dataframe tbody tr th:only-of-type {\n",
       "        vertical-align: middle;\n",
       "    }\n",
       "\n",
       "    .dataframe tbody tr th {\n",
       "        vertical-align: top;\n",
       "    }\n",
       "\n",
       "    .dataframe thead th {\n",
       "        text-align: right;\n",
       "    }\n",
       "</style>\n",
       "<table border=\"1\" class=\"dataframe\">\n",
       "  <thead>\n",
       "    <tr style=\"text-align: right;\">\n",
       "      <th></th>\n",
       "      <th>sym</th>\n",
       "      <th>lbl</th>\n",
       "      <th>spid</th>\n",
       "      <th>src</th>\n",
       "    </tr>\n",
       "  </thead>\n",
       "  <tbody>\n",
       "    <tr>\n",
       "      <th>0</th>\n",
       "      <td>IL-1α</td>\n",
       "      <td>IL-1α</td>\n",
       "      <td>1</td>\n",
       "      <td>cameron</td>\n",
       "    </tr>\n",
       "    <tr>\n",
       "      <th>1</th>\n",
       "      <td>IL-1β</td>\n",
       "      <td>IL-1β</td>\n",
       "      <td>1</td>\n",
       "      <td>cameron</td>\n",
       "    </tr>\n",
       "    <tr>\n",
       "      <th>2</th>\n",
       "      <td>IL-1RA</td>\n",
       "      <td>IL-1RA</td>\n",
       "      <td>1</td>\n",
       "      <td>cameron</td>\n",
       "    </tr>\n",
       "    <tr>\n",
       "      <th>3</th>\n",
       "      <td>IL-18</td>\n",
       "      <td>IL-18</td>\n",
       "      <td>1</td>\n",
       "      <td>cameron</td>\n",
       "    </tr>\n",
       "    <tr>\n",
       "      <th>4</th>\n",
       "      <td>IL-2</td>\n",
       "      <td>IL-2</td>\n",
       "      <td>1</td>\n",
       "      <td>cameron</td>\n",
       "    </tr>\n",
       "  </tbody>\n",
       "</table>\n",
       "</div>"
      ],
      "text/plain": [
       "      sym     lbl  spid      src\n",
       "0   IL-1α   IL-1α     1  cameron\n",
       "1   IL-1β   IL-1β     1  cameron\n",
       "2  IL-1RA  IL-1RA     1  cameron\n",
       "3   IL-18   IL-18     1  cameron\n",
       "4    IL-2    IL-2     1  cameron"
      ]
     },
     "execution_count": 4,
     "metadata": {},
     "output_type": "execute_result"
    }
   ],
   "source": [
    "dft = (\n",
    "    pd.concat([\n",
    "        dfr[['name', 'name']].set_axis(['sym', 'lbl'], axis=1, inplace=False),\n",
    "        dfr.set_index('name')['synonym'].str.split(',', expand=True).stack().str.strip()\n",
    "            .reset_index().set_axis(['lbl', 'i', 'sym'], axis=1, inplace=False)\n",
    "            .filter(items=['sym', 'lbl'])\n",
    "    ])\n",
    "    .assign(spid=SPECIES_HUMAN_ID, src=SRC)\n",
    ")\n",
    "dft.head()"
   ]
  },
  {
   "cell_type": "code",
   "execution_count": 5,
   "metadata": {},
   "outputs": [
    {
     "data": {
      "text/html": [
       "<div>\n",
       "<style scoped>\n",
       "    .dataframe tbody tr th:only-of-type {\n",
       "        vertical-align: middle;\n",
       "    }\n",
       "\n",
       "    .dataframe tbody tr th {\n",
       "        vertical-align: top;\n",
       "    }\n",
       "\n",
       "    .dataframe thead th {\n",
       "        text-align: right;\n",
       "    }\n",
       "</style>\n",
       "<table border=\"1\" class=\"dataframe\">\n",
       "  <thead>\n",
       "    <tr style=\"text-align: right;\">\n",
       "      <th></th>\n",
       "      <th>sym</th>\n",
       "      <th>lbl</th>\n",
       "      <th>spid</th>\n",
       "      <th>src</th>\n",
       "    </tr>\n",
       "  </thead>\n",
       "  <tbody>\n",
       "    <tr>\n",
       "      <th>0</th>\n",
       "      <td>IL-1α</td>\n",
       "      <td>IL-1α</td>\n",
       "      <td>1</td>\n",
       "      <td>cameron</td>\n",
       "    </tr>\n",
       "    <tr>\n",
       "      <th>1</th>\n",
       "      <td>IL-1β</td>\n",
       "      <td>IL-1β</td>\n",
       "      <td>1</td>\n",
       "      <td>cameron</td>\n",
       "    </tr>\n",
       "    <tr>\n",
       "      <th>2</th>\n",
       "      <td>IL-1RA</td>\n",
       "      <td>IL-1RA</td>\n",
       "      <td>1</td>\n",
       "      <td>cameron</td>\n",
       "    </tr>\n",
       "    <tr>\n",
       "      <th>3</th>\n",
       "      <td>IL-18</td>\n",
       "      <td>IL-18</td>\n",
       "      <td>1</td>\n",
       "      <td>cameron</td>\n",
       "    </tr>\n",
       "    <tr>\n",
       "      <th>4</th>\n",
       "      <td>IL-2</td>\n",
       "      <td>IL-2</td>\n",
       "      <td>1</td>\n",
       "      <td>cameron</td>\n",
       "    </tr>\n",
       "  </tbody>\n",
       "</table>\n",
       "</div>"
      ],
      "text/plain": [
       "      sym     lbl  spid      src\n",
       "0   IL-1α   IL-1α     1  cameron\n",
       "1   IL-1β   IL-1β     1  cameron\n",
       "2  IL-1RA  IL-1RA     1  cameron\n",
       "3   IL-18   IL-18     1  cameron\n",
       "4    IL-2    IL-2     1  cameron"
      ]
     },
     "execution_count": 5,
     "metadata": {},
     "output_type": "execute_result"
    }
   ],
   "source": [
    "def transform(df, mask, fn):\n",
    "    df = df.loc[mask.values].copy()\n",
    "    df['sym'] = df['sym'].apply(fn)\n",
    "    return df\n",
    "df = dft.append(transform(dft, dft['sym'].str.match(r'IL-[^ ]+$|TNF-|IFN-|TGF-'), lambda v: v.replace('-', '')))\n",
    "df['sym'] = df['sym'].str.strip()\n",
    "df['lbl'] = df['lbl'].str.strip()\n",
    "df = df[df['sym'].str.len() > 0]\n",
    "df.head()"
   ]
  },
  {
   "cell_type": "code",
   "execution_count": 6,
   "metadata": {},
   "outputs": [
    {
     "data": {
      "text/plain": [
       "array(['IL-1α', 'IL-1β', 'IL-1RA', 'IL-18', 'IL-2', 'IL-4', 'IL-7',\n",
       "       'IL-9', 'IL-13', 'IL-15', 'IL-3', 'IL-5', 'GM-CSF', 'IL-6',\n",
       "       'IL-11', 'G-CSF', 'IL-12', 'LIF', 'OSM', 'IL-10', 'IL-20', 'IL-14',\n",
       "       'IL-16', 'IL-17', 'IFN-α', 'IFN-β', 'IFN-γ', 'CD154', 'LT-β',\n",
       "       'TNF-α', 'TNF-β', '4-1BBL', 'APRIL', 'CD70', 'CD153', 'CD178',\n",
       "       'GITRL', 'LIGHT', 'OX40L', 'TALL-1', 'TRAIL', 'TWEAK', 'TRANCE',\n",
       "       'TGF-β1', 'TGF-β2', 'TGF-β3', 'hematopoietin-1', 'catabolin',\n",
       "       'IL-1 receptor antagonist', 'interferon-γ inducing factor',\n",
       "       'T cell growth factor', 'BSF-1', 'T cell growth factor P40',\n",
       "       'P600', 'multipotential CSF', 'MCGF', 'BCDF-1', 'CSF-2', 'IFN-β2',\n",
       "       'BSF-2', 'AGIF', 'CSF-3', 'NK cell stimulatory factor',\n",
       "       'leukemia inhibitory factor', 'oncostatin M', 'CSIF', 'HMW-BCGF',\n",
       "       'LCF', 'CTLA-8', 'CD40L', 'TRAP', 'cachectin', 'LT-α', 'TALL-2',\n",
       "       'CD27L', 'CD30L', 'FasL', 'Apo2L', 'Apo3L', 'OPGL', 'TGF-β',\n",
       "       'IL1α', 'IL1β', 'IL1RA', 'IL18', 'IL2', 'IL4', 'IL7', 'IL9',\n",
       "       'IL13', 'IL15', 'IL3', 'IL5', 'IL6', 'IL11', 'IL12', 'IL10',\n",
       "       'IL20', 'IL14', 'IL16', 'IL17', 'IFNα', 'IFNβ', 'IFNγ', 'TNFα',\n",
       "       'TNFβ', 'TGFβ1', 'TGFβ2', 'TGFβ3', 'IFNβ2', 'TGFβ'], dtype=object)"
      ]
     },
     "execution_count": 6,
     "metadata": {},
     "output_type": "execute_result"
    }
   ],
   "source": [
    "df['sym'].unique()"
   ]
  },
  {
   "cell_type": "code",
   "execution_count": 7,
   "metadata": {},
   "outputs": [
    {
     "data": {
      "text/html": [
       "<div>\n",
       "<style scoped>\n",
       "    .dataframe tbody tr th:only-of-type {\n",
       "        vertical-align: middle;\n",
       "    }\n",
       "\n",
       "    .dataframe tbody tr th {\n",
       "        vertical-align: top;\n",
       "    }\n",
       "\n",
       "    .dataframe thead th {\n",
       "        text-align: right;\n",
       "    }\n",
       "</style>\n",
       "<table border=\"1\" class=\"dataframe\">\n",
       "  <thead>\n",
       "    <tr style=\"text-align: right;\">\n",
       "      <th></th>\n",
       "      <th>sym</th>\n",
       "      <th>lbl</th>\n",
       "      <th>spid</th>\n",
       "      <th>src</th>\n",
       "      <th>extid</th>\n",
       "      <th>id</th>\n",
       "    </tr>\n",
       "  </thead>\n",
       "  <tbody>\n",
       "    <tr>\n",
       "      <th>0</th>\n",
       "      <td>IL-1α</td>\n",
       "      <td>IL-1α</td>\n",
       "      <td>1</td>\n",
       "      <td>cameron</td>\n",
       "      <td>None</td>\n",
       "      <td>CK3618F8D5635EA31B</td>\n",
       "    </tr>\n",
       "    <tr>\n",
       "      <th>1</th>\n",
       "      <td>IL-1β</td>\n",
       "      <td>IL-1β</td>\n",
       "      <td>1</td>\n",
       "      <td>cameron</td>\n",
       "      <td>None</td>\n",
       "      <td>CKA07F01C879D8D6C2</td>\n",
       "    </tr>\n",
       "    <tr>\n",
       "      <th>2</th>\n",
       "      <td>IL-1RA</td>\n",
       "      <td>IL-1RA</td>\n",
       "      <td>1</td>\n",
       "      <td>cameron</td>\n",
       "      <td>None</td>\n",
       "      <td>CKA95B181F6273B58D</td>\n",
       "    </tr>\n",
       "    <tr>\n",
       "      <th>3</th>\n",
       "      <td>IL-18</td>\n",
       "      <td>IL-18</td>\n",
       "      <td>1</td>\n",
       "      <td>cameron</td>\n",
       "      <td>None</td>\n",
       "      <td>CKBF6003C60D23BA0D</td>\n",
       "    </tr>\n",
       "    <tr>\n",
       "      <th>4</th>\n",
       "      <td>IL-2</td>\n",
       "      <td>IL-2</td>\n",
       "      <td>1</td>\n",
       "      <td>cameron</td>\n",
       "      <td>None</td>\n",
       "      <td>CKD21834C7D75FD77F</td>\n",
       "    </tr>\n",
       "  </tbody>\n",
       "</table>\n",
       "</div>"
      ],
      "text/plain": [
       "      sym     lbl  spid      src extid                  id\n",
       "0   IL-1α   IL-1α     1  cameron  None  CK3618F8D5635EA31B\n",
       "1   IL-1β   IL-1β     1  cameron  None  CKA07F01C879D8D6C2\n",
       "2  IL-1RA  IL-1RA     1  cameron  None  CKA95B181F6273B58D\n",
       "3   IL-18   IL-18     1  cameron  None  CKBF6003C60D23BA0D\n",
       "4    IL-2    IL-2     1  cameron  None  CKD21834C7D75FD77F"
      ]
     },
     "execution_count": 7,
     "metadata": {},
     "output_type": "execute_result"
    }
   ],
   "source": [
    "df['extid'] = None\n",
    "df['id'] = get_ids(df, ID_TYP_CK)\n",
    "df.head()"
   ]
  },
  {
   "cell_type": "code",
   "execution_count": 8,
   "metadata": {},
   "outputs": [],
   "source": [
    "df_cameron = df.copy()"
   ]
  },
  {
   "cell_type": "markdown",
   "metadata": {},
   "source": [
    "#### Load from mygene"
   ]
  },
  {
   "cell_type": "code",
   "execution_count": 9,
   "metadata": {},
   "outputs": [],
   "source": [
    "import mygene\n",
    "SRC = 'mygene'\n",
    "mg = mygene.MyGeneInfo()"
   ]
  },
  {
   "cell_type": "code",
   "execution_count": 10,
   "metadata": {},
   "outputs": [
    {
     "name": "stdout",
     "output_type": "stream",
     "text": [
      "<class 'pandas.core.frame.DataFrame'>\n",
      "RangeIndex: 570 entries, 0 to 569\n",
      "Data columns (total 8 columns):\n",
      "_id             570 non-null object\n",
      "_score          570 non-null float64\n",
      "alias           531 non-null object\n",
      "ensembl         30 non-null object\n",
      "ensembl.gene    522 non-null object\n",
      "name            570 non-null object\n",
      "symbol          570 non-null object\n",
      "taxid           570 non-null int64\n",
      "dtypes: float64(1), int64(1), object(6)\n",
      "memory usage: 35.7+ KB\n"
     ]
    }
   ],
   "source": [
    "df = mg.query(\n",
    "    q='interleukin',\n",
    "    size=1000,\n",
    "    scopes=[\"symbol\", \"retired\", \"name\", \"alias\"],\n",
    "    fields='symbol,name,taxid,ensembl.gene,alias', \n",
    "    species='human', \n",
    "    as_dataframe=True\n",
    ")\n",
    "df.info()"
   ]
  },
  {
   "cell_type": "code",
   "execution_count": 11,
   "metadata": {},
   "outputs": [
    {
     "data": {
      "text/plain": [
       "<matplotlib.axes._subplots.AxesSubplot at 0x1142dbcf8>"
      ]
     },
     "execution_count": 11,
     "metadata": {},
     "output_type": "execute_result"
    },
    {
     "data": {
      "image/png": "[encoded data removed]",
      "text/plain": [
       "<Figure size 432x288 with 1 Axes>"
      ]
     },
     "metadata": {
      "needs_background": "light"
     },
     "output_type": "display_data"
    }
   ],
   "source": [
    "%matplotlib inline\n",
    "df['_score'].hist(bins=32)"
   ]
  },
  {
   "cell_type": "code",
   "execution_count": 12,
   "metadata": {},
   "outputs": [
    {
     "data": {
      "text/html": [
       "<div>\n",
       "<style scoped>\n",
       "    .dataframe tbody tr th:only-of-type {\n",
       "        vertical-align: middle;\n",
       "    }\n",
       "\n",
       "    .dataframe tbody tr th {\n",
       "        vertical-align: top;\n",
       "    }\n",
       "\n",
       "    .dataframe thead th {\n",
       "        text-align: right;\n",
       "    }\n",
       "</style>\n",
       "<table border=\"1\" class=\"dataframe\">\n",
       "  <thead>\n",
       "    <tr style=\"text-align: right;\">\n",
       "      <th></th>\n",
       "      <th>extid</th>\n",
       "      <th>alias</th>\n",
       "      <th>ensembl</th>\n",
       "      <th>ensembl.gene</th>\n",
       "      <th>name</th>\n",
       "      <th>symbol</th>\n",
       "      <th>taxid</th>\n",
       "    </tr>\n",
       "  </thead>\n",
       "  <tbody>\n",
       "    <tr>\n",
       "      <th>0</th>\n",
       "      <td>53342</td>\n",
       "      <td>IL-17D</td>\n",
       "      <td>NaN</td>\n",
       "      <td>ENSG00000172458</td>\n",
       "      <td>interleukin 17D</td>\n",
       "      <td>IL17D</td>\n",
       "      <td>9606</td>\n",
       "    </tr>\n",
       "    <tr>\n",
       "      <th>1</th>\n",
       "      <td>3562</td>\n",
       "      <td>[IL-3, MCGF, MULTI-CSF]</td>\n",
       "      <td>NaN</td>\n",
       "      <td>ENSG00000164399</td>\n",
       "      <td>interleukin 3</td>\n",
       "      <td>IL3</td>\n",
       "      <td>9606</td>\n",
       "    </tr>\n",
       "    <tr>\n",
       "      <th>2</th>\n",
       "      <td>3605</td>\n",
       "      <td>[CTLA-8, CTLA8, IL-17, IL-17A, IL17]</td>\n",
       "      <td>NaN</td>\n",
       "      <td>ENSG00000112115</td>\n",
       "      <td>interleukin 17A</td>\n",
       "      <td>IL17A</td>\n",
       "      <td>9606</td>\n",
       "    </tr>\n",
       "    <tr>\n",
       "      <th>3</th>\n",
       "      <td>55801</td>\n",
       "      <td>[AK155, IL-26]</td>\n",
       "      <td>NaN</td>\n",
       "      <td>ENSG00000111536</td>\n",
       "      <td>interleukin 26</td>\n",
       "      <td>IL26</td>\n",
       "      <td>9606</td>\n",
       "    </tr>\n",
       "    <tr>\n",
       "      <th>4</th>\n",
       "      <td>64806</td>\n",
       "      <td>IL17E</td>\n",
       "      <td>NaN</td>\n",
       "      <td>ENSG00000166090</td>\n",
       "      <td>interleukin 25</td>\n",
       "      <td>IL25</td>\n",
       "      <td>9606</td>\n",
       "    </tr>\n",
       "  </tbody>\n",
       "</table>\n",
       "</div>"
      ],
      "text/plain": [
       "   extid                                 alias ensembl     ensembl.gene  \\\n",
       "0  53342                                IL-17D     NaN  ENSG00000172458   \n",
       "1   3562               [IL-3, MCGF, MULTI-CSF]     NaN  ENSG00000164399   \n",
       "2   3605  [CTLA-8, CTLA8, IL-17, IL-17A, IL17]     NaN  ENSG00000112115   \n",
       "3  55801                        [AK155, IL-26]     NaN  ENSG00000111536   \n",
       "4  64806                                 IL17E     NaN  ENSG00000166090   \n",
       "\n",
       "              name symbol  taxid  \n",
       "0  interleukin 17D  IL17D   9606  \n",
       "1    interleukin 3    IL3   9606  \n",
       "2  interleukin 17A  IL17A   9606  \n",
       "3   interleukin 26   IL26   9606  \n",
       "4   interleukin 25   IL25   9606  "
      ]
     },
     "execution_count": 12,
     "metadata": {},
     "output_type": "execute_result"
    }
   ],
   "source": [
    "dft = df[df['_score'] > 20].copy()\n",
    "dft = dft[dft['name'].str.match('interleukin \\w+$')]\n",
    "dft = dft.rename(columns={'_id': 'extid'}).drop('_score', axis=1)\n",
    "dft.head()"
   ]
  },
  {
   "cell_type": "code",
   "execution_count": 13,
   "metadata": {},
   "outputs": [
    {
     "data": {
      "text/plain": [
       "array(['interleukin 17D', 'interleukin 3', 'interleukin 17A',\n",
       "       'interleukin 26', 'interleukin 25', 'interleukin 27',\n",
       "       'interleukin 20', 'interleukin 16', 'interleukin 33',\n",
       "       'interleukin 7', 'interleukin 18', 'interleukin 17C',\n",
       "       'interleukin 9', 'interleukin 34', 'interleukin 17F',\n",
       "       'interleukin 17B', 'interleukin 15', 'interleukin 24',\n",
       "       'interleukin 2', 'interleukin 31', 'interleukin 22',\n",
       "       'interleukin 32', 'interleukin 12A', 'interleukin 19',\n",
       "       'interleukin 11', 'interleukin 5', 'interleukin 6',\n",
       "       'interleukin 10', 'interleukin 12B', 'interleukin 13',\n",
       "       'interleukin 21', 'interleukin 37', 'interleukin 4'], dtype=object)"
      ]
     },
     "execution_count": 13,
     "metadata": {},
     "output_type": "execute_result"
    }
   ],
   "source": [
    "dft['name'].unique()"
   ]
  },
  {
   "cell_type": "code",
   "execution_count": 14,
   "metadata": {},
   "outputs": [
    {
     "data": {
      "text/html": [
       "<div>\n",
       "<style scoped>\n",
       "    .dataframe tbody tr th:only-of-type {\n",
       "        vertical-align: middle;\n",
       "    }\n",
       "\n",
       "    .dataframe tbody tr th {\n",
       "        vertical-align: top;\n",
       "    }\n",
       "\n",
       "    .dataframe thead th {\n",
       "        text-align: right;\n",
       "    }\n",
       "</style>\n",
       "<table border=\"1\" class=\"dataframe\">\n",
       "  <thead>\n",
       "    <tr style=\"text-align: right;\">\n",
       "      <th></th>\n",
       "      <th>sym</th>\n",
       "      <th>lbl</th>\n",
       "      <th>extid</th>\n",
       "      <th>spid</th>\n",
       "      <th>src</th>\n",
       "      <th>id</th>\n",
       "    </tr>\n",
       "  </thead>\n",
       "  <tbody>\n",
       "    <tr>\n",
       "      <th>0</th>\n",
       "      <td>interleukin 17D</td>\n",
       "      <td>IL17D</td>\n",
       "      <td>53342</td>\n",
       "      <td>1</td>\n",
       "      <td>mygene</td>\n",
       "      <td>CK935C505B6ED63720</td>\n",
       "    </tr>\n",
       "    <tr>\n",
       "      <th>1</th>\n",
       "      <td>IL17D</td>\n",
       "      <td>IL17D</td>\n",
       "      <td>53342</td>\n",
       "      <td>1</td>\n",
       "      <td>mygene</td>\n",
       "      <td>CKFB59E8DF35078E4F</td>\n",
       "    </tr>\n",
       "    <tr>\n",
       "      <th>2</th>\n",
       "      <td>IL-17D</td>\n",
       "      <td>IL17D</td>\n",
       "      <td>53342</td>\n",
       "      <td>1</td>\n",
       "      <td>mygene</td>\n",
       "      <td>CKD60BA9775658A4C0</td>\n",
       "    </tr>\n",
       "    <tr>\n",
       "      <th>3</th>\n",
       "      <td>interleukin 3</td>\n",
       "      <td>IL3</td>\n",
       "      <td>3562</td>\n",
       "      <td>1</td>\n",
       "      <td>mygene</td>\n",
       "      <td>CKD868366DC34743F4</td>\n",
       "    </tr>\n",
       "    <tr>\n",
       "      <th>4</th>\n",
       "      <td>IL3</td>\n",
       "      <td>IL3</td>\n",
       "      <td>3562</td>\n",
       "      <td>1</td>\n",
       "      <td>mygene</td>\n",
       "      <td>CKE1271585C8AC0459</td>\n",
       "    </tr>\n",
       "  </tbody>\n",
       "</table>\n",
       "</div>"
      ],
      "text/plain": [
       "               sym    lbl  extid  spid     src                  id\n",
       "0  interleukin 17D  IL17D  53342     1  mygene  CK935C505B6ED63720\n",
       "1            IL17D  IL17D  53342     1  mygene  CKFB59E8DF35078E4F\n",
       "2           IL-17D  IL17D  53342     1  mygene  CKD60BA9775658A4C0\n",
       "3    interleukin 3    IL3   3562     1  mygene  CKD868366DC34743F4\n",
       "4              IL3    IL3   3562     1  mygene  CKE1271585C8AC0459"
      ]
     },
     "execution_count": 14,
     "metadata": {},
     "output_type": "execute_result"
    }
   ],
   "source": [
    "dfs = []\n",
    "for i, r in dft.iterrows():\n",
    "    dfs.append((r['name'], r['symbol'], r['extid']))\n",
    "    dfs.append((r['symbol'], r['symbol'], r['extid']))\n",
    "    aliases = [] \n",
    "    if r['alias'] is not None:\n",
    "        aliases = [r['alias']] if isinstance(r['alias'], str) else r['alias']\n",
    "    for alias in aliases:\n",
    "        dfs.append((alias, r['symbol'], r['extid']))\n",
    "dfs = pd.DataFrame(dfs, columns=['sym', 'lbl', 'extid'])\n",
    "dfs = dfs.assign(spid=SPECIES_HUMAN_ID, src=SRC)\n",
    "dfs['id'] = get_ids(dfs, ID_TYP_CK)\n",
    "dfs.head()"
   ]
  },
  {
   "cell_type": "code",
   "execution_count": 15,
   "metadata": {},
   "outputs": [
    {
     "data": {
      "text/plain": [
       "array(['interleukin 17D', 'IL17D', 'IL-17D', 'interleukin 3', 'IL3',\n",
       "       'IL-3', 'MCGF', 'MULTI-CSF', 'interleukin 17A', 'IL17A', 'CTLA-8',\n",
       "       'CTLA8', 'IL-17', 'IL-17A', 'IL17', 'interleukin 26', 'IL26',\n",
       "       'AK155', 'IL-26', 'interleukin 25', 'IL25', 'IL17E',\n",
       "       'interleukin 27', 'IL27', 'IL-27', 'IL-27A', 'IL27A', 'IL27p28',\n",
       "       'IL30', 'p28', 'interleukin 20', 'IL20', 'IL-20', 'IL10D',\n",
       "       'ZCYTO10', 'interleukin 16', 'IL16', 'LCF', 'NIL16', 'PRIL16',\n",
       "       'prIL-16', 'interleukin 33', 'IL33', 'C9orf26', 'DVS27', 'IL1F11',\n",
       "       'NF-HEV', 'NFEHEV', 'interleukin 7', 'IL7', 'IL-7',\n",
       "       'interleukin 18', 'IL18', 'IGIF', 'IL-18', 'IL-1g', 'IL1F4',\n",
       "       'interleukin 17C', 'IL17C', 'CX2', 'IL-17C', 'interleukin 9',\n",
       "       'IL9', 'HP40', 'IL-9', 'P40', 'interleukin 34', 'IL34', 'C16orf77',\n",
       "       'IL-34', 'interleukin 17F', 'IL17F', 'CANDF6', 'IL-17F', 'ML-1',\n",
       "       'ML1', 'interleukin 17B', 'IL17B', 'IL-17B', 'NIRF', 'ZCYTO7',\n",
       "       'interleukin 15', 'IL15', 'IL-15', 'interleukin 24', 'IL24',\n",
       "       'C49A', 'FISP', 'IL10B', 'MDA7', 'MOB5', 'ST16', 'interleukin 2',\n",
       "       'IL2', 'IL-2', 'TCGF', 'lymphokine', 'interleukin 31', 'IL31',\n",
       "       'IL-31', 'interleukin 22', 'IL22', 'IL-21', 'IL-22', 'IL-D110',\n",
       "       'IL-TIF', 'ILTIF', 'TIFIL-23', 'TIFa', 'zcyto18', 'interleukin 32',\n",
       "       'IL32', 'IL-32alpha', 'IL-32beta', 'IL-32delta', 'IL-32gamma',\n",
       "       'NK4', 'TAIF', 'TAIFa', 'TAIFb', 'TAIFc', 'TAIFd',\n",
       "       'interleukin 12A', 'IL12A', 'CLMF', 'IL-12A', 'NFSK', 'NKSF1',\n",
       "       'P35', 'interleukin 19', 'IL19', 'IL-10C', 'MDA1', 'NG.1', 'ZMDA1',\n",
       "       'interleukin 11', 'IL11', 'AGIF', 'IL-11', 'interleukin 5', 'IL5',\n",
       "       'EDF', 'IL-5', 'TRF', 'interleukin 6', 'IL6', 'BSF-2', 'BSF2',\n",
       "       'CDF', 'HGF', 'HSF', 'IFN-beta-2', 'IFNB2', 'IL-6',\n",
       "       'interleukin 10', 'IL10', 'CSIF', 'GVHDS', 'IL-10', 'IL10A',\n",
       "       'TGIF', 'interleukin 12B', 'IL12B', 'CLMF2', 'IL-12B', 'IMD28',\n",
       "       'IMD29', 'NKSF', 'NKSF2', 'interleukin 13', 'IL13', 'IL-13',\n",
       "       'P600', 'interleukin 21', 'IL21', 'CVID11', 'Za11',\n",
       "       'interleukin 37', 'IL37', 'FIL1', 'FIL1(ZETA)', 'FIL1Z', 'IL-1F7',\n",
       "       'IL-1H', 'IL-1H4', 'IL-1RP1', 'IL-37', 'IL1F7', 'IL1H4', 'IL1RP1',\n",
       "       'interleukin 4', 'IL4', 'BCGF-1', 'BCGF1', 'BSF-1', 'BSF1', 'IL-4'],\n",
       "      dtype=object)"
      ]
     },
     "execution_count": 15,
     "metadata": {},
     "output_type": "execute_result"
    }
   ],
   "source": [
    "# Check for (and remove) any excessively vague symbols\n",
    "dfs['sym'].unique()"
   ]
  },
  {
   "cell_type": "code",
   "execution_count": 16,
   "metadata": {},
   "outputs": [
    {
     "data": {
      "text/html": [
       "<div>\n",
       "<style scoped>\n",
       "    .dataframe tbody tr th:only-of-type {\n",
       "        vertical-align: middle;\n",
       "    }\n",
       "\n",
       "    .dataframe tbody tr th {\n",
       "        vertical-align: top;\n",
       "    }\n",
       "\n",
       "    .dataframe thead th {\n",
       "        text-align: right;\n",
       "    }\n",
       "</style>\n",
       "<table border=\"1\" class=\"dataframe\">\n",
       "  <thead>\n",
       "    <tr style=\"text-align: right;\">\n",
       "      <th></th>\n",
       "      <th>sym</th>\n",
       "      <th>lbl</th>\n",
       "      <th>extid</th>\n",
       "      <th>spid</th>\n",
       "      <th>src</th>\n",
       "      <th>id</th>\n",
       "    </tr>\n",
       "  </thead>\n",
       "  <tbody>\n",
       "    <tr>\n",
       "      <th>97</th>\n",
       "      <td>lymphokine</td>\n",
       "      <td>IL2</td>\n",
       "      <td>3558</td>\n",
       "      <td>1</td>\n",
       "      <td>mygene</td>\n",
       "      <td>CK9298120219D4DCFC</td>\n",
       "    </tr>\n",
       "  </tbody>\n",
       "</table>\n",
       "</div>"
      ],
      "text/plain": [
       "           sym  lbl extid  spid     src                  id\n",
       "97  lymphokine  IL2  3558     1  mygene  CK9298120219D4DCFC"
      ]
     },
     "execution_count": 16,
     "metadata": {},
     "output_type": "execute_result"
    }
   ],
   "source": [
    "dfs[dfs['sym'].str.match('lymphokine')]"
   ]
  },
  {
   "cell_type": "code",
   "execution_count": 17,
   "metadata": {},
   "outputs": [
    {
     "data": {
      "text/plain": [
       "(200, 199)"
      ]
     },
     "execution_count": 17,
     "metadata": {},
     "output_type": "execute_result"
    }
   ],
   "source": [
    "dfsf = dfs[~dfs['sym'].str.match('lymphokine')]\n",
    "len(dfs), len(dfsf)"
   ]
  },
  {
   "cell_type": "code",
   "execution_count": 18,
   "metadata": {},
   "outputs": [],
   "source": [
    "df_mygene = dfsf.copy()"
   ]
  },
  {
   "cell_type": "code",
   "execution_count": 19,
   "metadata": {},
   "outputs": [
    {
     "data": {
      "text/html": [
       "<div>\n",
       "<style scoped>\n",
       "    .dataframe tbody tr th:only-of-type {\n",
       "        vertical-align: middle;\n",
       "    }\n",
       "\n",
       "    .dataframe tbody tr th {\n",
       "        vertical-align: top;\n",
       "    }\n",
       "\n",
       "    .dataframe thead th {\n",
       "        text-align: right;\n",
       "    }\n",
       "</style>\n",
       "<table border=\"1\" class=\"dataframe\">\n",
       "  <thead>\n",
       "    <tr style=\"text-align: right;\">\n",
       "      <th></th>\n",
       "      <th>sym</th>\n",
       "      <th>lbl</th>\n",
       "      <th>extid</th>\n",
       "      <th>spid</th>\n",
       "      <th>src</th>\n",
       "      <th>id</th>\n",
       "    </tr>\n",
       "  </thead>\n",
       "  <tbody>\n",
       "    <tr>\n",
       "      <th>93</th>\n",
       "      <td>interleukin 2</td>\n",
       "      <td>IL2</td>\n",
       "      <td>3558</td>\n",
       "      <td>1</td>\n",
       "      <td>mygene</td>\n",
       "      <td>CK9C8188807B0D83D6</td>\n",
       "    </tr>\n",
       "    <tr>\n",
       "      <th>94</th>\n",
       "      <td>IL2</td>\n",
       "      <td>IL2</td>\n",
       "      <td>3558</td>\n",
       "      <td>1</td>\n",
       "      <td>mygene</td>\n",
       "      <td>CKC3BECFC2416C80F7</td>\n",
       "    </tr>\n",
       "    <tr>\n",
       "      <th>95</th>\n",
       "      <td>IL-2</td>\n",
       "      <td>IL2</td>\n",
       "      <td>3558</td>\n",
       "      <td>1</td>\n",
       "      <td>mygene</td>\n",
       "      <td>CK8704C6CACEA5DE28</td>\n",
       "    </tr>\n",
       "    <tr>\n",
       "      <th>96</th>\n",
       "      <td>TCGF</td>\n",
       "      <td>IL2</td>\n",
       "      <td>3558</td>\n",
       "      <td>1</td>\n",
       "      <td>mygene</td>\n",
       "      <td>CK0AB2532CFC3AB164</td>\n",
       "    </tr>\n",
       "  </tbody>\n",
       "</table>\n",
       "</div>"
      ],
      "text/plain": [
       "              sym  lbl extid  spid     src                  id\n",
       "93  interleukin 2  IL2  3558     1  mygene  CK9C8188807B0D83D6\n",
       "94            IL2  IL2  3558     1  mygene  CKC3BECFC2416C80F7\n",
       "95           IL-2  IL2  3558     1  mygene  CK8704C6CACEA5DE28\n",
       "96           TCGF  IL2  3558     1  mygene  CK0AB2532CFC3AB164"
      ]
     },
     "execution_count": 19,
     "metadata": {},
     "output_type": "execute_result"
    }
   ],
   "source": [
    "df_mygene[df_mygene['lbl'] == 'IL2']"
   ]
  },
  {
   "cell_type": "markdown",
   "metadata": {},
   "source": [
    "#### Load Manual Entries"
   ]
  },
  {
   "cell_type": "code",
   "execution_count": 20,
   "metadata": {},
   "outputs": [
    {
     "data": {
      "text/html": [
       "<div>\n",
       "<style scoped>\n",
       "    .dataframe tbody tr th:only-of-type {\n",
       "        vertical-align: middle;\n",
       "    }\n",
       "\n",
       "    .dataframe tbody tr th {\n",
       "        vertical-align: top;\n",
       "    }\n",
       "\n",
       "    .dataframe thead th {\n",
       "        text-align: right;\n",
       "    }\n",
       "</style>\n",
       "<table border=\"1\" class=\"dataframe\">\n",
       "  <thead>\n",
       "    <tr style=\"text-align: right;\">\n",
       "      <th></th>\n",
       "      <th>sym</th>\n",
       "      <th>lbl</th>\n",
       "      <th>spid</th>\n",
       "      <th>src</th>\n",
       "      <th>extid</th>\n",
       "      <th>id</th>\n",
       "    </tr>\n",
       "  </thead>\n",
       "  <tbody>\n",
       "    <tr>\n",
       "      <th>0</th>\n",
       "      <td>IL-23</td>\n",
       "      <td>IL-23</td>\n",
       "      <td>1</td>\n",
       "      <td>manual</td>\n",
       "      <td>None</td>\n",
       "      <td>CKBB5E75DBC75FF4F6</td>\n",
       "    </tr>\n",
       "    <tr>\n",
       "      <th>1</th>\n",
       "      <td>IL23</td>\n",
       "      <td>IL-23</td>\n",
       "      <td>1</td>\n",
       "      <td>manual</td>\n",
       "      <td>None</td>\n",
       "      <td>CK1ADD3CDC140B33EA</td>\n",
       "    </tr>\n",
       "  </tbody>\n",
       "</table>\n",
       "</div>"
      ],
      "text/plain": [
       "     sym    lbl  spid     src extid                  id\n",
       "0  IL-23  IL-23     1  manual  None  CKBB5E75DBC75FF4F6\n",
       "1   IL23  IL-23     1  manual  None  CK1ADD3CDC140B33EA"
      ]
     },
     "execution_count": 20,
     "metadata": {},
     "output_type": "execute_result"
    }
   ],
   "source": [
    "SRC = 'manual'\n",
    "df = pd.read_csv(osp.join(META_DATA_DIR, 'raw', 'cytokines.manual.csv'), sep=',')\n",
    "df = df.assign(src=SRC, extid=None)\n",
    "df['id'] = get_ids(df, ID_TYP_CK)\n",
    "df.head()"
   ]
  },
  {
   "cell_type": "code",
   "execution_count": 21,
   "metadata": {},
   "outputs": [],
   "source": [
    "df_manual = df.copy()"
   ]
  },
  {
   "cell_type": "markdown",
   "metadata": {},
   "source": [
    "#### Merge and Export"
   ]
  },
  {
   "cell_type": "code",
   "execution_count": 22,
   "metadata": {},
   "outputs": [
    {
     "name": "stdout",
     "output_type": "stream",
     "text": [
      "<class 'pandas.core.frame.DataFrame'>\n",
      "Int64Index: 312 entries, 0 to 1\n",
      "Data columns (total 6 columns):\n",
      "id       312 non-null object\n",
      "src      312 non-null object\n",
      "sym      312 non-null object\n",
      "lbl      312 non-null object\n",
      "spid     312 non-null int64\n",
      "extid    199 non-null object\n",
      "dtypes: int64(1), object(5)\n",
      "memory usage: 17.1+ KB\n",
      "None\n"
     ]
    },
    {
     "data": {
      "text/html": [
       "<div>\n",
       "<style scoped>\n",
       "    .dataframe tbody tr th:only-of-type {\n",
       "        vertical-align: middle;\n",
       "    }\n",
       "\n",
       "    .dataframe tbody tr th {\n",
       "        vertical-align: top;\n",
       "    }\n",
       "\n",
       "    .dataframe thead th {\n",
       "        text-align: right;\n",
       "    }\n",
       "</style>\n",
       "<table border=\"1\" class=\"dataframe\">\n",
       "  <thead>\n",
       "    <tr style=\"text-align: right;\">\n",
       "      <th></th>\n",
       "      <th>id</th>\n",
       "      <th>src</th>\n",
       "      <th>sym</th>\n",
       "      <th>lbl</th>\n",
       "      <th>spid</th>\n",
       "      <th>extid</th>\n",
       "    </tr>\n",
       "  </thead>\n",
       "  <tbody>\n",
       "    <tr>\n",
       "      <th>0</th>\n",
       "      <td>CK3618F8D5635EA31B</td>\n",
       "      <td>cameron</td>\n",
       "      <td>IL-1α</td>\n",
       "      <td>IL-1α</td>\n",
       "      <td>1</td>\n",
       "      <td>None</td>\n",
       "    </tr>\n",
       "    <tr>\n",
       "      <th>1</th>\n",
       "      <td>CKA07F01C879D8D6C2</td>\n",
       "      <td>cameron</td>\n",
       "      <td>IL-1β</td>\n",
       "      <td>IL-1β</td>\n",
       "      <td>1</td>\n",
       "      <td>None</td>\n",
       "    </tr>\n",
       "    <tr>\n",
       "      <th>2</th>\n",
       "      <td>CKA95B181F6273B58D</td>\n",
       "      <td>cameron</td>\n",
       "      <td>IL-1RA</td>\n",
       "      <td>IL-1RA</td>\n",
       "      <td>1</td>\n",
       "      <td>None</td>\n",
       "    </tr>\n",
       "    <tr>\n",
       "      <th>3</th>\n",
       "      <td>CKBF6003C60D23BA0D</td>\n",
       "      <td>cameron</td>\n",
       "      <td>IL-18</td>\n",
       "      <td>IL-18</td>\n",
       "      <td>1</td>\n",
       "      <td>None</td>\n",
       "    </tr>\n",
       "    <tr>\n",
       "      <th>4</th>\n",
       "      <td>CKD21834C7D75FD77F</td>\n",
       "      <td>cameron</td>\n",
       "      <td>IL-2</td>\n",
       "      <td>IL-2</td>\n",
       "      <td>1</td>\n",
       "      <td>None</td>\n",
       "    </tr>\n",
       "  </tbody>\n",
       "</table>\n",
       "</div>"
      ],
      "text/plain": [
       "                   id      src     sym     lbl  spid extid\n",
       "0  CK3618F8D5635EA31B  cameron   IL-1α   IL-1α     1  None\n",
       "1  CKA07F01C879D8D6C2  cameron   IL-1β   IL-1β     1  None\n",
       "2  CKA95B181F6273B58D  cameron  IL-1RA  IL-1RA     1  None\n",
       "3  CKBF6003C60D23BA0D  cameron   IL-18   IL-18     1  None\n",
       "4  CKD21834C7D75FD77F  cameron    IL-2    IL-2     1  None"
      ]
     },
     "execution_count": 22,
     "metadata": {},
     "output_type": "execute_result"
    }
   ],
   "source": [
    "cols = ['id', 'src', 'sym', 'lbl', 'spid', 'extid']\n",
    "df = pd.concat([df_cameron[cols], df_mygene[cols], df_manual[cols]])\n",
    "print(df.info())\n",
    "df.head()"
   ]
  },
  {
   "cell_type": "code",
   "execution_count": 34,
   "metadata": {},
   "outputs": [
    {
     "data": {
      "text/html": [
       "<div>\n",
       "<style scoped>\n",
       "    .dataframe tbody tr th:only-of-type {\n",
       "        vertical-align: middle;\n",
       "    }\n",
       "\n",
       "    .dataframe tbody tr th {\n",
       "        vertical-align: top;\n",
       "    }\n",
       "\n",
       "    .dataframe thead th {\n",
       "        text-align: right;\n",
       "    }\n",
       "</style>\n",
       "<table border=\"1\" class=\"dataframe\">\n",
       "  <thead>\n",
       "    <tr style=\"text-align: right;\">\n",
       "      <th></th>\n",
       "      <th>id</th>\n",
       "      <th>src</th>\n",
       "      <th>sym</th>\n",
       "      <th>lbl</th>\n",
       "      <th>spid</th>\n",
       "      <th>extid</th>\n",
       "    </tr>\n",
       "  </thead>\n",
       "  <tbody>\n",
       "    <tr>\n",
       "      <th>46</th>\n",
       "      <td>CK8ADDB4814EC2BC7A</td>\n",
       "      <td>cameron</td>\n",
       "      <td>TGFβ</td>\n",
       "      <td>TGF-β1</td>\n",
       "      <td>1</td>\n",
       "      <td>None</td>\n",
       "    </tr>\n",
       "  </tbody>\n",
       "</table>\n",
       "</div>"
      ],
      "text/plain": [
       "                    id      src   sym     lbl  spid extid\n",
       "46  CK8ADDB4814EC2BC7A  cameron  TGFβ  TGF-β1     1  None"
      ]
     },
     "execution_count": 34,
     "metadata": {},
     "output_type": "execute_result"
    }
   ],
   "source": [
    "df[df['sym'].str.match('TGF.$')]"
   ]
  },
  {
   "cell_type": "code",
   "execution_count": 23,
   "metadata": {},
   "outputs": [
    {
     "data": {
      "text/plain": [
       "'/Users/eczech/repos/hammer/t-cell-relation-extraction/pm_subtype_protein_relations/data/meta/cytokines.csv'"
      ]
     },
     "execution_count": 23,
     "metadata": {},
     "output_type": "execute_result"
    }
   ],
   "source": [
    "path = osp.join(META_DATA_DIR, 'cytokines.csv')\n",
    "df.to_csv(path, index=False)\n",
    "path"
   ]
  },
  {
   "cell_type": "markdown",
   "metadata": {},
   "source": [
    "## Transcription Factors"
   ]
  },
  {
   "cell_type": "code",
   "execution_count": 10,
   "metadata": {},
   "outputs": [
    {
     "data": {
      "text/html": [
       "<div>\n",
       "<style scoped>\n",
       "    .dataframe tbody tr th:only-of-type {\n",
       "        vertical-align: middle;\n",
       "    }\n",
       "\n",
       "    .dataframe tbody tr th {\n",
       "        vertical-align: top;\n",
       "    }\n",
       "\n",
       "    .dataframe thead th {\n",
       "        text-align: right;\n",
       "    }\n",
       "</style>\n",
       "<table border=\"1\" class=\"dataframe\">\n",
       "  <thead>\n",
       "    <tr style=\"text-align: right;\">\n",
       "      <th></th>\n",
       "      <th>sym</th>\n",
       "      <th>lbl</th>\n",
       "      <th>species</th>\n",
       "      <th>src_id</th>\n",
       "      <th>id</th>\n",
       "    </tr>\n",
       "  </thead>\n",
       "  <tbody>\n",
       "    <tr>\n",
       "      <th>0</th>\n",
       "      <td>T-bet</td>\n",
       "      <td>T-bet</td>\n",
       "      <td>1</td>\n",
       "      <td>1</td>\n",
       "      <td>1</td>\n",
       "    </tr>\n",
       "    <tr>\n",
       "      <th>1</th>\n",
       "      <td>Gata3</td>\n",
       "      <td>Gata3</td>\n",
       "      <td>1</td>\n",
       "      <td>1</td>\n",
       "      <td>2</td>\n",
       "    </tr>\n",
       "    <tr>\n",
       "      <th>2</th>\n",
       "      <td>FoxP3</td>\n",
       "      <td>FoxP3</td>\n",
       "      <td>1</td>\n",
       "      <td>1</td>\n",
       "      <td>3</td>\n",
       "    </tr>\n",
       "  </tbody>\n",
       "</table>\n",
       "</div>"
      ],
      "text/plain": [
       "     sym    lbl  species  src_id  id\n",
       "0  T-bet  T-bet        1       1   1\n",
       "1  Gata3  Gata3        1       1   2\n",
       "2  FoxP3  FoxP3        1       1   3"
      ]
     },
     "execution_count": 10,
     "metadata": {},
     "output_type": "execute_result"
    }
   ],
   "source": [
    "df = pd.DataFrame([\n",
    "    ('T-bet', 'T-bet'),\n",
    "    ('Gata3', 'Gata3'),\n",
    "    ('FoxP3', 'FoxP3')\n",
    "], columns=['sym', 'lbl'])\n",
    "df = df.assign(species=SPECIES_HUMAN_ID, src_id=1)\n",
    "df = df.assign(id=np.arange(1, len(df) + 1))\n",
    "df"
   ]
  },
  {
   "cell_type": "code",
   "execution_count": 11,
   "metadata": {},
   "outputs": [
    {
     "data": {
      "text/plain": [
       "'/Users/eczech/repos/hammer/t-cell-relation-extraction/pm_subtype_protein_relations/data/meta/transcription_factors.csv'"
      ]
     },
     "execution_count": 11,
     "metadata": {},
     "output_type": "execute_result"
    }
   ],
   "source": [
    "path = osp.join(META_DATA_DIR, 'transcription_factors.csv')\n",
    "df.to_csv(path, index=False)\n",
    "path"
   ]
  },
  {
   "cell_type": "markdown",
   "metadata": {},
   "source": [
    "## Cell Types"
   ]
  },
  {
   "cell_type": "code",
   "execution_count": 179,
   "metadata": {},
   "outputs": [],
   "source": [
    "SRC = 'manual'\n",
    "cell_types = [\n",
    "    ('TN', ['T-naïve', 'naïve-T']),\n",
    "    ('TEMRA', ['T-emra', 'emra-T']),\n",
    "    ('TCM', ['T-cm', 'cm-T']),\n",
    "    ('TEFF', ['T-eff', 'T-effector', 'eff-T', 'effector-T']),\n",
    "    ('TEM', ['T-em', 'em-T']),\n",
    "    ('Th', ['T-Helper', 'Helper-T']),\n",
    "    ('ThP', ['Th-Precursor', 'Precursor-Th']),\n",
    "    ('Trm', ['T-rm', 'T-resident-memory', 'resident-memory-T']),\n",
    "    ('Tscm', ['T-SCM']),\n",
    "    ('NKT', ['natural-killer-T', 'T-natural-killer', 'INKT', 'TRNKT', 'CNKT', 'NK/T']),\n",
    "    ('MAIT', ['Mucosal-associated invariant T']),\n",
    "    ('Treg', ['T-reg', 'T-regs', 'T-regulatory', 'regulatory-T']),\n",
    "    ('Tsupp', ['Tsuppressor', 'Ts/c', 'Ts/Tc','T-suppressor/cytotoxic'], 'Treg'),\n",
    "    ('Treg1', ['T-reg1', 'Treg/Th1', 'TregTh1', 'Tr1'], 'Treg'),\n",
    "    ('Treg17', ['T-reg17', 'Treg/Th17', 'TregTh17', 'Tr17'], 'Treg'),\n",
    "    ('Tfh', ['T-FH', 'T-follicular-helper', 'fhT'], 'Th'),\n",
    "    ('Tfreg', ['Tf-reg', 'T-follicular-regulatory', 'follicular-Treg', 'fTreg'], 'Treg'),\n",
    "    ('iTreg', ['inducible-Treg', 'induced-Treg', 'inducible-regulatory-T'], 'Treg'),\n",
    "    ('pTreg', ['peripheral-Treg'], 'Treg'),\n",
    "    ('γδT', ['GammaDeltaT', 'TGammaDelta', 'Gamma/DeltaT', 'γ/δT', 'gdT', 'Tgd', 'g/dT', 'Tg/d']),\n",
    "    ('γδT-Vδ1', ['VDelta1T', 'Vδ1T'], 'γδT'),\n",
    "    ('γδT-Vδ2', ['VDelta2T', 'Vδ2T'], 'γδT'),\n",
    "    ('γδT-Vγ9', ['VGamma9T', 'Vγ9T'], 'γδT'),\n",
    "    ('γδT-Vγ9Vδ2', ['VGamma9Delta2T', 'Vγ9Vδ2T'], 'γδT'),\n",
    "    ('γδT-17', ['γδ17T', 'TGammaDelta17'], 'γδT'),\n",
    "    ('γδT-TCS1', ['TCS1'], 'γδT')\n",
    "] + [\n",
    "    ('Tc' + str(i), ['Tc-' + str(i), 'T-cytolitic-' + str(i), 'T-cytotoxic-' + str(i)]) \n",
    "    for i in [0, 1, 2, 3, 9, 17, 22]\n",
    "] + [\n",
    "    ('Th' + str(i), ['Th-' + str(i), 'T-helper-' + str(i)]) \n",
    "    for i in [0, 1, 2, 3, 9, 17, 22]\n",
    "] + [\n",
    "    ('Tfh{}like'.format(i), ['Tfh-{}-like'.format(i), 'Tfh-{}like'.format(i), 'Tfh{}-like'.format(i)]) \n",
    "    for i in [0, 1, 2, 3, 9, 17, 22]\n",
    "]"
   ]
  },
  {
   "cell_type": "code",
   "execution_count": 180,
   "metadata": {},
   "outputs": [
    {
     "data": {
      "text/html": [
       "<div>\n",
       "<style scoped>\n",
       "    .dataframe tbody tr th:only-of-type {\n",
       "        vertical-align: middle;\n",
       "    }\n",
       "\n",
       "    .dataframe tbody tr th {\n",
       "        vertical-align: top;\n",
       "    }\n",
       "\n",
       "    .dataframe thead th {\n",
       "        text-align: right;\n",
       "    }\n",
       "</style>\n",
       "<table border=\"1\" class=\"dataframe\">\n",
       "  <thead>\n",
       "    <tr style=\"text-align: right;\">\n",
       "      <th></th>\n",
       "      <th>sym</th>\n",
       "      <th>lbl</th>\n",
       "      <th>spid</th>\n",
       "      <th>src</th>\n",
       "      <th>extid</th>\n",
       "      <th>id</th>\n",
       "    </tr>\n",
       "  </thead>\n",
       "  <tbody>\n",
       "    <tr>\n",
       "      <th>0</th>\n",
       "      <td>TN</td>\n",
       "      <td>TN</td>\n",
       "      <td>1</td>\n",
       "      <td>manual</td>\n",
       "      <td>None</td>\n",
       "      <td>CT591AB86BE24D7A57</td>\n",
       "    </tr>\n",
       "    <tr>\n",
       "      <th>1</th>\n",
       "      <td>T-naïve</td>\n",
       "      <td>TN</td>\n",
       "      <td>1</td>\n",
       "      <td>manual</td>\n",
       "      <td>None</td>\n",
       "      <td>CTE283259FDAF532CC</td>\n",
       "    </tr>\n",
       "    <tr>\n",
       "      <th>2</th>\n",
       "      <td>T naïve</td>\n",
       "      <td>TN</td>\n",
       "      <td>1</td>\n",
       "      <td>manual</td>\n",
       "      <td>None</td>\n",
       "      <td>CTC08BA13585D27DA5</td>\n",
       "    </tr>\n",
       "    <tr>\n",
       "      <th>3</th>\n",
       "      <td>Tnaïve</td>\n",
       "      <td>TN</td>\n",
       "      <td>1</td>\n",
       "      <td>manual</td>\n",
       "      <td>None</td>\n",
       "      <td>CTA34535F3D8CB4079</td>\n",
       "    </tr>\n",
       "    <tr>\n",
       "      <th>4</th>\n",
       "      <td>T-naive</td>\n",
       "      <td>TN</td>\n",
       "      <td>1</td>\n",
       "      <td>manual</td>\n",
       "      <td>None</td>\n",
       "      <td>CT6D35F4BB1D4D94BF</td>\n",
       "    </tr>\n",
       "  </tbody>\n",
       "</table>\n",
       "</div>"
      ],
      "text/plain": [
       "       sym lbl  spid     src extid                  id\n",
       "0       TN  TN     1  manual  None  CT591AB86BE24D7A57\n",
       "1  T-naïve  TN     1  manual  None  CTE283259FDAF532CC\n",
       "2  T naïve  TN     1  manual  None  CTC08BA13585D27DA5\n",
       "3   Tnaïve  TN     1  manual  None  CTA34535F3D8CB4079\n",
       "4  T-naive  TN     1  manual  None  CT6D35F4BB1D4D94BF"
      ]
     },
     "execution_count": 180,
     "metadata": {},
     "output_type": "execute_result"
    }
   ],
   "source": [
    "import unidecode\n",
    "df = []\n",
    "for r in cell_types:\n",
    "    assert len(r) in [2, 3]\n",
    "    lbl, alias = r[:2]\n",
    "    parent = None if len(r) == 2 else r[2]\n",
    "    df.append((lbl, lbl))\n",
    "    for a1 in alias:\n",
    "        for a2 in [a1, unidecode.unidecode(a1)]:\n",
    "            df.append((a2, lbl))\n",
    "            df.append((a2.replace('-', ' '), lbl))\n",
    "            df.append((a2.replace('-', ''), lbl))\n",
    "df = pd.DataFrame(df, columns=['sym', 'lbl'])\n",
    "df = df.assign(spid=SPECIES_HUMAN_ID, src=SRC, extid=None)\n",
    "df['id'] = get_ids(df, ID_TYP_CT)\n",
    "df = df.drop_duplicates()\n",
    "df.head()"
   ]
  },
  {
   "cell_type": "code",
   "execution_count": 181,
   "metadata": {},
   "outputs": [
    {
     "data": {
      "text/html": [
       "<div>\n",
       "<style scoped>\n",
       "    .dataframe tbody tr th:only-of-type {\n",
       "        vertical-align: middle;\n",
       "    }\n",
       "\n",
       "    .dataframe tbody tr th {\n",
       "        vertical-align: top;\n",
       "    }\n",
       "\n",
       "    .dataframe thead th {\n",
       "        text-align: right;\n",
       "    }\n",
       "</style>\n",
       "<table border=\"1\" class=\"dataframe\">\n",
       "  <thead>\n",
       "    <tr style=\"text-align: right;\">\n",
       "      <th></th>\n",
       "      <th>sym</th>\n",
       "      <th>lbl</th>\n",
       "      <th>spid</th>\n",
       "      <th>src</th>\n",
       "      <th>extid</th>\n",
       "      <th>id</th>\n",
       "    </tr>\n",
       "  </thead>\n",
       "  <tbody>\n",
       "    <tr>\n",
       "      <th>591</th>\n",
       "      <td>Th0</td>\n",
       "      <td>Th0</td>\n",
       "      <td>1</td>\n",
       "      <td>manual</td>\n",
       "      <td>None</td>\n",
       "      <td>CTBDDE0043F47EDCC1</td>\n",
       "    </tr>\n",
       "    <tr>\n",
       "      <th>592</th>\n",
       "      <td>Th-0</td>\n",
       "      <td>Th0</td>\n",
       "      <td>1</td>\n",
       "      <td>manual</td>\n",
       "      <td>None</td>\n",
       "      <td>CT9B8AEFDE61D40F75</td>\n",
       "    </tr>\n",
       "    <tr>\n",
       "      <th>593</th>\n",
       "      <td>Th 0</td>\n",
       "      <td>Th0</td>\n",
       "      <td>1</td>\n",
       "      <td>manual</td>\n",
       "      <td>None</td>\n",
       "      <td>CT04A2F5E4125FA594</td>\n",
       "    </tr>\n",
       "    <tr>\n",
       "      <th>598</th>\n",
       "      <td>T-helper-0</td>\n",
       "      <td>Th0</td>\n",
       "      <td>1</td>\n",
       "      <td>manual</td>\n",
       "      <td>None</td>\n",
       "      <td>CTBD1BDE561333FA0A</td>\n",
       "    </tr>\n",
       "    <tr>\n",
       "      <th>599</th>\n",
       "      <td>T helper 0</td>\n",
       "      <td>Th0</td>\n",
       "      <td>1</td>\n",
       "      <td>manual</td>\n",
       "      <td>None</td>\n",
       "      <td>CT550BD2F6E7C9F4A6</td>\n",
       "    </tr>\n",
       "    <tr>\n",
       "      <th>600</th>\n",
       "      <td>Thelper0</td>\n",
       "      <td>Th0</td>\n",
       "      <td>1</td>\n",
       "      <td>manual</td>\n",
       "      <td>None</td>\n",
       "      <td>CT2B7FD02233168156</td>\n",
       "    </tr>\n",
       "    <tr>\n",
       "      <th>604</th>\n",
       "      <td>Th1</td>\n",
       "      <td>Th1</td>\n",
       "      <td>1</td>\n",
       "      <td>manual</td>\n",
       "      <td>None</td>\n",
       "      <td>CTC3A8C3CBC245616A</td>\n",
       "    </tr>\n",
       "    <tr>\n",
       "      <th>605</th>\n",
       "      <td>Th-1</td>\n",
       "      <td>Th1</td>\n",
       "      <td>1</td>\n",
       "      <td>manual</td>\n",
       "      <td>None</td>\n",
       "      <td>CT1706049E8C1B882B</td>\n",
       "    </tr>\n",
       "    <tr>\n",
       "      <th>606</th>\n",
       "      <td>Th 1</td>\n",
       "      <td>Th1</td>\n",
       "      <td>1</td>\n",
       "      <td>manual</td>\n",
       "      <td>None</td>\n",
       "      <td>CTA7F9F663B53FB244</td>\n",
       "    </tr>\n",
       "    <tr>\n",
       "      <th>611</th>\n",
       "      <td>T-helper-1</td>\n",
       "      <td>Th1</td>\n",
       "      <td>1</td>\n",
       "      <td>manual</td>\n",
       "      <td>None</td>\n",
       "      <td>CT0E1FCE053B4D59AE</td>\n",
       "    </tr>\n",
       "    <tr>\n",
       "      <th>612</th>\n",
       "      <td>T helper 1</td>\n",
       "      <td>Th1</td>\n",
       "      <td>1</td>\n",
       "      <td>manual</td>\n",
       "      <td>None</td>\n",
       "      <td>CTB9E67D49AC31229E</td>\n",
       "    </tr>\n",
       "    <tr>\n",
       "      <th>613</th>\n",
       "      <td>Thelper1</td>\n",
       "      <td>Th1</td>\n",
       "      <td>1</td>\n",
       "      <td>manual</td>\n",
       "      <td>None</td>\n",
       "      <td>CTAE4BD62FBA64B6AB</td>\n",
       "    </tr>\n",
       "    <tr>\n",
       "      <th>617</th>\n",
       "      <td>Th2</td>\n",
       "      <td>Th2</td>\n",
       "      <td>1</td>\n",
       "      <td>manual</td>\n",
       "      <td>None</td>\n",
       "      <td>CTE7B12DC660323A0E</td>\n",
       "    </tr>\n",
       "    <tr>\n",
       "      <th>618</th>\n",
       "      <td>Th-2</td>\n",
       "      <td>Th2</td>\n",
       "      <td>1</td>\n",
       "      <td>manual</td>\n",
       "      <td>None</td>\n",
       "      <td>CT4CB990BA5E7B3844</td>\n",
       "    </tr>\n",
       "    <tr>\n",
       "      <th>619</th>\n",
       "      <td>Th 2</td>\n",
       "      <td>Th2</td>\n",
       "      <td>1</td>\n",
       "      <td>manual</td>\n",
       "      <td>None</td>\n",
       "      <td>CTFFEE6E9794641E9C</td>\n",
       "    </tr>\n",
       "  </tbody>\n",
       "</table>\n",
       "</div>"
      ],
      "text/plain": [
       "            sym  lbl  spid     src extid                  id\n",
       "591         Th0  Th0     1  manual  None  CTBDDE0043F47EDCC1\n",
       "592        Th-0  Th0     1  manual  None  CT9B8AEFDE61D40F75\n",
       "593        Th 0  Th0     1  manual  None  CT04A2F5E4125FA594\n",
       "598  T-helper-0  Th0     1  manual  None  CTBD1BDE561333FA0A\n",
       "599  T helper 0  Th0     1  manual  None  CT550BD2F6E7C9F4A6\n",
       "600    Thelper0  Th0     1  manual  None  CT2B7FD02233168156\n",
       "604         Th1  Th1     1  manual  None  CTC3A8C3CBC245616A\n",
       "605        Th-1  Th1     1  manual  None  CT1706049E8C1B882B\n",
       "606        Th 1  Th1     1  manual  None  CTA7F9F663B53FB244\n",
       "611  T-helper-1  Th1     1  manual  None  CT0E1FCE053B4D59AE\n",
       "612  T helper 1  Th1     1  manual  None  CTB9E67D49AC31229E\n",
       "613    Thelper1  Th1     1  manual  None  CTAE4BD62FBA64B6AB\n",
       "617         Th2  Th2     1  manual  None  CTE7B12DC660323A0E\n",
       "618        Th-2  Th2     1  manual  None  CT4CB990BA5E7B3844\n",
       "619        Th 2  Th2     1  manual  None  CTFFEE6E9794641E9C"
      ]
     },
     "execution_count": 181,
     "metadata": {},
     "output_type": "execute_result"
    }
   ],
   "source": [
    "df[df['lbl'].str.match('Th\\d')].head(15)"
   ]
  },
  {
   "cell_type": "code",
   "execution_count": 183,
   "metadata": {},
   "outputs": [],
   "source": [
    "#df['sym'].unique()"
   ]
  },
  {
   "cell_type": "code",
   "execution_count": 184,
   "metadata": {},
   "outputs": [
    {
     "data": {
      "text/plain": [
       "'/Users/eczech/repos/hammer/t-cell-relation-extraction/pm_subtype_protein_relations/data/meta/cell_types.csv'"
      ]
     },
     "execution_count": 184,
     "metadata": {},
     "output_type": "execute_result"
    }
   ],
   "source": [
    "path = osp.join(META_DATA_DIR, 'cell_types.csv')\n",
    "df.to_csv(path, index=False)\n",
    "path"
   ]
  }
 ],
 "metadata": {
  "kernelspec": {
   "display_name": "Python 3",
   "language": "python",
   "name": "python3"
  },
  "language_info": {
   "codemirror_mode": {
    "name": "ipython",
    "version": 3
   },
   "file_extension": ".py",
   "mimetype": "text/x-python",
   "name": "python",
   "nbconvert_exporter": "python",
   "pygments_lexer": "ipython3",
   "version": "3.6.7"
  }
 },
 "nbformat": 4,
 "nbformat_minor": 2
}
