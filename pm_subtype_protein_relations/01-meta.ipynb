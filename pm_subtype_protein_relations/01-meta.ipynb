{
 "cells": [
  {
   "cell_type": "markdown",
   "metadata": {},
   "source": [
    "## Metadata Integration"
   ]
  },
  {
   "cell_type": "code",
   "execution_count": 1,
   "metadata": {},
   "outputs": [],
   "source": [
    "import os.path as osp\n",
    "import pandas as pd\n",
    "import numpy as np\n",
    "%run env.py\n",
    "%run src/lib.py"
   ]
  },
  {
   "cell_type": "markdown",
   "metadata": {},
   "source": [
    "## Cytokines"
   ]
  },
  {
   "cell_type": "code",
   "execution_count": 2,
   "metadata": {},
   "outputs": [
    {
     "data": {
      "text/html": [
       "<div>\n",
       "<style scoped>\n",
       "    .dataframe tbody tr th:only-of-type {\n",
       "        vertical-align: middle;\n",
       "    }\n",
       "\n",
       "    .dataframe tbody tr th {\n",
       "        vertical-align: top;\n",
       "    }\n",
       "\n",
       "    .dataframe thead th {\n",
       "        text-align: right;\n",
       "    }\n",
       "</style>\n",
       "<table border=\"1\" class=\"dataframe\">\n",
       "  <thead>\n",
       "    <tr style=\"text-align: right;\">\n",
       "      <th></th>\n",
       "      <th>name</th>\n",
       "      <th>synonym</th>\n",
       "      <th>amino</th>\n",
       "      <th>chromosome_acids</th>\n",
       "      <th>mwt</th>\n",
       "      <th>receptor_form</th>\n",
       "      <th>receptor_location</th>\n",
       "    </tr>\n",
       "  </thead>\n",
       "  <tbody>\n",
       "    <tr>\n",
       "      <th>0</th>\n",
       "      <td>IL-1α</td>\n",
       "      <td>hematopoietin-1</td>\n",
       "      <td>271</td>\n",
       "      <td>2q14</td>\n",
       "      <td>30606</td>\n",
       "      <td>CD121a, CDw121b</td>\n",
       "      <td>2q12, 2q12-q22</td>\n",
       "    </tr>\n",
       "    <tr>\n",
       "      <th>1</th>\n",
       "      <td>IL-1β</td>\n",
       "      <td>catabolin</td>\n",
       "      <td>269</td>\n",
       "      <td>2q14</td>\n",
       "      <td>20747</td>\n",
       "      <td>CD121a, CDw121b</td>\n",
       "      <td>2q12,2q12-q22</td>\n",
       "    </tr>\n",
       "    <tr>\n",
       "      <th>2</th>\n",
       "      <td>IL-1RA</td>\n",
       "      <td>IL-1 receptor antagonist</td>\n",
       "      <td>177</td>\n",
       "      <td>2q14.2</td>\n",
       "      <td>20055</td>\n",
       "      <td>CD121a</td>\n",
       "      <td>2q12</td>\n",
       "    </tr>\n",
       "    <tr>\n",
       "      <th>3</th>\n",
       "      <td>IL-18</td>\n",
       "      <td>interferon-γ inducing factor</td>\n",
       "      <td>193</td>\n",
       "      <td>11q22.2-q22.3</td>\n",
       "      <td>22326</td>\n",
       "      <td>IL-18Rα, β</td>\n",
       "      <td>2q12</td>\n",
       "    </tr>\n",
       "    <tr>\n",
       "      <th>4</th>\n",
       "      <td>IL-2</td>\n",
       "      <td>T cell growth factor</td>\n",
       "      <td>153</td>\n",
       "      <td>4q26-q27</td>\n",
       "      <td>17628</td>\n",
       "      <td>CD25, 122,132</td>\n",
       "      <td>10p15-p14, 22q13.1, Xq13.1</td>\n",
       "    </tr>\n",
       "  </tbody>\n",
       "</table>\n",
       "</div>"
      ],
      "text/plain": [
       "     name                       synonym amino chromosome_acids    mwt  \\\n",
       "0   IL-1α               hematopoietin-1   271             2q14  30606   \n",
       "1   IL-1β                     catabolin   269             2q14  20747   \n",
       "2  IL-1RA      IL-1 receptor antagonist   177           2q14.2  20055   \n",
       "3   IL-18  interferon-γ inducing factor   193    11q22.2-q22.3  22326   \n",
       "4    IL-2          T cell growth factor   153         4q26-q27  17628   \n",
       "\n",
       "     receptor_form           receptor_location  \n",
       "0  CD121a, CDw121b              2q12, 2q12-q22  \n",
       "1  CD121a, CDw121b               2q12,2q12-q22  \n",
       "2           CD121a                        2q12  \n",
       "3       IL-18Rα, β                        2q12  \n",
       "4    CD25, 122,132  10p15-p14, 22q13.1, Xq13.1  "
      ]
     },
     "execution_count": 2,
     "metadata": {},
     "output_type": "execute_result"
    }
   ],
   "source": [
    "# From https://www.ncbi.nlm.nih.gov/books/NBK6294/table/A13506/?report=objectonly\n",
    "SRC_ID = 1\n",
    "dfr = pd.read_csv(osp.join(META_DATA_DIR, 'raw', 'cytokines.csv'), sep='\\t')\n",
    "dfr.head()"
   ]
  },
  {
   "cell_type": "code",
   "execution_count": 3,
   "metadata": {},
   "outputs": [
    {
     "data": {
      "text/html": [
       "<div>\n",
       "<style scoped>\n",
       "    .dataframe tbody tr th:only-of-type {\n",
       "        vertical-align: middle;\n",
       "    }\n",
       "\n",
       "    .dataframe tbody tr th {\n",
       "        vertical-align: top;\n",
       "    }\n",
       "\n",
       "    .dataframe thead th {\n",
       "        text-align: right;\n",
       "    }\n",
       "</style>\n",
       "<table border=\"1\" class=\"dataframe\">\n",
       "  <thead>\n",
       "    <tr style=\"text-align: right;\">\n",
       "      <th></th>\n",
       "      <th>sym</th>\n",
       "      <th>lbl</th>\n",
       "      <th>species_id</th>\n",
       "      <th>src_id</th>\n",
       "    </tr>\n",
       "  </thead>\n",
       "  <tbody>\n",
       "    <tr>\n",
       "      <th>0</th>\n",
       "      <td>IL-1α</td>\n",
       "      <td>IL-1α</td>\n",
       "      <td>1</td>\n",
       "      <td>1</td>\n",
       "    </tr>\n",
       "    <tr>\n",
       "      <th>1</th>\n",
       "      <td>IL-1β</td>\n",
       "      <td>IL-1β</td>\n",
       "      <td>1</td>\n",
       "      <td>1</td>\n",
       "    </tr>\n",
       "    <tr>\n",
       "      <th>2</th>\n",
       "      <td>IL-1RA</td>\n",
       "      <td>IL-1RA</td>\n",
       "      <td>1</td>\n",
       "      <td>1</td>\n",
       "    </tr>\n",
       "    <tr>\n",
       "      <th>3</th>\n",
       "      <td>IL-18</td>\n",
       "      <td>IL-18</td>\n",
       "      <td>1</td>\n",
       "      <td>1</td>\n",
       "    </tr>\n",
       "    <tr>\n",
       "      <th>4</th>\n",
       "      <td>IL-2</td>\n",
       "      <td>IL-2</td>\n",
       "      <td>1</td>\n",
       "      <td>1</td>\n",
       "    </tr>\n",
       "  </tbody>\n",
       "</table>\n",
       "</div>"
      ],
      "text/plain": [
       "      sym     lbl  species_id  src_id\n",
       "0   IL-1α   IL-1α           1       1\n",
       "1   IL-1β   IL-1β           1       1\n",
       "2  IL-1RA  IL-1RA           1       1\n",
       "3   IL-18   IL-18           1       1\n",
       "4    IL-2    IL-2           1       1"
      ]
     },
     "execution_count": 3,
     "metadata": {},
     "output_type": "execute_result"
    }
   ],
   "source": [
    "dft = (\n",
    "    pd.concat([\n",
    "        dfr[['name', 'name']].set_axis(['sym', 'lbl'], axis=1, inplace=False),\n",
    "        dfr.set_index('name')['synonym'].str.split(',', expand=True).stack().str.strip()\n",
    "            .reset_index().set_axis(['lbl', 'i', 'sym'], axis=1, inplace=False)\n",
    "            .filter(items=['sym', 'lbl'])\n",
    "    ])\n",
    "    .assign(species_id=SPECIES_HUMAN_ID, src_id=SRC_ID)\n",
    ")\n",
    "dft.head()"
   ]
  },
  {
   "cell_type": "code",
   "execution_count": 4,
   "metadata": {},
   "outputs": [
    {
     "data": {
      "text/html": [
       "<div>\n",
       "<style scoped>\n",
       "    .dataframe tbody tr th:only-of-type {\n",
       "        vertical-align: middle;\n",
       "    }\n",
       "\n",
       "    .dataframe tbody tr th {\n",
       "        vertical-align: top;\n",
       "    }\n",
       "\n",
       "    .dataframe thead th {\n",
       "        text-align: right;\n",
       "    }\n",
       "</style>\n",
       "<table border=\"1\" class=\"dataframe\">\n",
       "  <thead>\n",
       "    <tr style=\"text-align: right;\">\n",
       "      <th></th>\n",
       "      <th>sym</th>\n",
       "      <th>lbl</th>\n",
       "      <th>species_id</th>\n",
       "      <th>src_id</th>\n",
       "    </tr>\n",
       "  </thead>\n",
       "  <tbody>\n",
       "    <tr>\n",
       "      <th>0</th>\n",
       "      <td>IL-1α</td>\n",
       "      <td>IL-1α</td>\n",
       "      <td>1</td>\n",
       "      <td>1</td>\n",
       "    </tr>\n",
       "    <tr>\n",
       "      <th>1</th>\n",
       "      <td>IL-1β</td>\n",
       "      <td>IL-1β</td>\n",
       "      <td>1</td>\n",
       "      <td>1</td>\n",
       "    </tr>\n",
       "    <tr>\n",
       "      <th>2</th>\n",
       "      <td>IL-1RA</td>\n",
       "      <td>IL-1RA</td>\n",
       "      <td>1</td>\n",
       "      <td>1</td>\n",
       "    </tr>\n",
       "    <tr>\n",
       "      <th>3</th>\n",
       "      <td>IL-18</td>\n",
       "      <td>IL-18</td>\n",
       "      <td>1</td>\n",
       "      <td>1</td>\n",
       "    </tr>\n",
       "    <tr>\n",
       "      <th>4</th>\n",
       "      <td>IL-2</td>\n",
       "      <td>IL-2</td>\n",
       "      <td>1</td>\n",
       "      <td>1</td>\n",
       "    </tr>\n",
       "  </tbody>\n",
       "</table>\n",
       "</div>"
      ],
      "text/plain": [
       "      sym     lbl  species_id  src_id\n",
       "0   IL-1α   IL-1α           1       1\n",
       "1   IL-1β   IL-1β           1       1\n",
       "2  IL-1RA  IL-1RA           1       1\n",
       "3   IL-18   IL-18           1       1\n",
       "4    IL-2    IL-2           1       1"
      ]
     },
     "execution_count": 4,
     "metadata": {},
     "output_type": "execute_result"
    }
   ],
   "source": [
    "def transform(df, mask, fn):\n",
    "    df = df.loc[mask.values].copy()\n",
    "    df['sym'] = df['sym'].apply(fn)\n",
    "    return df\n",
    "df = dft.append(transform(dft, dft['sym'].str.match(r'IL-[^ ]+$|TNF-|IFN-|TGF-'), lambda v: v.replace('-', '')))\n",
    "df['sym'] = df['sym'].str.strip()\n",
    "df['lbl'] = df['lbl'].str.strip()\n",
    "df = df[df['sym'].str.len() > 0]\n",
    "df.head()"
   ]
  },
  {
   "cell_type": "code",
   "execution_count": 5,
   "metadata": {},
   "outputs": [
    {
     "data": {
      "text/plain": [
       "array(['IL-1α', 'IL-1β', 'IL-1RA', 'IL-18', 'IL-2', 'IL-4', 'IL-7',\n",
       "       'IL-9', 'IL-13', 'IL-15', 'IL-3', 'IL-5', 'GM-CSF', 'IL-6',\n",
       "       'IL-11', 'G-CSF', 'IL-12', 'LIF', 'OSM', 'IL-10', 'IL-20', 'IL-14',\n",
       "       'IL-16', 'IL-17', 'IFN-α', 'IFN-β', 'IFN-γ', 'CD154', 'LT-β',\n",
       "       'TNF-α', 'TNF-β', '4-1BBL', 'APRIL', 'CD70', 'CD153', 'CD178',\n",
       "       'GITRL', 'LIGHT', 'OX40L', 'TALL-1', 'TRAIL', 'TWEAK', 'TRANCE',\n",
       "       'TGF-β1', 'TGF-β2', 'TGF-β3', 'hematopoietin-1', 'catabolin',\n",
       "       'IL-1 receptor antagonist', 'interferon-γ inducing factor',\n",
       "       'T cell growth factor', 'BSF-1', 'T cell growth factor P40',\n",
       "       'P600', 'multipotential CSF', 'MCGF', 'BCDF-1', 'CSF-2', 'IFN-β2',\n",
       "       'BSF-2', 'AGIF', 'CSF-3', 'NK cell stimulatory factor',\n",
       "       'leukemia inhibitory factor', 'oncostatin M', 'CSIF', 'HMW-BCGF',\n",
       "       'LCF', 'CTLA-8', 'CD40L', 'TRAP', 'cachectin', 'LT-α', 'TALL-2',\n",
       "       'CD27L', 'CD30L', 'FasL', 'Apo2L', 'Apo3L', 'OPGL', 'TGF-β',\n",
       "       'IL1α', 'IL1β', 'IL1RA', 'IL18', 'IL2', 'IL4', 'IL7', 'IL9',\n",
       "       'IL13', 'IL15', 'IL3', 'IL5', 'IL6', 'IL11', 'IL12', 'IL10',\n",
       "       'IL20', 'IL14', 'IL16', 'IL17', 'IFNα', 'IFNβ', 'IFNγ', 'TNFα',\n",
       "       'TNFβ', 'TGFβ1', 'TGFβ2', 'TGFβ3', 'IFNβ2', 'TGFβ'], dtype=object)"
      ]
     },
     "execution_count": 5,
     "metadata": {},
     "output_type": "execute_result"
    }
   ],
   "source": [
    "df['sym'].unique()"
   ]
  },
  {
   "cell_type": "code",
   "execution_count": 7,
   "metadata": {},
   "outputs": [
    {
     "data": {
      "text/html": [
       "<div>\n",
       "<style scoped>\n",
       "    .dataframe tbody tr th:only-of-type {\n",
       "        vertical-align: middle;\n",
       "    }\n",
       "\n",
       "    .dataframe tbody tr th {\n",
       "        vertical-align: top;\n",
       "    }\n",
       "\n",
       "    .dataframe thead th {\n",
       "        text-align: right;\n",
       "    }\n",
       "</style>\n",
       "<table border=\"1\" class=\"dataframe\">\n",
       "  <thead>\n",
       "    <tr style=\"text-align: right;\">\n",
       "      <th></th>\n",
       "      <th>sym</th>\n",
       "      <th>lbl</th>\n",
       "      <th>species_id</th>\n",
       "      <th>src_id</th>\n",
       "      <th>id</th>\n",
       "    </tr>\n",
       "  </thead>\n",
       "  <tbody>\n",
       "    <tr>\n",
       "      <th>0</th>\n",
       "      <td>IL-1α</td>\n",
       "      <td>IL-1α</td>\n",
       "      <td>1</td>\n",
       "      <td>1</td>\n",
       "      <td>1</td>\n",
       "    </tr>\n",
       "    <tr>\n",
       "      <th>1</th>\n",
       "      <td>IL-1β</td>\n",
       "      <td>IL-1β</td>\n",
       "      <td>1</td>\n",
       "      <td>1</td>\n",
       "      <td>2</td>\n",
       "    </tr>\n",
       "    <tr>\n",
       "      <th>2</th>\n",
       "      <td>IL-1RA</td>\n",
       "      <td>IL-1RA</td>\n",
       "      <td>1</td>\n",
       "      <td>1</td>\n",
       "      <td>3</td>\n",
       "    </tr>\n",
       "    <tr>\n",
       "      <th>3</th>\n",
       "      <td>IL-18</td>\n",
       "      <td>IL-18</td>\n",
       "      <td>1</td>\n",
       "      <td>1</td>\n",
       "      <td>4</td>\n",
       "    </tr>\n",
       "    <tr>\n",
       "      <th>4</th>\n",
       "      <td>IL-2</td>\n",
       "      <td>IL-2</td>\n",
       "      <td>1</td>\n",
       "      <td>1</td>\n",
       "      <td>5</td>\n",
       "    </tr>\n",
       "  </tbody>\n",
       "</table>\n",
       "</div>"
      ],
      "text/plain": [
       "      sym     lbl  species_id  src_id  id\n",
       "0   IL-1α   IL-1α           1       1   1\n",
       "1   IL-1β   IL-1β           1       1   2\n",
       "2  IL-1RA  IL-1RA           1       1   3\n",
       "3   IL-18   IL-18           1       1   4\n",
       "4    IL-2    IL-2           1       1   5"
      ]
     },
     "execution_count": 7,
     "metadata": {},
     "output_type": "execute_result"
    }
   ],
   "source": [
    "df = df.assign(id=np.arange(1, len(df) + 1))\n",
    "df.head()"
   ]
  },
  {
   "cell_type": "code",
   "execution_count": 8,
   "metadata": {},
   "outputs": [
    {
     "data": {
      "text/plain": [
       "'/Users/eczech/repos/hammer/t-cell-relation-extraction/pm_subtype_protein_relations/data/meta/cytokines.csv'"
      ]
     },
     "execution_count": 8,
     "metadata": {},
     "output_type": "execute_result"
    }
   ],
   "source": [
    "path = osp.join(META_DATA_DIR, 'cytokines.csv')\n",
    "df.to_csv(path, index=False)\n",
    "path"
   ]
  },
  {
   "cell_type": "markdown",
   "metadata": {},
   "source": [
    "## Transcription Factors"
   ]
  },
  {
   "cell_type": "code",
   "execution_count": 10,
   "metadata": {},
   "outputs": [
    {
     "data": {
      "text/html": [
       "<div>\n",
       "<style scoped>\n",
       "    .dataframe tbody tr th:only-of-type {\n",
       "        vertical-align: middle;\n",
       "    }\n",
       "\n",
       "    .dataframe tbody tr th {\n",
       "        vertical-align: top;\n",
       "    }\n",
       "\n",
       "    .dataframe thead th {\n",
       "        text-align: right;\n",
       "    }\n",
       "</style>\n",
       "<table border=\"1\" class=\"dataframe\">\n",
       "  <thead>\n",
       "    <tr style=\"text-align: right;\">\n",
       "      <th></th>\n",
       "      <th>sym</th>\n",
       "      <th>lbl</th>\n",
       "      <th>species</th>\n",
       "      <th>src_id</th>\n",
       "      <th>id</th>\n",
       "    </tr>\n",
       "  </thead>\n",
       "  <tbody>\n",
       "    <tr>\n",
       "      <th>0</th>\n",
       "      <td>T-bet</td>\n",
       "      <td>T-bet</td>\n",
       "      <td>1</td>\n",
       "      <td>1</td>\n",
       "      <td>1</td>\n",
       "    </tr>\n",
       "    <tr>\n",
       "      <th>1</th>\n",
       "      <td>Gata3</td>\n",
       "      <td>Gata3</td>\n",
       "      <td>1</td>\n",
       "      <td>1</td>\n",
       "      <td>2</td>\n",
       "    </tr>\n",
       "    <tr>\n",
       "      <th>2</th>\n",
       "      <td>FoxP3</td>\n",
       "      <td>FoxP3</td>\n",
       "      <td>1</td>\n",
       "      <td>1</td>\n",
       "      <td>3</td>\n",
       "    </tr>\n",
       "  </tbody>\n",
       "</table>\n",
       "</div>"
      ],
      "text/plain": [
       "     sym    lbl  species  src_id  id\n",
       "0  T-bet  T-bet        1       1   1\n",
       "1  Gata3  Gata3        1       1   2\n",
       "2  FoxP3  FoxP3        1       1   3"
      ]
     },
     "execution_count": 10,
     "metadata": {},
     "output_type": "execute_result"
    }
   ],
   "source": [
    "df = pd.DataFrame([\n",
    "    ('T-bet', 'T-bet'),\n",
    "    ('Gata3', 'Gata3'),\n",
    "    ('FoxP3', 'FoxP3')\n",
    "], columns=['sym', 'lbl'])\n",
    "df = df.assign(species=SPECIES_HUMAN_ID, src_id=1)\n",
    "df = df.assign(id=np.arange(1, len(df) + 1))\n",
    "df"
   ]
  },
  {
   "cell_type": "code",
   "execution_count": 11,
   "metadata": {},
   "outputs": [
    {
     "data": {
      "text/plain": [
       "'/Users/eczech/repos/hammer/t-cell-relation-extraction/pm_subtype_protein_relations/data/meta/transcription_factors.csv'"
      ]
     },
     "execution_count": 11,
     "metadata": {},
     "output_type": "execute_result"
    }
   ],
   "source": [
    "path = osp.join(META_DATA_DIR, 'transcription_factors.csv')\n",
    "df.to_csv(path, index=False)\n",
    "path"
   ]
  },
  {
   "cell_type": "markdown",
   "metadata": {},
   "source": [
    "## Cell Types"
   ]
  },
  {
   "cell_type": "code",
   "execution_count": 12,
   "metadata": {},
   "outputs": [
    {
     "data": {
      "text/html": [
       "<div>\n",
       "<style scoped>\n",
       "    .dataframe tbody tr th:only-of-type {\n",
       "        vertical-align: middle;\n",
       "    }\n",
       "\n",
       "    .dataframe tbody tr th {\n",
       "        vertical-align: top;\n",
       "    }\n",
       "\n",
       "    .dataframe thead th {\n",
       "        text-align: right;\n",
       "    }\n",
       "</style>\n",
       "<table border=\"1\" class=\"dataframe\">\n",
       "  <thead>\n",
       "    <tr style=\"text-align: right;\">\n",
       "      <th></th>\n",
       "      <th>sym</th>\n",
       "      <th>lbl</th>\n",
       "      <th>species</th>\n",
       "      <th>src_id</th>\n",
       "      <th>id</th>\n",
       "    </tr>\n",
       "  </thead>\n",
       "  <tbody>\n",
       "    <tr>\n",
       "      <th>0</th>\n",
       "      <td>Th0</td>\n",
       "      <td>Th0</td>\n",
       "      <td>1</td>\n",
       "      <td>1</td>\n",
       "      <td>1</td>\n",
       "    </tr>\n",
       "    <tr>\n",
       "      <th>1</th>\n",
       "      <td>Th1</td>\n",
       "      <td>Th1</td>\n",
       "      <td>1</td>\n",
       "      <td>1</td>\n",
       "      <td>2</td>\n",
       "    </tr>\n",
       "    <tr>\n",
       "      <th>2</th>\n",
       "      <td>Th2</td>\n",
       "      <td>Th2</td>\n",
       "      <td>1</td>\n",
       "      <td>1</td>\n",
       "      <td>3</td>\n",
       "    </tr>\n",
       "    <tr>\n",
       "      <th>3</th>\n",
       "      <td>Th17</td>\n",
       "      <td>Th17</td>\n",
       "      <td>1</td>\n",
       "      <td>1</td>\n",
       "      <td>4</td>\n",
       "    </tr>\n",
       "    <tr>\n",
       "      <th>4</th>\n",
       "      <td>Th22</td>\n",
       "      <td>Th22</td>\n",
       "      <td>1</td>\n",
       "      <td>1</td>\n",
       "      <td>5</td>\n",
       "    </tr>\n",
       "  </tbody>\n",
       "</table>\n",
       "</div>"
      ],
      "text/plain": [
       "    sym   lbl  species  src_id  id\n",
       "0   Th0   Th0        1       1   1\n",
       "1   Th1   Th1        1       1   2\n",
       "2   Th2   Th2        1       1   3\n",
       "3  Th17  Th17        1       1   4\n",
       "4  Th22  Th22        1       1   5"
      ]
     },
     "execution_count": 12,
     "metadata": {},
     "output_type": "execute_result"
    }
   ],
   "source": [
    "df = pd.DataFrame([\n",
    "    ('Th' + str(i), 'Th' + str(i))\n",
    "    for i in [0, 1, 2, 17, 22]\n",
    "], columns=['sym', 'lbl'])\n",
    "df = df.assign(species=SPECIES_HUMAN_ID, src_id=1)\n",
    "df = df.assign(id=np.arange(1, len(df) + 1))\n",
    "df"
   ]
  },
  {
   "cell_type": "code",
   "execution_count": 13,
   "metadata": {},
   "outputs": [
    {
     "data": {
      "text/plain": [
       "'/Users/eczech/repos/hammer/t-cell-relation-extraction/pm_subtype_protein_relations/data/meta/cell_types.csv'"
      ]
     },
     "execution_count": 13,
     "metadata": {},
     "output_type": "execute_result"
    }
   ],
   "source": [
    "path = osp.join(META_DATA_DIR, 'cell_types.csv')\n",
    "df.to_csv(path, index=False)\n",
    "path"
   ]
  }
 ],
 "metadata": {
  "kernelspec": {
   "display_name": "Python 3",
   "language": "python",
   "name": "python3"
  },
  "language_info": {
   "codemirror_mode": {
    "name": "ipython",
    "version": 3
   },
   "file_extension": ".py",
   "mimetype": "text/x-python",
   "name": "python",
   "nbconvert_exporter": "python",
   "pygments_lexer": "ipython3",
   "version": "3.6.7"
  }
 },
 "nbformat": 4,
 "nbformat_minor": 2
}
