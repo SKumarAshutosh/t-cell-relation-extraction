{
 "cells": [
  {
   "cell_type": "markdown",
   "metadata": {},
   "source": [
    "## Metadata Integration"
   ]
  },
  {
   "cell_type": "code",
   "execution_count": 1,
   "metadata": {},
   "outputs": [],
   "source": [
    "import os.path as osp\n",
    "import pandas as pd\n",
    "import numpy as np\n",
    "%run env.py\n",
    "%run src/lib.py\n",
    "%run src/meta.py\n",
    "%matplotlib inline\n",
    "MIN_SYM_LEN = 3"
   ]
  },
  {
   "cell_type": "code",
   "execution_count": 2,
   "metadata": {},
   "outputs": [],
   "source": [
    "import hashlib\n",
    "ID_TYP_CK = 'CK'\n",
    "ID_TYP_TF = 'TF'\n",
    "ID_TYP_CT = 'CT'\n",
    "\n",
    "def get_ids(df, typ):\n",
    "    ids = [':'.join([r['src'], str(r['spid']), r['sym'], r['lbl']]) for _, r in df.iterrows()]\n",
    "    return [typ + hashlib.md5(v.encode('utf-8')).hexdigest()[:16].upper() for v in ids]\n",
    "\n",
    "def merge(dfs, typ):\n",
    "    cols = ['id', 'src', 'sym', 'lbl', 'spid', 'extid']\n",
    "    dfs = [df.copy() for df in dfs]\n",
    "    for df in dfs:\n",
    "        if 'id' in df:\n",
    "            raise ValueError('ID should not already be assigned')\n",
    "        df['id'] = get_ids(df, typ)\n",
    "    df = pd.concat([df[cols] for df in dfs])\n",
    "    return df"
   ]
  },
  {
   "cell_type": "markdown",
   "metadata": {},
   "source": [
    "## Cytokines"
   ]
  },
  {
   "cell_type": "markdown",
   "metadata": {},
   "source": [
    "#### Load from book table (Cameron and Kelvin)\n",
    "\n",
    "From: https://www.ncbi.nlm.nih.gov/books/NBK6294/table/A13506/?report=objectonly"
   ]
  },
  {
   "cell_type": "code",
   "execution_count": 3,
   "metadata": {},
   "outputs": [
    {
     "data": {
      "text/html": [
       "<div>\n",
       "<style scoped>\n",
       "    .dataframe tbody tr th:only-of-type {\n",
       "        vertical-align: middle;\n",
       "    }\n",
       "\n",
       "    .dataframe tbody tr th {\n",
       "        vertical-align: top;\n",
       "    }\n",
       "\n",
       "    .dataframe thead th {\n",
       "        text-align: right;\n",
       "    }\n",
       "</style>\n",
       "<table border=\"1\" class=\"dataframe\">\n",
       "  <thead>\n",
       "    <tr style=\"text-align: right;\">\n",
       "      <th></th>\n",
       "      <th>name</th>\n",
       "      <th>synonym</th>\n",
       "      <th>amino</th>\n",
       "      <th>chromosome_acids</th>\n",
       "      <th>mwt</th>\n",
       "      <th>receptor_form</th>\n",
       "      <th>receptor_location</th>\n",
       "    </tr>\n",
       "  </thead>\n",
       "  <tbody>\n",
       "    <tr>\n",
       "      <th>0</th>\n",
       "      <td>IL-1α</td>\n",
       "      <td>hematopoietin-1</td>\n",
       "      <td>271</td>\n",
       "      <td>2q14</td>\n",
       "      <td>30606</td>\n",
       "      <td>CD121a, CDw121b</td>\n",
       "      <td>2q12, 2q12-q22</td>\n",
       "    </tr>\n",
       "    <tr>\n",
       "      <th>1</th>\n",
       "      <td>IL-1β</td>\n",
       "      <td>catabolin</td>\n",
       "      <td>269</td>\n",
       "      <td>2q14</td>\n",
       "      <td>20747</td>\n",
       "      <td>CD121a, CDw121b</td>\n",
       "      <td>2q12,2q12-q22</td>\n",
       "    </tr>\n",
       "    <tr>\n",
       "      <th>2</th>\n",
       "      <td>IL-1RA</td>\n",
       "      <td>IL-1 receptor antagonist</td>\n",
       "      <td>177</td>\n",
       "      <td>2q14.2</td>\n",
       "      <td>20055</td>\n",
       "      <td>CD121a</td>\n",
       "      <td>2q12</td>\n",
       "    </tr>\n",
       "    <tr>\n",
       "      <th>3</th>\n",
       "      <td>IL-18</td>\n",
       "      <td>interferon-γ inducing factor</td>\n",
       "      <td>193</td>\n",
       "      <td>11q22.2-q22.3</td>\n",
       "      <td>22326</td>\n",
       "      <td>IL-18Rα, β</td>\n",
       "      <td>2q12</td>\n",
       "    </tr>\n",
       "    <tr>\n",
       "      <th>4</th>\n",
       "      <td>IL-2</td>\n",
       "      <td>T cell growth factor</td>\n",
       "      <td>153</td>\n",
       "      <td>4q26-q27</td>\n",
       "      <td>17628</td>\n",
       "      <td>CD25, 122,132</td>\n",
       "      <td>10p15-p14, 22q13.1, Xq13.1</td>\n",
       "    </tr>\n",
       "  </tbody>\n",
       "</table>\n",
       "</div>"
      ],
      "text/plain": [
       "     name                       synonym amino chromosome_acids    mwt  \\\n",
       "0   IL-1α               hematopoietin-1   271             2q14  30606   \n",
       "1   IL-1β                     catabolin   269             2q14  20747   \n",
       "2  IL-1RA      IL-1 receptor antagonist   177           2q14.2  20055   \n",
       "3   IL-18  interferon-γ inducing factor   193    11q22.2-q22.3  22326   \n",
       "4    IL-2          T cell growth factor   153         4q26-q27  17628   \n",
       "\n",
       "     receptor_form           receptor_location  \n",
       "0  CD121a, CDw121b              2q12, 2q12-q22  \n",
       "1  CD121a, CDw121b               2q12,2q12-q22  \n",
       "2           CD121a                        2q12  \n",
       "3       IL-18Rα, β                        2q12  \n",
       "4    CD25, 122,132  10p15-p14, 22q13.1, Xq13.1  "
      ]
     },
     "execution_count": 3,
     "metadata": {},
     "output_type": "execute_result"
    }
   ],
   "source": [
    "SRC = 'cameron'\n",
    "dfr = pd.read_csv(osp.join(META_DATA_DIR, 'raw', 'cytokines.cameron.csv'), sep='\\t')\n",
    "dfr.head()"
   ]
  },
  {
   "cell_type": "code",
   "execution_count": 4,
   "metadata": {},
   "outputs": [
    {
     "data": {
      "text/html": [
       "<div>\n",
       "<style scoped>\n",
       "    .dataframe tbody tr th:only-of-type {\n",
       "        vertical-align: middle;\n",
       "    }\n",
       "\n",
       "    .dataframe tbody tr th {\n",
       "        vertical-align: top;\n",
       "    }\n",
       "\n",
       "    .dataframe thead th {\n",
       "        text-align: right;\n",
       "    }\n",
       "</style>\n",
       "<table border=\"1\" class=\"dataframe\">\n",
       "  <thead>\n",
       "    <tr style=\"text-align: right;\">\n",
       "      <th></th>\n",
       "      <th>sym</th>\n",
       "      <th>lbl</th>\n",
       "      <th>spid</th>\n",
       "      <th>src</th>\n",
       "    </tr>\n",
       "  </thead>\n",
       "  <tbody>\n",
       "    <tr>\n",
       "      <th>0</th>\n",
       "      <td>IL-1α</td>\n",
       "      <td>IL-1α</td>\n",
       "      <td>1</td>\n",
       "      <td>cameron</td>\n",
       "    </tr>\n",
       "    <tr>\n",
       "      <th>1</th>\n",
       "      <td>IL-1β</td>\n",
       "      <td>IL-1β</td>\n",
       "      <td>1</td>\n",
       "      <td>cameron</td>\n",
       "    </tr>\n",
       "    <tr>\n",
       "      <th>2</th>\n",
       "      <td>IL-1RA</td>\n",
       "      <td>IL-1RA</td>\n",
       "      <td>1</td>\n",
       "      <td>cameron</td>\n",
       "    </tr>\n",
       "    <tr>\n",
       "      <th>3</th>\n",
       "      <td>IL-18</td>\n",
       "      <td>IL-18</td>\n",
       "      <td>1</td>\n",
       "      <td>cameron</td>\n",
       "    </tr>\n",
       "    <tr>\n",
       "      <th>4</th>\n",
       "      <td>IL-2</td>\n",
       "      <td>IL-2</td>\n",
       "      <td>1</td>\n",
       "      <td>cameron</td>\n",
       "    </tr>\n",
       "  </tbody>\n",
       "</table>\n",
       "</div>"
      ],
      "text/plain": [
       "      sym     lbl  spid      src\n",
       "0   IL-1α   IL-1α     1  cameron\n",
       "1   IL-1β   IL-1β     1  cameron\n",
       "2  IL-1RA  IL-1RA     1  cameron\n",
       "3   IL-18   IL-18     1  cameron\n",
       "4    IL-2    IL-2     1  cameron"
      ]
     },
     "execution_count": 4,
     "metadata": {},
     "output_type": "execute_result"
    }
   ],
   "source": [
    "dft = (\n",
    "    pd.concat([\n",
    "        dfr[['name', 'name']].set_axis(['sym', 'lbl'], axis=1, inplace=False),\n",
    "        dfr.set_index('name')['synonym'].str.split(',', expand=True).stack().str.strip()\n",
    "            .reset_index().set_axis(['lbl', 'i', 'sym'], axis=1, inplace=False)\n",
    "            .filter(items=['sym', 'lbl'])\n",
    "    ])\n",
    "    .assign(spid=SPECIES_HUMAN_ID, src=SRC)\n",
    ")\n",
    "dft.head()"
   ]
  },
  {
   "cell_type": "code",
   "execution_count": 5,
   "metadata": {},
   "outputs": [
    {
     "data": {
      "text/html": [
       "<div>\n",
       "<style scoped>\n",
       "    .dataframe tbody tr th:only-of-type {\n",
       "        vertical-align: middle;\n",
       "    }\n",
       "\n",
       "    .dataframe tbody tr th {\n",
       "        vertical-align: top;\n",
       "    }\n",
       "\n",
       "    .dataframe thead th {\n",
       "        text-align: right;\n",
       "    }\n",
       "</style>\n",
       "<table border=\"1\" class=\"dataframe\">\n",
       "  <thead>\n",
       "    <tr style=\"text-align: right;\">\n",
       "      <th></th>\n",
       "      <th>sym</th>\n",
       "      <th>lbl</th>\n",
       "      <th>spid</th>\n",
       "      <th>src</th>\n",
       "      <th>extid</th>\n",
       "    </tr>\n",
       "  </thead>\n",
       "  <tbody>\n",
       "    <tr>\n",
       "      <th>0</th>\n",
       "      <td>IL-1α</td>\n",
       "      <td>IL-1α</td>\n",
       "      <td>1</td>\n",
       "      <td>cameron</td>\n",
       "      <td>None</td>\n",
       "    </tr>\n",
       "    <tr>\n",
       "      <th>1</th>\n",
       "      <td>IL-1β</td>\n",
       "      <td>IL-1β</td>\n",
       "      <td>1</td>\n",
       "      <td>cameron</td>\n",
       "      <td>None</td>\n",
       "    </tr>\n",
       "    <tr>\n",
       "      <th>2</th>\n",
       "      <td>IL-1RA</td>\n",
       "      <td>IL-1RA</td>\n",
       "      <td>1</td>\n",
       "      <td>cameron</td>\n",
       "      <td>None</td>\n",
       "    </tr>\n",
       "    <tr>\n",
       "      <th>3</th>\n",
       "      <td>IL-18</td>\n",
       "      <td>IL-18</td>\n",
       "      <td>1</td>\n",
       "      <td>cameron</td>\n",
       "      <td>None</td>\n",
       "    </tr>\n",
       "    <tr>\n",
       "      <th>4</th>\n",
       "      <td>IL-2</td>\n",
       "      <td>IL-2</td>\n",
       "      <td>1</td>\n",
       "      <td>cameron</td>\n",
       "      <td>None</td>\n",
       "    </tr>\n",
       "  </tbody>\n",
       "</table>\n",
       "</div>"
      ],
      "text/plain": [
       "      sym     lbl  spid      src extid\n",
       "0   IL-1α   IL-1α     1  cameron  None\n",
       "1   IL-1β   IL-1β     1  cameron  None\n",
       "2  IL-1RA  IL-1RA     1  cameron  None\n",
       "3   IL-18   IL-18     1  cameron  None\n",
       "4    IL-2    IL-2     1  cameron  None"
      ]
     },
     "execution_count": 5,
     "metadata": {},
     "output_type": "execute_result"
    }
   ],
   "source": [
    "def transform(df, mask, fn):\n",
    "    df = df.loc[mask.values].copy()\n",
    "    df['sym'] = df['sym'].apply(fn)\n",
    "    return df\n",
    "df = dft.append(transform(dft, dft['sym'].str.match(r'IL-[^ ]+$|TNF-|IFN-|TGF-'), lambda v: v.replace('-', '')))\n",
    "df['sym'] = df['sym'].str.strip()\n",
    "df['lbl'] = df['lbl'].str.strip()\n",
    "df['extid'] = None\n",
    "df = df[df['sym'].str.len() > 0]\n",
    "df.head()"
   ]
  },
  {
   "cell_type": "code",
   "execution_count": 6,
   "metadata": {},
   "outputs": [
    {
     "data": {
      "text/plain": [
       "array(['IL-1α', 'IL-1β', 'IL-1RA', 'IL-18', 'IL-2', 'IL-4', 'IL-7',\n",
       "       'IL-9', 'IL-13', 'IL-15', 'IL-3', 'IL-5', 'GM-CSF', 'IL-6',\n",
       "       'IL-11', 'G-CSF', 'IL-12', 'LIF', 'OSM', 'IL-10', 'IL-20', 'IL-14',\n",
       "       'IL-16', 'IL-17', 'IFN-α', 'IFN-β', 'IFN-γ', 'CD154', 'LT-β',\n",
       "       'TNF-α', 'TNF-β', '4-1BBL', 'APRIL', 'CD70', 'CD153', 'CD178',\n",
       "       'GITRL', 'LIGHT', 'OX40L', 'TALL-1', 'TRAIL', 'TWEAK', 'TRANCE',\n",
       "       'TGF-β1', 'TGF-β2', 'TGF-β3', 'hematopoietin-1', 'catabolin',\n",
       "       'IL-1 receptor antagonist', 'interferon-γ inducing factor',\n",
       "       'T cell growth factor', 'BSF-1', 'T cell growth factor P40',\n",
       "       'P600', 'multipotential CSF', 'MCGF', 'BCDF-1', 'CSF-2', 'IFN-β2',\n",
       "       'BSF-2', 'AGIF', 'CSF-3', 'NK cell stimulatory factor',\n",
       "       'leukemia inhibitory factor', 'oncostatin M', 'CSIF', 'HMW-BCGF',\n",
       "       'LCF', 'CTLA-8', 'CD40L', 'TRAP', 'cachectin', 'LT-α', 'TALL-2',\n",
       "       'CD27L', 'CD30L', 'FasL', 'Apo2L', 'Apo3L', 'OPGL', 'TGF-β',\n",
       "       'IL1α', 'IL1β', 'IL1RA', 'IL18', 'IL2', 'IL4', 'IL7', 'IL9',\n",
       "       'IL13', 'IL15', 'IL3', 'IL5', 'IL6', 'IL11', 'IL12', 'IL10',\n",
       "       'IL20', 'IL14', 'IL16', 'IL17', 'IFNα', 'IFNβ', 'IFNγ', 'TNFα',\n",
       "       'TNFβ', 'TGFβ1', 'TGFβ2', 'TGFβ3', 'IFNβ2', 'TGFβ'], dtype=object)"
      ]
     },
     "execution_count": 6,
     "metadata": {},
     "output_type": "execute_result"
    }
   ],
   "source": [
    "df['sym'].unique()"
   ]
  },
  {
   "cell_type": "code",
   "execution_count": 7,
   "metadata": {},
   "outputs": [],
   "source": [
    "df_cameron = df.copy()"
   ]
  },
  {
   "cell_type": "markdown",
   "metadata": {},
   "source": [
    "#### Load from mygene"
   ]
  },
  {
   "cell_type": "code",
   "execution_count": 8,
   "metadata": {},
   "outputs": [
    {
     "name": "stdout",
     "output_type": "stream",
     "text": [
      "Original result info:\n",
      "<class 'pandas.core.frame.DataFrame'>\n",
      "RangeIndex: 568 entries, 0 to 567\n",
      "Data columns (total 8 columns):\n",
      "_id             568 non-null object\n",
      "_score          568 non-null float64\n",
      "alias           531 non-null object\n",
      "ensembl         30 non-null object\n",
      "ensembl.gene    522 non-null object\n",
      "name            568 non-null object\n",
      "symbol          568 non-null object\n",
      "taxid           568 non-null int64\n",
      "dtypes: float64(1), int64(1), object(6)\n",
      "memory usage: 35.6+ KB\n",
      "None\n",
      "Score histogram:\n"
     ]
    },
    {
     "data": {
      "image/png": "[encoded data removed]",
      "text/plain": [
       "<Figure size 432x288 with 1 Axes>"
      ]
     },
     "metadata": {
      "needs_background": "light"
     },
     "output_type": "display_data"
    }
   ],
   "source": [
    "SRC = 'mygene'\n",
    "df = mygene_query('interleukin')"
   ]
  },
  {
   "cell_type": "code",
   "execution_count": 9,
   "metadata": {},
   "outputs": [
    {
     "name": "stdout",
     "output_type": "stream",
     "text": [
      "<class 'pandas.core.frame.DataFrame'>\n",
      "Int64Index: 95 entries, 0 to 94\n",
      "Data columns (total 7 columns):\n",
      "extid           95 non-null object\n",
      "alias           90 non-null object\n",
      "ensembl         0 non-null object\n",
      "ensembl.gene    94 non-null object\n",
      "name            95 non-null object\n",
      "symbol          95 non-null object\n",
      "taxid           95 non-null int64\n",
      "dtypes: int64(1), object(6)\n",
      "memory usage: 5.9+ KB\n"
     ]
    }
   ],
   "source": [
    "df.info()"
   ]
  },
  {
   "cell_type": "code",
   "execution_count": 10,
   "metadata": {},
   "outputs": [
    {
     "name": "stdout",
     "output_type": "stream",
     "text": [
      "<class 'pandas.core.frame.DataFrame'>\n",
      "RangeIndex: 200 entries, 0 to 199\n",
      "Data columns (total 5 columns):\n",
      "sym      200 non-null object\n",
      "lbl      200 non-null object\n",
      "extid    200 non-null object\n",
      "spid     200 non-null int64\n",
      "src      200 non-null object\n",
      "dtypes: int64(1), object(4)\n",
      "memory usage: 7.9+ KB\n",
      "None\n"
     ]
    },
    {
     "data": {
      "text/html": [
       "<div>\n",
       "<style scoped>\n",
       "    .dataframe tbody tr th:only-of-type {\n",
       "        vertical-align: middle;\n",
       "    }\n",
       "\n",
       "    .dataframe tbody tr th {\n",
       "        vertical-align: top;\n",
       "    }\n",
       "\n",
       "    .dataframe thead th {\n",
       "        text-align: right;\n",
       "    }\n",
       "</style>\n",
       "<table border=\"1\" class=\"dataframe\">\n",
       "  <thead>\n",
       "    <tr style=\"text-align: right;\">\n",
       "      <th></th>\n",
       "      <th>sym</th>\n",
       "      <th>lbl</th>\n",
       "      <th>extid</th>\n",
       "      <th>spid</th>\n",
       "      <th>src</th>\n",
       "    </tr>\n",
       "  </thead>\n",
       "  <tbody>\n",
       "    <tr>\n",
       "      <th>0</th>\n",
       "      <td>interleukin 17F</td>\n",
       "      <td>IL17F</td>\n",
       "      <td>112744</td>\n",
       "      <td>1</td>\n",
       "      <td>mygene</td>\n",
       "    </tr>\n",
       "    <tr>\n",
       "      <th>1</th>\n",
       "      <td>IL17F</td>\n",
       "      <td>IL17F</td>\n",
       "      <td>112744</td>\n",
       "      <td>1</td>\n",
       "      <td>mygene</td>\n",
       "    </tr>\n",
       "    <tr>\n",
       "      <th>2</th>\n",
       "      <td>CANDF6</td>\n",
       "      <td>IL17F</td>\n",
       "      <td>112744</td>\n",
       "      <td>1</td>\n",
       "      <td>mygene</td>\n",
       "    </tr>\n",
       "    <tr>\n",
       "      <th>3</th>\n",
       "      <td>IL-17F</td>\n",
       "      <td>IL17F</td>\n",
       "      <td>112744</td>\n",
       "      <td>1</td>\n",
       "      <td>mygene</td>\n",
       "    </tr>\n",
       "    <tr>\n",
       "      <th>4</th>\n",
       "      <td>ML-1</td>\n",
       "      <td>IL17F</td>\n",
       "      <td>112744</td>\n",
       "      <td>1</td>\n",
       "      <td>mygene</td>\n",
       "    </tr>\n",
       "  </tbody>\n",
       "</table>\n",
       "</div>"
      ],
      "text/plain": [
       "               sym    lbl   extid  spid     src\n",
       "0  interleukin 17F  IL17F  112744     1  mygene\n",
       "1            IL17F  IL17F  112744     1  mygene\n",
       "2           CANDF6  IL17F  112744     1  mygene\n",
       "3           IL-17F  IL17F  112744     1  mygene\n",
       "4             ML-1  IL17F  112744     1  mygene"
      ]
     },
     "execution_count": 10,
     "metadata": {},
     "output_type": "execute_result"
    }
   ],
   "source": [
    "df = df[df['name'].str.match('interleukin \\w+$')]\n",
    "df = mygene_prep(df)\n",
    "df = df.assign(spid=SPECIES_HUMAN_ID, src=SRC)\n",
    "print(df.info())\n",
    "df.head()"
   ]
  },
  {
   "cell_type": "code",
   "execution_count": 11,
   "metadata": {},
   "outputs": [
    {
     "data": {
      "text/plain": [
       "array(['IL17F', 'IL34', 'IL17C', 'IL17B', 'IL9', 'IL15', 'IL7', 'IL18',\n",
       "       'IL25', 'IL3', 'IL17A', 'IL26', 'IL24', 'IL2', 'IL22', 'IL32',\n",
       "       'IL12A', 'IL31', 'IL17D', 'IL27', 'IL16', 'IL33', 'IL20', 'IL19',\n",
       "       'IL5', 'IL6', 'IL10', 'IL11', 'IL12B', 'IL13', 'IL21', 'IL37',\n",
       "       'IL4'], dtype=object)"
      ]
     },
     "execution_count": 11,
     "metadata": {},
     "output_type": "execute_result"
    }
   ],
   "source": [
    "df['lbl'].unique()"
   ]
  },
  {
   "cell_type": "code",
   "execution_count": 12,
   "metadata": {},
   "outputs": [
    {
     "data": {
      "text/plain": [
       "array(['interleukin 17F', 'IL17F', 'CANDF6', 'IL-17F', 'ML-1', 'ML1',\n",
       "       'interleukin 34', 'IL34', 'C16orf77', 'IL-34', 'interleukin 17C',\n",
       "       'IL17C', 'CX2', 'IL-17C', 'interleukin 17B', 'IL17B', 'IL-17B',\n",
       "       'IL-20', 'NIRF', 'ZCYTO7', 'interleukin 9', 'IL9', 'HP40', 'IL-9',\n",
       "       'P40', 'interleukin 15', 'IL15', 'IL-15', 'interleukin 7', 'IL7',\n",
       "       'IL-7', 'interleukin 18', 'IL18', 'IGIF', 'IL-18', 'IL-1g',\n",
       "       'IL1F4', 'interleukin 25', 'IL25', 'IL17E', 'interleukin 3', 'IL3',\n",
       "       'IL-3', 'MCGF', 'MULTI-CSF', 'interleukin 17A', 'IL17A', 'CTLA-8',\n",
       "       'CTLA8', 'IL-17', 'IL-17A', 'IL17', 'interleukin 26', 'IL26',\n",
       "       'AK155', 'IL-26', 'interleukin 24', 'IL24', 'C49A', 'FISP',\n",
       "       'IL10B', 'MDA7', 'MOB5', 'ST16', 'interleukin 2', 'IL2', 'IL-2',\n",
       "       'TCGF', 'lymphokine', 'interleukin 22', 'IL22', 'IL-21', 'IL-22',\n",
       "       'IL-D110', 'IL-TIF', 'ILTIF', 'TIFIL-23', 'TIFa', 'zcyto18',\n",
       "       'interleukin 32', 'IL32', 'IL-32alpha', 'IL-32beta', 'IL-32delta',\n",
       "       'IL-32gamma', 'NK4', 'TAIF', 'TAIFa', 'TAIFb', 'TAIFc', 'TAIFd',\n",
       "       'interleukin 12A', 'IL12A', 'CLMF', 'IL-12A', 'NFSK', 'NKSF1',\n",
       "       'P35', 'interleukin 31', 'IL31', 'IL-31', 'interleukin 17D',\n",
       "       'IL17D', 'IL-17D', 'interleukin 27', 'IL27', 'IL-27', 'IL-27A',\n",
       "       'IL27A', 'IL27p28', 'IL30', 'p28', 'interleukin 16', 'IL16', 'LCF',\n",
       "       'NIL16', 'PRIL16', 'prIL-16', 'interleukin 33', 'IL33', 'C9orf26',\n",
       "       'DVS27', 'IL1F11', 'NF-HEV', 'NFEHEV', 'interleukin 20', 'IL20',\n",
       "       'IL10D', 'ZCYTO10', 'interleukin 19', 'IL19', 'IL-10C', 'MDA1',\n",
       "       'NG.1', 'ZMDA1', 'interleukin 5', 'IL5', 'EDF', 'IL-5', 'TRF',\n",
       "       'interleukin 6', 'IL6', 'BSF-2', 'BSF2', 'CDF', 'HGF', 'HSF',\n",
       "       'IFN-beta-2', 'IFNB2', 'IL-6', 'interleukin 10', 'IL10', 'CSIF',\n",
       "       'GVHDS', 'IL-10', 'IL10A', 'TGIF', 'interleukin 11', 'IL11',\n",
       "       'AGIF', 'IL-11', 'interleukin 12B', 'IL12B', 'CLMF2', 'IL-12B',\n",
       "       'IMD28', 'IMD29', 'NKSF', 'NKSF2', 'interleukin 13', 'IL13',\n",
       "       'IL-13', 'P600', 'interleukin 21', 'IL21', 'CVID11', 'Za11',\n",
       "       'interleukin 37', 'IL37', 'FIL1', 'FIL1(ZETA)', 'FIL1Z', 'IL-1F7',\n",
       "       'IL-1H', 'IL-1H4', 'IL-1RP1', 'IL-37', 'IL1F7', 'IL1H4', 'IL1RP1',\n",
       "       'interleukin 4', 'IL4', 'BCGF-1', 'BCGF1', 'BSF-1', 'BSF1', 'IL-4'],\n",
       "      dtype=object)"
      ]
     },
     "execution_count": 12,
     "metadata": {},
     "output_type": "execute_result"
    }
   ],
   "source": [
    "# Check for (and remove) any excessively vague symbols\n",
    "df['sym'].unique()"
   ]
  },
  {
   "cell_type": "code",
   "execution_count": 13,
   "metadata": {},
   "outputs": [
    {
     "data": {
      "text/html": [
       "<div>\n",
       "<style scoped>\n",
       "    .dataframe tbody tr th:only-of-type {\n",
       "        vertical-align: middle;\n",
       "    }\n",
       "\n",
       "    .dataframe tbody tr th {\n",
       "        vertical-align: top;\n",
       "    }\n",
       "\n",
       "    .dataframe thead th {\n",
       "        text-align: right;\n",
       "    }\n",
       "</style>\n",
       "<table border=\"1\" class=\"dataframe\">\n",
       "  <thead>\n",
       "    <tr style=\"text-align: right;\">\n",
       "      <th></th>\n",
       "      <th>sym</th>\n",
       "      <th>lbl</th>\n",
       "      <th>extid</th>\n",
       "      <th>spid</th>\n",
       "      <th>src</th>\n",
       "    </tr>\n",
       "  </thead>\n",
       "  <tbody>\n",
       "    <tr>\n",
       "      <th>68</th>\n",
       "      <td>lymphokine</td>\n",
       "      <td>IL2</td>\n",
       "      <td>3558</td>\n",
       "      <td>1</td>\n",
       "      <td>mygene</td>\n",
       "    </tr>\n",
       "  </tbody>\n",
       "</table>\n",
       "</div>"
      ],
      "text/plain": [
       "           sym  lbl extid  spid     src\n",
       "68  lymphokine  IL2  3558     1  mygene"
      ]
     },
     "execution_count": 13,
     "metadata": {},
     "output_type": "execute_result"
    }
   ],
   "source": [
    "df[df['sym'].str.match('lymphokine')]"
   ]
  },
  {
   "cell_type": "code",
   "execution_count": 14,
   "metadata": {},
   "outputs": [
    {
     "data": {
      "text/plain": [
       "(199, 200)"
      ]
     },
     "execution_count": 14,
     "metadata": {},
     "output_type": "execute_result"
    }
   ],
   "source": [
    "dfs = df[~df['sym'].str.match('lymphokine')]\n",
    "len(dfs), len(df)"
   ]
  },
  {
   "cell_type": "code",
   "execution_count": 15,
   "metadata": {},
   "outputs": [],
   "source": [
    "df_mygene = dfs.copy()"
   ]
  },
  {
   "cell_type": "code",
   "execution_count": 16,
   "metadata": {},
   "outputs": [
    {
     "data": {
      "text/html": [
       "<div>\n",
       "<style scoped>\n",
       "    .dataframe tbody tr th:only-of-type {\n",
       "        vertical-align: middle;\n",
       "    }\n",
       "\n",
       "    .dataframe tbody tr th {\n",
       "        vertical-align: top;\n",
       "    }\n",
       "\n",
       "    .dataframe thead th {\n",
       "        text-align: right;\n",
       "    }\n",
       "</style>\n",
       "<table border=\"1\" class=\"dataframe\">\n",
       "  <thead>\n",
       "    <tr style=\"text-align: right;\">\n",
       "      <th></th>\n",
       "      <th>sym</th>\n",
       "      <th>lbl</th>\n",
       "      <th>extid</th>\n",
       "      <th>spid</th>\n",
       "      <th>src</th>\n",
       "    </tr>\n",
       "  </thead>\n",
       "  <tbody>\n",
       "    <tr>\n",
       "      <th>64</th>\n",
       "      <td>interleukin 2</td>\n",
       "      <td>IL2</td>\n",
       "      <td>3558</td>\n",
       "      <td>1</td>\n",
       "      <td>mygene</td>\n",
       "    </tr>\n",
       "    <tr>\n",
       "      <th>65</th>\n",
       "      <td>IL2</td>\n",
       "      <td>IL2</td>\n",
       "      <td>3558</td>\n",
       "      <td>1</td>\n",
       "      <td>mygene</td>\n",
       "    </tr>\n",
       "    <tr>\n",
       "      <th>66</th>\n",
       "      <td>IL-2</td>\n",
       "      <td>IL2</td>\n",
       "      <td>3558</td>\n",
       "      <td>1</td>\n",
       "      <td>mygene</td>\n",
       "    </tr>\n",
       "    <tr>\n",
       "      <th>67</th>\n",
       "      <td>TCGF</td>\n",
       "      <td>IL2</td>\n",
       "      <td>3558</td>\n",
       "      <td>1</td>\n",
       "      <td>mygene</td>\n",
       "    </tr>\n",
       "  </tbody>\n",
       "</table>\n",
       "</div>"
      ],
      "text/plain": [
       "              sym  lbl extid  spid     src\n",
       "64  interleukin 2  IL2  3558     1  mygene\n",
       "65            IL2  IL2  3558     1  mygene\n",
       "66           IL-2  IL2  3558     1  mygene\n",
       "67           TCGF  IL2  3558     1  mygene"
      ]
     },
     "execution_count": 16,
     "metadata": {},
     "output_type": "execute_result"
    }
   ],
   "source": [
    "df_mygene[df_mygene['lbl'] == 'IL2']"
   ]
  },
  {
   "cell_type": "markdown",
   "metadata": {},
   "source": [
    "#### Load Manual Entries"
   ]
  },
  {
   "cell_type": "code",
   "execution_count": 17,
   "metadata": {},
   "outputs": [
    {
     "data": {
      "text/html": [
       "<div>\n",
       "<style scoped>\n",
       "    .dataframe tbody tr th:only-of-type {\n",
       "        vertical-align: middle;\n",
       "    }\n",
       "\n",
       "    .dataframe tbody tr th {\n",
       "        vertical-align: top;\n",
       "    }\n",
       "\n",
       "    .dataframe thead th {\n",
       "        text-align: right;\n",
       "    }\n",
       "</style>\n",
       "<table border=\"1\" class=\"dataframe\">\n",
       "  <thead>\n",
       "    <tr style=\"text-align: right;\">\n",
       "      <th></th>\n",
       "      <th>sym</th>\n",
       "      <th>lbl</th>\n",
       "      <th>spid</th>\n",
       "      <th>src</th>\n",
       "      <th>extid</th>\n",
       "    </tr>\n",
       "  </thead>\n",
       "  <tbody>\n",
       "    <tr>\n",
       "      <th>0</th>\n",
       "      <td>IL-23</td>\n",
       "      <td>IL23</td>\n",
       "      <td>1</td>\n",
       "      <td>manual</td>\n",
       "      <td>None</td>\n",
       "    </tr>\n",
       "    <tr>\n",
       "      <th>1</th>\n",
       "      <td>IL23</td>\n",
       "      <td>IL23</td>\n",
       "      <td>1</td>\n",
       "      <td>manual</td>\n",
       "      <td>None</td>\n",
       "    </tr>\n",
       "    <tr>\n",
       "      <th>2</th>\n",
       "      <td>IL12α</td>\n",
       "      <td>IL12A</td>\n",
       "      <td>1</td>\n",
       "      <td>manual</td>\n",
       "      <td>None</td>\n",
       "    </tr>\n",
       "    <tr>\n",
       "      <th>3</th>\n",
       "      <td>IL-12α</td>\n",
       "      <td>IL12A</td>\n",
       "      <td>1</td>\n",
       "      <td>manual</td>\n",
       "      <td>None</td>\n",
       "    </tr>\n",
       "    <tr>\n",
       "      <th>4</th>\n",
       "      <td>IL-12 p35</td>\n",
       "      <td>IL12A</td>\n",
       "      <td>1</td>\n",
       "      <td>manual</td>\n",
       "      <td>None</td>\n",
       "    </tr>\n",
       "  </tbody>\n",
       "</table>\n",
       "</div>"
      ],
      "text/plain": [
       "         sym    lbl  spid     src extid\n",
       "0      IL-23   IL23     1  manual  None\n",
       "1       IL23   IL23     1  manual  None\n",
       "2      IL12α  IL12A     1  manual  None\n",
       "3     IL-12α  IL12A     1  manual  None\n",
       "4  IL-12 p35  IL12A     1  manual  None"
      ]
     },
     "execution_count": 17,
     "metadata": {},
     "output_type": "execute_result"
    }
   ],
   "source": [
    "SRC = 'manual'\n",
    "df = pd.read_csv(osp.join(META_DATA_DIR, 'raw', 'cytokines.manual.csv'), sep=',')\n",
    "df = df.assign(src=SRC, extid=None)\n",
    "df.head()"
   ]
  },
  {
   "cell_type": "code",
   "execution_count": 18,
   "metadata": {},
   "outputs": [],
   "source": [
    "df_manual = df.copy()"
   ]
  },
  {
   "cell_type": "markdown",
   "metadata": {},
   "source": [
    "#### Generate Programmtic Transformations"
   ]
  },
  {
   "cell_type": "code",
   "execution_count": 20,
   "metadata": {},
   "outputs": [
    {
     "data": {
      "text/html": [
       "<div>\n",
       "<style scoped>\n",
       "    .dataframe tbody tr th:only-of-type {\n",
       "        vertical-align: middle;\n",
       "    }\n",
       "\n",
       "    .dataframe tbody tr th {\n",
       "        vertical-align: top;\n",
       "    }\n",
       "\n",
       "    .dataframe thead th {\n",
       "        text-align: right;\n",
       "    }\n",
       "</style>\n",
       "<table border=\"1\" class=\"dataframe\">\n",
       "  <thead>\n",
       "    <tr style=\"text-align: right;\">\n",
       "      <th></th>\n",
       "      <th>extid</th>\n",
       "      <th>lbl</th>\n",
       "      <th>spid</th>\n",
       "      <th>src</th>\n",
       "      <th>sym</th>\n",
       "    </tr>\n",
       "  </thead>\n",
       "  <tbody>\n",
       "    <tr>\n",
       "      <th>0</th>\n",
       "      <td>None</td>\n",
       "      <td>IL-1α</td>\n",
       "      <td>1</td>\n",
       "      <td>transform</td>\n",
       "      <td>(IL) 1α</td>\n",
       "    </tr>\n",
       "    <tr>\n",
       "      <th>0</th>\n",
       "      <td>None</td>\n",
       "      <td>IL-1α</td>\n",
       "      <td>1</td>\n",
       "      <td>transform</td>\n",
       "      <td>(IL) 1α</td>\n",
       "    </tr>\n",
       "    <tr>\n",
       "      <th>1</th>\n",
       "      <td>None</td>\n",
       "      <td>IL-1β</td>\n",
       "      <td>1</td>\n",
       "      <td>transform</td>\n",
       "      <td>(IL) 1β</td>\n",
       "    </tr>\n",
       "    <tr>\n",
       "      <th>1</th>\n",
       "      <td>None</td>\n",
       "      <td>IL-1β</td>\n",
       "      <td>1</td>\n",
       "      <td>transform</td>\n",
       "      <td>(IL) 1β</td>\n",
       "    </tr>\n",
       "    <tr>\n",
       "      <th>2</th>\n",
       "      <td>None</td>\n",
       "      <td>IL-1RA</td>\n",
       "      <td>1</td>\n",
       "      <td>transform</td>\n",
       "      <td>(IL) 1RA</td>\n",
       "    </tr>\n",
       "  </tbody>\n",
       "</table>\n",
       "</div>"
      ],
      "text/plain": [
       "  extid     lbl  spid        src       sym\n",
       "0  None   IL-1α     1  transform   (IL) 1α\n",
       "0  None   IL-1α     1  transform   (IL) 1α\n",
       "1  None   IL-1β     1  transform   (IL) 1β\n",
       "1  None   IL-1β     1  transform   (IL) 1β\n",
       "2  None  IL-1RA     1  transform  (IL) 1RA"
      ]
     },
     "execution_count": 20,
     "metadata": {},
     "output_type": "execute_result"
    }
   ],
   "source": [
    "SRC = 'transform'\n",
    "\n",
    "df = pd.concat([df_cameron, df_mygene, df_manual], sort=True).drop_duplicates()\n",
    "\n",
    "# Add symbols to resolve references like \"interleukin (IL)-4\" or \"interferon (IFN)-γ\"\n",
    "df = df[df['sym'].str.startswith('IL-') | df['sym'].str.startswith('IFN-')].copy()\n",
    "dfr = []\n",
    "for _, r in df.iterrows():\n",
    "    rc = r.copy()\n",
    "    rc['sym'] = r['sym'].replace('IL-', '(IL)-')\n",
    "    dfr.append(rc)\n",
    "    rc['sym'] = r['sym'].replace('IL-', '(IL) ')\n",
    "    dfr.append(rc)\n",
    "df = pd.DataFrame(dfr)\n",
    "df = df.assign(src=SRC, extid=None)\n",
    "df_transform = df.copy()\n",
    "df_transform.head()"
   ]
  },
  {
   "cell_type": "markdown",
   "metadata": {},
   "source": [
    "#### Merge and Export"
   ]
  },
  {
   "cell_type": "code",
   "execution_count": 21,
   "metadata": {},
   "outputs": [
    {
     "name": "stdout",
     "output_type": "stream",
     "text": [
      "<class 'pandas.core.frame.DataFrame'>\n",
      "Int64Index: 395 entries, 0 to 8\n",
      "Data columns (total 6 columns):\n",
      "id       395 non-null object\n",
      "src      395 non-null object\n",
      "sym      395 non-null object\n",
      "lbl      395 non-null object\n",
      "spid     395 non-null int64\n",
      "extid    199 non-null object\n",
      "dtypes: int64(1), object(5)\n",
      "memory usage: 21.6+ KB\n",
      "None\n"
     ]
    },
    {
     "data": {
      "text/html": [
       "<div>\n",
       "<style scoped>\n",
       "    .dataframe tbody tr th:only-of-type {\n",
       "        vertical-align: middle;\n",
       "    }\n",
       "\n",
       "    .dataframe tbody tr th {\n",
       "        vertical-align: top;\n",
       "    }\n",
       "\n",
       "    .dataframe thead th {\n",
       "        text-align: right;\n",
       "    }\n",
       "</style>\n",
       "<table border=\"1\" class=\"dataframe\">\n",
       "  <thead>\n",
       "    <tr style=\"text-align: right;\">\n",
       "      <th></th>\n",
       "      <th>id</th>\n",
       "      <th>src</th>\n",
       "      <th>sym</th>\n",
       "      <th>lbl</th>\n",
       "      <th>spid</th>\n",
       "      <th>extid</th>\n",
       "    </tr>\n",
       "  </thead>\n",
       "  <tbody>\n",
       "    <tr>\n",
       "      <th>0</th>\n",
       "      <td>CK3618F8D5635EA31B</td>\n",
       "      <td>cameron</td>\n",
       "      <td>IL-1α</td>\n",
       "      <td>IL-1α</td>\n",
       "      <td>1</td>\n",
       "      <td>None</td>\n",
       "    </tr>\n",
       "    <tr>\n",
       "      <th>1</th>\n",
       "      <td>CKA07F01C879D8D6C2</td>\n",
       "      <td>cameron</td>\n",
       "      <td>IL-1β</td>\n",
       "      <td>IL-1β</td>\n",
       "      <td>1</td>\n",
       "      <td>None</td>\n",
       "    </tr>\n",
       "    <tr>\n",
       "      <th>2</th>\n",
       "      <td>CKA95B181F6273B58D</td>\n",
       "      <td>cameron</td>\n",
       "      <td>IL-1RA</td>\n",
       "      <td>IL-1RA</td>\n",
       "      <td>1</td>\n",
       "      <td>None</td>\n",
       "    </tr>\n",
       "    <tr>\n",
       "      <th>3</th>\n",
       "      <td>CKBF6003C60D23BA0D</td>\n",
       "      <td>cameron</td>\n",
       "      <td>IL-18</td>\n",
       "      <td>IL-18</td>\n",
       "      <td>1</td>\n",
       "      <td>None</td>\n",
       "    </tr>\n",
       "    <tr>\n",
       "      <th>4</th>\n",
       "      <td>CKD21834C7D75FD77F</td>\n",
       "      <td>cameron</td>\n",
       "      <td>IL-2</td>\n",
       "      <td>IL-2</td>\n",
       "      <td>1</td>\n",
       "      <td>None</td>\n",
       "    </tr>\n",
       "  </tbody>\n",
       "</table>\n",
       "</div>"
      ],
      "text/plain": [
       "                   id      src     sym     lbl  spid extid\n",
       "0  CK3618F8D5635EA31B  cameron   IL-1α   IL-1α     1  None\n",
       "1  CKA07F01C879D8D6C2  cameron   IL-1β   IL-1β     1  None\n",
       "2  CKA95B181F6273B58D  cameron  IL-1RA  IL-1RA     1  None\n",
       "3  CKBF6003C60D23BA0D  cameron   IL-18   IL-18     1  None\n",
       "4  CKD21834C7D75FD77F  cameron    IL-2    IL-2     1  None"
      ]
     },
     "execution_count": 21,
     "metadata": {},
     "output_type": "execute_result"
    }
   ],
   "source": [
    "df = merge([df_cameron, df_mygene, df_manual, df_transform], ID_TYP_CK).drop_duplicates()\n",
    "print(df.info())\n",
    "df.head()"
   ]
  },
  {
   "cell_type": "code",
   "execution_count": 22,
   "metadata": {},
   "outputs": [
    {
     "name": "stdout",
     "output_type": "stream",
     "text": [
      "Removing 0 records with excessively short symbols: []\n",
      "<class 'pandas.core.frame.DataFrame'>\n",
      "Int64Index: 395 entries, 0 to 8\n",
      "Data columns (total 6 columns):\n",
      "id       395 non-null object\n",
      "src      395 non-null object\n",
      "sym      395 non-null object\n",
      "lbl      395 non-null object\n",
      "spid     395 non-null int64\n",
      "extid    199 non-null object\n",
      "dtypes: int64(1), object(5)\n",
      "memory usage: 21.6+ KB\n"
     ]
    }
   ],
   "source": [
    "rm_sym = df[df['sym'].str.len() < MIN_SYM_LEN]['sym'].unique()\n",
    "print('Removing {} records with excessively short symbols: {}'.format(len(rm_sym), rm_sym))\n",
    "df = df[~df['sym'].isin(rm_sym)]\n",
    "df.info()"
   ]
  },
  {
   "cell_type": "code",
   "execution_count": 23,
   "metadata": {},
   "outputs": [
    {
     "data": {
      "text/html": [
       "<div>\n",
       "<style scoped>\n",
       "    .dataframe tbody tr th:only-of-type {\n",
       "        vertical-align: middle;\n",
       "    }\n",
       "\n",
       "    .dataframe tbody tr th {\n",
       "        vertical-align: top;\n",
       "    }\n",
       "\n",
       "    .dataframe thead th {\n",
       "        text-align: right;\n",
       "    }\n",
       "</style>\n",
       "<table border=\"1\" class=\"dataframe\">\n",
       "  <thead>\n",
       "    <tr style=\"text-align: right;\">\n",
       "      <th></th>\n",
       "      <th>id</th>\n",
       "      <th>src</th>\n",
       "      <th>sym</th>\n",
       "      <th>lbl</th>\n",
       "      <th>spid</th>\n",
       "      <th>extid</th>\n",
       "    </tr>\n",
       "  </thead>\n",
       "  <tbody>\n",
       "    <tr>\n",
       "      <th>46</th>\n",
       "      <td>CK8ADDB4814EC2BC7A</td>\n",
       "      <td>cameron</td>\n",
       "      <td>TGFβ</td>\n",
       "      <td>TGF-β1</td>\n",
       "      <td>1</td>\n",
       "      <td>None</td>\n",
       "    </tr>\n",
       "  </tbody>\n",
       "</table>\n",
       "</div>"
      ],
      "text/plain": [
       "                    id      src   sym     lbl  spid extid\n",
       "46  CK8ADDB4814EC2BC7A  cameron  TGFβ  TGF-β1     1  None"
      ]
     },
     "execution_count": 23,
     "metadata": {},
     "output_type": "execute_result"
    }
   ],
   "source": [
    "df[df['sym'].str.match('TGF.$')]"
   ]
  },
  {
   "cell_type": "code",
   "execution_count": 24,
   "metadata": {},
   "outputs": [
    {
     "data": {
      "text/plain": [
       "'/Users/eczech/repos/hammer/t-cell-relation-extraction/pm_subtype_protein_relations/data/meta/cytokines.csv'"
      ]
     },
     "execution_count": 24,
     "metadata": {},
     "output_type": "execute_result"
    }
   ],
   "source": [
    "path = osp.join(META_DATA_DIR, CYTOKINES + '.csv')\n",
    "df.to_csv(path, index=False)\n",
    "path"
   ]
  },
  {
   "cell_type": "markdown",
   "metadata": {},
   "source": [
    "## Transcription Factors"
   ]
  },
  {
   "cell_type": "markdown",
   "metadata": {},
   "source": [
    "#### Load from Lambert, et al. 2016"
   ]
  },
  {
   "cell_type": "code",
   "execution_count": 25,
   "metadata": {},
   "outputs": [
    {
     "name": "stdout",
     "output_type": "stream",
     "text": [
      "<class 'pandas.core.frame.DataFrame'>\n",
      "Int64Index: 1639 entries, 0 to 2763\n",
      "Data columns (total 5 columns):\n",
      "extid    1639 non-null object\n",
      "lbl      1639 non-null object\n",
      "sym      1639 non-null object\n",
      "spid     1639 non-null int64\n",
      "src      1639 non-null object\n",
      "dtypes: int64(1), object(4)\n",
      "memory usage: 76.8+ KB\n"
     ]
    }
   ],
   "source": [
    "SRC = 'lambert'\n",
    "# Load export of tab \"Table S1. Related to Figure 1B-Table 1.csv\" from Document S1 in\n",
    "# https://doi.org/10.1016%2Fj.cell.2018.01.029 (containing *human* transcription factors)\n",
    "df = pd.read_csv(osp.join(META_DATA_DIR, 'raw', 'transcription_factors.lambert.csv'), header=[0,1])\n",
    "df = df[df['Is TF?'].iloc[:,0] == 'Yes']\n",
    "df = df[[('Gene Information', 'ID'), ('Unnamed: 1_level_0', 'Name')]]\n",
    "df.columns = ['extid', 'lbl']\n",
    "df = df.assign(sym=df['lbl'].values, spid=SPECIES_HUMAN_ID, src=SRC)\n",
    "df['spid'] = SPECIES_HUMAN_ID\n",
    "# Ensure number of records from spreadsheet export matches https://en.wikipedia.org/wiki/List_of_human_transcription_factors\n",
    "assert len(df) == 1639, \\\n",
    "    'Data frame does not have expected row count 1639 '\\\n",
    "    '(count should match https://en.wikipedia.org/wiki/List_of_human_transcription_factors)'\n",
    "df.info()"
   ]
  },
  {
   "cell_type": "code",
   "execution_count": 26,
   "metadata": {},
   "outputs": [
    {
     "data": {
      "text/html": [
       "<div>\n",
       "<style scoped>\n",
       "    .dataframe tbody tr th:only-of-type {\n",
       "        vertical-align: middle;\n",
       "    }\n",
       "\n",
       "    .dataframe tbody tr th {\n",
       "        vertical-align: top;\n",
       "    }\n",
       "\n",
       "    .dataframe thead th {\n",
       "        text-align: right;\n",
       "    }\n",
       "</style>\n",
       "<table border=\"1\" class=\"dataframe\">\n",
       "  <thead>\n",
       "    <tr style=\"text-align: right;\">\n",
       "      <th></th>\n",
       "      <th>extid</th>\n",
       "      <th>lbl</th>\n",
       "      <th>sym</th>\n",
       "      <th>spid</th>\n",
       "      <th>src</th>\n",
       "    </tr>\n",
       "  </thead>\n",
       "  <tbody>\n",
       "    <tr>\n",
       "      <th>0</th>\n",
       "      <td>ENSG00000137203</td>\n",
       "      <td>TFAP2A</td>\n",
       "      <td>TFAP2A</td>\n",
       "      <td>1</td>\n",
       "      <td>lambert</td>\n",
       "    </tr>\n",
       "    <tr>\n",
       "      <th>1</th>\n",
       "      <td>ENSG00000008196</td>\n",
       "      <td>TFAP2B</td>\n",
       "      <td>TFAP2B</td>\n",
       "      <td>1</td>\n",
       "      <td>lambert</td>\n",
       "    </tr>\n",
       "    <tr>\n",
       "      <th>2</th>\n",
       "      <td>ENSG00000087510</td>\n",
       "      <td>TFAP2C</td>\n",
       "      <td>TFAP2C</td>\n",
       "      <td>1</td>\n",
       "      <td>lambert</td>\n",
       "    </tr>\n",
       "    <tr>\n",
       "      <th>3</th>\n",
       "      <td>ENSG00000008197</td>\n",
       "      <td>TFAP2D</td>\n",
       "      <td>TFAP2D</td>\n",
       "      <td>1</td>\n",
       "      <td>lambert</td>\n",
       "    </tr>\n",
       "    <tr>\n",
       "      <th>4</th>\n",
       "      <td>ENSG00000116819</td>\n",
       "      <td>TFAP2E</td>\n",
       "      <td>TFAP2E</td>\n",
       "      <td>1</td>\n",
       "      <td>lambert</td>\n",
       "    </tr>\n",
       "  </tbody>\n",
       "</table>\n",
       "</div>"
      ],
      "text/plain": [
       "             extid     lbl     sym  spid      src\n",
       "0  ENSG00000137203  TFAP2A  TFAP2A     1  lambert\n",
       "1  ENSG00000008196  TFAP2B  TFAP2B     1  lambert\n",
       "2  ENSG00000087510  TFAP2C  TFAP2C     1  lambert\n",
       "3  ENSG00000008197  TFAP2D  TFAP2D     1  lambert\n",
       "4  ENSG00000116819  TFAP2E  TFAP2E     1  lambert"
      ]
     },
     "execution_count": 26,
     "metadata": {},
     "output_type": "execute_result"
    }
   ],
   "source": [
    "df.head()"
   ]
  },
  {
   "cell_type": "code",
   "execution_count": 27,
   "metadata": {},
   "outputs": [
    {
     "name": "stdout",
     "output_type": "stream",
     "text": [
      "querying 1-1000...done.\n",
      "querying 1001-1639...done.\n",
      "<class 'pandas.core.frame.DataFrame'>\n",
      "Index: 1639 entries, ENSG00000137203 to ENSG00000168152\n",
      "Data columns (total 10 columns):\n",
      "_id             1636 non-null object\n",
      "_score          1636 non-null float64\n",
      "alias           1309 non-null object\n",
      "ensembl         77 non-null object\n",
      "ensembl.gene    1559 non-null object\n",
      "name            1634 non-null object\n",
      "notfound        3 non-null object\n",
      "symbol          1636 non-null object\n",
      "taxid           1636 non-null float64\n",
      "extid           1639 non-null object\n",
      "dtypes: float64(2), object(8)\n",
      "memory usage: 140.9+ KB\n"
     ]
    }
   ],
   "source": [
    "# Use MyGene to get aliases for genes above (by ensembl id, not symbol/name)\n",
    "dfa = mg.getgenes(\n",
    "    ids=df['extid'].unique(),\n",
    "    scopes=[\"symbol\", \"retired\", \"name\", \"alias\"],\n",
    "    fields='symbol,name,taxid,ensembl.gene,alias', \n",
    "    as_dataframe=True\n",
    ")\n",
    "dfa['extid'] = dfa.index\n",
    "dfa.info()"
   ]
  },
  {
   "cell_type": "code",
   "execution_count": 28,
   "metadata": {},
   "outputs": [
    {
     "name": "stdout",
     "output_type": "stream",
     "text": [
      "querying 1-1000...done.\n",
      "querying 1001-1639...done.\n",
      "<class 'pandas.core.frame.DataFrame'>\n",
      "Int64Index: 7365 entries, 0 to 7372\n",
      "Data columns (total 5 columns):\n",
      "sym      7365 non-null object\n",
      "lbl      7365 non-null object\n",
      "extid    7365 non-null object\n",
      "spid     7365 non-null int64\n",
      "src      7365 non-null object\n",
      "dtypes: int64(1), object(4)\n",
      "memory usage: 345.2+ KB\n"
     ]
    }
   ],
   "source": [
    "# Use MyGene to get aliases for genes above (by ensembl id, not symbol/name)\n",
    "dfa = mg.getgenes(\n",
    "    ids=df['extid'].unique(),\n",
    "    scopes=[\"symbol\", \"retired\", \"name\", \"alias\"],\n",
    "    fields='symbol,name,taxid,ensembl.gene,alias', \n",
    "    as_dataframe=True\n",
    ")\n",
    "# The query term is set as the index in results so use that to get the ensembl id\n",
    "# rather than the `ensenbl.gene` field since this is inexplicably empty sometimes\n",
    "# even when the query term as an ensembl id and all other fields are valid (e.g.\n",
    "# ENSG00000232040 --> gives symbol ZBED9 and valid aliases but empty gene id field)\n",
    "dfa['extid'] = dfa.index\n",
    "dfa = mygene_prep(dfa)\n",
    "dfa = dfa.assign(spid=SPECIES_HUMAN_ID, src=SRC)\n",
    "dfa = dfa[dfa['lbl'].notnull() & dfa['sym'].notnull()]\n",
    "assert dfa['extid'].notnull().all()\n",
    "dfa.info()"
   ]
  },
  {
   "cell_type": "code",
   "execution_count": 29,
   "metadata": {},
   "outputs": [
    {
     "name": "stdout",
     "output_type": "stream",
     "text": [
      "<class 'pandas.core.frame.DataFrame'>\n",
      "Int64Index: 7376 entries, 0 to 7372\n",
      "Data columns (total 5 columns):\n",
      "extid    7376 non-null object\n",
      "lbl      7376 non-null object\n",
      "sym      7376 non-null object\n",
      "spid     7376 non-null int64\n",
      "src      7376 non-null object\n",
      "dtypes: int64(1), object(4)\n",
      "memory usage: 345.8+ KB\n"
     ]
    }
   ],
   "source": [
    "dfm = pd.concat([df, dfa[df.columns]])\n",
    "# As the mygene results may contain aliases matching the names\n",
    "# in the lambert spreadsheet and the `src` is the same, duplicates\n",
    "# should be removed \n",
    "dfm = dfm.drop_duplicates()\n",
    "dfm.info()"
   ]
  },
  {
   "cell_type": "code",
   "execution_count": 30,
   "metadata": {},
   "outputs": [],
   "source": [
    "df_lambert = dfm.copy()"
   ]
  },
  {
   "cell_type": "code",
   "execution_count": 31,
   "metadata": {},
   "outputs": [],
   "source": [
    "#df_lambert[df_lambert['sym'].str.lower().str.contains('t-bet')]"
   ]
  },
  {
   "cell_type": "markdown",
   "metadata": {},
   "source": [
    "#### Load Manual Entries"
   ]
  },
  {
   "cell_type": "code",
   "execution_count": 32,
   "metadata": {},
   "outputs": [
    {
     "data": {
      "text/html": [
       "<div>\n",
       "<style scoped>\n",
       "    .dataframe tbody tr th:only-of-type {\n",
       "        vertical-align: middle;\n",
       "    }\n",
       "\n",
       "    .dataframe tbody tr th {\n",
       "        vertical-align: top;\n",
       "    }\n",
       "\n",
       "    .dataframe thead th {\n",
       "        text-align: right;\n",
       "    }\n",
       "</style>\n",
       "<table border=\"1\" class=\"dataframe\">\n",
       "  <thead>\n",
       "    <tr style=\"text-align: right;\">\n",
       "      <th></th>\n",
       "      <th>sym</th>\n",
       "      <th>lbl</th>\n",
       "      <th>spid</th>\n",
       "      <th>src</th>\n",
       "      <th>extid</th>\n",
       "    </tr>\n",
       "  </thead>\n",
       "  <tbody>\n",
       "  </tbody>\n",
       "</table>\n",
       "</div>"
      ],
      "text/plain": [
       "Empty DataFrame\n",
       "Columns: [sym, lbl, spid, src, extid]\n",
       "Index: []"
      ]
     },
     "execution_count": 32,
     "metadata": {},
     "output_type": "execute_result"
    }
   ],
   "source": [
    "SRC = 'manual'\n",
    "df = pd.read_csv(osp.join(META_DATA_DIR, 'raw', 'transcription_factors.manual.csv'), sep=',')\n",
    "df = df.assign(src=SRC, extid=None)\n",
    "df.head()"
   ]
  },
  {
   "cell_type": "code",
   "execution_count": 33,
   "metadata": {},
   "outputs": [],
   "source": [
    "df_manual = df.copy()"
   ]
  },
  {
   "cell_type": "markdown",
   "metadata": {},
   "source": [
    "#### Merge and Export"
   ]
  },
  {
   "cell_type": "code",
   "execution_count": 34,
   "metadata": {},
   "outputs": [
    {
     "name": "stdout",
     "output_type": "stream",
     "text": [
      "<class 'pandas.core.frame.DataFrame'>\n",
      "Int64Index: 7376 entries, 0 to 7372\n",
      "Data columns (total 6 columns):\n",
      "id       7376 non-null object\n",
      "src      7376 non-null object\n",
      "sym      7376 non-null object\n",
      "lbl      7376 non-null object\n",
      "spid     7376 non-null object\n",
      "extid    7376 non-null object\n",
      "dtypes: object(6)\n",
      "memory usage: 403.4+ KB\n",
      "None\n"
     ]
    },
    {
     "data": {
      "text/html": [
       "<div>\n",
       "<style scoped>\n",
       "    .dataframe tbody tr th:only-of-type {\n",
       "        vertical-align: middle;\n",
       "    }\n",
       "\n",
       "    .dataframe tbody tr th {\n",
       "        vertical-align: top;\n",
       "    }\n",
       "\n",
       "    .dataframe thead th {\n",
       "        text-align: right;\n",
       "    }\n",
       "</style>\n",
       "<table border=\"1\" class=\"dataframe\">\n",
       "  <thead>\n",
       "    <tr style=\"text-align: right;\">\n",
       "      <th></th>\n",
       "      <th>id</th>\n",
       "      <th>src</th>\n",
       "      <th>sym</th>\n",
       "      <th>lbl</th>\n",
       "      <th>spid</th>\n",
       "      <th>extid</th>\n",
       "    </tr>\n",
       "  </thead>\n",
       "  <tbody>\n",
       "    <tr>\n",
       "      <th>0</th>\n",
       "      <td>TF86C36DA44F437EF4</td>\n",
       "      <td>lambert</td>\n",
       "      <td>TFAP2A</td>\n",
       "      <td>TFAP2A</td>\n",
       "      <td>1</td>\n",
       "      <td>ENSG00000137203</td>\n",
       "    </tr>\n",
       "    <tr>\n",
       "      <th>1</th>\n",
       "      <td>TF461FDA506812E746</td>\n",
       "      <td>lambert</td>\n",
       "      <td>TFAP2B</td>\n",
       "      <td>TFAP2B</td>\n",
       "      <td>1</td>\n",
       "      <td>ENSG00000008196</td>\n",
       "    </tr>\n",
       "    <tr>\n",
       "      <th>2</th>\n",
       "      <td>TFC45A94C937B61266</td>\n",
       "      <td>lambert</td>\n",
       "      <td>TFAP2C</td>\n",
       "      <td>TFAP2C</td>\n",
       "      <td>1</td>\n",
       "      <td>ENSG00000087510</td>\n",
       "    </tr>\n",
       "    <tr>\n",
       "      <th>3</th>\n",
       "      <td>TF688FFC3D7A50AA7B</td>\n",
       "      <td>lambert</td>\n",
       "      <td>TFAP2D</td>\n",
       "      <td>TFAP2D</td>\n",
       "      <td>1</td>\n",
       "      <td>ENSG00000008197</td>\n",
       "    </tr>\n",
       "    <tr>\n",
       "      <th>4</th>\n",
       "      <td>TFEF8EA5EE07436793</td>\n",
       "      <td>lambert</td>\n",
       "      <td>TFAP2E</td>\n",
       "      <td>TFAP2E</td>\n",
       "      <td>1</td>\n",
       "      <td>ENSG00000116819</td>\n",
       "    </tr>\n",
       "  </tbody>\n",
       "</table>\n",
       "</div>"
      ],
      "text/plain": [
       "                   id      src     sym     lbl spid            extid\n",
       "0  TF86C36DA44F437EF4  lambert  TFAP2A  TFAP2A    1  ENSG00000137203\n",
       "1  TF461FDA506812E746  lambert  TFAP2B  TFAP2B    1  ENSG00000008196\n",
       "2  TFC45A94C937B61266  lambert  TFAP2C  TFAP2C    1  ENSG00000087510\n",
       "3  TF688FFC3D7A50AA7B  lambert  TFAP2D  TFAP2D    1  ENSG00000008197\n",
       "4  TFEF8EA5EE07436793  lambert  TFAP2E  TFAP2E    1  ENSG00000116819"
      ]
     },
     "execution_count": 34,
     "metadata": {},
     "output_type": "execute_result"
    }
   ],
   "source": [
    "df = merge([df_lambert, df_manual], ID_TYP_TF).drop_duplicates()\n",
    "print(df.info())\n",
    "df.head()"
   ]
  },
  {
   "cell_type": "code",
   "execution_count": 35,
   "metadata": {},
   "outputs": [
    {
     "name": "stdout",
     "output_type": "stream",
     "text": [
      "Removing 25 records with excessively short symbols: ['AR' 'T' 'MI' 'ZF' 'Y8' 'RN' 'NP' 'OF' 'LD' 'H6' 'PL' 'K8' 'RS' 'RX' 'SS'\n",
      " 'AN' 'L8' 'KD' 'ER' 'GR' 'MR' 'PR' 'D9' 'LF' 'AA']\n",
      "<class 'pandas.core.frame.DataFrame'>\n",
      "Int64Index: 7349 entries, 0 to 7372\n",
      "Data columns (total 6 columns):\n",
      "id       7349 non-null object\n",
      "src      7349 non-null object\n",
      "sym      7349 non-null object\n",
      "lbl      7349 non-null object\n",
      "spid     7349 non-null object\n",
      "extid    7349 non-null object\n",
      "dtypes: object(6)\n",
      "memory usage: 401.9+ KB\n"
     ]
    }
   ],
   "source": [
    "rm_sym = df[df['sym'].str.len() < MIN_SYM_LEN]['sym'].unique()\n",
    "print('Removing {} records with excessively short symbols: {}'.format(len(rm_sym), rm_sym))\n",
    "df = df[~df['sym'].isin(rm_sym)]\n",
    "df.info()"
   ]
  },
  {
   "cell_type": "code",
   "execution_count": 36,
   "metadata": {},
   "outputs": [
    {
     "data": {
      "text/html": [
       "<div>\n",
       "<style scoped>\n",
       "    .dataframe tbody tr th:only-of-type {\n",
       "        vertical-align: middle;\n",
       "    }\n",
       "\n",
       "    .dataframe tbody tr th {\n",
       "        vertical-align: top;\n",
       "    }\n",
       "\n",
       "    .dataframe thead th {\n",
       "        text-align: right;\n",
       "    }\n",
       "</style>\n",
       "<table border=\"1\" class=\"dataframe\">\n",
       "  <thead>\n",
       "    <tr style=\"text-align: right;\">\n",
       "      <th></th>\n",
       "      <th>id</th>\n",
       "      <th>src</th>\n",
       "      <th>sym</th>\n",
       "      <th>lbl</th>\n",
       "      <th>spid</th>\n",
       "      <th>extid</th>\n",
       "    </tr>\n",
       "  </thead>\n",
       "  <tbody>\n",
       "    <tr>\n",
       "      <th>265</th>\n",
       "      <td>TF1FEE043B45D9654E</td>\n",
       "      <td>lambert</td>\n",
       "      <td>GFI1</td>\n",
       "      <td>GFI1</td>\n",
       "      <td>1</td>\n",
       "      <td>ENSG00000162676</td>\n",
       "    </tr>\n",
       "    <tr>\n",
       "      <th>266</th>\n",
       "      <td>TF06386BF18D80F1C5</td>\n",
       "      <td>lambert</td>\n",
       "      <td>GFI1B</td>\n",
       "      <td>GFI1B</td>\n",
       "      <td>1</td>\n",
       "      <td>ENSG00000165702</td>\n",
       "    </tr>\n",
       "    <tr>\n",
       "      <th>1198</th>\n",
       "      <td>TFD6425765B0AF5303</td>\n",
       "      <td>lambert</td>\n",
       "      <td>NGFI-A</td>\n",
       "      <td>EGR1</td>\n",
       "      <td>1</td>\n",
       "      <td>ENSG00000120738</td>\n",
       "    </tr>\n",
       "    <tr>\n",
       "      <th>1216</th>\n",
       "      <td>TF6AD173F0E42A506C</td>\n",
       "      <td>lambert</td>\n",
       "      <td>NGFI-C</td>\n",
       "      <td>EGR4</td>\n",
       "      <td>1</td>\n",
       "      <td>ENSG00000135625</td>\n",
       "    </tr>\n",
       "    <tr>\n",
       "      <th>1217</th>\n",
       "      <td>TFA77682C38E2A0D4F</td>\n",
       "      <td>lambert</td>\n",
       "      <td>NGFIC</td>\n",
       "      <td>EGR4</td>\n",
       "      <td>1</td>\n",
       "      <td>ENSG00000135625</td>\n",
       "    </tr>\n",
       "    <tr>\n",
       "      <th>1240</th>\n",
       "      <td>TFE156A51136C217BC</td>\n",
       "      <td>lambert</td>\n",
       "      <td>GFI-1</td>\n",
       "      <td>GFI1</td>\n",
       "      <td>1</td>\n",
       "      <td>ENSG00000162676</td>\n",
       "    </tr>\n",
       "    <tr>\n",
       "      <th>1241</th>\n",
       "      <td>TFD513B64FD7B6A5DF</td>\n",
       "      <td>lambert</td>\n",
       "      <td>GFI1A</td>\n",
       "      <td>GFI1</td>\n",
       "      <td>1</td>\n",
       "      <td>ENSG00000162676</td>\n",
       "    </tr>\n",
       "    <tr>\n",
       "      <th>6374</th>\n",
       "      <td>TF03C9CAC32D70E497</td>\n",
       "      <td>lambert</td>\n",
       "      <td>NGFIB</td>\n",
       "      <td>NR4A1</td>\n",
       "      <td>1</td>\n",
       "      <td>ENSG00000123358</td>\n",
       "    </tr>\n",
       "  </tbody>\n",
       "</table>\n",
       "</div>"
      ],
      "text/plain": [
       "                      id      src     sym    lbl spid            extid\n",
       "265   TF1FEE043B45D9654E  lambert    GFI1   GFI1    1  ENSG00000162676\n",
       "266   TF06386BF18D80F1C5  lambert   GFI1B  GFI1B    1  ENSG00000165702\n",
       "1198  TFD6425765B0AF5303  lambert  NGFI-A   EGR1    1  ENSG00000120738\n",
       "1216  TF6AD173F0E42A506C  lambert  NGFI-C   EGR4    1  ENSG00000135625\n",
       "1217  TFA77682C38E2A0D4F  lambert   NGFIC   EGR4    1  ENSG00000135625\n",
       "1240  TFE156A51136C217BC  lambert   GFI-1   GFI1    1  ENSG00000162676\n",
       "1241  TFD513B64FD7B6A5DF  lambert   GFI1A   GFI1    1  ENSG00000162676\n",
       "6374  TF03C9CAC32D70E497  lambert   NGFIB  NR4A1    1  ENSG00000123358"
      ]
     },
     "execution_count": 36,
     "metadata": {},
     "output_type": "execute_result"
    }
   ],
   "source": [
    "df[df['sym'].str.lower().str.contains('gfi')]"
   ]
  },
  {
   "cell_type": "code",
   "execution_count": 37,
   "metadata": {},
   "outputs": [
    {
     "data": {
      "text/plain": [
       "'/Users/eczech/repos/hammer/t-cell-relation-extraction/pm_subtype_protein_relations/data/meta/transcription_factors.csv'"
      ]
     },
     "execution_count": 37,
     "metadata": {},
     "output_type": "execute_result"
    }
   ],
   "source": [
    "path = osp.join(META_DATA_DIR, TRANSCRIPTION_FACTORS + '.csv')\n",
    "df.to_csv(path, index=False)\n",
    "path"
   ]
  },
  {
   "cell_type": "markdown",
   "metadata": {},
   "source": [
    "## Cell Types"
   ]
  },
  {
   "cell_type": "code",
   "execution_count": 38,
   "metadata": {},
   "outputs": [],
   "source": [
    "SRC = 'manual'\n",
    "cell_types = [\n",
    "    ('TN', ['T-naïve', 'naïve-T']),\n",
    "    ('TEMRA', ['T-emra', 'emra-T']),\n",
    "    ('TCM', ['T-cm', 'cm-T']),\n",
    "    ('TEFF', ['T-eff', 'T-effector', 'eff-T', 'effector-T']),\n",
    "    ('TEM', ['T-em', 'em-T']),\n",
    "    ('Th', ['T-Helper', 'Helper-T']),\n",
    "    ('Tc', ['T-Cytotoxic', 'Cytotoxic-T', 'Cytolitic-T', 'T-Cytolitic']),\n",
    "    ('ThP', ['Th-Precursor', 'Precursor-Th']),\n",
    "    ('Trm', ['T-rm', 'T-resident-memory', 'resident-memory-T']),\n",
    "    ('Tscm', ['T-SCM']),\n",
    "    ('NKT', ['natural-killer-T', 'T-natural-killer', 'INKT', 'TRNKT', 'CNKT', 'NK/T']),\n",
    "    ('MAIT', ['Mucosal-associated invariant T']),\n",
    "    ('Treg', ['T-reg', 'T-regs', 'T-regulatory', 'regulatory-T']),\n",
    "    ('Tsupp', ['Tsuppressor', 'Ts/c', 'Ts/Tc','T-suppressor/cytotoxic'], 'Treg'),\n",
    "    ('Treg1', ['T-reg1', 'Treg/Th1', 'TregTh1', 'Tr1'], 'Treg'),\n",
    "    ('Treg17', ['T-reg17', 'Treg/Th17', 'TregTh17', 'Tr17'], 'Treg'),\n",
    "    ('Tfh', ['T-FH', 'T-follicular-helper', 'fhT'], 'Th'),\n",
    "    ('Tfreg', ['Tf-reg', 'T-follicular-regulatory', 'follicular-Treg', 'fTreg'], 'Treg'),\n",
    "    ('iTreg', ['inducible-Treg', 'induced-Treg', 'inducible-regulatory-T'], 'Treg'),\n",
    "    ('nTreg', ['natural-Treg'], 'Treg'),\n",
    "    ('pTreg', ['peripheral-Treg'], 'Treg'),\n",
    "    ('γδT', ['GammaDeltaT', 'TGammaDelta', 'Gamma/DeltaT', 'γ/δT', 'γδ-T', 'gd-T', 'Tgd', 'g/dT', 'Tg/d']),\n",
    "    ('γδT-Vδ1', ['VDelta1-T', 'Vδ1-T'], 'γδT'),\n",
    "    ('γδT-Vδ2', ['VDelta2-T', 'Vδ2-T'], 'γδT'),\n",
    "    ('γδT-Vγ1', ['VGamma1-T', 'Vγ1-T'], 'γδT'),\n",
    "    ('γδT-Vγ4', ['VGamma4-T', 'Vγ4-T'], 'γδT'),\n",
    "    ('γδT-Vγ9', ['VGamma9-T', 'Vγ9-T'], 'γδT'),\n",
    "    ('γδT-Vγ9Vδ2', ['VGamma9Delta2T', 'Vγ9Vδ2T'], 'γδT'),\n",
    "    ('γδT-17', ['γδ17T', 'TGammaDelta17'], 'γδT'),\n",
    "    ('γδT-TCS1', ['TCS1'], 'γδT')\n",
    "] + [\n",
    "    ('Tc' + str(i), ['Tc-' + str(i), 'T-cytolitic-' + str(i), 'T cytolitic-' + str(i), 'T-cytotoxic-' + str(i), 'T cytotoxic-' + str(i)], 'Tc') \n",
    "    for i in [0, 1, 2, 3, 9, 17, 22]\n",
    "] + [\n",
    "    ('Th' + str(i), ['Th-' + str(i), 'T-helper-' + str(i), 'T helper-' + str(i)], 'Th') \n",
    "    for i in [0, 1, 2, 3, 9, 17, 22]\n",
    "] + [\n",
    "    ('Tfh{}like'.format(i), ['Tfh-{}-like'.format(i), 'Tfh-{}like'.format(i), 'Tfh{}-like'.format(i)], 'Tfh') \n",
    "    for i in [0, 1, 2, 3, 9, 17, 22]\n",
    "]"
   ]
  },
  {
   "cell_type": "code",
   "execution_count": 39,
   "metadata": {},
   "outputs": [
    {
     "data": {
      "text/html": [
       "<div>\n",
       "<style scoped>\n",
       "    .dataframe tbody tr th:only-of-type {\n",
       "        vertical-align: middle;\n",
       "    }\n",
       "\n",
       "    .dataframe tbody tr th {\n",
       "        vertical-align: top;\n",
       "    }\n",
       "\n",
       "    .dataframe thead th {\n",
       "        text-align: right;\n",
       "    }\n",
       "</style>\n",
       "<table border=\"1\" class=\"dataframe\">\n",
       "  <thead>\n",
       "    <tr style=\"text-align: right;\">\n",
       "      <th></th>\n",
       "      <th>sym</th>\n",
       "      <th>lbl</th>\n",
       "      <th>spid</th>\n",
       "      <th>src</th>\n",
       "      <th>extid</th>\n",
       "      <th>id</th>\n",
       "    </tr>\n",
       "  </thead>\n",
       "  <tbody>\n",
       "    <tr>\n",
       "      <th>0</th>\n",
       "      <td>TN</td>\n",
       "      <td>TN</td>\n",
       "      <td>1</td>\n",
       "      <td>manual</td>\n",
       "      <td>None</td>\n",
       "      <td>CT591AB86BE24D7A57</td>\n",
       "    </tr>\n",
       "    <tr>\n",
       "      <th>1</th>\n",
       "      <td>T-naïve</td>\n",
       "      <td>TN</td>\n",
       "      <td>1</td>\n",
       "      <td>manual</td>\n",
       "      <td>None</td>\n",
       "      <td>CTE283259FDAF532CC</td>\n",
       "    </tr>\n",
       "    <tr>\n",
       "      <th>2</th>\n",
       "      <td>T naïve</td>\n",
       "      <td>TN</td>\n",
       "      <td>1</td>\n",
       "      <td>manual</td>\n",
       "      <td>None</td>\n",
       "      <td>CTC08BA13585D27DA5</td>\n",
       "    </tr>\n",
       "    <tr>\n",
       "      <th>3</th>\n",
       "      <td>Tnaïve</td>\n",
       "      <td>TN</td>\n",
       "      <td>1</td>\n",
       "      <td>manual</td>\n",
       "      <td>None</td>\n",
       "      <td>CTA34535F3D8CB4079</td>\n",
       "    </tr>\n",
       "    <tr>\n",
       "      <th>4</th>\n",
       "      <td>T-naive</td>\n",
       "      <td>TN</td>\n",
       "      <td>1</td>\n",
       "      <td>manual</td>\n",
       "      <td>None</td>\n",
       "      <td>CT6D35F4BB1D4D94BF</td>\n",
       "    </tr>\n",
       "  </tbody>\n",
       "</table>\n",
       "</div>"
      ],
      "text/plain": [
       "       sym lbl  spid     src extid                  id\n",
       "0       TN  TN     1  manual  None  CT591AB86BE24D7A57\n",
       "1  T-naïve  TN     1  manual  None  CTE283259FDAF532CC\n",
       "2  T naïve  TN     1  manual  None  CTC08BA13585D27DA5\n",
       "3   Tnaïve  TN     1  manual  None  CTA34535F3D8CB4079\n",
       "4  T-naive  TN     1  manual  None  CT6D35F4BB1D4D94BF"
      ]
     },
     "execution_count": 39,
     "metadata": {},
     "output_type": "execute_result"
    }
   ],
   "source": [
    "import unidecode\n",
    "df = []\n",
    "for r in cell_types:\n",
    "    assert len(r) in [2, 3]\n",
    "    lbl, alias = r[:2]\n",
    "    parent = None if len(r) == 2 else r[2]\n",
    "    df.append((lbl, lbl))\n",
    "    for a1 in alias:\n",
    "        for a2 in [a1, unidecode.unidecode(a1)]:\n",
    "            df.append((a2, lbl))\n",
    "            df.append((a2.replace('-', ' '), lbl))\n",
    "            df.append((a2.replace('-', ''), lbl))\n",
    "df = pd.DataFrame(df, columns=['sym', 'lbl']).drop_duplicates()\n",
    "df = df.assign(spid=SPECIES_HUMAN_ID, src=SRC, extid=None)\n",
    "df['id'] = get_ids(df, ID_TYP_CT)\n",
    "df = df.drop_duplicates()\n",
    "df.head()"
   ]
  },
  {
   "cell_type": "code",
   "execution_count": 40,
   "metadata": {},
   "outputs": [
    {
     "data": {
      "text/html": [
       "<div>\n",
       "<style scoped>\n",
       "    .dataframe tbody tr th:only-of-type {\n",
       "        vertical-align: middle;\n",
       "    }\n",
       "\n",
       "    .dataframe tbody tr th {\n",
       "        vertical-align: top;\n",
       "    }\n",
       "\n",
       "    .dataframe thead th {\n",
       "        text-align: right;\n",
       "    }\n",
       "</style>\n",
       "<table border=\"1\" class=\"dataframe\">\n",
       "  <thead>\n",
       "    <tr style=\"text-align: right;\">\n",
       "      <th></th>\n",
       "      <th>sym</th>\n",
       "      <th>lbl</th>\n",
       "      <th>spid</th>\n",
       "      <th>src</th>\n",
       "      <th>extid</th>\n",
       "      <th>id</th>\n",
       "    </tr>\n",
       "  </thead>\n",
       "  <tbody>\n",
       "    <tr>\n",
       "      <th>78</th>\n",
       "      <td>T-Helper</td>\n",
       "      <td>Th</td>\n",
       "      <td>1</td>\n",
       "      <td>manual</td>\n",
       "      <td>None</td>\n",
       "      <td>CT58AC91B99EE259CE</td>\n",
       "    </tr>\n",
       "    <tr>\n",
       "      <th>79</th>\n",
       "      <td>T Helper</td>\n",
       "      <td>Th</td>\n",
       "      <td>1</td>\n",
       "      <td>manual</td>\n",
       "      <td>None</td>\n",
       "      <td>CTCC4CF8EAB76DFC68</td>\n",
       "    </tr>\n",
       "    <tr>\n",
       "      <th>80</th>\n",
       "      <td>THelper</td>\n",
       "      <td>Th</td>\n",
       "      <td>1</td>\n",
       "      <td>manual</td>\n",
       "      <td>None</td>\n",
       "      <td>CT0107866BBCD97E04</td>\n",
       "    </tr>\n",
       "    <tr>\n",
       "      <th>84</th>\n",
       "      <td>Helper-T</td>\n",
       "      <td>Th</td>\n",
       "      <td>1</td>\n",
       "      <td>manual</td>\n",
       "      <td>None</td>\n",
       "      <td>CT068AEEF38840649E</td>\n",
       "    </tr>\n",
       "    <tr>\n",
       "      <th>85</th>\n",
       "      <td>Helper T</td>\n",
       "      <td>Th</td>\n",
       "      <td>1</td>\n",
       "      <td>manual</td>\n",
       "      <td>None</td>\n",
       "      <td>CT7580C71A46994EC5</td>\n",
       "    </tr>\n",
       "    <tr>\n",
       "      <th>86</th>\n",
       "      <td>HelperT</td>\n",
       "      <td>Th</td>\n",
       "      <td>1</td>\n",
       "      <td>manual</td>\n",
       "      <td>None</td>\n",
       "      <td>CTAF0873D2974B1075</td>\n",
       "    </tr>\n",
       "    <tr>\n",
       "      <th>305</th>\n",
       "      <td>T-follicular-helper</td>\n",
       "      <td>Tfh</td>\n",
       "      <td>1</td>\n",
       "      <td>manual</td>\n",
       "      <td>None</td>\n",
       "      <td>CT521FD23411A69F7B</td>\n",
       "    </tr>\n",
       "    <tr>\n",
       "      <th>306</th>\n",
       "      <td>T follicular helper</td>\n",
       "      <td>Tfh</td>\n",
       "      <td>1</td>\n",
       "      <td>manual</td>\n",
       "      <td>None</td>\n",
       "      <td>CT5C03730892B0B7E0</td>\n",
       "    </tr>\n",
       "    <tr>\n",
       "      <th>307</th>\n",
       "      <td>Tfollicularhelper</td>\n",
       "      <td>Tfh</td>\n",
       "      <td>1</td>\n",
       "      <td>manual</td>\n",
       "      <td>None</td>\n",
       "      <td>CT10F75C923DC5D960</td>\n",
       "    </tr>\n",
       "    <tr>\n",
       "      <th>752</th>\n",
       "      <td>T-helper-0</td>\n",
       "      <td>Th0</td>\n",
       "      <td>1</td>\n",
       "      <td>manual</td>\n",
       "      <td>None</td>\n",
       "      <td>CTBD1BDE561333FA0A</td>\n",
       "    </tr>\n",
       "    <tr>\n",
       "      <th>753</th>\n",
       "      <td>T helper 0</td>\n",
       "      <td>Th0</td>\n",
       "      <td>1</td>\n",
       "      <td>manual</td>\n",
       "      <td>None</td>\n",
       "      <td>CT550BD2F6E7C9F4A6</td>\n",
       "    </tr>\n",
       "    <tr>\n",
       "      <th>754</th>\n",
       "      <td>Thelper0</td>\n",
       "      <td>Th0</td>\n",
       "      <td>1</td>\n",
       "      <td>manual</td>\n",
       "      <td>None</td>\n",
       "      <td>CT2B7FD02233168156</td>\n",
       "    </tr>\n",
       "    <tr>\n",
       "      <th>758</th>\n",
       "      <td>T helper-0</td>\n",
       "      <td>Th0</td>\n",
       "      <td>1</td>\n",
       "      <td>manual</td>\n",
       "      <td>None</td>\n",
       "      <td>CTBC9FA80EE17CA2E5</td>\n",
       "    </tr>\n",
       "    <tr>\n",
       "      <th>760</th>\n",
       "      <td>T helper0</td>\n",
       "      <td>Th0</td>\n",
       "      <td>1</td>\n",
       "      <td>manual</td>\n",
       "      <td>None</td>\n",
       "      <td>CT9A818973E0998B9E</td>\n",
       "    </tr>\n",
       "    <tr>\n",
       "      <th>771</th>\n",
       "      <td>T-helper-1</td>\n",
       "      <td>Th1</td>\n",
       "      <td>1</td>\n",
       "      <td>manual</td>\n",
       "      <td>None</td>\n",
       "      <td>CT0E1FCE053B4D59AE</td>\n",
       "    </tr>\n",
       "  </tbody>\n",
       "</table>\n",
       "</div>"
      ],
      "text/plain": [
       "                     sym  lbl  spid     src extid                  id\n",
       "78              T-Helper   Th     1  manual  None  CT58AC91B99EE259CE\n",
       "79              T Helper   Th     1  manual  None  CTCC4CF8EAB76DFC68\n",
       "80               THelper   Th     1  manual  None  CT0107866BBCD97E04\n",
       "84              Helper-T   Th     1  manual  None  CT068AEEF38840649E\n",
       "85              Helper T   Th     1  manual  None  CT7580C71A46994EC5\n",
       "86               HelperT   Th     1  manual  None  CTAF0873D2974B1075\n",
       "305  T-follicular-helper  Tfh     1  manual  None  CT521FD23411A69F7B\n",
       "306  T follicular helper  Tfh     1  manual  None  CT5C03730892B0B7E0\n",
       "307    Tfollicularhelper  Tfh     1  manual  None  CT10F75C923DC5D960\n",
       "752           T-helper-0  Th0     1  manual  None  CTBD1BDE561333FA0A\n",
       "753           T helper 0  Th0     1  manual  None  CT550BD2F6E7C9F4A6\n",
       "754             Thelper0  Th0     1  manual  None  CT2B7FD02233168156\n",
       "758           T helper-0  Th0     1  manual  None  CTBC9FA80EE17CA2E5\n",
       "760            T helper0  Th0     1  manual  None  CT9A818973E0998B9E\n",
       "771           T-helper-1  Th1     1  manual  None  CT0E1FCE053B4D59AE"
      ]
     },
     "execution_count": 40,
     "metadata": {},
     "output_type": "execute_result"
    }
   ],
   "source": [
    "df[df['sym'].str.lower().str.match('.*help.*')].head(15)"
   ]
  },
  {
   "cell_type": "code",
   "execution_count": 41,
   "metadata": {},
   "outputs": [
    {
     "data": {
      "text/plain": [
       "'/Users/eczech/repos/hammer/t-cell-relation-extraction/pm_subtype_protein_relations/data/meta/cell_types.csv'"
      ]
     },
     "execution_count": 41,
     "metadata": {},
     "output_type": "execute_result"
    }
   ],
   "source": [
    "path = osp.join(META_DATA_DIR, CELL_TYPES + '.csv')\n",
    "df.to_csv(path, index=False)\n",
    "path"
   ]
  }
 ],
 "metadata": {
  "kernelspec": {
   "display_name": "Python 3",
   "language": "python",
   "name": "python3"
  },
  "language_info": {
   "codemirror_mode": {
    "name": "ipython",
    "version": 3
   },
   "file_extension": ".py",
   "mimetype": "text/x-python",
   "name": "python",
   "nbconvert_exporter": "python",
   "pygments_lexer": "ipython3",
   "version": "3.6.7"
  }
 },
 "nbformat": 4,
 "nbformat_minor": 2
}
