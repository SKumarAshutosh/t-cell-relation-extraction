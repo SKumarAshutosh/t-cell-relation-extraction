{
 "cells": [
  {
   "cell_type": "code",
   "execution_count": 2,
   "metadata": {},
   "outputs": [],
   "source": [
    "import os\n",
    "import glob\n",
    "import os.path as osp"
   ]
  },
  {
   "cell_type": "code",
   "execution_count": 10,
   "metadata": {},
   "outputs": [],
   "source": [
    "# Snippet for finding docs in a collection above a certain ID that have no annotations\n",
    "# (and moving them to some other folder to then be brought out manually when ready to annotate)\n",
    "path = '/Users/eczech/repos/hammer/t-cell-relation-extraction/pm_subtype_protein_relations/data/brat/collection_02'\n",
    "min_doc_id = 'PMC4592272'\n",
    "\n",
    "doc_ids, annot_ids = [], []\n",
    "for f in glob.glob(osp.join(path, '*.ann')):\n",
    "    with open(f, 'r') as fd:\n",
    "        text = fd.read()\n",
    "    has_annot = '\\tCYTOKINE ' in text or '\\tTF ' in text\n",
    "    doc_id = osp.basename(f).replace('.ann', '')\n",
    "    doc_ids.append(doc_id)\n",
    "    if has_annot:\n",
    "        annot_ids.append(doc_id)\n",
    "    if doc_id > min_doc_id and not has_annot:\n",
    "        print('mv ' + doc_id + '.* unannotated/')"
   ]
  },
  {
   "cell_type": "code",
   "execution_count": 11,
   "metadata": {},
   "outputs": [
    {
     "data": {
      "text/plain": [
       "(65, 34)"
      ]
     },
     "execution_count": 11,
     "metadata": {},
     "output_type": "execute_result"
    }
   ],
   "source": [
    "len(doc_ids), len(annot_ids)"
   ]
  }
 ],
 "metadata": {
  "kernelspec": {
   "display_name": "Python 3",
   "language": "python",
   "name": "python3"
  },
  "language_info": {
   "codemirror_mode": {
    "name": "ipython",
    "version": 3
   },
   "file_extension": ".py",
   "mimetype": "text/x-python",
   "name": "python",
   "nbconvert_exporter": "python",
   "pygments_lexer": "ipython3",
   "version": "3.6.7"
  }
 },
 "nbformat": 4,
 "nbformat_minor": 2
}
