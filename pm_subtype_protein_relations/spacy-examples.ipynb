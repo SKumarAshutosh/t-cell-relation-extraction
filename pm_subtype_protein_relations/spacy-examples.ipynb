{
 "cells": [
  {
   "cell_type": "code",
   "execution_count": 2,
   "metadata": {},
   "outputs": [],
   "source": [
    "import spacy\n",
    "nlp = spacy.load('en_core_web_sm')"
   ]
  },
  {
   "cell_type": "code",
   "execution_count": 3,
   "metadata": {},
   "outputs": [
    {
     "name": "stdout",
     "output_type": "stream",
     "text": [
      "15578876784678163569 HelloWorld 0 3 Hello, world\n"
     ]
    }
   ],
   "source": [
    "import spacy\n",
    "from spacy.matcher import Matcher\n",
    "nlp = spacy.load('en_core_web_sm')\n",
    "matcher = Matcher(nlp.vocab)\n",
    "# add match ID \"HelloWorld\" with no callback and one pattern\n",
    "pattern = [{'LOWER': 'hello'}, {'IS_PUNCT': True}, {'LOWER': 'world'}]\n",
    "matcher.add('HelloWorld', None, pattern)\n",
    "\n",
    "doc = nlp(u'Hello, world! Hello world!')\n",
    "matches = matcher(doc)\n",
    "for match_id, start, end in matches:\n",
    "    string_id = nlp.vocab.strings[match_id]  # get string representation\n",
    "    span = doc[start:end]  # the matched span\n",
    "    print(match_id, string_id, start, end, span.text)"
   ]
  },
  {
   "cell_type": "code",
   "execution_count": 11,
   "metadata": {},
   "outputs": [
    {
     "name": "stdout",
     "output_type": "stream",
     "text": [
      "cell1\n",
      "tcell is cool yea [(2059642243674689797, 0, 3)]\n",
      "cell2\n",
      "hmm tcell blah [(18268513269695620102, 1, 3)]\n",
      "cell3\n",
      "tcell yea [(16253349991509699465, 0, 2)]\n",
      "cell3\n",
      "tcell nope [(16253349991509699465, 0, 2)]\n"
     ]
    }
   ],
   "source": [
    "from spacy.matcher import PhraseMatcher\n",
    "\n",
    "matcher = PhraseMatcher(nlp.vocab)\n",
    "matcher.add('cell1', None, nlp(u\"tcell is cool\"))\n",
    "matcher.add('cell2', None, nlp(u\"tcell blah\"))\n",
    "matcher.add('cell3', None, nlp(u\"tcell yea\"), nlp(u\"tcell nope\"))\n",
    "for doc in [\n",
    "    nlp(u\"tcell is cool yea\"),\n",
    "    nlp(u\"hmm tcell blah\"),\n",
    "    nlp(u\"tcell yea\"),\n",
    "    nlp(u\"tcell nope\"),\n",
    "]:\n",
    "    matches = matcher(doc)\n",
    "    match_id, start, end = matches[0]\n",
    "    print(nlp.vocab.strings[match_id])\n",
    "    print(doc.text, matches)"
   ]
  },
  {
   "cell_type": "code",
   "execution_count": 1,
   "metadata": {},
   "outputs": [
    {
     "data": {
      "text/plain": [
       "(Apple, company best-ish)"
      ]
     },
     "execution_count": 1,
     "metadata": {},
     "output_type": "execute_result"
    }
   ],
   "source": [
    "import spacy\n",
    "from spacy.pipeline import EntityRuler\n",
    "nlp = spacy.load('en_core_web_sm')\n",
    "ruler = EntityRuler(nlp, overwrite_ents=True)\n",
    "ruler.add_patterns([\n",
    "#    {\"label\": \"ORG\", \"pattern\": \"Apple\"},\n",
    "    {\"label\": \"ORG\", \"pattern\": \"Apple company\"},\n",
    "#    {\"label\": \"ORG\", \"pattern\": \"best-ish\"},\n",
    "    {\"label\": \"ORG\", \"pattern\": \"company best-ish\"},\n",
    "#    {\"label\": \"ORG\", \"pattern\": \"the Apple company\"},\n",
    "])\n",
    "doc = nlp('to the Apple company best-ish')\n",
    "doc = ruler(doc)\n",
    "doc.ents"
   ]
  },
  {
   "cell_type": "code",
   "execution_count": 19,
   "metadata": {},
   "outputs": [
    {
     "data": {
      "text/plain": [
       "[tcell, -, mediated]"
      ]
     },
     "execution_count": 19,
     "metadata": {},
     "output_type": "execute_result"
    }
   ],
   "source": [
    "list(nlp(u\"tcell-mediated\"))"
   ]
  }
 ],
 "metadata": {
  "kernelspec": {
   "display_name": "Python 3",
   "language": "python",
   "name": "python3"
  },
  "language_info": {
   "codemirror_mode": {
    "name": "ipython",
    "version": 3
   },
   "file_extension": ".py",
   "mimetype": "text/x-python",
   "name": "python",
   "nbconvert_exporter": "python",
   "pygments_lexer": "ipython3",
   "version": "3.6.7"
  }
 },
 "nbformat": 4,
 "nbformat_minor": 2
}
