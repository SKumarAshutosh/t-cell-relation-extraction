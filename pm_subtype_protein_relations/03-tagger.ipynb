{
 "cells": [
  {
   "cell_type": "code",
   "execution_count": 1,
   "metadata": {},
   "outputs": [],
   "source": [
    "import os\n",
    "import tqdm\n",
    "import os.path as osp\n",
    "import pandas as pd\n",
    "import glob\n",
    "import spacy\n",
    "%run env.py\n",
    "%run src/lib.py\n",
    "%run src/integration.py\n",
    "%run src/supervision.py\n",
    "\n",
    "fix_jupyter_spacy_config()\n",
    "\n",
    "#corpus_dir = osp.join(DATA_DIR, 'articles', 'corpus', 'corpus_00')\n",
    "#collection_dir = osp.join(REPO_DATA_DIR, 'brat', 'collection_02')\n",
    "\n",
    "corpus_dir = osp.join(DATA_DIR, 'articles', 'corpus', 'corpus_01')\n",
    "collection_dir = osp.join(REPO_DATA_DIR, 'brat', 'collection_02')\n",
    "\n",
    "corpus_docs_path = osp.join(corpus_dir, 'docs')\n",
    "corpus_links_dir = osp.join(corpus_dir, 'links')"
   ]
  },
  {
   "cell_type": "markdown",
   "metadata": {},
   "source": [
    "### Link Docs"
   ]
  },
  {
   "cell_type": "markdown",
   "metadata": {},
   "source": [
    "Link annotated documents (which should ALL be annotated when present) and unannotated docs in a single directory:"
   ]
  },
  {
   "cell_type": "code",
   "execution_count": 2,
   "metadata": {},
   "outputs": [
    {
     "name": "stdout",
     "output_type": "stream",
     "text": [
      "Found 10000 unnannotated text files\n",
      "Found 89 annotated text files\n"
     ]
    },
    {
     "data": {
      "text/plain": [
       "10089"
      ]
     },
     "execution_count": 2,
     "metadata": {},
     "output_type": "execute_result"
    }
   ],
   "source": [
    "files = []\n",
    "# Add unannotated text files and THEN annotated text files as links will overwrite\n",
    "f = glob.glob(osp.join(corpus_docs_path, '*.txt'))\n",
    "assert f, 'No unannotated text files found'\n",
    "print('Found {} unnannotated text files'.format(len(f)))\n",
    "files.extend(f)\n",
    "f = glob.glob(osp.join(collection_dir, '*.txt'))\n",
    "assert f, 'No annotated text files found'\n",
    "print('Found {} annotated text files'.format(len(f)))\n",
    "files.extend(f)\n",
    "len(files)"
   ]
  },
  {
   "cell_type": "code",
   "execution_count": 3,
   "metadata": {},
   "outputs": [],
   "source": [
    "# Clear existing linked files\n",
    "for f in glob.glob(osp.join(corpus_links_dir, '*.txt')):\n",
    "    if osp.islink(f):\n",
    "        os.unlink(f)\n",
    "!ls -q $corpus_links_dir/*.txt 2> /dev/null"
   ]
  },
  {
   "cell_type": "code",
   "execution_count": 4,
   "metadata": {},
   "outputs": [
    {
     "name": "stdout",
     "output_type": "stream",
     "text": [
      "Linked 10089 files in /Users/eczech/data/research/hammer/nlp/20190311-pubmed-tcell-relation/articles/corpus/corpus_01/links\n"
     ]
    }
   ],
   "source": [
    "# Add new links\n",
    "corpus_files = []\n",
    "for f in files:\n",
    "    if not osp.exists(corpus_links_dir):\n",
    "        os.makedirs(corpus_links_dir)\n",
    "    path = osp.join(corpus_links_dir, osp.basename(f))\n",
    "    # Overwrite despite initial clearing as docs from annotation\n",
    "    # directory are preferred\n",
    "    if osp.exists(path):\n",
    "        os.unlink(path)\n",
    "    os.symlink(f, path)\n",
    "    corpus_files.append(path)\n",
    "print('Linked {} files in {}'.format(len(corpus_files), corpus_links_dir))"
   ]
  },
  {
   "cell_type": "markdown",
   "metadata": {},
   "source": [
    "### Define Pipeline"
   ]
  },
  {
   "cell_type": "code",
   "execution_count": 56,
   "metadata": {},
   "outputs": [
    {
     "data": {
      "text/plain": [
       "[('tagger', <spacy.pipeline.pipes.Tagger at 0x155dffbe0>),\n",
       " ('parser', <spacy.pipeline.pipes.DependencyParser at 0x138297588>),\n",
       " ('ner', <spacy.pipeline.pipes.EntityRecognizer at 0x14504c408>)]"
      ]
     },
     "execution_count": 56,
     "metadata": {},
     "output_type": "execute_result"
    }
   ],
   "source": [
    "nlp = get_scispacy_pipeline()\n",
    "nlp.pipeline"
   ]
  },
  {
   "cell_type": "code",
   "execution_count": 57,
   "metadata": {},
   "outputs": [],
   "source": [
    "class EntityFilter(object):\n",
    "    name = 'filter'\n",
    "    \n",
    "    def __init__(self, types):\n",
    "        self.types = types\n",
    "        \n",
    "    def __call__(self, doc):\n",
    "        if self.types is None:\n",
    "            return doc\n",
    "        doc.ents = [e for e in doc.ents if e.label_ in self.types]\n",
    "        return doc\n",
    "    \n",
    "if nlp.has_pipe(EntityFilter.name):\n",
    "    nlp.remove_pipe(EntityFilter.name)\n",
    "#nlp.add_pipe(EntityFilter(['CELL_TYPE', 'CELL_LINE', 'PROTEIN']), last=True)\n",
    "nlp.add_pipe(EntityFilter(['CELL_TYPE', 'CELL_LINE']), after='ner')"
   ]
  },
  {
   "cell_type": "code",
   "execution_count": 98,
   "metadata": {},
   "outputs": [],
   "source": [
    "from spacy.tokens import Doc\n",
    "\n",
    "def copy_ent(ent):\n",
    "    return dict(\n",
    "        type=ent.label_,\n",
    "        meta=ent._.meta if hasattr(ent._, 'meta') else None,\n",
    "        start_chr=ent.start_char,\n",
    "        end_chr=ent.end_char,\n",
    "        start_wrd=ent.start,\n",
    "        end_wrd=ent.end,\n",
    "        text=ent.text\n",
    "    )\n",
    "\n",
    "class EntityRelocator(object):\n",
    "    \n",
    "    def __init__(self, attr):\n",
    "        self.attr = attr\n",
    "        if not Doc.has_extension(attr):\n",
    "            Doc.set_extension(attr, default=None)\n",
    "\n",
    "    def __call__(self, doc):\n",
    "        setattr(doc._, self.attr, [copy_ent(e) for e in doc.ents])\n",
    "        doc.ents = []\n",
    "        return doc\n",
    "\n",
    "if nlp.has_pipe('reloc_jnlpba'):\n",
    "    nlp.remove_pipe('reloc_jnlpba')\n",
    "nlp.add_pipe(EntityRelocator('ents_jnlpba'), after=EntityFilter.name, name='reloc_jnlpba')"
   ]
  },
  {
   "cell_type": "code",
   "execution_count": 99,
   "metadata": {},
   "outputs": [],
   "source": [
    "from spacy.pipeline import EntityRuler\n",
    "from spacy.tokens import Span\n",
    "\n",
    "if not Span.has_extension('meta'):\n",
    "    Span.set_extension('meta', default=None)\n",
    "\n",
    "class EntityRefiner(object):\n",
    "    name = 'refiner'\n",
    "    \n",
    "    def __init__(self, nlp, df):\n",
    "        self.ruler = EntityRuler(nlp, overwrite_ents=True)\n",
    "        self.df = df.copy().set_index('id')\n",
    "        patterns = []\n",
    "        for rid, r in self.df.iterrows():\n",
    "            # TODO: add match types into meta data frames\n",
    "            tokens = nlp.tokenizer(r['sym']) # returns Doc\n",
    "            pattern = [{'lower': t.lower_} for t in tokens]\n",
    "                \n",
    "            # Assign label as record id (e.g. \"CKBF6003C60D23BA0D\")\n",
    "            patterns.append({'label': rid, 'pattern': pattern})\n",
    "        self.ruler.add_patterns(patterns)\n",
    "        \n",
    "    def __call__(self, doc):\n",
    "        doc = self.ruler(doc)\n",
    "        ents = []\n",
    "        for ent in doc.ents:\n",
    "            if ent.label_ not in self.df.index:\n",
    "                ents.append(ent)\n",
    "                continue\n",
    "            # Convert label of span from record id to entity type \n",
    "            # (e.g. CKBF6003C60D23BA0D -> CYTOKINE)\n",
    "            r = self.df.loc[ent.label_]\n",
    "            rid = ent.label_\n",
    "            ent = Span(doc, ent.start, ent.end, label=r['type'])\n",
    "            ent._.meta = dict(id=rid, prefid=r['prefid'], lbl=r['lbl'])\n",
    "            ents.append(ent)\n",
    "        doc.ents = ents\n",
    "        return doc \n",
    "\n",
    "df = pd.concat([\n",
    "    get_entity_meta_data(CYTOKINES).assign(type=ENT_TYP_CK),\n",
    "    get_entity_meta_data(TRANSCRIPTION_FACTORS).assign(type=ENT_TYP_TF),\n",
    "    get_entity_meta_data(CELL_TYPES).assign(type=ENT_TYP_CT)\n",
    "], sort=True)\n",
    "if nlp.has_pipe(EntityRefiner.name):\n",
    "    nlp.remove_pipe(EntityRefiner.name)\n",
    "nlp.add_pipe(EntityRefiner(nlp, df), after='reloc_jnlpba')"
   ]
  },
  {
   "cell_type": "code",
   "execution_count": 100,
   "metadata": {},
   "outputs": [],
   "source": [
    "if nlp.has_pipe('reloc_lkp'):\n",
    "    nlp.remove_pipe('reloc_lkp')\n",
    "nlp.add_pipe(EntityRelocator('ents_lkp'), after=EntityRefiner.name, name='reloc_lkp')"
   ]
  },
  {
   "cell_type": "code",
   "execution_count": 101,
   "metadata": {},
   "outputs": [
    {
     "data": {
      "text/plain": [
       "[('tagger', <spacy.pipeline.pipes.Tagger at 0x155dffbe0>),\n",
       " ('parser', <spacy.pipeline.pipes.DependencyParser at 0x138297588>),\n",
       " ('ner', <spacy.pipeline.pipes.EntityRecognizer at 0x14504c408>),\n",
       " ('filter', <__main__.EntityFilter at 0x148c124e0>),\n",
       " ('reloc_jnlpba', <__main__.EntityRelocator at 0x14bbc0c88>),\n",
       " ('refiner', <__main__.EntityRefiner at 0x14bba1ba8>),\n",
       " ('reloc_lkp', <__main__.EntityRelocator at 0x156090be0>)]"
      ]
     },
     "execution_count": 101,
     "metadata": {},
     "output_type": "execute_result"
    }
   ],
   "source": [
    "nlp.pipeline"
   ]
  },
  {
   "cell_type": "code",
   "execution_count": 102,
   "metadata": {},
   "outputs": [],
   "source": [
    "# doc = nlp('Some T-helper-17 cells secreting IL2 and STAT3 where CD4 is expressed on surface of antigen-presenting DCs')"
   ]
  },
  {
   "cell_type": "code",
   "execution_count": 103,
   "metadata": {},
   "outputs": [],
   "source": [
    "from collections import OrderedDict\n",
    "from spacy.tokens import Doc\n",
    "if not Doc.has_extension('pmc_id'):\n",
    "    Doc.set_extension('pmc_id', default=None)\n",
    "    \n",
    "def to_df(doc):\n",
    "    df = []\n",
    "    ents = [(e, 'jnlpba') for e in doc._.ents_jnlpba] + [(e, 'lkp') for e in doc._.ents_lkp]\n",
    "    for ent, src in ents:\n",
    "        meta = ent['meta'] or {}\n",
    "        df.append({\n",
    "            **dict(\n",
    "                id=doc._.pmc_id, \n",
    "                ent_id=meta.get('id'),\n",
    "                ent_lbl=meta.get('lbl'),\n",
    "                ent_prefid=meta.get('prefid'),\n",
    "                ent_src=src\n",
    "            ),\n",
    "            **{k:v for k, v in ent.items() if k != 'meta'}\n",
    "        })\n",
    "    return pd.DataFrame(df)"
   ]
  },
  {
   "cell_type": "code",
   "execution_count": 105,
   "metadata": {},
   "outputs": [],
   "source": [
    "# #doc = nlp('The Vγ4 T lymphocyte subset predominated among the IL-17+ cell populations and the TCM in the lungs of CLP mice (unlike Vγ1 and αβ T lymphocytes) and was strongly biased toward IL-17 rather than toward IFN-γ production')\n",
    "# doc = nlp(u'We found this occurred through the activation of tumor-infiltrating, exhausted CD8+ T cells (CD8+ TILs) that had lost most of the original functions, such as the ability to produce multiple cytokines and cytotoxicity. CD8+ TILs of mice exposed to Met begin to rapidly produce multiple cytokines, including interleukin-2 (IL-2), tumor necrosis factor alpha (TNFα), and interferon gamma (IFNγ), and differentiate into effector memory T cells (TEM); otherwise, central memory T cells (TCM) are dominant in the tumor microenvironment')\n",
    "# to_df(doc)"
   ]
  },
  {
   "cell_type": "code",
   "execution_count": 106,
   "metadata": {},
   "outputs": [],
   "source": [
    "#df[(df['ent_src'] == 'jnlpba') & (df['ent_id'].notnull())].head()"
   ]
  },
  {
   "cell_type": "code",
   "execution_count": 35,
   "metadata": {},
   "outputs": [],
   "source": [
    "# path = '/Users/eczech/data/research/hammer/nlp/20190311-pubmed-tcell-relation/articles/corpus/corpus_01/links/PMC5704053.txt'\n",
    "# doc = None\n",
    "# with open(path, 'r') as fd:\n",
    "#     text = fd.read()\n",
    "#     doc = nlp(text)\n",
    "#     #doc._.pmc_id = osp.basename(path).replace('.txt', '')"
   ]
  },
  {
   "cell_type": "code",
   "execution_count": 9,
   "metadata": {},
   "outputs": [],
   "source": [
    "#nlp.pipeline[-1][1].ck_tagger.df.loc['TGF-β']"
   ]
  },
  {
   "cell_type": "code",
   "execution_count": 10,
   "metadata": {},
   "outputs": [],
   "source": [
    "# with open(osp.join(output_corpus_dir, 'PMC3925027.txt'), 'r') as fd:\n",
    "#     doc = fd.read()\n",
    "#doc = nlp(doc)\n",
    "#spacy.displacy.render(doc, style='ent', jupyter=True)"
   ]
  },
  {
   "cell_type": "markdown",
   "metadata": {},
   "source": [
    "### Run Pipeline"
   ]
  },
  {
   "cell_type": "code",
   "execution_count": 15,
   "metadata": {},
   "outputs": [],
   "source": [
    "def text_stream(files):\n",
    "    for f in tqdm.tqdm_notebook(files):\n",
    "        doc_id = osp.basename(f).replace('.txt', '')\n",
    "        with open(f, 'r') as fd:\n",
    "            text = fd.read()\n",
    "            # Clip to max length to avoid error like\n",
    "            # ValueError: [E088] Text of length 1290071 exceeds maximum of 1000000\n",
    "            if len(text) > nlp.max_length:\n",
    "                text = text[:nlp.max_length]\n",
    "            yield text, {'doc_id': doc_id}\n",
    "    \n",
    "def doc_stream(files):\n",
    "    for doc, ctx in nlp.pipe(text_stream(files), as_tuples=True, n_threads=3, batch_size=10):\n",
    "        doc._.pmc_id = ctx['doc_id']\n",
    "        yield doc\n",
    "\n",
    "def frame_stream(files):\n",
    "    for doc in doc_stream(files):\n",
    "        yield to_df(doc)"
   ]
  },
  {
   "cell_type": "code",
   "execution_count": 19,
   "metadata": {},
   "outputs": [
    {
     "data": {
      "application/vnd.jupyter.widget-view+json": {
       "model_id": "006925bec1e4450094ea8049a7082cdd",
       "version_major": 2,
       "version_minor": 0
      },
      "text/plain": [
       "HBox(children=(IntProgress(value=0, max=10089), HTML(value='')))"
      ]
     },
     "metadata": {},
     "output_type": "display_data"
    },
    {
     "name": "stdout",
     "output_type": "stream",
     "text": [
      "\n",
      "<class 'pandas.core.frame.DataFrame'>\n",
      "Int64Index: 2311011 entries, 0 to 170\n",
      "Data columns (total 11 columns):\n",
      "id            object\n",
      "type          object\n",
      "ent_id        object\n",
      "ent_lbl       object\n",
      "ent_prefid    object\n",
      "ent_src       object\n",
      "start_chr     int64\n",
      "end_chr       int64\n",
      "start_wrd     int64\n",
      "end_wrd       int64\n",
      "text          object\n",
      "dtypes: int64(4), object(7)\n",
      "memory usage: 211.6+ MB\n"
     ]
    }
   ],
   "source": [
    "pd.set_options('display.max_info_rows', 10000000)\n",
    "df = pd.concat(list(frame_stream(corpus_files)))\n",
    "df.info()"
   ]
  },
  {
   "cell_type": "code",
   "execution_count": 25,
   "metadata": {},
   "outputs": [
    {
     "name": "stdout",
     "output_type": "stream",
     "text": [
      "<class 'pandas.core.frame.DataFrame'>\n",
      "Int64Index: 2311011 entries, 0 to 170\n",
      "Data columns (total 11 columns):\n",
      "id            2311011 non-null object\n",
      "type          2311011 non-null object\n",
      "ent_id        987781 non-null object\n",
      "ent_lbl       987781 non-null object\n",
      "ent_prefid    987781 non-null object\n",
      "ent_src       2311011 non-null object\n",
      "start_chr     2311011 non-null int64\n",
      "end_chr       2311011 non-null int64\n",
      "start_wrd     2311011 non-null int64\n",
      "end_wrd       2311011 non-null int64\n",
      "text          2311011 non-null object\n",
      "dtypes: int64(4), object(7)\n",
      "memory usage: 211.6+ MB\n"
     ]
    }
   ],
   "source": [
    "# df[(df['ent_src'] == 'jnlpba') & (df['ent_id'].notnull())].head()"
   ]
  },
  {
   "cell_type": "code",
   "execution_count": 74,
   "metadata": {},
   "outputs": [],
   "source": [
    "# files = [f for f in corpus_files if 'PMC5591438' in f]\n",
    "# docs = [d for d in doc_stream(files)]"
   ]
  },
  {
   "cell_type": "code",
   "execution_count": 73,
   "metadata": {},
   "outputs": [],
   "source": [
    "# # spacy.displacy.render(docs[3], style='ent', jupyter=True)\n",
    "# spacy.displacy.render(\n",
    "#     [doc for doc in docs], \n",
    "#     style='ent', jupyter=True, options=DISPLACY_ENT_OPTS\n",
    "# )"
   ]
  },
  {
   "cell_type": "markdown",
   "metadata": {},
   "source": [
    "### Tag Export"
   ]
  },
  {
   "cell_type": "code",
   "execution_count": 27,
   "metadata": {},
   "outputs": [
    {
     "name": "stdout",
     "output_type": "stream",
     "text": [
      "<class 'pandas.core.frame.DataFrame'>\n",
      "Int64Index: 2311011 entries, 0 to 170\n",
      "Data columns (total 11 columns):\n",
      "id            2311011 non-null object\n",
      "type          2311011 non-null object\n",
      "ent_id        987781 non-null object\n",
      "ent_lbl       987781 non-null object\n",
      "ent_prefid    987781 non-null object\n",
      "ent_src       2311011 non-null object\n",
      "start_chr     2311011 non-null int64\n",
      "end_chr       2311011 non-null int64\n",
      "start_wrd     2311011 non-null int64\n",
      "end_wrd       2311011 non-null int64\n",
      "text          2311011 non-null object\n",
      "dtypes: int64(4), object(7)\n",
      "memory usage: 211.6+ MB\n"
     ]
    }
   ],
   "source": [
    "pd.set_option('display.max_info_rows', 10000000)\n",
    "df.info()"
   ]
  },
  {
   "cell_type": "code",
   "execution_count": 24,
   "metadata": {},
   "outputs": [
    {
     "data": {
      "text/plain": [
       "'/Users/eczech/data/research/hammer/nlp/20190311-pubmed-tcell-relation/articles/corpus/corpus_01/tags-union.csv'"
      ]
     },
     "execution_count": 24,
     "metadata": {},
     "output_type": "execute_result"
    }
   ],
   "source": [
    "path = osp.join(corpus_dir, 'tags.csv')\n",
    "df.to_csv(path, index=False)\n",
    "path"
   ]
  },
  {
   "cell_type": "markdown",
   "metadata": {},
   "source": [
    "### Relation Export\n",
    "\n",
    "Export relations to be used to generate gold labellings within Snorkel"
   ]
  },
  {
   "cell_type": "code",
   "execution_count": 18,
   "metadata": {},
   "outputs": [],
   "source": [
    "from bratreader.repomodel import RepoModel\n",
    "repo_model = RepoModel(collection_dir)"
   ]
  },
  {
   "cell_type": "code",
   "execution_count": 19,
   "metadata": {},
   "outputs": [
    {
     "data": {
      "text/plain": [
       "89"
      ]
     },
     "execution_count": 19,
     "metadata": {},
     "output_type": "execute_result"
    }
   ],
   "source": [
    "len(repo_model.documents)"
   ]
  },
  {
   "cell_type": "code",
   "execution_count": 24,
   "metadata": {},
   "outputs": [],
   "source": [
    "# repo_model.documents.keys()"
   ]
  },
  {
   "cell_type": "code",
   "execution_count": 25,
   "metadata": {},
   "outputs": [],
   "source": [
    "# doc = repo_model.documents['PMC2646571']\n",
    "# annot = doc.annotations[1]"
   ]
  },
  {
   "cell_type": "code",
   "execution_count": 26,
   "metadata": {},
   "outputs": [],
   "source": [
    "# annot.labels, annot.links, annot.realspan, annot.spans, annot.repr, annot.words"
   ]
  },
  {
   "cell_type": "code",
   "execution_count": 27,
   "metadata": {},
   "outputs": [],
   "source": [
    "# doc.key"
   ]
  },
  {
   "cell_type": "code",
   "execution_count": 20,
   "metadata": {},
   "outputs": [
    {
     "data": {
      "text/html": [
       "<div>\n",
       "<style scoped>\n",
       "    .dataframe tbody tr th:only-of-type {\n",
       "        vertical-align: middle;\n",
       "    }\n",
       "\n",
       "    .dataframe tbody tr th {\n",
       "        vertical-align: top;\n",
       "    }\n",
       "\n",
       "    .dataframe thead th {\n",
       "        text-align: right;\n",
       "    }\n",
       "</style>\n",
       "<table border=\"1\" class=\"dataframe\">\n",
       "  <thead>\n",
       "    <tr style=\"text-align: right;\">\n",
       "      <th></th>\n",
       "      <th>e1_end_chr</th>\n",
       "      <th>e1_start_chr</th>\n",
       "      <th>e1_text</th>\n",
       "      <th>e1_typ</th>\n",
       "      <th>e2_end_chr</th>\n",
       "      <th>e2_start_chr</th>\n",
       "      <th>e2_text</th>\n",
       "      <th>e2_typ</th>\n",
       "      <th>id</th>\n",
       "      <th>rel_typ</th>\n",
       "    </tr>\n",
       "  </thead>\n",
       "  <tbody>\n",
       "    <tr>\n",
       "      <th>0</th>\n",
       "      <td>24</td>\n",
       "      <td>19</td>\n",
       "      <td>Gfi-1</td>\n",
       "      <td>TRANSCRIPTION_FACTOR</td>\n",
       "      <td>85</td>\n",
       "      <td>81</td>\n",
       "      <td>Th17</td>\n",
       "      <td>IMMUNE_CELL_TYPE</td>\n",
       "      <td>PMC2646571</td>\n",
       "      <td>Differentiation</td>\n",
       "    </tr>\n",
       "    <tr>\n",
       "      <th>1</th>\n",
       "      <td>44</td>\n",
       "      <td>39</td>\n",
       "      <td>TGF-β</td>\n",
       "      <td>CYTOKINE</td>\n",
       "      <td>85</td>\n",
       "      <td>81</td>\n",
       "      <td>Th17</td>\n",
       "      <td>IMMUNE_CELL_TYPE</td>\n",
       "      <td>PMC2646571</td>\n",
       "      <td>Induction</td>\n",
       "    </tr>\n",
       "    <tr>\n",
       "      <th>2</th>\n",
       "      <td>44</td>\n",
       "      <td>39</td>\n",
       "      <td>TGF-β</td>\n",
       "      <td>CYTOKINE</td>\n",
       "      <td>119</td>\n",
       "      <td>97</td>\n",
       "      <td>inducible regulatory T</td>\n",
       "      <td>IMMUNE_CELL_TYPE</td>\n",
       "      <td>PMC2646571</td>\n",
       "      <td>Induction</td>\n",
       "    </tr>\n",
       "    <tr>\n",
       "      <th>3</th>\n",
       "      <td>24</td>\n",
       "      <td>19</td>\n",
       "      <td>Gfi-1</td>\n",
       "      <td>TRANSCRIPTION_FACTOR</td>\n",
       "      <td>119</td>\n",
       "      <td>97</td>\n",
       "      <td>inducible regulatory T</td>\n",
       "      <td>IMMUNE_CELL_TYPE</td>\n",
       "      <td>PMC2646571</td>\n",
       "      <td>Differentiation</td>\n",
       "    </tr>\n",
       "    <tr>\n",
       "      <th>8</th>\n",
       "      <td>371</td>\n",
       "      <td>366</td>\n",
       "      <td>Gfi-1</td>\n",
       "      <td>TRANSCRIPTION_FACTOR</td>\n",
       "      <td>436</td>\n",
       "      <td>433</td>\n",
       "      <td>Th2</td>\n",
       "      <td>IMMUNE_CELL_TYPE</td>\n",
       "      <td>PMC2646571</td>\n",
       "      <td>Differentiation</td>\n",
       "    </tr>\n",
       "  </tbody>\n",
       "</table>\n",
       "</div>"
      ],
      "text/plain": [
       "   e1_end_chr  e1_start_chr e1_text                e1_typ  e2_end_chr  \\\n",
       "0          24            19   Gfi-1  TRANSCRIPTION_FACTOR          85   \n",
       "1          44            39   TGF-β              CYTOKINE          85   \n",
       "2          44            39   TGF-β              CYTOKINE         119   \n",
       "3          24            19   Gfi-1  TRANSCRIPTION_FACTOR         119   \n",
       "8         371           366   Gfi-1  TRANSCRIPTION_FACTOR         436   \n",
       "\n",
       "   e2_start_chr                 e2_text            e2_typ          id  \\\n",
       "0            81                    Th17  IMMUNE_CELL_TYPE  PMC2646571   \n",
       "1            81                    Th17  IMMUNE_CELL_TYPE  PMC2646571   \n",
       "2            97  inducible regulatory T  IMMUNE_CELL_TYPE  PMC2646571   \n",
       "3            97  inducible regulatory T  IMMUNE_CELL_TYPE  PMC2646571   \n",
       "8           433                     Th2  IMMUNE_CELL_TYPE  PMC2646571   \n",
       "\n",
       "           rel_typ  \n",
       "0  Differentiation  \n",
       "1        Induction  \n",
       "2        Induction  \n",
       "3  Differentiation  \n",
       "8  Differentiation  "
      ]
     },
     "execution_count": 20,
     "metadata": {},
     "output_type": "execute_result"
    }
   ],
   "source": [
    "def get_relations(doc):\n",
    "    relations = []\n",
    "    \n",
    "    # Map from entity type label used in annotation to label used within snorkel\n",
    "    ent_typ_map = {\n",
    "        'TF': ENT_TYP_TF,\n",
    "        'CELL_TYPE': ENT_TYP_CT,\n",
    "        'CYTOKINE': ENT_TYP_CK\n",
    "    }\n",
    "    \n",
    "    for a2 in doc.annotations:\n",
    "        # Links only exist as INCOMING links meaning that a2 is the target of relations\n",
    "        # and a1 will be the source\n",
    "        if a2.links:\n",
    "            for relation_type, annots in a2.links.items():\n",
    "                for a1 in annots:\n",
    "                    assert len(a1.labels) == len(a2.labels) == 1\n",
    "                    a2_typ = ent_typ_map[list(a2.labels.keys())[0]]\n",
    "                    \n",
    "                    # For consistency with snorkel convention, ensure that the second\n",
    "                    # value in relation entry is the cell type and all others are first\n",
    "                    e1, e2 = a1, a2\n",
    "                    if a2_typ != ENT_TYP_CT:\n",
    "                        e1, e2 = a2, a1\n",
    "                    \n",
    "                    relations.append(dict(\n",
    "                        id=doc.key,\n",
    "                        rel_typ=relation_type, \n",
    "                        e1_typ=ent_typ_map[list(e1.labels.keys())[0]], \n",
    "                        e1_start_chr=e1.realspan[0], \n",
    "                        e1_end_chr=e1.realspan[1], \n",
    "                        e1_text=e1.repr,\n",
    "                        e2_typ=ent_typ_map[list(e2.labels.keys())[0]], \n",
    "                        e2_start_chr=e2.realspan[0], \n",
    "                        e2_end_chr=e2.realspan[1], \n",
    "                        e2_text=e2.repr\n",
    "                    ))\n",
    "    return relations\n",
    "df = pd.DataFrame([r for k, doc in repo_model.documents.items() for r in get_relations(doc)])\n",
    "df = df.drop_duplicates()\n",
    "df.head()"
   ]
  },
  {
   "cell_type": "code",
   "execution_count": 21,
   "metadata": {},
   "outputs": [
    {
     "data": {
      "text/plain": [
       "e1_typ                e2_typ            rel_typ        \n",
       "CYTOKINE              IMMUNE_CELL_TYPE  Induction          150\n",
       "                                        Secretion          131\n",
       "TRANSCRIPTION_FACTOR  IMMUNE_CELL_TYPE  Differentiation    119\n",
       "dtype: int64"
      ]
     },
     "execution_count": 21,
     "metadata": {},
     "output_type": "execute_result"
    }
   ],
   "source": [
    "df.groupby(['e1_typ', 'e2_typ', 'rel_typ']).size()"
   ]
  },
  {
   "cell_type": "code",
   "execution_count": 22,
   "metadata": {},
   "outputs": [],
   "source": [
    "#df_exp[df_exp['id'] == 'PMC3304099']"
   ]
  },
  {
   "cell_type": "markdown",
   "metadata": {},
   "source": [
    "# Export"
   ]
  },
  {
   "cell_type": "code",
   "execution_count": 23,
   "metadata": {},
   "outputs": [
    {
     "data": {
      "text/plain": [
       "'/Users/eczech/data/research/hammer/nlp/20190311-pubmed-tcell-relation/articles/corpus/corpus_01/relations.csv'"
      ]
     },
     "execution_count": 23,
     "metadata": {},
     "output_type": "execute_result"
    }
   ],
   "source": [
    "path = osp.join(corpus_dir, 'relations.csv')\n",
    "df.to_csv(path, index=False)\n",
    "path"
   ]
  },
  {
   "cell_type": "markdown",
   "metadata": {},
   "source": [
    "<hr>\n",
    "\n",
    "### Tag EDA"
   ]
  },
  {
   "cell_type": "code",
   "execution_count": 17,
   "metadata": {},
   "outputs": [
    {
     "data": {
      "text/html": [
       "<div>\n",
       "<style scoped>\n",
       "    .dataframe tbody tr th:only-of-type {\n",
       "        vertical-align: middle;\n",
       "    }\n",
       "\n",
       "    .dataframe tbody tr th {\n",
       "        vertical-align: top;\n",
       "    }\n",
       "\n",
       "    .dataframe thead th {\n",
       "        text-align: right;\n",
       "    }\n",
       "</style>\n",
       "<table border=\"1\" class=\"dataframe\">\n",
       "  <thead>\n",
       "    <tr style=\"text-align: right;\">\n",
       "      <th></th>\n",
       "      <th>id</th>\n",
       "      <th>type</th>\n",
       "      <th>ent_id</th>\n",
       "      <th>ent_lbl</th>\n",
       "      <th>ent_prefid</th>\n",
       "      <th>start_chr</th>\n",
       "      <th>end_chr</th>\n",
       "      <th>start_wrd</th>\n",
       "      <th>end_wrd</th>\n",
       "      <th>text</th>\n",
       "    </tr>\n",
       "  </thead>\n",
       "  <tbody>\n",
       "    <tr>\n",
       "      <th>0</th>\n",
       "      <td>PMC5704053</td>\n",
       "      <td>PROTEIN</td>\n",
       "      <td>NaN</td>\n",
       "      <td>NaN</td>\n",
       "      <td>NaN</td>\n",
       "      <td>15</td>\n",
       "      <td>18</td>\n",
       "      <td>2</td>\n",
       "      <td>3</td>\n",
       "      <td>CD4</td>\n",
       "    </tr>\n",
       "    <tr>\n",
       "      <th>1</th>\n",
       "      <td>PMC5704053</td>\n",
       "      <td>IMMUNE_CELL_TYPE</td>\n",
       "      <td>CT30BC86BDEF7B1410</td>\n",
       "      <td>Treg</td>\n",
       "      <td>CTB574584AD019ABB8</td>\n",
       "      <td>26</td>\n",
       "      <td>38</td>\n",
       "      <td>7</td>\n",
       "      <td>9</td>\n",
       "      <td>Regulatory T</td>\n",
       "    </tr>\n",
       "    <tr>\n",
       "      <th>2</th>\n",
       "      <td>PMC5704053</td>\n",
       "      <td>IMMUNE_CELL_TYPE</td>\n",
       "      <td>CT30BC86BDEF7B1410</td>\n",
       "      <td>Treg</td>\n",
       "      <td>CTB574584AD019ABB8</td>\n",
       "      <td>125</td>\n",
       "      <td>137</td>\n",
       "      <td>29</td>\n",
       "      <td>31</td>\n",
       "      <td>regulatory T</td>\n",
       "    </tr>\n",
       "    <tr>\n",
       "      <th>3</th>\n",
       "      <td>PMC5704053</td>\n",
       "      <td>IMMUNE_CELL_TYPE</td>\n",
       "      <td>CTB574584AD019ABB8</td>\n",
       "      <td>Treg</td>\n",
       "      <td>CTB574584AD019ABB8</td>\n",
       "      <td>145</td>\n",
       "      <td>149</td>\n",
       "      <td>33</td>\n",
       "      <td>34</td>\n",
       "      <td>Treg</td>\n",
       "    </tr>\n",
       "    <tr>\n",
       "      <th>4</th>\n",
       "      <td>PMC5704053</td>\n",
       "      <td>IMMUNE_CELL_TYPE</td>\n",
       "      <td>CTB574584AD019ABB8</td>\n",
       "      <td>Treg</td>\n",
       "      <td>CTB574584AD019ABB8</td>\n",
       "      <td>327</td>\n",
       "      <td>331</td>\n",
       "      <td>63</td>\n",
       "      <td>64</td>\n",
       "      <td>Treg</td>\n",
       "    </tr>\n",
       "  </tbody>\n",
       "</table>\n",
       "</div>"
      ],
      "text/plain": [
       "           id              type              ent_id ent_lbl  \\\n",
       "0  PMC5704053           PROTEIN                 NaN     NaN   \n",
       "1  PMC5704053  IMMUNE_CELL_TYPE  CT30BC86BDEF7B1410    Treg   \n",
       "2  PMC5704053  IMMUNE_CELL_TYPE  CT30BC86BDEF7B1410    Treg   \n",
       "3  PMC5704053  IMMUNE_CELL_TYPE  CTB574584AD019ABB8    Treg   \n",
       "4  PMC5704053  IMMUNE_CELL_TYPE  CTB574584AD019ABB8    Treg   \n",
       "\n",
       "           ent_prefid  start_chr  end_chr  start_wrd  end_wrd          text  \n",
       "0                 NaN         15       18          2        3           CD4  \n",
       "1  CTB574584AD019ABB8         26       38          7        9  Regulatory T  \n",
       "2  CTB574584AD019ABB8        125      137         29       31  regulatory T  \n",
       "3  CTB574584AD019ABB8        145      149         33       34          Treg  \n",
       "4  CTB574584AD019ABB8        327      331         63       64          Treg  "
      ]
     },
     "execution_count": 17,
     "metadata": {},
     "output_type": "execute_result"
    }
   ],
   "source": [
    "import pandas as pd\n",
    "import os.path as osp\n",
    "df = pd.read_csv(osp.join(corpus_dir, 'tags.csv'))\n",
    "df.head()"
   ]
  },
  {
   "cell_type": "code",
   "execution_count": 18,
   "metadata": {},
   "outputs": [
    {
     "data": {
      "text/plain": [
       "PROTEIN                 1606895\n",
       "CELL_TYPE                884900\n",
       "CYTOKINE                 484597\n",
       "IMMUNE_CELL_TYPE         314554\n",
       "CELL_LINE                260458\n",
       "TRANSCRIPTION_FACTOR     245369\n",
       "DNA                      188429\n",
       "RNA                       21828\n",
       "Name: type, dtype: int64"
      ]
     },
     "execution_count": 18,
     "metadata": {},
     "output_type": "execute_result"
    }
   ],
   "source": [
    "df['type'].value_counts()"
   ]
  },
  {
   "cell_type": "code",
   "execution_count": 8,
   "metadata": {},
   "outputs": [
    {
     "data": {
      "text/plain": [
       "ent_lbl\n",
       "FOXP3     23967\n",
       "IRF6      16963\n",
       "TCF23     11217\n",
       "STAT3      9437\n",
       "TBX21      9248\n",
       "MSC        9005\n",
       "RORC       7044\n",
       "NR1H4      5626\n",
       "NR1I3      5278\n",
       "AHR        5193\n",
       "GATA3      4762\n",
       "STAT1      3398\n",
       "BCL6       2709\n",
       "PRDM6      2656\n",
       "MYC        2523\n",
       "IRF4       2504\n",
       "TP53       2418\n",
       "EOMES      2390\n",
       "PRDM1      2241\n",
       "MIXL1      2172\n",
       "SPI1       2016\n",
       "STAT5A     1879\n",
       "STAT6      1846\n",
       "FOXO1      1824\n",
       "NFATC1     1774\n",
       "STAT5B     1767\n",
       "CHAMP1     1760\n",
       "RUNX1      1739\n",
       "IRF8       1721\n",
       "VDR        1706\n",
       "RELA       1659\n",
       "STAT4      1604\n",
       "MAF        1526\n",
       "JUN        1520\n",
       "TWIST1     1466\n",
       "dtype: int64"
      ]
     },
     "execution_count": 8,
     "metadata": {},
     "output_type": "execute_result"
    }
   ],
   "source": [
    "(\n",
    "    df\n",
    "    .pipe(lambda df: df[df['type'] == ENT_TYP_TF])\n",
    "    .groupby('ent_lbl').size()\n",
    "    .sort_values(ascending=False)\n",
    "    .head(35)\n",
    ")"
   ]
  },
  {
   "cell_type": "code",
   "execution_count": 18,
   "metadata": {},
   "outputs": [
    {
     "data": {
      "text/plain": [
       "id          ent_lbl  text\n",
       "PMC5653749  RELA     P65     95\n",
       "PMC4734616  RELA     RELA    41\n",
       "PMC5425596  RELA     P65     40\n",
       "PMC3959705  RELA     P65     31\n",
       "PMC2196335  RELA     RELA    25\n",
       "PMC3201209  RELA     P65     25\n",
       "PMC4698632  RELA     P65     23\n",
       "PMC4920892  RELA     RELA    22\n",
       "PMC5758647  RELA     P65     21\n",
       "PMC3024268  RELA     P65     21\n",
       "PMC3911989  RELA     P65     20\n",
       "PMC4450757  RELA     P65     18\n",
       "PMC4821646  RELA     RELA    18\n",
       "PMC4506511  RELA     P65     16\n",
       "PMC6369217  RELA     P65     16\n",
       "dtype: int64"
      ]
     },
     "execution_count": 18,
     "metadata": {},
     "output_type": "execute_result"
    }
   ],
   "source": [
    "(\n",
    "    df\n",
    "    .pipe(lambda df: df[df['type'] == ENT_TYP_TF])\n",
    "    .pipe(lambda df: df[df['ent_lbl'] == 'RELA'])\n",
    "    .assign(text=lambda df: df['text'].str.upper())\n",
    "    .groupby(['id', 'ent_lbl', 'text'])\n",
    "    .size().sort_values(ascending=False)   \n",
    "    .head(15)\n",
    ")"
   ]
  },
  {
   "cell_type": "code",
   "execution_count": 21,
   "metadata": {},
   "outputs": [],
   "source": [
    "#!cat $corpus_dir/docs/PMC4734616.txt"
   ]
  }
 ],
 "metadata": {
  "kernelspec": {
   "display_name": "Python 3",
   "language": "python",
   "name": "python3"
  },
  "language_info": {
   "codemirror_mode": {
    "name": "ipython",
    "version": 3
   },
   "file_extension": ".py",
   "mimetype": "text/x-python",
   "name": "python",
   "nbconvert_exporter": "python",
   "pygments_lexer": "ipython3",
   "version": "3.6.8"
  }
 },
 "nbformat": 4,
 "nbformat_minor": 2
}
