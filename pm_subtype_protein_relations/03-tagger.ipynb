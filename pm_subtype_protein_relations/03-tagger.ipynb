{
 "cells": [
  {
   "cell_type": "code",
   "execution_count": 1,
   "metadata": {},
   "outputs": [],
   "source": [
    "import os\n",
    "import tqdm\n",
    "import os.path as osp\n",
    "import pandas as pd\n",
    "import glob\n",
    "import spacy\n",
    "%run env.py\n",
    "%run src/lib.py\n",
    "%run src/integration.py\n",
    "fix_jupyter_spacy_config()\n",
    "corpus_dir = osp.join(DATA_DIR, 'articles', 'corpus', 'corpus_00')\n",
    "collection_dir = osp.join(REPO_DATA_DIR, 'brat', 'collection_01')\n",
    "corpus_docs_path = osp.join(corpus_dir, 'docs')\n",
    "corpus_links_dir = osp.join(corpus_dir, 'links')"
   ]
  },
  {
   "cell_type": "code",
   "execution_count": 2,
   "metadata": {},
   "outputs": [
    {
     "name": "stdout",
     "output_type": "stream",
     "text": [
      "Found 500 unnannotated text files\n",
      "Found 10 annotated text files\n"
     ]
    },
    {
     "data": {
      "text/plain": [
       "510"
      ]
     },
     "execution_count": 2,
     "metadata": {},
     "output_type": "execute_result"
    }
   ],
   "source": [
    "files = []\n",
    "# Add unannotated text files and THEN annotated text files as links will overwrite\n",
    "f = glob.glob(osp.join(corpus_docs_path, '*.txt'))\n",
    "assert f, 'No unannotated text files found'\n",
    "print('Found {} unnannotated text files'.format(len(f)))\n",
    "files.extend(f)\n",
    "f = glob.glob(osp.join(collection_dir, '*.txt'))\n",
    "assert f, 'No annotated text files found'\n",
    "print('Found {} annotated text files'.format(len(f)))\n",
    "files.extend(f)\n",
    "len(files)"
   ]
  },
  {
   "cell_type": "code",
   "execution_count": 3,
   "metadata": {},
   "outputs": [
    {
     "name": "stdout",
     "output_type": "stream",
     "text": [
      "Linked 510 files in /Users/eczech/data/research/hammer/nlp/20190311-pubmed-tcell-relation/articles/corpus/corpus_00/links\n"
     ]
    }
   ],
   "source": [
    "corpus_files = []\n",
    "for f in files:\n",
    "    if not osp.exists(corpus_links_dir):\n",
    "        os.makedirs(corpus_links_dir)\n",
    "    path = osp.join(corpus_links_dir, osp.basename(f))\n",
    "    if osp.exists(path):\n",
    "        os.unlink(path)\n",
    "    os.symlink(f, path)\n",
    "    corpus_files.append(path)\n",
    "print('Linked {} files in {}'.format(len(corpus_files), corpus_links_dir))"
   ]
  },
  {
   "cell_type": "code",
   "execution_count": 5,
   "metadata": {},
   "outputs": [
    {
     "data": {
      "text/plain": [
       "[('tagger', <spacy.pipeline.Tagger at 0x11f53a4a8>),\n",
       " ('parser', <spacy.pipeline.DependencyParser at 0x11f566d58>),\n",
       " ('ner', <spacy.pipeline.EntityRecognizer at 0x12a4068e0>)]"
      ]
     },
     "execution_count": 5,
     "metadata": {},
     "output_type": "execute_result"
    }
   ],
   "source": [
    "nlp = get_scispacy_pipeline()\n",
    "nlp.pipeline"
   ]
  },
  {
   "cell_type": "code",
   "execution_count": 10,
   "metadata": {},
   "outputs": [],
   "source": [
    "from spacy.tokens import Span\n",
    "from spacy.matcher import PhraseMatcher\n",
    "from interlap import InterLap\n",
    "\n",
    "if not Span.has_extension('ent_typ_id'):\n",
    "    Span.set_extension('ent_typ_id', default=None)\n",
    "if not Span.has_extension('ent_typ_lbl'):\n",
    "    Span.set_extension('ent_typ_lbl', default=None)\n",
    "    \n",
    "def merge_fn_keep_longest_interval(intervals):\n",
    "    \"\"\"Choose longest interval from given list of (start, end, data) tuples\"\"\"\n",
    "    return sorted(intervals, key=lambda v: v[1]-v[0])[-1]\n",
    "\n",
    "class EntityMatcher(object):\n",
    "    \"\"\"Entity matcher with overlap resolution\"\"\"\n",
    "    \n",
    "    def __init__(self, nlp, terms, label):\n",
    "        patterns = [nlp.make_doc(text) for text in terms]\n",
    "        self.matcher = PhraseMatcher(nlp.vocab)\n",
    "        self.matcher.add(label, None, *patterns)\n",
    "\n",
    "    def __call__(self, doc):\n",
    "        # Loop through tokens and do exact lookup on normalized, known labels\n",
    "        matches = self.matcher(doc)\n",
    "        \n",
    "        spans = IntervalMergingDict(merge_fn_keep_longest_interval)\n",
    "        for match_id, start, end in matches:\n",
    "            # Note that inverval overlap detection is done with inclusive right and left\n",
    "            # boundaries and the end index from matching is always exclusive so for interval\n",
    "            # overlap detection to work, 1 should be subtracted from right side index\n",
    "            spans.add(start, end-1, Span(doc, start, end, label=match_id)) \n",
    "        # Sort results by start index and extract span objects\n",
    "        spans = [s[1] for s in sorted(spans.items(), key=lambda e: e[0])]\n",
    "        doc.ents = list(doc.ents) + spans\n",
    "        return doc \n",
    "    \n",
    "def _get_matcher_terms(values):\n",
    "    return [v for s in values for v in [s.lower(), s.upper(), s.title(), s]]\n",
    "\n",
    "class EntityTagger(object):\n",
    "\n",
    "    def __init__(self, nlp, entity_type, label):\n",
    "        df = get_entity_meta_data(entity_type)\n",
    "        self.matcher = EntityMatcher(nlp, df['sym'].unique(), label)\n",
    "        self.label = nlp.vocab.strings[label]\n",
    "        self.entity_type = entity_type\n",
    "        self.df = df.set_index('sym')\n",
    "\n",
    "    def __call__(self, doc):\n",
    "        # Attach metadata properties to matched entities\n",
    "        doc = self.matcher(doc)\n",
    "        for ent in doc.ents:\n",
    "            if ent.label != self.label:\n",
    "                continue\n",
    "            #print(self.entity_type, ent.text, ent.label)\n",
    "            r = self.df.loc[ent.text]\n",
    "            ent._.ent_typ_id = r['id']\n",
    "            ent._.ent_typ_lbl = r['lbl']\n",
    "        return doc \n",
    "    \n",
    "class EntityRefiner(object):\n",
    "    name = 'refiner'\n",
    "    \n",
    "    def __init__(self, nlp):\n",
    "        self.ck_tagger = EntityTagger(nlp, 'cytokines', 'CYTOKINE')\n",
    "        self.tf_tagger = EntityTagger(nlp, 'transcription_factors', 'TF')\n",
    "        self.ct_tagger = EntityTagger(nlp, 'cell_types', 'CELL_TYPE')\n",
    "        \n",
    "    def __call__(self, doc):\n",
    "        # Reset entities\n",
    "        doc.ents = list()\n",
    "        doc = self.ck_tagger(doc)\n",
    "        doc = self.tf_tagger(doc)\n",
    "        doc = self.ct_tagger(doc)\n",
    "        return doc \n",
    "\n",
    "if nlp.has_pipe(EntityRefiner.name):\n",
    "    nlp.remove_pipe(EntityRefiner.name)\n",
    "nlp.add_pipe(EntityRefiner(nlp), last=True)"
   ]
  },
  {
   "cell_type": "code",
   "execution_count": 11,
   "metadata": {},
   "outputs": [],
   "source": [
    "#nlp.pipeline[-1][1].ck_tagger.df.loc['TGF-β']"
   ]
  },
  {
   "cell_type": "code",
   "execution_count": 12,
   "metadata": {},
   "outputs": [],
   "source": [
    "# with open(osp.join(output_corpus_dir, 'PMC3925027.txt'), 'r') as fd:\n",
    "#     doc = fd.read()\n",
    "#doc = nlp(doc)\n",
    "#spacy.displacy.render(doc, style='ent', jupyter=True)"
   ]
  },
  {
   "cell_type": "code",
   "execution_count": 13,
   "metadata": {},
   "outputs": [
    {
     "name": "stderr",
     "output_type": "stream",
     "text": [
      "100%|██████████| 510/510 [05:48<00:00,  3.21it/s]\n"
     ]
    }
   ],
   "source": [
    "from spacy.tokens import Doc\n",
    "if not Doc.has_extension('pmc_id'):\n",
    "    Doc.set_extension('pmc_id', default=None)\n",
    "    \n",
    "def get_docs():\n",
    "    for f in tqdm.tqdm(corpus_files):\n",
    "        with open(f, 'r') as fd:\n",
    "            text = fd.read()\n",
    "            try:\n",
    "                doc = nlp(text)\n",
    "                doc._.pmc_id = osp.basename(f).replace('.txt', '')\n",
    "                yield doc\n",
    "            except:\n",
    "                print('Failed to process doc at {}'.format(f))\n",
    "                raise\n",
    "docs = [d for d in get_docs()]"
   ]
  },
  {
   "cell_type": "code",
   "execution_count": 19,
   "metadata": {},
   "outputs": [],
   "source": [
    "# spacy.displacy.render(docs[3], style='ent', jupyter=True)"
   ]
  },
  {
   "cell_type": "markdown",
   "metadata": {},
   "source": [
    "### Tag Export"
   ]
  },
  {
   "cell_type": "code",
   "execution_count": 20,
   "metadata": {},
   "outputs": [
    {
     "data": {
      "text/html": [
       "<div>\n",
       "<style scoped>\n",
       "    .dataframe tbody tr th:only-of-type {\n",
       "        vertical-align: middle;\n",
       "    }\n",
       "\n",
       "    .dataframe tbody tr th {\n",
       "        vertical-align: top;\n",
       "    }\n",
       "\n",
       "    .dataframe thead th {\n",
       "        text-align: right;\n",
       "    }\n",
       "</style>\n",
       "<table border=\"1\" class=\"dataframe\">\n",
       "  <thead>\n",
       "    <tr style=\"text-align: right;\">\n",
       "      <th></th>\n",
       "      <th>id</th>\n",
       "      <th>type</th>\n",
       "      <th>ent_typ_id</th>\n",
       "      <th>ent_typ_lbl</th>\n",
       "      <th>start_chr</th>\n",
       "      <th>end_chr</th>\n",
       "      <th>start_wrd</th>\n",
       "      <th>end_wrd</th>\n",
       "      <th>text</th>\n",
       "    </tr>\n",
       "  </thead>\n",
       "  <tbody>\n",
       "    <tr>\n",
       "      <th>0</th>\n",
       "      <td>PMC5743442</td>\n",
       "      <td>CELL_TYPE</td>\n",
       "      <td>CTBFBDE5121B6748D1</td>\n",
       "      <td>Th17</td>\n",
       "      <td>65</td>\n",
       "      <td>69</td>\n",
       "      <td>8</td>\n",
       "      <td>9</td>\n",
       "      <td>Th17</td>\n",
       "    </tr>\n",
       "    <tr>\n",
       "      <th>1</th>\n",
       "      <td>PMC5743442</td>\n",
       "      <td>CELL_TYPE</td>\n",
       "      <td>CTBFBDE5121B6748D1</td>\n",
       "      <td>Th17</td>\n",
       "      <td>87</td>\n",
       "      <td>91</td>\n",
       "      <td>11</td>\n",
       "      <td>12</td>\n",
       "      <td>Th17</td>\n",
       "    </tr>\n",
       "    <tr>\n",
       "      <th>2</th>\n",
       "      <td>PMC5743442</td>\n",
       "      <td>CYTOKINE</td>\n",
       "      <td>CK1C5A7BDC959D1365</td>\n",
       "      <td>TGF-β1</td>\n",
       "      <td>174</td>\n",
       "      <td>179</td>\n",
       "      <td>25</td>\n",
       "      <td>26</td>\n",
       "      <td>TGF-β</td>\n",
       "    </tr>\n",
       "    <tr>\n",
       "      <th>3</th>\n",
       "      <td>PMC5743442</td>\n",
       "      <td>CELL_TYPE</td>\n",
       "      <td>CTBFBDE5121B6748D1</td>\n",
       "      <td>Th17</td>\n",
       "      <td>199</td>\n",
       "      <td>203</td>\n",
       "      <td>29</td>\n",
       "      <td>30</td>\n",
       "      <td>Th17</td>\n",
       "    </tr>\n",
       "    <tr>\n",
       "      <th>4</th>\n",
       "      <td>PMC5743442</td>\n",
       "      <td>CYTOKINE</td>\n",
       "      <td>CK1C5A7BDC959D1365</td>\n",
       "      <td>TGF-β1</td>\n",
       "      <td>275</td>\n",
       "      <td>280</td>\n",
       "      <td>42</td>\n",
       "      <td>43</td>\n",
       "      <td>TGF-β</td>\n",
       "    </tr>\n",
       "  </tbody>\n",
       "</table>\n",
       "</div>"
      ],
      "text/plain": [
       "           id       type          ent_typ_id ent_typ_lbl  start_chr  end_chr  \\\n",
       "0  PMC5743442  CELL_TYPE  CTBFBDE5121B6748D1        Th17         65       69   \n",
       "1  PMC5743442  CELL_TYPE  CTBFBDE5121B6748D1        Th17         87       91   \n",
       "2  PMC5743442   CYTOKINE  CK1C5A7BDC959D1365      TGF-β1        174      179   \n",
       "3  PMC5743442  CELL_TYPE  CTBFBDE5121B6748D1        Th17        199      203   \n",
       "4  PMC5743442   CYTOKINE  CK1C5A7BDC959D1365      TGF-β1        275      280   \n",
       "\n",
       "   start_wrd  end_wrd   text  \n",
       "0          8        9   Th17  \n",
       "1         11       12   Th17  \n",
       "2         25       26  TGF-β  \n",
       "3         29       30   Th17  \n",
       "4         42       43  TGF-β  "
      ]
     },
     "execution_count": 20,
     "metadata": {},
     "output_type": "execute_result"
    }
   ],
   "source": [
    "from collections import OrderedDict\n",
    "df = pd.DataFrame([\n",
    "    OrderedDict(\n",
    "        id=doc._.pmc_id, type=ent.label_, \n",
    "        ent_typ_id=ent._.ent_typ_id, ent_typ_lbl=ent._.ent_typ_lbl,\n",
    "        start_chr=ent.start_char, end_chr=ent.end_char, \n",
    "        start_wrd=ent.start, end_wrd=ent.end, \n",
    "        text=ent.text\n",
    "    ) \n",
    "    for doc in docs \n",
    "    for ent in doc.ents\n",
    "])\n",
    "df.head()"
   ]
  },
  {
   "cell_type": "code",
   "execution_count": 21,
   "metadata": {},
   "outputs": [
    {
     "data": {
      "text/plain": [
       "'/Users/eczech/data/research/hammer/nlp/20190311-pubmed-tcell-relation/articles/corpus/corpus_00/tags.csv'"
      ]
     },
     "execution_count": 21,
     "metadata": {},
     "output_type": "execute_result"
    }
   ],
   "source": [
    "path = osp.join(corpus_dir, 'tags.csv')\n",
    "df.to_csv(path, index=False)\n",
    "path"
   ]
  },
  {
   "cell_type": "markdown",
   "metadata": {},
   "source": [
    "### Relation Export"
   ]
  },
  {
   "cell_type": "code",
   "execution_count": 22,
   "metadata": {},
   "outputs": [],
   "source": [
    "from bratreader.repomodel import RepoModel\n",
    "\n",
    "repo_model = RepoModel(collection_dir)"
   ]
  },
  {
   "cell_type": "code",
   "execution_count": 23,
   "metadata": {},
   "outputs": [
    {
     "data": {
      "text/plain": [
       "dict_keys(['PMC2646571', 'PMC3304099', 'PMC2634967', 'PMC2193209', 'PMC3095633', 'PMC3189223', 'PMC3235500', 'PMC3173465', 'PMC3046151', 'PMC2938478'])"
      ]
     },
     "execution_count": 23,
     "metadata": {},
     "output_type": "execute_result"
    }
   ],
   "source": [
    "repo_model.documents.keys()"
   ]
  },
  {
   "cell_type": "code",
   "execution_count": 24,
   "metadata": {},
   "outputs": [],
   "source": [
    "doc = repo_model.documents['PMC2646571']\n",
    "annot = doc.annotations[1]"
   ]
  },
  {
   "cell_type": "code",
   "execution_count": 25,
   "metadata": {},
   "outputs": [
    {
     "data": {
      "text/plain": [
       "(defaultdict(list, {'CYTOKINE': []}),\n",
       " defaultdict(list, {}),\n",
       " (39, 44),\n",
       " [[39, 44]],\n",
       " 'TGF-β',\n",
       " [<bratreader.word.Word at 0x202958f60>])"
      ]
     },
     "execution_count": 25,
     "metadata": {},
     "output_type": "execute_result"
    }
   ],
   "source": [
    "annot.labels, annot.links, annot.realspan, annot.spans, annot.repr, annot.words"
   ]
  },
  {
   "cell_type": "code",
   "execution_count": 26,
   "metadata": {},
   "outputs": [
    {
     "data": {
      "text/plain": [
       "'PMC2646571'"
      ]
     },
     "execution_count": 26,
     "metadata": {},
     "output_type": "execute_result"
    }
   ],
   "source": [
    "doc.key"
   ]
  },
  {
   "cell_type": "code",
   "execution_count": 46,
   "metadata": {},
   "outputs": [
    {
     "data": {
      "text/html": [
       "<div>\n",
       "<style scoped>\n",
       "    .dataframe tbody tr th:only-of-type {\n",
       "        vertical-align: middle;\n",
       "    }\n",
       "\n",
       "    .dataframe tbody tr th {\n",
       "        vertical-align: top;\n",
       "    }\n",
       "\n",
       "    .dataframe thead th {\n",
       "        text-align: right;\n",
       "    }\n",
       "</style>\n",
       "<table border=\"1\" class=\"dataframe\">\n",
       "  <thead>\n",
       "    <tr style=\"text-align: right;\">\n",
       "      <th></th>\n",
       "      <th>e1_end_chr</th>\n",
       "      <th>e1_start_chr</th>\n",
       "      <th>e1_text</th>\n",
       "      <th>e1_typ</th>\n",
       "      <th>e2_end_chr</th>\n",
       "      <th>e2_start_chr</th>\n",
       "      <th>e2_text</th>\n",
       "      <th>e2_typ</th>\n",
       "      <th>id</th>\n",
       "      <th>rel_typ</th>\n",
       "    </tr>\n",
       "  </thead>\n",
       "  <tbody>\n",
       "    <tr>\n",
       "      <th>0</th>\n",
       "      <td>24</td>\n",
       "      <td>19</td>\n",
       "      <td>Gfi-1</td>\n",
       "      <td>TF</td>\n",
       "      <td>85</td>\n",
       "      <td>81</td>\n",
       "      <td>Th17</td>\n",
       "      <td>CELL_TYPE</td>\n",
       "      <td>PMC2646571</td>\n",
       "      <td>Differentiation</td>\n",
       "    </tr>\n",
       "    <tr>\n",
       "      <th>1</th>\n",
       "      <td>44</td>\n",
       "      <td>39</td>\n",
       "      <td>TGF-β</td>\n",
       "      <td>CYTOKINE</td>\n",
       "      <td>85</td>\n",
       "      <td>81</td>\n",
       "      <td>Th17</td>\n",
       "      <td>CELL_TYPE</td>\n",
       "      <td>PMC2646571</td>\n",
       "      <td>Induction</td>\n",
       "    </tr>\n",
       "    <tr>\n",
       "      <th>2</th>\n",
       "      <td>44</td>\n",
       "      <td>39</td>\n",
       "      <td>TGF-β</td>\n",
       "      <td>CYTOKINE</td>\n",
       "      <td>125</td>\n",
       "      <td>90</td>\n",
       "      <td>CD103+ inducible regulatory T cells</td>\n",
       "      <td>CELL_TYPE</td>\n",
       "      <td>PMC2646571</td>\n",
       "      <td>Induction</td>\n",
       "    </tr>\n",
       "    <tr>\n",
       "      <th>3</th>\n",
       "      <td>24</td>\n",
       "      <td>19</td>\n",
       "      <td>Gfi-1</td>\n",
       "      <td>TF</td>\n",
       "      <td>125</td>\n",
       "      <td>90</td>\n",
       "      <td>CD103+ inducible regulatory T cells</td>\n",
       "      <td>CELL_TYPE</td>\n",
       "      <td>PMC2646571</td>\n",
       "      <td>Differentiation</td>\n",
       "    </tr>\n",
       "    <tr>\n",
       "      <th>12</th>\n",
       "      <td>371</td>\n",
       "      <td>366</td>\n",
       "      <td>Gfi-1</td>\n",
       "      <td>TF</td>\n",
       "      <td>436</td>\n",
       "      <td>433</td>\n",
       "      <td>Th2</td>\n",
       "      <td>CELL_TYPE</td>\n",
       "      <td>PMC2646571</td>\n",
       "      <td>Differentiation</td>\n",
       "    </tr>\n",
       "  </tbody>\n",
       "</table>\n",
       "</div>"
      ],
      "text/plain": [
       "    e1_end_chr  e1_start_chr e1_text    e1_typ  e2_end_chr  e2_start_chr  \\\n",
       "0           24            19   Gfi-1        TF          85            81   \n",
       "1           44            39   TGF-β  CYTOKINE          85            81   \n",
       "2           44            39   TGF-β  CYTOKINE         125            90   \n",
       "3           24            19   Gfi-1        TF         125            90   \n",
       "12         371           366   Gfi-1        TF         436           433   \n",
       "\n",
       "                                e2_text     e2_typ          id  \\\n",
       "0                                  Th17  CELL_TYPE  PMC2646571   \n",
       "1                                  Th17  CELL_TYPE  PMC2646571   \n",
       "2   CD103+ inducible regulatory T cells  CELL_TYPE  PMC2646571   \n",
       "3   CD103+ inducible regulatory T cells  CELL_TYPE  PMC2646571   \n",
       "12                                  Th2  CELL_TYPE  PMC2646571   \n",
       "\n",
       "            rel_typ  \n",
       "0   Differentiation  \n",
       "1         Induction  \n",
       "2         Induction  \n",
       "3   Differentiation  \n",
       "12  Differentiation  "
      ]
     },
     "execution_count": 46,
     "metadata": {},
     "output_type": "execute_result"
    }
   ],
   "source": [
    "def get_relations(doc):\n",
    "    relations = []\n",
    "    for a2 in doc.annotations:\n",
    "        # Links only exist as INCOMING links meaning that a2 is the target of relations\n",
    "        # and a1 will be the source\n",
    "        if a2.links:\n",
    "            for relation_type, annots in a2.links.items():\n",
    "                for a1 in annots:\n",
    "                    assert len(a1.labels) == len(a2.labels) == 1\n",
    "                    relations.append(dict(\n",
    "                        id=doc.key,\n",
    "                        rel_typ=relation_type, \n",
    "                        e1_typ=list(a1.labels.keys())[0], e1_start_chr=a1.realspan[0], e1_end_chr=a1.realspan[1], e1_text=a1.repr,\n",
    "                        e2_typ=list(a2.labels.keys())[0], e2_start_chr=a2.realspan[0], e2_end_chr=a2.realspan[1], e2_text=a2.repr\n",
    "                    ))\n",
    "    return relations\n",
    "df = pd.DataFrame([r for k, doc in repo_model.documents.items() for r in get_relations(doc)])\n",
    "df = df.drop_duplicates()\n",
    "df.head()"
   ]
  },
  {
   "cell_type": "code",
   "execution_count": 49,
   "metadata": {},
   "outputs": [
    {
     "data": {
      "text/plain": [
       "e1_typ     e2_typ     rel_typ        \n",
       "CELL_TYPE  CYTOKINE   Secretion          58\n",
       "CYTOKINE   CELL_TYPE  Induction          84\n",
       "TF         CELL_TYPE  Differentiation    70\n",
       "dtype: int64"
      ]
     },
     "execution_count": 49,
     "metadata": {},
     "output_type": "execute_result"
    }
   ],
   "source": [
    "df.groupby(['e1_typ', 'e2_typ', 'rel_typ']).size()"
   ]
  },
  {
   "cell_type": "code",
   "execution_count": 36,
   "metadata": {},
   "outputs": [],
   "source": [
    "#df_exp[df_exp['id'] == 'PMC3304099']"
   ]
  },
  {
   "cell_type": "code",
   "execution_count": 50,
   "metadata": {},
   "outputs": [
    {
     "data": {
      "text/plain": [
       "'/Users/eczech/data/research/hammer/nlp/20190311-pubmed-tcell-relation/articles/corpus/corpus_00/relations.csv'"
      ]
     },
     "execution_count": 50,
     "metadata": {},
     "output_type": "execute_result"
    }
   ],
   "source": [
    "path = osp.join(corpus_dir, 'relations.csv')\n",
    "df.to_csv(path, index=False)\n",
    "path"
   ]
  }
 ],
 "metadata": {
  "kernelspec": {
   "display_name": "Python 3",
   "language": "python",
   "name": "python3"
  },
  "language_info": {
   "codemirror_mode": {
    "name": "ipython",
    "version": 3
   },
   "file_extension": ".py",
   "mimetype": "text/x-python",
   "name": "python",
   "nbconvert_exporter": "python",
   "pygments_lexer": "ipython3",
   "version": "3.6.7"
  }
 },
 "nbformat": 4,
 "nbformat_minor": 2
}
