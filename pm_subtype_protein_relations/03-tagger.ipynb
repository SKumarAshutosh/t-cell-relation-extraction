{
 "cells": [
  {
   "cell_type": "code",
   "execution_count": 9,
   "metadata": {},
   "outputs": [],
   "source": [
    "import os\n",
    "import tqdm\n",
    "import os.path as osp\n",
    "import pandas as pd\n",
    "import spacy\n",
    "%run env.py\n",
    "%run src/lib.py\n",
    "%run src/integration.py\n",
    "fix_jupyter_spacy_config()\n",
    "corpus_dir = osp.join(DATA_DIR, 'articles', 'corpus', 'corpus_00')\n",
    "corpus_docs_path = osp.join(corpus_dir, 'docs')"
   ]
  },
  {
   "cell_type": "code",
   "execution_count": 2,
   "metadata": {},
   "outputs": [
    {
     "data": {
      "text/plain": [
       "[('tagger', <spacy.pipeline.Tagger at 0x112864588>),\n",
       " ('parser', <spacy.pipeline.DependencyParser at 0x122626780>),\n",
       " ('ner', <spacy.pipeline.EntityRecognizer at 0x12d4d20f8>)]"
      ]
     },
     "execution_count": 2,
     "metadata": {},
     "output_type": "execute_result"
    }
   ],
   "source": [
    "nlp = get_scispacy_pipeline()\n",
    "nlp.pipeline"
   ]
  },
  {
   "cell_type": "code",
   "execution_count": 3,
   "metadata": {},
   "outputs": [],
   "source": [
    "from spacy.tokens import Span\n",
    "from spacy.matcher import PhraseMatcher\n",
    "\n",
    "if not Span.has_extension('ent_typ_id'):\n",
    "    Span.set_extension('ent_typ_id', default=None)\n",
    "if not Span.has_extension('ent_typ_lbl'):\n",
    "    Span.set_extension('ent_typ_lbl', default=None)\n",
    "\n",
    "class EntityMatcher(object):\n",
    "    \n",
    "    def __init__(self, nlp, terms, label):\n",
    "        patterns = [nlp.make_doc(text) for text in terms]\n",
    "        self.matcher = PhraseMatcher(nlp.vocab)\n",
    "        self.matcher.add(label, None, *patterns)\n",
    "\n",
    "    def __call__(self, doc):\n",
    "        # Loop through tokens and do exact lookup on normalized, known labels\n",
    "        matches = self.matcher(doc)\n",
    "        spans = []\n",
    "        for match_id, start, end in matches:\n",
    "            span = Span(doc, start, end, label=match_id)\n",
    "            spans.append(span)\n",
    "        doc.ents = list(doc.ents) + spans\n",
    "        return doc \n",
    "    \n",
    "def _get_matcher_terms(values):\n",
    "    return [v for s in values for v in [s.lower(), s.upper(), s.title(), s]]\n",
    "\n",
    "class EntityTagger(object):\n",
    "\n",
    "    def __init__(self, nlp, entity_type, label):\n",
    "        df = get_entity_meta_data(entity_type)\n",
    "        self.matcher = EntityMatcher(nlp, df['sym'].unique(), label)\n",
    "        self.label = nlp.vocab.strings[label]\n",
    "        self.entity_type = entity_type\n",
    "        self.df = df.set_index('sym')\n",
    "\n",
    "    def __call__(self, doc):\n",
    "        # Attach metadata properties to matched entities\n",
    "        doc = self.matcher(doc)\n",
    "        for ent in doc.ents:\n",
    "            if ent.label != self.label:\n",
    "                continue\n",
    "            #print(self.entity_type, ent.text, ent.label)\n",
    "            r = self.df.loc[ent.text]\n",
    "            ent._.ent_typ_id = r['id']\n",
    "            ent._.ent_typ_lbl = r['lbl']\n",
    "        return doc \n",
    "    \n",
    "class EntityRefiner(object):\n",
    "    name = 'refiner'\n",
    "    \n",
    "    def __init__(self, nlp):\n",
    "        self.ck_tagger = EntityTagger(nlp, 'cytokines', 'CYTOKINE')\n",
    "        self.tf_tagger = EntityTagger(nlp, 'transcription_factors', 'TF')\n",
    "        self.ct_tagger = EntityTagger(nlp, 'cell_types', 'CELL_TYPE')\n",
    "        \n",
    "    def __call__(self, doc):\n",
    "        # Reset entities\n",
    "        doc.ents = list()\n",
    "        doc = self.ck_tagger(doc)\n",
    "        doc = self.tf_tagger(doc)\n",
    "        doc = self.ct_tagger(doc)\n",
    "        return doc \n",
    "\n",
    "if nlp.has_pipe(EntityRefiner.name):\n",
    "    nlp.remove_pipe(EntityRefiner.name)\n",
    "nlp.add_pipe(EntityRefiner(nlp), last=True)"
   ]
  },
  {
   "cell_type": "code",
   "execution_count": 4,
   "metadata": {},
   "outputs": [],
   "source": [
    "#nlp.pipeline[-1][1].ck_tagger.df.loc['TGF-β']"
   ]
  },
  {
   "cell_type": "code",
   "execution_count": 5,
   "metadata": {},
   "outputs": [],
   "source": [
    "# with open(osp.join(output_corpus_dir, 'PMC3925027.txt'), 'r') as fd:\n",
    "#     doc = fd.read()\n",
    "#doc = nlp(doc)\n",
    "#spacy.displacy.render(doc, style='ent', jupyter=True)"
   ]
  },
  {
   "cell_type": "code",
   "execution_count": 6,
   "metadata": {},
   "outputs": [],
   "source": [
    "# for t in doc:\n",
    "#     if 'IL-10' in t.text:\n",
    "#         print(t)"
   ]
  },
  {
   "cell_type": "code",
   "execution_count": 7,
   "metadata": {},
   "outputs": [
    {
     "name": "stderr",
     "output_type": "stream",
     "text": [
      "100%|██████████| 500/500 [05:41<00:00,  1.46it/s]\n"
     ]
    }
   ],
   "source": [
    "from spacy.tokens import Doc\n",
    "if not Doc.has_extension('pmc_id'):\n",
    "    Doc.set_extension('pmc_id', default=None)\n",
    "    \n",
    "def get_docs():\n",
    "    files = []\n",
    "    for f in os.listdir(corpus_docs_path):\n",
    "        if not f.endswith('.txt'):\n",
    "            continue\n",
    "        files.append(osp.join(corpus_docs_path, f))\n",
    "    for f in tqdm.tqdm(files):\n",
    "        with open(f, 'r') as fd:\n",
    "            doc = nlp(fd.read())\n",
    "            doc._.pmc_id = osp.basename(f).replace('.txt', '')\n",
    "            yield doc\n",
    "docs = [d for d in get_docs()]"
   ]
  },
  {
   "cell_type": "code",
   "execution_count": 11,
   "metadata": {},
   "outputs": [
    {
     "data": {
      "text/html": [
       "<div>\n",
       "<style scoped>\n",
       "    .dataframe tbody tr th:only-of-type {\n",
       "        vertical-align: middle;\n",
       "    }\n",
       "\n",
       "    .dataframe tbody tr th {\n",
       "        vertical-align: top;\n",
       "    }\n",
       "\n",
       "    .dataframe thead th {\n",
       "        text-align: right;\n",
       "    }\n",
       "</style>\n",
       "<table border=\"1\" class=\"dataframe\">\n",
       "  <thead>\n",
       "    <tr style=\"text-align: right;\">\n",
       "      <th></th>\n",
       "      <th>id</th>\n",
       "      <th>type</th>\n",
       "      <th>ent_typ_id</th>\n",
       "      <th>ent_typ_lbl</th>\n",
       "      <th>start_chr</th>\n",
       "      <th>end_chr</th>\n",
       "      <th>start_wrd</th>\n",
       "      <th>end_wrd</th>\n",
       "      <th>text</th>\n",
       "    </tr>\n",
       "  </thead>\n",
       "  <tbody>\n",
       "    <tr>\n",
       "      <th>0</th>\n",
       "      <td>PMC5743442</td>\n",
       "      <td>CELL_TYPE</td>\n",
       "      <td>4</td>\n",
       "      <td>Th17</td>\n",
       "      <td>65</td>\n",
       "      <td>69</td>\n",
       "      <td>8</td>\n",
       "      <td>9</td>\n",
       "      <td>Th17</td>\n",
       "    </tr>\n",
       "    <tr>\n",
       "      <th>1</th>\n",
       "      <td>PMC5743442</td>\n",
       "      <td>CELL_TYPE</td>\n",
       "      <td>4</td>\n",
       "      <td>Th17</td>\n",
       "      <td>87</td>\n",
       "      <td>91</td>\n",
       "      <td>11</td>\n",
       "      <td>12</td>\n",
       "      <td>Th17</td>\n",
       "    </tr>\n",
       "    <tr>\n",
       "      <th>2</th>\n",
       "      <td>PMC5743442</td>\n",
       "      <td>CYTOKINE</td>\n",
       "      <td>81</td>\n",
       "      <td>TGF-β1</td>\n",
       "      <td>174</td>\n",
       "      <td>179</td>\n",
       "      <td>25</td>\n",
       "      <td>26</td>\n",
       "      <td>TGF-β</td>\n",
       "    </tr>\n",
       "    <tr>\n",
       "      <th>3</th>\n",
       "      <td>PMC5743442</td>\n",
       "      <td>CELL_TYPE</td>\n",
       "      <td>4</td>\n",
       "      <td>Th17</td>\n",
       "      <td>199</td>\n",
       "      <td>203</td>\n",
       "      <td>29</td>\n",
       "      <td>30</td>\n",
       "      <td>Th17</td>\n",
       "    </tr>\n",
       "    <tr>\n",
       "      <th>4</th>\n",
       "      <td>PMC5743442</td>\n",
       "      <td>CYTOKINE</td>\n",
       "      <td>81</td>\n",
       "      <td>TGF-β1</td>\n",
       "      <td>275</td>\n",
       "      <td>280</td>\n",
       "      <td>42</td>\n",
       "      <td>43</td>\n",
       "      <td>TGF-β</td>\n",
       "    </tr>\n",
       "  </tbody>\n",
       "</table>\n",
       "</div>"
      ],
      "text/plain": [
       "           id       type  ent_typ_id ent_typ_lbl  start_chr  end_chr  \\\n",
       "0  PMC5743442  CELL_TYPE           4        Th17         65       69   \n",
       "1  PMC5743442  CELL_TYPE           4        Th17         87       91   \n",
       "2  PMC5743442   CYTOKINE          81      TGF-β1        174      179   \n",
       "3  PMC5743442  CELL_TYPE           4        Th17        199      203   \n",
       "4  PMC5743442   CYTOKINE          81      TGF-β1        275      280   \n",
       "\n",
       "   start_wrd  end_wrd   text  \n",
       "0          8        9   Th17  \n",
       "1         11       12   Th17  \n",
       "2         25       26  TGF-β  \n",
       "3         29       30   Th17  \n",
       "4         42       43  TGF-β  "
      ]
     },
     "execution_count": 11,
     "metadata": {},
     "output_type": "execute_result"
    }
   ],
   "source": [
    "from collections import OrderedDict\n",
    "df_exp = pd.DataFrame([\n",
    "    OrderedDict(\n",
    "        id=doc._.pmc_id, type=ent.label_, \n",
    "        ent_typ_id=ent._.ent_typ_id, ent_typ_lbl=ent._.ent_typ_lbl,\n",
    "        start_chr=ent.start_char, end_chr=ent.end_char, \n",
    "        start_wrd=ent.start, end_wrd=ent.end, \n",
    "        text=ent.text\n",
    "    ) \n",
    "    for doc in docs \n",
    "    for ent in doc.ents\n",
    "])\n",
    "df_exp.head()"
   ]
  },
  {
   "cell_type": "code",
   "execution_count": 12,
   "metadata": {},
   "outputs": [
    {
     "data": {
      "text/plain": [
       "'/Users/eczech/data/research/hammer/nlp/20190311-pubmed-tcell-relation/articles/corpus/corpus_00/tags.csv'"
      ]
     },
     "execution_count": 12,
     "metadata": {},
     "output_type": "execute_result"
    }
   ],
   "source": [
    "path = osp.join(corpus_dir, 'tags.csv')\n",
    "df_exp.to_csv(path, index=False)\n",
    "path"
   ]
  }
 ],
 "metadata": {
  "kernelspec": {
   "display_name": "Python 3",
   "language": "python",
   "name": "python3"
  },
  "language_info": {
   "codemirror_mode": {
    "name": "ipython",
    "version": 3
   },
   "file_extension": ".py",
   "mimetype": "text/x-python",
   "name": "python",
   "nbconvert_exporter": "python",
   "pygments_lexer": "ipython3",
   "version": "3.6.7"
  }
 },
 "nbformat": 4,
 "nbformat_minor": 2
}
