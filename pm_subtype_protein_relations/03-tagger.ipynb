{
 "cells": [
  {
   "cell_type": "code",
   "execution_count": 1,
   "metadata": {},
   "outputs": [],
   "source": [
    "import os\n",
    "import tqdm\n",
    "import os.path as osp\n",
    "import pandas as pd\n",
    "import glob\n",
    "import spacy\n",
    "%run env.py\n",
    "%run src/lib.py\n",
    "%run src/integration.py\n",
    "%run src/supervision.py\n",
    "\n",
    "fix_jupyter_spacy_config()\n",
    "\n",
    "#corpus_dir = osp.join(DATA_DIR, 'articles', 'corpus', 'corpus_00')\n",
    "#collection_dir = osp.join(REPO_DATA_DIR, 'brat', 'collection_02')\n",
    "\n",
    "corpus_dir = osp.join(DATA_DIR, 'articles', 'corpus', 'corpus_01')\n",
    "collection_dir = osp.join(REPO_DATA_DIR, 'brat', 'collection_02')\n",
    "\n",
    "corpus_docs_path = osp.join(corpus_dir, 'docs')\n",
    "corpus_links_dir = osp.join(corpus_dir, 'links')"
   ]
  },
  {
   "cell_type": "markdown",
   "metadata": {},
   "source": [
    "### Link Docs"
   ]
  },
  {
   "cell_type": "markdown",
   "metadata": {},
   "source": [
    "Link annotated documents (which should ALL be annotated when present) and unannotated docs in a single directory:"
   ]
  },
  {
   "cell_type": "code",
   "execution_count": 2,
   "metadata": {},
   "outputs": [
    {
     "name": "stdout",
     "output_type": "stream",
     "text": [
      "Found 10000 unnannotated text files\n",
      "Found 89 annotated text files\n"
     ]
    },
    {
     "data": {
      "text/plain": [
       "10089"
      ]
     },
     "execution_count": 2,
     "metadata": {},
     "output_type": "execute_result"
    }
   ],
   "source": [
    "files = []\n",
    "# Add unannotated text files and THEN annotated text files as links will overwrite\n",
    "f = glob.glob(osp.join(corpus_docs_path, '*.txt'))\n",
    "assert f, 'No unannotated text files found'\n",
    "print('Found {} unnannotated text files'.format(len(f)))\n",
    "files.extend(f)\n",
    "f = glob.glob(osp.join(collection_dir, '*.txt'))\n",
    "assert f, 'No annotated text files found'\n",
    "print('Found {} annotated text files'.format(len(f)))\n",
    "files.extend(f)\n",
    "len(files)"
   ]
  },
  {
   "cell_type": "code",
   "execution_count": 3,
   "metadata": {},
   "outputs": [],
   "source": [
    "# Clear existing linked files\n",
    "for f in glob.glob(osp.join(corpus_links_dir, '*.txt')):\n",
    "    if osp.islink(f):\n",
    "        os.unlink(f)\n",
    "!ls -q $corpus_links_dir/*.txt 2> /dev/null"
   ]
  },
  {
   "cell_type": "code",
   "execution_count": 4,
   "metadata": {},
   "outputs": [
    {
     "name": "stdout",
     "output_type": "stream",
     "text": [
      "Linked 10089 files in /Users/eczech/data/research/hammer/nlp/20190311-pubmed-tcell-relation/articles/corpus/corpus_01/links\n"
     ]
    }
   ],
   "source": [
    "# Add new links\n",
    "corpus_files = []\n",
    "for f in files:\n",
    "    if not osp.exists(corpus_links_dir):\n",
    "        os.makedirs(corpus_links_dir)\n",
    "    path = osp.join(corpus_links_dir, osp.basename(f))\n",
    "    # Overwrite despite initial clearing as docs from annotation\n",
    "    # directory are preferred\n",
    "    if osp.exists(path):\n",
    "        os.unlink(path)\n",
    "    os.symlink(f, path)\n",
    "    corpus_files.append(path)\n",
    "print('Linked {} files in {}'.format(len(corpus_files), corpus_links_dir))"
   ]
  },
  {
   "cell_type": "markdown",
   "metadata": {},
   "source": [
    "### Define Pipeline"
   ]
  },
  {
   "cell_type": "code",
   "execution_count": 8,
   "metadata": {},
   "outputs": [
    {
     "data": {
      "text/plain": [
       "[('tagger', <spacy.pipeline.pipes.Tagger at 0x11dfb0208>),\n",
       " ('parser', <spacy.pipeline.pipes.DependencyParser at 0x11e0f5528>),\n",
       " ('ner', <spacy.pipeline.pipes.EntityRecognizer at 0x129229468>)]"
      ]
     },
     "execution_count": 8,
     "metadata": {},
     "output_type": "execute_result"
    }
   ],
   "source": [
    "nlp = get_scispacy_pipeline()\n",
    "nlp.pipeline"
   ]
  },
  {
   "cell_type": "code",
   "execution_count": 9,
   "metadata": {},
   "outputs": [],
   "source": [
    "from spacy.pipeline import EntityRuler\n",
    "from spacy.tokens import Span\n",
    "\n",
    "if not Span.has_extension('id'):\n",
    "    Span.set_extension('id', default=None)\n",
    "if not Span.has_extension('prefid'):\n",
    "    Span.set_extension('prefid', default=None)\n",
    "if not Span.has_extension('lbl'):\n",
    "    Span.set_extension('lbl', default=None)\n",
    "\n",
    "\n",
    "class EntityRefiner(object):\n",
    "    name = 'refiner'\n",
    "    \n",
    "    def __init__(self, nlp, df):\n",
    "        self.ruler = EntityRuler(nlp, overwrite_ents=True)\n",
    "        self.df = df.copy().set_index('id')\n",
    "        patterns = []\n",
    "        for rid, r in self.df.iterrows():\n",
    "            # TODO: add match types into meta data frames\n",
    "            # For now, make exception for common symbols to do case-sensitive match\n",
    "            if r['sym'].upper() in ['NOT', 'GENESIS', 'MINOR', 'AIM', 'OUT']:\n",
    "                pattern = [{'text': r['sym'].upper()}]\n",
    "            # Otherwise, use case-insensitive match\n",
    "            else:\n",
    "                tokens = nlp.tokenizer(r['sym']) # returns Doc\n",
    "                pattern = [{'lower': t.lower_} for t in tokens]\n",
    "                \n",
    "            # Assign label as record id (e.g. \"CKBF6003C60D23BA0D\")\n",
    "            patterns.append({'label': rid, 'pattern': pattern})\n",
    "        self.ruler.add_patterns(patterns)\n",
    "        \n",
    "    def __call__(self, doc):\n",
    "        doc = self.ruler(doc)\n",
    "        ents = []\n",
    "        for ent in doc.ents:\n",
    "            if ent.label_ not in self.df.index:\n",
    "                ents.append(ent)\n",
    "                continue\n",
    "            # Convert label of span from record id to entity type \n",
    "            # (e.g. CKBF6003C60D23BA0D -> CYTOKINE)\n",
    "            r = self.df.loc[ent.label_]\n",
    "            rid = ent.label_\n",
    "            ent = Span(doc, ent.start, ent.end, label=r['type'])\n",
    "            ent._.id = rid\n",
    "            ent._.prefid = r['prefid']\n",
    "            ent._.lbl = r['lbl']\n",
    "            ents.append(ent)\n",
    "        doc.ents = ents\n",
    "        return doc \n",
    "\n",
    "df = pd.concat([\n",
    "    get_entity_meta_data(CYTOKINES).assign(type=ENT_TYP_CK),\n",
    "    get_entity_meta_data(TRANSCRIPTION_FACTORS).assign(type=ENT_TYP_TF),\n",
    "    get_entity_meta_data(CELL_TYPES).assign(type=ENT_TYP_CT)\n",
    "], sort=True)\n",
    "if nlp.has_pipe(EntityRefiner.name):\n",
    "    nlp.remove_pipe(EntityRefiner.name)\n",
    "nlp.add_pipe(EntityRefiner(nlp, df), last=True)"
   ]
  },
  {
   "cell_type": "code",
   "execution_count": 7,
   "metadata": {},
   "outputs": [],
   "source": [
    "#doc = nlp('The Vγ4 T lymphocyte subset predominated among the IL-17+ cell populations present in the lungs of CLP mice (unlike Vγ1 and αβ T lymphocytes) and was strongly biased toward IL-17 rather than toward IFN-γ production')\n",
    "#doc.ents"
   ]
  },
  {
   "cell_type": "code",
   "execution_count": 8,
   "metadata": {},
   "outputs": [],
   "source": [
    "# #path = '/Users/eczech/data/research/hammer/nlp/20190311-pubmed-tcell-relation/articles/corpus/corpus_00/links/PMC4767817.txt'\n",
    "# path = '/Users/eczech/data/research/hammer/nlp/20190311-pubmed-tcell-relation/articles/corpus/corpus_00/links/PMC3235500.txt'\n",
    "# doc = None\n",
    "# with open(path, 'r') as fd:\n",
    "#     text = fd.read()\n",
    "#     doc = nlp(text)\n",
    "#     #doc._.pmc_id = osp.basename(path).replace('.txt', '')"
   ]
  },
  {
   "cell_type": "code",
   "execution_count": 9,
   "metadata": {},
   "outputs": [],
   "source": [
    "#nlp.pipeline[-1][1].ck_tagger.df.loc['TGF-β']"
   ]
  },
  {
   "cell_type": "code",
   "execution_count": 10,
   "metadata": {},
   "outputs": [],
   "source": [
    "# with open(osp.join(output_corpus_dir, 'PMC3925027.txt'), 'r') as fd:\n",
    "#     doc = fd.read()\n",
    "#doc = nlp(doc)\n",
    "#spacy.displacy.render(doc, style='ent', jupyter=True)"
   ]
  },
  {
   "cell_type": "markdown",
   "metadata": {},
   "source": [
    "### Run Pipeline"
   ]
  },
  {
   "cell_type": "code",
   "execution_count": null,
   "metadata": {},
   "outputs": [
    {
     "data": {
      "application/vnd.jupyter.widget-view+json": {
       "model_id": "b9d5864be60f40f2a093f7c3ed1e11d0",
       "version_major": 2,
       "version_minor": 0
      },
      "text/plain": [
       "HBox(children=(IntProgress(value=0, max=10089), HTML(value='')))"
      ]
     },
     "metadata": {},
     "output_type": "display_data"
    }
   ],
   "source": [
    "from spacy.tokens import Doc\n",
    "if not Doc.has_extension('pmc_id'):\n",
    "    Doc.set_extension('pmc_id', default=None)\n",
    "    \n",
    "def text_stream():\n",
    "    for f in tqdm.tqdm_notebook(corpus_files):\n",
    "        doc_id = osp.basename(f).replace('.txt', '')\n",
    "        with open(f, 'r') as fd:\n",
    "            text = fd.read()\n",
    "            # Clip to max length to avoid error like\n",
    "            # ValueError: [E088] Text of length 1290071 exceeds maximum of 1000000\n",
    "            if len(text) > nlp.max_length:\n",
    "                text = text[:nlp.max_length]\n",
    "            yield text, {'doc_id': doc_id}\n",
    "    \n",
    "def doc_stream():\n",
    "    for doc, ctx in nlp.pipe(text_stream(), as_tuples=True, n_threads=3, batch_size=10):\n",
    "        doc._.pmc_id = ctx['doc_id']\n",
    "        yield doc\n",
    "        \n",
    "docs = [d for d in doc_stream()]"
   ]
  },
  {
   "cell_type": "code",
   "execution_count": 11,
   "metadata": {},
   "outputs": [
    {
     "data": {
      "text/plain": [
       "10089"
      ]
     },
     "execution_count": 11,
     "metadata": {},
     "output_type": "execute_result"
    }
   ],
   "source": [
    "len(docs)"
   ]
  },
  {
   "cell_type": "code",
   "execution_count": 12,
   "metadata": {},
   "outputs": [
    {
     "data": {
      "text/html": [
       "<div class=\"entities\" style=\"line-height: 2.5; direction: ltr\">The transcription factor \n",
       "<mark class=\"entity\" style=\"background: lightred; padding: 0.45em 0.6em; margin: 0 0.25em; line-height: 1; border-radius: 0.35em; box-decoration-break: clone; -webkit-box-decoration-break: clone\">\n",
       "    musculin\n",
       "    <span style=\"font-size: 0.8em; font-weight: bold; line-height: 1; border-radius: 0.35em; text-transform: uppercase; vertical-align: middle; margin-left: 0.5rem\">TRANSCRIPTION_FACTOR</span>\n",
       "</mark>\n",
       " promotes the unidirectional development of \n",
       "<mark class=\"entity\" style=\"background: lightgreen; padding: 0.45em 0.6em; margin: 0 0.25em; line-height: 1; border-radius: 0.35em; box-decoration-break: clone; -webkit-box-decoration-break: clone\">\n",
       "    peripheral Treg\n",
       "    <span style=\"font-size: 0.8em; font-weight: bold; line-height: 1; border-radius: 0.35em; text-transform: uppercase; vertical-align: middle; margin-left: 0.5rem\">IMMUNE_CELL_TYPE</span>\n",
       "</mark>\n",
       " cells by suppressing the \n",
       "<mark class=\"entity\" style=\"background: lightgreen; padding: 0.45em 0.6em; margin: 0 0.25em; line-height: 1; border-radius: 0.35em; box-decoration-break: clone; -webkit-box-decoration-break: clone\">\n",
       "    TH2\n",
       "    <span style=\"font-size: 0.8em; font-weight: bold; line-height: 1; border-radius: 0.35em; text-transform: uppercase; vertical-align: middle; margin-left: 0.5rem\">IMMUNE_CELL_TYPE</span>\n",
       "</mark>\n",
       " transcriptional program.</br></br>Although the master transcription factors (TFs) are the key to the development of specific T cell subsets, whether additional transcriptional regulators are induced by the same stimuli that dominantly repress development of other T cell lineages has not been fully elucidated. Using \n",
       "<mark class=\"entity\" style=\"background: lightblue; padding: 0.45em 0.6em; margin: 0 0.25em; line-height: 1; border-radius: 0.35em; box-decoration-break: clone; -webkit-box-decoration-break: clone\">\n",
       "    Transforming growth factor-β\n",
       "    <span style=\"font-size: 0.8em; font-weight: bold; line-height: 1; border-radius: 0.35em; text-transform: uppercase; vertical-align: middle; margin-left: 0.5rem\">CYTOKINE</span>\n",
       "</mark>\n",
       " (\n",
       "<mark class=\"entity\" style=\"background: lightblue; padding: 0.45em 0.6em; margin: 0 0.25em; line-height: 1; border-radius: 0.35em; box-decoration-break: clone; -webkit-box-decoration-break: clone\">\n",
       "    TGF-β\n",
       "    <span style=\"font-size: 0.8em; font-weight: bold; line-height: 1; border-radius: 0.35em; text-transform: uppercase; vertical-align: middle; margin-left: 0.5rem\">CYTOKINE</span>\n",
       "</mark>\n",
       ") \n",
       "<mark class=\"entity\" style=\"background: lightgreen; padding: 0.45em 0.6em; margin: 0 0.25em; line-height: 1; border-radius: 0.35em; box-decoration-break: clone; -webkit-box-decoration-break: clone\">\n",
       "    induced regulatory T\n",
       "    <span style=\"font-size: 0.8em; font-weight: bold; line-height: 1; border-radius: 0.35em; text-transform: uppercase; vertical-align: middle; margin-left: 0.5rem\">IMMUNE_CELL_TYPE</span>\n",
       "</mark>\n",
       " cell (\n",
       "<mark class=\"entity\" style=\"background: lightgreen; padding: 0.45em 0.6em; margin: 0 0.25em; line-height: 1; border-radius: 0.35em; box-decoration-break: clone; -webkit-box-decoration-break: clone\">\n",
       "    iTreg\n",
       "    <span style=\"font-size: 0.8em; font-weight: bold; line-height: 1; border-radius: 0.35em; text-transform: uppercase; vertical-align: middle; margin-left: 0.5rem\">IMMUNE_CELL_TYPE</span>\n",
       "</mark>\n",
       ") system, we identify the TF \n",
       "<mark class=\"entity\" style=\"background: lightred; padding: 0.45em 0.6em; margin: 0 0.25em; line-height: 1; border-radius: 0.35em; box-decoration-break: clone; -webkit-box-decoration-break: clone\">\n",
       "    Musculin\n",
       "    <span style=\"font-size: 0.8em; font-weight: bold; line-height: 1; border-radius: 0.35em; text-transform: uppercase; vertical-align: middle; margin-left: 0.5rem\">TRANSCRIPTION_FACTOR</span>\n",
       "</mark>\n",
       " (\n",
       "<mark class=\"entity\" style=\"background: lightred; padding: 0.45em 0.6em; margin: 0 0.25em; line-height: 1; border-radius: 0.35em; box-decoration-break: clone; -webkit-box-decoration-break: clone\">\n",
       "    MSC\n",
       "    <span style=\"font-size: 0.8em; font-weight: bold; line-height: 1; border-radius: 0.35em; text-transform: uppercase; vertical-align: middle; margin-left: 0.5rem\">TRANSCRIPTION_FACTOR</span>\n",
       "</mark>\n",
       ") as critical for \n",
       "<mark class=\"entity\" style=\"background: lightgreen; padding: 0.45em 0.6em; margin: 0 0.25em; line-height: 1; border-radius: 0.35em; box-decoration-break: clone; -webkit-box-decoration-break: clone\">\n",
       "    iTreg\n",
       "    <span style=\"font-size: 0.8em; font-weight: bold; line-height: 1; border-radius: 0.35em; text-transform: uppercase; vertical-align: middle; margin-left: 0.5rem\">IMMUNE_CELL_TYPE</span>\n",
       "</mark>\n",
       " development by repression of \n",
       "<mark class=\"entity\" style=\"background: lightgreen; padding: 0.45em 0.6em; margin: 0 0.25em; line-height: 1; border-radius: 0.35em; box-decoration-break: clone; -webkit-box-decoration-break: clone\">\n",
       "    TH2\n",
       "    <span style=\"font-size: 0.8em; font-weight: bold; line-height: 1; border-radius: 0.35em; text-transform: uppercase; vertical-align: middle; margin-left: 0.5rem\">IMMUNE_CELL_TYPE</span>\n",
       "</mark>\n",
       " transcriptional program. Loss of \n",
       "<mark class=\"entity\" style=\"background: lightred; padding: 0.45em 0.6em; margin: 0 0.25em; line-height: 1; border-radius: 0.35em; box-decoration-break: clone; -webkit-box-decoration-break: clone\">\n",
       "    MSC\n",
       "    <span style=\"font-size: 0.8em; font-weight: bold; line-height: 1; border-radius: 0.35em; text-transform: uppercase; vertical-align: middle; margin-left: 0.5rem\">TRANSCRIPTION_FACTOR</span>\n",
       "</mark>\n",
       " reduces \n",
       "<mark class=\"entity\" style=\"background: lightred; padding: 0.45em 0.6em; margin: 0 0.25em; line-height: 1; border-radius: 0.35em; box-decoration-break: clone; -webkit-box-decoration-break: clone\">\n",
       "    Foxp3\n",
       "    <span style=\"font-size: 0.8em; font-weight: bold; line-height: 1; border-radius: 0.35em; text-transform: uppercase; vertical-align: middle; margin-left: 0.5rem\">TRANSCRIPTION_FACTOR</span>\n",
       "</mark>\n",
       " expression and induces \n",
       "<mark class=\"entity\" style=\"background: lightgreen; padding: 0.45em 0.6em; margin: 0 0.25em; line-height: 1; border-radius: 0.35em; box-decoration-break: clone; -webkit-box-decoration-break: clone\">\n",
       "    TH2\n",
       "    <span style=\"font-size: 0.8em; font-weight: bold; line-height: 1; border-radius: 0.35em; text-transform: uppercase; vertical-align: middle; margin-left: 0.5rem\">IMMUNE_CELL_TYPE</span>\n",
       "</mark>\n",
       " differentiation even under \n",
       "<mark class=\"entity\" style=\"background: lightblue; padding: 0.45em 0.6em; margin: 0 0.25em; line-height: 1; border-radius: 0.35em; box-decoration-break: clone; -webkit-box-decoration-break: clone\">\n",
       "    TGF-β\n",
       "    <span style=\"font-size: 0.8em; font-weight: bold; line-height: 1; border-radius: 0.35em; text-transform: uppercase; vertical-align: middle; margin-left: 0.5rem\">CYTOKINE</span>\n",
       "</mark>\n",
       " induced \n",
       "<mark class=\"entity\" style=\"background: lightgreen; padding: 0.45em 0.6em; margin: 0 0.25em; line-height: 1; border-radius: 0.35em; box-decoration-break: clone; -webkit-box-decoration-break: clone\">\n",
       "    iTreg\n",
       "    <span style=\"font-size: 0.8em; font-weight: bold; line-height: 1; border-radius: 0.35em; text-transform: uppercase; vertical-align: middle; margin-left: 0.5rem\">IMMUNE_CELL_TYPE</span>\n",
       "</mark>\n",
       " differentiation conditions. \n",
       "<mark class=\"entity\" style=\"background: lightred; padding: 0.45em 0.6em; margin: 0 0.25em; line-height: 1; border-radius: 0.35em; box-decoration-break: clone; -webkit-box-decoration-break: clone\">\n",
       "    MSC\n",
       "    <span style=\"font-size: 0.8em; font-weight: bold; line-height: 1; border-radius: 0.35em; text-transform: uppercase; vertical-align: middle; margin-left: 0.5rem\">TRANSCRIPTION_FACTOR</span>\n",
       "</mark>\n",
       " mediates this effect by interrupting binding of \n",
       "<mark class=\"entity\" style=\"background: lightred; padding: 0.45em 0.6em; margin: 0 0.25em; line-height: 1; border-radius: 0.35em; box-decoration-break: clone; -webkit-box-decoration-break: clone\">\n",
       "    GATA3\n",
       "    <span style=\"font-size: 0.8em; font-weight: bold; line-height: 1; border-radius: 0.35em; text-transform: uppercase; vertical-align: middle; margin-left: 0.5rem\">TRANSCRIPTION_FACTOR</span>\n",
       "</mark>\n",
       " to \n",
       "<mark class=\"entity\" style=\"background: lightgreen; padding: 0.45em 0.6em; margin: 0 0.25em; line-height: 1; border-radius: 0.35em; box-decoration-break: clone; -webkit-box-decoration-break: clone\">\n",
       "    TH2\n",
       "    <span style=\"font-size: 0.8em; font-weight: bold; line-height: 1; border-radius: 0.35em; text-transform: uppercase; vertical-align: middle; margin-left: 0.5rem\">IMMUNE_CELL_TYPE</span>\n",
       "</mark>\n",
       " locus and reducing intrachromosomal interactions within the \n",
       "<mark class=\"entity\" style=\"background: lightgreen; padding: 0.45em 0.6em; margin: 0 0.25em; line-height: 1; border-radius: 0.35em; box-decoration-break: clone; -webkit-box-decoration-break: clone\">\n",
       "    Th2\n",
       "    <span style=\"font-size: 0.8em; font-weight: bold; line-height: 1; border-radius: 0.35em; text-transform: uppercase; vertical-align: middle; margin-left: 0.5rem\">IMMUNE_CELL_TYPE</span>\n",
       "</mark>\n",
       " locus. MSC-deficient iTregs are not able to suppress \n",
       "<mark class=\"entity\" style=\"background: lightgreen; padding: 0.45em 0.6em; margin: 0 0.25em; line-height: 1; border-radius: 0.35em; box-decoration-break: clone; -webkit-box-decoration-break: clone\">\n",
       "    TH2\n",
       "    <span style=\"font-size: 0.8em; font-weight: bold; line-height: 1; border-radius: 0.35em; text-transform: uppercase; vertical-align: middle; margin-left: 0.5rem\">IMMUNE_CELL_TYPE</span>\n",
       "</mark>\n",
       " responses and the Msc−/− mice spontaneously develop gut and lung inflammation with age. Our data indicate that \n",
       "<mark class=\"entity\" style=\"background: lightred; padding: 0.45em 0.6em; margin: 0 0.25em; line-height: 1; border-radius: 0.35em; box-decoration-break: clone; -webkit-box-decoration-break: clone\">\n",
       "    MSC\n",
       "    <span style=\"font-size: 0.8em; font-weight: bold; line-height: 1; border-radius: 0.35em; text-transform: uppercase; vertical-align: middle; margin-left: 0.5rem\">TRANSCRIPTION_FACTOR</span>\n",
       "</mark>\n",
       " enforces \n",
       "<mark class=\"entity\" style=\"background: lightred; padding: 0.45em 0.6em; margin: 0 0.25em; line-height: 1; border-radius: 0.35em; box-decoration-break: clone; -webkit-box-decoration-break: clone\">\n",
       "    Foxp3\n",
       "    <span style=\"font-size: 0.8em; font-weight: bold; line-height: 1; border-radius: 0.35em; text-transform: uppercase; vertical-align: middle; margin-left: 0.5rem\">TRANSCRIPTION_FACTOR</span>\n",
       "</mark>\n",
       " expression and promotes unidirectional induction of iTregs by repressing development of the \n",
       "<mark class=\"entity\" style=\"background: lightgreen; padding: 0.45em 0.6em; margin: 0 0.25em; line-height: 1; border-radius: 0.35em; box-decoration-break: clone; -webkit-box-decoration-break: clone\">\n",
       "    TH2\n",
       "    <span style=\"font-size: 0.8em; font-weight: bold; line-height: 1; border-radius: 0.35em; text-transform: uppercase; vertical-align: middle; margin-left: 0.5rem\">IMMUNE_CELL_TYPE</span>\n",
       "</mark>\n",
       " developmental program.\n",
       "\n",
       "</div>"
      ],
      "text/plain": [
       "<IPython.core.display.HTML object>"
      ]
     },
     "metadata": {},
     "output_type": "display_data"
    }
   ],
   "source": [
    "# spacy.displacy.render(docs[3], style='ent', jupyter=True)\n",
    "spacy.displacy.render(\n",
    "    [doc for doc in docs if doc._.pmc_id == 'PMC5591438'], \n",
    "    style='ent', jupyter=True, options=DISPLACY_ENT_OPTS\n",
    ")"
   ]
  },
  {
   "cell_type": "markdown",
   "metadata": {},
   "source": [
    "### Tag Export"
   ]
  },
  {
   "cell_type": "code",
   "execution_count": 13,
   "metadata": {},
   "outputs": [
    {
     "data": {
      "text/html": [
       "<div>\n",
       "<style scoped>\n",
       "    .dataframe tbody tr th:only-of-type {\n",
       "        vertical-align: middle;\n",
       "    }\n",
       "\n",
       "    .dataframe tbody tr th {\n",
       "        vertical-align: top;\n",
       "    }\n",
       "\n",
       "    .dataframe thead th {\n",
       "        text-align: right;\n",
       "    }\n",
       "</style>\n",
       "<table border=\"1\" class=\"dataframe\">\n",
       "  <thead>\n",
       "    <tr style=\"text-align: right;\">\n",
       "      <th></th>\n",
       "      <th>id</th>\n",
       "      <th>type</th>\n",
       "      <th>ent_id</th>\n",
       "      <th>ent_lbl</th>\n",
       "      <th>ent_prefid</th>\n",
       "      <th>start_chr</th>\n",
       "      <th>end_chr</th>\n",
       "      <th>start_wrd</th>\n",
       "      <th>end_wrd</th>\n",
       "      <th>text</th>\n",
       "    </tr>\n",
       "  </thead>\n",
       "  <tbody>\n",
       "    <tr>\n",
       "      <th>0</th>\n",
       "      <td>PMC5704053</td>\n",
       "      <td>PROTEIN</td>\n",
       "      <td>None</td>\n",
       "      <td>None</td>\n",
       "      <td>None</td>\n",
       "      <td>15</td>\n",
       "      <td>18</td>\n",
       "      <td>2</td>\n",
       "      <td>3</td>\n",
       "      <td>CD4</td>\n",
       "    </tr>\n",
       "    <tr>\n",
       "      <th>1</th>\n",
       "      <td>PMC5704053</td>\n",
       "      <td>IMMUNE_CELL_TYPE</td>\n",
       "      <td>CT30BC86BDEF7B1410</td>\n",
       "      <td>Treg</td>\n",
       "      <td>CTB574584AD019ABB8</td>\n",
       "      <td>26</td>\n",
       "      <td>38</td>\n",
       "      <td>7</td>\n",
       "      <td>9</td>\n",
       "      <td>Regulatory T</td>\n",
       "    </tr>\n",
       "    <tr>\n",
       "      <th>2</th>\n",
       "      <td>PMC5704053</td>\n",
       "      <td>IMMUNE_CELL_TYPE</td>\n",
       "      <td>CT30BC86BDEF7B1410</td>\n",
       "      <td>Treg</td>\n",
       "      <td>CTB574584AD019ABB8</td>\n",
       "      <td>125</td>\n",
       "      <td>137</td>\n",
       "      <td>29</td>\n",
       "      <td>31</td>\n",
       "      <td>regulatory T</td>\n",
       "    </tr>\n",
       "    <tr>\n",
       "      <th>3</th>\n",
       "      <td>PMC5704053</td>\n",
       "      <td>IMMUNE_CELL_TYPE</td>\n",
       "      <td>CTB574584AD019ABB8</td>\n",
       "      <td>Treg</td>\n",
       "      <td>CTB574584AD019ABB8</td>\n",
       "      <td>145</td>\n",
       "      <td>149</td>\n",
       "      <td>33</td>\n",
       "      <td>34</td>\n",
       "      <td>Treg</td>\n",
       "    </tr>\n",
       "    <tr>\n",
       "      <th>4</th>\n",
       "      <td>PMC5704053</td>\n",
       "      <td>IMMUNE_CELL_TYPE</td>\n",
       "      <td>CTB574584AD019ABB8</td>\n",
       "      <td>Treg</td>\n",
       "      <td>CTB574584AD019ABB8</td>\n",
       "      <td>327</td>\n",
       "      <td>331</td>\n",
       "      <td>63</td>\n",
       "      <td>64</td>\n",
       "      <td>Treg</td>\n",
       "    </tr>\n",
       "  </tbody>\n",
       "</table>\n",
       "</div>"
      ],
      "text/plain": [
       "           id              type              ent_id ent_lbl  \\\n",
       "0  PMC5704053           PROTEIN                None    None   \n",
       "1  PMC5704053  IMMUNE_CELL_TYPE  CT30BC86BDEF7B1410    Treg   \n",
       "2  PMC5704053  IMMUNE_CELL_TYPE  CT30BC86BDEF7B1410    Treg   \n",
       "3  PMC5704053  IMMUNE_CELL_TYPE  CTB574584AD019ABB8    Treg   \n",
       "4  PMC5704053  IMMUNE_CELL_TYPE  CTB574584AD019ABB8    Treg   \n",
       "\n",
       "           ent_prefid  start_chr  end_chr  start_wrd  end_wrd          text  \n",
       "0                None         15       18          2        3           CD4  \n",
       "1  CTB574584AD019ABB8         26       38          7        9  Regulatory T  \n",
       "2  CTB574584AD019ABB8        125      137         29       31  regulatory T  \n",
       "3  CTB574584AD019ABB8        145      149         33       34          Treg  \n",
       "4  CTB574584AD019ABB8        327      331         63       64          Treg  "
      ]
     },
     "execution_count": 13,
     "metadata": {},
     "output_type": "execute_result"
    }
   ],
   "source": [
    "from collections import OrderedDict\n",
    "df = pd.DataFrame([\n",
    "    OrderedDict(\n",
    "        id=doc._.pmc_id, type=ent.label_, \n",
    "        ent_id=ent._.id, ent_lbl=ent._.lbl, ent_prefid=ent._.prefid,\n",
    "        start_chr=ent.start_char, end_chr=ent.end_char, \n",
    "        start_wrd=ent.start, end_wrd=ent.end, \n",
    "        text=ent.text\n",
    "    ) \n",
    "    for doc in docs \n",
    "    for ent in doc.ents\n",
    "])\n",
    "df.head()"
   ]
  },
  {
   "cell_type": "code",
   "execution_count": 15,
   "metadata": {},
   "outputs": [
    {
     "name": "stdout",
     "output_type": "stream",
     "text": [
      "<class 'pandas.core.frame.DataFrame'>\n",
      "RangeIndex: 4007030 entries, 0 to 4007029\n",
      "Data columns (total 10 columns):\n",
      "id            object\n",
      "type          object\n",
      "ent_id        object\n",
      "ent_lbl       object\n",
      "ent_prefid    object\n",
      "start_chr     int64\n",
      "end_chr       int64\n",
      "start_wrd     int64\n",
      "end_wrd       int64\n",
      "text          object\n",
      "dtypes: int64(4), object(6)\n",
      "memory usage: 305.7+ MB\n"
     ]
    }
   ],
   "source": [
    "df.info()"
   ]
  },
  {
   "cell_type": "code",
   "execution_count": 16,
   "metadata": {},
   "outputs": [
    {
     "data": {
      "text/plain": [
       "'/Users/eczech/data/research/hammer/nlp/20190311-pubmed-tcell-relation/articles/corpus/corpus_01/tags.csv'"
      ]
     },
     "execution_count": 16,
     "metadata": {},
     "output_type": "execute_result"
    }
   ],
   "source": [
    "path = osp.join(corpus_dir, 'tags.csv')\n",
    "df.to_csv(path, index=False)\n",
    "path"
   ]
  },
  {
   "cell_type": "markdown",
   "metadata": {},
   "source": [
    "### Relation Export\n",
    "\n",
    "Export relations to be used to generate gold labellings within Snorkel"
   ]
  },
  {
   "cell_type": "code",
   "execution_count": 18,
   "metadata": {},
   "outputs": [],
   "source": [
    "from bratreader.repomodel import RepoModel\n",
    "repo_model = RepoModel(collection_dir)"
   ]
  },
  {
   "cell_type": "code",
   "execution_count": 19,
   "metadata": {},
   "outputs": [
    {
     "data": {
      "text/plain": [
       "89"
      ]
     },
     "execution_count": 19,
     "metadata": {},
     "output_type": "execute_result"
    }
   ],
   "source": [
    "len(repo_model.documents)"
   ]
  },
  {
   "cell_type": "code",
   "execution_count": 24,
   "metadata": {},
   "outputs": [],
   "source": [
    "# repo_model.documents.keys()"
   ]
  },
  {
   "cell_type": "code",
   "execution_count": 25,
   "metadata": {},
   "outputs": [],
   "source": [
    "# doc = repo_model.documents['PMC2646571']\n",
    "# annot = doc.annotations[1]"
   ]
  },
  {
   "cell_type": "code",
   "execution_count": 26,
   "metadata": {},
   "outputs": [],
   "source": [
    "# annot.labels, annot.links, annot.realspan, annot.spans, annot.repr, annot.words"
   ]
  },
  {
   "cell_type": "code",
   "execution_count": 27,
   "metadata": {},
   "outputs": [],
   "source": [
    "# doc.key"
   ]
  },
  {
   "cell_type": "code",
   "execution_count": 20,
   "metadata": {},
   "outputs": [
    {
     "data": {
      "text/html": [
       "<div>\n",
       "<style scoped>\n",
       "    .dataframe tbody tr th:only-of-type {\n",
       "        vertical-align: middle;\n",
       "    }\n",
       "\n",
       "    .dataframe tbody tr th {\n",
       "        vertical-align: top;\n",
       "    }\n",
       "\n",
       "    .dataframe thead th {\n",
       "        text-align: right;\n",
       "    }\n",
       "</style>\n",
       "<table border=\"1\" class=\"dataframe\">\n",
       "  <thead>\n",
       "    <tr style=\"text-align: right;\">\n",
       "      <th></th>\n",
       "      <th>e1_end_chr</th>\n",
       "      <th>e1_start_chr</th>\n",
       "      <th>e1_text</th>\n",
       "      <th>e1_typ</th>\n",
       "      <th>e2_end_chr</th>\n",
       "      <th>e2_start_chr</th>\n",
       "      <th>e2_text</th>\n",
       "      <th>e2_typ</th>\n",
       "      <th>id</th>\n",
       "      <th>rel_typ</th>\n",
       "    </tr>\n",
       "  </thead>\n",
       "  <tbody>\n",
       "    <tr>\n",
       "      <th>0</th>\n",
       "      <td>24</td>\n",
       "      <td>19</td>\n",
       "      <td>Gfi-1</td>\n",
       "      <td>TRANSCRIPTION_FACTOR</td>\n",
       "      <td>85</td>\n",
       "      <td>81</td>\n",
       "      <td>Th17</td>\n",
       "      <td>IMMUNE_CELL_TYPE</td>\n",
       "      <td>PMC2646571</td>\n",
       "      <td>Differentiation</td>\n",
       "    </tr>\n",
       "    <tr>\n",
       "      <th>1</th>\n",
       "      <td>44</td>\n",
       "      <td>39</td>\n",
       "      <td>TGF-β</td>\n",
       "      <td>CYTOKINE</td>\n",
       "      <td>85</td>\n",
       "      <td>81</td>\n",
       "      <td>Th17</td>\n",
       "      <td>IMMUNE_CELL_TYPE</td>\n",
       "      <td>PMC2646571</td>\n",
       "      <td>Induction</td>\n",
       "    </tr>\n",
       "    <tr>\n",
       "      <th>2</th>\n",
       "      <td>44</td>\n",
       "      <td>39</td>\n",
       "      <td>TGF-β</td>\n",
       "      <td>CYTOKINE</td>\n",
       "      <td>119</td>\n",
       "      <td>97</td>\n",
       "      <td>inducible regulatory T</td>\n",
       "      <td>IMMUNE_CELL_TYPE</td>\n",
       "      <td>PMC2646571</td>\n",
       "      <td>Induction</td>\n",
       "    </tr>\n",
       "    <tr>\n",
       "      <th>3</th>\n",
       "      <td>24</td>\n",
       "      <td>19</td>\n",
       "      <td>Gfi-1</td>\n",
       "      <td>TRANSCRIPTION_FACTOR</td>\n",
       "      <td>119</td>\n",
       "      <td>97</td>\n",
       "      <td>inducible regulatory T</td>\n",
       "      <td>IMMUNE_CELL_TYPE</td>\n",
       "      <td>PMC2646571</td>\n",
       "      <td>Differentiation</td>\n",
       "    </tr>\n",
       "    <tr>\n",
       "      <th>8</th>\n",
       "      <td>371</td>\n",
       "      <td>366</td>\n",
       "      <td>Gfi-1</td>\n",
       "      <td>TRANSCRIPTION_FACTOR</td>\n",
       "      <td>436</td>\n",
       "      <td>433</td>\n",
       "      <td>Th2</td>\n",
       "      <td>IMMUNE_CELL_TYPE</td>\n",
       "      <td>PMC2646571</td>\n",
       "      <td>Differentiation</td>\n",
       "    </tr>\n",
       "  </tbody>\n",
       "</table>\n",
       "</div>"
      ],
      "text/plain": [
       "   e1_end_chr  e1_start_chr e1_text                e1_typ  e2_end_chr  \\\n",
       "0          24            19   Gfi-1  TRANSCRIPTION_FACTOR          85   \n",
       "1          44            39   TGF-β              CYTOKINE          85   \n",
       "2          44            39   TGF-β              CYTOKINE         119   \n",
       "3          24            19   Gfi-1  TRANSCRIPTION_FACTOR         119   \n",
       "8         371           366   Gfi-1  TRANSCRIPTION_FACTOR         436   \n",
       "\n",
       "   e2_start_chr                 e2_text            e2_typ          id  \\\n",
       "0            81                    Th17  IMMUNE_CELL_TYPE  PMC2646571   \n",
       "1            81                    Th17  IMMUNE_CELL_TYPE  PMC2646571   \n",
       "2            97  inducible regulatory T  IMMUNE_CELL_TYPE  PMC2646571   \n",
       "3            97  inducible regulatory T  IMMUNE_CELL_TYPE  PMC2646571   \n",
       "8           433                     Th2  IMMUNE_CELL_TYPE  PMC2646571   \n",
       "\n",
       "           rel_typ  \n",
       "0  Differentiation  \n",
       "1        Induction  \n",
       "2        Induction  \n",
       "3  Differentiation  \n",
       "8  Differentiation  "
      ]
     },
     "execution_count": 20,
     "metadata": {},
     "output_type": "execute_result"
    }
   ],
   "source": [
    "def get_relations(doc):\n",
    "    relations = []\n",
    "    \n",
    "    # Map from entity type label used in annotation to label used within snorkel\n",
    "    ent_typ_map = {\n",
    "        'TF': ENT_TYP_TF,\n",
    "        'CELL_TYPE': ENT_TYP_CT,\n",
    "        'CYTOKINE': ENT_TYP_CK\n",
    "    }\n",
    "    \n",
    "    for a2 in doc.annotations:\n",
    "        # Links only exist as INCOMING links meaning that a2 is the target of relations\n",
    "        # and a1 will be the source\n",
    "        if a2.links:\n",
    "            for relation_type, annots in a2.links.items():\n",
    "                for a1 in annots:\n",
    "                    assert len(a1.labels) == len(a2.labels) == 1\n",
    "                    a2_typ = ent_typ_map[list(a2.labels.keys())[0]]\n",
    "                    \n",
    "                    # For consistency with snorkel convention, ensure that the second\n",
    "                    # value in relation entry is the cell type and all others are first\n",
    "                    e1, e2 = a1, a2\n",
    "                    if a2_typ != ENT_TYP_CT:\n",
    "                        e1, e2 = a2, a1\n",
    "                    \n",
    "                    relations.append(dict(\n",
    "                        id=doc.key,\n",
    "                        rel_typ=relation_type, \n",
    "                        e1_typ=ent_typ_map[list(e1.labels.keys())[0]], \n",
    "                        e1_start_chr=e1.realspan[0], \n",
    "                        e1_end_chr=e1.realspan[1], \n",
    "                        e1_text=e1.repr,\n",
    "                        e2_typ=ent_typ_map[list(e2.labels.keys())[0]], \n",
    "                        e2_start_chr=e2.realspan[0], \n",
    "                        e2_end_chr=e2.realspan[1], \n",
    "                        e2_text=e2.repr\n",
    "                    ))\n",
    "    return relations\n",
    "df = pd.DataFrame([r for k, doc in repo_model.documents.items() for r in get_relations(doc)])\n",
    "df = df.drop_duplicates()\n",
    "df.head()"
   ]
  },
  {
   "cell_type": "code",
   "execution_count": 21,
   "metadata": {},
   "outputs": [
    {
     "data": {
      "text/plain": [
       "e1_typ                e2_typ            rel_typ        \n",
       "CYTOKINE              IMMUNE_CELL_TYPE  Induction          150\n",
       "                                        Secretion          131\n",
       "TRANSCRIPTION_FACTOR  IMMUNE_CELL_TYPE  Differentiation    119\n",
       "dtype: int64"
      ]
     },
     "execution_count": 21,
     "metadata": {},
     "output_type": "execute_result"
    }
   ],
   "source": [
    "df.groupby(['e1_typ', 'e2_typ', 'rel_typ']).size()"
   ]
  },
  {
   "cell_type": "code",
   "execution_count": 22,
   "metadata": {},
   "outputs": [],
   "source": [
    "#df_exp[df_exp['id'] == 'PMC3304099']"
   ]
  },
  {
   "cell_type": "code",
   "execution_count": 23,
   "metadata": {},
   "outputs": [
    {
     "data": {
      "text/plain": [
       "'/Users/eczech/data/research/hammer/nlp/20190311-pubmed-tcell-relation/articles/corpus/corpus_01/relations.csv'"
      ]
     },
     "execution_count": 23,
     "metadata": {},
     "output_type": "execute_result"
    }
   ],
   "source": [
    "path = osp.join(corpus_dir, 'relations.csv')\n",
    "df.to_csv(path, index=False)\n",
    "path"
   ]
  }
 ],
 "metadata": {
  "kernelspec": {
   "display_name": "Python 3",
   "language": "python",
   "name": "python3"
  },
  "language_info": {
   "codemirror_mode": {
    "name": "ipython",
    "version": 3
   },
   "file_extension": ".py",
   "mimetype": "text/x-python",
   "name": "python",
   "nbconvert_exporter": "python",
   "pygments_lexer": "ipython3",
   "version": "3.6.7"
  }
 },
 "nbformat": 4,
 "nbformat_minor": 2
}
