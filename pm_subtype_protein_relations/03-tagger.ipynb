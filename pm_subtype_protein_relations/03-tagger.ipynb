{
 "cells": [
  {
   "cell_type": "code",
   "execution_count": 1,
   "metadata": {},
   "outputs": [],
   "source": [
    "import os\n",
    "import tqdm\n",
    "import os.path as osp\n",
    "import pandas as pd\n",
    "import glob\n",
    "import spacy\n",
    "%run env.py\n",
    "%run src/lib.py\n",
    "%run src/integration.py\n",
    "fix_jupyter_spacy_config()\n",
    "corpus_dir = osp.join(DATA_DIR, 'articles', 'corpus', 'corpus_00')\n",
    "#collection_dir = osp.join(REPO_DATA_DIR, 'brat', 'collection_01')\n",
    "collection_dir = osp.join(REPO_DATA_DIR, 'brat', 'collection_02')\n",
    "corpus_docs_path = osp.join(corpus_dir, 'docs')\n",
    "corpus_links_dir = osp.join(corpus_dir, 'links')"
   ]
  },
  {
   "cell_type": "markdown",
   "metadata": {},
   "source": [
    "### Link Docs"
   ]
  },
  {
   "cell_type": "markdown",
   "metadata": {},
   "source": [
    "Link annotated documents (which should ALL be annotated when present) and unannotated docs in a single directory:"
   ]
  },
  {
   "cell_type": "code",
   "execution_count": 2,
   "metadata": {},
   "outputs": [
    {
     "name": "stdout",
     "output_type": "stream",
     "text": [
      "Found 500 unnannotated text files\n",
      "Found 109 annotated text files\n"
     ]
    },
    {
     "data": {
      "text/plain": [
       "609"
      ]
     },
     "execution_count": 2,
     "metadata": {},
     "output_type": "execute_result"
    }
   ],
   "source": [
    "files = []\n",
    "# Add unannotated text files and THEN annotated text files as links will overwrite\n",
    "f = glob.glob(osp.join(corpus_docs_path, '*.txt'))\n",
    "assert f, 'No unannotated text files found'\n",
    "print('Found {} unnannotated text files'.format(len(f)))\n",
    "files.extend(f)\n",
    "f = glob.glob(osp.join(collection_dir, '*.txt'))\n",
    "assert f, 'No annotated text files found'\n",
    "print('Found {} annotated text files'.format(len(f)))\n",
    "files.extend(f)\n",
    "len(files)"
   ]
  },
  {
   "cell_type": "code",
   "execution_count": 3,
   "metadata": {},
   "outputs": [
    {
     "name": "stdout",
     "output_type": "stream",
     "text": [
      "Linked 609 files in /Users/eczech/data/research/hammer/nlp/20190311-pubmed-tcell-relation/articles/corpus/corpus_00/links\n"
     ]
    }
   ],
   "source": [
    "corpus_files = []\n",
    "for f in files:\n",
    "    if not osp.exists(corpus_links_dir):\n",
    "        os.makedirs(corpus_links_dir)\n",
    "    path = osp.join(corpus_links_dir, osp.basename(f))\n",
    "    if osp.exists(path):\n",
    "        os.unlink(path)\n",
    "    os.symlink(f, path)\n",
    "    corpus_files.append(path)\n",
    "print('Linked {} files in {}'.format(len(corpus_files), corpus_links_dir))"
   ]
  },
  {
   "cell_type": "markdown",
   "metadata": {},
   "source": [
    "### Define Pipeline"
   ]
  },
  {
   "cell_type": "code",
   "execution_count": 4,
   "metadata": {},
   "outputs": [
    {
     "data": {
      "text/plain": [
       "[('tagger', <spacy.pipeline.pipes.Tagger at 0x1147f5390>),\n",
       " ('parser', <spacy.pipeline.pipes.DependencyParser at 0x114937708>),\n",
       " ('ner', <spacy.pipeline.pipes.EntityRecognizer at 0x11f512648>)]"
      ]
     },
     "execution_count": 4,
     "metadata": {},
     "output_type": "execute_result"
    }
   ],
   "source": [
    "nlp = get_scispacy_pipeline()\n",
    "nlp.pipeline"
   ]
  },
  {
   "cell_type": "code",
   "execution_count": 5,
   "metadata": {},
   "outputs": [],
   "source": [
    "from spacy.pipeline import EntityRuler\n",
    "from spacy.tokens import Span\n",
    "\n",
    "if not Span.has_extension('id'):\n",
    "    Span.set_extension('id', default=None)\n",
    "if not Span.has_extension('lbl'):\n",
    "    Span.set_extension('lbl', default=None)\n",
    "\n",
    "class EntityRefiner(object):\n",
    "    name = 'refiner'\n",
    "    \n",
    "    def __init__(self, nlp, df):\n",
    "        self.ruler = EntityRuler(nlp, overwrite_ents=True)\n",
    "        self.df = df.copy().set_index('id')\n",
    "        patterns = []\n",
    "        for rid, r in self.df.iterrows():\n",
    "            tokens = nlp.tokenizer(r['sym']) # returns Doc\n",
    "            pattern = [{'lower': t.lower_} for t in tokens]\n",
    "            # Assign label as record id (e.g. \"CKBF6003C60D23BA0D\")\n",
    "            patterns.append({'label': rid, 'pattern': pattern})\n",
    "        self.ruler.add_patterns(patterns)\n",
    "        \n",
    "    def __call__(self, doc):\n",
    "        doc = self.ruler(doc)\n",
    "        ents = []\n",
    "        for ent in doc.ents:\n",
    "            if ent.label_ not in self.df.index:\n",
    "                ents.append(ent)\n",
    "                continue\n",
    "            # Convert label of span from record id to entity type \n",
    "            # (e.g. CKBF6003C60D23BA0D -> CYTOKINE)\n",
    "            r = self.df.loc[ent.label_]\n",
    "            rid = ent.label_\n",
    "            ent = Span(doc, ent.start, ent.end, label=r['type'])\n",
    "            ent._.id = rid\n",
    "            ent._.lbl = r['lbl']\n",
    "            ents.append(ent)\n",
    "        doc.ents = ents\n",
    "        return doc \n",
    "\n",
    "df = pd.concat([\n",
    "    get_entity_meta_data(CYTOKINES).assign(type='CYTOKINE'),\n",
    "    get_entity_meta_data(TRANSCRIPTION_FACTORS).assign(type='TRANSCRIPTION_FACTOR'),\n",
    "    get_entity_meta_data(CELL_TYPES).assign(type='IMMUNE_CELL_TYPE')\n",
    "], sort=True)\n",
    "if nlp.has_pipe(EntityRefiner.name):\n",
    "    nlp.remove_pipe(EntityRefiner.name)\n",
    "nlp.add_pipe(EntityRefiner(nlp, df), last=True)"
   ]
  },
  {
   "cell_type": "code",
   "execution_count": 7,
   "metadata": {},
   "outputs": [],
   "source": [
    "#doc = nlp('The Vγ4 T lymphocyte subset predominated among the IL-17+ cell populations present in the lungs of CLP mice (unlike Vγ1 and αβ T lymphocytes) and was strongly biased toward IL-17 rather than toward IFN-γ production')\n",
    "#doc.ents"
   ]
  },
  {
   "cell_type": "code",
   "execution_count": 8,
   "metadata": {},
   "outputs": [],
   "source": [
    "# #path = '/Users/eczech/data/research/hammer/nlp/20190311-pubmed-tcell-relation/articles/corpus/corpus_00/links/PMC4767817.txt'\n",
    "# path = '/Users/eczech/data/research/hammer/nlp/20190311-pubmed-tcell-relation/articles/corpus/corpus_00/links/PMC3235500.txt'\n",
    "# doc = None\n",
    "# with open(path, 'r') as fd:\n",
    "#     text = fd.read()\n",
    "#     doc = nlp(text)\n",
    "#     #doc._.pmc_id = osp.basename(path).replace('.txt', '')"
   ]
  },
  {
   "cell_type": "code",
   "execution_count": 12,
   "metadata": {},
   "outputs": [],
   "source": [
    "#nlp.pipeline[-1][1].ck_tagger.df.loc['TGF-β']"
   ]
  },
  {
   "cell_type": "code",
   "execution_count": 13,
   "metadata": {},
   "outputs": [],
   "source": [
    "# with open(osp.join(output_corpus_dir, 'PMC3925027.txt'), 'r') as fd:\n",
    "#     doc = fd.read()\n",
    "#doc = nlp(doc)\n",
    "#spacy.displacy.render(doc, style='ent', jupyter=True)"
   ]
  },
  {
   "cell_type": "markdown",
   "metadata": {},
   "source": [
    "### Run Pipeline"
   ]
  },
  {
   "cell_type": "code",
   "execution_count": null,
   "metadata": {},
   "outputs": [
    {
     "data": {
      "application/vnd.jupyter.widget-view+json": {
       "model_id": "05e52f049cc743dcacac489c40f4556d",
       "version_major": 2,
       "version_minor": 0
      },
      "text/plain": [
       "HBox(children=(IntProgress(value=0, max=609), HTML(value='')))"
      ]
     },
     "metadata": {},
     "output_type": "display_data"
    }
   ],
   "source": [
    "from spacy.tokens import Doc\n",
    "if not Doc.has_extension('pmc_id'):\n",
    "    Doc.set_extension('pmc_id', default=None)\n",
    "    \n",
    "def get_docs():\n",
    "    for f in tqdm.tqdm_notebook(corpus_files):\n",
    "        with open(f, 'r') as fd:\n",
    "            text = fd.read()\n",
    "            try:\n",
    "                doc = nlp(text)\n",
    "                doc._.pmc_id = osp.basename(f).replace('.txt', '')\n",
    "                yield doc\n",
    "            except:\n",
    "                print('Failed to process doc at {}'.format(f))\n",
    "                raise\n",
    "docs = [d for d in get_docs()]"
   ]
  },
  {
   "cell_type": "code",
   "execution_count": 19,
   "metadata": {},
   "outputs": [],
   "source": [
    "# spacy.displacy.render(docs[3], style='ent', jupyter=True)"
   ]
  },
  {
   "cell_type": "markdown",
   "metadata": {},
   "source": [
    "### Tag Export"
   ]
  },
  {
   "cell_type": "code",
   "execution_count": 21,
   "metadata": {},
   "outputs": [
    {
     "data": {
      "text/html": [
       "<div>\n",
       "<style scoped>\n",
       "    .dataframe tbody tr th:only-of-type {\n",
       "        vertical-align: middle;\n",
       "    }\n",
       "\n",
       "    .dataframe tbody tr th {\n",
       "        vertical-align: top;\n",
       "    }\n",
       "\n",
       "    .dataframe thead th {\n",
       "        text-align: right;\n",
       "    }\n",
       "</style>\n",
       "<table border=\"1\" class=\"dataframe\">\n",
       "  <thead>\n",
       "    <tr style=\"text-align: right;\">\n",
       "      <th></th>\n",
       "      <th>id</th>\n",
       "      <th>type</th>\n",
       "      <th>ent_id</th>\n",
       "      <th>ent_lbl</th>\n",
       "      <th>start_chr</th>\n",
       "      <th>end_chr</th>\n",
       "      <th>start_wrd</th>\n",
       "      <th>end_wrd</th>\n",
       "      <th>text</th>\n",
       "    </tr>\n",
       "  </thead>\n",
       "  <tbody>\n",
       "    <tr>\n",
       "      <th>0</th>\n",
       "      <td>PMC5743442</td>\n",
       "      <td>PROTEIN</td>\n",
       "      <td>None</td>\n",
       "      <td>None</td>\n",
       "      <td>10</td>\n",
       "      <td>19</td>\n",
       "      <td>1</td>\n",
       "      <td>2</td>\n",
       "      <td>Ski-Smad4</td>\n",
       "    </tr>\n",
       "    <tr>\n",
       "      <th>1</th>\n",
       "      <td>PMC5743442</td>\n",
       "      <td>TCELL_TYPE</td>\n",
       "      <td>CTBFBDE5121B6748D1</td>\n",
       "      <td>Th17</td>\n",
       "      <td>65</td>\n",
       "      <td>69</td>\n",
       "      <td>8</td>\n",
       "      <td>9</td>\n",
       "      <td>Th17</td>\n",
       "    </tr>\n",
       "    <tr>\n",
       "      <th>2</th>\n",
       "      <td>PMC5743442</td>\n",
       "      <td>TCELL_TYPE</td>\n",
       "      <td>CTBFBDE5121B6748D1</td>\n",
       "      <td>Th17</td>\n",
       "      <td>87</td>\n",
       "      <td>91</td>\n",
       "      <td>11</td>\n",
       "      <td>12</td>\n",
       "      <td>Th17</td>\n",
       "    </tr>\n",
       "    <tr>\n",
       "      <th>3</th>\n",
       "      <td>PMC5743442</td>\n",
       "      <td>CYTOKINE</td>\n",
       "      <td>CK1C5A7BDC959D1365</td>\n",
       "      <td>TGF-β1</td>\n",
       "      <td>174</td>\n",
       "      <td>179</td>\n",
       "      <td>25</td>\n",
       "      <td>26</td>\n",
       "      <td>TGF-β</td>\n",
       "    </tr>\n",
       "    <tr>\n",
       "      <th>4</th>\n",
       "      <td>PMC5743442</td>\n",
       "      <td>TCELL_TYPE</td>\n",
       "      <td>CTBFBDE5121B6748D1</td>\n",
       "      <td>Th17</td>\n",
       "      <td>199</td>\n",
       "      <td>203</td>\n",
       "      <td>29</td>\n",
       "      <td>30</td>\n",
       "      <td>Th17</td>\n",
       "    </tr>\n",
       "  </tbody>\n",
       "</table>\n",
       "</div>"
      ],
      "text/plain": [
       "           id        type              ent_id ent_lbl  start_chr  end_chr  \\\n",
       "0  PMC5743442     PROTEIN                None    None         10       19   \n",
       "1  PMC5743442  TCELL_TYPE  CTBFBDE5121B6748D1    Th17         65       69   \n",
       "2  PMC5743442  TCELL_TYPE  CTBFBDE5121B6748D1    Th17         87       91   \n",
       "3  PMC5743442    CYTOKINE  CK1C5A7BDC959D1365  TGF-β1        174      179   \n",
       "4  PMC5743442  TCELL_TYPE  CTBFBDE5121B6748D1    Th17        199      203   \n",
       "\n",
       "   start_wrd  end_wrd       text  \n",
       "0          1        2  Ski-Smad4  \n",
       "1          8        9       Th17  \n",
       "2         11       12       Th17  \n",
       "3         25       26      TGF-β  \n",
       "4         29       30       Th17  "
      ]
     },
     "execution_count": 21,
     "metadata": {},
     "output_type": "execute_result"
    }
   ],
   "source": [
    "from collections import OrderedDict\n",
    "df = pd.DataFrame([\n",
    "    OrderedDict(\n",
    "        id=doc._.pmc_id, type=ent.label_, \n",
    "        ent_id=ent._.id, ent_lbl=ent._.lbl,\n",
    "        start_chr=ent.start_char, end_chr=ent.end_char, \n",
    "        start_wrd=ent.start, end_wrd=ent.end, \n",
    "        text=ent.text\n",
    "    ) \n",
    "    for doc in docs \n",
    "    for ent in doc.ents\n",
    "])\n",
    "df.head()"
   ]
  },
  {
   "cell_type": "code",
   "execution_count": 22,
   "metadata": {},
   "outputs": [
    {
     "data": {
      "text/plain": [
       "'/Users/eczech/data/research/hammer/nlp/20190311-pubmed-tcell-relation/articles/corpus/corpus_00/tags.csv'"
      ]
     },
     "execution_count": 22,
     "metadata": {},
     "output_type": "execute_result"
    }
   ],
   "source": [
    "path = osp.join(corpus_dir, 'tags.csv')\n",
    "df.to_csv(path, index=False)\n",
    "path"
   ]
  },
  {
   "cell_type": "markdown",
   "metadata": {},
   "source": [
    "### Relation Export"
   ]
  },
  {
   "cell_type": "code",
   "execution_count": 3,
   "metadata": {},
   "outputs": [],
   "source": [
    "from bratreader.repomodel import RepoModel\n",
    "repo_model = RepoModel(collection_dir)"
   ]
  },
  {
   "cell_type": "code",
   "execution_count": 13,
   "metadata": {},
   "outputs": [
    {
     "data": {
      "text/plain": [
       "110"
      ]
     },
     "execution_count": 13,
     "metadata": {},
     "output_type": "execute_result"
    }
   ],
   "source": [
    "len(repo_model.documents)"
   ]
  },
  {
   "cell_type": "code",
   "execution_count": null,
   "metadata": {},
   "outputs": [],
   "source": [
    "# repo_model.documents.keys()"
   ]
  },
  {
   "cell_type": "code",
   "execution_count": null,
   "metadata": {},
   "outputs": [],
   "source": [
    "# doc = repo_model.documents['PMC2646571']\n",
    "# annot = doc.annotations[1]"
   ]
  },
  {
   "cell_type": "code",
   "execution_count": null,
   "metadata": {},
   "outputs": [],
   "source": [
    "# annot.labels, annot.links, annot.realspan, annot.spans, annot.repr, annot.words"
   ]
  },
  {
   "cell_type": "code",
   "execution_count": null,
   "metadata": {},
   "outputs": [],
   "source": [
    "# doc.key"
   ]
  },
  {
   "cell_type": "code",
   "execution_count": 8,
   "metadata": {},
   "outputs": [
    {
     "data": {
      "text/html": [
       "<div>\n",
       "<style scoped>\n",
       "    .dataframe tbody tr th:only-of-type {\n",
       "        vertical-align: middle;\n",
       "    }\n",
       "\n",
       "    .dataframe tbody tr th {\n",
       "        vertical-align: top;\n",
       "    }\n",
       "\n",
       "    .dataframe thead th {\n",
       "        text-align: right;\n",
       "    }\n",
       "</style>\n",
       "<table border=\"1\" class=\"dataframe\">\n",
       "  <thead>\n",
       "    <tr style=\"text-align: right;\">\n",
       "      <th></th>\n",
       "      <th>e1_end_chr</th>\n",
       "      <th>e1_start_chr</th>\n",
       "      <th>e1_text</th>\n",
       "      <th>e1_typ</th>\n",
       "      <th>e2_end_chr</th>\n",
       "      <th>e2_start_chr</th>\n",
       "      <th>e2_text</th>\n",
       "      <th>e2_typ</th>\n",
       "      <th>id</th>\n",
       "      <th>rel_typ</th>\n",
       "    </tr>\n",
       "  </thead>\n",
       "  <tbody>\n",
       "    <tr>\n",
       "      <th>0</th>\n",
       "      <td>24</td>\n",
       "      <td>19</td>\n",
       "      <td>Gfi-1</td>\n",
       "      <td>TF</td>\n",
       "      <td>85</td>\n",
       "      <td>81</td>\n",
       "      <td>Th17</td>\n",
       "      <td>CELL_TYPE</td>\n",
       "      <td>PMC2646571</td>\n",
       "      <td>Differentiation</td>\n",
       "    </tr>\n",
       "    <tr>\n",
       "      <th>1</th>\n",
       "      <td>44</td>\n",
       "      <td>39</td>\n",
       "      <td>TGF-β</td>\n",
       "      <td>CYTOKINE</td>\n",
       "      <td>85</td>\n",
       "      <td>81</td>\n",
       "      <td>Th17</td>\n",
       "      <td>CELL_TYPE</td>\n",
       "      <td>PMC2646571</td>\n",
       "      <td>Induction</td>\n",
       "    </tr>\n",
       "    <tr>\n",
       "      <th>2</th>\n",
       "      <td>44</td>\n",
       "      <td>39</td>\n",
       "      <td>TGF-β</td>\n",
       "      <td>CYTOKINE</td>\n",
       "      <td>125</td>\n",
       "      <td>90</td>\n",
       "      <td>CD103+ inducible regulatory T cells</td>\n",
       "      <td>CELL_TYPE</td>\n",
       "      <td>PMC2646571</td>\n",
       "      <td>Induction</td>\n",
       "    </tr>\n",
       "    <tr>\n",
       "      <th>3</th>\n",
       "      <td>24</td>\n",
       "      <td>19</td>\n",
       "      <td>Gfi-1</td>\n",
       "      <td>TF</td>\n",
       "      <td>125</td>\n",
       "      <td>90</td>\n",
       "      <td>CD103+ inducible regulatory T cells</td>\n",
       "      <td>CELL_TYPE</td>\n",
       "      <td>PMC2646571</td>\n",
       "      <td>Differentiation</td>\n",
       "    </tr>\n",
       "    <tr>\n",
       "      <th>12</th>\n",
       "      <td>371</td>\n",
       "      <td>366</td>\n",
       "      <td>Gfi-1</td>\n",
       "      <td>TF</td>\n",
       "      <td>436</td>\n",
       "      <td>433</td>\n",
       "      <td>Th2</td>\n",
       "      <td>CELL_TYPE</td>\n",
       "      <td>PMC2646571</td>\n",
       "      <td>Differentiation</td>\n",
       "    </tr>\n",
       "  </tbody>\n",
       "</table>\n",
       "</div>"
      ],
      "text/plain": [
       "    e1_end_chr  e1_start_chr e1_text    e1_typ  e2_end_chr  e2_start_chr  \\\n",
       "0           24            19   Gfi-1        TF          85            81   \n",
       "1           44            39   TGF-β  CYTOKINE          85            81   \n",
       "2           44            39   TGF-β  CYTOKINE         125            90   \n",
       "3           24            19   Gfi-1        TF         125            90   \n",
       "12         371           366   Gfi-1        TF         436           433   \n",
       "\n",
       "                                e2_text     e2_typ          id  \\\n",
       "0                                  Th17  CELL_TYPE  PMC2646571   \n",
       "1                                  Th17  CELL_TYPE  PMC2646571   \n",
       "2   CD103+ inducible regulatory T cells  CELL_TYPE  PMC2646571   \n",
       "3   CD103+ inducible regulatory T cells  CELL_TYPE  PMC2646571   \n",
       "12                                  Th2  CELL_TYPE  PMC2646571   \n",
       "\n",
       "            rel_typ  \n",
       "0   Differentiation  \n",
       "1         Induction  \n",
       "2         Induction  \n",
       "3   Differentiation  \n",
       "12  Differentiation  "
      ]
     },
     "execution_count": 8,
     "metadata": {},
     "output_type": "execute_result"
    }
   ],
   "source": [
    "def get_relations(doc):\n",
    "    relations = []\n",
    "    for a2 in doc.annotations:\n",
    "        # Links only exist as INCOMING links meaning that a2 is the target of relations\n",
    "        # and a1 will be the source\n",
    "        if a2.links:\n",
    "            for relation_type, annots in a2.links.items():\n",
    "                for a1 in annots:\n",
    "                    assert len(a1.labels) == len(a2.labels) == 1\n",
    "                    relations.append(dict(\n",
    "                        id=doc.key,\n",
    "                        rel_typ=relation_type, \n",
    "                        e1_typ=list(a1.labels.keys())[0], e1_start_chr=a1.realspan[0], e1_end_chr=a1.realspan[1], e1_text=a1.repr,\n",
    "                        e2_typ=list(a2.labels.keys())[0], e2_start_chr=a2.realspan[0], e2_end_chr=a2.realspan[1], e2_text=a2.repr\n",
    "                    ))\n",
    "    return relations\n",
    "df = pd.DataFrame([r for k, doc in repo_model.documents.items() for r in get_relations(doc)])\n",
    "df = df.drop_duplicates()\n",
    "df.head()"
   ]
  },
  {
   "cell_type": "code",
   "execution_count": 14,
   "metadata": {},
   "outputs": [
    {
     "data": {
      "text/plain": [
       "e1_typ     e2_typ     rel_typ        \n",
       "CELL_TYPE  CYTOKINE   Secretion          79\n",
       "CYTOKINE   CELL_TYPE  Induction          96\n",
       "TF         CELL_TYPE  Differentiation    83\n",
       "dtype: int64"
      ]
     },
     "execution_count": 14,
     "metadata": {},
     "output_type": "execute_result"
    }
   ],
   "source": [
    "df.groupby(['e1_typ', 'e2_typ', 'rel_typ']).size()"
   ]
  },
  {
   "cell_type": "code",
   "execution_count": 15,
   "metadata": {},
   "outputs": [],
   "source": [
    "#df_exp[df_exp['id'] == 'PMC3304099']"
   ]
  },
  {
   "cell_type": "code",
   "execution_count": 16,
   "metadata": {},
   "outputs": [
    {
     "data": {
      "text/plain": [
       "'/Users/eczech/data/research/hammer/nlp/20190311-pubmed-tcell-relation/articles/corpus/corpus_00/relations.csv'"
      ]
     },
     "execution_count": 16,
     "metadata": {},
     "output_type": "execute_result"
    }
   ],
   "source": [
    "path = osp.join(corpus_dir, 'relations.csv')\n",
    "df.to_csv(path, index=False)\n",
    "path"
   ]
  }
 ],
 "metadata": {
  "kernelspec": {
   "display_name": "Python 3",
   "language": "python",
   "name": "python3"
  },
  "language_info": {
   "codemirror_mode": {
    "name": "ipython",
    "version": 3
   },
   "file_extension": ".py",
   "mimetype": "text/x-python",
   "name": "python",
   "nbconvert_exporter": "python",
   "pygments_lexer": "ipython3",
   "version": "3.6.7"
  }
 },
 "nbformat": 4,
 "nbformat_minor": 2
}
