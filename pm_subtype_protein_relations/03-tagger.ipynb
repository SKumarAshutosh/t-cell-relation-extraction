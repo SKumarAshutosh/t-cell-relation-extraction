{
 "cells": [
  {
   "cell_type": "code",
   "execution_count": 1,
   "metadata": {},
   "outputs": [],
   "source": [
    "import os\n",
    "import tqdm\n",
    "import os.path as osp\n",
    "import pandas as pd\n",
    "import numpy as np\n",
    "import glob\n",
    "import spacy\n",
    "%run env.py\n",
    "%run src/lib.py\n",
    "%run src/integration.py\n",
    "%run src/supervision.py\n",
    "\n",
    "fix_jupyter_spacy_config()\n",
    "\n",
    "#corpus_dir = osp.join(DATA_DIR, 'articles', 'corpus', 'corpus_00')\n",
    "#collection_dir = osp.join(REPO_DATA_DIR, 'brat', 'collection_02')\n",
    "\n",
    "corpus_dir = osp.join(DATA_DIR, 'articles', 'corpus', 'corpus_01')\n",
    "collection_dir = osp.join(REPO_DATA_DIR, 'brat', 'collection_02')\n",
    "\n",
    "corpus_docs_path = osp.join(corpus_dir, 'docs')\n",
    "corpus_links_dir = osp.join(corpus_dir, 'links')"
   ]
  },
  {
   "cell_type": "markdown",
   "metadata": {},
   "source": [
    "### Link Docs"
   ]
  },
  {
   "cell_type": "markdown",
   "metadata": {},
   "source": [
    "Link annotated documents (which should ALL be annotated when present) and unannotated docs in a single directory:"
   ]
  },
  {
   "cell_type": "code",
   "execution_count": 2,
   "metadata": {},
   "outputs": [
    {
     "name": "stdout",
     "output_type": "stream",
     "text": [
      "Found 10000 unnannotated text files\n",
      "Found 89 annotated text files\n"
     ]
    },
    {
     "data": {
      "text/plain": [
       "10089"
      ]
     },
     "execution_count": 2,
     "metadata": {},
     "output_type": "execute_result"
    }
   ],
   "source": [
    "files = []\n",
    "# Add unannotated text files and THEN annotated text files as links will overwrite\n",
    "f = glob.glob(osp.join(corpus_docs_path, '*.txt'))\n",
    "assert f, 'No unannotated text files found'\n",
    "print('Found {} unnannotated text files'.format(len(f)))\n",
    "files.extend(f)\n",
    "f = glob.glob(osp.join(collection_dir, '*.txt'))\n",
    "assert f, 'No annotated text files found'\n",
    "print('Found {} annotated text files'.format(len(f)))\n",
    "files.extend(f)\n",
    "len(files)"
   ]
  },
  {
   "cell_type": "code",
   "execution_count": 3,
   "metadata": {},
   "outputs": [],
   "source": [
    "# Clear existing linked files\n",
    "for f in glob.glob(osp.join(corpus_links_dir, '*.txt')):\n",
    "    if osp.islink(f):\n",
    "        os.unlink(f)\n",
    "!ls -q $corpus_links_dir/*.txt 2> /dev/null"
   ]
  },
  {
   "cell_type": "code",
   "execution_count": 4,
   "metadata": {},
   "outputs": [
    {
     "name": "stdout",
     "output_type": "stream",
     "text": [
      "Linked 10089 files in /lab/data/articles/corpus/corpus_01/links\n"
     ]
    }
   ],
   "source": [
    "# Add new links\n",
    "corpus_files = []\n",
    "for f in files:\n",
    "    if not osp.exists(corpus_links_dir):\n",
    "        os.makedirs(corpus_links_dir)\n",
    "    path = osp.join(corpus_links_dir, osp.basename(f))\n",
    "    # Overwrite despite initial clearing as docs from annotation\n",
    "    # directory are preferred\n",
    "    if osp.exists(path):\n",
    "        os.unlink(path)\n",
    "    os.symlink(f, path)\n",
    "    corpus_files.append(path)\n",
    "print('Linked {} files in {}'.format(len(corpus_files), corpus_links_dir))"
   ]
  },
  {
   "cell_type": "markdown",
   "metadata": {},
   "source": [
    "### Define Pipeline"
   ]
  },
  {
   "cell_type": "code",
   "execution_count": 5,
   "metadata": {},
   "outputs": [],
   "source": [
    "from spacy.tokens import Doc\n",
    "from spacy.pipeline import EntityRuler\n",
    "from spacy.tokens import Span\n",
    "\n",
    "if not Doc.has_extension('pmc_id'):\n",
    "    Doc.set_extension('pmc_id', default=None)\n",
    "if not Span.has_extension('meta'):\n",
    "    Span.set_extension('meta', default=None)\n",
    "\n",
    "class EntityFilter(object):\n",
    "    name = 'filter'\n",
    "    \n",
    "    def __init__(self, types):\n",
    "        self.types = types\n",
    "        \n",
    "    def __call__(self, doc):\n",
    "        if self.types is None:\n",
    "            return doc\n",
    "        doc.ents = [e for e in doc.ents if e.label_ in self.types]\n",
    "        return doc\n",
    "\n",
    "\n",
    "def copy_ent(ent):\n",
    "    return dict(\n",
    "        type=ent.label_,\n",
    "        meta=ent._.meta if hasattr(ent._, 'meta') else None,\n",
    "        start_chr=ent.start_char,\n",
    "        end_chr=ent.end_char,\n",
    "        start_wrd=ent.start,\n",
    "        end_wrd=ent.end,\n",
    "        text=ent.text\n",
    "    )\n",
    "\n",
    "class EntityRelocator(object):\n",
    "    \n",
    "    def __init__(self, attr):\n",
    "        self.attr = attr\n",
    "        if not Doc.has_extension(attr):\n",
    "            Doc.set_extension(attr, default=None)\n",
    "\n",
    "    def __call__(self, doc):\n",
    "        setattr(doc._, self.attr, [copy_ent(e) for e in doc.ents])\n",
    "        doc.ents = []\n",
    "        return doc\n",
    "\n",
    "\n",
    "class EntityRefiner(object):\n",
    "    name = 'refiner'\n",
    "    \n",
    "    def __init__(self, nlp, df):\n",
    "        self.ruler = EntityRuler(nlp, overwrite_ents=True)\n",
    "        self.df = df.copy().set_index('id')\n",
    "        patterns = []\n",
    "        for rid, r in self.df.iterrows():\n",
    "            # TODO: add match types into meta data frames\n",
    "            tokens = nlp.tokenizer(r['sym']) # returns Doc\n",
    "            pattern = [{'lower': t.lower_} for t in tokens]\n",
    "                \n",
    "            # Assign label as record id (e.g. \"CKBF6003C60D23BA0D\")\n",
    "            patterns.append({'label': rid, 'pattern': pattern})\n",
    "        self.ruler.add_patterns(patterns)\n",
    "        \n",
    "    def __call__(self, doc):\n",
    "        doc = self.ruler(doc)\n",
    "        ents = []\n",
    "        for ent in doc.ents:\n",
    "            if ent.label_ not in self.df.index:\n",
    "                ents.append(ent)\n",
    "                continue\n",
    "            # Convert label of span from record id to entity type \n",
    "            # (e.g. CKBF6003C60D23BA0D -> CYTOKINE)\n",
    "            r = self.df.loc[ent.label_]\n",
    "            rid = ent.label_\n",
    "            ent = Span(doc, ent.start, ent.end, label=r['type'])\n",
    "            ent._.meta = dict(id=rid, prefid=r['prefid'], lbl=r['lbl'])\n",
    "            ents.append(ent)\n",
    "        doc.ents = ents\n",
    "        return doc "
   ]
  },
  {
   "cell_type": "code",
   "execution_count": 6,
   "metadata": {},
   "outputs": [
    {
     "data": {
      "text/plain": [
       "[('ner', <spacy.pipeline.pipes.EntityRecognizer at 0x7f836dddfe88>),\n",
       " ('filter', <__main__.EntityFilter at 0x7f836e055320>),\n",
       " ('reloc_jnlpba', <__main__.EntityRelocator at 0x7f836e055390>),\n",
       " ('refiner', <__main__.EntityRefiner at 0x7f836e055400>),\n",
       " ('reloc_lkp', <__main__.EntityRelocator at 0x7f836279f7f0>)]"
      ]
     },
     "execution_count": 6,
     "metadata": {},
     "output_type": "execute_result"
    }
   ],
   "source": [
    "def get_pipeline():\n",
    "    from spacy.tokens import Doc\n",
    "    from spacy.tokens import Span\n",
    "\n",
    "    if not Doc.has_extension('pmc_id'):\n",
    "        Doc.set_extension('pmc_id', default=None)\n",
    "    if not Span.has_extension('meta'):\n",
    "        Span.set_extension('meta', default=None)\n",
    "        \n",
    "    nlp = get_scispacy_pipeline()\n",
    "    nlp.remove_pipe('tagger')\n",
    "    nlp.remove_pipe('parser')\n",
    "    nlp.add_pipe(EntityFilter(['CELL_TYPE', 'CELL_LINE']), after='ner')\n",
    "    nlp.add_pipe(EntityRelocator('ents_jnlpba'), after=EntityFilter.name, name='reloc_jnlpba')\n",
    "\n",
    "    df = pd.concat([\n",
    "        get_entity_meta_data(CYTOKINES).assign(type=ENT_TYP_CK),\n",
    "        get_entity_meta_data(TRANSCRIPTION_FACTORS).assign(type=ENT_TYP_TF),\n",
    "        get_entity_meta_data(CELL_TYPES).assign(type=ENT_TYP_CT)\n",
    "    ], sort=True)\n",
    "    nlp.add_pipe(EntityRefiner(nlp, df), after='reloc_jnlpba')\n",
    "    nlp.add_pipe(EntityRelocator('ents_lkp'), after=EntityRefiner.name, name='reloc_lkp')\n",
    "    return nlp\n",
    "\n",
    "nlp = get_pipeline()\n",
    "nlp.pipeline"
   ]
  },
  {
   "cell_type": "markdown",
   "metadata": {},
   "source": [
    "### Run Pipeline"
   ]
  },
  {
   "cell_type": "code",
   "execution_count": 14,
   "metadata": {},
   "outputs": [],
   "source": [
    "def process(files):\n",
    "    nlp = get_pipeline()\n",
    "    \n",
    "    def get_text(file):\n",
    "        doc_id = osp.basename(file).replace('.txt', '')\n",
    "        with open(file, 'r') as fd:\n",
    "            text = fd.read()\n",
    "            # Clip to max length to avoid error like\n",
    "            # ValueError: [E088] Text of length 1290071 exceeds maximum of 1000000\n",
    "            if len(text) > nlp.max_length:\n",
    "                text = text[:nlp.max_length]\n",
    "            return text, doc_id\n",
    "            \n",
    "    def to_df(doc):\n",
    "        df = []\n",
    "        ents = [(e, 'jnlpba') for e in doc._.ents_jnlpba] + [(e, 'lkp') for e in doc._.ents_lkp]\n",
    "        for ent, src in ents:\n",
    "            meta = ent['meta'] or {}\n",
    "            df.append({\n",
    "                **dict(\n",
    "                    id=doc._.pmc_id, \n",
    "                    ent_id=meta.get('id'),\n",
    "                    ent_lbl=meta.get('lbl'),\n",
    "                    ent_prefid=meta.get('prefid'),\n",
    "                    ent_src=src\n",
    "                ),\n",
    "                **{k:v for k, v in ent.items() if k != 'meta'}\n",
    "            })\n",
    "        return pd.DataFrame(df)\n",
    "    \n",
    "    res = []\n",
    "    for f in tqdm.tqdm(files):\n",
    "        doc_text, doc_id = get_text(f)\n",
    "        doc = nlp(doc_text)\n",
    "        doc._.pmc_id = doc_id\n",
    "        res.append(to_df(doc))\n",
    "    return pd.concat(res)"
   ]
  },
  {
   "cell_type": "code",
   "execution_count": null,
   "metadata": {},
   "outputs": [],
   "source": [
    "from dask.distributed import Client, progress\n",
    "client = Client(threads_per_worker=1, n_workers=3, processes=True, direct_to_workers=True)\n",
    "client"
   ]
  },
  {
   "cell_type": "code",
   "execution_count": 24,
   "metadata": {},
   "outputs": [
    {
     "data": {
      "application/vnd.jupyter.widget-view+json": {
       "model_id": "7f1b7127c73f43458c7eb414bea9a298",
       "version_major": 2,
       "version_minor": 0
      },
      "text/plain": [
       "VBox()"
      ]
     },
     "metadata": {},
     "output_type": "display_data"
    }
   ],
   "source": [
    "import dask\n",
    "batches = list(np.array_split(files[:1000], 12))\n",
    "futures = client.map(process, batches)\n",
    "dask.distributed.progress(futures)"
   ]
  },
  {
   "cell_type": "code",
   "execution_count": 25,
   "metadata": {},
   "outputs": [
    {
     "name": "stdout",
     "output_type": "stream",
     "text": [
      "<class 'pandas.core.frame.DataFrame'>\n",
      "Int64Index: 161216 entries, 0 to 265\n",
      "Data columns (total 11 columns):\n",
      "end_chr       161216 non-null int64\n",
      "end_wrd       161216 non-null int64\n",
      "ent_id        81895 non-null object\n",
      "ent_lbl       81895 non-null object\n",
      "ent_prefid    81895 non-null object\n",
      "ent_src       161216 non-null object\n",
      "id            161216 non-null object\n",
      "start_chr     161216 non-null int64\n",
      "start_wrd     161216 non-null int64\n",
      "text          161216 non-null object\n",
      "type          161216 non-null object\n",
      "dtypes: int64(4), object(7)\n",
      "memory usage: 14.8+ MB\n"
     ]
    }
   ],
   "source": [
    "pd.set_option('display.max_info_rows', 10000000)\n",
    "df = pd.concat([r.result() for r in futures])\n",
    "df.info()"
   ]
  },
  {
   "cell_type": "code",
   "execution_count": null,
   "metadata": {},
   "outputs": [],
   "source": [
    "# Make sure that when the entity source is JNLPBA, all lookup related metadata is null (can happen if spans are mangled)\n",
    "assert len(df[(df['ent_src'] == 'jnlpba') & (df['ent_id'].notnull())]) == 0\n",
    "# Also make sure that entity metadata IS present when source is for a direct lookup\n",
    "assert len(df[(df['ent_src'] == 'lkp') & (df['ent_id'].isnull())]) == 0"
   ]
  },
  {
   "cell_type": "code",
   "execution_count": 11,
   "metadata": {},
   "outputs": [],
   "source": [
    "# doc = nlp('Some T-helper-17 cells secreting IL2 and STAT3 where CD4 is expressed on surface of antigen-presenting DCs')"
   ]
  },
  {
   "cell_type": "code",
   "execution_count": 16,
   "metadata": {},
   "outputs": [],
   "source": [
    "# #doc = nlp('The Vγ4 T lymphocyte subset predominated among the IL-17+ cell populations and the TCM in the lungs of CLP mice (unlike Vγ1 and αβ T lymphocytes) and was strongly biased toward IL-17 rather than toward IFN-γ production')\n",
    "# doc = nlp(u'We found this occurred through the activation of tumor-infiltrating, exhausted CD8+ T cells (CD8+ TILs) that had lost most of the original functions, such as the ability to produce multiple cytokines and cytotoxicity. CD8+ TILs of mice exposed to Met begin to rapidly produce multiple cytokines, including interleukin-2 (IL-2), tumor necrosis factor alpha (TNFα), and interferon gamma (IFNγ), and differentiate into effector memory T cells (TEM); otherwise, central memory T cells (TCM) are dominant in the tumor microenvironment')\n",
    "# to_df(doc)"
   ]
  },
  {
   "cell_type": "code",
   "execution_count": 35,
   "metadata": {},
   "outputs": [],
   "source": [
    "# path = '/Users/eczech/data/research/hammer/nlp/20190311-pubmed-tcell-relation/articles/corpus/corpus_01/links/PMC5704053.txt'\n",
    "# doc = None\n",
    "# with open(path, 'r') as fd:\n",
    "#     text = fd.read()\n",
    "#     doc = nlp(text)\n",
    "#     #doc._.pmc_id = osp.basename(path).replace('.txt', '')"
   ]
  },
  {
   "cell_type": "markdown",
   "metadata": {},
   "source": [
    "### Tag Export"
   ]
  },
  {
   "cell_type": "code",
   "execution_count": 16,
   "metadata": {},
   "outputs": [
    {
     "name": "stdout",
     "output_type": "stream",
     "text": [
      "<class 'pandas.core.frame.DataFrame'>\n",
      "Int64Index: 2310512 entries, 0 to 78\n",
      "Data columns (total 11 columns):\n",
      "end_chr       2310512 non-null int64\n",
      "end_wrd       2310512 non-null int64\n",
      "ent_id        961277 non-null object\n",
      "ent_lbl       961277 non-null object\n",
      "ent_prefid    961277 non-null object\n",
      "ent_src       2310512 non-null object\n",
      "id            2310512 non-null object\n",
      "start_chr     2310512 non-null int64\n",
      "start_wrd     2310512 non-null int64\n",
      "text          2310512 non-null object\n",
      "type          2310512 non-null object\n",
      "dtypes: int64(4), object(7)\n",
      "memory usage: 211.5+ MB\n"
     ]
    }
   ],
   "source": [
    "pd.set_option('display.max_info_rows', 10000000)\n",
    "df.info()"
   ]
  },
  {
   "cell_type": "code",
   "execution_count": 21,
   "metadata": {},
   "outputs": [
    {
     "data": {
      "text/plain": [
       "'/lab/data/articles/corpus/corpus_01/tags-union.csv'"
      ]
     },
     "execution_count": 21,
     "metadata": {},
     "output_type": "execute_result"
    }
   ],
   "source": [
    "tags_file = osp.join(corpus_dir, 'tags-union.csv')\n",
    "df.to_csv(tags_file, index=False)\n",
    "tags_file"
   ]
  },
  {
   "cell_type": "markdown",
   "metadata": {},
   "source": [
    "### Relation Export\n",
    "\n",
    "Export relations to be used to generate gold labellings within Snorkel"
   ]
  },
  {
   "cell_type": "code",
   "execution_count": 18,
   "metadata": {},
   "outputs": [],
   "source": [
    "from bratreader.repomodel import RepoModel\n",
    "repo_model = RepoModel(collection_dir)"
   ]
  },
  {
   "cell_type": "code",
   "execution_count": 19,
   "metadata": {},
   "outputs": [
    {
     "data": {
      "text/plain": [
       "89"
      ]
     },
     "execution_count": 19,
     "metadata": {},
     "output_type": "execute_result"
    }
   ],
   "source": [
    "len(repo_model.documents)"
   ]
  },
  {
   "cell_type": "code",
   "execution_count": 24,
   "metadata": {},
   "outputs": [],
   "source": [
    "# repo_model.documents.keys()"
   ]
  },
  {
   "cell_type": "code",
   "execution_count": 25,
   "metadata": {},
   "outputs": [],
   "source": [
    "# doc = repo_model.documents['PMC2646571']\n",
    "# annot = doc.annotations[1]"
   ]
  },
  {
   "cell_type": "code",
   "execution_count": 26,
   "metadata": {},
   "outputs": [],
   "source": [
    "# annot.labels, annot.links, annot.realspan, annot.spans, annot.repr, annot.words"
   ]
  },
  {
   "cell_type": "code",
   "execution_count": 27,
   "metadata": {},
   "outputs": [],
   "source": [
    "# doc.key"
   ]
  },
  {
   "cell_type": "code",
   "execution_count": 20,
   "metadata": {},
   "outputs": [
    {
     "data": {
      "text/html": [
       "<div>\n",
       "<style scoped>\n",
       "    .dataframe tbody tr th:only-of-type {\n",
       "        vertical-align: middle;\n",
       "    }\n",
       "\n",
       "    .dataframe tbody tr th {\n",
       "        vertical-align: top;\n",
       "    }\n",
       "\n",
       "    .dataframe thead th {\n",
       "        text-align: right;\n",
       "    }\n",
       "</style>\n",
       "<table border=\"1\" class=\"dataframe\">\n",
       "  <thead>\n",
       "    <tr style=\"text-align: right;\">\n",
       "      <th></th>\n",
       "      <th>e1_end_chr</th>\n",
       "      <th>e1_start_chr</th>\n",
       "      <th>e1_text</th>\n",
       "      <th>e1_typ</th>\n",
       "      <th>e2_end_chr</th>\n",
       "      <th>e2_start_chr</th>\n",
       "      <th>e2_text</th>\n",
       "      <th>e2_typ</th>\n",
       "      <th>id</th>\n",
       "      <th>rel_typ</th>\n",
       "    </tr>\n",
       "  </thead>\n",
       "  <tbody>\n",
       "    <tr>\n",
       "      <th>0</th>\n",
       "      <td>24</td>\n",
       "      <td>19</td>\n",
       "      <td>Gfi-1</td>\n",
       "      <td>TRANSCRIPTION_FACTOR</td>\n",
       "      <td>85</td>\n",
       "      <td>81</td>\n",
       "      <td>Th17</td>\n",
       "      <td>IMMUNE_CELL_TYPE</td>\n",
       "      <td>PMC2646571</td>\n",
       "      <td>Differentiation</td>\n",
       "    </tr>\n",
       "    <tr>\n",
       "      <th>1</th>\n",
       "      <td>44</td>\n",
       "      <td>39</td>\n",
       "      <td>TGF-β</td>\n",
       "      <td>CYTOKINE</td>\n",
       "      <td>85</td>\n",
       "      <td>81</td>\n",
       "      <td>Th17</td>\n",
       "      <td>IMMUNE_CELL_TYPE</td>\n",
       "      <td>PMC2646571</td>\n",
       "      <td>Induction</td>\n",
       "    </tr>\n",
       "    <tr>\n",
       "      <th>2</th>\n",
       "      <td>44</td>\n",
       "      <td>39</td>\n",
       "      <td>TGF-β</td>\n",
       "      <td>CYTOKINE</td>\n",
       "      <td>119</td>\n",
       "      <td>97</td>\n",
       "      <td>inducible regulatory T</td>\n",
       "      <td>IMMUNE_CELL_TYPE</td>\n",
       "      <td>PMC2646571</td>\n",
       "      <td>Induction</td>\n",
       "    </tr>\n",
       "    <tr>\n",
       "      <th>3</th>\n",
       "      <td>24</td>\n",
       "      <td>19</td>\n",
       "      <td>Gfi-1</td>\n",
       "      <td>TRANSCRIPTION_FACTOR</td>\n",
       "      <td>119</td>\n",
       "      <td>97</td>\n",
       "      <td>inducible regulatory T</td>\n",
       "      <td>IMMUNE_CELL_TYPE</td>\n",
       "      <td>PMC2646571</td>\n",
       "      <td>Differentiation</td>\n",
       "    </tr>\n",
       "    <tr>\n",
       "      <th>8</th>\n",
       "      <td>371</td>\n",
       "      <td>366</td>\n",
       "      <td>Gfi-1</td>\n",
       "      <td>TRANSCRIPTION_FACTOR</td>\n",
       "      <td>436</td>\n",
       "      <td>433</td>\n",
       "      <td>Th2</td>\n",
       "      <td>IMMUNE_CELL_TYPE</td>\n",
       "      <td>PMC2646571</td>\n",
       "      <td>Differentiation</td>\n",
       "    </tr>\n",
       "  </tbody>\n",
       "</table>\n",
       "</div>"
      ],
      "text/plain": [
       "   e1_end_chr  e1_start_chr e1_text                e1_typ  e2_end_chr  \\\n",
       "0          24            19   Gfi-1  TRANSCRIPTION_FACTOR          85   \n",
       "1          44            39   TGF-β              CYTOKINE          85   \n",
       "2          44            39   TGF-β              CYTOKINE         119   \n",
       "3          24            19   Gfi-1  TRANSCRIPTION_FACTOR         119   \n",
       "8         371           366   Gfi-1  TRANSCRIPTION_FACTOR         436   \n",
       "\n",
       "   e2_start_chr                 e2_text            e2_typ          id  \\\n",
       "0            81                    Th17  IMMUNE_CELL_TYPE  PMC2646571   \n",
       "1            81                    Th17  IMMUNE_CELL_TYPE  PMC2646571   \n",
       "2            97  inducible regulatory T  IMMUNE_CELL_TYPE  PMC2646571   \n",
       "3            97  inducible regulatory T  IMMUNE_CELL_TYPE  PMC2646571   \n",
       "8           433                     Th2  IMMUNE_CELL_TYPE  PMC2646571   \n",
       "\n",
       "           rel_typ  \n",
       "0  Differentiation  \n",
       "1        Induction  \n",
       "2        Induction  \n",
       "3  Differentiation  \n",
       "8  Differentiation  "
      ]
     },
     "execution_count": 20,
     "metadata": {},
     "output_type": "execute_result"
    }
   ],
   "source": [
    "def get_relations(doc):\n",
    "    relations = []\n",
    "    \n",
    "    # Map from entity type label used in annotation to label used within snorkel\n",
    "    ent_typ_map = {\n",
    "        'TF': ENT_TYP_TF,\n",
    "        'CELL_TYPE': ENT_TYP_CT,\n",
    "        'CYTOKINE': ENT_TYP_CK\n",
    "    }\n",
    "    \n",
    "    for a2 in doc.annotations:\n",
    "        # Links only exist as INCOMING links meaning that a2 is the target of relations\n",
    "        # and a1 will be the source\n",
    "        if a2.links:\n",
    "            for relation_type, annots in a2.links.items():\n",
    "                for a1 in annots:\n",
    "                    assert len(a1.labels) == len(a2.labels) == 1\n",
    "                    a2_typ = ent_typ_map[list(a2.labels.keys())[0]]\n",
    "                    \n",
    "                    # For consistency with snorkel convention, ensure that the second\n",
    "                    # value in relation entry is the cell type and all others are first\n",
    "                    e1, e2 = a1, a2\n",
    "                    if a2_typ != ENT_TYP_CT:\n",
    "                        e1, e2 = a2, a1\n",
    "                    \n",
    "                    relations.append(dict(\n",
    "                        id=doc.key,\n",
    "                        rel_typ=relation_type, \n",
    "                        e1_typ=ent_typ_map[list(e1.labels.keys())[0]], \n",
    "                        e1_start_chr=e1.realspan[0], \n",
    "                        e1_end_chr=e1.realspan[1], \n",
    "                        e1_text=e1.repr,\n",
    "                        e2_typ=ent_typ_map[list(e2.labels.keys())[0]], \n",
    "                        e2_start_chr=e2.realspan[0], \n",
    "                        e2_end_chr=e2.realspan[1], \n",
    "                        e2_text=e2.repr\n",
    "                    ))\n",
    "    return relations\n",
    "df = pd.DataFrame([r for k, doc in repo_model.documents.items() for r in get_relations(doc)])\n",
    "df = df.drop_duplicates()\n",
    "df.head()"
   ]
  },
  {
   "cell_type": "code",
   "execution_count": 21,
   "metadata": {},
   "outputs": [
    {
     "data": {
      "text/plain": [
       "e1_typ                e2_typ            rel_typ        \n",
       "CYTOKINE              IMMUNE_CELL_TYPE  Induction          150\n",
       "                                        Secretion          131\n",
       "TRANSCRIPTION_FACTOR  IMMUNE_CELL_TYPE  Differentiation    119\n",
       "dtype: int64"
      ]
     },
     "execution_count": 21,
     "metadata": {},
     "output_type": "execute_result"
    }
   ],
   "source": [
    "df.groupby(['e1_typ', 'e2_typ', 'rel_typ']).size()"
   ]
  },
  {
   "cell_type": "code",
   "execution_count": 22,
   "metadata": {},
   "outputs": [],
   "source": [
    "#df_exp[df_exp['id'] == 'PMC3304099']"
   ]
  },
  {
   "cell_type": "markdown",
   "metadata": {},
   "source": [
    "# Export"
   ]
  },
  {
   "cell_type": "code",
   "execution_count": 23,
   "metadata": {},
   "outputs": [
    {
     "data": {
      "text/plain": [
       "'/Users/eczech/data/research/hammer/nlp/20190311-pubmed-tcell-relation/articles/corpus/corpus_01/relations.csv'"
      ]
     },
     "execution_count": 23,
     "metadata": {},
     "output_type": "execute_result"
    }
   ],
   "source": [
    "path = osp.join(corpus_dir, 'relations.csv')\n",
    "df.to_csv(path, index=False)\n",
    "path"
   ]
  },
  {
   "cell_type": "markdown",
   "metadata": {},
   "source": [
    "<hr>\n",
    "\n",
    "### Tag EDA"
   ]
  },
  {
   "cell_type": "code",
   "execution_count": 22,
   "metadata": {},
   "outputs": [
    {
     "data": {
      "text/html": [
       "<div>\n",
       "<style scoped>\n",
       "    .dataframe tbody tr th:only-of-type {\n",
       "        vertical-align: middle;\n",
       "    }\n",
       "\n",
       "    .dataframe tbody tr th {\n",
       "        vertical-align: top;\n",
       "    }\n",
       "\n",
       "    .dataframe thead th {\n",
       "        text-align: right;\n",
       "    }\n",
       "</style>\n",
       "<table border=\"1\" class=\"dataframe\">\n",
       "  <thead>\n",
       "    <tr style=\"text-align: right;\">\n",
       "      <th></th>\n",
       "      <th>end_chr</th>\n",
       "      <th>end_wrd</th>\n",
       "      <th>ent_id</th>\n",
       "      <th>ent_lbl</th>\n",
       "      <th>ent_prefid</th>\n",
       "      <th>ent_src</th>\n",
       "      <th>id</th>\n",
       "      <th>start_chr</th>\n",
       "      <th>start_wrd</th>\n",
       "      <th>text</th>\n",
       "      <th>type</th>\n",
       "    </tr>\n",
       "  </thead>\n",
       "  <tbody>\n",
       "    <tr>\n",
       "      <th>0</th>\n",
       "      <td>828</td>\n",
       "      <td>148</td>\n",
       "      <td>NaN</td>\n",
       "      <td>NaN</td>\n",
       "      <td>NaN</td>\n",
       "      <td>jnlpba</td>\n",
       "      <td>PMC100031</td>\n",
       "      <td>821</td>\n",
       "      <td>146</td>\n",
       "      <td>B cells</td>\n",
       "      <td>CELL_TYPE</td>\n",
       "    </tr>\n",
       "    <tr>\n",
       "      <th>1</th>\n",
       "      <td>957</td>\n",
       "      <td>170</td>\n",
       "      <td>NaN</td>\n",
       "      <td>NaN</td>\n",
       "      <td>NaN</td>\n",
       "      <td>jnlpba</td>\n",
       "      <td>PMC100031</td>\n",
       "      <td>912</td>\n",
       "      <td>165</td>\n",
       "      <td>immunoglobulin M (IgM)-secreting spleen cells</td>\n",
       "      <td>CELL_TYPE</td>\n",
       "    </tr>\n",
       "    <tr>\n",
       "      <th>2</th>\n",
       "      <td>1012</td>\n",
       "      <td>181</td>\n",
       "      <td>NaN</td>\n",
       "      <td>NaN</td>\n",
       "      <td>NaN</td>\n",
       "      <td>jnlpba</td>\n",
       "      <td>PMC100031</td>\n",
       "      <td>991</td>\n",
       "      <td>178</td>\n",
       "      <td>IgM-secreting B cells</td>\n",
       "      <td>CELL_TYPE</td>\n",
       "    </tr>\n",
       "    <tr>\n",
       "      <th>3</th>\n",
       "      <td>1375</td>\n",
       "      <td>239</td>\n",
       "      <td>NaN</td>\n",
       "      <td>NaN</td>\n",
       "      <td>NaN</td>\n",
       "      <td>jnlpba</td>\n",
       "      <td>PMC100031</td>\n",
       "      <td>1340</td>\n",
       "      <td>236</td>\n",
       "      <td>non-parasite-directed B-cell clones</td>\n",
       "      <td>CELL_LINE</td>\n",
       "    </tr>\n",
       "    <tr>\n",
       "      <th>4</th>\n",
       "      <td>1697</td>\n",
       "      <td>292</td>\n",
       "      <td>NaN</td>\n",
       "      <td>NaN</td>\n",
       "      <td>NaN</td>\n",
       "      <td>jnlpba</td>\n",
       "      <td>PMC100031</td>\n",
       "      <td>1684</td>\n",
       "      <td>288</td>\n",
       "      <td>B and T cells</td>\n",
       "      <td>CELL_TYPE</td>\n",
       "    </tr>\n",
       "  </tbody>\n",
       "</table>\n",
       "</div>"
      ],
      "text/plain": [
       "   end_chr  end_wrd ent_id ent_lbl ent_prefid ent_src         id  start_chr  \\\n",
       "0      828      148    NaN     NaN        NaN  jnlpba  PMC100031        821   \n",
       "1      957      170    NaN     NaN        NaN  jnlpba  PMC100031        912   \n",
       "2     1012      181    NaN     NaN        NaN  jnlpba  PMC100031        991   \n",
       "3     1375      239    NaN     NaN        NaN  jnlpba  PMC100031       1340   \n",
       "4     1697      292    NaN     NaN        NaN  jnlpba  PMC100031       1684   \n",
       "\n",
       "   start_wrd                                           text       type  \n",
       "0        146                                        B cells  CELL_TYPE  \n",
       "1        165  immunoglobulin M (IgM)-secreting spleen cells  CELL_TYPE  \n",
       "2        178                          IgM-secreting B cells  CELL_TYPE  \n",
       "3        236            non-parasite-directed B-cell clones  CELL_LINE  \n",
       "4        288                                  B and T cells  CELL_TYPE  "
      ]
     },
     "execution_count": 22,
     "metadata": {},
     "output_type": "execute_result"
    }
   ],
   "source": [
    "import pandas as pd\n",
    "import os.path as osp\n",
    "df = pd.read_csv(osp.join(corpus_dir, 'tags.csv'))\n",
    "df.head()"
   ]
  },
  {
   "cell_type": "code",
   "execution_count": 23,
   "metadata": {},
   "outputs": [
    {
     "data": {
      "text/plain": [
       "CELL_TYPE               1054510\n",
       "CYTOKINE                 485040\n",
       "IMMUNE_CELL_TYPE         314554\n",
       "CELL_LINE                294725\n",
       "TRANSCRIPTION_FACTOR     161683\n",
       "Name: type, dtype: int64"
      ]
     },
     "execution_count": 23,
     "metadata": {},
     "output_type": "execute_result"
    }
   ],
   "source": [
    "df['type'].value_counts()"
   ]
  },
  {
   "cell_type": "code",
   "execution_count": 24,
   "metadata": {},
   "outputs": [
    {
     "data": {
      "text/plain": [
       "ent_lbl\n",
       "FOXP3     23964\n",
       "STAT3      9437\n",
       "TBX21      9248\n",
       "RORC       7017\n",
       "GATA3      4697\n",
       "STAT1      3398\n",
       "BCL6       2709\n",
       "PRDM6      2656\n",
       "IRF4       2504\n",
       "EOMES      2390\n",
       "PRDM1      2241\n",
       "SPI1       2016\n",
       "STAT6      1846\n",
       "FOXO1      1824\n",
       "NFATC1     1774\n",
       "STAT5B     1772\n",
       "CHAMP1     1760\n",
       "STAT5A     1746\n",
       "RUNX1      1739\n",
       "IRF8       1721\n",
       "STAT4      1604\n",
       "MYC        1324\n",
       "NR2E3      1319\n",
       "BCL11B     1238\n",
       "BATF       1170\n",
       "JUNB       1151\n",
       "MAF        1150\n",
       "NFATC2     1097\n",
       "POU5F1      905\n",
       "JUN         888\n",
       "CREB1       855\n",
       "RUNX3       848\n",
       "TCF7        831\n",
       "ZBTB16      826\n",
       "KLF4        810\n",
       "dtype: int64"
      ]
     },
     "execution_count": 24,
     "metadata": {},
     "output_type": "execute_result"
    }
   ],
   "source": [
    "(\n",
    "    df\n",
    "    .pipe(lambda df: df[df['type'] == ENT_TYP_TF])\n",
    "    .groupby('ent_lbl').size()\n",
    "    .sort_values(ascending=False)\n",
    "    .head(35)\n",
    ")"
   ]
  },
  {
   "cell_type": "code",
   "execution_count": 25,
   "metadata": {},
   "outputs": [
    {
     "data": {
      "text/plain": [
       "id          ent_lbl  text\n",
       "PMC4734616  RELA     RELA    41\n",
       "PMC2196335  RELA     RELA    25\n",
       "PMC4920892  RELA     RELA    22\n",
       "PMC4821646  RELA     RELA    18\n",
       "PMC5152706  RELA     RELA    15\n",
       "PMC3543335  RELA     RELA    15\n",
       "PMC6087740  RELA     RELA    14\n",
       "PMC5924754  RELA     RELA    14\n",
       "PMC4172221  RELA     RELA    12\n",
       "PMC3724937  RELA     RELA    11\n",
       "PMC3823077  RELA     RELA    10\n",
       "PMC4695108  RELA     RELA    10\n",
       "PMC6435687  RELA     RELA     8\n",
       "PMC4846868  RELA     RELA     7\n",
       "PMC4491573  RELA     RELA     7\n",
       "dtype: int64"
      ]
     },
     "execution_count": 25,
     "metadata": {},
     "output_type": "execute_result"
    }
   ],
   "source": [
    "(\n",
    "    df\n",
    "    .pipe(lambda df: df[df['type'] == ENT_TYP_TF])\n",
    "    .pipe(lambda df: df[df['ent_lbl'] == 'RELA'])\n",
    "    .assign(text=lambda df: df['text'].str.upper())\n",
    "    .groupby(['id', 'ent_lbl', 'text'])\n",
    "    .size().sort_values(ascending=False)   \n",
    "    .head(15)\n",
    ")"
   ]
  },
  {
   "cell_type": "code",
   "execution_count": 21,
   "metadata": {},
   "outputs": [],
   "source": [
    "#!cat $corpus_dir/docs/PMC4734616.txt"
   ]
  }
 ],
 "metadata": {
  "kernelspec": {
   "display_name": "Python 3",
   "language": "python",
   "name": "python3"
  },
  "language_info": {
   "codemirror_mode": {
    "name": "ipython",
    "version": 3
   },
   "file_extension": ".py",
   "mimetype": "text/x-python",
   "name": "python",
   "nbconvert_exporter": "python",
   "pygments_lexer": "ipython3",
   "version": "3.6.8"
  }
 },
 "nbformat": 4,
 "nbformat_minor": 2
}
