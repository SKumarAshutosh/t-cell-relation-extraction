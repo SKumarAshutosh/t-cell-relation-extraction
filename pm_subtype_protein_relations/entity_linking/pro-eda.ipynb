{
 "cells": [
  {
   "cell_type": "code",
   "execution_count": 2,
   "metadata": {},
   "outputs": [
    {
     "data": {
      "text/plain": [
       "get_ontology(\"http://purl.obolibrary.org/obo/pr.owl#\")"
      ]
     },
     "execution_count": 2,
     "metadata": {},
     "output_type": "execute_result"
    }
   ],
   "source": [
    "from owlready2 import get_ontology\n",
    "import pandas as pd\n",
    "#onto_path.append(\"/path/to/your/local/ontology/repository\")\n",
    "onto = get_ontology(\"/Users/eczech/data/research/hammer/t-cell-relation-extraction/pro/pr.owl\")\n",
    "onto.load()"
   ]
  },
  {
   "cell_type": "code",
   "execution_count": 97,
   "metadata": {},
   "outputs": [],
   "source": [
    "pro = onto.get_namespace(\"http://purl.obolibrary.org/obo/\")"
   ]
  },
  {
   "cell_type": "code",
   "execution_count": 100,
   "metadata": {},
   "outputs": [
    {
     "data": {
      "text/plain": [
       "(['ILK:integrin beta-1 (human)'], 'PR_000028448')"
      ]
     },
     "execution_count": 100,
     "metadata": {},
     "output_type": "execute_result"
    }
   ],
   "source": [
    "pro.PR_000028448.label, pro.PR_000028448.name"
   ]
  },
  {
   "cell_type": "code",
   "execution_count": 215,
   "metadata": {},
   "outputs": [
    {
     "data": {
      "text/plain": [
       "[rdf-schema.comment,\n",
       " rdf-schema.label,\n",
       " owl.deprecated,\n",
       " oboInOwl.hasOBOFormatVersion,\n",
       " oboInOwl.date,\n",
       " oboInOwl.auto-generated-by,\n",
       " oboInOwl.saved-by,\n",
       " oboInOwl.default-namespace,\n",
       " obo.IAO_0000115,\n",
       " obo.IAO_0100001,\n",
       " pr.NC-IUPHAR,\n",
       " oboInOwl.SynonymTypeProperty,\n",
       " oboInOwl.hasExactSynonym,\n",
       " oboInOwl.hasScope,\n",
       " pr.PRO-common-name,\n",
       " pr.PRO-org-label,\n",
       " pr.PRO-proteoform-ftid,\n",
       " pr.PRO-proteoform-std,\n",
       " pr.PRO-short-label,\n",
       " pr.PSI-MOD-label,\n",
       " oboInOwl.consider,\n",
       " oboInOwl.hasAlternativeId,\n",
       " oboInOwl.hasBroadSynonym,\n",
       " oboInOwl.hasDbXref,\n",
       " oboInOwl.hasNarrowSynonym,\n",
       " oboInOwl.hasOBONamespace,\n",
       " oboInOwl.hasRelatedSynonym,\n",
       " oboInOwl.hasSynonymType,\n",
       " oboInOwl.id,\n",
       " oboInOwl.is_transitive,\n",
       " oboInOwl.shorthand]"
      ]
     },
     "execution_count": 215,
     "metadata": {},
     "output_type": "execute_result"
    }
   ],
   "source": [
    "list(onto.annotation_properties())"
   ]
  },
  {
   "cell_type": "code",
   "execution_count": 305,
   "metadata": {
    "scrolled": false
   },
   "outputs": [
    {
     "data": {
      "text/plain": [
       "[obo.PR_000000182]"
      ]
     },
     "execution_count": 305,
     "metadata": {},
     "output_type": "execute_result"
    }
   ],
   "source": [
    "#res = list(onto.search(label='interleukin-4 receptor subunit alpha, signal peptide removed form'))\n",
    "#res = list(onto.search(label='CD48 molecule'))\n",
    "#res = list(onto.search(label='C-X-C chemokine receptor type 3'))\n",
    "#res = list(onto.search(id='Araport:AT5G50600'))\n",
    "res = list(onto.search(id='PR:000000182'))\n",
    "res"
   ]
  },
  {
   "cell_type": "code",
   "execution_count": 306,
   "metadata": {},
   "outputs": [],
   "source": [
    "v = res[0]"
   ]
  },
  {
   "cell_type": "code",
   "execution_count": 307,
   "metadata": {},
   "outputs": [
    {
     "data": {
      "text/plain": [
       "obo.PR_000000182"
      ]
     },
     "execution_count": 307,
     "metadata": {},
     "output_type": "execute_result"
    }
   ],
   "source": [
    "v"
   ]
  },
  {
   "cell_type": "code",
   "execution_count": 311,
   "metadata": {},
   "outputs": [
    {
     "data": {
      "text/plain": [
       "['TGFB']"
      ]
     },
     "execution_count": 311,
     "metadata": {},
     "output_type": "execute_result"
    }
   ],
   "source": [
    "v.hasRelatedSynonym"
   ]
  },
  {
   "cell_type": "code",
   "execution_count": 309,
   "metadata": {},
   "outputs": [
    {
     "data": {
      "text/plain": [
       "['TGF-beta-1', 'TGFB1']"
      ]
     },
     "execution_count": 309,
     "metadata": {},
     "output_type": "execute_result"
    }
   ],
   "source": [
    "v.hasExactSynonym"
   ]
  },
  {
   "cell_type": "code",
   "execution_count": 312,
   "metadata": {},
   "outputs": [
    {
     "data": {
      "text/plain": [
       "mappingproxy({'namespace': get_ontology(\"http://purl.obolibrary.org/obo/pr.owl#\").get_namespace(\"http://purl.obolibrary.org/obo/\"),\n",
       "              'storid': 67964,\n",
       "              '_name': 'PR_000000182',\n",
       "              'is_a': [obo.PR_000000046],\n",
       "              '_equivalent_to': None,\n",
       "              '__module__': 'owlready2.entity',\n",
       "              '__doc__': None,\n",
       "              '__label': ['TGF-beta 1'],\n",
       "              '__hasExactSynonym': ['TGF-beta-1', 'TGFB1'],\n",
       "              '__id': ['PR:000000182'],\n",
       "              '__hasScope': [],\n",
       "              '__hasRelatedSynonym': ['TGFB']})"
      ]
     },
     "execution_count": 312,
     "metadata": {},
     "output_type": "execute_result"
    }
   ],
   "source": [
    "v.__dict__"
   ]
  },
  {
   "cell_type": "code",
   "execution_count": 226,
   "metadata": {},
   "outputs": [
    {
     "data": {
      "text/plain": [
       "('PR_000001308',\n",
       " ['CD48 molecule'],\n",
       " ['B-lymphocyte activation marker BLAST-1',\n",
       "  'BCM1 surface antigen',\n",
       "  'BLAST-1',\n",
       "  'CD48',\n",
       "  'CD48 antigen',\n",
       "  'HM48-1',\n",
       "  'MRC OX-45 surface antigen',\n",
       "  'TCT.1',\n",
       "  'leukocyte antigen MEM-102',\n",
       "  'sgp-60'],\n",
       " ['PR:000001308'])"
      ]
     },
     "execution_count": 226,
     "metadata": {},
     "output_type": "execute_result"
    }
   ],
   "source": [
    "v.name, v.label, v.hasExactSynonym, v.id"
   ]
  },
  {
   "cell_type": "code",
   "execution_count": 313,
   "metadata": {},
   "outputs": [
    {
     "name": "stdout",
     "output_type": "stream",
     "text": [
      "<class 'pandas.core.frame.DataFrame'>\n",
      "RangeIndex: 920702 entries, 0 to 920701\n",
      "Data columns (total 5 columns):\n",
      "namespace    920702 non-null object\n",
      "id           920702 non-null object\n",
      "name         920702 non-null object\n",
      "label        920702 non-null object\n",
      "syn          587753 non-null object\n",
      "dtypes: object(5)\n",
      "memory usage: 35.1+ MB\n"
     ]
    }
   ],
   "source": [
    "df = pd.DataFrame([\n",
    "    (str(c.namespace).split('/')[-2], c.id[0], c.name, l, s)\n",
    "    for c in onto.classes()\n",
    "    for l in (c.label or [None])\n",
    "    for s in (c.hasExactSynonym or [None]) + (c.hasRelatedSynonym or [None])\n",
    "], columns=['namespace', 'id', 'name', 'label', 'syn'])\n",
    "df.info()"
   ]
  },
  {
   "cell_type": "code",
   "execution_count": 314,
   "metadata": {},
   "outputs": [
    {
     "data": {
      "text/html": [
       "<div>\n",
       "<style scoped>\n",
       "    .dataframe tbody tr th:only-of-type {\n",
       "        vertical-align: middle;\n",
       "    }\n",
       "\n",
       "    .dataframe tbody tr th {\n",
       "        vertical-align: top;\n",
       "    }\n",
       "\n",
       "    .dataframe thead th {\n",
       "        text-align: right;\n",
       "    }\n",
       "</style>\n",
       "<table border=\"1\" class=\"dataframe\">\n",
       "  <thead>\n",
       "    <tr style=\"text-align: right;\">\n",
       "      <th></th>\n",
       "      <th>namespace</th>\n",
       "      <th>id</th>\n",
       "      <th>name</th>\n",
       "      <th>label</th>\n",
       "      <th>syn</th>\n",
       "    </tr>\n",
       "  </thead>\n",
       "  <tbody>\n",
       "    <tr>\n",
       "      <th>139387</th>\n",
       "      <td>obo</td>\n",
       "      <td>PR:000001207</td>\n",
       "      <td>PR_000001207</td>\n",
       "      <td>C-X-C chemokine receptor type 3</td>\n",
       "      <td>CXCR3</td>\n",
       "    </tr>\n",
       "  </tbody>\n",
       "</table>\n",
       "</div>"
      ],
      "text/plain": [
       "       namespace            id          name                            label  \\\n",
       "139387       obo  PR:000001207  PR_000001207  C-X-C chemokine receptor type 3   \n",
       "\n",
       "          syn  \n",
       "139387  CXCR3  "
      ]
     },
     "execution_count": 314,
     "metadata": {},
     "output_type": "execute_result"
    }
   ],
   "source": [
    "df[df['syn'] == 'CXCR3']"
   ]
  },
  {
   "cell_type": "code",
   "execution_count": 316,
   "metadata": {},
   "outputs": [
    {
     "data": {
      "text/html": [
       "<div>\n",
       "<style scoped>\n",
       "    .dataframe tbody tr th:only-of-type {\n",
       "        vertical-align: middle;\n",
       "    }\n",
       "\n",
       "    .dataframe tbody tr th {\n",
       "        vertical-align: top;\n",
       "    }\n",
       "\n",
       "    .dataframe thead th {\n",
       "        text-align: right;\n",
       "    }\n",
       "</style>\n",
       "<table border=\"1\" class=\"dataframe\">\n",
       "  <thead>\n",
       "    <tr style=\"text-align: right;\">\n",
       "      <th></th>\n",
       "      <th>namespace</th>\n",
       "      <th>id</th>\n",
       "      <th>name</th>\n",
       "      <th>label</th>\n",
       "      <th>syn</th>\n",
       "    </tr>\n",
       "  </thead>\n",
       "  <tbody>\n",
       "  </tbody>\n",
       "</table>\n",
       "</div>"
      ],
      "text/plain": [
       "Empty DataFrame\n",
       "Columns: [namespace, id, name, label, syn]\n",
       "Index: []"
      ]
     },
     "execution_count": 316,
     "metadata": {},
     "output_type": "execute_result"
    }
   ],
   "source": [
    "df[df['syn'] == 'IL12']"
   ]
  },
  {
   "cell_type": "code",
   "execution_count": 317,
   "metadata": {},
   "outputs": [
    {
     "data": {
      "text/plain": [
       "obo        733955\n",
       "cgi-bin     51463\n",
       "gene        43576\n",
       "marker      33638\n",
       "locus       31664\n",
       "result      10250\n",
       "reports      7834\n",
       "view         6556\n",
       "cgnc         1106\n",
       "id            660\n",
       "Name: namespace, dtype: int64"
      ]
     },
     "execution_count": 317,
     "metadata": {},
     "output_type": "execute_result"
    }
   ],
   "source": [
    "df['namespace'].value_counts()"
   ]
  },
  {
   "cell_type": "code",
   "execution_count": 318,
   "metadata": {},
   "outputs": [
    {
     "name": "stdout",
     "output_type": "stream",
     "text": [
      "<class 'pandas.core.frame.DataFrame'>\n",
      "Int64Index: 587743 entries, 4 to 920699\n",
      "Data columns (total 5 columns):\n",
      "namespace    587743 non-null object\n",
      "id           587743 non-null object\n",
      "name         587743 non-null object\n",
      "label        587743 non-null object\n",
      "syn          587743 non-null object\n",
      "dtypes: object(5)\n",
      "memory usage: 26.9+ MB\n"
     ]
    }
   ],
   "source": [
    "dff = df[df['namespace'] == 'obo'].dropna().drop_duplicates()\n",
    "dff.info()"
   ]
  },
  {
   "cell_type": "code",
   "execution_count": 319,
   "metadata": {},
   "outputs": [
    {
     "data": {
      "text/plain": [
       "False    587743\n",
       "dtype: int64"
      ]
     },
     "execution_count": 319,
     "metadata": {},
     "output_type": "execute_result"
    }
   ],
   "source": [
    "(dff['id'].str.replace(':', '_') != dff['name']).value_counts()"
   ]
  },
  {
   "cell_type": "code",
   "execution_count": 320,
   "metadata": {},
   "outputs": [
    {
     "data": {
      "text/html": [
       "<div>\n",
       "<style scoped>\n",
       "    .dataframe tbody tr th:only-of-type {\n",
       "        vertical-align: middle;\n",
       "    }\n",
       "\n",
       "    .dataframe tbody tr th {\n",
       "        vertical-align: top;\n",
       "    }\n",
       "\n",
       "    .dataframe thead th {\n",
       "        text-align: right;\n",
       "    }\n",
       "</style>\n",
       "<table border=\"1\" class=\"dataframe\">\n",
       "  <thead>\n",
       "    <tr style=\"text-align: right;\">\n",
       "      <th></th>\n",
       "      <th>namespace</th>\n",
       "      <th>id</th>\n",
       "      <th>name</th>\n",
       "      <th>label</th>\n",
       "      <th>syn</th>\n",
       "    </tr>\n",
       "  </thead>\n",
       "  <tbody>\n",
       "    <tr>\n",
       "      <th>135636</th>\n",
       "      <td>obo</td>\n",
       "      <td>PR:000000182</td>\n",
       "      <td>PR_000000182</td>\n",
       "      <td>TGF-beta 1</td>\n",
       "      <td>TGFB</td>\n",
       "    </tr>\n",
       "    <tr>\n",
       "      <th>136466</th>\n",
       "      <td>obo</td>\n",
       "      <td>PR:P01137</td>\n",
       "      <td>PR_P01137</td>\n",
       "      <td>transforming growth factor beta-1 (human)</td>\n",
       "      <td>TGFB</td>\n",
       "    </tr>\n",
       "  </tbody>\n",
       "</table>\n",
       "</div>"
      ],
      "text/plain": [
       "       namespace            id          name  \\\n",
       "135636       obo  PR:000000182  PR_000000182   \n",
       "136466       obo     PR:P01137     PR_P01137   \n",
       "\n",
       "                                            label   syn  \n",
       "135636                                 TGF-beta 1  TGFB  \n",
       "136466  transforming growth factor beta-1 (human)  TGFB  "
      ]
     },
     "execution_count": 320,
     "metadata": {},
     "output_type": "execute_result"
    }
   ],
   "source": [
    "#dff[dff['syn'].str.startswith('TGFB')]\n",
    "dff[dff['syn'] == 'TGFB']"
   ]
  },
  {
   "cell_type": "code",
   "execution_count": 321,
   "metadata": {},
   "outputs": [
    {
     "data": {
      "text/html": [
       "<div>\n",
       "<style scoped>\n",
       "    .dataframe tbody tr th:only-of-type {\n",
       "        vertical-align: middle;\n",
       "    }\n",
       "\n",
       "    .dataframe tbody tr th {\n",
       "        vertical-align: top;\n",
       "    }\n",
       "\n",
       "    .dataframe thead th {\n",
       "        text-align: right;\n",
       "    }\n",
       "</style>\n",
       "<table border=\"1\" class=\"dataframe\">\n",
       "  <thead>\n",
       "    <tr style=\"text-align: right;\">\n",
       "      <th></th>\n",
       "      <th>namespace</th>\n",
       "      <th>id</th>\n",
       "      <th>name</th>\n",
       "      <th>label</th>\n",
       "      <th>syn</th>\n",
       "    </tr>\n",
       "  </thead>\n",
       "  <tbody>\n",
       "    <tr>\n",
       "      <th>467795</th>\n",
       "      <td>obo</td>\n",
       "      <td>PR:P32945</td>\n",
       "      <td>PR_P32945</td>\n",
       "      <td>serine/threonine-protein phosphatase PPQ (yeast)</td>\n",
       "      <td>YPL179W</td>\n",
       "    </tr>\n",
       "    <tr>\n",
       "      <th>731709</th>\n",
       "      <td>obo</td>\n",
       "      <td>PR:Q8IUR0-1</td>\n",
       "      <td>PR_Q8IUR0-1</td>\n",
       "      <td>trafficking protein particle complex subunit 5...</td>\n",
       "      <td>hTRAPPC5/iso:1</td>\n",
       "    </tr>\n",
       "    <tr>\n",
       "      <th>337786</th>\n",
       "      <td>obo</td>\n",
       "      <td>PR:B3DK56-2</td>\n",
       "      <td>PR_B3DK56-2</td>\n",
       "      <td>receptor-type tyrosine-protein phosphatase U i...</td>\n",
       "      <td>z-PTPRU/iso:2</td>\n",
       "    </tr>\n",
       "    <tr>\n",
       "      <th>882636</th>\n",
       "      <td>obo</td>\n",
       "      <td>PR:Q9SUS5</td>\n",
       "      <td>PR_Q9SUS5</td>\n",
       "      <td>E3 ubiquitin-protein ligase RHA1B (Arabidopsis...</td>\n",
       "      <td>At4g11360</td>\n",
       "    </tr>\n",
       "    <tr>\n",
       "      <th>528597</th>\n",
       "      <td>obo</td>\n",
       "      <td>PR:P76658</td>\n",
       "      <td>PR_P76658</td>\n",
       "      <td>bifunctional protein HldE (Escherichia coli K-12)</td>\n",
       "      <td>rfaE</td>\n",
       "    </tr>\n",
       "    <tr>\n",
       "      <th>837402</th>\n",
       "      <td>obo</td>\n",
       "      <td>PR:Q9HBG6</td>\n",
       "      <td>PR_Q9HBG6</td>\n",
       "      <td>intraflagellar transport protein 122 homolog (...</td>\n",
       "      <td>WD repeat-containing protein 140 (human)</td>\n",
       "    </tr>\n",
       "    <tr>\n",
       "      <th>610892</th>\n",
       "      <td>obo</td>\n",
       "      <td>PR:Q4VXA5-2</td>\n",
       "      <td>PR_Q4VXA5-2</td>\n",
       "      <td>KH homology domain-containing protein 1 isofor...</td>\n",
       "      <td>hKHDC1/iso:h2</td>\n",
       "    </tr>\n",
       "    <tr>\n",
       "      <th>834098</th>\n",
       "      <td>obo</td>\n",
       "      <td>PR:Q9H3C7-3</td>\n",
       "      <td>PR_Q9H3C7-3</td>\n",
       "      <td>gametogenetin-binding protein 2 isoform h3 (hu...</td>\n",
       "      <td>hGGNBP2/iso:h3</td>\n",
       "    </tr>\n",
       "    <tr>\n",
       "      <th>368816</th>\n",
       "      <td>obo</td>\n",
       "      <td>PR:O24408</td>\n",
       "      <td>PR_O24408</td>\n",
       "      <td>auxin-responsive protein IAA18 (Arabidopsis th...</td>\n",
       "      <td>At-IAA18</td>\n",
       "    </tr>\n",
       "    <tr>\n",
       "      <th>355246</th>\n",
       "      <td>obo</td>\n",
       "      <td>PR:O00750</td>\n",
       "      <td>PR_O00750</td>\n",
       "      <td>phosphatidylinositol 4-phosphate 3-kinase C2 d...</td>\n",
       "      <td>C2-PI3K (human)</td>\n",
       "    </tr>\n",
       "  </tbody>\n",
       "</table>\n",
       "</div>"
      ],
      "text/plain": [
       "       namespace           id         name  \\\n",
       "467795       obo    PR:P32945    PR_P32945   \n",
       "731709       obo  PR:Q8IUR0-1  PR_Q8IUR0-1   \n",
       "337786       obo  PR:B3DK56-2  PR_B3DK56-2   \n",
       "882636       obo    PR:Q9SUS5    PR_Q9SUS5   \n",
       "528597       obo    PR:P76658    PR_P76658   \n",
       "837402       obo    PR:Q9HBG6    PR_Q9HBG6   \n",
       "610892       obo  PR:Q4VXA5-2  PR_Q4VXA5-2   \n",
       "834098       obo  PR:Q9H3C7-3  PR_Q9H3C7-3   \n",
       "368816       obo    PR:O24408    PR_O24408   \n",
       "355246       obo    PR:O00750    PR_O00750   \n",
       "\n",
       "                                                    label  \\\n",
       "467795   serine/threonine-protein phosphatase PPQ (yeast)   \n",
       "731709  trafficking protein particle complex subunit 5...   \n",
       "337786  receptor-type tyrosine-protein phosphatase U i...   \n",
       "882636  E3 ubiquitin-protein ligase RHA1B (Arabidopsis...   \n",
       "528597  bifunctional protein HldE (Escherichia coli K-12)   \n",
       "837402  intraflagellar transport protein 122 homolog (...   \n",
       "610892  KH homology domain-containing protein 1 isofor...   \n",
       "834098  gametogenetin-binding protein 2 isoform h3 (hu...   \n",
       "368816  auxin-responsive protein IAA18 (Arabidopsis th...   \n",
       "355246  phosphatidylinositol 4-phosphate 3-kinase C2 d...   \n",
       "\n",
       "                                             syn  \n",
       "467795                                   YPL179W  \n",
       "731709                            hTRAPPC5/iso:1  \n",
       "337786                             z-PTPRU/iso:2  \n",
       "882636                                 At4g11360  \n",
       "528597                                      rfaE  \n",
       "837402  WD repeat-containing protein 140 (human)  \n",
       "610892                             hKHDC1/iso:h2  \n",
       "834098                            hGGNBP2/iso:h3  \n",
       "368816                                  At-IAA18  \n",
       "355246                           C2-PI3K (human)  "
      ]
     },
     "execution_count": 321,
     "metadata": {},
     "output_type": "execute_result"
    }
   ],
   "source": [
    "dff.sample(n=10)"
   ]
  },
  {
   "cell_type": "code",
   "execution_count": 343,
   "metadata": {},
   "outputs": [
    {
     "data": {
      "text/html": [
       "<div>\n",
       "<style scoped>\n",
       "    .dataframe tbody tr th:only-of-type {\n",
       "        vertical-align: middle;\n",
       "    }\n",
       "\n",
       "    .dataframe tbody tr th {\n",
       "        vertical-align: top;\n",
       "    }\n",
       "\n",
       "    .dataframe thead th {\n",
       "        text-align: right;\n",
       "    }\n",
       "</style>\n",
       "<table border=\"1\" class=\"dataframe\">\n",
       "  <thead>\n",
       "    <tr style=\"text-align: right;\">\n",
       "      <th></th>\n",
       "      <th>namespace</th>\n",
       "      <th>id</th>\n",
       "      <th>name</th>\n",
       "      <th>label</th>\n",
       "      <th>syn</th>\n",
       "    </tr>\n",
       "  </thead>\n",
       "  <tbody>\n",
       "    <tr>\n",
       "      <th>142832</th>\n",
       "      <td>obo</td>\n",
       "      <td>PR:000001843</td>\n",
       "      <td>PR_000001843</td>\n",
       "      <td>Thy-1 membrane glycoprotein</td>\n",
       "      <td>THY1</td>\n",
       "    </tr>\n",
       "    <tr>\n",
       "      <th>221952</th>\n",
       "      <td>obo</td>\n",
       "      <td>PR:000018545</td>\n",
       "      <td>PR_000018545</td>\n",
       "      <td>Thy-1 membrane glycoprotein, signal peptide re...</td>\n",
       "      <td>THY1/SigPep-</td>\n",
       "    </tr>\n",
       "    <tr>\n",
       "      <th>221954</th>\n",
       "      <td>obo</td>\n",
       "      <td>PR:000018546</td>\n",
       "      <td>PR_000018546</td>\n",
       "      <td>Thy-1 membrane glycoprotein proteolytic cleava...</td>\n",
       "      <td>THY1/ClvPrd</td>\n",
       "    </tr>\n",
       "    <tr>\n",
       "      <th>273631</th>\n",
       "      <td>obo</td>\n",
       "      <td>PR:000038651</td>\n",
       "      <td>PR_000038651</td>\n",
       "      <td>Thy-1 membrane glycoprotein isoform 1</td>\n",
       "      <td>THY1/iso:1</td>\n",
       "    </tr>\n",
       "    <tr>\n",
       "      <th>406412</th>\n",
       "      <td>obo</td>\n",
       "      <td>PR:P01830</td>\n",
       "      <td>PR_P01830</td>\n",
       "      <td>Thy-1 membrane glycoprotein (rat)</td>\n",
       "      <td>rTHY1</td>\n",
       "    </tr>\n",
       "    <tr>\n",
       "      <th>406416</th>\n",
       "      <td>obo</td>\n",
       "      <td>PR:P01830-1</td>\n",
       "      <td>PR_P01830-1</td>\n",
       "      <td>Thy-1 membrane glycoprotein isoform 1 (rat)</td>\n",
       "      <td>rTHY1/iso:1</td>\n",
       "    </tr>\n",
       "    <tr>\n",
       "      <th>406420</th>\n",
       "      <td>obo</td>\n",
       "      <td>PR:P01831</td>\n",
       "      <td>PR_P01831</td>\n",
       "      <td>Thy-1 membrane glycoprotein (mouse)</td>\n",
       "      <td>mTHY1</td>\n",
       "    </tr>\n",
       "    <tr>\n",
       "      <th>408786</th>\n",
       "      <td>obo</td>\n",
       "      <td>PR:P04216</td>\n",
       "      <td>PR_P04216</td>\n",
       "      <td>Thy-1 membrane glycoprotein (human)</td>\n",
       "      <td>hTHY1</td>\n",
       "    </tr>\n",
       "    <tr>\n",
       "      <th>408788</th>\n",
       "      <td>obo</td>\n",
       "      <td>PR:P04216-1</td>\n",
       "      <td>PR_P04216-1</td>\n",
       "      <td>Thy-1 membrane glycoprotein isoform 1 (human)</td>\n",
       "      <td>hTHY1/iso:1</td>\n",
       "    </tr>\n",
       "    <tr>\n",
       "      <th>438104</th>\n",
       "      <td>obo</td>\n",
       "      <td>PR:P15808</td>\n",
       "      <td>PR_P15808</td>\n",
       "      <td>flavin-dependent thymidylate synthase (Dictyos...</td>\n",
       "      <td>thymidylate synthase thy1 (Dictyostelium disco...</td>\n",
       "    </tr>\n",
       "    <tr>\n",
       "      <th>438106</th>\n",
       "      <td>obo</td>\n",
       "      <td>PR:P15808</td>\n",
       "      <td>PR_P15808</td>\n",
       "      <td>flavin-dependent thymidylate synthase (Dictyos...</td>\n",
       "      <td>thy1</td>\n",
       "    </tr>\n",
       "  </tbody>\n",
       "</table>\n",
       "</div>"
      ],
      "text/plain": [
       "       namespace            id          name  \\\n",
       "142832       obo  PR:000001843  PR_000001843   \n",
       "221952       obo  PR:000018545  PR_000018545   \n",
       "221954       obo  PR:000018546  PR_000018546   \n",
       "273631       obo  PR:000038651  PR_000038651   \n",
       "406412       obo     PR:P01830     PR_P01830   \n",
       "406416       obo   PR:P01830-1   PR_P01830-1   \n",
       "406420       obo     PR:P01831     PR_P01831   \n",
       "408786       obo     PR:P04216     PR_P04216   \n",
       "408788       obo   PR:P04216-1   PR_P04216-1   \n",
       "438104       obo     PR:P15808     PR_P15808   \n",
       "438106       obo     PR:P15808     PR_P15808   \n",
       "\n",
       "                                                    label  \\\n",
       "142832                        Thy-1 membrane glycoprotein   \n",
       "221952  Thy-1 membrane glycoprotein, signal peptide re...   \n",
       "221954  Thy-1 membrane glycoprotein proteolytic cleava...   \n",
       "273631              Thy-1 membrane glycoprotein isoform 1   \n",
       "406412                  Thy-1 membrane glycoprotein (rat)   \n",
       "406416        Thy-1 membrane glycoprotein isoform 1 (rat)   \n",
       "406420                Thy-1 membrane glycoprotein (mouse)   \n",
       "408786                Thy-1 membrane glycoprotein (human)   \n",
       "408788      Thy-1 membrane glycoprotein isoform 1 (human)   \n",
       "438104  flavin-dependent thymidylate synthase (Dictyos...   \n",
       "438106  flavin-dependent thymidylate synthase (Dictyos...   \n",
       "\n",
       "                                                      syn  \n",
       "142832                                               THY1  \n",
       "221952                                       THY1/SigPep-  \n",
       "221954                                        THY1/ClvPrd  \n",
       "273631                                         THY1/iso:1  \n",
       "406412                                              rTHY1  \n",
       "406416                                        rTHY1/iso:1  \n",
       "406420                                              mTHY1  \n",
       "408786                                              hTHY1  \n",
       "408788                                        hTHY1/iso:1  \n",
       "438104  thymidylate synthase thy1 (Dictyostelium disco...  \n",
       "438106                                               thy1  "
      ]
     },
     "execution_count": 343,
     "metadata": {},
     "output_type": "execute_result"
    }
   ],
   "source": [
    "dff[dff['syn'].str.lower().str.contains('thy1')]"
   ]
  }
 ],
 "metadata": {
  "kernelspec": {
   "display_name": "Python 3",
   "language": "python",
   "name": "python3"
  },
  "language_info": {
   "codemirror_mode": {
    "name": "ipython",
    "version": 3
   },
   "file_extension": ".py",
   "mimetype": "text/x-python",
   "name": "python",
   "nbconvert_exporter": "python",
   "pygments_lexer": "ipython3",
   "version": "3.6.7"
  }
 },
 "nbformat": 4,
 "nbformat_minor": 2
}
