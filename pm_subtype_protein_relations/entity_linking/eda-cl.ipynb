{
 "cells": [
  {
   "cell_type": "code",
   "execution_count": 1,
   "metadata": {},
   "outputs": [],
   "source": [
    "import pronto\n",
    "import os.path as osp\n",
    "import pandas as pd\n",
    "import numpy as np\n",
    "import re\n",
    "import os\n",
    "from dotenv import load_dotenv\n",
    "load_dotenv('../env.sh')\n",
    "None"
   ]
  },
  {
   "cell_type": "code",
   "execution_count": 3,
   "metadata": {},
   "outputs": [],
   "source": [
    "# Download cl.owl from http://purl.obolibrary.org/obo/cl.owl\n",
    "onto = pronto.Ontology(osp.join(os.environ['DATA_DIR'], 'meta', 'cl', 'cl.owl'))"
   ]
  },
  {
   "cell_type": "code",
   "execution_count": 5,
   "metadata": {},
   "outputs": [
    {
     "data": {
      "text/plain": [
       "10584"
      ]
     },
     "execution_count": 5,
     "metadata": {},
     "output_type": "execute_result"
    }
   ],
   "source": [
    "len(list(onto.keys()))"
   ]
  },
  {
   "cell_type": "code",
   "execution_count": 19,
   "metadata": {},
   "outputs": [],
   "source": [
    "c = onto['CL:0000899']"
   ]
  },
  {
   "cell_type": "code",
   "execution_count": 20,
   "metadata": {},
   "outputs": [
    {
     "data": {
      "text/plain": [
       "0"
      ]
     },
     "execution_count": 20,
     "metadata": {},
     "output_type": "execute_result"
    }
   ],
   "source": [
    "len(c.rchildren())"
   ]
  },
  {
   "cell_type": "code",
   "execution_count": 21,
   "metadata": {},
   "outputs": [
    {
     "data": {
      "text/plain": [
       "[]"
      ]
     },
     "execution_count": 21,
     "metadata": {},
     "output_type": "execute_result"
    }
   ],
   "source": [
    "c.children"
   ]
  },
  {
   "cell_type": "code",
   "execution_count": 28,
   "metadata": {},
   "outputs": [
    {
     "data": {
      "text/plain": [
       "['__class__',\n",
       " '__copy__',\n",
       " '__deepcopy__',\n",
       " '__delattr__',\n",
       " '__deref__',\n",
       " '__dir__',\n",
       " '__doc__',\n",
       " '__eq__',\n",
       " '__format__',\n",
       " '__ge__',\n",
       " '__getattribute__',\n",
       " '__getstate__',\n",
       " '__gt__',\n",
       " '__hash__',\n",
       " '__init__',\n",
       " '__init_subclass__',\n",
       " '__le__',\n",
       " '__lt__',\n",
       " '__module__',\n",
       " '__ne__',\n",
       " '__new__',\n",
       " '__reduce__',\n",
       " '__reduce_ex__',\n",
       " '__repr__',\n",
       " '__setattr__',\n",
       " '__setstate__',\n",
       " '__sizeof__',\n",
       " '__slots__',\n",
       " '__str__',\n",
       " '__subclasshook__',\n",
       " '__weakref__',\n",
       " '_children',\n",
       " '_empty_cache',\n",
       " '_parents',\n",
       " '_rchildren',\n",
       " '_rparents',\n",
       " 'children',\n",
       " 'desc',\n",
       " 'id',\n",
       " 'name',\n",
       " 'obo',\n",
       " 'other',\n",
       " 'parents',\n",
       " 'rchildren',\n",
       " 'relations',\n",
       " 'rparents',\n",
       " 'synonyms']"
      ]
     },
     "execution_count": 28,
     "metadata": {},
     "output_type": "execute_result"
    }
   ],
   "source": [
    "dir(c)"
   ]
  },
  {
   "cell_type": "code",
   "execution_count": 40,
   "metadata": {},
   "outputs": [
    {
     "data": {
      "text/plain": [
       "{<Synonym: \"IL-17-producing CD4+ T helper\" EXACT []>,\n",
       " <Synonym: \"T helper cells type 17\" EXACT []>,\n",
       " <Synonym: \"T(H)-17 cell\" EXACT []>,\n",
       " <Synonym: \"Th17 CD4+ T cell\" EXACT []>,\n",
       " <Synonym: \"Th17 T cell\" EXACT []>,\n",
       " <Synonym: \"Th17 T lymphocyte\" EXACT []>,\n",
       " <Synonym: \"Th17 T-cell\" EXACT []>,\n",
       " <Synonym: \"Th17 T-lymphocyte\" EXACT []>,\n",
       " <Synonym: \"Th17 cell\" EXACT []>,\n",
       " <Synonym: \"helper T cell type 17\" EXACT []>}"
      ]
     },
     "execution_count": 40,
     "metadata": {},
     "output_type": "execute_result"
    }
   ],
   "source": [
    "c.synonyms"
   ]
  },
  {
   "cell_type": "code",
   "execution_count": 41,
   "metadata": {},
   "outputs": [],
   "source": [
    "s = list(c.synonyms)[0]"
   ]
  },
  {
   "cell_type": "code",
   "execution_count": 43,
   "metadata": {},
   "outputs": [
    {
     "data": {
      "text/plain": [
       "('Th17 CD4+ T cell', 'EXACT', None)"
      ]
     },
     "execution_count": 43,
     "metadata": {},
     "output_type": "execute_result"
    }
   ],
   "source": [
    "s.desc, s.scope, s.syn_type"
   ]
  },
  {
   "cell_type": "code",
   "execution_count": 33,
   "metadata": {},
   "outputs": [
    {
     "data": {
      "text/plain": [
       "({Relationship('is_a'): [<CL:0000492: CD4-positive helper T cell>]},\n",
       " [<CL:0000492: CD4-positive helper T cell>])"
      ]
     },
     "execution_count": 33,
     "metadata": {},
     "output_type": "execute_result"
    }
   ],
   "source": [
    "c.relations, c.parents"
   ]
  },
  {
   "cell_type": "code",
   "execution_count": 34,
   "metadata": {},
   "outputs": [
    {
     "data": {
      "text/plain": [
       "('CL:0000899',\n",
       " 'T-helper 17 cell',\n",
       " {'onProperty': ['http://purl.obolibrary.org/obo/BFO_0000051',\n",
       "   'http://purl.obolibrary.org/obo/RO_0002104',\n",
       "   'http://purl.obolibrary.org/obo/RO_0002215',\n",
       "   'http://purl.obolibrary.org/obo/cl#lacks_plasma_membrane_part',\n",
       "   'http://purl.obolibrary.org/obo/BFO_0000051',\n",
       "   'http://purl.obolibrary.org/obo/RO_0002104',\n",
       "   'http://purl.obolibrary.org/obo/RO_0002215',\n",
       "   'http://purl.obolibrary.org/obo/cl#lacks_plasma_membrane_part'],\n",
       "  'someValuesFrom': ['http://purl.obolibrary.org/obo/PR_000003455',\n",
       "   'http://purl.obolibrary.org/obo/PR_000001202',\n",
       "   'http://purl.obolibrary.org/obo/GO_0032620',\n",
       "   'http://purl.obolibrary.org/obo/PR_000001207',\n",
       "   'http://purl.obolibrary.org/obo/PR_000003455',\n",
       "   'http://purl.obolibrary.org/obo/PR_000001202',\n",
       "   'http://purl.obolibrary.org/obo/GO_0032620',\n",
       "   'http://purl.obolibrary.org/obo/PR_000001207'],\n",
       "  'hasExactSynonym': ['IL-17-producing CD4+ T helper',\n",
       "   'T helper cells type 17',\n",
       "   'T(H)-17 cell',\n",
       "   'Th17 CD4+ T cell',\n",
       "   'Th17 T cell',\n",
       "   'Th17 T lymphocyte',\n",
       "   'Th17 T-cell',\n",
       "   'Th17 T-lymphocyte',\n",
       "   'Th17 cell',\n",
       "   'helper T cell type 17'],\n",
       "  'namespace': ['cell'],\n",
       "  'comment': [\"This cell type is compatible with the HIPC Lyoplate markers for 'Th17 CD4+ T cell', but its logical definition includes additional known characteristics of T-helper 17 T cells.\"]},\n",
       " Description('CD4-positive, alpha-beta T cell with the phenotype RORgamma-t-positive, CXCR3-negative, CCR6-positive, and capable of producing IL-17.', ['GOC:add', 'GOC:pam', 'GO_REF:0000031', 'PMID:20303875', 'PMID:20969597', 'PMID:22343568']))"
      ]
     },
     "execution_count": 34,
     "metadata": {},
     "output_type": "execute_result"
    }
   ],
   "source": [
    "c.id, c.name, c.other, c.desc"
   ]
  }
 ],
 "metadata": {
  "kernelspec": {
   "display_name": "Python 3",
   "language": "python",
   "name": "python3"
  },
  "language_info": {
   "codemirror_mode": {
    "name": "ipython",
    "version": 3
   },
   "file_extension": ".py",
   "mimetype": "text/x-python",
   "name": "python",
   "nbconvert_exporter": "python",
   "pygments_lexer": "ipython3",
   "version": "3.6.7"
  }
 },
 "nbformat": 4,
 "nbformat_minor": 2
}
