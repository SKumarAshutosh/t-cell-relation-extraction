{
 "cells": [
  {
   "cell_type": "code",
   "execution_count": 8,
   "metadata": {},
   "outputs": [
    {
     "name": "stdout",
     "output_type": "stream",
     "text": [
      "['CD4+x', 'CD45RA+x', 'CD45RO-x', '4-1BB-x', 'CD62L+x', 'CCR7-x', 'CD127+x', 'CD27+x', 'CD28=o', 'CD95=o', 'CD122=o'] ['CD4+x', 'CD45RA+x', 'CD45RO-x', '4-1BB-x', 'CD62L+x', 'CCR7-x', 'CD127+x', 'CD27+x', 'CD28=o', 'CD95=o', 'CD122=o']\n",
      "['CD4+x', 'CD45RO=x', '/RB=o'] ['CD4+x', 'CD45RO=x', '/RB=o']\n",
      "['CD3=o', 'CD4=x', 'PBMC=o'] ['CD3=o', 'CD4=x', 'PBMC=o']\n",
      "['Thy1=x', '.1=o', 'OT=o', '1=o', 'CD8+x'] ['Thy1=x', '.1=o', 'OT=o', '1=o', 'CD8+x']\n",
      "['+o', 'CD95=x', 'CD4=x', 'CD8-x'] ['+o', 'CD95=x', 'CD4=x', 'CD8-x']\n",
      "['+o'] ['+o']\n",
      "['=o'] ['=o']\n",
      "['CD4=x'] ['CD4=x']\n",
      "['CD4=x'] ['CD4=x']\n",
      "['CD4-x'] ['CD4-x']\n"
     ]
    }
   ],
   "source": [
    "%run src/protein_tokenization.py\n",
    "%run src/protein_tokenization_test.py\n",
    "ProteinTokenizationTest().test_cases()"
   ]
  },
  {
   "cell_type": "code",
   "execution_count": 9,
   "metadata": {},
   "outputs": [
    {
     "name": "stdout",
     "output_type": "stream",
     "text": [
      "CD4+ [term=CD4, sign=+, value=1, metadata={'name': 'CD4'}]\n",
      "CD45RA+ [term=CD45RA, sign=+, value=1, metadata={'name': 'CD45RA'}]\n",
      "CD45RO- [term=CD45RO, sign=-, value=-1, metadata={'name': 'CD45RO'}]\n",
      "4-1BB- [term=4-1BB, sign=-, value=-1, metadata={'name': '4-1BB'}]\n",
      "CD62L+++ [term=CD62L, sign=+++, value=1, metadata={'name': 'CD62L'}]\n",
      "CCR7 [term=CCR7, sign=None, value=0, metadata=None]\n",
      "CD127pos [term=CD127, sign=pos, value=1, metadata={'name': 'CD127'}]\n",
      "CD27 [term=CD27, sign=None, value=0, metadata=None]\n",
      "CD28hi [term=CD28, sign=hi, value=1, metadata={'name': 'CD28'}]\n",
      "CD95+ [term=CD95, sign=+, value=1, metadata={'name': 'CD95'}]\n",
      "CD122+ [term=CD122, sign=+, value=1, metadata={'name': 'CD122'}]\n"
     ]
    }
   ],
   "source": [
    "vocab_pr = [\n",
    "    'CD4', 'CD45', 'CD45RA', 'CD45RO', 'CD62L', '4-1BB', \n",
    "    'CD127', 'CD28', 'CD122', 'CD95', 'CD122',\n",
    "    # 'CCR7', 'CD27' -- intentionally omitted \n",
    "]\n",
    "vocab_pr = {k: dict(name=k) for k in vocab_pr}\n",
    "tokenizer = ProteinTokenizer(vocab_pr)\n",
    "string = 'CD4+CD45RA+CD45RO-4-1BB-CD62L+++CCR7loCD127posCD27positiveCD28hiCD95+CD122+'\n",
    "for t in tokenizer.tokenize(string):\n",
    "    print(f'{t.text} [term={t.token_text}, sign={t.sign_text}, value={t.sign_value}, metadata={t.metadata}]')"
   ]
  }
 ],
 "metadata": {
  "kernelspec": {
   "display_name": "Python 3",
   "language": "python",
   "name": "python3"
  },
  "language_info": {
   "codemirror_mode": {
    "name": "ipython",
    "version": 3
   },
   "file_extension": ".py",
   "mimetype": "text/x-python",
   "name": "python",
   "nbconvert_exporter": "python",
   "pygments_lexer": "ipython3",
   "version": "3.6.7"
  }
 },
 "nbformat": 4,
 "nbformat_minor": 2
}
