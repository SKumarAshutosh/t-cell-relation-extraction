{
 "cells": [
  {
   "cell_type": "markdown",
   "metadata": {},
   "source": [
    "## Transcription Factor Integration"
   ]
  },
  {
   "cell_type": "code",
   "execution_count": 1,
   "metadata": {},
   "outputs": [],
   "source": [
    "import os.path as osp\n",
    "import pandas as pd\n",
    "import numpy as np\n",
    "from tcre import meta\n",
    "from tcre import lib\n",
    "from tcre.meta import ID_TYP_TF, MIN_TF_SYM_LEN\n",
    "from tcre.lib import TRANSCRIPTION_FACTORS, SPECIES_HUMAN_ID\n",
    "from tcre.env import *"
   ]
  },
  {
   "cell_type": "markdown",
   "metadata": {},
   "source": [
    "#### Load from Lambert, et al. 2016"
   ]
  },
  {
   "cell_type": "code",
   "execution_count": 2,
   "metadata": {},
   "outputs": [
    {
     "name": "stdout",
     "output_type": "stream",
     "text": [
      "<class 'pandas.core.frame.DataFrame'>\n",
      "Int64Index: 1639 entries, 0 to 2763\n",
      "Data columns (total 5 columns):\n",
      "extid    1639 non-null object\n",
      "lbl      1639 non-null object\n",
      "sym      1639 non-null object\n",
      "spid     1639 non-null int64\n",
      "src      1639 non-null object\n",
      "dtypes: int64(1), object(4)\n",
      "memory usage: 76.8+ KB\n"
     ]
    }
   ],
   "source": [
    "SRC = 'lambert'\n",
    "# Load export of tab \"Table S1. Related to Figure 1B-Table 1.csv\" from Document S1 in\n",
    "# https://doi.org/10.1016%2Fj.cell.2018.01.029 (containing *human* transcription factors)\n",
    "df = pd.read_csv(osp.join(META_DATA_DIR, 'raw', 'transcription_factors.lambert.csv'), header=[0,1])\n",
    "df = df[df['Is TF?'].iloc[:,0] == 'Yes']\n",
    "df = df[[('Gene Information', 'ID'), ('Unnamed: 1_level_0', 'Name')]]\n",
    "df.columns = ['extid', 'lbl']\n",
    "df = df.assign(sym=df['lbl'].values, spid=SPECIES_HUMAN_ID, src=SRC)\n",
    "df['spid'] = SPECIES_HUMAN_ID\n",
    "# Ensure number of records from spreadsheet export matches https://en.wikipedia.org/wiki/List_of_human_transcription_factors\n",
    "assert len(df) == 1639, \\\n",
    "    'Data frame does not have expected row count 1639 '\\\n",
    "    '(count should match https://en.wikipedia.org/wiki/List_of_human_transcription_factors)'\n",
    "df.info()"
   ]
  },
  {
   "cell_type": "code",
   "execution_count": 3,
   "metadata": {},
   "outputs": [
    {
     "data": {
      "text/html": [
       "<div>\n",
       "<style scoped>\n",
       "    .dataframe tbody tr th:only-of-type {\n",
       "        vertical-align: middle;\n",
       "    }\n",
       "\n",
       "    .dataframe tbody tr th {\n",
       "        vertical-align: top;\n",
       "    }\n",
       "\n",
       "    .dataframe thead th {\n",
       "        text-align: right;\n",
       "    }\n",
       "</style>\n",
       "<table border=\"1\" class=\"dataframe\">\n",
       "  <thead>\n",
       "    <tr style=\"text-align: right;\">\n",
       "      <th></th>\n",
       "      <th>extid</th>\n",
       "      <th>lbl</th>\n",
       "      <th>sym</th>\n",
       "      <th>spid</th>\n",
       "      <th>src</th>\n",
       "    </tr>\n",
       "  </thead>\n",
       "  <tbody>\n",
       "    <tr>\n",
       "      <th>0</th>\n",
       "      <td>ENSG00000137203</td>\n",
       "      <td>TFAP2A</td>\n",
       "      <td>TFAP2A</td>\n",
       "      <td>1</td>\n",
       "      <td>lambert</td>\n",
       "    </tr>\n",
       "    <tr>\n",
       "      <th>1</th>\n",
       "      <td>ENSG00000008196</td>\n",
       "      <td>TFAP2B</td>\n",
       "      <td>TFAP2B</td>\n",
       "      <td>1</td>\n",
       "      <td>lambert</td>\n",
       "    </tr>\n",
       "    <tr>\n",
       "      <th>2</th>\n",
       "      <td>ENSG00000087510</td>\n",
       "      <td>TFAP2C</td>\n",
       "      <td>TFAP2C</td>\n",
       "      <td>1</td>\n",
       "      <td>lambert</td>\n",
       "    </tr>\n",
       "    <tr>\n",
       "      <th>3</th>\n",
       "      <td>ENSG00000008197</td>\n",
       "      <td>TFAP2D</td>\n",
       "      <td>TFAP2D</td>\n",
       "      <td>1</td>\n",
       "      <td>lambert</td>\n",
       "    </tr>\n",
       "    <tr>\n",
       "      <th>4</th>\n",
       "      <td>ENSG00000116819</td>\n",
       "      <td>TFAP2E</td>\n",
       "      <td>TFAP2E</td>\n",
       "      <td>1</td>\n",
       "      <td>lambert</td>\n",
       "    </tr>\n",
       "  </tbody>\n",
       "</table>\n",
       "</div>"
      ],
      "text/plain": [
       "             extid     lbl     sym  spid      src\n",
       "0  ENSG00000137203  TFAP2A  TFAP2A     1  lambert\n",
       "1  ENSG00000008196  TFAP2B  TFAP2B     1  lambert\n",
       "2  ENSG00000087510  TFAP2C  TFAP2C     1  lambert\n",
       "3  ENSG00000008197  TFAP2D  TFAP2D     1  lambert\n",
       "4  ENSG00000116819  TFAP2E  TFAP2E     1  lambert"
      ]
     },
     "execution_count": 3,
     "metadata": {},
     "output_type": "execute_result"
    }
   ],
   "source": [
    "df.head()"
   ]
  },
  {
   "cell_type": "code",
   "execution_count": 4,
   "metadata": {},
   "outputs": [
    {
     "name": "stdout",
     "output_type": "stream",
     "text": [
      "querying 1-1000...done.\n",
      "querying 1001-1639...done.\n",
      "<class 'pandas.core.frame.DataFrame'>\n",
      "Int64Index: 7380 entries, 0 to 7390\n",
      "Data columns (total 5 columns):\n",
      "sym      7380 non-null object\n",
      "lbl      7380 non-null object\n",
      "extid    7380 non-null object\n",
      "spid     7380 non-null int64\n",
      "src      7380 non-null object\n",
      "dtypes: int64(1), object(4)\n",
      "memory usage: 345.9+ KB\n"
     ]
    }
   ],
   "source": [
    "# Use MyGene to get aliases for genes above (by ensembl id, not symbol/name)\n",
    "dfa = meta.mg.getgenes(\n",
    "    ids=df['extid'].unique(),\n",
    "    scopes=[\"symbol\", \"retired\", \"name\", \"alias\"],\n",
    "    fields='symbol,name,taxid,ensembl.gene,alias', \n",
    "    as_dataframe=True\n",
    ")\n",
    "# The query term is set as the index in results so use that to get the ensembl id\n",
    "# rather than the `ensenbl.gene` field since this is inexplicably empty sometimes\n",
    "# even when the query term as an ensembl id and all other fields are valid (e.g.\n",
    "# ENSG00000232040 --> gives symbol ZBED9 and valid aliases but empty gene id field)\n",
    "dfa['extid'] = dfa.index\n",
    "dfa = meta.mygene_prep(dfa)\n",
    "dfa = dfa.assign(spid=SPECIES_HUMAN_ID, src=SRC)\n",
    "dfa = dfa[dfa['lbl'].notnull() & dfa['sym'].notnull()]\n",
    "assert dfa['extid'].notnull().all()\n",
    "dfa.info()"
   ]
  },
  {
   "cell_type": "code",
   "execution_count": 5,
   "metadata": {},
   "outputs": [
    {
     "name": "stdout",
     "output_type": "stream",
     "text": [
      "<class 'pandas.core.frame.DataFrame'>\n",
      "Int64Index: 7388 entries, 0 to 7390\n",
      "Data columns (total 5 columns):\n",
      "extid    7388 non-null object\n",
      "lbl      7388 non-null object\n",
      "sym      7388 non-null object\n",
      "spid     7388 non-null int64\n",
      "src      7388 non-null object\n",
      "dtypes: int64(1), object(4)\n",
      "memory usage: 346.3+ KB\n"
     ]
    }
   ],
   "source": [
    "dfm = pd.concat([df, dfa[df.columns]])\n",
    "# As the mygene results may contain aliases matching the names\n",
    "# in the lambert spreadsheet and the `src` is the same, duplicates\n",
    "# should be removed \n",
    "dfm = dfm.drop_duplicates(subset=['sym', 'lbl', 'spid'])\n",
    "dfm.info()"
   ]
  },
  {
   "cell_type": "code",
   "execution_count": 6,
   "metadata": {},
   "outputs": [],
   "source": [
    "df_lambert = dfm.copy()"
   ]
  },
  {
   "cell_type": "code",
   "execution_count": 7,
   "metadata": {},
   "outputs": [],
   "source": [
    "#df_lambert[df_lambert['sym'].str.lower().str.contains('t-bet')]"
   ]
  },
  {
   "cell_type": "markdown",
   "metadata": {},
   "source": [
    "#### Load Manual Entries"
   ]
  },
  {
   "cell_type": "code",
   "execution_count": 8,
   "metadata": {},
   "outputs": [
    {
     "data": {
      "text/html": [
       "<div>\n",
       "<style scoped>\n",
       "    .dataframe tbody tr th:only-of-type {\n",
       "        vertical-align: middle;\n",
       "    }\n",
       "\n",
       "    .dataframe tbody tr th {\n",
       "        vertical-align: top;\n",
       "    }\n",
       "\n",
       "    .dataframe thead th {\n",
       "        text-align: right;\n",
       "    }\n",
       "</style>\n",
       "<table border=\"1\" class=\"dataframe\">\n",
       "  <thead>\n",
       "    <tr style=\"text-align: right;\">\n",
       "      <th></th>\n",
       "      <th>sym</th>\n",
       "      <th>lbl</th>\n",
       "      <th>spid</th>\n",
       "      <th>src</th>\n",
       "      <th>extid</th>\n",
       "    </tr>\n",
       "  </thead>\n",
       "  <tbody>\n",
       "    <tr>\n",
       "      <th>0</th>\n",
       "      <td>RORC</td>\n",
       "      <td>RORC</td>\n",
       "      <td>1</td>\n",
       "      <td>manual</td>\n",
       "      <td>None</td>\n",
       "    </tr>\n",
       "    <tr>\n",
       "      <th>1</th>\n",
       "      <td>RORγ</td>\n",
       "      <td>RORC</td>\n",
       "      <td>1</td>\n",
       "      <td>manual</td>\n",
       "      <td>None</td>\n",
       "    </tr>\n",
       "    <tr>\n",
       "      <th>2</th>\n",
       "      <td>RORγt</td>\n",
       "      <td>RORC</td>\n",
       "      <td>1</td>\n",
       "      <td>manual</td>\n",
       "      <td>None</td>\n",
       "    </tr>\n",
       "    <tr>\n",
       "      <th>3</th>\n",
       "      <td>RORγ1</td>\n",
       "      <td>RORC</td>\n",
       "      <td>1</td>\n",
       "      <td>manual</td>\n",
       "      <td>None</td>\n",
       "    </tr>\n",
       "    <tr>\n",
       "      <th>4</th>\n",
       "      <td>RORγ2</td>\n",
       "      <td>RORC</td>\n",
       "      <td>1</td>\n",
       "      <td>manual</td>\n",
       "      <td>None</td>\n",
       "    </tr>\n",
       "  </tbody>\n",
       "</table>\n",
       "</div>"
      ],
      "text/plain": [
       "     sym   lbl  spid     src extid\n",
       "0   RORC  RORC     1  manual  None\n",
       "1   RORγ  RORC     1  manual  None\n",
       "2  RORγt  RORC     1  manual  None\n",
       "3  RORγ1  RORC     1  manual  None\n",
       "4  RORγ2  RORC     1  manual  None"
      ]
     },
     "execution_count": 8,
     "metadata": {},
     "output_type": "execute_result"
    }
   ],
   "source": [
    "SRC = 'manual'\n",
    "df = pd.read_csv(osp.join(META_DATA_DIR, 'raw', 'transcription_factors.manual.csv'), sep=',')\n",
    "df = df.assign(src=SRC, extid=None)\n",
    "df.head()"
   ]
  },
  {
   "cell_type": "code",
   "execution_count": 9,
   "metadata": {},
   "outputs": [],
   "source": [
    "df_manual = df.copy()"
   ]
  },
  {
   "cell_type": "markdown",
   "metadata": {},
   "source": [
    "### Merge "
   ]
  },
  {
   "cell_type": "code",
   "execution_count": 10,
   "metadata": {},
   "outputs": [],
   "source": [
    "SRC_PRIORITY = {\n",
    "    'lambert': 50, \n",
    "    'manual': 20\n",
    "}"
   ]
  },
  {
   "cell_type": "code",
   "execution_count": 11,
   "metadata": {},
   "outputs": [
    {
     "name": "stdout",
     "output_type": "stream",
     "text": [
      "<class 'pandas.core.frame.DataFrame'>\n",
      "Int64Index: 7406 entries, 6167 to 5786\n",
      "Data columns (total 9 columns):\n",
      "id          7406 non-null object\n",
      "src         7406 non-null object\n",
      "sym         7406 non-null object\n",
      "lbl         7406 non-null object\n",
      "spid        7406 non-null int64\n",
      "extid       7388 non-null object\n",
      "priority    7406 non-null int64\n",
      "prefid      7406 non-null object\n",
      "enabled     7406 non-null bool\n",
      "dtypes: bool(1), int64(2), object(6)\n",
      "memory usage: 528.0+ KB\n",
      "None\n"
     ]
    },
    {
     "data": {
      "text/html": [
       "<div>\n",
       "<style scoped>\n",
       "    .dataframe tbody tr th:only-of-type {\n",
       "        vertical-align: middle;\n",
       "    }\n",
       "\n",
       "    .dataframe tbody tr th {\n",
       "        vertical-align: top;\n",
       "    }\n",
       "\n",
       "    .dataframe thead th {\n",
       "        text-align: right;\n",
       "    }\n",
       "</style>\n",
       "<table border=\"1\" class=\"dataframe\">\n",
       "  <thead>\n",
       "    <tr style=\"text-align: right;\">\n",
       "      <th></th>\n",
       "      <th>id</th>\n",
       "      <th>src</th>\n",
       "      <th>sym</th>\n",
       "      <th>lbl</th>\n",
       "      <th>spid</th>\n",
       "      <th>extid</th>\n",
       "      <th>priority</th>\n",
       "      <th>prefid</th>\n",
       "      <th>enabled</th>\n",
       "    </tr>\n",
       "  </thead>\n",
       "  <tbody>\n",
       "    <tr>\n",
       "      <th>6167</th>\n",
       "      <td>TF36194BB02DFF6779</td>\n",
       "      <td>lambert</td>\n",
       "      <td>11orf9</td>\n",
       "      <td>MYRF</td>\n",
       "      <td>1</td>\n",
       "      <td>ENSG00000124920</td>\n",
       "      <td>50</td>\n",
       "      <td>TF727377B0E281FAA1</td>\n",
       "      <td>True</td>\n",
       "    </tr>\n",
       "    <tr>\n",
       "      <th>4626</th>\n",
       "      <td>TFE41E4684206987BC</td>\n",
       "      <td>lambert</td>\n",
       "      <td>12CC4</td>\n",
       "      <td>FOXP1</td>\n",
       "      <td>1</td>\n",
       "      <td>ENSG00000114861</td>\n",
       "      <td>50</td>\n",
       "      <td>TF3BD26C8F2295B0D0</td>\n",
       "      <td>True</td>\n",
       "    </tr>\n",
       "    <tr>\n",
       "      <th>4109</th>\n",
       "      <td>TFC45919BBF21EF770</td>\n",
       "      <td>lambert</td>\n",
       "      <td>2410002I16Rik</td>\n",
       "      <td>CXXC1</td>\n",
       "      <td>1</td>\n",
       "      <td>ENSG00000154832</td>\n",
       "      <td>50</td>\n",
       "      <td>TFD4C80059467A52F0</td>\n",
       "      <td>True</td>\n",
       "    </tr>\n",
       "    <tr>\n",
       "      <th>6136</th>\n",
       "      <td>TF7F70A3FBA005F34E</td>\n",
       "      <td>lambert</td>\n",
       "      <td>2A-DUB</td>\n",
       "      <td>MYSM1</td>\n",
       "      <td>1</td>\n",
       "      <td>ENSG00000162601</td>\n",
       "      <td>50</td>\n",
       "      <td>TFB861950DDE3DF397</td>\n",
       "      <td>True</td>\n",
       "    </tr>\n",
       "    <tr>\n",
       "      <th>6137</th>\n",
       "      <td>TF6978CB4134B87D9B</td>\n",
       "      <td>lambert</td>\n",
       "      <td>2ADUB</td>\n",
       "      <td>MYSM1</td>\n",
       "      <td>1</td>\n",
       "      <td>ENSG00000162601</td>\n",
       "      <td>50</td>\n",
       "      <td>TFB861950DDE3DF397</td>\n",
       "      <td>True</td>\n",
       "    </tr>\n",
       "  </tbody>\n",
       "</table>\n",
       "</div>"
      ],
      "text/plain": [
       "                      id      src            sym    lbl  spid  \\\n",
       "6167  TF36194BB02DFF6779  lambert         11orf9   MYRF     1   \n",
       "4626  TFE41E4684206987BC  lambert          12CC4  FOXP1     1   \n",
       "4109  TFC45919BBF21EF770  lambert  2410002I16Rik  CXXC1     1   \n",
       "6136  TF7F70A3FBA005F34E  lambert         2A-DUB  MYSM1     1   \n",
       "6137  TF6978CB4134B87D9B  lambert          2ADUB  MYSM1     1   \n",
       "\n",
       "                extid  priority              prefid  enabled  \n",
       "6167  ENSG00000124920        50  TF727377B0E281FAA1     True  \n",
       "4626  ENSG00000114861        50  TF3BD26C8F2295B0D0     True  \n",
       "4109  ENSG00000154832        50  TFD4C80059467A52F0     True  \n",
       "6136  ENSG00000162601        50  TFB861950DDE3DF397     True  \n",
       "6137  ENSG00000162601        50  TFB861950DDE3DF397     True  "
      ]
     },
     "execution_count": 11,
     "metadata": {},
     "output_type": "execute_result"
    }
   ],
   "source": [
    "df = meta.merge([df_lambert, df_manual], ID_TYP_TF).drop_duplicates()\n",
    "df = meta.add_source_priority(df, SRC_PRIORITY)\n",
    "df = meta.add_preferred_ids(df)\n",
    "print(df.info())\n",
    "df.head()"
   ]
  },
  {
   "cell_type": "markdown",
   "metadata": {},
   "source": [
    "### Filter"
   ]
  },
  {
   "cell_type": "code",
   "execution_count": 12,
   "metadata": {},
   "outputs": [
    {
     "name": "stdout",
     "output_type": "stream",
     "text": [
      "Removing 454 records with ambiguous symbols: ['AA', 'AFX', 'AHC', 'AHR', 'AHX', 'AI4', 'AIM', 'AIO', 'AIS', 'AKA', 'AMS', 'AN', 'AN2', 'ANF', 'AP1', 'AP2', 'AP4', 'AR', 'AR1', 'AR7', 'AR8', 'ARA', 'ARX', 'B1F', 'BAR', 'BBX', 'BCH', 'BCS', 'BDE', 'BDP', 'BEN', 'BF1', 'BF2', 'BFT', 'BHC', 'BNC', 'BOM', 'BP1', 'BSX', 'BTD', 'BXR', 'BZP', 'CAA', 'CAR', 'CBF', 'CCD', 'CCF', 'CDP', 'CF5', 'CHA', 'CHN', 'CIC', 'CIZ', 'CJS', 'CPF', 'CPX', 'CRD', 'CRS', 'CRX', 'CSL', 'CSO', 'CST', 'CSX', 'CTF', 'CTM', 'CUX', 'D9', 'DB1', 'DBP', 'DGS', 'DMO', 'DOD', 'DOM', 'DP1', 'DP2', 'DP4', 'DR1', 'DSS', 'DUB', 'E2A', 'E47', 'E4F', 'EBF', 'EC2', 'EFC', 'EFG', 'EHF', 'ELP', 'EN1', 'EN2', 'EOS', 'ER', 'ERA', 'ERB', 'ERF', 'ERG', 'ERM', 'ERP', 'ERT', 'ESR', 'ESX', 'ETF', 'EZF', 'EZI', 'F11', 'FEV', 'FEZ', 'FHX', 'FIK', 'FIP', 'FND', 'FOG', 'FOS', 'FPP', 'FRA', 'FRU', 'FTF', 'FXR', 'G10', 'G13', 'G17', 'GAX', 'GBF', 'GCR', 'GEF', 'GF1', 'GLI', 'GR', 'GRL', 'GSC', 'GSF', 'GTD', 'GTX', 'GUD', 'H6', 'H6L', 'HAP', 'HB9', 'HDR', 'HDX', 'HEB', 'HED', 'HET', 'HEX', 'HHG', 'HHL', 'HLF', 'HLX', 'HMR', 'HNT', 'HOF', 'HOS', 'HRX', 'HRY', 'HSM', 'HTX', 'HXT', 'HZF', 'IA1', 'IA6', 'IK1', 'ILF', 'ISX', 'JAL', 'JAZ', 'JH8', 'JIP', 'JM2', 'JRK', 'JUN', 'K8', 'KD', 'KET', 'KIN', 'KPD', 'KRC', 'KS1', 'KUP', 'L8', 'LCX', 'LD', 'LF', 'LH2', 'LMS', 'LPS', 'LRF', 'LSF', 'LTF', 'LUN', 'M33', 'M96', 'MAD', 'MAF', 'MAR', 'MAX', 'MAZ', 'MBX', 'MCR', 'MDS', 'MEF', 'MFH', 'MGA', 'MGF', 'MGN', 'MGR', 'MI', 'MIO', 'MIR', 'MIX', 'MKX', 'MLL', 'MLR', 'MLX', 'MNT', 'MR', 'MRF', 'MSC', 'MSH', 'MXI', 'MYB', 'MYC', 'MYX', 'N10', 'NBP', 'NC2', 'NCX', 'NDH', 'NER', 'NET', 'NFI', 'NKL', 'NOT', 'NP', 'NRF', 'NRL', 'NXF', 'NZF', 'OAZ', 'OB1', 'OC2', 'OC3', 'ODD', 'OF', 'OG2', 'OG9', 'OSX', 'OTP', 'OUT', 'OZF', 'P18', 'P39', 'P40', 'P45', 'P48', 'P50', 'P51', 'P51', 'P52', 'P53', 'P54', 'P55', 'P63', 'P64', 'P65', 'P68', 'P71', 'P73', 'P75', 'PAR', 'PBF', 'PE1', 'PE2', 'PFM', 'PGR', 'PHP', 'PHS', 'PIT', 'PL', 'PN8', 'PNR', 'PPD', 'PPS', 'PR', 'PRH', 'PRR', 'PSA', 'PT1', 'PT3', 'PT7', 'PUF', 'PUM', 'PW1', 'PXR', 'PZF', 'QIN', 'QRX', 'RAF', 'RAR', 'RAX', 'RBB', 'RD7', 'REL', 'RFT', 'RFX', 'RGS', 'RHS', 'RIZ', 'RLF', 'RN', 'RNR', 'RNX', 'ROG', 'ROX', 'RPX', 'RS', 'RTR', 'RTS', 'RTT', 'RVR', 'RX', 'RZF', 'SAR', 'SBF', 'SCL', 'SCS', 'SCX', 'SEB', 'SEF', 'SF1', 'SGS', 'SIM', 'SKI', 'SKV', 'SNA', 'SNO', 'SOM', 'SON', 'SP1', 'SP2', 'SP3', 'SP4', 'SP5', 'SP6', 'SP7', 'SP8', 'SP9', 'SPD', 'SPN', 'SPS', 'SRF', 'SRG', 'SRY', 'SS', 'SUH', 'SXR', 'T', 'TBP', 'TBS', 'TCF', 'TDF', 'TDO', 'TDY', 'TEC', 'TEF', 'TEL', 'TF4', 'TFM', 'TFT', 'TGA', 'TIC', 'TIZ', 'TLF', 'TLL', 'TLP', 'TLX', 'TMF', 'TOF', 'TOR', 'TR2', 'TR3', 'TR4', 'TRF', 'TZF', 'TZP', 'UAN', 'UEF', 'UMS', 'UNR', 'VCF', 'VDR', 'VIK', 'VWS', 'WBS', 'WHN', 'WID', 'WIZ', 'WS1', 'WS2', 'WS3', 'WS4', 'WT1', 'WT5', 'WT6', 'X17', 'XBR', 'XHL', 'XP1', 'XPA', 'Y8', 'YB1', 'YY1', 'YY2', 'ZAC', 'ZEC', 'ZET', 'ZF', 'ZF2', 'ZF5', 'ZF6', 'ZF9', 'ZFP', 'ZFX', 'ZFY', 'ZIC', 'ZID', 'ZIP', 'ZK1', 'ZK7', 'ZNF', 'ZRF', 'ZSG']\n",
      "<class 'pandas.core.frame.DataFrame'>\n",
      "Int64Index: 6952 entries, 6167 to 5786\n",
      "Data columns (total 9 columns):\n",
      "id          6952 non-null object\n",
      "src         6952 non-null object\n",
      "sym         6952 non-null object\n",
      "lbl         6952 non-null object\n",
      "spid        6952 non-null int64\n",
      "extid       6934 non-null object\n",
      "priority    6952 non-null int64\n",
      "prefid      6952 non-null object\n",
      "enabled     6952 non-null bool\n",
      "dtypes: bool(1), int64(2), object(6)\n",
      "memory usage: 495.6+ KB\n"
     ]
    }
   ],
   "source": [
    "# Remove excessively short symbols or larger symbols that are still too \n",
    "# ambiguous (normally found via tagging error analysis)\n",
    "rm_sym = list(df[(df['sym'].str.len() < MIN_TF_SYM_LEN) & (df['src'] != 'manual')]['sym'].unique())\n",
    "rm_sym = [v.upper() for v in rm_sym]\n",
    "\n",
    "mask = df['sym'].str.upper().isin(rm_sym)\n",
    "assert set(rm_sym) == set(df[mask]['sym'].str.upper().unique())\n",
    "print('Removing {} records with ambiguous symbols: {}'.format(mask.sum(), sorted(rm_sym)))\n",
    "df = df[~mask]\n",
    "df.info()"
   ]
  },
  {
   "cell_type": "code",
   "execution_count": 13,
   "metadata": {},
   "outputs": [
    {
     "name": "stdout",
     "output_type": "stream",
     "text": [
      "Removing 3 symbols in pre-defined filters: ['Genesis' 'MINOR' 'PRISM']\n",
      "<class 'pandas.core.frame.DataFrame'>\n",
      "Int64Index: 6949 entries, 6167 to 5786\n",
      "Data columns (total 9 columns):\n",
      "id          6949 non-null object\n",
      "src         6949 non-null object\n",
      "sym         6949 non-null object\n",
      "lbl         6949 non-null object\n",
      "spid        6949 non-null int64\n",
      "extid       6931 non-null object\n",
      "priority    6949 non-null int64\n",
      "prefid      6949 non-null object\n",
      "enabled     6949 non-null bool\n",
      "dtypes: bool(1), int64(2), object(6)\n",
      "memory usage: 495.4+ KB\n"
     ]
    }
   ],
   "source": [
    "# Apply static blacklist\n",
    "df = meta.apply_symbol_filters(df, lib.get_entity_meta_filters(TRANSCRIPTION_FACTORS))\n",
    "df.info()"
   ]
  },
  {
   "cell_type": "markdown",
   "metadata": {},
   "source": [
    "### Summarize"
   ]
  },
  {
   "cell_type": "code",
   "execution_count": 14,
   "metadata": {},
   "outputs": [
    {
     "data": {
      "text/html": [
       "<div>\n",
       "<style scoped>\n",
       "    .dataframe tbody tr th:only-of-type {\n",
       "        vertical-align: middle;\n",
       "    }\n",
       "\n",
       "    .dataframe tbody tr th {\n",
       "        vertical-align: top;\n",
       "    }\n",
       "\n",
       "    .dataframe thead th {\n",
       "        text-align: right;\n",
       "    }\n",
       "</style>\n",
       "<table border=\"1\" class=\"dataframe\">\n",
       "  <thead>\n",
       "    <tr style=\"text-align: right;\">\n",
       "      <th>enabled</th>\n",
       "      <th>False</th>\n",
       "      <th>True</th>\n",
       "    </tr>\n",
       "    <tr>\n",
       "      <th>src</th>\n",
       "      <th></th>\n",
       "      <th></th>\n",
       "    </tr>\n",
       "  </thead>\n",
       "  <tbody>\n",
       "    <tr>\n",
       "      <th>lambert</th>\n",
       "      <td>105</td>\n",
       "      <td>6826</td>\n",
       "    </tr>\n",
       "    <tr>\n",
       "      <th>manual</th>\n",
       "      <td>6</td>\n",
       "      <td>12</td>\n",
       "    </tr>\n",
       "  </tbody>\n",
       "</table>\n",
       "</div>"
      ],
      "text/plain": [
       "enabled  False  True \n",
       "src                  \n",
       "lambert    105   6826\n",
       "manual       6     12"
      ]
     },
     "execution_count": 14,
     "metadata": {},
     "output_type": "execute_result"
    }
   ],
   "source": [
    "df.groupby(['src', 'enabled']).size().unstack().fillna(0)"
   ]
  },
  {
   "cell_type": "code",
   "execution_count": 15,
   "metadata": {},
   "outputs": [
    {
     "data": {
      "text/plain": [
       "4     1313\n",
       "5     1676\n",
       "6     1468\n",
       "7      520\n",
       "8      164\n",
       "9       85\n",
       "10      55\n",
       "11      43\n",
       "12      33\n",
       "13      19\n",
       "14      44\n",
       "15    1529\n",
       "Name: sym, dtype: int64"
      ]
     },
     "execution_count": 15,
     "metadata": {},
     "output_type": "execute_result"
    }
   ],
   "source": [
    "df['sym'].str.len().clip(0, 15).value_counts().sort_index()"
   ]
  },
  {
   "cell_type": "code",
   "execution_count": 16,
   "metadata": {},
   "outputs": [
    {
     "data": {
      "text/html": [
       "<div>\n",
       "<style scoped>\n",
       "    .dataframe tbody tr th:only-of-type {\n",
       "        vertical-align: middle;\n",
       "    }\n",
       "\n",
       "    .dataframe tbody tr th {\n",
       "        vertical-align: top;\n",
       "    }\n",
       "\n",
       "    .dataframe thead th {\n",
       "        text-align: right;\n",
       "    }\n",
       "</style>\n",
       "<table border=\"1\" class=\"dataframe\">\n",
       "  <thead>\n",
       "    <tr style=\"text-align: right;\">\n",
       "      <th></th>\n",
       "      <th>id</th>\n",
       "      <th>src</th>\n",
       "      <th>sym</th>\n",
       "      <th>lbl</th>\n",
       "      <th>spid</th>\n",
       "      <th>extid</th>\n",
       "      <th>priority</th>\n",
       "      <th>prefid</th>\n",
       "      <th>enabled</th>\n",
       "    </tr>\n",
       "  </thead>\n",
       "  <tbody>\n",
       "    <tr>\n",
       "      <th>1185</th>\n",
       "      <td>TF54F4218B9B674FCF</td>\n",
       "      <td>lambert</td>\n",
       "      <td>FOXP3</td>\n",
       "      <td>FOXP3</td>\n",
       "      <td>1</td>\n",
       "      <td>ENSG00000049768</td>\n",
       "      <td>50</td>\n",
       "      <td>TF54F4218B9B674FCF</td>\n",
       "      <td>True</td>\n",
       "    </tr>\n",
       "    <tr>\n",
       "      <th>13</th>\n",
       "      <td>TF0697C638336DAAB9</td>\n",
       "      <td>manual</td>\n",
       "      <td>FOXP3</td>\n",
       "      <td>FOXP3</td>\n",
       "      <td>1</td>\n",
       "      <td>None</td>\n",
       "      <td>20</td>\n",
       "      <td>TF54F4218B9B674FCF</td>\n",
       "      <td>False</td>\n",
       "    </tr>\n",
       "    <tr>\n",
       "      <th>14</th>\n",
       "      <td>TF9B6AD040299F00D3</td>\n",
       "      <td>manual</td>\n",
       "      <td>FoxP3</td>\n",
       "      <td>FOXP3</td>\n",
       "      <td>1</td>\n",
       "      <td>None</td>\n",
       "      <td>20</td>\n",
       "      <td>TF54F4218B9B674FCF</td>\n",
       "      <td>True</td>\n",
       "    </tr>\n",
       "    <tr>\n",
       "      <th>15</th>\n",
       "      <td>TF67F3D442E67CA0A3</td>\n",
       "      <td>manual</td>\n",
       "      <td>Foxp3</td>\n",
       "      <td>FOXP3</td>\n",
       "      <td>1</td>\n",
       "      <td>None</td>\n",
       "      <td>20</td>\n",
       "      <td>TF54F4218B9B674FCF</td>\n",
       "      <td>True</td>\n",
       "    </tr>\n",
       "    <tr>\n",
       "      <th>16</th>\n",
       "      <td>TF742A1822CFE15888</td>\n",
       "      <td>manual</td>\n",
       "      <td>foxP3</td>\n",
       "      <td>FOXP3</td>\n",
       "      <td>1</td>\n",
       "      <td>None</td>\n",
       "      <td>20</td>\n",
       "      <td>TF54F4218B9B674FCF</td>\n",
       "      <td>True</td>\n",
       "    </tr>\n",
       "    <tr>\n",
       "      <th>17</th>\n",
       "      <td>TF0F340536F1731D52</td>\n",
       "      <td>manual</td>\n",
       "      <td>foxp3</td>\n",
       "      <td>FOXP3</td>\n",
       "      <td>1</td>\n",
       "      <td>None</td>\n",
       "      <td>20</td>\n",
       "      <td>TF54F4218B9B674FCF</td>\n",
       "      <td>True</td>\n",
       "    </tr>\n",
       "  </tbody>\n",
       "</table>\n",
       "</div>"
      ],
      "text/plain": [
       "                      id      src    sym    lbl  spid            extid  \\\n",
       "1185  TF54F4218B9B674FCF  lambert  FOXP3  FOXP3     1  ENSG00000049768   \n",
       "13    TF0697C638336DAAB9   manual  FOXP3  FOXP3     1             None   \n",
       "14    TF9B6AD040299F00D3   manual  FoxP3  FOXP3     1             None   \n",
       "15    TF67F3D442E67CA0A3   manual  Foxp3  FOXP3     1             None   \n",
       "16    TF742A1822CFE15888   manual  foxP3  FOXP3     1             None   \n",
       "17    TF0F340536F1731D52   manual  foxp3  FOXP3     1             None   \n",
       "\n",
       "      priority              prefid  enabled  \n",
       "1185        50  TF54F4218B9B674FCF     True  \n",
       "13          20  TF54F4218B9B674FCF    False  \n",
       "14          20  TF54F4218B9B674FCF     True  \n",
       "15          20  TF54F4218B9B674FCF     True  \n",
       "16          20  TF54F4218B9B674FCF     True  \n",
       "17          20  TF54F4218B9B674FCF     True  "
      ]
     },
     "execution_count": 16,
     "metadata": {},
     "output_type": "execute_result"
    }
   ],
   "source": [
    "df[df['sym'].str.lower().str.contains('foxp3')]"
   ]
  },
  {
   "cell_type": "code",
   "execution_count": 17,
   "metadata": {},
   "outputs": [
    {
     "data": {
      "text/html": [
       "<div>\n",
       "<style scoped>\n",
       "    .dataframe tbody tr th:only-of-type {\n",
       "        vertical-align: middle;\n",
       "    }\n",
       "\n",
       "    .dataframe tbody tr th {\n",
       "        vertical-align: top;\n",
       "    }\n",
       "\n",
       "    .dataframe thead th {\n",
       "        text-align: right;\n",
       "    }\n",
       "</style>\n",
       "<table border=\"1\" class=\"dataframe\">\n",
       "  <thead>\n",
       "    <tr style=\"text-align: right;\">\n",
       "      <th></th>\n",
       "      <th>id</th>\n",
       "      <th>src</th>\n",
       "      <th>sym</th>\n",
       "      <th>lbl</th>\n",
       "      <th>spid</th>\n",
       "      <th>extid</th>\n",
       "      <th>priority</th>\n",
       "      <th>prefid</th>\n",
       "      <th>enabled</th>\n",
       "    </tr>\n",
       "  </thead>\n",
       "  <tbody>\n",
       "    <tr>\n",
       "      <th>1242</th>\n",
       "      <td>TFE156A51136C217BC</td>\n",
       "      <td>lambert</td>\n",
       "      <td>GFI-1</td>\n",
       "      <td>GFI1</td>\n",
       "      <td>1</td>\n",
       "      <td>ENSG00000162676</td>\n",
       "      <td>50</td>\n",
       "      <td>TF1FEE043B45D9654E</td>\n",
       "      <td>True</td>\n",
       "    </tr>\n",
       "    <tr>\n",
       "      <th>265</th>\n",
       "      <td>TF1FEE043B45D9654E</td>\n",
       "      <td>lambert</td>\n",
       "      <td>GFI1</td>\n",
       "      <td>GFI1</td>\n",
       "      <td>1</td>\n",
       "      <td>ENSG00000162676</td>\n",
       "      <td>50</td>\n",
       "      <td>TF1FEE043B45D9654E</td>\n",
       "      <td>True</td>\n",
       "    </tr>\n",
       "    <tr>\n",
       "      <th>1243</th>\n",
       "      <td>TFD513B64FD7B6A5DF</td>\n",
       "      <td>lambert</td>\n",
       "      <td>GFI1A</td>\n",
       "      <td>GFI1</td>\n",
       "      <td>1</td>\n",
       "      <td>ENSG00000162676</td>\n",
       "      <td>50</td>\n",
       "      <td>TF1FEE043B45D9654E</td>\n",
       "      <td>True</td>\n",
       "    </tr>\n",
       "    <tr>\n",
       "      <th>266</th>\n",
       "      <td>TF06386BF18D80F1C5</td>\n",
       "      <td>lambert</td>\n",
       "      <td>GFI1B</td>\n",
       "      <td>GFI1B</td>\n",
       "      <td>1</td>\n",
       "      <td>ENSG00000165702</td>\n",
       "      <td>50</td>\n",
       "      <td>TF06386BF18D80F1C5</td>\n",
       "      <td>True</td>\n",
       "    </tr>\n",
       "    <tr>\n",
       "      <th>1200</th>\n",
       "      <td>TFD6425765B0AF5303</td>\n",
       "      <td>lambert</td>\n",
       "      <td>NGFI-A</td>\n",
       "      <td>EGR1</td>\n",
       "      <td>1</td>\n",
       "      <td>ENSG00000120738</td>\n",
       "      <td>50</td>\n",
       "      <td>TF9C933C7F3601C428</td>\n",
       "      <td>True</td>\n",
       "    </tr>\n",
       "    <tr>\n",
       "      <th>1218</th>\n",
       "      <td>TF6AD173F0E42A506C</td>\n",
       "      <td>lambert</td>\n",
       "      <td>NGFI-C</td>\n",
       "      <td>EGR4</td>\n",
       "      <td>1</td>\n",
       "      <td>ENSG00000135625</td>\n",
       "      <td>50</td>\n",
       "      <td>TF193163E659BF0520</td>\n",
       "      <td>True</td>\n",
       "    </tr>\n",
       "    <tr>\n",
       "      <th>6390</th>\n",
       "      <td>TF03C9CAC32D70E497</td>\n",
       "      <td>lambert</td>\n",
       "      <td>NGFIB</td>\n",
       "      <td>NR4A1</td>\n",
       "      <td>1</td>\n",
       "      <td>ENSG00000123358</td>\n",
       "      <td>50</td>\n",
       "      <td>TF139F6699C1A7EEBB</td>\n",
       "      <td>True</td>\n",
       "    </tr>\n",
       "    <tr>\n",
       "      <th>1219</th>\n",
       "      <td>TFA77682C38E2A0D4F</td>\n",
       "      <td>lambert</td>\n",
       "      <td>NGFIC</td>\n",
       "      <td>EGR4</td>\n",
       "      <td>1</td>\n",
       "      <td>ENSG00000135625</td>\n",
       "      <td>50</td>\n",
       "      <td>TF193163E659BF0520</td>\n",
       "      <td>True</td>\n",
       "    </tr>\n",
       "  </tbody>\n",
       "</table>\n",
       "</div>"
      ],
      "text/plain": [
       "                      id      src     sym    lbl  spid            extid  \\\n",
       "1242  TFE156A51136C217BC  lambert   GFI-1   GFI1     1  ENSG00000162676   \n",
       "265   TF1FEE043B45D9654E  lambert    GFI1   GFI1     1  ENSG00000162676   \n",
       "1243  TFD513B64FD7B6A5DF  lambert   GFI1A   GFI1     1  ENSG00000162676   \n",
       "266   TF06386BF18D80F1C5  lambert   GFI1B  GFI1B     1  ENSG00000165702   \n",
       "1200  TFD6425765B0AF5303  lambert  NGFI-A   EGR1     1  ENSG00000120738   \n",
       "1218  TF6AD173F0E42A506C  lambert  NGFI-C   EGR4     1  ENSG00000135625   \n",
       "6390  TF03C9CAC32D70E497  lambert   NGFIB  NR4A1     1  ENSG00000123358   \n",
       "1219  TFA77682C38E2A0D4F  lambert   NGFIC   EGR4     1  ENSG00000135625   \n",
       "\n",
       "      priority              prefid  enabled  \n",
       "1242        50  TF1FEE043B45D9654E     True  \n",
       "265         50  TF1FEE043B45D9654E     True  \n",
       "1243        50  TF1FEE043B45D9654E     True  \n",
       "266         50  TF06386BF18D80F1C5     True  \n",
       "1200        50  TF9C933C7F3601C428     True  \n",
       "1218        50  TF193163E659BF0520     True  \n",
       "6390        50  TF139F6699C1A7EEBB     True  \n",
       "1219        50  TF193163E659BF0520     True  "
      ]
     },
     "execution_count": 17,
     "metadata": {},
     "output_type": "execute_result"
    }
   ],
   "source": [
    "df[df['sym'].str.lower().str.contains('gfi')]"
   ]
  },
  {
   "cell_type": "markdown",
   "metadata": {},
   "source": [
    "### Export"
   ]
  },
  {
   "cell_type": "code",
   "execution_count": 18,
   "metadata": {},
   "outputs": [],
   "source": [
    "assert df['id'].value_counts().max() == 1"
   ]
  },
  {
   "cell_type": "code",
   "execution_count": 19,
   "metadata": {},
   "outputs": [
    {
     "data": {
      "text/plain": [
       "'/lab/repos/t-cell-relation-extraction/data/meta/transcription_factors.csv'"
      ]
     },
     "execution_count": 19,
     "metadata": {},
     "output_type": "execute_result"
    }
   ],
   "source": [
    "path = osp.join(META_DATA_DIR, TRANSCRIPTION_FACTORS + '.csv')\n",
    "df.to_csv(path, index=False)\n",
    "path"
   ]
  }
 ],
 "metadata": {
  "kernelspec": {
   "display_name": "Python 3",
   "language": "python",
   "name": "python3"
  },
  "language_info": {
   "codemirror_mode": {
    "name": "ipython",
    "version": 3
   },
   "file_extension": ".py",
   "mimetype": "text/x-python",
   "name": "python",
   "nbconvert_exporter": "python",
   "pygments_lexer": "ipython3",
   "version": "3.6.8"
  }
 },
 "nbformat": 4,
 "nbformat_minor": 4
}
