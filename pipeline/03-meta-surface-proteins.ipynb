{
 "cells": [
  {
   "cell_type": "markdown",
   "metadata": {},
   "source": [
    "### Protein/Marker Meta Data Integration\n",
    "\n",
    "This should filter PRO data in an application-specific manner and in this case, the most useful application of PRO is in building list of cell surface markers that augment the cytokines and transcription factors commonly measured in immunological studies."
   ]
  },
  {
   "cell_type": "code",
   "execution_count": 1,
   "metadata": {},
   "outputs": [],
   "source": [
    "import os.path as osp\n",
    "import pandas as pd\n",
    "import numpy as np\n",
    "from tcre import lib\n",
    "from tcre.lib import SPECIES_HUMAN_ID\n",
    "from tcre.env import *"
   ]
  },
  {
   "cell_type": "markdown",
   "metadata": {},
   "source": [
    "## Load and Filter\n",
    "\n",
    "Load all PRO terms and filter to those for CD molecules."
   ]
  },
  {
   "cell_type": "code",
   "execution_count": 2,
   "metadata": {},
   "outputs": [
    {
     "name": "stdout",
     "output_type": "stream",
     "text": [
      "<class 'pandas.core.frame.DataFrame'>\n",
      "Int64Index: 4818 entries, 4874 to 3\n",
      "Data columns (total 10 columns):\n",
      "category      4818 non-null object\n",
      "id            4818 non-null object\n",
      "label         4818 non-null object\n",
      "namespace     4814 non-null object\n",
      "parent        575 non-null object\n",
      "priority      4814 non-null float64\n",
      "species       4818 non-null object\n",
      "species_id    4814 non-null float64\n",
      "syn           4818 non-null object\n",
      "syn_typ       4818 non-null object\n",
      "dtypes: float64(2), object(8)\n",
      "memory usage: 414.0+ KB\n"
     ]
    }
   ],
   "source": [
    "df_pro = pd.read_csv(osp.join(META_DATA_DIR, 'raw', 'pro.raw.csv.gz'))\n",
    "\n",
    "# Get groups and parents for CD molecules\n",
    "tgt_ids = list(df_pro[df_pro['syn'].fillna('').str.startswith('CD')]['id'].unique())\n",
    "tgt_ids = np.unique(list(df_pro.set_index('id').loc[tgt_ids]['parent'].unique()) + tgt_ids)\n",
    "df_pro = (\n",
    "    df_pro\n",
    "    .pipe(lambda df: df[df['syn'].str.len() >= 3])\n",
    "    .pipe(lambda df: df[(~df['syn'].str.contains(' ')) | (df['syn_typ'] == 'label')])\n",
    "    .pipe(lambda df: df[df['id'].isin(tgt_ids)])\n",
    "    # Remove synonyms like \"hCFAP299/iso:h1\"\n",
    "    .pipe(lambda df: df[~df['syn'].str.contains('/|:')])\n",
    ")\n",
    "\n",
    "# Hack in manual entries for now\n",
    "df_pro = df_pro.append(pd.DataFrame([\n",
    "    {\n",
    "    'category': 'organism-gene', 'id': 'PR:000001017', 'label': 'CD45RO', \n",
    "    'parent': 'PR:000001017', 'syn': 'CD45RO', 'syn_typ': 'label', 'species': 'any'\n",
    "    },\n",
    "    {\n",
    "    'category': 'organism-gene', 'id': 'PR:000001084', 'label': 'CD8', \n",
    "    'parent': 'PR:000001084', 'syn': 'CD8', 'syn_typ': 'exact', 'species': 'any'\n",
    "    },\n",
    "    {\n",
    "    'category': 'organism-gene', 'id': 'PRM:001', 'label': 'CD57', \n",
    "    'parent': 'PRM:001', 'syn': 'CD57', 'syn_typ': 'exact', 'species': 'any'\n",
    "    },\n",
    "    {\n",
    "    'category': 'organism-gene', 'id': 'PR:000001919', 'label': 'PD1', \n",
    "    'parent': 'PR:000001919', 'syn': 'PD1', 'syn_typ': 'exact', 'species': 'any'\n",
    "    },\n",
    "]), sort=True)\n",
    "\n",
    "df_pro.info()"
   ]
  },
  {
   "cell_type": "code",
   "execution_count": 3,
   "metadata": {},
   "outputs": [],
   "source": [
    "# Re-map preferred label to CD marker syms\n",
    "\n",
    "def get_preferred_label(g):\n",
    "    g = g.assign(syn_len=g['syn'].str.len()).sort_values('syn_len')\n",
    "    mask = g['syn'].str.contains('CD')\n",
    "    # Use CD name if possible\n",
    "    if mask.any():\n",
    "        r = g[mask].iloc[0]\n",
    "    # Use shortest possible synonym\n",
    "    else:\n",
    "        r = g.iloc[0]\n",
    "    return dict(lbl=r['syn'], id=r['id'])\n",
    "\n",
    "pm_pro = df_pro.groupby('id').apply(get_preferred_label)\n",
    "df_pro['pref_lbl'] = df_pro['id'].map(pm_pro.apply(lambda m: m['lbl']))\n",
    "df_pro['pref_id'] = df_pro['id'].map(pm_pro.apply(lambda m: m['id']))"
   ]
  },
  {
   "cell_type": "code",
   "execution_count": 5,
   "metadata": {},
   "outputs": [
    {
     "name": "stdout",
     "output_type": "stream",
     "text": [
      "<class 'pandas.core.frame.DataFrame'>\n",
      "Int64Index: 4818 entries, 4874 to 3\n",
      "Data columns (total 12 columns):\n",
      "category      4818 non-null object\n",
      "id            4818 non-null object\n",
      "label         4818 non-null object\n",
      "namespace     4814 non-null object\n",
      "parent        575 non-null object\n",
      "priority      4814 non-null float64\n",
      "species       4818 non-null object\n",
      "species_id    4814 non-null float64\n",
      "syn           4818 non-null object\n",
      "syn_typ       4818 non-null object\n",
      "pref_lbl      4818 non-null object\n",
      "pref_id       4818 non-null object\n",
      "dtypes: float64(2), object(10)\n",
      "memory usage: 489.3+ KB\n"
     ]
    }
   ],
   "source": [
    "df_pro.info()"
   ]
  },
  {
   "cell_type": "code",
   "execution_count": 6,
   "metadata": {},
   "outputs": [
    {
     "data": {
      "text/html": [
       "<div>\n",
       "<style scoped>\n",
       "    .dataframe tbody tr th:only-of-type {\n",
       "        vertical-align: middle;\n",
       "    }\n",
       "\n",
       "    .dataframe tbody tr th {\n",
       "        vertical-align: top;\n",
       "    }\n",
       "\n",
       "    .dataframe thead th {\n",
       "        text-align: right;\n",
       "    }\n",
       "</style>\n",
       "<table border=\"1\" class=\"dataframe\">\n",
       "  <thead>\n",
       "    <tr style=\"text-align: right;\">\n",
       "      <th></th>\n",
       "      <th>category</th>\n",
       "      <th>id</th>\n",
       "      <th>label</th>\n",
       "      <th>namespace</th>\n",
       "      <th>parent</th>\n",
       "      <th>priority</th>\n",
       "      <th>species</th>\n",
       "      <th>species_id</th>\n",
       "      <th>syn</th>\n",
       "      <th>syn_typ</th>\n",
       "      <th>pref_lbl</th>\n",
       "      <th>pref_id</th>\n",
       "    </tr>\n",
       "  </thead>\n",
       "  <tbody>\n",
       "    <tr>\n",
       "      <th>4874</th>\n",
       "      <td>organism-gene</td>\n",
       "      <td>PR:P64554</td>\n",
       "      <td>7-carboxy-7-deazaguanine synthase (Escherichia...</td>\n",
       "      <td>protein</td>\n",
       "      <td>PR:000034945</td>\n",
       "      <td>2.0</td>\n",
       "      <td>any</td>\n",
       "      <td>3.0</td>\n",
       "      <td>ygcF</td>\n",
       "      <td>related</td>\n",
       "      <td>ygcF</td>\n",
       "      <td>PR:P64554</td>\n",
       "    </tr>\n",
       "    <tr>\n",
       "      <th>4880</th>\n",
       "      <td>organism-gene</td>\n",
       "      <td>PR:Q46893</td>\n",
       "      <td>2-C-methyl-D-erythritol 4-phosphate cytidylylt...</td>\n",
       "      <td>protein</td>\n",
       "      <td>PR:000023036</td>\n",
       "      <td>2.0</td>\n",
       "      <td>any</td>\n",
       "      <td>3.0</td>\n",
       "      <td>ygbP</td>\n",
       "      <td>related</td>\n",
       "      <td>ygbP</td>\n",
       "      <td>PR:Q46893</td>\n",
       "    </tr>\n",
       "    <tr>\n",
       "      <th>5540</th>\n",
       "      <td>gene</td>\n",
       "      <td>PR:000033765</td>\n",
       "      <td>uncharacterized protein YddB</td>\n",
       "      <td>protein</td>\n",
       "      <td>NaN</td>\n",
       "      <td>4.0</td>\n",
       "      <td>any</td>\n",
       "      <td>3.0</td>\n",
       "      <td>yddB</td>\n",
       "      <td>exact</td>\n",
       "      <td>CDS103</td>\n",
       "      <td>PR:000033765</td>\n",
       "    </tr>\n",
       "    <tr>\n",
       "      <th>5541</th>\n",
       "      <td>gene</td>\n",
       "      <td>PR:000035174</td>\n",
       "      <td>inner membrane ABC transporter ATP-binding pro...</td>\n",
       "      <td>protein</td>\n",
       "      <td>NaN</td>\n",
       "      <td>4.0</td>\n",
       "      <td>any</td>\n",
       "      <td>3.0</td>\n",
       "      <td>yddA</td>\n",
       "      <td>exact</td>\n",
       "      <td>CDS102</td>\n",
       "      <td>PR:000035174</td>\n",
       "    </tr>\n",
       "    <tr>\n",
       "      <th>6771</th>\n",
       "      <td>gene</td>\n",
       "      <td>PR:000005436</td>\n",
       "      <td>charged multivesicular body protein 4a</td>\n",
       "      <td>protein</td>\n",
       "      <td>NaN</td>\n",
       "      <td>4.0</td>\n",
       "      <td>any</td>\n",
       "      <td>3.0</td>\n",
       "      <td>vps32-1</td>\n",
       "      <td>exact</td>\n",
       "      <td>Snf-1</td>\n",
       "      <td>PR:000005436</td>\n",
       "    </tr>\n",
       "  </tbody>\n",
       "</table>\n",
       "</div>"
      ],
      "text/plain": [
       "           category            id  \\\n",
       "4874  organism-gene     PR:P64554   \n",
       "4880  organism-gene     PR:Q46893   \n",
       "5540           gene  PR:000033765   \n",
       "5541           gene  PR:000035174   \n",
       "6771           gene  PR:000005436   \n",
       "\n",
       "                                                  label namespace  \\\n",
       "4874  7-carboxy-7-deazaguanine synthase (Escherichia...   protein   \n",
       "4880  2-C-methyl-D-erythritol 4-phosphate cytidylylt...   protein   \n",
       "5540                       uncharacterized protein YddB   protein   \n",
       "5541  inner membrane ABC transporter ATP-binding pro...   protein   \n",
       "6771             charged multivesicular body protein 4a   protein   \n",
       "\n",
       "            parent  priority species  species_id      syn  syn_typ pref_lbl  \\\n",
       "4874  PR:000034945       2.0     any         3.0     ygcF  related     ygcF   \n",
       "4880  PR:000023036       2.0     any         3.0     ygbP  related     ygbP   \n",
       "5540           NaN       4.0     any         3.0     yddB    exact   CDS103   \n",
       "5541           NaN       4.0     any         3.0     yddA    exact   CDS102   \n",
       "6771           NaN       4.0     any         3.0  vps32-1    exact    Snf-1   \n",
       "\n",
       "           pref_id  \n",
       "4874     PR:P64554  \n",
       "4880     PR:Q46893  \n",
       "5540  PR:000033765  \n",
       "5541  PR:000035174  \n",
       "6771  PR:000005436  "
      ]
     },
     "execution_count": 6,
     "metadata": {},
     "output_type": "execute_result"
    }
   ],
   "source": [
    "df_pro.head()"
   ]
  },
  {
   "cell_type": "markdown",
   "metadata": {},
   "source": [
    "## Export"
   ]
  },
  {
   "cell_type": "code",
   "execution_count": 14,
   "metadata": {},
   "outputs": [],
   "source": [
    "# Set enabled and external id for compatibility with other controlled vocab integrations\n",
    "df = df_pro.assign(enabled=True).rename(columns={'id': 'extid'}).copy()\n",
    "# Ensure synonyms are unique\n",
    "assert df.groupby('syn').size().max() == 1"
   ]
  },
  {
   "cell_type": "code",
   "execution_count": 15,
   "metadata": {},
   "outputs": [
    {
     "name": "stdout",
     "output_type": "stream",
     "text": [
      "<class 'pandas.core.frame.DataFrame'>\n",
      "Int64Index: 4818 entries, 4874 to 3\n",
      "Data columns (total 13 columns):\n",
      "category      4818 non-null object\n",
      "extid         4818 non-null object\n",
      "label         4818 non-null object\n",
      "namespace     4814 non-null object\n",
      "parent        575 non-null object\n",
      "priority      4814 non-null float64\n",
      "species       4818 non-null object\n",
      "species_id    4814 non-null float64\n",
      "syn           4818 non-null object\n",
      "syn_typ       4818 non-null object\n",
      "pref_lbl      4818 non-null object\n",
      "pref_id       4818 non-null object\n",
      "enabled       4818 non-null bool\n",
      "dtypes: bool(1), float64(2), object(10)\n",
      "memory usage: 494.0+ KB\n"
     ]
    }
   ],
   "source": [
    "df.info()"
   ]
  },
  {
   "cell_type": "code",
   "execution_count": 16,
   "metadata": {},
   "outputs": [
    {
     "data": {
      "text/plain": [
       "'/lab/repos/t-cell-relation-extraction/data/meta/surface_proteins.csv'"
      ]
     },
     "execution_count": 16,
     "metadata": {},
     "output_type": "execute_result"
    }
   ],
   "source": [
    "path = osp.join(META_DATA_DIR, lib.SURFACE_PROTEINS + '.csv')\n",
    "df.to_csv(path, index=False)\n",
    "path"
   ]
  }
 ],
 "metadata": {
  "kernelspec": {
   "display_name": "Python 3",
   "language": "python",
   "name": "python3"
  },
  "language_info": {
   "codemirror_mode": {
    "name": "ipython",
    "version": 3
   },
   "file_extension": ".py",
   "mimetype": "text/x-python",
   "name": "python",
   "nbconvert_exporter": "python",
   "pygments_lexer": "ipython3",
   "version": "3.6.9"
  }
 },
 "nbformat": 4,
 "nbformat_minor": 4
}
