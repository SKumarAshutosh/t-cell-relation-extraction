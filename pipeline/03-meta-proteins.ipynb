{
 "cells": [
  {
   "cell_type": "markdown",
   "metadata": {},
   "source": [
    "### Protein/Marker Meta Data Integration\n",
    "\n",
    "This should filter PRO data in an application-specific manner and in this case, the most useful application of PRO is in building list of cell surface markers that augment the cytokines and transcription factors commonly measured in immunological studies."
   ]
  },
  {
   "cell_type": "code",
   "execution_count": null,
   "metadata": {},
   "outputs": [],
   "source": [
    "import os.path as osp\n",
    "import pandas as pd\n",
    "import numpy as np\n",
    "from tcre import meta\n",
    "from tcre import lib\n",
    "from tcre.lib import SPECIES_HUMAN_ID\n",
    "from tcre.env import *"
   ]
  },
  {
   "cell_type": "code",
   "execution_count": null,
   "metadata": {},
   "outputs": [],
   "source": [
    "# Symbols/synonyms to ignore (for all meta data sources)\n",
    "bad_syms = [\"ifi\", \"dif\", \"esp\", \"tc1\", \"til\"]"
   ]
  },
  {
   "cell_type": "code",
   "execution_count": null,
   "metadata": {},
   "outputs": [],
   "source": [
    "df_pro = pd.read_csv(osp.join(META_DATA_DIR, 'raw', 'pro.raw.csv.gz'))\n",
    "\n",
    "# Get groups and parents for CD molecules\n",
    "tgt_ids = list(df_pro[df_pro['syn'].fillna('').str.startswith('CD')]['id'].unique())\n",
    "tgt_ids = np.unique(list(df_pro.set_index('id').loc[tgt_ids]['parent'].unique()) + tgt_ids)\n",
    "df_pro = (\n",
    "    df_pro\n",
    "    .pipe(lambda df: df[df['syn'].str.len() >= 3])\n",
    "    .pipe(lambda df: df[(~df['syn'].str.contains(' ')) | (df['syn_typ'] == 'label')])\n",
    "    .pipe(lambda df: df[df['id'].isin(tgt_ids)])\n",
    "    # Remove synonyms like \"hCFAP299/iso:h1\"\n",
    "    .pipe(lambda df: df[~df['syn'].str.contains('/|:')])\n",
    ")\n",
    "\n",
    "# Hack in manual entries for now\n",
    "df_pro = df_pro.append(pd.DataFrame([\n",
    "    {\n",
    "    'category': 'organism-gene', 'id': 'PR:000001017', 'label': 'CD45RO', \n",
    "    'parent': 'PR:000001017', 'syn': 'CD45RO', 'syn_typ': 'label', 'species': 'any'\n",
    "    },\n",
    "    {\n",
    "    'category': 'organism-gene', 'id': 'PR:000001084', 'label': 'CD8', \n",
    "    'parent': 'PR:000001084', 'syn': 'CD8', 'syn_typ': 'exact', 'species': 'any'\n",
    "    },\n",
    "    {\n",
    "    'category': 'organism-gene', 'id': 'PRM:001', 'label': 'CD57', \n",
    "    'parent': 'PRM:001', 'syn': 'CD57', 'syn_typ': 'exact', 'species': 'any'\n",
    "    },\n",
    "    {\n",
    "    'category': 'organism-gene', 'id': 'PR:000001919', 'label': 'PD1', \n",
    "    'parent': 'PR:000001919', 'syn': 'PD1', 'syn_typ': 'exact', 'species': 'any'\n",
    "    },\n",
    "]))\n",
    "\n",
    "df_pro.info()"
   ]
  },
  {
   "cell_type": "code",
   "execution_count": null,
   "metadata": {},
   "outputs": [],
   "source": [
    "df_ck[df_ck['sym'].str.lower().isin(bad_syms)]"
   ]
  },
  {
   "cell_type": "code",
   "execution_count": null,
   "metadata": {},
   "outputs": [],
   "source": [
    "# Re-map preferred label to CD marker syms\n",
    "\n",
    "def get_preferred_label(g):\n",
    "    g = g.assign(syn_len=g['syn'].str.len()).sort_values('syn_len')\n",
    "    mask = g['syn'].str.contains('CD')\n",
    "    # Use CD name if possible\n",
    "    if mask.any():\n",
    "        r = g[mask].iloc[0]\n",
    "    # Use shortest possible synonym\n",
    "    else:\n",
    "        r = g.iloc[0]\n",
    "    return dict(lbl=r['syn'], id=r['id'])\n",
    "\n",
    "pm_pro = df_pro.groupby('id').apply(get_preferred_label).to_dict()"
   ]
  },
  {
   "cell_type": "code",
   "execution_count": null,
   "metadata": {},
   "outputs": [],
   "source": [
    "# write as proteins.csv"
   ]
  }
 ],
 "metadata": {
  "kernelspec": {
   "display_name": "Python 3",
   "language": "python",
   "name": "python3"
  },
  "language_info": {
   "codemirror_mode": {
    "name": "ipython",
    "version": 3
   },
   "file_extension": ".py",
   "mimetype": "text/x-python",
   "name": "python",
   "nbconvert_exporter": "python",
   "pygments_lexer": "ipython3",
   "version": "3.6.8"
  }
 },
 "nbformat": 4,
 "nbformat_minor": 2
}
