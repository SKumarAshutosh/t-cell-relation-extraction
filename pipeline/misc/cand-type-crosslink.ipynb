{
 "cells": [
  {
   "cell_type": "code",
   "execution_count": 1,
   "metadata": {},
   "outputs": [],
   "source": [
    "import os\n",
    "import os.path as osp\n",
    "import pandas as pd\n",
    "import numpy as np\n",
    "from snorkel import SnorkelSession\n",
    "from tcre.env import *\n",
    "from tcre.supervision import *\n",
    "session = SnorkelSession()\n",
    "classes = get_candidate_classes()"
   ]
  },
  {
   "cell_type": "code",
   "execution_count": 82,
   "metadata": {},
   "outputs": [
    {
     "data": {
      "text/plain": [
       "(('CK04FD0805168B608B:CKB4EB2D2CC8BBB93D',\n",
       "  'CTC3A8C3CBC245616A:CTC3A8C3CBC245616A'),\n",
       " 'CK04FD0805168B608B:CKB4EB2D2CC8BBB93D',\n",
       " 'CTC3A8C3CBC245616A:CTC3A8C3CBC245616A')"
      ]
     },
     "execution_count": 82,
     "metadata": {},
     "output_type": "execute_result"
    }
   ],
   "source": [
    "from snorkel.models import Candidate\n",
    "c = session.query(Candidate).filter(Candidate.split == 1).first()\n",
    "c.get_cids(), c.cytokine_cid, c.immune_cell_type_cid"
   ]
  },
  {
   "cell_type": "code",
   "execution_count": 108,
   "metadata": {},
   "outputs": [
    {
     "data": {
      "text/plain": [
       "type                           span_0_type           span_1_type     \n",
       "inducing_cytokine              cytokine              immune_cell_type    673\n",
       "inducing_transcription_factor  transcription_factor  immune_cell_type    410\n",
       "secreted_cytokine              cytokine              immune_cell_type    673\n",
       "dtype: int64"
      ]
     },
     "execution_count": 108,
     "metadata": {},
     "output_type": "execute_result"
    }
   ],
   "source": [
    "# Check to see which entity types are associated with each candidate span (should always have the same order)\n",
    "pd.DataFrame([\n",
    "    dict(\n",
    "        id=c.id, type=c.type, \n",
    "        span_0_type=c.get_parent().entity_types[c.get_contexts()[0].get_word_range()[0]],\n",
    "        span_1_type=c.get_parent().entity_types[c.get_contexts()[1].get_word_range()[0]]\n",
    "    )\n",
    "    for c in session.query(Candidate).filter(Candidate.split == 1).all()\n",
    "]).groupby(['type', 'span_0_type', 'span_1_type']).size()"
   ]
  },
  {
   "cell_type": "code",
   "execution_count": 83,
   "metadata": {},
   "outputs": [
    {
     "data": {
      "text/plain": [
       "InducingCytokine(Span(\"b'IL-12'\", sentence=13515, chars=[0,4], words=[0,0]), Span(\"b'TH1'\", sentence=13515, chars=[122,124], words=[21,21]))"
      ]
     },
     "execution_count": 83,
     "metadata": {},
     "output_type": "execute_result"
    }
   ],
   "source": [
    "c"
   ]
  },
  {
   "cell_type": "code",
   "execution_count": 84,
   "metadata": {},
   "outputs": [
    {
     "data": {
      "text/plain": [
       "Sentence(Document PMC3304099,21,b'IL-12 induces not only Ifng expression1 but also T-bet,  which promotes the survival and proliferation of differentiating TH1 cells.   ')"
      ]
     },
     "execution_count": 84,
     "metadata": {},
     "output_type": "execute_result"
    }
   ],
   "source": [
    "c.get_parent()"
   ]
  },
  {
   "cell_type": "code",
   "execution_count": 85,
   "metadata": {},
   "outputs": [
    {
     "data": {
      "text/plain": [
       "122"
      ]
     },
     "execution_count": 85,
     "metadata": {},
     "output_type": "execute_result"
    }
   ],
   "source": [
    "c.get_parent().document_id"
   ]
  },
  {
   "cell_type": "code",
   "execution_count": 109,
   "metadata": {},
   "outputs": [
    {
     "data": {
      "text/plain": [
       "(Span(\"b'IL-12'\", sentence=13515, chars=[0,4], words=[0,0]),\n",
       " Span(\"b'TH1'\", sentence=13515, chars=[122,124], words=[21,21]))"
      ]
     },
     "execution_count": 109,
     "metadata": {},
     "output_type": "execute_result"
    }
   ],
   "source": [
    "c.get_contexts()"
   ]
  },
  {
   "cell_type": "code",
   "execution_count": 104,
   "metadata": {},
   "outputs": [
    {
     "data": {
      "text/plain": [
       "(Span(\"b'IL-12'\", sentence=13515, chars=[0,4], words=[0,0]),\n",
       " Span(\"b'TH1'\", sentence=13515, chars=[122,124], words=[21,21]))"
      ]
     },
     "execution_count": 104,
     "metadata": {},
     "output_type": "execute_result"
    }
   ],
   "source": [
    "c.cytokine, c.immune_cell_type"
   ]
  },
  {
   "cell_type": "code",
   "execution_count": 86,
   "metadata": {},
   "outputs": [
    {
     "data": {
      "text/plain": [
       "Span(\"b'IL-12'\", sentence=13515, chars=[0,4], words=[0,0])"
      ]
     },
     "execution_count": 86,
     "metadata": {},
     "output_type": "execute_result"
    }
   ],
   "source": [
    "ctx = c.get_contexts()[0]\n",
    "ctx"
   ]
  },
  {
   "cell_type": "code",
   "execution_count": 87,
   "metadata": {},
   "outputs": [
    {
     "data": {
      "text/plain": [
       "[SecretedCytokine(Span(\"b'IL-12'\", sentence=13515, chars=[0,4], words=[0,0]), Span(\"b'TH1'\", sentence=13515, chars=[122,124], words=[21,21]))]"
      ]
     },
     "execution_count": 87,
     "metadata": {},
     "output_type": "execute_result"
    }
   ],
   "source": [
    "# This is every candidate of the other relation class with a cytokine matching the same span (as ctx)\n",
    "ctx.secreted_cytokine_cytokines"
   ]
  },
  {
   "cell_type": "code",
   "execution_count": 88,
   "metadata": {},
   "outputs": [
    {
     "data": {
      "text/plain": [
       "[]"
      ]
     },
     "execution_count": 88,
     "metadata": {},
     "output_type": "execute_result"
    }
   ],
   "source": [
    "# This is every candidate of the other relation class with an immune cell type matching the same span (as ctx) -- which \n",
    "# should return nothing since the span is itself for a cytokine\n",
    "ctx.secreted_cytokine_immune_cell_types"
   ]
  },
  {
   "cell_type": "code",
   "execution_count": 89,
   "metadata": {},
   "outputs": [
    {
     "data": {
      "text/plain": [
       "[(30840, 126243), (30840, 126245)]"
      ]
     },
     "execution_count": 89,
     "metadata": {},
     "output_type": "execute_result"
    }
   ],
   "source": [
    "[(c.id, s.id) for c in ctx.secreted_cytokine_cytokines for s in c.get_contexts()]"
   ]
  },
  {
   "cell_type": "code",
   "execution_count": 90,
   "metadata": {},
   "outputs": [
    {
     "data": {
      "text/plain": [
       "[30840]"
      ]
     },
     "execution_count": 90,
     "metadata": {},
     "output_type": "execute_result"
    }
   ],
   "source": [
    "[c.id for c in ctx.secreted_cytokine_cytokines]"
   ]
  },
  {
   "cell_type": "code",
   "execution_count": 91,
   "metadata": {},
   "outputs": [
    {
     "data": {
      "text/plain": [
       "SecretedCytokine(Span(\"b'IL-12'\", sentence=13515, chars=[0,4], words=[0,0]), Span(\"b'TH1'\", sentence=13515, chars=[122,124], words=[21,21]))"
      ]
     },
     "execution_count": 91,
     "metadata": {},
     "output_type": "execute_result"
    }
   ],
   "source": [
    "sibling_cand = ctx.secreted_cytokine_cytokines[0]\n",
    "sibling_cand"
   ]
  },
  {
   "cell_type": "code",
   "execution_count": 92,
   "metadata": {},
   "outputs": [
    {
     "data": {
      "text/plain": [
       "(30840, 30167)"
      ]
     },
     "execution_count": 92,
     "metadata": {},
     "output_type": "execute_result"
    }
   ],
   "source": [
    "sibling_cand.id, c.id"
   ]
  },
  {
   "cell_type": "code",
   "execution_count": 93,
   "metadata": {},
   "outputs": [
    {
     "data": {
      "text/plain": [
       "Span(\"b'TH1'\", sentence=13515, chars=[122,124], words=[21,21])"
      ]
     },
     "execution_count": 93,
     "metadata": {},
     "output_type": "execute_result"
    }
   ],
   "source": [
    "ctx = c.get_contexts()[1]\n",
    "ctx"
   ]
  },
  {
   "cell_type": "code",
   "execution_count": 94,
   "metadata": {},
   "outputs": [
    {
     "data": {
      "text/plain": [
       "[]"
      ]
     },
     "execution_count": 94,
     "metadata": {},
     "output_type": "execute_result"
    }
   ],
   "source": [
    "ctx.secreted_cytokine_cytokines"
   ]
  },
  {
   "cell_type": "code",
   "execution_count": 95,
   "metadata": {},
   "outputs": [
    {
     "data": {
      "text/plain": [
       "[SecretedCytokine(Span(\"b'IL-12'\", sentence=13515, chars=[0,4], words=[0,0]), Span(\"b'TH1'\", sentence=13515, chars=[122,124], words=[21,21])),\n",
       " SecretedCytokine(Span(\"b'Ifng'\", sentence=13515, chars=[23,26], words=[4,4]), Span(\"b'TH1'\", sentence=13515, chars=[122,124], words=[21,21]))]"
      ]
     },
     "execution_count": 95,
     "metadata": {},
     "output_type": "execute_result"
    }
   ],
   "source": [
    "ctx.secreted_cytokine_immune_cell_types"
   ]
  },
  {
   "cell_type": "code",
   "execution_count": 96,
   "metadata": {},
   "outputs": [
    {
     "data": {
      "text/plain": [
       "[(30840, 126243), (30840, 126245), (30841, 126244), (30841, 126245)]"
      ]
     },
     "execution_count": 96,
     "metadata": {},
     "output_type": "execute_result"
    }
   ],
   "source": [
    "[(c.id, s.id) for c in ctx.secreted_cytokine_immune_cell_types for s in c.get_contexts()]"
   ]
  },
  {
   "cell_type": "code",
   "execution_count": 97,
   "metadata": {},
   "outputs": [
    {
     "data": {
      "text/plain": [
       "[30840, 30841]"
      ]
     },
     "execution_count": 97,
     "metadata": {},
     "output_type": "execute_result"
    }
   ],
   "source": [
    "[c.id for c in ctx.secreted_cytokine_immune_cell_types]"
   ]
  },
  {
   "cell_type": "code",
   "execution_count": 102,
   "metadata": {},
   "outputs": [
    {
     "data": {
      "text/plain": [
       "True"
      ]
     },
     "execution_count": 102,
     "metadata": {},
     "output_type": "execute_result"
    }
   ],
   "source": [
    "c.get_contexts()[0].secreted_cytokine_cytokines[0] == c.get_contexts()[1].secreted_cytokine_immune_cell_types[0]"
   ]
  },
  {
   "cell_type": "code",
   "execution_count": 98,
   "metadata": {},
   "outputs": [
    {
     "data": {
      "text/plain": [
       "['cytokine', 'immune_cell_type']"
      ]
     },
     "execution_count": 98,
     "metadata": {},
     "output_type": "execute_result"
    }
   ],
   "source": [
    "classes.inducing_cytokine.entity_types"
   ]
  },
  {
   "cell_type": "code",
   "execution_count": 105,
   "metadata": {},
   "outputs": [
    {
     "data": {
      "text/plain": [
       "['cytokine', 'immune_cell_type']"
      ]
     },
     "execution_count": 105,
     "metadata": {},
     "output_type": "execute_result"
    }
   ],
   "source": [
    "c.__class__.__argnames__"
   ]
  },
  {
   "cell_type": "markdown",
   "metadata": {},
   "source": [
    "### Function Dev"
   ]
  },
  {
   "cell_type": "code",
   "execution_count": 115,
   "metadata": {},
   "outputs": [],
   "source": [
    "COMP_TYPES = {\n",
    "    classes.inducing_cytokine.field: classes.secreted_cytokine.field,\n",
    "    classes.secreted_cytokine.field: classes.inducing_cytokine.field,\n",
    "}\n",
    "\n",
    "def get_span_type(c, span):\n",
    "    # Return entity type for sentence at position of first word for span\n",
    "    return c.get_parent().entity_types[span.get_word_range()[0]]\n",
    "\n",
    "def get_sibling_cand(c, strict=True):\n",
    "    if c.type not in COMP_TYPES:\n",
    "        return None\n",
    "    entity_types = c.__class__.__argnames__  #  ['cytokine', 'immune_cell_type']\n",
    "    sibl_type = COMP_TYPES[c.type]  # 'secreted_cytokine'\n",
    "    cand_spans = sorted(c.get_contexts(), key=lambda v: v.id)\n",
    "    span_map = {get_span_type(c, span): span for i, span in enumerate(cand_spans)}  # map spans by type\n",
    "    # Find sibling candidates through backref fields like \"secreted_cytokine_cytokines\"\n",
    "    # * only first entity type is necessary for lookup since the sibling candidate will be attached to both\n",
    "    sibl_cands = getattr(span_map[entity_types[0]], sibl_type + '_' + entity_types[0] + 's')\n",
    "    # Filter to candidate with same spans\n",
    "    sibl_cands = [s for s in sibl_cands if sorted(s.get_contexts(), key=lambda v: v.id) == cand_spans]\n",
    "    if strict and len(sibl_cands) != 1:\n",
    "        raise ValueError(f'Failed to find exactly one sibling candidate for candidate {c} (siblings found = {sibl_cands})')\n",
    "    return sibl_cands[0] if sibl_cands else None"
   ]
  },
  {
   "cell_type": "code",
   "execution_count": 117,
   "metadata": {},
   "outputs": [
    {
     "name": "stdout",
     "output_type": "stream",
     "text": [
      "InducingCytokine(Span(\"b'IL-12'\", sentence=13515, chars=[0,4], words=[0,0]), Span(\"b'TH1'\", sentence=13515, chars=[122,124], words=[21,21]))\n",
      "SecretedCytokine(Span(\"b'IL-12'\", sentence=13515, chars=[0,4], words=[0,0]), Span(\"b'TH1'\", sentence=13515, chars=[122,124], words=[21,21]))\n"
     ]
    }
   ],
   "source": [
    "print(c)\n",
    "print(get_sibling_cand(c))"
   ]
  },
  {
   "cell_type": "code",
   "execution_count": 122,
   "metadata": {},
   "outputs": [],
   "source": [
    "#pairs = [(c, get_sibling_cand(c)) for c in session.query(Candidate).filter(Candidate.split == 1).all()]\n",
    "pairs = [(c, get_sibling_cand(c)) for c in session.query(Candidate).filter(Candidate.split == 0).all()]"
   ]
  },
  {
   "cell_type": "code",
   "execution_count": 123,
   "metadata": {},
   "outputs": [
    {
     "data": {
      "text/plain": [
       "120166"
      ]
     },
     "execution_count": 123,
     "metadata": {},
     "output_type": "execute_result"
    }
   ],
   "source": [
    "len(pairs)"
   ]
  },
  {
   "cell_type": "code",
   "execution_count": 124,
   "metadata": {},
   "outputs": [
    {
     "data": {
      "text/plain": [
       "(InducingCytokine(Span(\"b'IFN\\xce\\xb3'\", sentence=41532, chars=[74,77], words=[13,13]), Span(\"b'Th1'\", sentence=41532, chars=[54,56], words=[10,10])),\n",
       " SecretedCytokine(Span(\"b'IFN\\xce\\xb3'\", sentence=41532, chars=[74,77], words=[13,13]), Span(\"b'Th1'\", sentence=41532, chars=[54,56], words=[10,10])))"
      ]
     },
     "execution_count": 124,
     "metadata": {},
     "output_type": "execute_result"
    }
   ],
   "source": [
    "pairs[1]"
   ]
  }
 ],
 "metadata": {
  "kernelspec": {
   "display_name": "Python 3",
   "language": "python",
   "name": "python3"
  },
  "language_info": {
   "codemirror_mode": {
    "name": "ipython",
    "version": 3
   },
   "file_extension": ".py",
   "mimetype": "text/x-python",
   "name": "python",
   "nbconvert_exporter": "python",
   "pygments_lexer": "ipython3",
   "version": "3.6.8"
  }
 },
 "nbformat": 4,
 "nbformat_minor": 2
}
