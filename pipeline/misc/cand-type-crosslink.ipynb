{
 "cells": [
  {
   "cell_type": "code",
   "execution_count": 1,
   "metadata": {},
   "outputs": [],
   "source": [
    "import os\n",
    "import os.path as osp\n",
    "import pandas as pd\n",
    "import numpy as np\n",
    "from snorkel import SnorkelSession\n",
    "from tcre.env import *\n",
    "from tcre.supervision import *\n",
    "session = SnorkelSession()\n",
    "classes = get_candidate_classes()"
   ]
  },
  {
   "cell_type": "code",
   "execution_count": 11,
   "metadata": {},
   "outputs": [
    {
     "data": {
      "text/plain": [
       "(('CK04FD0805168B608B:CKB4EB2D2CC8BBB93D',\n",
       "  'CTC3A8C3CBC245616A:CTC3A8C3CBC245616A'),\n",
       " 'CK04FD0805168B608B:CKB4EB2D2CC8BBB93D',\n",
       " 'CTC3A8C3CBC245616A:CTC3A8C3CBC245616A')"
      ]
     },
     "execution_count": 11,
     "metadata": {},
     "output_type": "execute_result"
    }
   ],
   "source": [
    "from snorkel.models import Candidate\n",
    "c = session.query(Candidate).filter(Candidate.split == 1).first()\n",
    "c.get_cids(), c.cytokine_cid, c.immune_cell_type_cid"
   ]
  },
  {
   "cell_type": "code",
   "execution_count": 12,
   "metadata": {},
   "outputs": [
    {
     "data": {
      "text/plain": [
       "InducingCytokine(Span(\"b'IL-12'\", sentence=13515, chars=[0,4], words=[0,0]), Span(\"b'TH1'\", sentence=13515, chars=[122,124], words=[21,21]))"
      ]
     },
     "execution_count": 12,
     "metadata": {},
     "output_type": "execute_result"
    }
   ],
   "source": [
    "c"
   ]
  },
  {
   "cell_type": "code",
   "execution_count": 13,
   "metadata": {},
   "outputs": [
    {
     "data": {
      "text/plain": [
       "122"
      ]
     },
     "execution_count": 13,
     "metadata": {},
     "output_type": "execute_result"
    }
   ],
   "source": [
    "c.get_parent().document_id"
   ]
  },
  {
   "cell_type": "code",
   "execution_count": 23,
   "metadata": {},
   "outputs": [
    {
     "data": {
      "text/plain": [
       "Span(\"b'IL-12'\", sentence=13515, chars=[0,4], words=[0,0])"
      ]
     },
     "execution_count": 23,
     "metadata": {},
     "output_type": "execute_result"
    }
   ],
   "source": [
    "ctx = c.get_contexts()[0]\n",
    "ctx"
   ]
  },
  {
   "cell_type": "code",
   "execution_count": 27,
   "metadata": {},
   "outputs": [
    {
     "data": {
      "text/plain": [
       "SecretedCytokine(Span(\"b'IL-12'\", sentence=13515, chars=[0,4], words=[0,0]), Span(\"b'TH1'\", sentence=13515, chars=[122,124], words=[21,21]))"
      ]
     },
     "execution_count": 27,
     "metadata": {},
     "output_type": "execute_result"
    }
   ],
   "source": [
    "sibling_cand = ctx.secreted_cytokine_cytokines[0]\n",
    "sibling_cand"
   ]
  },
  {
   "cell_type": "code",
   "execution_count": 28,
   "metadata": {},
   "outputs": [
    {
     "data": {
      "text/plain": [
       "snorkel.models.candidate.SecretedCytokine"
      ]
     },
     "execution_count": 28,
     "metadata": {},
     "output_type": "execute_result"
    }
   ],
   "source": [
    "type(sibling_cand)"
   ]
  },
  {
   "cell_type": "code",
   "execution_count": 29,
   "metadata": {},
   "outputs": [
    {
     "data": {
      "text/plain": [
       "(30840, 30167)"
      ]
     },
     "execution_count": 29,
     "metadata": {},
     "output_type": "execute_result"
    }
   ],
   "source": [
    "sibling_cand.id, c.id"
   ]
  }
 ],
 "metadata": {
  "kernelspec": {
   "display_name": "Python 3",
   "language": "python",
   "name": "python3"
  },
  "language_info": {
   "codemirror_mode": {
    "name": "ipython",
    "version": 3
   },
   "file_extension": ".py",
   "mimetype": "text/x-python",
   "name": "python",
   "nbconvert_exporter": "python",
   "pygments_lexer": "ipython3",
   "version": "3.6.8"
  }
 },
 "nbformat": 4,
 "nbformat_minor": 2
}
