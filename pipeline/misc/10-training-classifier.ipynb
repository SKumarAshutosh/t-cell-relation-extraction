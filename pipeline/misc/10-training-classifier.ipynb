{
 "cells": [
  {
   "cell_type": "code",
   "execution_count": 1,
   "metadata": {},
   "outputs": [],
   "source": [
    "import os\n",
    "import os.path as osp\n",
    "import pandas as pd\n",
    "import numpy as np\n",
    "from snorkel import SnorkelSession\n",
    "import dotenv\n",
    "from tcre.env import *\n",
    "from tcre.supervision import *\n",
    "from tcre.exec.v1 import cli_client\n",
    "session = SnorkelSession()\n",
    "classes = get_candidate_classes()"
   ]
  },
  {
   "cell_type": "code",
   "execution_count": 2,
   "metadata": {},
   "outputs": [
    {
     "data": {
      "text/plain": [
       "'inducing_cytokine'"
      ]
     },
     "execution_count": 2,
     "metadata": {},
     "output_type": "execute_result"
    }
   ],
   "source": [
    "candidate_class = classes.inducing_cytokine\n",
    "#candidate_class = classes.secreted_cytokine\n",
    "#candidate_class = classes.inducing_transcription_factor\n",
    "\n",
    "task = candidate_class.field\n",
    "task"
   ]
  },
  {
   "cell_type": "code",
   "execution_count": 3,
   "metadata": {},
   "outputs": [
    {
     "data": {
      "text/plain": [
       "'/lab/data/results/training-classifier/run1/inducing_cytokine'"
      ]
     },
     "execution_count": 3,
     "metadata": {},
     "output_type": "execute_result"
    }
   ],
   "source": [
    "output_dir = osp.join(RESULTS_DATA_DIR, 'training-classifier', 'run1', task)\n",
    "if not osp.exists(output_dir):\n",
    "    os.makedirs(output_dir)\n",
    "output_dir"
   ]
  },
  {
   "cell_type": "markdown",
   "metadata": {},
   "source": [
    "## Create Splits"
   ]
  },
  {
   "cell_type": "code",
   "execution_count": 4,
   "metadata": {},
   "outputs": [
    {
     "data": {
      "text/plain": [
       "174634"
      ]
     },
     "execution_count": 4,
     "metadata": {},
     "output_type": "execute_result"
    }
   ],
   "source": [
    "cands = session.query(candidate_class.subclass).all()\n",
    "len(cands)"
   ]
  },
  {
   "cell_type": "code",
   "execution_count": 5,
   "metadata": {},
   "outputs": [],
   "source": [
    "# DB splits -> modeling splits \n",
    "TARGET_MAP = {'train': 'train', 'val': 'val', 'test': 'test'}"
   ]
  },
  {
   "cell_type": "code",
   "execution_count": 6,
   "metadata": {},
   "outputs": [
    {
     "data": {
      "text/plain": [
       "{0: 'train', 1: 'dev', 2: 'infer', 3: 'test', 4: 'val'}"
      ]
     },
     "execution_count": 6,
     "metadata": {},
     "output_type": "execute_result"
    }
   ],
   "source": [
    "SPLIT_MAP"
   ]
  },
  {
   "cell_type": "code",
   "execution_count": 7,
   "metadata": {},
   "outputs": [
    {
     "data": {
      "text/plain": [
       "split\n",
       "test       100\n",
       "train    48656\n",
       "val         97\n",
       "dtype: int64"
      ]
     },
     "execution_count": 7,
     "metadata": {},
     "output_type": "execute_result"
    }
   ],
   "source": [
    "splits = pd.DataFrame([\n",
    "    dict(id=c.id, task=c.type, split=c.split)\n",
    "    for c in cands\n",
    "])\n",
    "splits['split'] = splits['split'].map(SPLIT_MAP).map(TARGET_MAP)\n",
    "splits.groupby('split').size()"
   ]
  },
  {
   "cell_type": "code",
   "execution_count": 8,
   "metadata": {},
   "outputs": [
    {
     "data": {
      "text/plain": [
       "'/lab/data/results/training-classifier/run1/inducing_cytokine/splits.json'"
      ]
     },
     "execution_count": 8,
     "metadata": {},
     "output_type": "execute_result"
    }
   ],
   "source": [
    "splits_file = osp.join(output_dir, 'splits.json')\n",
    "\n",
    "# splits.groupby('split')['id'].unique().to_json(splits_file, orient='index')\n",
    "\n",
    "# To limit data size for debugging:\n",
    "splits.groupby('split')['id'].unique().apply(lambda v: v[:10000]).to_json(splits_file, orient='index')\n",
    "splits_file"
   ]
  },
  {
   "cell_type": "markdown",
   "metadata": {},
   "source": [
    "## Run Training"
   ]
  },
  {
   "cell_type": "code",
   "execution_count": 9,
   "metadata": {},
   "outputs": [
    {
     "data": {
      "text/plain": [
       "['log_level',\n",
       " 'seed',\n",
       " 'vocab_limit',\n",
       " 'use_lower',\n",
       " 'save_keys',\n",
       " 'log_iter_interval',\n",
       " 'log_epoch_interval',\n",
       " 'balance',\n",
       " 'batch_size',\n",
       " 'simulation_strategy',\n",
       " 'swap_list']"
      ]
     },
     "execution_count": 9,
     "metadata": {},
     "output_type": "execute_result"
    }
   ],
   "source": [
    "client = cli_client.get_default_client()\n",
    "client.exceptions"
   ]
  },
  {
   "cell_type": "code",
   "execution_count": 13,
   "metadata": {},
   "outputs": [
    {
     "data": {
      "text/plain": [
       "'python /lab/repos/t-cell-relation-extraction/src/tcre/exec/v1/cli.py --relation-class=inducing_cytokine --device=\"cuda:1\" --batch-size=128 --output-dir=/lab/data/results/training-classifier/run1/inducing_cytokine/data train --splits-file=/lab/data/results/training-classifier/run1/inducing_cytokine/splits.json --use-checkpoints=True --log-iter-interval=150 --log-epoch-interval=1 --balance=0 --dropout=0.5 --wrd-embedding-type=w2v_frozen --vocab-limit=50000 --use-positions=True --use-secondary=True --learning-rate=0.001 --cell-type=LSTM --model-size=XXL --use-swaps=True --bidirectional=False --marker-list=doub_01 --weight-decay=0 | tee /lab/data/results/training-classifier/run1/inducing_cytokine/logs/log.txt 2>&1'"
      ]
     },
     "execution_count": 13,
     "metadata": {},
     "output_type": "execute_result"
    }
   ],
   "source": [
    "CMD_FORMAT = \"{cmd} | tee {log_dir}/log.txt 2>&1\"\n",
    "model_dir = osp.join(output_dir, 'data')\n",
    "log_dir = osp.join(output_dir, 'logs')\n",
    "\n",
    "for d in [model_dir, log_dir]:\n",
    "    if not osp.exists(d):\n",
    "        os.makedirs(d)\n",
    "        \n",
    "cli_args = {\n",
    "    'relation_class': task,\n",
    "    'device': '\"cuda:1\"',\n",
    "    'batch_size': 128,\n",
    "    'output_dir': model_dir\n",
    "}\n",
    "train_args = {\n",
    "    'splits_file': splits_file,\n",
    "    'use_checkpoints': True,\n",
    "    'log_iter_interval': 150,\n",
    "    'log_epoch_interval': 1,\n",
    "    'balance': '0',\n",
    "    'dropout': '0.5',\n",
    "    #'wrd_embedding_type': 'w2v_trained',\n",
    "    'wrd_embedding_type': 'w2v_frozen',\n",
    "    'vocab_limit': 50000,\n",
    "    'use_positions': 'True',\n",
    "    #'use_secondary': 'False',\n",
    "    'use_secondary': 'True',\n",
    "    'learning_rate': '0.001',\n",
    "    'cell_type': 'LSTM',\n",
    "    'model_size': 'XXL',\n",
    "    'use_swaps': 'True',\n",
    "    'bidirectional': 'False',\n",
    "    'marker_list': 'doub_01',\n",
    "    #'weight_decay': '0.001'\n",
    "    'weight_decay': '0'\n",
    "}\n",
    "\n",
    "cmd = client.cmd(cli=cli_args, train=train_args)\n",
    "cmd = CMD_FORMAT.format(cmd=cmd, log_dir=log_dir)\n",
    "cmd"
   ]
  },
  {
   "cell_type": "code",
   "execution_count": 16,
   "metadata": {},
   "outputs": [
    {
     "name": "stdout",
     "output_type": "stream",
     "text": [
      "INFO:__main__:Gathering candidates for splits at \"/lab/data/results/training-classifier/run1/inducing_cytokine/splits.json\"\n",
      "INFO:__main__:Split sizes = {'test': 100, 'train': 10000, 'val': 97}\n",
      "INFO:__main__:Found 10197 candidates\n",
      "INFO:__main__:Modeling config:\n",
      "{     'balance': '0',\n",
      "      'batch_size': 128,\n",
      "      'bidirectional': False,\n",
      "      'cell_type': 'LSTM',\n",
      "      'device': 'cuda:1',\n",
      "      'dropout': 0.5,\n",
      "      'entity_types': ['cytokine', 'immune_cell_type'],\n",
      "      'label': 'relation_class=inducing_cytokine:splits_file=/lab/data/results/training-classifier/run1/inducing_cytokine/splits.json:marker_list=doub_01:swap_list=dflt_01:use_secondary=True:use_swaps=True:use_lower=False:use_positions=True:use_checkpoints=True:wrd_embedding_type=w2v_frozen:model_size=XXL:bidirectional=False:cell_type=LSTM:learning_rate=0.001:weight_decay=0.0:dropout=0.5:vocab_limit=50000:save_keys=history,config,fields:balance=0:log_iter_interval=150:log_epoch_interval=1:simulation_strategy=None:device=cuda:1:batch_size=128:output_dir=/lab/data/results/training-classifier/run1/inducing_cytokine/data:seed=3832',\n",
      "      'learning_rate': 0.001,\n",
      "      'log_epoch_interval': 1,\n",
      "      'log_iter_interval': 150,\n",
      "      'marker_list': 'doub_01',\n",
      "      'markers': {     'primary': {'cytokine': ['{#', '#}'], 'immune_cell_type': ['{%', '%}']},\n",
      "                       'secondary': {'cytokine': ['|#', '#|'], 'immune_cell_type': ['|%', '%|']}},\n",
      "      'model_size': 'XXL',\n",
      "      'output_dir': '/lab/data/results/training-classifier/run1/inducing_cytokine/data',\n",
      "      'relation_class': 'inducing_cytokine',\n",
      "      'save_keys': 'history,config,fields',\n",
      "      'seed': 3832,\n",
      "      'simulation_strategy': None,\n",
      "      'splits_file': '/lab/data/results/training-classifier/run1/inducing_cytokine/splits.json',\n",
      "      'swap_list': 'dflt_01',\n",
      "      'swaps': {     'primary': {'cytokine': '{CK}', 'immune_cell_type': '{CL}'},\n",
      "                     'secondary': {'cytokine': '|CK|', 'immune_cell_type': '|CL|'}},\n",
      "      'use_checkpoints': True,\n",
      "      'use_lower': False,\n",
      "      'use_positions': True,\n",
      "      'use_secondary': True,\n",
      "      'use_swaps': True,\n",
      "      'vocab_limit': 50000,\n",
      "      'weight_decay': 0.0,\n",
      "      'wrd_embedding_type': 'w2v_frozen'}\n",
      "INFO:__main__:Initializing /lab/data/results/training-classifier/run1/inducing_cytokine/data\n",
      "INFO:__main__:Collecting features\n",
      "100%|████████████████████████████████████| 10197/10197 [00:21<00:00, 484.44it/s]\n",
      "INFO:__main__:Sample feature records:\n",
      "\n",
      "INFO:__main__:{     'e0_dist': [     -37, -36, -35, -34, -33, -32, -31, -30, -29, -28, -27, -26, -25, -24, -23, -22, -21, -20, -19, -18, -17,\n",
      "                       -16, -15, -14, -13, -12, -11, -10, -9, -8, -7, -6, -5, -4, -3, -2, -1, 0, 1, 2, 3, 4, 5, 6, 7, 8, 9, 10,\n",
      "                       11, 12, 13, 14, 15, 16, 17, 18, 19, 20, 21, 22, 23, 24, 25, 26, 27],\n",
      "      'e0_text': 'IL-4',\n",
      "      'e1_dist': [     -41, -40, -39, -38, -37, -36, -35, -34, -33, -32, -31, -30, -29, -28, -27, -26, -25, -24, -23, -22, -21,\n",
      "                       -20, -19, -18, -17, -16, -15, -14, -13, -12, -11, -10, -9, -8, -7, -6, -5, -4, -3, -2, -1, 0, 1, 2, 3, 4,\n",
      "                       5, 6, 7, 8, 9, 10, 11, 12, 13, 14, 15, 16, 17, 18, 19, 20, 21, 22, 23],\n",
      "      'e1_text': 'Th2',\n",
      "      'id': 1,\n",
      "      'label': 0.001558502180892119,\n",
      "      'tags': [     'O', 'O', 'O', 'O', 'O', 'O', 'O', 'O', 'O', 'O', 'O', 'O', 'O', 'O', 'O', 'O', 'O', 'O', 'O', 'O', 'O',\n",
      "                    'O', 'O', 'O', 'O', 'O', 'O', 'O', 'O', 'O', 'O', 'O', 'O', 'O', 'O', 'O', 'O', 'E:primary:cytokine', 'O',\n",
      "                    'O', 'O', 'E:primary:immune_cell_type', 'O', 'O', 'O', 'O', 'O', 'O', 'O', 'O', 'O', 'O', 'O', 'O', 'O',\n",
      "                    'O', 'O', 'O', 'O', 'O', 'O', 'O', 'O', 'O', 'O'],\n",
      "      'text': [     'However', ',', 'two', 'matrices', 'unique', 'to', 'upregulated', 'group', 'are', 'V$HTF_01', '(', '“',\n",
      "                    'V$', '”', 'is', 'matrix', 'nomenclature', 'adapted', 'by', 'TRANSFAC', 'database', ')', 'and', 'V$NFKB_C.',\n",
      "                    'Although', 'NFKB', 'is', 'a', 'well', 'studied', 'molecule', 'and', 'known', 'to', 'function', 'in', '{#',\n",
      "                    '{CK}', '#}', 'dependent', '{%', '{CL}', '%}', 'differentiation', 'process21', ',', 'role', 'of', 'Xbp-1',\n",
      "                    '(', 'TF', 'represented', 'by', 'V$HTF', ')', 'in', 'T', 'cell', 'activation', 'or', 'differentiation',\n",
      "                    'is', 'not', 'investigated', '.']}\n",
      "INFO:__main__:{     'e0_dist': [     -16, -15, -14, -13, -12, -11, -10, -9, -8, -7, -6, -5, -4, -3, -2, -1, 0, 1, 2, 3, 4, 5, 6, 7, 8, 9, 10,\n",
      "                       11, 12, 13, 14, 15],\n",
      "      'e0_text': 'IFNγ',\n",
      "      'e1_dist': [     -11, -10, -9, -8, -7, -6, -5, -4, -3, -2, -1, 0, 1, 2, 3, 4, 5, 6, 7, 8, 9, 10, 11, 12, 13, 14, 15, 16,\n",
      "                       17, 18, 19, 20],\n",
      "      'e1_text': 'Th1',\n",
      "      'id': 2,\n",
      "      'label': 0.5585688428256743,\n",
      "      'tags': [     'O', 'O', 'O', 'O', 'O', 'O', 'O', 'O', 'O', 'O', 'O', 'E:primary:immune_cell_type', 'O', 'O', 'O', 'O',\n",
      "                    'E:primary:cytokine', 'O', 'O', 'O', 'O', 'O', 'O', 'O', 'O', 'O', 'O', 'O', 'O', 'O', 'O', 'O'],\n",
      "      'text': [     'These', 'cells', 'are', 'thought', 'to', 'be', 'most', 'closely', 'related', 'to', '{%', '{CL}', '%}',\n",
      "                    'cells', 'secreting', '{#', '{CK}', '#}', 'and', 'regulated', 'by', 'eomesodermin', 'and/or', 'T', '-',\n",
      "                    'bet', 'transcription', 'factors', 'for', 'their', 'differentiation', '.']}\n",
      "INFO:__main__:{     'e0_dist': [     -24, -23, -22, -21, -20, -19, -18, -17, -16, -15, -14, -13, -12, -11, -10, -9, -8, -7, -6, -5, -4, -3,\n",
      "                       -2, -1, 0, 1, 2, 3, 4, 5, 6, 7, 8, 9, 10, 11, 12, 13, 14, 15, 16, 17, 18, 19, 20, 21, 22, 23, 24],\n",
      "      'e0_text': 'IL-21',\n",
      "      'e1_dist': [     -28, -27, -26, -25, -24, -23, -22, -21, -20, -19, -18, -17, -16, -15, -14, -13, -12, -11, -10, -9, -8,\n",
      "                       -7, -6, -5, -4, -3, -2, -1, 0, 1, 2, 3, 4, 5, 6, 7, 8, 9, 10, 11, 12, 13, 14, 15, 16, 17, 18, 19, 20],\n",
      "      'e1_text': 'Th1',\n",
      "      'id': 3,\n",
      "      'label': 0.001558502180892119,\n",
      "      'tags': [     'O', 'O', 'O', 'O', 'O', 'O', 'O', 'O', 'O', 'O', 'O', 'O', 'O', 'O', 'O', 'O', 'O', 'O', 'O', 'O', 'O',\n",
      "                    'O', 'O', 'O', 'E:primary:cytokine', 'O', 'O', 'O', 'E:primary:immune_cell_type', 'O', 'O', 'O',\n",
      "                    'E:secondary:immune_cell_type', 'O', 'O', 'O', 'O', 'O', 'O', 'O', 'O', 'O', 'O', 'O', 'O', 'O', 'O', 'O',\n",
      "                    'O'],\n",
      "      'text': [     'In', 'another', 'study', ',', 'the', 'same', 'authors', 'have', 'developed', 'an', 'ODE', 'model', 'to',\n",
      "                    'predict', 'and', 'provide', 'basis', 'for', 'an', 'in', 'vivo', 'validation', 'that', '{#', '{CK}', '#}',\n",
      "                    'regulates', '{%', '{CL}', '%}', 'and', '|%', '|CL|', '%|', 'responses', 'during', 'chronic',\n",
      "                    'Helicobacter', 'pylori', 'infection', '(', 'Carbo', 'et', 'al', '.', ',', '2014b', ')', '.']}\n",
      "INFO:__main__:{     'e0_dist': [     -24, -23, -22, -21, -20, -19, -18, -17, -16, -15, -14, -13, -12, -11, -10, -9, -8, -7, -6, -5, -4, -3,\n",
      "                       -2, -1, 0, 1, 2, 3, 4, 5, 6, 7, 8, 9, 10, 11, 12, 13, 14, 15, 16, 17, 18, 19, 20, 21, 22, 23, 24],\n",
      "      'e0_text': 'IL-21',\n",
      "      'e1_dist': [     -32, -31, -30, -29, -28, -27, -26, -25, -24, -23, -22, -21, -20, -19, -18, -17, -16, -15, -14, -13, -12,\n",
      "                       -11, -10, -9, -8, -7, -6, -5, -4, -3, -2, -1, 0, 1, 2, 3, 4, 5, 6, 7, 8, 9, 10, 11, 12, 13, 14, 15, 16],\n",
      "      'e1_text': 'Th17',\n",
      "      'id': 4,\n",
      "      'label': 0.001558502180892119,\n",
      "      'tags': [     'O', 'O', 'O', 'O', 'O', 'O', 'O', 'O', 'O', 'O', 'O', 'O', 'O', 'O', 'O', 'O', 'O', 'O', 'O', 'O', 'O',\n",
      "                    'O', 'O', 'O', 'E:primary:cytokine', 'O', 'O', 'O', 'E:secondary:immune_cell_type', 'O', 'O', 'O',\n",
      "                    'E:primary:immune_cell_type', 'O', 'O', 'O', 'O', 'O', 'O', 'O', 'O', 'O', 'O', 'O', 'O', 'O', 'O', 'O',\n",
      "                    'O'],\n",
      "      'text': [     'In', 'another', 'study', ',', 'the', 'same', 'authors', 'have', 'developed', 'an', 'ODE', 'model', 'to',\n",
      "                    'predict', 'and', 'provide', 'basis', 'for', 'an', 'in', 'vivo', 'validation', 'that', '{#', '{CK}', '#}',\n",
      "                    'regulates', '|%', '|CL|', '%|', 'and', '{%', '{CL}', '%}', 'responses', 'during', 'chronic',\n",
      "                    'Helicobacter', 'pylori', 'infection', '(', 'Carbo', 'et', 'al', '.', ',', '2014b', ')', '.']}\n",
      "INFO:__main__:{     'e0_dist': [     -28, -27, -26, -25, -24, -23, -22, -21, -20, -19, -18, -17, -16, -15, -14, -13, -12, -11, -10, -9, -8,\n",
      "                       -7, -6, -5, -4, -3, -2, -1, 0, 1, 2, 3, 4, 5, 6, 7, 8, 9, 10, 11, 12],\n",
      "      'e0_text': 'TGF–β',\n",
      "      'e1_dist': [     -2, -1, 0, 1, 2, 3, 4, 5, 6, 7, 8, 9, 10, 11, 12, 13, 14, 15, 16, 17, 18, 19, 20, 21, 22, 23, 24, 25, 26,\n",
      "                       27, 28, 29, 30, 31, 32, 33, 34, 35, 36, 37, 38],\n",
      "      'e1_text': 'TFH',\n",
      "      'id': 5,\n",
      "      'label': 0.9993996856433304,\n",
      "      'tags': [     'O', 'O', 'E:primary:immune_cell_type', 'O', 'O', 'O', 'O', 'O', 'O', 'O', 'O', 'O', 'O', 'O', 'O', 'O',\n",
      "                    'O', 'O', 'O', 'O', 'O', 'O', 'O', 'O', 'O', 'O', 'O', 'O', 'E:primary:cytokine', 'O', 'O', 'O', 'O', 'O',\n",
      "                    'E:secondary:cytokine', 'O', 'O', 'O', 'E:secondary:cytokine', 'O', 'O'],\n",
      "      'text': [     'The', '{%', '{CL}', '%}', 'transcriptional', 'signature', '(', 'that', 'is', 'upregulation', 'of', 'Bcl-6',\n",
      "                    ',', 'c', '-', 'Maf', 'and', 'BATF', ';', 'downregulation', 'of', 'Blimp-1', ')', 'was', 'strongly',\n",
      "                    'induced', 'when', '{#', '{CK}', '#}', 'was', 'combined', 'with', '|#', '|CK|', '#|', 'and', '|#', '|CK|',\n",
      "                    '#|', '.']}\n",
      "INFO:__main__:Initializing batch iterators\n",
      "INFO:__main__:Label distribution for split test:\n",
      "     count  percent\n",
      "0.0     86     0.86\n",
      "1.0     14     0.14\n",
      "INFO:__main__:Label distribution for split train:\n",
      "                  count  percent\n",
      "(-0.000996, 0.1]   7254   0.7254\n",
      "(0.1, 0.2]          223   0.0223\n",
      "(0.2, 0.3]          212   0.0212\n",
      "(0.3, 0.4]          219   0.0219\n",
      "(0.4, 0.5]          414   0.0414\n",
      "(0.5, 0.6]          384   0.0384\n",
      "(0.6, 0.7]          133   0.0133\n",
      "(0.7, 0.8]          143   0.0143\n",
      "(0.8, 0.9]           78   0.0078\n",
      "(0.9, 1.0]          940   0.0940\n",
      "INFO:__main__:Label distribution for split val:\n",
      "     count   percent\n",
      "0.0     84  0.865979\n",
      "1.0     13  0.134021\n",
      "INFO:gensim.summarization.textcleaner:'pattern' package not found; tag filters are not available for English\n",
      "INFO:__main__:Loading w2v model with vocab limit 50000 (specials = ['{CL}', '|CK|', '%}', '{%', '|CL|', '|#', '{CK}', '|%', '#|', '{#', '%|', '#}'])\n",
      "INFO:gensim.models.utils_any2vec:loading projection weights from /lab/data/word2vec/PubMed-and-PMC-w2v.bin\n",
      "INFO:gensim.models.utils_any2vec:loaded (50000, 200) matrix from /lab/data/word2vec/PubMed-and-PMC-w2v.bin\n",
      "INFO:__main__:Split datasets with sizes {'test': 100, 'train': 10000, 'val': 97}\n",
      "INFO:tcre.exec.v1.model:Initialized word embedding with shape (50013, 200) (trainable = False)\n",
      "INFO:tcre.exec.v1.model:Initialized position embedding with shape (104, 64)\n",
      "/opt/conda/envs/nlp/lib/python3.6/site-packages/torch/nn/modules/rnn.py:54: UserWarning: dropout option adds dropout after all but last recurrent layer, so non-zero dropout expects num_layers greater than 1, but got dropout=0.5 and num_layers=1\n",
      "  \"num_layers={}\".format(dropout, num_layers))\n",
      "INFO:__main__:Built model with arguments: {'hidden_dim': 128, 'wrd_embed_dim': None, 'pos_embed_dim': 64, 'dropout': 0.5, 'bidirectional': False, 'cell_type': 'LSTM', 'device': 'cuda:1'}\n",
      "INFO:__main__:Running optimization\n",
      "INFO:tcre.modeling.training:training Results - Epoch: 1  Count: 10000 Loss: 0.6741 Precision@90: 0.000 Accuracy: 0.832 F1: 0.000\n",
      "INFO:tcre.modeling.training:test Results - Epoch: 1  Count: 100 Loss: 0.5537 Precision@90: 0.000 Accuracy: 0.860 F1: 0.000\n",
      "INFO:tcre.modeling.training:validation Results - Epoch: 1  Count: 97 Loss: 0.5150 Precision@90: 0.000 Accuracy: 0.866 F1: 0.000\n",
      "INFO:tcre.modeling.training:Epoch[2] Iteration[150] Loss: 0.1685 LR: 0.001\n",
      "INFO:tcre.modeling.training:training Results - Epoch: 2  Count: 10000 Loss: 0.3914 Precision@90: 0.000 Accuracy: 0.836 F1: 0.052\n",
      "INFO:tcre.modeling.training:test Results - Epoch: 2  Count: 100 Loss: 0.4167 Precision@90: 0.000 Accuracy: 0.860 F1: 0.000\n",
      "INFO:tcre.modeling.training:validation Results - Epoch: 2  Count: 97 Loss: 0.3107 Precision@90: 0.000 Accuracy: 0.866 F1: 0.000\n",
      "INFO:tcre.modeling.training:training Results - Epoch: 3  Count: 10000 Loss: 0.3546 Precision@90: 0.000 Accuracy: 0.849 F1: 0.234\n",
      "INFO:tcre.modeling.training:test Results - Epoch: 3  Count: 100 Loss: 0.4080 Precision@90: 0.000 Accuracy: 0.840 F1: 0.000\n",
      "INFO:tcre.modeling.training:validation Results - Epoch: 3  Count: 97 Loss: 0.3027 Precision@90: 0.000 Accuracy: 0.876 F1: 0.143\n",
      "INFO:tcre.modeling.training:Epoch[4] Iteration[300] Loss: 0.1658 LR: 0.001\n",
      "INFO:tcre.modeling.training:training Results - Epoch: 4  Count: 10000 Loss: 0.3472 Precision@90: 0.000 Accuracy: 0.858 F1: 0.326\n",
      "INFO:tcre.modeling.training:test Results - Epoch: 4  Count: 100 Loss: 0.4263 Precision@90: 0.000 Accuracy: 0.850 F1: 0.000\n",
      "INFO:tcre.modeling.training:validation Results - Epoch: 4  Count: 97 Loss: 0.3065 Precision@90: 0.000 Accuracy: 0.876 F1: 0.143\n",
      "INFO:tcre.modeling.training:training Results - Epoch: 5  Count: 10000 Loss: 0.3415 Precision@90: 0.000 Accuracy: 0.864 F1: 0.396\n",
      "INFO:tcre.modeling.training:test Results - Epoch: 5  Count: 100 Loss: 0.4452 Precision@90: 0.000 Accuracy: 0.860 F1: 0.125\n",
      "INFO:tcre.modeling.training:validation Results - Epoch: 5  Count: 97 Loss: 0.3095 Precision@90: 0.000 Accuracy: 0.866 F1: 0.133\n",
      "INFO:tcre.modeling.training:Epoch[6] Iteration[450] Loss: 0.1937 LR: 0.001\n",
      "INFO:tcre.modeling.training:training Results - Epoch: 6  Count: 10000 Loss: 0.3356 Precision@90: 0.000 Accuracy: 0.869 F1: 0.435\n",
      "INFO:tcre.modeling.training:test Results - Epoch: 6  Count: 100 Loss: 0.4726 Precision@90: 0.000 Accuracy: 0.830 F1: 0.000\n",
      "INFO:tcre.modeling.training:validation Results - Epoch: 6  Count: 97 Loss: 0.3137 Precision@90: 0.000 Accuracy: 0.866 F1: 0.235\n",
      "INFO:tcre.modeling.training:training Results - Epoch: 7  Count: 10000 Loss: 0.3227 Precision@90: 0.000 Accuracy: 0.874 F1: 0.483\n",
      "INFO:tcre.modeling.training:test Results - Epoch: 7  Count: 100 Loss: 0.4983 Precision@90: 0.000 Accuracy: 0.820 F1: 0.000\n",
      "INFO:tcre.modeling.training:validation Results - Epoch: 7  Count: 97 Loss: 0.3196 Precision@90: 0.000 Accuracy: 0.866 F1: 0.316\n",
      "INFO:tcre.modeling.training:Epoch[8] Iteration[600] Loss: 0.3587 LR: 0.001\n",
      "INFO:tcre.modeling.training:training Results - Epoch: 8  Count: 10000 Loss: 0.3030 Precision@90: 0.944 Accuracy: 0.882 F1: 0.544\n",
      "INFO:tcre.modeling.training:test Results - Epoch: 8  Count: 100 Loss: 0.5039 Precision@90: 0.000 Accuracy: 0.820 F1: 0.100\n",
      "INFO:tcre.modeling.training:validation Results - Epoch: 8  Count: 97 Loss: 0.3332 Precision@90: 0.000 Accuracy: 0.845 F1: 0.286\n",
      "INFO:tcre.modeling.training:training Results - Epoch: 9  Count: 10000 Loss: 0.2876 Precision@90: 0.950 Accuracy: 0.890 F1: 0.584\n",
      "INFO:tcre.modeling.training:test Results - Epoch: 9  Count: 100 Loss: 0.5325 Precision@90: 0.000 Accuracy: 0.800 F1: 0.091\n",
      "INFO:tcre.modeling.training:validation Results - Epoch: 9  Count: 97 Loss: 0.3435 Precision@90: 0.000 Accuracy: 0.835 F1: 0.273\n",
      "INFO:tcre.modeling.training:Epoch[10] Iteration[750] Loss: 0.2766 LR: 0.001\n",
      "INFO:tcre.modeling.training:training Results - Epoch: 10  Count: 10000 Loss: 0.2704 Precision@90: 0.912 Accuracy: 0.894 F1: 0.613\n",
      "INFO:tcre.modeling.training:test Results - Epoch: 10  Count: 100 Loss: 0.5414 Precision@90: 0.000 Accuracy: 0.780 F1: 0.083\n",
      "INFO:tcre.modeling.training:validation Results - Epoch: 10  Count: 97 Loss: 0.3707 Precision@90: 0.000 Accuracy: 0.825 F1: 0.190\n",
      "INFO:tcre.modeling.training:training Results - Epoch: 11  Count: 10000 Loss: 0.2637 Precision@90: 0.943 Accuracy: 0.899 F1: 0.633\n",
      "INFO:tcre.modeling.training:test Results - Epoch: 11  Count: 100 Loss: 0.5481 Precision@90: 0.000 Accuracy: 0.810 F1: 0.095\n",
      "INFO:tcre.modeling.training:validation Results - Epoch: 11  Count: 97 Loss: 0.3623 Precision@90: 0.000 Accuracy: 0.814 F1: 0.100\n",
      "INFO:tcre.modeling.training:Epoch[12] Iteration[900] Loss: 0.3372 LR: 0.001\n",
      "INFO:tcre.modeling.training:training Results - Epoch: 12  Count: 10000 Loss: 0.2854 Precision@90: 0.951 Accuracy: 0.893 F1: 0.588\n",
      "INFO:tcre.modeling.training:test Results - Epoch: 12  Count: 100 Loss: 0.5677 Precision@90: 0.000 Accuracy: 0.810 F1: 0.000\n",
      "INFO:tcre.modeling.training:validation Results - Epoch: 12  Count: 97 Loss: 0.3752 Precision@90: 0.000 Accuracy: 0.814 F1: 0.100\n",
      "INFO:tcre.modeling.training:training Results - Epoch: 13  Count: 10000 Loss: 0.2670 Precision@90: 0.958 Accuracy: 0.903 F1: 0.640\n",
      "INFO:tcre.modeling.training:test Results - Epoch: 13  Count: 100 Loss: 0.6227 Precision@90: 0.000 Accuracy: 0.820 F1: 0.000\n",
      "INFO:tcre.modeling.training:validation Results - Epoch: 13  Count: 97 Loss: 0.3974 Precision@90: 0.000 Accuracy: 0.825 F1: 0.105\n",
      "INFO:tcre.modeling.training:Epoch[14] Iteration[1050] Loss: 0.3432 LR: 0.001\n",
      "INFO:tcre.modeling.training:training Results - Epoch: 14  Count: 10000 Loss: 0.2444 Precision@90: 0.969 Accuracy: 0.914 F1: 0.700\n",
      "INFO:tcre.modeling.training:test Results - Epoch: 14  Count: 100 Loss: 0.5819 Precision@90: 0.000 Accuracy: 0.810 F1: 0.095\n",
      "INFO:tcre.modeling.training:validation Results - Epoch: 14  Count: 97 Loss: 0.4039 Precision@90: 0.000 Accuracy: 0.804 F1: 0.095\n",
      "INFO:tcre.modeling.training:training Results - Epoch: 15  Count: 10000 Loss: 0.2738 Precision@90: 0.964 Accuracy: 0.904 F1: 0.636\n",
      "INFO:tcre.modeling.training:test Results - Epoch: 15  Count: 100 Loss: 0.6655 Precision@90: 0.000 Accuracy: 0.790 F1: 0.000\n",
      "INFO:tcre.modeling.training:validation Results - Epoch: 15  Count: 97 Loss: 0.4358 Precision@90: 0.000 Accuracy: 0.814 F1: 0.100\n",
      "INFO:tcre.modeling.training:Epoch[16] Iteration[1200] Loss: 0.3400 LR: 0.001\n",
      "INFO:tcre.modeling.training:training Results - Epoch: 16  Count: 10000 Loss: 0.2610 Precision@90: 0.973 Accuracy: 0.912 F1: 0.678\n",
      "INFO:tcre.modeling.training:test Results - Epoch: 16  Count: 100 Loss: 0.6608 Precision@90: 0.000 Accuracy: 0.830 F1: 0.000\n",
      "INFO:tcre.modeling.training:validation Results - Epoch: 16  Count: 97 Loss: 0.4365 Precision@90: 0.000 Accuracy: 0.825 F1: 0.105\n",
      "INFO:tcre.modeling.training:training Results - Epoch: 17  Count: 10000 Loss: 0.2322 Precision@90: 0.984 Accuracy: 0.922 F1: 0.728\n",
      "INFO:tcre.modeling.training:test Results - Epoch: 17  Count: 100 Loss: 0.6571 Precision@90: 0.000 Accuracy: 0.820 F1: 0.100\n",
      "INFO:tcre.modeling.training:validation Results - Epoch: 17  Count: 97 Loss: 0.4360 Precision@90: 0.000 Accuracy: 0.835 F1: 0.111\n",
      "INFO:tcre.modeling.training:Epoch[18] Iteration[1350] Loss: 0.4481 LR: 0.001\n",
      "INFO:tcre.modeling.training:training Results - Epoch: 18  Count: 10000 Loss: 0.2513 Precision@90: 0.988 Accuracy: 0.915 F1: 0.687\n",
      "INFO:tcre.modeling.training:test Results - Epoch: 18  Count: 100 Loss: 0.6029 Precision@90: 0.000 Accuracy: 0.830 F1: 0.105\n",
      "INFO:tcre.modeling.training:validation Results - Epoch: 18  Count: 97 Loss: 0.4427 Precision@90: 0.000 Accuracy: 0.835 F1: 0.111\n",
      "INFO:tcre.modeling.training:Epoch[19] Iteration[1500] Loss: 0.0466 LR: 0.001\n",
      "INFO:tcre.modeling.training:training Results - Epoch: 19  Count: 10000 Loss: 0.2476 Precision@90: 0.979 Accuracy: 0.916 F1: 0.705\n",
      "INFO:tcre.modeling.training:test Results - Epoch: 19  Count: 100 Loss: 0.6190 Precision@90: 0.000 Accuracy: 0.790 F1: 0.000\n",
      "INFO:tcre.modeling.training:validation Results - Epoch: 19  Count: 97 Loss: 0.4347 Precision@90: 0.000 Accuracy: 0.835 F1: 0.111\n",
      "INFO:tcre.modeling.training:training Results - Epoch: 20  Count: 10000 Loss: 0.2024 Precision@90: 0.990 Accuracy: 0.932 F1: 0.780\n",
      "INFO:tcre.modeling.training:test Results - Epoch: 20  Count: 100 Loss: 0.6076 Precision@90: 0.000 Accuracy: 0.750 F1: 0.000\n",
      "INFO:tcre.modeling.training:validation Results - Epoch: 20  Count: 97 Loss: 0.4618 Precision@90: 0.000 Accuracy: 0.804 F1: 0.095\n",
      "INFO:tcre.modeling.training:Epoch[21] Iteration[1650] Loss: 0.0497 LR: 0.001\n",
      "INFO:tcre.modeling.training:training Results - Epoch: 21  Count: 10000 Loss: 0.2228 Precision@90: 0.990 Accuracy: 0.920 F1: 0.712\n",
      "INFO:tcre.modeling.training:test Results - Epoch: 21  Count: 100 Loss: 0.6077 Precision@90: 0.000 Accuracy: 0.800 F1: 0.000\n",
      "INFO:tcre.modeling.training:validation Results - Epoch: 21  Count: 97 Loss: 0.4958 Precision@90: 0.000 Accuracy: 0.794 F1: 0.091\n",
      "INFO:tcre.modeling.training:training Results - Epoch: 22  Count: 10000 Loss: 0.2133 Precision@90: 0.995 Accuracy: 0.924 F1: 0.729\n",
      "INFO:tcre.modeling.training:test Results - Epoch: 22  Count: 100 Loss: 0.5754 Precision@90: 0.000 Accuracy: 0.800 F1: 0.000\n",
      "INFO:tcre.modeling.training:validation Results - Epoch: 22  Count: 97 Loss: 0.5013 Precision@90: 0.000 Accuracy: 0.794 F1: 0.091\n",
      "INFO:tcre.modeling.training:Epoch[23] Iteration[1800] Loss: 0.0987 LR: 0.001\n",
      "INFO:tcre.modeling.training:training Results - Epoch: 23  Count: 10000 Loss: 0.2110 Precision@90: 0.992 Accuracy: 0.928 F1: 0.749\n",
      "INFO:tcre.modeling.training:test Results - Epoch: 23  Count: 100 Loss: 0.6242 Precision@90: 0.000 Accuracy: 0.810 F1: 0.000\n",
      "INFO:tcre.modeling.training:validation Results - Epoch: 23  Count: 97 Loss: 0.5183 Precision@90: 0.000 Accuracy: 0.814 F1: 0.182\n",
      "INFO:tcre.modeling.training:training Results - Epoch: 24  Count: 10000 Loss: 0.2073 Precision@90: 0.997 Accuracy: 0.930 F1: 0.758\n",
      "INFO:tcre.modeling.training:test Results - Epoch: 24  Count: 100 Loss: 0.6425 Precision@90: 0.000 Accuracy: 0.810 F1: 0.000\n",
      "INFO:tcre.modeling.training:validation Results - Epoch: 24  Count: 97 Loss: 0.5478 Precision@90: 0.000 Accuracy: 0.814 F1: 0.182\n",
      "INFO:tcre.modeling.training:Epoch[25] Iteration[1950] Loss: 0.2080 LR: 0.001\n",
      "INFO:tcre.modeling.training:training Results - Epoch: 25  Count: 10000 Loss: 0.2012 Precision@90: 0.993 Accuracy: 0.935 F1: 0.781\n",
      "INFO:tcre.modeling.training:test Results - Epoch: 25  Count: 100 Loss: 0.6920 Precision@90: 0.000 Accuracy: 0.820 F1: 0.000\n",
      "INFO:tcre.modeling.training:validation Results - Epoch: 25  Count: 97 Loss: 0.5503 Precision@90: 0.000 Accuracy: 0.825 F1: 0.190\n",
      "INFO:tcre.modeling.training:training Results - Epoch: 26  Count: 10000 Loss: 0.1838 Precision@90: 0.989 Accuracy: 0.943 F1: 0.821\n",
      "INFO:tcre.modeling.training:test Results - Epoch: 26  Count: 100 Loss: 0.6380 Precision@90: 0.000 Accuracy: 0.780 F1: 0.000\n",
      "INFO:tcre.modeling.training:validation Results - Epoch: 26  Count: 97 Loss: 0.5450 Precision@90: 0.000 Accuracy: 0.804 F1: 0.174\n",
      "INFO:tcre.modeling.training:Epoch[27] Iteration[2100] Loss: 0.1675 LR: 0.001\n",
      "INFO:tcre.modeling.training:training Results - Epoch: 27  Count: 10000 Loss: 0.1805 Precision@90: 0.986 Accuracy: 0.946 F1: 0.836\n",
      "INFO:tcre.modeling.training:test Results - Epoch: 27  Count: 100 Loss: 0.6695 Precision@90: 0.000 Accuracy: 0.760 F1: 0.000\n",
      "INFO:tcre.modeling.training:validation Results - Epoch: 27  Count: 97 Loss: 0.5285 Precision@90: 0.000 Accuracy: 0.804 F1: 0.174\n",
      "INFO:tcre.modeling.training:training Results - Epoch: 28  Count: 10000 Loss: 0.1653 Precision@90: 0.989 Accuracy: 0.948 F1: 0.857\n",
      "INFO:tcre.modeling.training:test Results - Epoch: 28  Count: 100 Loss: 0.7022 Precision@90: 0.000 Accuracy: 0.730 F1: 0.129\n",
      "INFO:tcre.modeling.training:validation Results - Epoch: 28  Count: 97 Loss: 0.5175 Precision@90: 0.000 Accuracy: 0.784 F1: 0.222\n",
      "INFO:tcre.modeling.training:Epoch[29] Iteration[2250] Loss: 0.1651 LR: 0.00025\n",
      "INFO:tcre.modeling.training:training Results - Epoch: 29  Count: 10000 Loss: 0.1587 Precision@90: 0.991 Accuracy: 0.953 F1: 0.870\n",
      "INFO:tcre.modeling.training:test Results - Epoch: 29  Count: 100 Loss: 0.7152 Precision@90: 0.000 Accuracy: 0.730 F1: 0.129\n",
      "INFO:tcre.modeling.training:validation Results - Epoch: 29  Count: 97 Loss: 0.5301 Precision@90: 0.000 Accuracy: 0.794 F1: 0.231\n",
      "INFO:tcre.modeling.training:training Results - Epoch: 30  Count: 10000 Loss: 0.1564 Precision@90: 0.992 Accuracy: 0.955 F1: 0.875\n",
      "INFO:tcre.modeling.training:test Results - Epoch: 30  Count: 100 Loss: 0.7243 Precision@90: 0.000 Accuracy: 0.730 F1: 0.129\n",
      "INFO:tcre.modeling.training:validation Results - Epoch: 30  Count: 97 Loss: 0.5413 Precision@90: 0.000 Accuracy: 0.784 F1: 0.222\n",
      "INFO:tcre.modeling.training:Epoch[31] Iteration[2400] Loss: 0.1514 LR: 0.00025\n",
      "INFO:tcre.modeling.training:training Results - Epoch: 31  Count: 10000 Loss: 0.1532 Precision@90: 0.995 Accuracy: 0.958 F1: 0.884\n",
      "INFO:tcre.modeling.training:test Results - Epoch: 31  Count: 100 Loss: 0.7226 Precision@90: 0.000 Accuracy: 0.740 F1: 0.133\n",
      "INFO:tcre.modeling.training:validation Results - Epoch: 31  Count: 97 Loss: 0.5488 Precision@90: 0.000 Accuracy: 0.773 F1: 0.214\n",
      "INFO:tcre.modeling.training:training Results - Epoch: 32  Count: 10000 Loss: 0.1520 Precision@90: 0.994 Accuracy: 0.957 F1: 0.881\n",
      "INFO:tcre.modeling.training:test Results - Epoch: 32  Count: 100 Loss: 0.7392 Precision@90: 0.000 Accuracy: 0.740 F1: 0.133\n",
      "INFO:ignite.handlers.early_stopping.EarlyStopping:EarlyStopping: Stop training\n",
      "INFO:tcre.modeling.training:validation Results - Epoch: 32  Count: 97 Loss: 0.5588 Precision@90: 0.000 Accuracy: 0.784 F1: 0.222\n",
      "INFO:__main__:Saving input fields definition to fields.pkl\n",
      "INFO:__main__:Saving history to history.json\n",
      "INFO:__main__:Saving config to config.json\n",
      "INFO:__main__:Training complete\n",
      "Epoch    26: reducing learning rate of group 0 to 2.5000e-04.\n"
     ]
    }
   ],
   "source": [
    "!$cmd"
   ]
  },
  {
   "cell_type": "code",
   "execution_count": 18,
   "metadata": {},
   "outputs": [
    {
     "data": {
      "text/plain": [
       "<matplotlib.axes._subplots.AxesSubplot at 0x7f1018fed518>"
      ]
     },
     "execution_count": 18,
     "metadata": {},
     "output_type": "execute_result"
    },
    {
     "data": {
      "image/png": "[encoded data removed]",
      "text/plain": [
       "<Figure size 432x288 with 1 Axes>"
      ]
     },
     "metadata": {
      "needs_background": "light"
     },
     "output_type": "display_data"
    }
   ],
   "source": [
    "# Secreted cytokine\n",
    "%matplotlib inline\n",
    "df = pd.read_json(osp.join(model_dir, 'history.json'))\n",
    "df.set_index(['epoch', 'type'])['f1'].unstack().sort_index().plot()"
   ]
  },
  {
   "cell_type": "code",
   "execution_count": 85,
   "metadata": {},
   "outputs": [
    {
     "data": {
      "text/plain": [
       "<matplotlib.axes._subplots.AxesSubplot at 0x7f60fc2a8c18>"
      ]
     },
     "execution_count": 85,
     "metadata": {},
     "output_type": "execute_result"
    },
    {
     "data": {
      "image/png": "[encoded data removed]",
      "text/plain": [
       "<Figure size 432x288 with 1 Axes>"
      ]
     },
     "metadata": {
      "needs_background": "light"
     },
     "output_type": "display_data"
    }
   ],
   "source": [
    "# Inducing cytokine\n",
    "%matplotlib inline\n",
    "df = pd.read_json(osp.join(model_dir, 'history.json'))\n",
    "df.set_index(['epoch', 'type'])['f1'].unstack().sort_index().plot()"
   ]
  },
  {
   "cell_type": "code",
   "execution_count": 12,
   "metadata": {},
   "outputs": [
    {
     "data": {
      "text/plain": [
       "<matplotlib.axes._subplots.AxesSubplot at 0x7fc5e05ac4e0>"
      ]
     },
     "execution_count": 12,
     "metadata": {},
     "output_type": "execute_result"
    },
    {
     "data": {
      "image/png": "[encoded data removed]",
      "text/plain": [
       "<Figure size 432x288 with 1 Axes>"
      ]
     },
     "metadata": {
      "needs_background": "light"
     },
     "output_type": "display_data"
    }
   ],
   "source": [
    "# Inducing cytokine\n",
    "%matplotlib inline\n",
    "df = pd.read_json(osp.join(model_dir, 'history.json'))\n",
    "df.set_index(['epoch', 'type'])[['f1', 'loss']].unstack().sort_index().plot()"
   ]
  },
  {
   "cell_type": "code",
   "execution_count": null,
   "metadata": {},
   "outputs": [],
   "source": []
  },
  {
   "cell_type": "code",
   "execution_count": null,
   "metadata": {},
   "outputs": [],
   "source": []
  },
  {
   "cell_type": "code",
   "execution_count": null,
   "metadata": {},
   "outputs": [],
   "source": []
  },
  {
   "cell_type": "code",
   "execution_count": 5,
   "metadata": {},
   "outputs": [
    {
     "data": {
      "text/plain": [
       "(673,)"
      ]
     },
     "execution_count": 5,
     "metadata": {},
     "output_type": "execute_result"
    }
   ],
   "source": [
    "from snorkel.annotations import load_gold_labels\n",
    "cids_query = get_cids_query(session, candidate_class, split=1)\n",
    "L_gold_dev = load_gold_labels(\n",
    "    session, annotator_name=candidate_class.field, \n",
    "    split=1, load_as_array=True, cids_query=cids_query)\n",
    "L_gold_dev = np.where(L_gold_dev > 0, 1, -1)\n",
    "assert np.all(np.in1d(L_gold_dev, [-1, 1]))\n",
    "L_gold_dev.shape"
   ]
  },
  {
   "cell_type": "code",
   "execution_count": 6,
   "metadata": {},
   "outputs": [
    {
     "data": {
      "text/plain": [
       "((6696,), 0.0016238524185457253, 0.987991787981553)"
      ]
     },
     "execution_count": 6,
     "metadata": {},
     "output_type": "execute_result"
    }
   ],
   "source": [
    "train_marginals.shape, train_marginals.min(), train_marginals.max()"
   ]
  },
  {
   "cell_type": "code",
   "execution_count": 21,
   "metadata": {},
   "outputs": [
    {
     "name": "stdout",
     "output_type": "stream",
     "text": [
      "CandidateClass({'index': 2, 'name': 'InducingTranscriptionFactor', 'field': 'inducing_transcription_factor', 'label': 'Differentiation', 'entity_types': ['transcription_factor', 'immune_cell_type'], 'subclass': <class 'snorkel.models.candidate.InducingTranscriptionFactor'>})\n",
      "[LSTM] Training model\n",
      "[LSTM] n_train=6361  #epochs=20  batch size=64\n",
      "[LSTM] Epoch 1 (34.35s)\tAverage loss=0.600154\tDev F1=32.00\n",
      "[LSTM] Epoch 2 (66.40s)\tAverage loss=0.467063\tDev F1=39.55\n",
      "[LSTM] Epoch 3 (101.09s)\tAverage loss=0.401534\tDev F1=37.84\n",
      "[LSTM] Epoch 4 (132.22s)\tAverage loss=0.375169\tDev F1=52.83\n",
      "[LSTM] Model saved as <LSTM>\n",
      "[LSTM] Epoch 5 (164.32s)\tAverage loss=0.356151\tDev F1=52.75\n",
      "[LSTM] Epoch 6 (195.68s)\tAverage loss=0.343833\tDev F1=43.14\n",
      "[LSTM] Epoch 7 (227.35s)\tAverage loss=0.333043\tDev F1=48.76\n",
      "[LSTM] Epoch 8 (258.14s)\tAverage loss=0.328741\tDev F1=55.17\n",
      "[LSTM] Model saved as <LSTM>\n",
      "[LSTM] Epoch 9 (289.75s)\tAverage loss=0.318247\tDev F1=55.92\n",
      "[LSTM] Model saved as <LSTM>\n",
      "[LSTM] Epoch 10 (322.44s)\tAverage loss=0.313380\tDev F1=47.62\n",
      "[LSTM] Epoch 11 (353.71s)\tAverage loss=0.310400\tDev F1=48.61\n",
      "[LSTM] Epoch 12 (386.17s)\tAverage loss=0.306022\tDev F1=56.87\n",
      "[LSTM] Model saved as <LSTM>\n",
      "[LSTM] Epoch 13 (418.27s)\tAverage loss=0.302030\tDev F1=52.10\n",
      "[LSTM] Epoch 14 (450.57s)\tAverage loss=0.297180\tDev F1=56.76\n",
      "[LSTM] Epoch 15 (482.59s)\tAverage loss=0.297344\tDev F1=60.00\n",
      "[LSTM] Model saved as <LSTM>\n",
      "[LSTM] Epoch 16 (514.64s)\tAverage loss=0.291526\tDev F1=58.72\n",
      "[LSTM] Epoch 17 (545.87s)\tAverage loss=0.292273\tDev F1=59.53\n",
      "[LSTM] Epoch 18 (578.56s)\tAverage loss=0.300500\tDev F1=55.91\n",
      "[LSTM] Epoch 19 (610.56s)\tAverage loss=0.295896\tDev F1=55.74\n",
      "[LSTM] Epoch 20 (642.58s)\tAverage loss=0.290763\tDev F1=58.54\n",
      "[LSTM] Training done (643.13s)\n",
      "[LSTM] Loaded model <LSTM>\n"
     ]
    }
   ],
   "source": [
    "from snorkel.learning.pytorch import LSTM\n",
    "print(candidate_class)\n",
    "\n",
    "train_kwargs = {\n",
    "    'n_epochs':        20,\n",
    "    'num_layers':       1,\n",
    "    'lr':              0.001,\n",
    "    'embedding_dim':   100,\n",
    "    'hidden_dim':      100,\n",
    "    'dropout':         0.5,\n",
    "    'rebalance':       0.25,\n",
    "    'print_freq':      1,\n",
    "    'seed':            1701,\n",
    "    'dev_ckpt_delay':  .1\n",
    "}\n",
    "\n",
    "lstm = LSTM(n_threads=None)\n",
    "lstm.train(train_cands, train_marginals, X_dev=dev_cands, Y_dev=L_gold_dev, **train_kwargs)"
   ]
  },
  {
   "cell_type": "code",
   "execution_count": 22,
   "metadata": {},
   "outputs": [
    {
     "data": {
      "text/plain": [
       "LSTM(100, 100, batch_first=True)"
      ]
     },
     "execution_count": 22,
     "metadata": {},
     "output_type": "execute_result"
    }
   ],
   "source": [
    "lstm.lstm"
   ]
  },
  {
   "cell_type": "code",
   "execution_count": 23,
   "metadata": {},
   "outputs": [
    {
     "name": "stdout",
     "output_type": "stream",
     "text": [
      "[LSTM] Model saved as <lstm_inducing_transcription_factor>\n"
     ]
    },
    {
     "data": {
      "text/plain": [
       "'/Users/eczech/repos/hammer/t-cell-relation-extraction/pm_subtype_protein_relations/data/model/lstm'"
      ]
     },
     "execution_count": 23,
     "metadata": {},
     "output_type": "execute_result"
    }
   ],
   "source": [
    "path = osp.join(os.environ['MODEL_DATA_DIR'], 'lstm')\n",
    "lstm.save('lstm_' + candidate_class.field, path)\n",
    "path"
   ]
  },
  {
   "cell_type": "markdown",
   "metadata": {},
   "source": [
    "## Reload for Analysis"
   ]
  },
  {
   "cell_type": "code",
   "execution_count": 24,
   "metadata": {},
   "outputs": [
    {
     "name": "stdout",
     "output_type": "stream",
     "text": [
      "[LSTM] Loaded model <lstm_inducing_cytokine>\n",
      "[LSTM] Loaded model <lstm_secreted_cytokine>\n",
      "[LSTM] Loaded model <lstm_inducing_transcription_factor>\n"
     ]
    }
   ],
   "source": [
    "from snorkel.annotations import load_gold_labels\n",
    "from snorkel.learning.pytorch import LSTM\n",
    "\n",
    "split = SPLIT_DEV\n",
    "\n",
    "res_pred = {}\n",
    "for c in classes:\n",
    "    model = LSTM()\n",
    "    path = osp.join(os.environ['MODEL_DATA_DIR'], 'lstm')\n",
    "    model.load('lstm_' + classes[c].field, path)\n",
    "    \n",
    "    X = session.query(classes[c].subclass).filter(classes[c].subclass.split == split).all()\n",
    "    Y = model.marginals(X)\n",
    "    \n",
    "    cids_query = get_cids_query(session, classes[c], split=split)\n",
    "    Yg = load_gold_labels(\n",
    "        session, annotator_name=classes[c].field, \n",
    "        split=split, load_as_array=True, cids_query=cids_query)\n",
    "    Yg = np.where(Yg == 1, 1, -1)\n",
    "    assert np.all(np.in1d(Yg, [-1, 1]))\n",
    "\n",
    "    res_pred[c] = X, Y, Yg, model"
   ]
  },
  {
   "cell_type": "code",
   "execution_count": 26,
   "metadata": {},
   "outputs": [
    {
     "name": "stdout",
     "output_type": "stream",
     "text": [
      "InducingCytokine\n",
      "========================================\n",
      "Scores (Un-adjusted)\n",
      "========================================\n",
      "Pos. class accuracy: 0.714\n",
      "Neg. class accuracy: 0.746\n",
      "Precision            0.409\n",
      "Recall               0.714\n",
      "F1                   0.521\n",
      "----------------------------------------\n",
      "TP: 95 | FP: 137 | TN: 403 | FN: 38\n",
      "========================================\n",
      "\n",
      "SecretedCytokine\n",
      "========================================\n",
      "Scores (Un-adjusted)\n",
      "========================================\n",
      "Pos. class accuracy: 0.778\n",
      "Neg. class accuracy: 0.86\n",
      "Precision            0.432\n",
      "Recall               0.778\n",
      "F1                   0.555\n",
      "----------------------------------------\n",
      "TP: 63 | FP: 83 | TN: 509 | FN: 18\n",
      "========================================\n",
      "\n",
      "InducingTranscriptionFactor\n",
      "========================================\n",
      "Scores (Un-adjusted)\n",
      "========================================\n",
      "Pos. class accuracy: 0.733\n",
      "Neg. class accuracy: 0.812\n",
      "Precision            0.508\n",
      "Recall               0.733\n",
      "F1                   0.6\n",
      "----------------------------------------\n",
      "TP: 63 | FP: 61 | TN: 263 | FN: 23\n",
      "========================================\n",
      "\n"
     ]
    }
   ],
   "source": [
    "res_ct = {}\n",
    "for c in res_pred:\n",
    "    print(c)\n",
    "    X, Y, Yg, model = res_pred[c]\n",
    "    # Subset to only TFs with length >= 4\n",
    "    #     if c == classes.inducing_transcription_factor.name:\n",
    "    #         assert len(X) == len(Yg)\n",
    "    #         n = len(X)\n",
    "    #         idx = [i for i in range(len(X)) if len(X[i].transcription_factor.get_span()) >= 5]\n",
    "    #         X, Yg = [X[i] for i in idx], [Yg[i] for i in idx]\n",
    "    #         print('Redo on TF, len before = ', n, 'len after = ', len(X))\n",
    "    res_ct[c] = model.error_analysis(session, X, Yg, b=.5)"
   ]
  },
  {
   "cell_type": "code",
   "execution_count": 27,
   "metadata": {},
   "outputs": [],
   "source": [
    "candidate_class = classes.inducing_transcription_factor\n",
    "X, Y, Yg, model = res_pred[candidate_class.name]"
   ]
  },
  {
   "cell_type": "code",
   "execution_count": 28,
   "metadata": {},
   "outputs": [
    {
     "data": {
      "text/plain": [
       "(410, (410,), (410,))"
      ]
     },
     "execution_count": 28,
     "metadata": {},
     "output_type": "execute_result"
    }
   ],
   "source": [
    "len(X), Y.shape, Yg.shape"
   ]
  },
  {
   "cell_type": "code",
   "execution_count": 29,
   "metadata": {},
   "outputs": [
    {
     "data": {
      "text/plain": [
       "array([0.08711956, 0.13915455, 0.89033943, 0.09569915, 0.11063357,\n",
       "       0.93561375, 0.9499063 , 0.05103741, 0.07575299, 0.07487626],\n",
       "      dtype=float32)"
      ]
     },
     "execution_count": 29,
     "metadata": {},
     "output_type": "execute_result"
    }
   ],
   "source": [
    "Y[:10]"
   ]
  },
  {
   "cell_type": "code",
   "execution_count": 30,
   "metadata": {},
   "outputs": [
    {
     "data": {
      "image/png": "[encoded data removed]",
      "text/plain": [
       "<Figure size 432x288 with 1 Axes>"
      ]
     },
     "metadata": {
      "needs_background": "light"
     },
     "output_type": "display_data"
    }
   ],
   "source": [
    "from matplotlib import pyplot as plt\n",
    "%matplotlib inline\n",
    "plt.hist(Y)\n",
    "None"
   ]
  },
  {
   "cell_type": "code",
   "execution_count": 31,
   "metadata": {},
   "outputs": [
    {
     "data": {
      "application/javascript": [
       "require.undef('viewer');\n",
       "\n",
       "// NOTE: all elements should be selected using this.$el.find to avoid collisions with other Viewers\n",
       "\n",
       "define('viewer', [\"@jupyter-widgets/base\"], function(widgets) {\n",
       "    var ViewerView = widgets.DOMWidgetView.extend({\n",
       "        render: function() {\n",
       "            this.cids   = this.model.get('cids');\n",
       "            this.nPages = this.cids.length;\n",
       "            this.pid  = 0;\n",
       "            this.cxid = 0;\n",
       "            this.cid  = 0;\n",
       "\n",
       "            // Insert the html payload\n",
       "            this.$el.append(this.model.get('html'));\n",
       "\n",
       "            // Initialize all labels from previous sessions\n",
       "            this.labels = this.deserializeDict(this.model.get('_labels_serialized'));\n",
       "            for (var i=0; i < this.nPages; i++) {\n",
       "                this.pid = i;\n",
       "                for (var j=0; j < this.cids[i].length; j++) {\n",
       "                    this.cxid = j;\n",
       "                    for (var k=0; k < this.cids[i][j].length; k++) {\n",
       "                        this.cid = k;\n",
       "                        if (this.cids[i][j][k] in this.labels) {\n",
       "                            this.markCurrentCandidate(false);\n",
       "                        }\n",
       "                    }\n",
       "                }\n",
       "            }\n",
       "            this.pid  = 0;\n",
       "            this.cxid = 0;\n",
       "            this.cid  = 0;\n",
       "\n",
       "            // Enable button functionality for navigation\n",
       "            var that = this;\n",
       "            this.$el.find(\"#next-cand\").click(function() {\n",
       "                that.switchCandidate(1);\n",
       "            });\n",
       "            this.$el.find(\"#prev-cand\").click(function() {\n",
       "                that.switchCandidate(-1);\n",
       "            });\n",
       "            this.$el.find(\"#next-context\").click(function() {\n",
       "                that.switchContext(1);\n",
       "            });\n",
       "            this.$el.find(\"#prev-context\").click(function() {\n",
       "                that.switchContext(-1);\n",
       "            });\n",
       "            this.$el.find(\"#next-page\").click(function() {\n",
       "                that.switchPage(1);\n",
       "            });\n",
       "            this.$el.find(\"#prev-page\").click(function() {\n",
       "                that.switchPage(-1);\n",
       "            });\n",
       "            this.$el.find(\"#label-true\").click(function() {\n",
       "                that.labelCandidate(true, true);\n",
       "            });\n",
       "            this.$el.find(\"#label-false\").click(function() {\n",
       "                that.labelCandidate(false, true);\n",
       "            });\n",
       "\n",
       "            // Arrow key functionality\n",
       "            this.$el.keydown(function(e) {\n",
       "                switch(e.which) {\n",
       "                    case 74: // j\n",
       "                    that.switchCandidate(-1);\n",
       "                    break;\n",
       "\n",
       "                    case 73: // i\n",
       "                    that.switchPage(-1);\n",
       "                    break;\n",
       "\n",
       "                    case 76: // l\n",
       "                    that.switchCandidate(1);\n",
       "                    break;\n",
       "\n",
       "                    case 75: // k\n",
       "                    that.switchPage(1);\n",
       "                    break;\n",
       "\n",
       "                    case 84: // t\n",
       "                    that.labelCandidate(true, true);\n",
       "                    break;\n",
       "\n",
       "                    case 70: // f\n",
       "                    that.labelCandidate(false, true);\n",
       "                    break;\n",
       "                }\n",
       "            });\n",
       "\n",
       "            // Show the first page and highlight the first candidate\n",
       "            this.$el.find(\"#viewer-page-0\").show();\n",
       "            this.switchCandidate(0);\n",
       "        },\n",
       "\n",
       "        // Get candidate selector for currently selected candidate, escaping id properly\n",
       "        getCandidate: function() {\n",
       "            return this.$el.find(\".\"+this.cids[this.pid][this.cxid][this.cid]);\n",
       "        },  \n",
       "\n",
       "        // Color the candidate correctly according to registered label, as well as set highlighting\n",
       "        markCurrentCandidate: function(highlight) {\n",
       "            var cid  = this.cids[this.pid][this.cxid][this.cid];\n",
       "            var tags = this.$el.find(\".\"+cid);\n",
       "\n",
       "            // Clear color classes\n",
       "            tags.removeClass(\"candidate-h\");\n",
       "            tags.removeClass(\"true-candidate\");\n",
       "            tags.removeClass(\"true-candidate-h\");\n",
       "            tags.removeClass(\"false-candidate\");\n",
       "            tags.removeClass(\"false-candidate-h\");\n",
       "            tags.removeClass(\"highlighted\");\n",
       "\n",
       "            if (highlight) {\n",
       "                if (cid in this.labels) {\n",
       "                    tags.addClass(String(this.labels[cid]) + \"-candidate-h\");\n",
       "                } else {\n",
       "                    tags.addClass(\"candidate-h\");\n",
       "                }\n",
       "            \n",
       "            // If un-highlighting, leave with first non-null coloring\n",
       "            } else {\n",
       "                var that = this;\n",
       "                tags.each(function() {\n",
       "                    var cids = $(this).attr('class').split(/\\s+/).map(function(item) {\n",
       "                        return parseInt(item);\n",
       "                    });\n",
       "                    cids.sort();\n",
       "                    for (var i in cids) {\n",
       "                        if (cids[i] in that.labels) {\n",
       "                            var label = that.labels[cids[i]];\n",
       "                            $(this).addClass(String(label) + \"-candidate\");\n",
       "                            $(this).removeClass(String(!label) + \"-candidate\");\n",
       "                            break;\n",
       "                        }\n",
       "                    }\n",
       "                });\n",
       "            }\n",
       "\n",
       "            // Extra highlighting css\n",
       "            if (highlight) {\n",
       "                tags.addClass(\"highlighted\");\n",
       "            }\n",
       "\n",
       "            // Classes for showing direction of relation\n",
       "            if (highlight) {\n",
       "                this.$el.find(\".\"+cid+\"-0\").addClass(\"left-candidate\");\n",
       "                this.$el.find(\".\"+cid+\"-1\").addClass(\"right-candidate\");\n",
       "            } else {\n",
       "                this.$el.find(\".\"+cid+\"-0\").removeClass(\"left-candidate\");\n",
       "                this.$el.find(\".\"+cid+\"-1\").removeClass(\"right-candidate\");\n",
       "            }\n",
       "        },\n",
       "\n",
       "        // Cycle through candidates and highlight, by increment inc\n",
       "        switchCandidate: function(inc) {\n",
       "            var N = this.cids[this.pid].length\n",
       "            var M = this.cids[this.pid][this.cxid].length;\n",
       "            if (N == 0 || M == 0) { return false; }\n",
       "\n",
       "            // Clear highlighting from previous candidate\n",
       "            if (inc != 0) {\n",
       "                this.markCurrentCandidate(false);\n",
       "\n",
       "                // Increment the cid counter\n",
       "\n",
       "                // Move to next context\n",
       "                if (this.cid + inc >= M) {\n",
       "                    while (this.cid + inc >= M) {\n",
       "                        \n",
       "                        // At last context on page, halt\n",
       "                        if (this.cxid == N - 1) {\n",
       "                            this.cid = M - 1;\n",
       "                            inc = 0;\n",
       "                            break;\n",
       "                        \n",
       "                        // Increment to next context\n",
       "                        } else {\n",
       "                            inc -= M - this.cid;\n",
       "                            this.cxid += 1;\n",
       "                            M = this.cids[this.pid][this.cxid].length;\n",
       "                            this.cid = 0;\n",
       "                        }\n",
       "                    }\n",
       "\n",
       "                // Move to previous context\n",
       "                } else if (this.cid + inc < 0) {\n",
       "                    while (this.cid + inc < 0) {\n",
       "                        \n",
       "                        // At first context on page, halt\n",
       "                        if (this.cxid == 0) {\n",
       "                            this.cid = 0;\n",
       "                            inc = 0;\n",
       "                            break;\n",
       "                        \n",
       "                        // Increment to previous context\n",
       "                        } else {\n",
       "                            inc += this.cid + 1;\n",
       "                            this.cxid -= 1;\n",
       "                            M = this.cids[this.pid][this.cxid].length;\n",
       "                            this.cid = M - 1;\n",
       "                        }\n",
       "                    }\n",
       "                }\n",
       "\n",
       "                // Move within current context\n",
       "                this.cid += inc;\n",
       "            }\n",
       "            this.markCurrentCandidate(true);\n",
       "\n",
       "            // Push this new cid to the model\n",
       "            this.model.set('_selected_cid', this.cids[this.pid][this.cxid][this.cid]);\n",
       "            this.touch();\n",
       "        },\n",
       "\n",
       "        // Switch through contexts\n",
       "        switchContext: function(inc) {\n",
       "            this.markCurrentCandidate(false);\n",
       "\n",
       "            // Iterate context on this page\n",
       "            var M = this.cids[this.pid].length;\n",
       "            if (this.cxid + inc < 0) {\n",
       "                this.cxid = 0;\n",
       "            } else if (this.cxid + inc >= M) {\n",
       "                this.cxid = M - 1;\n",
       "            } else {\n",
       "                this.cxid += inc;\n",
       "            }\n",
       "\n",
       "            // Reset cid and set to first candidate\n",
       "            this.cid = 0;\n",
       "            this.switchCandidate(0);\n",
       "        },\n",
       "\n",
       "        // Switch through pages\n",
       "        switchPage: function(inc) {\n",
       "            this.markCurrentCandidate(false);\n",
       "            this.$el.find(\".viewer-page\").hide();\n",
       "            if (this.pid + inc < 0) {\n",
       "                this.pid = 0;\n",
       "            } else if (this.pid + inc > this.nPages - 1) {\n",
       "                this.pid = this.nPages - 1;\n",
       "            } else {\n",
       "                this.pid += inc;\n",
       "            }\n",
       "            this.$el.find(\"#viewer-page-\"+this.pid).show();\n",
       "\n",
       "            // Show pagination\n",
       "            this.$el.find(\"#page\").html(this.pid);\n",
       "\n",
       "            // Reset cid and set to first candidate\n",
       "            this.cid = 0;\n",
       "            this.cxid = 0;\n",
       "            this.switchCandidate(0);\n",
       "        },\n",
       "\n",
       "        // Label currently-selected candidate\n",
       "        labelCandidate: function(label, highlighted) {\n",
       "            var c    = this.getCandidate();\n",
       "            var cid  = this.cids[this.pid][this.cxid][this.cid];\n",
       "            var cl   = String(label) + \"-candidate\";\n",
       "            var clh  = String(label) + \"-candidate-h\";\n",
       "            var cln  = String(!label) + \"-candidate\";\n",
       "            var clnh = String(!label) + \"-candidate-h\";\n",
       "\n",
       "            // Toggle label highlighting\n",
       "            if (c.hasClass(cl) || c.hasClass(clh)) {\n",
       "                c.removeClass(cl);\n",
       "                c.removeClass(clh);\n",
       "                if (highlighted) {\n",
       "                    c.addClass(\"candidate-h\");\n",
       "                }\n",
       "                this.labels[cid] = null;\n",
       "                this.send({event: 'delete_label', cid: cid});\n",
       "            } else {\n",
       "                c.removeClass(cln);\n",
       "                c.removeClass(clnh);\n",
       "                if (highlighted) {\n",
       "                    c.addClass(clh);\n",
       "                } else {\n",
       "                    c.addClass(cl);\n",
       "                }\n",
       "                this.labels[cid] = label;\n",
       "                this.send({event: 'set_label', cid: cid, value: label});\n",
       "            }\n",
       "\n",
       "            // Set the label and pass back to the model\n",
       "            this.model.set('_labels_serialized', this.serializeDict(this.labels));\n",
       "            this.touch();\n",
       "        },\n",
       "\n",
       "        // Serialization of hash maps, because traitlets Dict doesn't seem to work...\n",
       "        serializeDict: function(d) {\n",
       "            var s = [];\n",
       "            for (var key in d) {\n",
       "                s.push(key+\"~~\"+d[key]);\n",
       "            }\n",
       "            return s.join();\n",
       "        },\n",
       "\n",
       "        // Deserialization of hash maps\n",
       "        deserializeDict: function(s) {\n",
       "            var d = {};\n",
       "            var entries = s.split(/,/);\n",
       "            var kv;\n",
       "            for (var i in entries) {\n",
       "                kv = entries[i].split(/~~/);\n",
       "                if (kv[1] == \"true\") {\n",
       "                    d[kv[0]] = true;\n",
       "                } else if (kv[1] == \"false\") {\n",
       "                    d[kv[0]] = false;\n",
       "                }\n",
       "            }\n",
       "            return d;\n",
       "        },\n",
       "    });\n",
       "\n",
       "    return {\n",
       "        ViewerView: ViewerView\n",
       "    };\n",
       "});\n"
      ],
      "text/plain": [
       "<IPython.core.display.Javascript object>"
      ]
     },
     "metadata": {},
     "output_type": "display_data"
    },
    {
     "data": {
      "application/vnd.jupyter.widget-view+json": {
       "model_id": "5a616856057d4179b26e98d8c099caa2",
       "version_major": 2,
       "version_minor": 0
      },
      "text/plain": [
       "SentenceNgramViewer(cids=[[[19, 20], [42], [95]], [[71, 72], [93], [1, 68]], [[29], [50, 67], [15, 16, 17, 18,…"
      ]
     },
     "metadata": {},
     "output_type": "display_data"
    }
   ],
   "source": [
    "from snorkel import viewer\n",
    "idx = np.argsort(Y)[::-1]\n",
    "idx = idx[:100]\n",
    "viewer.SentenceNgramViewer(\n",
    "    candidates=[X[i] for i in idx], \n",
    "    session=session,\n",
    "    gold=[X[i] for i in idx if Yg[i] == 1]\n",
    ")"
   ]
  }
 ],
 "metadata": {
  "kernelspec": {
   "display_name": "Python 3",
   "language": "python",
   "name": "python3"
  },
  "language_info": {
   "codemirror_mode": {
    "name": "ipython",
    "version": 3
   },
   "file_extension": ".py",
   "mimetype": "text/x-python",
   "name": "python",
   "nbconvert_exporter": "python",
   "pygments_lexer": "ipython3",
   "version": "3.6.8"
  }
 },
 "nbformat": 4,
 "nbformat_minor": 2
}
