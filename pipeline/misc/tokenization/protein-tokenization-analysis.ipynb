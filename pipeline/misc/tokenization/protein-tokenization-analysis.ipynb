{
 "cells": [
  {
   "cell_type": "markdown",
   "metadata": {},
   "source": [
    "## Protein Tokenization Analysis\n",
    "\n",
    "This notebook will compare tokenization strategies used to classify T cell phenotype strings according to their known (but withheld) subtype."
   ]
  },
  {
   "cell_type": "code",
   "execution_count": 1,
   "metadata": {},
   "outputs": [],
   "source": [
    "import pandas as pd\n",
    "import numpy as np\n",
    "import warnings\n",
    "import tqdm\n",
    "import plotnine as pn\n",
    "from tcre.env import *"
   ]
  },
  {
   "cell_type": "code",
   "execution_count": 2,
   "metadata": {},
   "outputs": [
    {
     "name": "stdout",
     "output_type": "stream",
     "text": [
      "<class 'pandas.core.frame.DataFrame'>\n",
      "RangeIndex: 2780 entries, 0 to 2779\n",
      "Data columns (total 8 columns):\n",
      "id                2780 non-null object\n",
      "start_wrd         2780 non-null int64\n",
      "end_wrd           2780 non-null int64\n",
      "text              2780 non-null object\n",
      "cell_type         2780 non-null object\n",
      "cell_type_text    2780 non-null object\n",
      "ptkn              2780 non-null object\n",
      "clean_text        2780 non-null object\n",
      "dtypes: int64(2), object(6)\n",
      "memory usage: 173.8+ KB\n"
     ]
    }
   ],
   "source": [
    "path = osp.join(RESULTS_DATA_DIR, 'protein-tokenization', 'dataset.pkl')\n",
    "df = pd.read_pickle(path)\n",
    "df = df.reset_index(drop=True)\n",
    "df.info()"
   ]
  },
  {
   "cell_type": "code",
   "execution_count": 3,
   "metadata": {},
   "outputs": [
    {
     "data": {
      "text/html": [
       "<div>\n",
       "<style scoped>\n",
       "    .dataframe tbody tr th:only-of-type {\n",
       "        vertical-align: middle;\n",
       "    }\n",
       "\n",
       "    .dataframe tbody tr th {\n",
       "        vertical-align: top;\n",
       "    }\n",
       "\n",
       "    .dataframe thead th {\n",
       "        text-align: right;\n",
       "    }\n",
       "</style>\n",
       "<table border=\"1\" class=\"dataframe\">\n",
       "  <thead>\n",
       "    <tr style=\"text-align: right;\">\n",
       "      <th></th>\n",
       "      <th>id</th>\n",
       "      <th>start_wrd</th>\n",
       "      <th>end_wrd</th>\n",
       "      <th>text</th>\n",
       "      <th>cell_type</th>\n",
       "      <th>cell_type_text</th>\n",
       "      <th>ptkn</th>\n",
       "      <th>clean_text</th>\n",
       "    </tr>\n",
       "  </thead>\n",
       "  <tbody>\n",
       "    <tr>\n",
       "      <th>0</th>\n",
       "      <td>PMC1555646</td>\n",
       "      <td>196</td>\n",
       "      <td>200</td>\n",
       "      <td>human CD4+CD25+Foxp3+ Tregs</td>\n",
       "      <td>Treg</td>\n",
       "      <td>Tregs</td>\n",
       "      <td>[human, CD4⁺(+), CD25⁺(+), Foxp3⁺(+)]</td>\n",
       "      <td>human CD4+CD25+Foxp3+</td>\n",
       "    </tr>\n",
       "    <tr>\n",
       "      <th>1</th>\n",
       "      <td>PMC1867380</td>\n",
       "      <td>5134</td>\n",
       "      <td>5141</td>\n",
       "      <td>CD4+CD25+FoxP3+ IL-10–producing natural T regu...</td>\n",
       "      <td>nTreg</td>\n",
       "      <td>natural T regulatory</td>\n",
       "      <td>[CD4⁺(+), CD25⁺(+), FoxP3⁺(+), IL-10⁻(–), prod...</td>\n",
       "      <td>CD4+CD25+FoxP3+ IL-10–producing  cells</td>\n",
       "    </tr>\n",
       "    <tr>\n",
       "      <th>2</th>\n",
       "      <td>PMC1939810</td>\n",
       "      <td>6249</td>\n",
       "      <td>6254</td>\n",
       "      <td>CD4+CD25highCD62L−Foxp3+ regulatory T cells</td>\n",
       "      <td>Treg</td>\n",
       "      <td>regulatory T</td>\n",
       "      <td>[CD4⁺(+), CD25⁺(high), CD62L⁻(−), Foxp3⁺(+), c...</td>\n",
       "      <td>CD4+CD25highCD62L−Foxp3+  cells</td>\n",
       "    </tr>\n",
       "    <tr>\n",
       "      <th>3</th>\n",
       "      <td>PMC1940266</td>\n",
       "      <td>816</td>\n",
       "      <td>821</td>\n",
       "      <td>CD4+CD25+Foxp3+ regulatory T cells</td>\n",
       "      <td>Treg</td>\n",
       "      <td>regulatory T</td>\n",
       "      <td>[CD4⁺(+), CD25⁺(+), Foxp3⁺(+), cells]</td>\n",
       "      <td>CD4+CD25+Foxp3+  cells</td>\n",
       "    </tr>\n",
       "    <tr>\n",
       "      <th>4</th>\n",
       "      <td>PMC1945037</td>\n",
       "      <td>247</td>\n",
       "      <td>254</td>\n",
       "      <td>CD4+ CD25high FoxP3high regulatory T cells</td>\n",
       "      <td>Treg</td>\n",
       "      <td>regulatory T</td>\n",
       "      <td>[CD4⁺(+), CD25⁺(high), FoxP3⁺(high), cells]</td>\n",
       "      <td>CD4+ CD25high FoxP3high  cells</td>\n",
       "    </tr>\n",
       "  </tbody>\n",
       "</table>\n",
       "</div>"
      ],
      "text/plain": [
       "           id  start_wrd  end_wrd  \\\n",
       "0  PMC1555646        196      200   \n",
       "1  PMC1867380       5134     5141   \n",
       "2  PMC1939810       6249     6254   \n",
       "3  PMC1940266        816      821   \n",
       "4  PMC1945037        247      254   \n",
       "\n",
       "                                                text cell_type  \\\n",
       "0                        human CD4+CD25+Foxp3+ Tregs      Treg   \n",
       "1  CD4+CD25+FoxP3+ IL-10–producing natural T regu...     nTreg   \n",
       "2        CD4+CD25highCD62L−Foxp3+ regulatory T cells      Treg   \n",
       "3                 CD4+CD25+Foxp3+ regulatory T cells      Treg   \n",
       "4         CD4+ CD25high FoxP3high regulatory T cells      Treg   \n",
       "\n",
       "         cell_type_text                                               ptkn  \\\n",
       "0                 Tregs              [human, CD4⁺(+), CD25⁺(+), Foxp3⁺(+)]   \n",
       "1  natural T regulatory  [CD4⁺(+), CD25⁺(+), FoxP3⁺(+), IL-10⁻(–), prod...   \n",
       "2          regulatory T  [CD4⁺(+), CD25⁺(high), CD62L⁻(−), Foxp3⁺(+), c...   \n",
       "3          regulatory T              [CD4⁺(+), CD25⁺(+), Foxp3⁺(+), cells]   \n",
       "4          regulatory T        [CD4⁺(+), CD25⁺(high), FoxP3⁺(high), cells]   \n",
       "\n",
       "                               clean_text  \n",
       "0                   human CD4+CD25+Foxp3+  \n",
       "1  CD4+CD25+FoxP3+ IL-10–producing  cells  \n",
       "2         CD4+CD25highCD62L−Foxp3+  cells  \n",
       "3                  CD4+CD25+Foxp3+  cells  \n",
       "4          CD4+ CD25high FoxP3high  cells  "
      ]
     },
     "execution_count": 3,
     "metadata": {},
     "output_type": "execute_result"
    }
   ],
   "source": [
    "df.head()"
   ]
  },
  {
   "cell_type": "code",
   "execution_count": 4,
   "metadata": {},
   "outputs": [],
   "source": [
    "from gensim.models import KeyedVectors\n",
    "with warnings.catch_warnings():\n",
    "    warnings.filterwarnings(\"ignore\", message='.*')\n",
    "    w2v = KeyedVectors.load_word2vec_format(W2V_MODEL_01, binary=True, limit=500000)"
   ]
  },
  {
   "cell_type": "code",
   "execution_count": 5,
   "metadata": {},
   "outputs": [
    {
     "data": {
      "text/plain": [
       "(500000, 200)"
      ]
     },
     "execution_count": 5,
     "metadata": {},
     "output_type": "execute_result"
    }
   ],
   "source": [
    "w2v.vectors.shape"
   ]
  },
  {
   "cell_type": "code",
   "execution_count": 6,
   "metadata": {},
   "outputs": [
    {
     "name": "stdout",
     "output_type": "stream",
     "text": [
      "CD4+CD45RA+CD45RO-4\n",
      "-\n",
      "1BB-CD62L+++CCR7loCD127posCD27positiveCD28hiCD95+TNF-α-CD122\n",
      "+\n"
     ]
    }
   ],
   "source": [
    "from tcre import integration\n",
    "nlp = integration.get_scispacy_pipeline()\n",
    "text = 'CD4+CD45RA+CD45RO-4-1BB-CD62L+++CCR7loCD127posCD27positiveCD28hiCD95+TNF-α-CD122+'\n",
    "for t in nlp(text):\n",
    "    print(t)"
   ]
  },
  {
   "cell_type": "code",
   "execution_count": 79,
   "metadata": {},
   "outputs": [],
   "source": [
    "def get_features(df, w2v, nlp, use_ptkn=False):\n",
    "    \n",
    "    def get_tokens(r):\n",
    "        if use_ptkn:\n",
    "            tkns = [((t.token_text or '') + (t.sign_text or '')) for t in r['ptkn']]\n",
    "        else:\n",
    "            tkns = list(nlp(r['clean_text']))\n",
    "        return tkns\n",
    "            \n",
    "        \n",
    "    oov = np.zeros(w2v.vectors.shape[1], dtype=w2v.vectors.dtype)\n",
    "    def get_vector(w):\n",
    "        return w2v.get_vector(w) if w in w2v else oov\n",
    "        \n",
    "    V = pd.Series([\n",
    "        np.stack([get_vector(t) for t in get_tokens(r)])\n",
    "        for i, r in df.iterrows()\n",
    "    ], index=df.index)\n",
    "    X = pd.DataFrame([\n",
    "        V[i].sum(axis=0) for i in range(len(V))], \n",
    "        index=df.index)\n",
    "    y = df['cell_type']\n",
    "    return V, X, y"
   ]
  },
  {
   "cell_type": "code",
   "execution_count": 80,
   "metadata": {},
   "outputs": [],
   "source": [
    "V, X, y = get_features(df, w2v, nlp, use_ptkn=True)"
   ]
  },
  {
   "cell_type": "code",
   "execution_count": 81,
   "metadata": {},
   "outputs": [
    {
     "data": {
      "text/plain": [
       "((2780, 200), (2780,))"
      ]
     },
     "execution_count": 81,
     "metadata": {},
     "output_type": "execute_result"
    }
   ],
   "source": [
    "X.shape, y.shape"
   ]
  },
  {
   "cell_type": "code",
   "execution_count": 82,
   "metadata": {},
   "outputs": [
    {
     "data": {
      "text/plain": [
       "iTreg      10\n",
       "Tscm       13\n",
       "TEMRA      28\n",
       "MAIT       29\n",
       "Treg1      37\n",
       "γδT        39\n",
       "nTreg      40\n",
       "Th2        46\n",
       "TEM        71\n",
       "TCM        73\n",
       "NKT        75\n",
       "Th1        78\n",
       "Th17      144\n",
       "Tfh       352\n",
       "Treg     1745\n",
       "Name: cell_type, dtype: int64"
      ]
     },
     "execution_count": 82,
     "metadata": {},
     "output_type": "execute_result"
    }
   ],
   "source": [
    "y.value_counts().sort_values()"
   ]
  },
  {
   "cell_type": "code",
   "execution_count": 83,
   "metadata": {},
   "outputs": [],
   "source": [
    "from xgboost import XGBClassifier\n",
    "from sklearn.ensemble import GradientBoostingClassifier\n",
    "from sklearn.neural_network import MLPClassifier\n",
    "from sklearn.svm import SVC\n",
    "from sklearn.linear_model import RidgeClassifierCV\n",
    "from sklearn.multiclass import OneVsRestClassifier\n",
    "from sklearn.pipeline import Pipeline\n",
    "from sklearn.model_selection import GridSearchCV\n",
    "from sklearn.preprocessing import StandardScaler\n",
    "from sklearn.model_selection import StratifiedKFold\n",
    "from sklearn.dummy import DummyClassifier\n",
    "from sklearn.metrics import accuracy_score, f1_score"
   ]
  },
  {
   "cell_type": "code",
   "execution_count": 94,
   "metadata": {},
   "outputs": [],
   "source": [
    "ests = {\n",
    "    'xgb': XGBClassifier(random_state=TCRE_SEED),\n",
    "    'gbr': GradientBoostingClassifier(random_state=TCRE_SEED),\n",
    "    'ridge': RidgeClassifierCV(normalize=True),\n",
    "    'mlp': Pipeline([\n",
    "        ('scale', StandardScaler()), \n",
    "        ('est', MLPClassifier(hidden_layer_sizes=(15,), random_state=TCRE_SEED, max_iter=2000))\n",
    "    ]),\n",
    "    'svc': Pipeline([\n",
    "        ('scale', StandardScaler()), \n",
    "        ('est', GridSearchCV(SVC(random_state=TCRE_SEED, gamma='auto'), {'C': [.01, .1, .5, 1., 5.]}))\n",
    "    ]),\n",
    "    'rnd-strat': DummyClassifier(strategy='stratified', random_state=TCRE_SEED),\n",
    "    'rnd-mfreq': DummyClassifier(strategy='most_frequent', random_state=TCRE_SEED),\n",
    "    'rnd-runif': DummyClassifier(strategy='uniform', random_state=TCRE_SEED),\n",
    "}"
   ]
  },
  {
   "cell_type": "code",
   "execution_count": null,
   "metadata": {},
   "outputs": [
    {
     "name": "stderr",
     "output_type": "stream",
     "text": [
      "\n",
      "  0%|          | 0/10 [00:00<?, ?it/s]\u001b[A"
     ]
    },
    {
     "name": "stdout",
     "output_type": "stream",
     "text": [
      "Fitting xgb ...\n"
     ]
    }
   ],
   "source": [
    "dfr = []\n",
    "\n",
    "def get_scores(y_true, y_pred):\n",
    "    return {\n",
    "        'micro-f1': f1_score(y_true, y_pred, average='micro'),\n",
    "        'macro-f1': f1_score(y_true, y_pred, average='macro'),\n",
    "        'accuracy': accuracy_score(y_true, y_pred)\n",
    "    }\n",
    "    \n",
    "for k in ests.keys():\n",
    "    print(f'Fitting {k} ...')\n",
    "    cv = StratifiedKFold(n_splits=10, shuffle=True, random_state=TCRE_SEED)\n",
    "    for i, (train, test) in tqdm.tqdm(list(enumerate(cv.split(X, y)))):\n",
    "        X_train, y_train = X.iloc[train], y.iloc[train]\n",
    "        X_test, y_test = X.iloc[test], y.iloc[test]\n",
    "        est = ests[k]\n",
    "        est.fit(X_train, y_train)\n",
    "        y_pred = est.predict(X_test)\n",
    "        dfr.append({**dict(est=est, est_name=k, fold=i, y_true=y_test, y_pred=y_pred), **get_scores(y_test, y_pred)})\n",
    "    print('Done')\n",
    "\n",
    "dfr = pd.DataFrame(dfr)\n",
    "dfr.head()"
   ]
  },
  {
   "cell_type": "code",
   "execution_count": 87,
   "metadata": {},
   "outputs": [
    {
     "data": {
      "text/html": [
       "<div>\n",
       "<style scoped>\n",
       "    .dataframe tbody tr th:only-of-type {\n",
       "        vertical-align: middle;\n",
       "    }\n",
       "\n",
       "    .dataframe tbody tr th {\n",
       "        vertical-align: top;\n",
       "    }\n",
       "\n",
       "    .dataframe thead th {\n",
       "        text-align: right;\n",
       "    }\n",
       "</style>\n",
       "<table border=\"1\" class=\"dataframe\">\n",
       "  <thead>\n",
       "    <tr style=\"text-align: right;\">\n",
       "      <th></th>\n",
       "      <th>est_name</th>\n",
       "      <th>fold</th>\n",
       "      <th>metric</th>\n",
       "      <th>value</th>\n",
       "    </tr>\n",
       "  </thead>\n",
       "  <tbody>\n",
       "    <tr>\n",
       "      <th>0</th>\n",
       "      <td>xgb</td>\n",
       "      <td>0</td>\n",
       "      <td>accuracy</td>\n",
       "      <td>0.818508</td>\n",
       "    </tr>\n",
       "    <tr>\n",
       "      <th>1</th>\n",
       "      <td>xgb</td>\n",
       "      <td>0</td>\n",
       "      <td>macro-f1</td>\n",
       "      <td>0.531433</td>\n",
       "    </tr>\n",
       "    <tr>\n",
       "      <th>2</th>\n",
       "      <td>xgb</td>\n",
       "      <td>0</td>\n",
       "      <td>micro-f1</td>\n",
       "      <td>0.818508</td>\n",
       "    </tr>\n",
       "    <tr>\n",
       "      <th>3</th>\n",
       "      <td>xgb</td>\n",
       "      <td>1</td>\n",
       "      <td>accuracy</td>\n",
       "      <td>0.821068</td>\n",
       "    </tr>\n",
       "    <tr>\n",
       "      <th>4</th>\n",
       "      <td>xgb</td>\n",
       "      <td>1</td>\n",
       "      <td>macro-f1</td>\n",
       "      <td>0.500637</td>\n",
       "    </tr>\n",
       "  </tbody>\n",
       "</table>\n",
       "</div>"
      ],
      "text/plain": [
       "  est_name  fold    metric     value\n",
       "0      xgb     0  accuracy  0.818508\n",
       "1      xgb     0  macro-f1  0.531433\n",
       "2      xgb     0  micro-f1  0.818508\n",
       "3      xgb     1  accuracy  0.821068\n",
       "4      xgb     1  macro-f1  0.500637"
      ]
     },
     "execution_count": 87,
     "metadata": {},
     "output_type": "execute_result"
    }
   ],
   "source": [
    "dfs = (\n",
    "    dfr\n",
    "    .drop(['est', 'y_pred', 'y_true'], axis=1)\n",
    "    .set_index(['est_name', 'fold'])\n",
    "    .rename_axis('metric', axis='columns').stack().rename('value')\n",
    "    .reset_index()\n",
    ")\n",
    "dfs.head()"
   ]
  },
  {
   "cell_type": "code",
   "execution_count": 93,
   "metadata": {},
   "outputs": [
    {
     "data": {
      "image/png": "[encoded data removed]",
      "text/plain": [
       "<Figure size 1600x500 with 3 Axes>"
      ]
     },
     "metadata": {},
     "output_type": "display_data"
    },
    {
     "data": {
      "text/plain": [
       "<ggplot: (8735202725608)>"
      ]
     },
     "execution_count": 93,
     "metadata": {},
     "output_type": "execute_result"
    }
   ],
   "source": [
    "(\n",
    "    pn.ggplot(\n",
    "        dfs\n",
    "            .assign(est_name=lambda df: pd.Categorical(\n",
    "                df['est_name'], ordered=True, \n",
    "                categories=df.groupby(['est_name', 'metric'])['value'].mean().unstack()['macro-f1'].sort_values().index\n",
    "            ))\n",
    "        , \n",
    "        pn.aes(x='est_name', y='value')\n",
    "    ) + \n",
    "    pn.geom_point() + \n",
    "    pn.facet_wrap('~ metric') + \n",
    "    pn.theme(figure_size=(16, 5), axis_text_x=pn.element_text(rotation=45, hjust=1))\n",
    ")"
   ]
  }
 ],
 "metadata": {
  "kernelspec": {
   "display_name": "Python 3",
   "language": "python",
   "name": "python3"
  },
  "language_info": {
   "codemirror_mode": {
    "name": "ipython",
    "version": 3
   },
   "file_extension": ".py",
   "mimetype": "text/x-python",
   "name": "python",
   "nbconvert_exporter": "python",
   "pygments_lexer": "ipython3",
   "version": "3.6.9"
  }
 },
 "nbformat": 4,
 "nbformat_minor": 4
}
