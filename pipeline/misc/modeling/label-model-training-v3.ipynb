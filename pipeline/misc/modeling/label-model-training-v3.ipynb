{
 "cells": [
  {
   "cell_type": "code",
   "execution_count": 1,
   "metadata": {},
   "outputs": [],
   "source": [
    "import os\n",
    "import tqdm\n",
    "import os.path as osp\n",
    "from tcre.env import *\n",
    "import itertools\n",
    "%run ../../../src/tcre/logging.py"
   ]
  },
  {
   "cell_type": "code",
   "execution_count": 2,
   "metadata": {},
   "outputs": [
    {
     "data": {
      "text/plain": [
       "['--marker-list=mult_01 --use-secondary --use-swaps --wrd-embedding-type=w2v_frozen --model-size=S --weight-decay=0',\n",
       " '--marker-list=mult_01 --use-secondary --use-swaps --wrd-embedding-type=w2v_frozen --model-size=S --weight-decay=0.005',\n",
       " '--marker-list=mult_01 --use-secondary --use-swaps --wrd-embedding-type=w2v_frozen --model-size=L --weight-decay=0',\n",
       " '--marker-list=mult_01 --use-secondary --use-swaps --wrd-embedding-type=w2v_frozen --model-size=L --weight-decay=0.005',\n",
       " '--marker-list=mult_01 --use-secondary --use-swaps --wrd-embedding-type=w2v_trained --model-size=S --weight-decay=0']"
      ]
     },
     "execution_count": 2,
     "metadata": {},
     "output_type": "execute_result"
    }
   ],
   "source": [
    "output_dir = osp.join(RESULTS_DATA_DIR, 'label-modeling-v3', 'run1')\n",
    "args = []\n",
    "for p in itertools.product(\n",
    "    ['mult_01', 'sngl_01', 'doub_01'], \n",
    "    [True, False],\n",
    "    [True, False],\n",
    "    ['w2v_frozen', 'w2v_trained', 'denovo'],\n",
    "    ['S', 'L'],\n",
    "    [0, .005]\n",
    "):\n",
    "    secondary = 'use-secondary' if p[1] else 'no-secondary'\n",
    "    swaps = 'use-swaps' if p[2] else 'no-swaps'\n",
    "    args.append(f\"--marker-list={p[0]} --{secondary} --{swaps} --wrd-embedding-type={p[3]} --model-size={p[4]} --weight-decay={p[5]}\")\n",
    "args[:5]"
   ]
  },
  {
   "cell_type": "code",
   "execution_count": 2,
   "metadata": {},
   "outputs": [
    {
     "data": {
      "text/plain": [
       "['--marker-list=mult_01 --no-secondary --use-swaps --wrd-embedding-type=w2v_frozen --model-size=L --weight-decay=0 --use-positions --dropout=0.0',\n",
       " '--marker-list=mult_01 --no-secondary --use-swaps --wrd-embedding-type=w2v_frozen --model-size=L --weight-decay=0 --use-positions --dropout=0.5',\n",
       " '--marker-list=mult_01 --no-secondary --use-swaps --wrd-embedding-type=w2v_frozen --model-size=L --weight-decay=0 --no-positions --dropout=0.0',\n",
       " '--marker-list=mult_01 --no-secondary --use-swaps --wrd-embedding-type=w2v_frozen --model-size=L --weight-decay=0 --no-positions --dropout=0.5',\n",
       " '--marker-list=mult_01 --no-secondary --use-swaps --wrd-embedding-type=w2v_frozen --model-size=L --weight-decay=0.001 --use-positions --dropout=0.0']"
      ]
     },
     "execution_count": 2,
     "metadata": {},
     "output_type": "execute_result"
    }
   ],
   "source": [
    "output_dir = osp.join(RESULTS_DATA_DIR, 'label-modeling-v3', 'run2')\n",
    "args = []\n",
    "for p in itertools.product(\n",
    "    ['mult_01', 'doub_01'], \n",
    "    [False],\n",
    "    [True],\n",
    "    ['w2v_frozen', 'w2v_trained'],\n",
    "    ['L', 'XL'],\n",
    "    [0, .001, .005],\n",
    "    [True, False],\n",
    "    [0.0, 0.5]\n",
    "):\n",
    "    secondary = 'use-secondary' if p[1] else 'no-secondary'\n",
    "    swaps = 'use-swaps' if p[2] else 'no-swaps'\n",
    "    positions = 'use-positions' if p[6] else 'no-positions'\n",
    "    args.append(f\"--marker-list={p[0]} --{secondary} --{swaps} --wrd-embedding-type={p[3]} --model-size={p[4]} --weight-decay={p[5]} --{positions} --dropout={p[7]}\")\n",
    "args[:5]"
   ]
  },
  {
   "cell_type": "code",
   "execution_count": 3,
   "metadata": {},
   "outputs": [
    {
     "name": "stderr",
     "output_type": "stream",
     "text": [
      "  0%|          | 0/288 [00:00<?, ?it/s]"
     ]
    },
    {
     "name": "stdout",
     "output_type": "stream",
     "text": [
      "Sample commands:\n",
      "python /lab/repos/t-cell-relation-extraction/src/tcre/exec/v1/train.py --relation-class=inducing_transcription_factor --device=\"cuda:1\" --output-dir=/lab/data/results/label-modeling-v3/run2/config_inducing_transcription_factor_0000 --marker-list=mult_01 --no-secondary --use-swaps --wrd-embedding-type=w2v_frozen --model-size=L --weight-decay=0 --use-positions --dropout=0.0 > /lab/data/results/label-modeling-v3/run2/config_inducing_transcription_factor_0000/log.txt 2>&1\n",
      "\n",
      "python /lab/repos/t-cell-relation-extraction/src/tcre/exec/v1/train.py --relation-class=inducing_transcription_factor --device=\"cuda:1\" --output-dir=/lab/data/results/label-modeling-v3/run2/config_inducing_transcription_factor_0001 --marker-list=mult_01 --no-secondary --use-swaps --wrd-embedding-type=w2v_frozen --model-size=L --weight-decay=0 --use-positions --dropout=0.5 > /lab/data/results/label-modeling-v3/run2/config_inducing_transcription_factor_0001/log.txt 2>&1\n",
      "\n",
      "python /lab/repos/t-cell-relation-extraction/src/tcre/exec/v1/train.py --relation-class=inducing_transcription_factor --device=\"cuda:1\" --output-dir=/lab/data/results/label-modeling-v3/run2/config_inducing_transcription_factor_0002 --marker-list=mult_01 --no-secondary --use-swaps --wrd-embedding-type=w2v_frozen --model-size=L --weight-decay=0 --no-positions --dropout=0.0 > /lab/data/results/label-modeling-v3/run2/config_inducing_transcription_factor_0002/log.txt 2>&1\n",
      "\n",
      "python /lab/repos/t-cell-relation-extraction/src/tcre/exec/v1/train.py --relation-class=inducing_transcription_factor --device=\"cuda:1\" --output-dir=/lab/data/results/label-modeling-v3/run2/config_inducing_transcription_factor_0003 --marker-list=mult_01 --no-secondary --use-swaps --wrd-embedding-type=w2v_frozen --model-size=L --weight-decay=0 --no-positions --dropout=0.5 > /lab/data/results/label-modeling-v3/run2/config_inducing_transcription_factor_0003/log.txt 2>&1\n",
      "\n",
      "python /lab/repos/t-cell-relation-extraction/src/tcre/exec/v1/train.py --relation-class=inducing_transcription_factor --device=\"cuda:1\" --output-dir=/lab/data/results/label-modeling-v3/run2/config_inducing_transcription_factor_0004 --marker-list=mult_01 --no-secondary --use-swaps --wrd-embedding-type=w2v_frozen --model-size=L --weight-decay=0.001 --use-positions --dropout=0.0 > /lab/data/results/label-modeling-v3/run2/config_inducing_transcription_factor_0004/log.txt 2>&1\n",
      "\n",
      "python /lab/repos/t-cell-relation-extraction/src/tcre/exec/v1/train.py --relation-class=inducing_transcription_factor --device=\"cuda:1\" --output-dir=/lab/data/results/label-modeling-v3/run2/config_inducing_transcription_factor_0005 --marker-list=mult_01 --no-secondary --use-swaps --wrd-embedding-type=w2v_frozen --model-size=L --weight-decay=0.001 --use-positions --dropout=0.5 > /lab/data/results/label-modeling-v3/run2/config_inducing_transcription_factor_0005/log.txt 2>&1\n",
      "\n",
      "python /lab/repos/t-cell-relation-extraction/src/tcre/exec/v1/train.py --relation-class=inducing_transcription_factor --device=\"cuda:1\" --output-dir=/lab/data/results/label-modeling-v3/run2/config_inducing_transcription_factor_0006 --marker-list=mult_01 --no-secondary --use-swaps --wrd-embedding-type=w2v_frozen --model-size=L --weight-decay=0.001 --no-positions --dropout=0.0 > /lab/data/results/label-modeling-v3/run2/config_inducing_transcription_factor_0006/log.txt 2>&1\n",
      "\n",
      "python /lab/repos/t-cell-relation-extraction/src/tcre/exec/v1/train.py --relation-class=inducing_transcription_factor --device=\"cuda:1\" --output-dir=/lab/data/results/label-modeling-v3/run2/config_inducing_transcription_factor_0007 --marker-list=mult_01 --no-secondary --use-swaps --wrd-embedding-type=w2v_frozen --model-size=L --weight-decay=0.001 --no-positions --dropout=0.5 > /lab/data/results/label-modeling-v3/run2/config_inducing_transcription_factor_0007/log.txt 2>&1\n",
      "\n",
      "python /lab/repos/t-cell-relation-extraction/src/tcre/exec/v1/train.py --relation-class=inducing_transcription_factor --device=\"cuda:1\" --output-dir=/lab/data/results/label-modeling-v3/run2/config_inducing_transcription_factor_0008 --marker-list=mult_01 --no-secondary --use-swaps --wrd-embedding-type=w2v_frozen --model-size=L --weight-decay=0.005 --use-positions --dropout=0.0 > /lab/data/results/label-modeling-v3/run2/config_inducing_transcription_factor_0008/log.txt 2>&1\n",
      "\n",
      "python /lab/repos/t-cell-relation-extraction/src/tcre/exec/v1/train.py --relation-class=inducing_transcription_factor --device=\"cuda:1\" --output-dir=/lab/data/results/label-modeling-v3/run2/config_inducing_transcription_factor_0009 --marker-list=mult_01 --no-secondary --use-swaps --wrd-embedding-type=w2v_frozen --model-size=L --weight-decay=0.005 --use-positions --dropout=0.5 > /lab/data/results/label-modeling-v3/run2/config_inducing_transcription_factor_0009/log.txt 2>&1\n",
      "\n"
     ]
    },
    {
     "name": "stderr",
     "output_type": "stream",
     "text": [
      "100%|██████████| 288/288 [1:54:22<00:00, 23.62s/it]\n"
     ]
    }
   ],
   "source": [
    "cmd_format = \"\"\"python /lab/repos/t-cell-relation-extraction/src/tcre/exec/v1/train.py \\\n",
    "--relation-class={relation_class} --device={device} --output-dir={output_dir} \\\n",
    "{args} > {log_file} 2>&1\n",
    "\"\"\"\n",
    "\n",
    "rc_types = ['inducing_transcription_factor', 'secreted_cytokine', 'inducing_cytokine']\n",
    "\n",
    "def get_cmd(rc, args, i):\n",
    "    out_dir = osp.join(output_dir, f'config_{rc}_{i:04d}')\n",
    "    log_file = osp.join(out_dir, f'log.txt')\n",
    "    if not osp.exists(out_dir):\n",
    "        os.makedirs(out_dir)\n",
    "    cmd = cmd_format.format(relation_class=rc, device='\"cuda:1\"', output_dir=out_dir, log_file=log_file, args=args)\n",
    "    return cmd\n",
    "    \n",
    "    \n",
    "cmds = [get_cmd(rc, arg, i) for rc in rc_types for i, arg in enumerate(args)]\n",
    "\n",
    "print('Sample commands:')\n",
    "for cmd in cmds[:10]:\n",
    "    print(cmd)\n",
    "\n",
    "for cmd in tqdm.tqdm(cmds):\n",
    "    rc = os.system(cmd)\n",
    "    if rc != 0:\n",
    "        raise ValueError(f'Return code {rc} (!=0) for command: {cmd}')"
   ]
  },
  {
   "cell_type": "code",
   "execution_count": null,
   "metadata": {},
   "outputs": [],
   "source": [
    "!python /lab/repos/t-cell-relation-extraction/src/tcre/exec/v1/train.py \\\n",
    "--relation-class=inducing_transcription_factor \\\n",
    "--marker-list=mult_01 \\\n",
    "--use-secondary \\\n",
    "--use-swaps \\\n",
    "--wrd-embedding-type=w2v_trained \\\n",
    "--model-size=L \\\n",
    "--weight-decay=.005 \\\n",
    "--device='cuda:1' \\\n",
    "--output-dir='/tmp/test'"
   ]
  },
  {
   "cell_type": "code",
   "execution_count": 97,
   "metadata": {},
   "outputs": [
    {
     "name": "stdout",
     "output_type": "stream",
     "text": [
      "config.json  history.json\n"
     ]
    }
   ],
   "source": [
    "!ls /tmp/test"
   ]
  }
 ],
 "metadata": {
  "kernelspec": {
   "display_name": "Python 3",
   "language": "python",
   "name": "python3"
  },
  "language_info": {
   "codemirror_mode": {
    "name": "ipython",
    "version": 3
   },
   "file_extension": ".py",
   "mimetype": "text/x-python",
   "name": "python",
   "nbconvert_exporter": "python",
   "pygments_lexer": "ipython3",
   "version": "3.6.8"
  }
 },
 "nbformat": 4,
 "nbformat_minor": 2
}
