{
 "cells": [
  {
   "cell_type": "code",
   "execution_count": 1,
   "metadata": {},
   "outputs": [],
   "source": [
    "import os\n",
    "import os.path as osp\n",
    "import pandas as pd\n",
    "import numpy as np\n",
    "from snorkel import SnorkelSession\n",
    "from tcre.env import *\n",
    "from tcre.supervision import *\n",
    "from tcre.modeling import utils\n",
    "from tcre.modeling import features\n",
    "%matplotlib inline\n",
    "session = SnorkelSession()\n",
    "classes = get_candidate_classes()"
   ]
  },
  {
   "cell_type": "code",
   "execution_count": 3,
   "metadata": {},
   "outputs": [
    {
     "data": {
      "text/plain": [
       "1025"
      ]
     },
     "execution_count": 3,
     "metadata": {},
     "output_type": "execute_result"
    }
   ],
   "source": [
    "from snorkel.models import Candidate, GoldLabel\n",
    "candidate_class = classes.inducing_cytokine\n",
    "cands = session.query(candidate_class.subclass)\\\n",
    "    .filter(candidate_class.subclass.split == SPLIT_DEV).all()\n",
    "len(cands)"
   ]
  },
  {
   "cell_type": "code",
   "execution_count": 4,
   "metadata": {},
   "outputs": [
    {
     "data": {
      "text/plain": [
       "<module 'tcre.modeling.features' from '/lab/repos/t-cell-relation-extraction/src/tcre/modeling/features.py'>"
      ]
     },
     "execution_count": 4,
     "metadata": {},
     "output_type": "execute_result"
    }
   ],
   "source": [
    "import imp\n",
    "imp.reload(features)"
   ]
  },
  {
   "cell_type": "code",
   "execution_count": 5,
   "metadata": {},
   "outputs": [],
   "source": [
    "# import spacy\n",
    "# nlp = spacy.load('en_core_sci_md')"
   ]
  },
  {
   "cell_type": "code",
   "execution_count": 6,
   "metadata": {},
   "outputs": [],
   "source": [
    "pd.set_option('display.max_colwidth', 250)\n",
    "# markers = {\n",
    "#     'primary': {'immune_cell_type': ['<<', '>>'], 'cytokine': ['[[', ']]'], 'transcription_factor': ['{{', '}}']},\n",
    "#     'secondary': {'immune_cell_type': ['<#', '#>'], 'cytokine': ['<%', '%>'], 'transcription_factor': ['<*', '*>']}\n",
    "# }\n",
    "# markers = {\n",
    "#     'primary': {'immune_cell_type': ['<', '>'], 'cytokine': ['[', ']'], 'transcription_factor': ['(', ')']},\n",
    "#     'secondary': {'immune_cell_type': ['*', '*'], 'cytokine': ['#', '#'], 'transcription_factor': ['%', '%']}\n",
    "# }\n",
    "markers = {\n",
    "    'primary': {'immune_cell_type': ['< #', '# >'], 'cytokine': ['< @', '@ >'], 'transcription_factor': ['< *', '* >']},\n",
    "    'secondary': {'immune_cell_type': ['| #', '# |'], 'cytokine': ['| @', '@ |'], 'transcription_factor': ['| *', '* |']}\n",
    "}\n",
    "# markers = {\n",
    "#     'primary': {'immune_cell_type': ['', ''], 'cytokine': ['', ''], 'transcription_factor': ['', '']},\n",
    "#     'secondary': {'immune_cell_type': ['|#', '#|'], 'cytokine': ['|@', '@|'], 'transcription_factor': ['|*', '*|']}\n",
    "# }\n",
    "# swaps = {\n",
    "#     'immune_cell_type': 'CELL',\n",
    "#     'cytokine': 'CYTOKINE',\n",
    "#     'transcription_factor': 'TF'\n",
    "# }\n",
    "swaps = None"
   ]
  },
  {
   "cell_type": "code",
   "execution_count": 7,
   "metadata": {
    "tags": [
     "summary.features"
    ]
   },
   "outputs": [
    {
     "name": "stderr",
     "output_type": "stream",
     "text": [
      "100%|██████████| 1025/1025 [00:04<00:00, 241.46it/s]\n"
     ]
    },
    {
     "data": {
      "text/html": [
       "<div>\n",
       "<style scoped>\n",
       "    .dataframe tbody tr th:only-of-type {\n",
       "        vertical-align: middle;\n",
       "    }\n",
       "\n",
       "    .dataframe tbody tr th {\n",
       "        vertical-align: top;\n",
       "    }\n",
       "\n",
       "    .dataframe thead th {\n",
       "        text-align: right;\n",
       "    }\n",
       "</style>\n",
       "<table border=\"1\" class=\"dataframe\">\n",
       "  <thead>\n",
       "    <tr style=\"text-align: right;\">\n",
       "      <th></th>\n",
       "      <th>id</th>\n",
       "      <th>label</th>\n",
       "      <th>e0_dist</th>\n",
       "      <th>e0_text</th>\n",
       "      <th>e1_dist</th>\n",
       "      <th>e1_text</th>\n",
       "      <th>tags</th>\n",
       "      <th>text</th>\n",
       "    </tr>\n",
       "  </thead>\n",
       "  <tbody>\n",
       "    <tr>\n",
       "      <th>0</th>\n",
       "      <td>12</td>\n",
       "      <td>0.0</td>\n",
       "      <td>[-35, -34, -33, -32, -31, -30, -29, -28, -27, -26, -26, -25, -24, -24, -23, -22, -21, -20, -19, -18, -17, -16, -15, -14, -13, -12, -11, -10, -9, -8, -7, -6, -5, -4, -3, -2, -1, -1, 0, 1, 1, 2, 3, 4, 5, 6, 7, 8, 9, 10, 11, 12, 13, 14, 15, 16, 17, ...</td>\n",
       "      <td>IL-21</td>\n",
       "      <td>[-10, -9, -8, -7, -6, -5, -4, -3, -2, -1, -1, 0, 1, 1, 2, 3, 4, 5, 6, 7, 8, 9, 10, 11, 12, 13, 14, 15, 16, 17, 18, 19, 20, 21, 22, 23, 24, 24, 25, 26, 26, 27, 28, 29, 30, 31, 32, 33, 34, 35, 36, 37, 38, 39, 40, 41, 42, 43, 44, 45, 46, 47]</td>\n",
       "      <td>Tfh</td>\n",
       "      <td>[O, O, O, O, O, O, O, O, O, O, O, E:primary:immune_cell_type, O, O, O, O, O, O, O, O, O, O, O, O, O, O, O, O, O, O, O, O, O, O, O, O, O, O, E:primary:cytokine, O, O, O, O, O, O, O, O, O, O, O, O, O, O, O, O, O, O, O, O, O, O, O]</td>\n",
       "      <td>[Using, human, monocyte-derived, DCs, ,, Schmitt, et, al., compared, &lt;, #, Tfh, #, &gt;, inducing, capacities, of, different, TLR, agonists, and, show, that, TLR4, ,, TLR5, ,, and, TLR7/8, ,, but, not, TLR2, ,, activation, induces, &lt;, @, IL-21, @, &gt;...</td>\n",
       "    </tr>\n",
       "    <tr>\n",
       "      <th>1</th>\n",
       "      <td>526</td>\n",
       "      <td>0.0</td>\n",
       "      <td>[-62, -61, -60, -59, -58, -57, -56, -55, -54, -53, -52, -51, -50, -49, -48, -48, -47, -46, -46, -45, -44, -43, -42, -41, -40, -39, -38, -37, -36, -35, -34, -33, -33, -32, -31, -31, -30, -29, -29, -28, -27, -27, -26, -25, -25, -24, -23, -23, -22, ...</td>\n",
       "      <td>IL-6</td>\n",
       "      <td>[-15, -14, -13, -12, -11, -10, -9, -8, -7, -6, -5, -4, -3, -2, -1, -1, 0, 1, 1, 2, 3, 4, 5, 6, 7, 8, 9, 10, 11, 12, 13, 14, 14, 15, 16, 16, 17, 18, 18, 19, 20, 20, 21, 22, 22, 23, 24, 24, 25, 26, 26, 27, 28, 28, 29, 30, 30, 31, 32, 32, 33, 34, 34...</td>\n",
       "      <td>EMT</td>\n",
       "      <td>[O, O, O, O, O, O, O, O, O, O, O, O, O, O, O, O, E:primary:immune_cell_type, O, O, O, O, O, O, O, O, O, O, O, O, O, O, O, O, E:secondary:cytokine, O, O, O, O, O, E:secondary:cytokine, O, O, O, O, O, E:secondary:cytokine, O, O, O, O, O, E:secondar...</td>\n",
       "      <td>[APCs, ,, antigen-presenting, cells, (, dendritic, cells, ,, macrophages, ,, and, monocytes, ), ;, &lt;, #, EMT, #, &gt;, ,, epithelial, –, mesenchymal, transition, ;, HSC, ,, hepatic, stellate, cell, ;, |, @, IL-1, @, |, ,, |, @, interleukin-1, @, |, ...</td>\n",
       "    </tr>\n",
       "    <tr>\n",
       "      <th>2</th>\n",
       "      <td>1312</td>\n",
       "      <td>0.0</td>\n",
       "      <td>[-76, -75, -74, -73, -72, -71, -70, -69, -68, -67, -66, -65, -64, -63, -62, -61, -60, -59, -58, -57, -56, -55, -54, -53, -52, -51, -50, -49, -48, -47, -46, -45, -44, -43, -42, -41, -40, -39, -38, -37, -36, -36, -35, -34, -34, -33, -32, -31, -30, ...</td>\n",
       "      <td>transforming growth factor</td>\n",
       "      <td>[-66, -65, -64, -63, -62, -61, -60, -59, -58, -57, -56, -55, -54, -53, -52, -51, -50, -49, -48, -47, -46, -45, -44, -43, -42, -41, -40, -39, -38, -37, -36, -35, -34, -33, -32, -31, -30, -29, -28, -27, -26, -26, -25, -24, -24, -23, -22, -21, -20, ...</td>\n",
       "      <td>T helper</td>\n",
       "      <td>[O, O, O, O, O, O, O, O, O, O, O, O, O, O, O, O, O, O, O, O, O, O, O, O, O, O, O, O, O, O, O, O, O, O, O, O, O, O, O, O, O, O, E:secondary:cytokine, O, O, O, O, O, O, O, O, O, O, O, O, O, O, O, O, O, O, O, O, O, E:secondary:immune_cell_type, O, O...</td>\n",
       "      <td>[BM-MSCs, ,, bone, marrow-derived, mesenchymal, stem, cells, ;, Bregs, ,, regulatory, B, cell, ;, CD, ,, Crohn, ’s, disease, ;, EAE, ,, experimental, autoimmune, encephalomyelitis, ;, GVHD, ,, graft-versus-host, diseases, ;, hUC-MSCs, ,, human, u...</td>\n",
       "    </tr>\n",
       "    <tr>\n",
       "      <th>3</th>\n",
       "      <td>2022</td>\n",
       "      <td>0.0</td>\n",
       "      <td>[-90, -89, -88, -87, -86, -85, -84, -83, -82, -81, -80, -79, -78, -77, -76, -75, -74, -73, -72, -71, -70, -69, -68, -68, -67, -66, -66, -65, -64, -64, -63, -62, -62, -61, -60, -60, -59, -58, -57, -56, -56, -55, -54, -53, -53, -52, -51, -51, -50, ...</td>\n",
       "      <td>IL-1β</td>\n",
       "      <td>[-38, -37, -36, -35, -34, -33, -32, -31, -30, -29, -28, -27, -26, -25, -24, -23, -22, -21, -20, -19, -18, -17, -16, -16, -15, -14, -14, -13, -12, -12, -11, -10, -10, -9, -8, -8, -7, -6, -5, -4, -4, -3, -2, -1, -1, 0, 1, 1, 2, 3, 3, 4, 5, 5, 6, 7,...</td>\n",
       "      <td>TH2</td>\n",
       "      <td>[O, O, O, O, O, O, O, O, O, O, O, O, O, O, O, O, O, O, O, O, O, O, O, O, E:secondary:immune_cell_type, O, O, O, O, O, E:secondary:cytokine, O, O, O, O, O, E:secondary:cytokine, E:secondary:cytokine, E:secondary:cytokine, O, O, O, O, O, O, E:prima...</td>\n",
       "      <td>[In, cultures, from, 20-, to, 24-week-old, Winnie, mice, ,, there, was, a, highly, significant, increase, (, P&lt;0.01, ), in, the, production, of, |, #, TH1, #, |, (, |, @, IL-12p70, @, |, and, |, @, tumor, necrosis, factor-α, @, |, ), ,, &lt;, #, TH2...</td>\n",
       "    </tr>\n",
       "    <tr>\n",
       "      <th>4</th>\n",
       "      <td>2188</td>\n",
       "      <td>0.0</td>\n",
       "      <td>[-29, -28, -27, -26, -25, -24, -23, -22, -21, -20, -19, -18, -17, -17, -16, -15, -15, -14, -13, -12, -11, -10, -9, -8, -7, -7, -6, -5, -5, -4, -3, -2, -1, -1, 0, 1, 1, 2, 3, 3, 4, 5, 5, 6, 7, 8, 8, 9, 10, 10, 11, 12, 13, 14]</td>\n",
       "      <td>IL-6</td>\n",
       "      <td>[-23, -22, -21, -20, -19, -18, -17, -16, -15, -14, -13, -12, -11, -11, -10, -9, -9, -8, -7, -6, -5, -4, -3, -2, -1, -1, 0, 1, 1, 2, 3, 4, 5, 5, 6, 7, 7, 8, 9, 9, 10, 11, 11, 12, 13, 14, 14, 15, 16, 16, 17, 18, 19, 20]</td>\n",
       "      <td>Th2</td>\n",
       "      <td>[O, O, O, O, O, O, O, O, O, O, O, O, O, O, E:secondary:immune_cell_type, O, O, O, O, O, O, O, O, O, O, O, E:primary:immune_cell_type, O, O, O, O, O, O, O, E:primary:cytokine, O, O, O, O, O, E:secondary:cytokine, O, O, O, O, O, O, E:secondary:cyto...</td>\n",
       "      <td>[HPV-related, lesions, were, found, to, be, characterized, by, weak, or, absent, IFNγ-associated, |, #, Th1, #, |, cell, responses, and, by, an, upregulation, of, &lt;, #, Th2, #, &gt;, cytokines, (, including, &lt;, @, IL-6, @, &gt;, ,, |, @, IL-8, @, |, ,,...</td>\n",
       "    </tr>\n",
       "  </tbody>\n",
       "</table>\n",
       "</div>"
      ],
      "text/plain": [
       "     id  label  \\\n",
       "0    12    0.0   \n",
       "1   526    0.0   \n",
       "2  1312    0.0   \n",
       "3  2022    0.0   \n",
       "4  2188    0.0   \n",
       "\n",
       "                                                                                                                                                                                                                                                     e0_dist  \\\n",
       "0  [-35, -34, -33, -32, -31, -30, -29, -28, -27, -26, -26, -25, -24, -24, -23, -22, -21, -20, -19, -18, -17, -16, -15, -14, -13, -12, -11, -10, -9, -8, -7, -6, -5, -4, -3, -2, -1, -1, 0, 1, 1, 2, 3, 4, 5, 6, 7, 8, 9, 10, 11, 12, 13, 14, 15, 16, 17, ...   \n",
       "1  [-62, -61, -60, -59, -58, -57, -56, -55, -54, -53, -52, -51, -50, -49, -48, -48, -47, -46, -46, -45, -44, -43, -42, -41, -40, -39, -38, -37, -36, -35, -34, -33, -33, -32, -31, -31, -30, -29, -29, -28, -27, -27, -26, -25, -25, -24, -23, -23, -22, ...   \n",
       "2  [-76, -75, -74, -73, -72, -71, -70, -69, -68, -67, -66, -65, -64, -63, -62, -61, -60, -59, -58, -57, -56, -55, -54, -53, -52, -51, -50, -49, -48, -47, -46, -45, -44, -43, -42, -41, -40, -39, -38, -37, -36, -36, -35, -34, -34, -33, -32, -31, -30, ...   \n",
       "3  [-90, -89, -88, -87, -86, -85, -84, -83, -82, -81, -80, -79, -78, -77, -76, -75, -74, -73, -72, -71, -70, -69, -68, -68, -67, -66, -66, -65, -64, -64, -63, -62, -62, -61, -60, -60, -59, -58, -57, -56, -56, -55, -54, -53, -53, -52, -51, -51, -50, ...   \n",
       "4                           [-29, -28, -27, -26, -25, -24, -23, -22, -21, -20, -19, -18, -17, -17, -16, -15, -15, -14, -13, -12, -11, -10, -9, -8, -7, -7, -6, -5, -5, -4, -3, -2, -1, -1, 0, 1, 1, 2, 3, 3, 4, 5, 5, 6, 7, 8, 8, 9, 10, 10, 11, 12, 13, 14]   \n",
       "\n",
       "                      e0_text  \\\n",
       "0                       IL-21   \n",
       "1                        IL-6   \n",
       "2  transforming growth factor   \n",
       "3                       IL-1β   \n",
       "4                        IL-6   \n",
       "\n",
       "                                                                                                                                                                                                                                                     e1_dist  \\\n",
       "0             [-10, -9, -8, -7, -6, -5, -4, -3, -2, -1, -1, 0, 1, 1, 2, 3, 4, 5, 6, 7, 8, 9, 10, 11, 12, 13, 14, 15, 16, 17, 18, 19, 20, 21, 22, 23, 24, 24, 25, 26, 26, 27, 28, 29, 30, 31, 32, 33, 34, 35, 36, 37, 38, 39, 40, 41, 42, 43, 44, 45, 46, 47]   \n",
       "1  [-15, -14, -13, -12, -11, -10, -9, -8, -7, -6, -5, -4, -3, -2, -1, -1, 0, 1, 1, 2, 3, 4, 5, 6, 7, 8, 9, 10, 11, 12, 13, 14, 14, 15, 16, 16, 17, 18, 18, 19, 20, 20, 21, 22, 22, 23, 24, 24, 25, 26, 26, 27, 28, 28, 29, 30, 30, 31, 32, 32, 33, 34, 34...   \n",
       "2  [-66, -65, -64, -63, -62, -61, -60, -59, -58, -57, -56, -55, -54, -53, -52, -51, -50, -49, -48, -47, -46, -45, -44, -43, -42, -41, -40, -39, -38, -37, -36, -35, -34, -33, -32, -31, -30, -29, -28, -27, -26, -26, -25, -24, -24, -23, -22, -21, -20, ...   \n",
       "3  [-38, -37, -36, -35, -34, -33, -32, -31, -30, -29, -28, -27, -26, -25, -24, -23, -22, -21, -20, -19, -18, -17, -16, -16, -15, -14, -14, -13, -12, -12, -11, -10, -10, -9, -8, -8, -7, -6, -5, -4, -4, -3, -2, -1, -1, 0, 1, 1, 2, 3, 3, 4, 5, 5, 6, 7,...   \n",
       "4                                  [-23, -22, -21, -20, -19, -18, -17, -16, -15, -14, -13, -12, -11, -11, -10, -9, -9, -8, -7, -6, -5, -4, -3, -2, -1, -1, 0, 1, 1, 2, 3, 4, 5, 5, 6, 7, 7, 8, 9, 9, 10, 11, 11, 12, 13, 14, 14, 15, 16, 16, 17, 18, 19, 20]   \n",
       "\n",
       "    e1_text  \\\n",
       "0       Tfh   \n",
       "1       EMT   \n",
       "2  T helper   \n",
       "3       TH2   \n",
       "4       Th2   \n",
       "\n",
       "                                                                                                                                                                                                                                                        tags  \\\n",
       "0                       [O, O, O, O, O, O, O, O, O, O, O, E:primary:immune_cell_type, O, O, O, O, O, O, O, O, O, O, O, O, O, O, O, O, O, O, O, O, O, O, O, O, O, O, E:primary:cytokine, O, O, O, O, O, O, O, O, O, O, O, O, O, O, O, O, O, O, O, O, O, O, O]   \n",
       "1  [O, O, O, O, O, O, O, O, O, O, O, O, O, O, O, O, E:primary:immune_cell_type, O, O, O, O, O, O, O, O, O, O, O, O, O, O, O, O, E:secondary:cytokine, O, O, O, O, O, E:secondary:cytokine, O, O, O, O, O, E:secondary:cytokine, O, O, O, O, O, E:secondar...   \n",
       "2  [O, O, O, O, O, O, O, O, O, O, O, O, O, O, O, O, O, O, O, O, O, O, O, O, O, O, O, O, O, O, O, O, O, O, O, O, O, O, O, O, O, O, E:secondary:cytokine, O, O, O, O, O, O, O, O, O, O, O, O, O, O, O, O, O, O, O, O, O, E:secondary:immune_cell_type, O, O...   \n",
       "3  [O, O, O, O, O, O, O, O, O, O, O, O, O, O, O, O, O, O, O, O, O, O, O, O, E:secondary:immune_cell_type, O, O, O, O, O, E:secondary:cytokine, O, O, O, O, O, E:secondary:cytokine, E:secondary:cytokine, E:secondary:cytokine, O, O, O, O, O, O, E:prima...   \n",
       "4  [O, O, O, O, O, O, O, O, O, O, O, O, O, O, E:secondary:immune_cell_type, O, O, O, O, O, O, O, O, O, O, O, E:primary:immune_cell_type, O, O, O, O, O, O, O, E:primary:cytokine, O, O, O, O, O, E:secondary:cytokine, O, O, O, O, O, O, E:secondary:cyto...   \n",
       "\n",
       "                                                                                                                                                                                                                                                        text  \n",
       "0  [Using, human, monocyte-derived, DCs, ,, Schmitt, et, al., compared, <, #, Tfh, #, >, inducing, capacities, of, different, TLR, agonists, and, show, that, TLR4, ,, TLR5, ,, and, TLR7/8, ,, but, not, TLR2, ,, activation, induces, <, @, IL-21, @, >...  \n",
       "1  [APCs, ,, antigen-presenting, cells, (, dendritic, cells, ,, macrophages, ,, and, monocytes, ), ;, <, #, EMT, #, >, ,, epithelial, –, mesenchymal, transition, ;, HSC, ,, hepatic, stellate, cell, ;, |, @, IL-1, @, |, ,, |, @, interleukin-1, @, |, ...  \n",
       "2  [BM-MSCs, ,, bone, marrow-derived, mesenchymal, stem, cells, ;, Bregs, ,, regulatory, B, cell, ;, CD, ,, Crohn, ’s, disease, ;, EAE, ,, experimental, autoimmune, encephalomyelitis, ;, GVHD, ,, graft-versus-host, diseases, ;, hUC-MSCs, ,, human, u...  \n",
       "3  [In, cultures, from, 20-, to, 24-week-old, Winnie, mice, ,, there, was, a, highly, significant, increase, (, P<0.01, ), in, the, production, of, |, #, TH1, #, |, (, |, @, IL-12p70, @, |, and, |, @, tumor, necrosis, factor-α, @, |, ), ,, <, #, TH2...  \n",
       "4  [HPV-related, lesions, were, found, to, be, characterized, by, weak, or, absent, IFNγ-associated, |, #, Th1, #, |, cell, responses, and, by, an, upregulation, of, <, #, Th2, #, >, cytokines, (, including, <, @, IL-6, @, >, ,, |, @, IL-8, @, |, ,,...  "
      ]
     },
     "execution_count": 7,
     "metadata": {},
     "output_type": "execute_result"
    }
   ],
   "source": [
    "df = features.get_record_features(\n",
    "    features.candidates_to_records(cands), markers=markers, swaps=swaps, \n",
    "    subtokenizer=lambda t: t.split(), lower=False, assert_unique=False\n",
    ").rename(columns={'tokens': 'text'})\n",
    "df.head()"
   ]
  },
  {
   "cell_type": "code",
   "execution_count": 8,
   "metadata": {},
   "outputs": [],
   "source": [
    "from tcre.modeling import data as tcre_data\n",
    "from torchtext import data as txd\n",
    "from torchtext.vocab import Vocab\n",
    "from collections import defaultdict, Counter\n",
    "\n",
    "DIST_PAD_VAL = features.MAX_POS_DIST + 1\n",
    "SEQ_LEN = 128\n",
    "fields = {\n",
    "    'text': txd.Field(sequential=True, lower=False, fix_length=SEQ_LEN, include_lengths=True),\n",
    "    'label': txd.Field(sequential=False),\n",
    "    'e0_dist': txd.Field(sequential=True, use_vocab=False, pad_token=DIST_PAD_VAL, fix_length=SEQ_LEN),\n",
    "    'e1_dist': txd.Field(sequential=True, use_vocab=False, pad_token=DIST_PAD_VAL, fix_length=SEQ_LEN),\n",
    "    'id': txd.Field(sequential=False, use_vocab=False)\n",
    "}\n",
    "        \n",
    "ds = tcre_data.DataFrameDataset(df, fields)\n",
    "for k, f in fields.items():\n",
    "    if k in ['label', 'text']:\n",
    "        fields[k].build_vocab(ds)"
   ]
  },
  {
   "cell_type": "code",
   "execution_count": 9,
   "metadata": {},
   "outputs": [
    {
     "data": {
      "text/html": [
       "<div>\n",
       "<style scoped>\n",
       "    .dataframe tbody tr th:only-of-type {\n",
       "        vertical-align: middle;\n",
       "    }\n",
       "\n",
       "    .dataframe tbody tr th {\n",
       "        vertical-align: top;\n",
       "    }\n",
       "\n",
       "    .dataframe thead th {\n",
       "        text-align: right;\n",
       "    }\n",
       "</style>\n",
       "<table border=\"1\" class=\"dataframe\">\n",
       "  <thead>\n",
       "    <tr style=\"text-align: right;\">\n",
       "      <th></th>\n",
       "      <th>label</th>\n",
       "      <th>label</th>\n",
       "    </tr>\n",
       "  </thead>\n",
       "  <tbody>\n",
       "    <tr>\n",
       "      <th>0.0</th>\n",
       "      <td>880</td>\n",
       "      <td>0.858537</td>\n",
       "    </tr>\n",
       "    <tr>\n",
       "      <th>1.0</th>\n",
       "      <td>145</td>\n",
       "      <td>0.141463</td>\n",
       "    </tr>\n",
       "  </tbody>\n",
       "</table>\n",
       "</div>"
      ],
      "text/plain": [
       "     label     label\n",
       "0.0    880  0.858537\n",
       "1.0    145  0.141463"
      ]
     },
     "execution_count": 9,
     "metadata": {},
     "output_type": "execute_result"
    }
   ],
   "source": [
    "pd.concat([df['label'].value_counts(), df['label'].value_counts(normalize=True)], axis=1)"
   ]
  },
  {
   "cell_type": "code",
   "execution_count": 10,
   "metadata": {},
   "outputs": [
    {
     "name": "stderr",
     "output_type": "stream",
     "text": [
      "/opt/conda/envs/nlp/lib/python3.6/site-packages/smart_open/smart_open_lib.py:398: UserWarning: This function is deprecated, use smart_open.open instead. See the migration notes for details: https://github.com/RaRe-Technologies/smart_open/blob/master/README.rst#migrating-to-the-new-open-function\n",
      "  'See the migration notes for details: %s' % _MIGRATION_NOTES_URL\n"
     ]
    }
   ],
   "source": [
    "from gensim.models import KeyedVectors\n",
    "\n",
    "# Load pretrained model (since intermediate data is not included, the model cannot be refined with additional data)\n",
    "w2vmodel = KeyedVectors.load_word2vec_format(W2V_MODEL_01, binary=True, limit=50000)"
   ]
  },
  {
   "cell_type": "code",
   "execution_count": 11,
   "metadata": {},
   "outputs": [
    {
     "data": {
      "text/plain": [
       "50000"
      ]
     },
     "execution_count": 11,
     "metadata": {},
     "output_type": "execute_result"
    }
   ],
   "source": [
    "len(w2vmodel.vocab)"
   ]
  },
  {
   "cell_type": "code",
   "execution_count": 12,
   "metadata": {},
   "outputs": [],
   "source": [
    "import torch\n",
    "import numpy as np\n",
    "from torchtext.vocab import Vocab\n",
    "from collections import defaultdict, Counter\n",
    "    \n",
    "class W2VVocab(Vocab):\n",
    "\n",
    "    def __init__(self, model):\n",
    "        super().__init__(Counter())\n",
    "        specials = ['<pad>']\n",
    "        self.itos = specials + list(model.vocab.keys())\n",
    "\n",
    "        # Use zero vector for unk as well as pad\n",
    "        def get_unk_index():\n",
    "            return 0\n",
    "        self.stoi = defaultdict(get_unk_index)\n",
    "        self.stoi.update({w: i for i, w in enumerate(self.itos)})\n",
    "\n",
    "        if len(self.itos) != len(self.stoi):\n",
    "            raise ValueError(\n",
    "                f'W2V vocab has repeated words (probably due to unicode normalization) '\n",
    "                f'(len(itos) = {len(itos)}, len(stoi) = {len(stoi)}')\n",
    "        self.vectors = torch.cat([\n",
    "            torch.FloatTensor(np.zeros((len(specials), model.vectors.shape[1]))),\n",
    "            torch.FloatTensor(model.vectors)\n",
    "        ], dim=0)\n",
    "\n",
    "        \n",
    "# class IntegerVocab(Vocab):\n",
    "    \n",
    "#     def __init__(self, int_range, specials=['<pad>']):\n",
    "#         super().__init__(Counter())\n",
    "#         self.itos = specials + list(range(int_range[0], int_range[1]+1))\n",
    "#         self.stoi = {w: i for i, w in enumerate(self.itos)}\n",
    "#         self.vectors = None\n",
    "        \n",
    "w2vocab = W2VVocab(w2vmodel)"
   ]
  },
  {
   "cell_type": "code",
   "execution_count": 13,
   "metadata": {},
   "outputs": [],
   "source": [
    "fields['text'].vocab = w2vocab"
   ]
  },
  {
   "cell_type": "code",
   "execution_count": 14,
   "metadata": {},
   "outputs": [
    {
     "data": {
      "text/plain": [
       "(50001, 50000)"
      ]
     },
     "execution_count": 14,
     "metadata": {},
     "output_type": "execute_result"
    }
   ],
   "source": [
    "len(fields['text'].vocab), len(w2vmodel.vocab)"
   ]
  },
  {
   "cell_type": "code",
   "execution_count": 26,
   "metadata": {},
   "outputs": [],
   "source": [
    "# ds = txd.TabularDataset('/tmp/data.csv', fields=[('text', TEXT), ('label', LABEL)], format='csv', skip_header=True)\n",
    "# LABEL.build_vocab(ds)"
   ]
  },
  {
   "cell_type": "code",
   "execution_count": 15,
   "metadata": {},
   "outputs": [],
   "source": [
    "ds_train, ds_val = ds.split(stratified=True, strata_field='label')"
   ]
  },
  {
   "cell_type": "code",
   "execution_count": 16,
   "metadata": {},
   "outputs": [
    {
     "data": {
      "text/plain": [
       "(718, 307)"
      ]
     },
     "execution_count": 16,
     "metadata": {},
     "output_type": "execute_result"
    }
   ],
   "source": [
    "len(ds_train), len(ds_val)"
   ]
  },
  {
   "cell_type": "code",
   "execution_count": 17,
   "metadata": {},
   "outputs": [
    {
     "data": {
      "text/plain": [
       "(0.0    264\n",
       " 1.0     43\n",
       " dtype: int64, 0.0    616\n",
       " 1.0    102\n",
       " dtype: int64)"
      ]
     },
     "execution_count": 17,
     "metadata": {},
     "output_type": "execute_result"
    }
   ],
   "source": [
    "pd.Series(list(ds_val.label)).value_counts(), pd.Series(list(ds_train.label)).value_counts()"
   ]
  },
  {
   "cell_type": "code",
   "execution_count": 36,
   "metadata": {},
   "outputs": [],
   "source": [
    "# Compare single example to numeric features\n",
    "# from torchtext.data import Iterator\n",
    "# ds.examples[0].text\n",
    "# b = next(iter(Iterator(ds, 3, shuffle=False)))\n",
    "# b.text[0].t()\n",
    "#b.e1_dist.t()"
   ]
  },
  {
   "cell_type": "code",
   "execution_count": 34,
   "metadata": {},
   "outputs": [],
   "source": [
    "from torchtext.data import BucketIterator\n",
    "train_iter, val_iter, test_iter = BucketIterator.splits(\n",
    "    (ds_train, ds_val, ds_val), \n",
    "    batch_sizes=(32, 32, 32),\n",
    "    sort_key=lambda x: len(x.text), \n",
    "    sort=True,\n",
    "    sort_within_batch=True,\n",
    "    repeat=False,\n",
    "    shuffle=False\n",
    ")\n",
    "#ds_iter = txd.Iterator(ds, 10, sort_within_batch=True, sort_key=lambda x: len(x.text), device='cuda')"
   ]
  },
  {
   "cell_type": "code",
   "execution_count": 57,
   "metadata": {},
   "outputs": [
    {
     "data": {
      "text/html": [
       "<div>\n",
       "<style scoped>\n",
       "    .dataframe tbody tr th:only-of-type {\n",
       "        vertical-align: middle;\n",
       "    }\n",
       "\n",
       "    .dataframe tbody tr th {\n",
       "        vertical-align: top;\n",
       "    }\n",
       "\n",
       "    .dataframe thead th {\n",
       "        text-align: right;\n",
       "    }\n",
       "</style>\n",
       "<table border=\"1\" class=\"dataframe\">\n",
       "  <thead>\n",
       "    <tr style=\"text-align: right;\">\n",
       "      <th></th>\n",
       "      <th>0</th>\n",
       "      <th>1</th>\n",
       "      <th>2</th>\n",
       "      <th>3</th>\n",
       "      <th>4</th>\n",
       "      <th>5</th>\n",
       "      <th>6</th>\n",
       "      <th>7</th>\n",
       "      <th>8</th>\n",
       "      <th>9</th>\n",
       "      <th>...</th>\n",
       "      <th>120</th>\n",
       "      <th>121</th>\n",
       "      <th>122</th>\n",
       "      <th>123</th>\n",
       "      <th>124</th>\n",
       "      <th>125</th>\n",
       "      <th>126</th>\n",
       "      <th>127</th>\n",
       "      <th>id</th>\n",
       "      <th>label</th>\n",
       "    </tr>\n",
       "  </thead>\n",
       "  <tbody>\n",
       "    <tr>\n",
       "      <th>0</th>\n",
       "      <td>4104</td>\n",
       "      <td>3</td>\n",
       "      <td>46</td>\n",
       "      <td>36</td>\n",
       "      <td>275</td>\n",
       "      <td>18</td>\n",
       "      <td>87</td>\n",
       "      <td>35310</td>\n",
       "      <td>2010</td>\n",
       "      <td>35310</td>\n",
       "      <td>...</td>\n",
       "      <td>0</td>\n",
       "      <td>0</td>\n",
       "      <td>0</td>\n",
       "      <td>0</td>\n",
       "      <td>0</td>\n",
       "      <td>0</td>\n",
       "      <td>0</td>\n",
       "      <td>0</td>\n",
       "      <td>75824</td>\n",
       "      <td>2</td>\n",
       "    </tr>\n",
       "    <tr>\n",
       "      <th>1</th>\n",
       "      <td>87</td>\n",
       "      <td>2979</td>\n",
       "      <td>9082</td>\n",
       "      <td>2979</td>\n",
       "      <td>199</td>\n",
       "      <td>31</td>\n",
       "      <td>24</td>\n",
       "      <td>2155</td>\n",
       "      <td>0</td>\n",
       "      <td>3</td>\n",
       "      <td>...</td>\n",
       "      <td>0</td>\n",
       "      <td>0</td>\n",
       "      <td>0</td>\n",
       "      <td>0</td>\n",
       "      <td>0</td>\n",
       "      <td>0</td>\n",
       "      <td>0</td>\n",
       "      <td>0</td>\n",
       "      <td>8035</td>\n",
       "      <td>1</td>\n",
       "    </tr>\n",
       "    <tr>\n",
       "      <th>2</th>\n",
       "      <td>149</td>\n",
       "      <td>4133</td>\n",
       "      <td>2</td>\n",
       "      <td>150</td>\n",
       "      <td>5</td>\n",
       "      <td>87</td>\n",
       "      <td>35310</td>\n",
       "      <td>3398</td>\n",
       "      <td>35310</td>\n",
       "      <td>199</td>\n",
       "      <td>...</td>\n",
       "      <td>0</td>\n",
       "      <td>0</td>\n",
       "      <td>0</td>\n",
       "      <td>0</td>\n",
       "      <td>0</td>\n",
       "      <td>0</td>\n",
       "      <td>0</td>\n",
       "      <td>0</td>\n",
       "      <td>75971</td>\n",
       "      <td>1</td>\n",
       "    </tr>\n",
       "    <tr>\n",
       "      <th>3</th>\n",
       "      <td>60</td>\n",
       "      <td>2018</td>\n",
       "      <td>1960</td>\n",
       "      <td>21</td>\n",
       "      <td>2</td>\n",
       "      <td>150</td>\n",
       "      <td>5</td>\n",
       "      <td>87</td>\n",
       "      <td>35310</td>\n",
       "      <td>3398</td>\n",
       "      <td>...</td>\n",
       "      <td>0</td>\n",
       "      <td>0</td>\n",
       "      <td>0</td>\n",
       "      <td>0</td>\n",
       "      <td>0</td>\n",
       "      <td>0</td>\n",
       "      <td>0</td>\n",
       "      <td>0</td>\n",
       "      <td>75954</td>\n",
       "      <td>1</td>\n",
       "    </tr>\n",
       "    <tr>\n",
       "      <th>4</th>\n",
       "      <td>149</td>\n",
       "      <td>4133</td>\n",
       "      <td>2</td>\n",
       "      <td>150</td>\n",
       "      <td>5</td>\n",
       "      <td>87</td>\n",
       "      <td>35310</td>\n",
       "      <td>3398</td>\n",
       "      <td>35310</td>\n",
       "      <td>199</td>\n",
       "      <td>...</td>\n",
       "      <td>0</td>\n",
       "      <td>0</td>\n",
       "      <td>0</td>\n",
       "      <td>0</td>\n",
       "      <td>0</td>\n",
       "      <td>0</td>\n",
       "      <td>0</td>\n",
       "      <td>0</td>\n",
       "      <td>75970</td>\n",
       "      <td>1</td>\n",
       "    </tr>\n",
       "  </tbody>\n",
       "</table>\n",
       "<p>5 rows × 130 columns</p>\n",
       "</div>"
      ],
      "text/plain": [
       "      0     1     2     3    4    5      6      7      8      9  ...  120  \\\n",
       "0  4104     3    46    36  275   18     87  35310   2010  35310  ...    0   \n",
       "1    87  2979  9082  2979  199   31     24   2155      0      3  ...    0   \n",
       "2   149  4133     2   150    5   87  35310   3398  35310    199  ...    0   \n",
       "3    60  2018  1960    21    2  150      5     87  35310   3398  ...    0   \n",
       "4   149  4133     2   150    5   87  35310   3398  35310    199  ...    0   \n",
       "\n",
       "   121  122  123  124  125  126  127     id  label  \n",
       "0    0    0    0    0    0    0    0  75824      2  \n",
       "1    0    0    0    0    0    0    0   8035      1  \n",
       "2    0    0    0    0    0    0    0  75971      1  \n",
       "3    0    0    0    0    0    0    0  75954      1  \n",
       "4    0    0    0    0    0    0    0  75970      1  \n",
       "\n",
       "[5 rows x 130 columns]"
      ]
     },
     "execution_count": 57,
     "metadata": {},
     "output_type": "execute_result"
    }
   ],
   "source": [
    "# Create dataframe with sequential features (padded to 128 columns) as well as label and id (useful for debugging)\n",
    "def getiterdf(iterator):\n",
    "    args = [(b.text[0].t().detach().numpy(), b.id.detach().numpy(), b.label.detach().numpy()) for b in iterator]\n",
    "    df = pd.DataFrame(np.concatenate([a[0] for a in args], axis=0))\n",
    "    df['id'] = np.concatenate([a[1] for a in args], axis=0)\n",
    "    df['label'] = np.concatenate([a[2] for a in args], axis=0)\n",
    "    return df\n",
    "\n",
    "dftmp = getiterdf(train_iter)\n",
    "dftmp.head()"
   ]
  },
  {
   "cell_type": "code",
   "execution_count": 19,
   "metadata": {},
   "outputs": [],
   "source": [
    "b = next(iter(train_iter))"
   ]
  },
  {
   "cell_type": "code",
   "execution_count": 136,
   "metadata": {},
   "outputs": [
    {
     "data": {
      "text/plain": [
       "array([   60,   107, 46319,   801,    12, 33393,     5,     0,    27,\n",
       "           2,    87, 35310,  8697, 35310,   199,  1659,     7,     0,\n",
       "          87,  2979,  6594,  2979,   199,     3,    63,  4644,  2401,\n",
       "         763,    29,   982,   403,   492,     5,     2,    94,     4,\n",
       "           0,     0,     0,     0,     0,     0,     0,     0,     0,\n",
       "           0,     0,     0,     0,     0,     0,     0,     0,     0,\n",
       "           0,     0,     0,     0,     0,     0,     0,     0,     0,\n",
       "           0,     0,     0,     0,     0,     0,     0,     0,     0,\n",
       "           0,     0,     0,     0,     0,     0,     0,     0,     0,\n",
       "           0,     0,     0,     0,     0,     0,     0,     0,     0,\n",
       "           0,     0,     0,     0,     0,     0,     0,     0,     0,\n",
       "           0,     0,     0,     0,     0,     0,     0,     0,     0,\n",
       "           0,     0,     0,     0,     0,     0,     0,     0,     0,\n",
       "           0,     0,     0,     0,     0,     0,     0,     0,     0,\n",
       "           0,     0])"
      ]
     },
     "execution_count": 136,
     "metadata": {},
     "output_type": "execute_result"
    }
   ],
   "source": [
    "b.text[0].t().detach().numpy()[0]"
   ]
  },
  {
   "cell_type": "code",
   "execution_count": 137,
   "metadata": {},
   "outputs": [
    {
     "data": {
      "text/plain": [
       "tensor([-11, -10,  -9,  -8,  -7,  -6,  -5,  -4,  -3,  -2,  -1,  -1,   0,   1,\n",
       "          1,   2,   3,   4,   5,   5,   6,   7,   7,   8,   9,  10,  11,  12,\n",
       "         13,  14,  15,  16,  17,  18,  19,  20, 128, 128, 128, 128, 128, 128,\n",
       "        128, 128, 128, 128, 128, 128, 128, 128, 128, 128, 128, 128, 128, 128,\n",
       "        128, 128, 128, 128, 128, 128, 128, 128, 128, 128, 128, 128, 128, 128,\n",
       "        128, 128, 128, 128, 128, 128, 128, 128, 128, 128, 128, 128, 128, 128,\n",
       "        128, 128, 128, 128, 128, 128, 128, 128, 128, 128, 128, 128, 128, 128,\n",
       "        128, 128, 128, 128, 128, 128, 128, 128, 128, 128, 128, 128, 128, 128,\n",
       "        128, 128, 128, 128, 128, 128, 128, 128, 128, 128, 128, 128, 128, 128,\n",
       "        128, 128])"
      ]
     },
     "execution_count": 137,
     "metadata": {},
     "output_type": "execute_result"
    }
   ],
   "source": [
    "b.e0_dist.t()[0]"
   ]
  },
  {
   "cell_type": "code",
   "execution_count": 41,
   "metadata": {},
   "outputs": [
    {
     "data": {
      "text/plain": [
       "tensor([30612, 30397, 30311, 30819, 30818, 30620, 30621, 30681, 30827, 30826,\n",
       "        30499, 30301, 30429, 30623, 30624, 30670, 30503, 30214, 30601, 30502,\n",
       "        30733, 30484, 30304, 30728, 30413, 30677, 30678, 30273, 30695, 30216,\n",
       "        30482, 30646])"
      ]
     },
     "execution_count": 41,
     "metadata": {},
     "output_type": "execute_result"
    }
   ],
   "source": [
    "b.id"
   ]
  },
  {
   "cell_type": "code",
   "execution_count": 42,
   "metadata": {},
   "outputs": [
    {
     "data": {
      "text/plain": [
       "dict_keys(['text', 'label', 'e0_dist', 'e1_dist', 'id'])"
      ]
     },
     "execution_count": 42,
     "metadata": {},
     "output_type": "execute_result"
    }
   ],
   "source": [
    "b.fields"
   ]
  },
  {
   "cell_type": "code",
   "execution_count": 43,
   "metadata": {},
   "outputs": [
    {
     "data": {
      "text/plain": [
       "{'text': <torchtext.data.field.Field at 0x7f2ae00fc710>,\n",
       " 'label': <torchtext.data.field.Field at 0x7f2ae00fce80>,\n",
       " 'e0_dist': <torchtext.data.field.Field at 0x7f2ae00fc0b8>,\n",
       " 'e1_dist': <torchtext.data.field.Field at 0x7f2ae00fc898>,\n",
       " 'id': <torchtext.data.field.Field at 0x7f2adff1d278>}"
      ]
     },
     "execution_count": 43,
     "metadata": {},
     "output_type": "execute_result"
    }
   ],
   "source": [
    "b.dataset.fields"
   ]
  },
  {
   "cell_type": "code",
   "execution_count": 148,
   "metadata": {},
   "outputs": [
    {
     "data": {
      "text/plain": [
       "(['text', 'label', 'e0_dist', 'e1_dist', 'id'], [])"
      ]
     },
     "execution_count": 148,
     "metadata": {},
     "output_type": "execute_result"
    }
   ],
   "source": [
    "b.input_fields, b.target_fields"
   ]
  },
  {
   "cell_type": "markdown",
   "metadata": {},
   "source": [
    "### Set Model"
   ]
  },
  {
   "cell_type": "code",
   "execution_count": 44,
   "metadata": {},
   "outputs": [],
   "source": [
    "import torch\n",
    "import torch.nn as nn\n",
    "from torch.nn.utils.rnn import pack_padded_sequence\n",
    "import torch.optim as optim"
   ]
  },
  {
   "cell_type": "code",
   "execution_count": 197,
   "metadata": {},
   "outputs": [],
   "source": [
    "def pos_indices(pos, max_dist, pad_val):\n",
    "    \"\"\"Convert position features provided as positive or negative integers to embedding indices\n",
    "    \n",
    "    Example: \n",
    "        pos = torch.IntTensor([-100, -4, -3, -2, -1, 0, 1, 2, 3, 4, 100, 99, 99])\n",
    "        pos_indices(pos, 2, 99) -> [1, 1, 1, 2, 3, 4, 5, 6, 7, 7, 7, 0, 0]\n",
    "    \"\"\"\n",
    "    if torch.any(pos > pad_val):\n",
    "        raise ValueError(f'Position array has value > padding value (max pos = {pos.max().item()}, pad val = {pad_val})')\n",
    "    offset = max_dist + 2\n",
    "    pos = pos + offset\n",
    "    pos = torch.clamp(pos, 1, pad_val+offset)\n",
    "    pos[pos==(pad_val + offset)] = 0\n",
    "    pos = torch.clamp(pos, 0, 2*max_dist + 3)\n",
    "    return pos\n",
    "\n",
    "\n",
    "class RNN(nn.Module):\n",
    "\n",
    "    def __init__(self, fields, cardinality=2, hidden_dim=50, wrd_embed_dim=None, pos_embed_dim=10, train_wrd_embed=None, \n",
    "                 num_layers=1, cell_type=nn.LSTM, \n",
    "                 dropout=0, bidirectional=False, max_dist=50, device=None, names=['text', 'label', 'e0_dist', 'e1_dist', 'id']):\n",
    "        super().__init__()\n",
    "        self.fields = fields\n",
    "        self.cardinality = cardinality\n",
    "        self.hidden_dim = hidden_dim\n",
    "        self.pos_embed_dim = pos_embed_dim\n",
    "        self.wrd_embed_dim = wrd_embed_dim\n",
    "        self.train_wrd_embed = train_wrd_embed \n",
    "        if self.train_wrd_embed is None:\n",
    "            self.train_wrd_embed = wrd_embed_dim is not None\n",
    "        self.num_layers = num_layers\n",
    "        self.dropout = dropout\n",
    "        self.bidirectional = bidirectional\n",
    "        self.num_directions = 2 if self.bidirectional else 1\n",
    "        self.cell_type = cell_type\n",
    "        self.max_dist = max_dist\n",
    "        self.device = device\n",
    "        self.names = names\n",
    "        \n",
    "        self._init_embedding()\n",
    "        self._init_cell()\n",
    "        self.output = nn.Linear(self.hidden_dim * self.num_directions, self.cardinality if self.cardinality > 2 else 1)\n",
    "        self.dropout = nn.Dropout(p=dropout)\n",
    "        \n",
    "    def _init_embedding(self):\n",
    "        if self.wrd_embed_dim:\n",
    "            self.wrd_embed_shape = (len(self.fields[self.names[0]].vocab), self.wrd_embed_dim)\n",
    "            self.wrd_embed = nn.Embedding(*self.wrd_embed_shape, padding_idx=0)\n",
    "        else:\n",
    "            vectors = self.fields[self.names[0]].vocab.vectors\n",
    "            self.wrd_embed_shape = tuple(vectors.shape)\n",
    "            self.wrd_embed = nn.Embedding.from_pretrained(vectors, padding_idx=0)\n",
    "        self.wrd_embed.weight.requires_grad = self.train_wrd_embed\n",
    "        \n",
    "        # Index values are 0=pad, 1=< -max_dist, 2=-max_dist, 3=-max_dist+1, ..., 2*(max_dist+2) > max_dist \n",
    "        self.pos_embed_shape = (2*(self.max_dist+2), self.pos_embed_dim)\n",
    "        # Define without looping/lists as placement on GPU will fail otherwise\n",
    "        self.pos_embed_e0 = nn.Embedding(*self.pos_embed_shape, padding_idx=0)\n",
    "        self.pos_embed_e1 = nn.Embedding(*self.pos_embed_shape, padding_idx=0)\n",
    "        \n",
    "        \n",
    "    def _init_cell(self):\n",
    "        self.cell = self.cell_type(\n",
    "            self.wrd_embed_shape[1] + 2*self.pos_embed_dim, self.hidden_dim,\n",
    "            num_layers=self.num_layers, bidirectional=self.bidirectional,\n",
    "            dropout=self.dropout, batch_first=True\n",
    "        )\n",
    "\n",
    "    def prepare(self, batch, **kwargs):\n",
    "        \"\"\"Extract seq token indices, seq lengths, and training labels\"\"\"\n",
    "        text, label, e0_dist, e1_dist, ids = [getattr(batch, n) if n in batch.fields else None for n in self.names]\n",
    "        # Text index sequences and associated lengths\n",
    "        X, L = text[0].t(), text[1]\n",
    "        # Example ids (integers)\n",
    "        I = ids.type(torch.IntTensor)\n",
    "        # Convert relative positions (as pos/neg integers or pad) to embedding indices\n",
    "        D0, D1 = [pos_indices(v.t(), self.max_dist, DIST_PAD_VAL) for v in [e0_dist, e1_dist]]\n",
    "        # Example labels\n",
    "        Y = None if label is None else (label - 1).type(torch.FloatTensor).to(self.device)\n",
    "        features = (X, L, D0, D1, I)\n",
    "        return tuple([f.to(self.device) for f in features]), Y\n",
    "        \n",
    "        \n",
    "    def transform(self, Y):\n",
    "        return torch.sigmoid(Y) if self.cardinality == 2 else torch.softmax(Y)\n",
    "\n",
    "    def classify(self, Y):\n",
    "        return torch.round(Y) if self.cardinality == 2 else torch.argmax(Y, dim=0)\n",
    "    \n",
    "    def forward(self, features):\n",
    "        X, L, D0, D1, _ = features\n",
    "        H = self.initial_hidden_state(len(X))\n",
    "        X = self.wrd_embed(X)\n",
    "        D = torch.cat([self.pos_embed_e0(D0), self.pos_embed_e1(D1)], dim=-1)\n",
    "        X = torch.cat([X, D], dim=-1)\n",
    "        L = L.view(-1).tolist()\n",
    "        X = nn.utils.rnn.pack_padded_sequence(X, L, batch_first=True)    \n",
    "        ht = self.cell(X, H)[1]\n",
    "        ht = ht[0] if isinstance(ht, tuple) else ht\n",
    "        Y = ht[-1] if self.num_directions == 1 else torch.cat((ht[0], ht[1]), dim=1)\n",
    "        Y = self.output(self.dropout(Y))\n",
    "        return Y.view(-1) if self.cardinality == 2 else Y\n",
    "\n",
    "    def initial_hidden_state(self, batch_size):\n",
    "        def get_h0():\n",
    "            return torch.zeros(self.num_layers * self.num_directions, batch_size, self.hidden_dim).to(self.device) \n",
    "        \n",
    "        if self.cell_type == nn.GRU:\n",
    "            return get_h0()\n",
    "        elif self.cell_type == nn.LSTM:\n",
    "            return tuple([get_h0(), get_h0()])\n",
    "        else:\n",
    "            raise ValueError(f'RNN type {self.cell_type.__name__} not supported')\n",
    "\n",
    "#model = RNN(ds.fields, hidden_dim=30, bidirectional=True, device='cuda') # underfit\n",
    "#model = RNN(ds.fields, hidden_dim=100, bidirectional=True, device='cuda') # mild overfitting\n",
    "# Using pos_embed_dim=0 gives \"merge_sort: failed to synchronize: an illegal memory access was encountered\" on GPU\n",
    "\n",
    "# Learned word embedding\n",
    "model_args = dict(fields=ds.fields, hidden_dim=5, wrd_embed_dim=10, pos_embed_dim=5, dropout=0, bidirectional=True, device='cpu', cell_type=nn.LSTM)\n",
    "model = RNN(**model_args)\n",
    "lr, decay = .005, .001\n",
    "\n",
    "# Fixed word embedding\n",
    "#model, lr, decay = RNN(ds.fields, hidden_dim=30, pos_embed_dim=5, dropout=.75, bidirectional=False, device='cpu', cell_type=nn.LSTM), .005, 0"
   ]
  },
  {
   "cell_type": "code",
   "execution_count": 345,
   "metadata": {},
   "outputs": [],
   "source": [
    "# from torchtext.data import Iterator\n",
    "# res1 = model.forward(model.prepare(next(iter(Iterator(ds, 3, sort_key=lambda x: len(x.text), sort_within_batch=True))))[0])\n",
    "# None"
   ]
  },
  {
   "cell_type": "code",
   "execution_count": 198,
   "metadata": {},
   "outputs": [],
   "source": [
    "# del model\n",
    "# torch.cuda.empty_cache()"
   ]
  },
  {
   "cell_type": "code",
   "execution_count": 290,
   "metadata": {},
   "outputs": [],
   "source": [
    "from torch.optim.lr_scheduler import ReduceLROnPlateau\n",
    "from ignite.contrib.handlers.param_scheduler import LRScheduler\n",
    "import shutil\n",
    "\n",
    "model_dir = '/tmp/label-model-dev'\n",
    "if osp.exists(model_dir):\n",
    "    shutil.rmtree(model_dir)\n",
    "    os.makedirs(model_dir)\n",
    "\n",
    "optimizer = optim.Adam([p for p in model.parameters() if p.requires_grad], lr=lr, weight_decay=decay)\n",
    "scheduler = ReduceLROnPlateau(optimizer, mode='min', factor=0.25, patience=25, threshold=0.01, verbose=True)\n",
    "criterion = nn.BCEWithLogitsLoss()"
   ]
  },
  {
   "cell_type": "code",
   "execution_count": 291,
   "metadata": {},
   "outputs": [],
   "source": [
    "class PredictionAggregator(Metric):\n",
    "    \"\"\"Aggregate predictions across batches (useful for not repeating prediction steps)\"\"\"\n",
    "\n",
    "    def __init__(self, output_transform=lambda x: {'y_pred': x[0], 'y': x[1], 'id': x[2]}):\n",
    "        super().__init__(lambda x: x)\n",
    "        self.predictions = []\n",
    "        self.output_transform = output_transform\n",
    "\n",
    "    def reset(self):\n",
    "        self.predictions = []\n",
    "\n",
    "    def update(self, output):\n",
    "        self.predictions.append(self.output_transform(output))\n",
    "\n",
    "    def compute(self):\n",
    "        return pd.concat([pd.DataFrame(p) for p in self.predictions])"
   ]
  },
  {
   "cell_type": "code",
   "execution_count": 292,
   "metadata": {},
   "outputs": [],
   "source": [
    "from ignite.engine import Events, Engine, create_supervised_trainer, create_supervised_evaluator\n",
    "from ignite.metrics import Accuracy, Loss, Precision, Recall, Metric, MetricsLambda\n",
    "from ignite.handlers import EarlyStopping, ModelCheckpoint\n",
    "\n",
    "trainer = create_supervised_trainer(\n",
    "    model, optimizer, criterion, \n",
    "    device=model.device, prepare_batch=model.prepare\n",
    ")\n",
    "\n",
    "def F1(r, p):\n",
    "        return 2 * (p * r) / (p + r + 1e-20)\n",
    "\n",
    "def output_transform(x, y, y_pred):\n",
    "    # x is output of model.prepare (first item)\n",
    "    # return y_pred, y, ids\n",
    "    return model.classify(model.transform(y_pred)), y, x[-1]\n",
    "\n",
    "def output_selector(args):\n",
    "    # Subset above to first two (y_pred, y)\n",
    "    return args[:2]\n",
    "\n",
    "def get_metrics(predictions=False):\n",
    "    metrics = {\n",
    "        'accuracy': Accuracy(output_selector), \n",
    "        'precision': Precision(output_selector, average=False),\n",
    "        'recall': Recall(output_selector, average=False),\n",
    "        'loss': Loss(criterion, output_transform=output_selector)\n",
    "    }\n",
    "    metrics['f1'] = MetricsLambda(F1, metrics['recall'], metrics['precision'])\n",
    "    if predictions:\n",
    "        metrics['predictions'] = PredictionAggregator()\n",
    "    return metrics\n",
    "\n",
    "def get_evaluator(predictions=False):\n",
    "    return create_supervised_evaluator(\n",
    "        model, metrics=get_metrics(predictions), prepare_batch=model.prepare, device=model.device,\n",
    "        output_transform=output_transform\n",
    "    )\n",
    "train_evaluator, val_evaluator, test_evaluator = get_evaluator(), get_evaluator(), get_evaluator(predictions=True)\n",
    "\n",
    "def score_function(engine):\n",
    "    return engine.state.metrics['f1']\n",
    "\n",
    "val_evaluator.add_event_handler(\n",
    "    Events.EPOCH_COMPLETED, \n",
    "    EarlyStopping(patience=25, score_function=score_function, trainer=trainer)\n",
    ")\n",
    "val_evaluator.add_event_handler(\n",
    "    Events.EPOCH_COMPLETED, \n",
    "    ModelCheckpoint(dirname=model_dir, filename_prefix='lmdev', score_function=score_function, score_name='f1'),\n",
    "    {'model': model, 'optimizer': optimizer, 'scheduler': scheduler}\n",
    ")\n",
    "    \n",
    "history = []\n",
    "test_predictions = []\n",
    "\n",
    "@trainer.on(Events.ITERATION_COMPLETED)\n",
    "def log_training_loss(engine):\n",
    "    if engine.state.iteration % 10 == 0:\n",
    "        lr = optimizer.param_groups[0]['lr']\n",
    "        print(\"Epoch[{}] Iteration[{}] Loss: {:.4f} LR: {}\".format(engine.state.epoch, engine.state.iteration, engine.state.output, lr))\n",
    "\n",
    "def log_results(engine, iterator, dataset_type, epoch):\n",
    "    engine.run(iterator)\n",
    "    metrics = dict(engine.state.metrics)\n",
    "    precision, recall = metrics['precision'], metrics['recall']\n",
    "    metrics['ct'] = len(iterator.dataset)\n",
    "    metrics['lr'] = optimizer.param_groups[0]['lr']\n",
    "    record = {**metrics, **{'type': dataset_type.title(), 'epoch': epoch}}\n",
    "    history.append(record)\n",
    "    print('{type} Results - Epoch: {epoch}  Count: {ct} Loss: {loss:.2f} Accuracy: {accuracy:.3f} F1: {f1:.3f}'.format(**record))\n",
    "    return metrics\n",
    "    \n",
    "@trainer.on(Events.EPOCH_COMPLETED)\n",
    "def log_training_results(engine):\n",
    "    epoch = engine.state.epoch\n",
    "    metric = log_results(train_evaluator, train_iter, 'training', epoch)['loss']\n",
    "    # scheduler.step(metric)\n",
    "    metric = log_results(val_evaluator, val_iter, 'validation', epoch)['f1']\n",
    "    scheduler.step(metric) \n",
    "    \n",
    "@trainer.on(Events.COMPLETED)\n",
    "def log_test_results(engine):\n",
    "    epoch = engine.state.epoch\n",
    "    preds = log_results(test_evaluator, test_iter, 'test', epoch)['predictions']\n",
    "    test_predictions.append(preds)"
   ]
  },
  {
   "cell_type": "code",
   "execution_count": 293,
   "metadata": {},
   "outputs": [
    {
     "name": "stdout",
     "output_type": "stream",
     "text": [
      "Epoch[1] Iteration[10] Loss: 0.0261 LR: 0.005\n",
      "Training Results - Epoch: 1  Count: 471 Loss: 0.62 Accuracy: 0.987 F1: 0.967\n",
      "Validation Results - Epoch: 1  Count: 202 Loss: 0.70 Accuracy: 0.827 F1: 0.521\n",
      "Epoch[2] Iteration[20] Loss: 0.1086 LR: 0.005\n",
      "Epoch[2] Iteration[30] Loss: 0.1089 LR: 0.005\n",
      "Training Results - Epoch: 2  Count: 471 Loss: 0.63 Accuracy: 0.962 F1: 0.893\n",
      "Validation Results - Epoch: 2  Count: 202 Loss: 0.69 Accuracy: 0.832 F1: 0.452\n",
      "Epoch[3] Iteration[40] Loss: 0.0627 LR: 0.005\n",
      "Training Results - Epoch: 3  Count: 471 Loss: 0.64 Accuracy: 0.964 F1: 0.915\n",
      "Validation Results - Epoch: 3  Count: 202 Loss: 0.72 Accuracy: 0.807 F1: 0.530\n",
      "Epoch[4] Iteration[50] Loss: 0.0599 LR: 0.005\n",
      "Epoch[4] Iteration[60] Loss: 0.1044 LR: 0.005\n",
      "Training Results - Epoch: 4  Count: 471 Loss: 0.63 Accuracy: 0.979 F1: 0.948\n",
      "Validation Results - Epoch: 4  Count: 202 Loss: 0.71 Accuracy: 0.812 F1: 0.500\n",
      "Epoch[5] Iteration[70] Loss: 0.0154 LR: 0.005\n",
      "Training Results - Epoch: 5  Count: 471 Loss: 0.65 Accuracy: 0.913 F1: 0.717\n",
      "Validation Results - Epoch: 5  Count: 202 Loss: 0.69 Accuracy: 0.832 F1: 0.370\n",
      "Test Results - Epoch: 5  Count: 202 Loss: 0.69 Accuracy: 0.832 F1: 0.370\n"
     ]
    },
    {
     "data": {
      "text/plain": [
       "<ignite.engine.engine.State at 0x7f2b0a519da0>"
      ]
     },
     "execution_count": 293,
     "metadata": {},
     "output_type": "execute_result"
    }
   ],
   "source": [
    "trainer.run(train_iter, max_epochs=5)"
   ]
  },
  {
   "cell_type": "code",
   "execution_count": 297,
   "metadata": {},
   "outputs": [
    {
     "name": "stdout",
     "output_type": "stream",
     "text": [
      "<class 'pandas.core.frame.DataFrame'>\n",
      "Int64Index: 202 entries, 0 to 9\n",
      "Data columns (total 3 columns):\n",
      "y_pred    202 non-null float32\n",
      "y         202 non-null float32\n",
      "id        202 non-null int32\n",
      "dtypes: float32(2), int32(1)\n",
      "memory usage: 3.9 KB\n"
     ]
    }
   ],
   "source": [
    "# Check that aggregated predictions have expected size and fields\n",
    "assert len(test_predictions) == 1\n",
    "assert len(test_predictions[0]) == len(ds_val)\n",
    "assert test_predictions[0]['id'].is_unique\n",
    "test_predictions[0].info()"
   ]
  },
  {
   "cell_type": "markdown",
   "metadata": {},
   "source": [
    "### Visualize Metrics"
   ]
  },
  {
   "cell_type": "code",
   "execution_count": 57,
   "metadata": {},
   "outputs": [
    {
     "data": {
      "image/png": "[encoded data removed]",
      "text/plain": [
       "<Figure size 800x800 with 12 Axes>"
      ]
     },
     "metadata": {},
     "output_type": "display_data"
    },
    {
     "data": {
      "text/plain": [
       "<ggplot: (-9223363297959953839)>"
      ]
     },
     "execution_count": 57,
     "metadata": {},
     "output_type": "execute_result"
    }
   ],
   "source": [
    "%matplotlib inline\n",
    "import plotnine as pn\n",
    "(\n",
    "    pn.ggplot(\n",
    "        pd.DataFrame(history).set_index(['epoch', 'type'])\n",
    "            .rename_axis('metric', axis='columns')\n",
    "            .stack().rename('value').reset_index()\n",
    "            .pipe(lambda df: df[df['metric'].isin(['f1', 'loss', 'accuracy', 'lr', 'precision', 'recall'])]),\n",
    "        pn.aes(x='epoch', y='value')\n",
    "    ) + \n",
    "    pn.geom_line() + \n",
    "    pn.facet_grid('metric ~ type', scales='free') + \n",
    "    pn.theme(figure_size=(8, 8))\n",
    ")\n"
   ]
  },
  {
   "cell_type": "code",
   "execution_count": 61,
   "metadata": {},
   "outputs": [
    {
     "data": {
      "image/png": "[encoded data removed]",
      "text/plain": [
       "<Figure size 800x800 with 12 Axes>"
      ]
     },
     "metadata": {},
     "output_type": "display_data"
    },
    {
     "data": {
      "text/plain": [
       "<ggplot: (8728203663834)>"
      ]
     },
     "execution_count": 61,
     "metadata": {},
     "output_type": "execute_result"
    }
   ],
   "source": [
    "%matplotlib inline\n",
    "import plotnine as pn\n",
    "(\n",
    "pn.ggplot(\n",
    "    pd.DataFrame(history).set_index(['epoch', 'type'])\n",
    "        .rename_axis('metric', axis='columns')\n",
    "        .stack().rename('value').reset_index()\n",
    "        .pipe(lambda df: df[df['metric'].isin(['f1', 'loss', 'accuracy', 'lr', 'precision', 'recall'])]),\n",
    "    pn.aes(x='epoch', y='value')\n",
    ") + \n",
    "pn.geom_line() + \n",
    "pn.facet_grid('metric ~ type', scales='free') + \n",
    "pn.theme(figure_size=(8, 8))\n",
    ")\n"
   ]
  },
  {
   "cell_type": "markdown",
   "metadata": {},
   "source": [
    "### Predict With Restored Model"
   ]
  },
  {
   "cell_type": "code",
   "execution_count": 259,
   "metadata": {},
   "outputs": [
    {
     "name": "stdout",
     "output_type": "stream",
     "text": [
      "2.0M\t/tmp/label-model-dev/lmdev_model_1_f1=0.5070423.pth\n",
      "3.9M\t/tmp/label-model-dev/lmdev_optimizer_1_f1=0.5070423.pth\n",
      "4.0K\t/tmp/label-model-dev/lmdev_scheduler_1_f1=0.5070423.pth\n",
      "5.8M\ttotal\n"
     ]
    }
   ],
   "source": [
    "!du -ch $model_dir/*"
   ]
  },
  {
   "cell_type": "code",
   "execution_count": 61,
   "metadata": {},
   "outputs": [],
   "source": [
    "model_restore = RNN(**model_args)"
   ]
  },
  {
   "cell_type": "code",
   "execution_count": 70,
   "metadata": {},
   "outputs": [],
   "source": [
    "import glob\n",
    "import pathlib as pl\n",
    "from collections import defaultdict\n",
    "\n",
    "def restore_checkpoint(checkpoint_dir):\n",
    "    files = glob.glob(str(pl.Path(checkpoint_dir) / '*.pth'))\n",
    "    comps = defaultdict(lambda: [])\n",
    "    for f in files:\n",
    "        comps[f.split('_')[1]].append(torch.load(f))\n",
    "    if any([len(v) > 1 for v in comps.values()]):\n",
    "        raise ValueError(f'Found multiple checkpoint files for the same component in dir \"{checkpoint_dir}\"')\n",
    "    return {k: v[0]  for k, v in comps.items()}\n",
    "checkpoint = restore_checkpoint(model_dir)"
   ]
  },
  {
   "cell_type": "code",
   "execution_count": 71,
   "metadata": {},
   "outputs": [
    {
     "data": {
      "text/plain": [
       "odict_keys(['wrd_embed.weight', 'pos_embed_e0.weight', 'pos_embed_e1.weight', 'cell.weight_ih_l0', 'cell.weight_hh_l0', 'cell.bias_ih_l0', 'cell.bias_hh_l0', 'cell.weight_ih_l0_reverse', 'cell.weight_hh_l0_reverse', 'cell.bias_ih_l0_reverse', 'cell.bias_hh_l0_reverse', 'output.weight', 'output.bias'])"
      ]
     },
     "execution_count": 71,
     "metadata": {},
     "output_type": "execute_result"
    }
   ],
   "source": [
    "checkpoint['model'].keys()"
   ]
  },
  {
   "cell_type": "code",
   "execution_count": 72,
   "metadata": {},
   "outputs": [
    {
     "data": {
      "text/plain": [
       "IncompatibleKeys(missing_keys=[], unexpected_keys=[])"
      ]
     },
     "execution_count": 72,
     "metadata": {},
     "output_type": "execute_result"
    }
   ],
   "source": [
    "model_restore.load_state_dict(checkpoint['model'])"
   ]
  },
  {
   "cell_type": "code",
   "execution_count": 78,
   "metadata": {},
   "outputs": [
    {
     "data": {
      "text/html": [
       "<div>\n",
       "<style scoped>\n",
       "    .dataframe tbody tr th:only-of-type {\n",
       "        vertical-align: middle;\n",
       "    }\n",
       "\n",
       "    .dataframe tbody tr th {\n",
       "        vertical-align: top;\n",
       "    }\n",
       "\n",
       "    .dataframe thead th {\n",
       "        text-align: right;\n",
       "    }\n",
       "</style>\n",
       "<table border=\"1\" class=\"dataframe\">\n",
       "  <thead>\n",
       "    <tr style=\"text-align: right;\">\n",
       "      <th></th>\n",
       "      <th>label</th>\n",
       "      <th>e0_dist</th>\n",
       "      <th>e0_text</th>\n",
       "      <th>e1_dist</th>\n",
       "      <th>e1_text</th>\n",
       "      <th>token_indices</th>\n",
       "      <th>text</th>\n",
       "      <th>word_indices</th>\n",
       "      <th>pred</th>\n",
       "    </tr>\n",
       "    <tr>\n",
       "      <th>id</th>\n",
       "      <th></th>\n",
       "      <th></th>\n",
       "      <th></th>\n",
       "      <th></th>\n",
       "      <th></th>\n",
       "      <th></th>\n",
       "      <th></th>\n",
       "      <th></th>\n",
       "      <th></th>\n",
       "    </tr>\n",
       "  </thead>\n",
       "  <tbody>\n",
       "    <tr>\n",
       "      <th>30835</th>\n",
       "      <td>1</td>\n",
       "      <td>[-20, -19, -18, -17, -16, -15, -15, -14, -13, -12, -11, -11, -10, -9, -8, -7, -7, -6, -5, -4, -3, -3, -2, -1, -1, 0, 1, 1, 2, 3, 4, 5, 6, 7, 7, 8, 9, 10, 10, 11, 12, 12, 13, 14, 14, 15, 16, 17, 18]</td>\n",
       "      <td>TGF-β</td>\n",
       "      <td>[-33, -32, -31, -30, -29, -28, -28, -27, -26, -25, -24, -24, -23, -22, -21, -20, -20, -19, -18, -17, -16, -16, -15, -14, -14, -13, -12, -12, -11, -10, -9, -8, -7, -6, -6, -5, -4, -3, -3, -2, -1, -1, 0, 1, 1, 2, 3, 4, 5]</td>\n",
       "      <td>Th17</td>\n",
       "      <td>[0, 1, 2, 3, 4, 5, 5, 6, 7, 8, 9, 9, 10, 11, 12, 13, 13, 14, 15, 16, 17, 17, 18, 19, 19, 20, 21, 21, 22, 23, 24, 25, 26, 27, 27, 28, 29, 30, 30, 31, 32, 32, 33, 34, 34, 35, 36, 37, 38]</td>\n",
       "      <td>[The, current, understanding, is, that, |, @, interleukin, (, IL)-6, @, |, in, combination, with, |, @, transforming, growth, factor-β, @, |, (, &lt;, @, TGF-β, @, &gt;, ), leads, to, generation, of, |, #, T, helper-17, #, |, (, &lt;, #, Th17, #, &gt;, ), lineage, cells, .]</td>\n",
       "      <td>[0, 1, 2, 3, 4, None, None, 5, 6, 7, None, None, 8, 9, 10, None, None, 11, 12, 13, None, None, 14, None, None, 15, None, None, 16, 17, 18, 19, 20, None, None, 21, 22, None, None, 23, None, None, 24, None, None, 25, 26, 27, 28]</td>\n",
       "      <td>0.987022</td>\n",
       "    </tr>\n",
       "    <tr>\n",
       "      <th>30241</th>\n",
       "      <td>1</td>\n",
       "      <td>[-8, -7, -7, -6, -5, -4, -3, -3, -2, -1, -1, 0, 1, 1, 2, 3, 3, 4, 5, 6, 7, 7, 8, 9, 10, 10, 11, 12, 12, 13, 14, 15, 16, 17, 18, 19, 20, 20, 21, 22, 22, 23, 24, 24, 25, 26, 26, 27, 28, 29, 30, 31, 31, 32, 33, 33, 34, 35, 36, 37, 38, 38, 39, 40, 40, 41, 42, 43]</td>\n",
       "      <td>TGF-β</td>\n",
       "      <td>[-12, -11, -11, -10, -9, -8, -7, -7, -6, -5, -5, -4, -3, -3, -2, -1, -1, 0, 0, 0, 1, 1, 2, 3, 4, 4, 5, 6, 6, 7, 8, 9, 10, 11, 12, 13, 14, 14, 15, 16, 16, 17, 18, 18, 19, 20, 20, 21, 22, 23, 24, 25, 25, 26, 27, 27, 28, 29, 30, 31, 32, 32, 33, 34, 34, 35, 36, 37]</td>\n",
       "      <td>induced regulatory T</td>\n",
       "      <td>[0, 1, 1, 2, 3, 4, 5, 5, 6, 7, 7, 8, 9, 9, 10, 11, 11, 12, 13, 14, 15, 15, 16, 17, 18, 18, 19, 20, 20, 21, 22, 23, 24, 25, 26, 27, 28, 28, 29, 30, 30, 31, 32, 32, 33, 34, 34, 35, 36, 37, 38, 39, 39, 40, 41, 41, 42, 43, 44, 45, 46, 46, 47, 48, 48, 49, 50, 51]</td>\n",
       "      <td>[Using, |, @, Transforming, growth, factor-β, @, |, (, &lt;, @, TGF-β, @, &gt;, ), &lt;, #, induced, regulatory, T, #, &gt;, cell, (, |, #, iTreg, #, |, ), system, ,, we, identify, the, TF, |, *, Musculin, *, |, (, |, *, MSC, *, |, ), as, critical, for, |, #, iTreg, #, |, development, by, repression, of, |,...</td>\n",
       "      <td>[0, None, None, 1, 2, 3, None, None, 4, None, None, 5, None, None, 6, None, None, 7, 8, 9, None, None, 10, 11, None, None, 12, None, None, 13, 14, 15, 16, 17, 18, 19, None, None, 20, None, None, 21, None, None, 22, None, None, 23, 24, 25, 26, None, None, 27, None, None, 28, 29, 30, 31, None, Non...</td>\n",
       "      <td>0.986626</td>\n",
       "    </tr>\n",
       "    <tr>\n",
       "      <th>30610</th>\n",
       "      <td>1</td>\n",
       "      <td>[-22, -21, -20, -19, -18, -18, -17, -16, -16, -15, -14, -13, -12, -11, -10, -9, -8, -7, -7, -6, -5, -4, -3, -3, -2, -1, -1, 0, 1, 1, 2, 3, 4, 5, 6, 7, 8, 9, 10, 11, 12, 12, 13, 14, 15, 15, 16, 17, 18, 18, 19, 20, 20, 21, 22, 23, 24, 25, 26, 27, 28, 29, 30, 31, 32]</td>\n",
       "      <td>TGF-β</td>\n",
       "      <td>[-35, -34, -33, -32, -31, -31, -30, -29, -29, -28, -27, -26, -25, -24, -23, -22, -21, -20, -20, -19, -18, -17, -16, -16, -15, -14, -14, -13, -12, -12, -11, -10, -9, -8, -7, -6, -5, -4, -3, -2, -1, -1, 0, 0, 1, 1, 2, 3, 4, 4, 5, 6, 6, 7, 8, 9, 10, 11, 12, 13, 14, 15, 16, 17, 18]</td>\n",
       "      <td>regulatory T</td>\n",
       "      <td>[0, 1, 2, 3, 4, 4, 5, 6, 6, 7, 8, 9, 10, 11, 12, 13, 14, 15, 15, 16, 17, 18, 19, 19, 20, 21, 21, 22, 23, 23, 24, 25, 26, 27, 28, 29, 30, 31, 32, 33, 34, 34, 35, 36, 37, 37, 38, 39, 40, 40, 41, 42, 42, 43, 44, 45, 46, 47, 48, 49, 50, 51, 52, 53, 54]</td>\n",
       "      <td>[Regulatory, DCs, that, express, |, @, IL-10, @, |, ,, programmed, cell, death-1, (, PD-1, ), ,, |, @, transforming, growth, factor-β, @, |, (, &lt;, @, TGF-β, @, &gt;, ), and, argininase, suppress, effector, T, cell, activation, and, promote, &lt;, #, regulatory, T, #, &gt;, cell, (, |, #, Treg, #, |, ), d...</td>\n",
       "      <td>[0, 1, 2, 3, None, None, 4, None, None, 5, 6, 7, 8, 9, 10, 11, 12, None, None, 13, 14, 15, None, None, 16, None, None, 17, None, None, 18, 19, 20, 21, 22, 23, 24, 25, 26, 27, None, None, 28, 29, None, None, 30, 31, None, None, 32, None, None, 33, 34, 35, 36, 37, 38, 39, 40, 41, 42, 43, 44]</td>\n",
       "      <td>0.976267</td>\n",
       "    </tr>\n",
       "    <tr>\n",
       "      <th>30597</th>\n",
       "      <td>1</td>\n",
       "      <td>[-44, -43, -42, -41, -40, -39, -38, -37, -36, -35, -34, -33, -32, -31, -30, -29, -28, -27, -26, -25, -24, -23, -22, -21, -20, -19, -18, -17, -16, -15, -14, -13, -12, -12, -11, -10, -10, -9, -8, -7, -6, -5, -5, -4, -3, -3, -2, -1, -1, 0, 1, 1, 2, 3, 4, 5, 6, 7, 8, 9, 9, 10, 11, 11, 12, 13, 14, 15...</td>\n",
       "      <td>IL12</td>\n",
       "      <td>[-33, -32, -31, -30, -29, -28, -27, -26, -25, -24, -23, -22, -21, -20, -19, -18, -17, -16, -15, -14, -13, -12, -11, -10, -9, -8, -7, -6, -5, -4, -3, -2, -1, -1, 0, 1, 1, 2, 3, 4, 5, 6, 6, 7, 8, 8, 9, 10, 10, 11, 12, 12, 13, 14, 15, 16, 17, 18, 19, 20, 20, 21, 22, 22, 23, 24, 25, 26, 27, 28, 29, ...</td>\n",
       "      <td>Th1</td>\n",
       "      <td>[0, 1, 2, 3, 4, 5, 6, 7, 8, 9, 10, 11, 12, 13, 14, 15, 16, 17, 18, 19, 20, 21, 22, 23, 24, 25, 26, 27, 28, 29, 30, 31, 32, 32, 33, 34, 34, 35, 36, 37, 38, 39, 39, 40, 41, 41, 42, 43, 43, 44, 45, 45, 46, 47, 48, 49, 50, 51, 52, 53, 53, 54, 55, 55, 56, 57, 58, 59, 60, 61, 62, 63, 64, 65, 66, 67, 6...</td>\n",
       "      <td>[The, Th1-driven, nature, of, the, EAE, /, MS, disease, was, challenged, by, the, finding, that, IFNγ-, and, IFNγ-receptor, -, deficient, mice, ,, as, well, as, mice, that, lack, other, molecules, involved, in, &lt;, #, Th1, #, &gt;, differentiation, ,, such, as, |, @, IL12p35, @, |, ,, &lt;, @, IL12, @,...</td>\n",
       "      <td>[0, 1, 2, 3, 4, 5, 6, 7, 8, 9, 10, 11, 12, 13, 14, 15, 16, 17, 18, 19, 20, 21, 22, 23, 24, 25, 26, 27, 28, 29, 30, 31, None, None, 32, None, None, 33, 34, 35, 36, None, None, 37, None, None, 38, None, None, 39, None, None, 40, 41, 42, 43, 44, 45, 46, None, None, 47, None, None, 48, 49, 50, 51, 5...</td>\n",
       "      <td>0.972955</td>\n",
       "    </tr>\n",
       "    <tr>\n",
       "      <th>30508</th>\n",
       "      <td>1</td>\n",
       "      <td>[-26, -25, -24, -23, -22, -21, -20, -19, -18, -17, -16, -15, -14, -13, -12, -11, -10, -9, -8, -7, -6, -5, -5, -4, -3, -3, -2, -1, -1, 0, 1, 1, 2, 3, 3, 4, 5, 5, 6, 7, 8, 9, 10, 11, 12, 12, 13, 14, 14, 15, 16, 16, 17, 18, 18, 19, 20, 20, 21, 22, 22, 23, 24, 25, 26, 27, 28, 29, 29, 30, 31, 31, 32,...</td>\n",
       "      <td>IFN-γ</td>\n",
       "      <td>[-30, -29, -28, -27, -26, -25, -24, -23, -22, -21, -20, -19, -18, -17, -16, -15, -14, -13, -12, -11, -10, -9, -9, -8, -7, -7, -6, -5, -5, -4, -3, -3, -2, -1, -1, 0, 1, 1, 2, 3, 4, 5, 6, 7, 8, 8, 9, 10, 10, 11, 12, 12, 13, 14, 14, 15, 16, 16, 17, 18, 18, 19, 20, 21, 22, 23, 24, 25, 25, 26, 27, 27...</td>\n",
       "      <td>Th1</td>\n",
       "      <td>[0, 1, 2, 3, 4, 5, 6, 7, 8, 9, 10, 11, 12, 13, 14, 15, 16, 17, 18, 19, 20, 21, 21, 22, 23, 23, 24, 25, 25, 26, 27, 27, 28, 29, 29, 30, 31, 31, 32, 33, 34, 35, 36, 37, 38, 38, 39, 40, 40, 41, 42, 42, 43, 44, 44, 45, 46, 46, 47, 48, 48, 49, 50, 51, 52, 53, 54, 55, 55, 56, 57, 57, 58, 59, 60, 61, 6...</td>\n",
       "      <td>[The, cytokine, milieu, during, CD4, T, cell, activation, is, one, of, the, most, important, factors, in, determining, T, cell, fate, ., |, @, IL-12, @, |, and, &lt;, @, IFN-γ, @, &gt;, induce, &lt;, #, Th1, #, &gt;, cell, differentiation, (, 10–12, ), ;, |, @, IL-4, @, |, and, |, @, IL-2, @, |, induce, |, ...</td>\n",
       "      <td>[0, 1, 2, 3, 4, 5, 6, 7, 8, 9, 10, 11, 12, 13, 14, 15, 16, 17, 18, 19, 20, None, None, 21, None, None, 22, None, None, 23, None, None, 24, None, None, 25, None, None, 26, 27, 28, 29, 30, 31, None, None, 32, None, None, 33, None, None, 34, None, None, 35, None, None, 36, None, None, 37, 38, 39, 4...</td>\n",
       "      <td>0.968230</td>\n",
       "    </tr>\n",
       "    <tr>\n",
       "      <th>30541</th>\n",
       "      <td>1</td>\n",
       "      <td>[-6, -5, -4, -3, -2, -1, -1, 0, 1, 1, 2, 3, 3, 4, 5, 5, 6, 7, 7, 8, 9, 9, 10, 11, 12, 12, 13, 14, 14, 15, 16, 17, 18, 19, 20, 21, 22, 23, 24, 25, 26, 27, 28, 29, 30]</td>\n",
       "      <td>IL-2</td>\n",
       "      <td>[-10, -9, -8, -7, -6, -5, -5, -4, -3, -3, -2, -1, -1, 0, 1, 1, 2, 3, 3, 4, 5, 5, 6, 7, 8, 8, 9, 10, 10, 11, 12, 13, 14, 15, 16, 17, 18, 19, 20, 21, 22, 23, 24, 25, 26]</td>\n",
       "      <td>TH1</td>\n",
       "      <td>[0, 1, 2, 3, 4, 5, 5, 6, 7, 7, 8, 9, 9, 10, 11, 11, 12, 13, 13, 14, 15, 15, 16, 17, 18, 18, 19, 20, 20, 21, 22, 23, 24, 25, 26, 27, 28, 29, 30, 31, 32, 33, 34, 35, 36]</td>\n",
       "      <td>[Therefore, our, data, reveal, that, &lt;, @, IL-2, @, &gt;, regulates, &lt;, #, TH1, #, &gt;, ,, |, #, TH2, #, |, ,, and, |, #, TH17, #, |, differentiation, based, at, least, in, part, on, its, modulation, of, expression, of, key, cytokine, receptors, .]</td>\n",
       "      <td>[0, 1, 2, 3, 4, None, None, 5, None, None, 6, None, None, 7, None, None, 8, None, None, 9, None, None, 10, 11, None, None, 12, None, None, 13, 14, 15, 16, 17, 18, 19, 20, 21, 22, 23, 24, 25, 26, 27, 28]</td>\n",
       "      <td>0.964587</td>\n",
       "    </tr>\n",
       "    <tr>\n",
       "      <th>30168</th>\n",
       "      <td>0</td>\n",
       "      <td>[-7, -7, -6, -5, -5, -4, -3, -2, -1, -1, 0, 1, 1, 2, 3, 4, 5, 5, 6, 7, 8, 9, 9, 10, 12, 13, 14, 15, 16, 17, 18, 19, 20, 20, 21, 22, 22, 23, 24]</td>\n",
       "      <td>Ifng</td>\n",
       "      <td>[-28, -28, -27, -26, -26, -25, -24, -23, -22, -22, -21, -20, -20, -19, -18, -17, -16, -16, -15, -14, -13, -12, -12, -11, -9, -8, -7, -6, -5, -4, -3, -2, -1, -1, 0, 1, 1, 2, 3]</td>\n",
       "      <td>TH1</td>\n",
       "      <td>[0, 0, 1, 2, 2, 3, 4, 5, 6, 6, 7, 8, 8, 9, 10, 11, 12, 12, 13, 14, 15, 16, 16, 17, 19, 20, 21, 22, 23, 24, 25, 26, 27, 27, 28, 29, 29, 30, 31]</td>\n",
       "      <td>[|, @, IL-12, @, |, induces, not, only, &lt;, @, Ifng, @, &gt;, expression1, but, also, |, *, T, -, bet, *, |, ,, which, promotes, the, survival, and, proliferation, of, differentiating, &lt;, #, TH1, #, &gt;, cells, .]</td>\n",
       "      <td>[None, None, 0, None, None, 1, 2, 3, None, None, 4, None, None, 5, 6, 7, None, None, 8, 9, 10, None, None, 11, 13, 14, 15, 16, 17, 18, 19, 20, None, None, 21, None, None, 22, 23]</td>\n",
       "      <td>0.964428</td>\n",
       "    </tr>\n",
       "    <tr>\n",
       "      <th>30727</th>\n",
       "      <td>0</td>\n",
       "      <td>[-6, -5, -4, -3, -2, -1, -1, 0, 1, 1, 2, 3, 3, 4, 5, 5, 6, 7, 8, 9, 10, 11, 11, 12, 13, 13, 14, 15, 16, 17, 18, 19]</td>\n",
       "      <td>IL-2</td>\n",
       "      <td>[-18, -17, -16, -15, -14, -13, -13, -12, -11, -11, -10, -9, -9, -8, -7, -7, -6, -5, -4, -3, -2, -1, -1, 0, 1, 1, 2, 3, 4, 5, 6, 7]</td>\n",
       "      <td>TH1</td>\n",
       "      <td>[0, 1, 2, 3, 4, 5, 5, 6, 7, 7, 8, 9, 9, 10, 11, 11, 12, 13, 14, 15, 16, 17, 17, 18, 19, 19, 20, 21, 22, 23, 24, 25]</td>\n",
       "      <td>[To, clarify, the, role, of, &lt;, @, IL-2, @, &gt;, in, |, #, TH1, #, |, differentiation, ,, we, examined, Il2−/−, &lt;, #, TH1, #, &gt;, differentiated, cells, for, TH1-associated, genes, .]</td>\n",
       "      <td>[0, 1, 2, 3, 4, None, None, 5, None, None, 6, None, None, 7, None, None, 8, 9, 10, 11, 12, None, None, 13, None, None, 14, 15, 16, 17, 18, 19]</td>\n",
       "      <td>0.961135</td>\n",
       "    </tr>\n",
       "    <tr>\n",
       "      <th>30608</th>\n",
       "      <td>1</td>\n",
       "      <td>[-16, -15, -14, -13, -12, -12, -11, -10, -10, -9, -8, -7, -6, -5, -4, -3, -2, -1, -1, 0, 0, 0, 1, 1, 2, 3, 3, 4, 5, 5, 6, 7, 8, 9, 10, 11, 12, 13, 14, 15, 16, 16, 17, 18, 19, 19, 20, 21, 22, 22, 23, 24, 24, 25, 26, 27, 28, 29, 30, 31, 32, 33, 34, 35, 36]</td>\n",
       "      <td>transforming growth factor-β</td>\n",
       "      <td>[-35, -34, -33, -32, -31, -31, -30, -29, -29, -28, -27, -26, -25, -24, -23, -22, -21, -20, -20, -19, -18, -17, -16, -16, -15, -14, -14, -13, -12, -12, -11, -10, -9, -8, -7, -6, -5, -4, -3, -2, -1, -1, 0, 0, 1, 1, 2, 3, 4, 4, 5, 6, 6, 7, 8, 9, 10, 11, 12, 13, 14, 15, 16, 17, 18]</td>\n",
       "      <td>regulatory T</td>\n",
       "      <td>[0, 1, 2, 3, 4, 4, 5, 6, 6, 7, 8, 9, 10, 11, 12, 13, 14, 15, 15, 16, 17, 18, 19, 19, 20, 21, 21, 22, 23, 23, 24, 25, 26, 27, 28, 29, 30, 31, 32, 33, 34, 34, 35, 36, 37, 37, 38, 39, 40, 40, 41, 42, 42, 43, 44, 45, 46, 47, 48, 49, 50, 51, 52, 53, 54]</td>\n",
       "      <td>[Regulatory, DCs, that, express, |, @, IL-10, @, |, ,, programmed, cell, death-1, (, PD-1, ), ,, &lt;, @, transforming, growth, factor-β, @, &gt;, (, |, @, TGF-β, @, |, ), and, argininase, suppress, effector, T, cell, activation, and, promote, &lt;, #, regulatory, T, #, &gt;, cell, (, |, #, Treg, #, |, ), d...</td>\n",
       "      <td>[0, 1, 2, 3, None, None, 4, None, None, 5, 6, 7, 8, 9, 10, 11, 12, None, None, 13, 14, 15, None, None, 16, None, None, 17, None, None, 18, 19, 20, 21, 22, 23, 24, 25, 26, 27, None, None, 28, 29, None, None, 30, 31, None, None, 32, None, None, 33, 34, 35, 36, 37, 38, 39, 40, 41, 42, 43, 44]</td>\n",
       "      <td>0.961095</td>\n",
       "    </tr>\n",
       "    <tr>\n",
       "      <th>30717</th>\n",
       "      <td>0</td>\n",
       "      <td>[-22, -21, -20, -19, -19, -18, -17, -17, -16, -15, -14, -14, -13, -12, -12, -11, -10, -9, -8, -8, -7, -6, -6, -5, -4, -3, -2, -1, -1, 0, 1, 1, 2, 3, 4, 5, 5, 6, 7, 7, 8, 9, 9, 10, 11, 11, 12, 13, 14, 15, 16, 17, 18, 18, 19, 20, 20, 21, 22]</td>\n",
       "      <td>TGF-β</td>\n",
       "      <td>[-9, -8, -7, -6, -6, -5, -4, -4, -3, -2, -1, -1, 0, 1, 1, 2, 3, 4, 5, 5, 6, 7, 7, 8, 9, 10, 11, 12, 12, 13, 14, 14, 15, 16, 17, 18, 18, 19, 20, 20, 21, 22, 22, 23, 24, 24, 25, 26, 27, 28, 29, 30, 31, 31, 32, 33, 33, 34, 35]</td>\n",
       "      <td>Th17</td>\n",
       "      <td>[0, 1, 2, 3, 3, 4, 5, 5, 6, 7, 8, 8, 9, 10, 10, 11, 12, 13, 14, 14, 15, 16, 16, 17, 18, 19, 20, 21, 21, 22, 23, 23, 24, 25, 26, 27, 27, 28, 29, 29, 30, 31, 31, 32, 33, 33, 34, 35, 36, 37, 38, 39, 40, 40, 41, 42, 42, 43, 44]</td>\n",
       "      <td>[We, report, that, |, *, Gfi-1, *, |, suppresses, both, &lt;, #, Th17, #, &gt;, and, CD103, +, |, #, iTreg, #, |, cell, differentiation, ,, whereas, &lt;, @, TGF-β, @, &gt;, ,, critical, for, |, #, Th17, #, |, and, |, #, iTreg, #, |, cell, induction, ,, down, -, regulates, |, *, Gfi-1, *, |, expression, .]</td>\n",
       "      <td>[0, 1, 2, None, None, 3, None, None, 4, 5, None, None, 6, None, None, 7, 8, 9, None, None, 10, None, None, 11, 12, 13, 14, None, None, 15, None, None, 16, 17, 18, None, None, 19, None, None, 20, None, None, 21, None, None, 22, 23, 24, 25, 26, 27, None, None, 28, None, None, 29, 30]</td>\n",
       "      <td>0.960947</td>\n",
       "    </tr>\n",
       "    <tr>\n",
       "      <th>30622</th>\n",
       "      <td>1</td>\n",
       "      <td>[-7, -6, -5, -4, -3, -2, -1, -1, 0, 1, 1, 2, 3, 4, 5, 6, 7, 7, 8, 9, 9, 10, 11, 12, 13, 14, 15, 16, 17, 18, 19, 20]</td>\n",
       "      <td>IL-6</td>\n",
       "      <td>[-15, -14, -13, -12, -11, -10, -9, -9, -8, -7, -7, -6, -5, -4, -3, -2, -1, -1, 0, 1, 1, 2, 3, 4, 5, 6, 7, 8, 9, 10, 11, 12]</td>\n",
       "      <td>Th17</td>\n",
       "      <td>[0, 1, 2, 3, 4, 5, 6, 6, 7, 8, 8, 9, 10, 11, 12, 13, 14, 14, 15, 16, 16, 17, 18, 19, 20, 21, 22, 23, 24, 25, 26, 27]</td>\n",
       "      <td>[Importantly, ,, we, have, demonstrated, that, &lt;, @, IL-6, @, &gt;, independent, and, dependent, pathways, of, &lt;, #, Th17, #, &gt;, cell, differentiation, are, guided, by, DCs, residing, in, various, tissues, .]</td>\n",
       "      <td>[0, 1, 2, 3, 4, 5, None, None, 6, None, None, 7, 8, 9, 10, 11, None, None, 12, None, None, 13, 14, 15, 16, 17, 18, 19, 20, 21, 22, 23]</td>\n",
       "      <td>0.960536</td>\n",
       "    </tr>\n",
       "    <tr>\n",
       "      <th>30248</th>\n",
       "      <td>1</td>\n",
       "      <td>[-12, -11, -10, -10, -9, -8, -8, -7, -6, -5, -5, -4, -3, -3, -2, -1, -1, 0, 1, 1, 2, 3, 3, 4, 5, 5, 6, 7, 8, 8, 9, 10, 10, 11, 12, 13, 14]</td>\n",
       "      <td>TGFβ</td>\n",
       "      <td>[-3, -2, -1, -1, 0, 1, 1, 2, 3, 4, 4, 5, 6, 6, 7, 8, 8, 9, 10, 10, 11, 12, 12, 13, 14, 14, 15, 16, 17, 17, 18, 19, 19, 20, 21, 22, 23]</td>\n",
       "      <td>Th17</td>\n",
       "      <td>[0, 1, 2, 2, 3, 4, 4, 5, 6, 7, 7, 8, 9, 9, 10, 11, 11, 12, 13, 13, 14, 15, 15, 16, 17, 17, 18, 19, 20, 20, 21, 22, 22, 23, 24, 25, 26]</td>\n",
       "      <td>[Altogether, ,, &lt;, #, Th17, #, &gt;, cells, require, |, @, IL23, @, |, ,, &lt;, @, TGFβ, @, &gt;, ,, |, @, IL6, @, |, ,, and, |, @, IL1, @, |, for, their, generation, .]</td>\n",
       "      <td>[0, 1, None, None, 2, None, None, 3, 4, None, None, 5, None, None, 6, None, None, 7, None, None, 8, None, None, 9, None, None, 10, 11, None, None, 12, None, None, 13, 14, 15, 16]</td>\n",
       "      <td>0.951099</td>\n",
       "    </tr>\n",
       "    <tr>\n",
       "      <th>30832</th>\n",
       "      <td>1</td>\n",
       "      <td>[-14, -13, -12, -11, -10, -9, -9, -8, -7, -6, -5, -5, -4, -3, -2, -1, -1, 0, 0, 0, 1, 1, 2, 3, 3, 4, 5, 5, 6, 7, 8, 9, 10, 11, 11, 12, 13, 14, 14, 15, 16, 16, 17, 18, 18, 19, 20, 21, 22]</td>\n",
       "      <td>transforming growth factor-β</td>\n",
       "      <td>[-28, -27, -26, -25, -24, -23, -23, -22, -21, -20, -19, -19, -18, -17, -16, -15, -15, -14, -13, -12, -11, -11, -10, -9, -9, -8, -7, -7, -6, -5, -4, -3, -2, -1, -1, 0, 0, 1, 1, 2, 3, 3, 4, 5, 5, 6, 7, 8, 9]</td>\n",
       "      <td>T helper-17</td>\n",
       "      <td>[0, 1, 2, 3, 4, 5, 5, 6, 7, 8, 9, 9, 10, 11, 12, 13, 13, 14, 15, 16, 17, 17, 18, 19, 19, 20, 21, 21, 22, 23, 24, 25, 26, 27, 27, 28, 29, 30, 30, 31, 32, 32, 33, 34, 34, 35, 36, 37, 38]</td>\n",
       "      <td>[The, current, understanding, is, that, |, @, interleukin, (, IL)-6, @, |, in, combination, with, &lt;, @, transforming, growth, factor-β, @, &gt;, (, |, @, TGF-β, @, |, ), leads, to, generation, of, &lt;, #, T, helper-17, #, &gt;, (, |, #, Th17, #, |, ), lineage, cells, .]</td>\n",
       "      <td>[0, 1, 2, 3, 4, None, None, 5, 6, 7, None, None, 8, 9, 10, None, None, 11, 12, 13, None, None, 14, None, None, 15, None, None, 16, 17, 18, 19, 20, None, None, 21, 22, None, None, 23, None, None, 24, None, None, 25, 26, 27, 28]</td>\n",
       "      <td>0.947071</td>\n",
       "    </tr>\n",
       "    <tr>\n",
       "      <th>30726</th>\n",
       "      <td>1</td>\n",
       "      <td>[-6, -5, -4, -3, -2, -1, -1, 0, 1, 1, 2, 3, 3, 4, 5, 5, 6, 7, 8, 9, 10, 11, 11, 12, 13, 13, 14, 15, 16, 17, 18, 19]</td>\n",
       "      <td>IL-2</td>\n",
       "      <td>[-10, -9, -8, -7, -6, -5, -5, -4, -3, -3, -2, -1, -1, 0, 1, 1, 2, 3, 4, 5, 6, 7, 7, 8, 9, 9, 10, 11, 12, 13, 14, 15]</td>\n",
       "      <td>TH1</td>\n",
       "      <td>[0, 1, 2, 3, 4, 5, 5, 6, 7, 7, 8, 9, 9, 10, 11, 11, 12, 13, 14, 15, 16, 17, 17, 18, 19, 19, 20, 21, 22, 23, 24, 25]</td>\n",
       "      <td>[To, clarify, the, role, of, &lt;, @, IL-2, @, &gt;, in, &lt;, #, TH1, #, &gt;, differentiation, ,, we, examined, Il2−/−, |, #, TH1, #, |, differentiated, cells, for, TH1-associated, genes, .]</td>\n",
       "      <td>[0, 1, 2, 3, 4, None, None, 5, None, None, 6, None, None, 7, None, None, 8, 9, 10, 11, 12, None, None, 13, None, None, 14, 15, 16, 17, 18, 19]</td>\n",
       "      <td>0.927419</td>\n",
       "    </tr>\n",
       "    <tr>\n",
       "      <th>30170</th>\n",
       "      <td>1</td>\n",
       "      <td>[-9, -8, -7, -6, -6, -5, -4, -4, -3, -2, -1, -1, 0, 1, 1, 2, 3, 4, 5, 6, 7, 8, 9, 10, 11, 12, 13, 14, 15, 15, 16, 17, 17, 18, 19, 20, 21, 22]</td>\n",
       "      <td>IL6</td>\n",
       "      <td>[-25, -24, -23, -22, -22, -21, -20, -20, -19, -18, -17, -17, -16, -15, -15, -14, -13, -12, -11, -10, -9, -8, -7, -6, -5, -4, -3, -2, -1, -1, 0, 1, 1, 2, 3, 4, 5, 6]</td>\n",
       "      <td>Th17</td>\n",
       "      <td>[0, 1, 2, 3, 3, 4, 5, 5, 6, 7, 8, 8, 9, 10, 10, 11, 12, 13, 14, 15, 16, 17, 18, 19, 20, 21, 22, 23, 24, 24, 25, 26, 26, 27, 28, 29, 30, 31]</td>\n",
       "      <td>[In, mice, ,, |, @, TGFβ, @, |, together, with, &lt;, @, IL6, @, &gt;, can, activate, antigen, -, responsive, naïve, CD4, +, T, cells, to, develop, into, &lt;, #, Th17, #, &gt;, cells, [, 39, ], .]</td>\n",
       "      <td>[0, 1, 2, None, None, 3, None, None, 4, 5, None, None, 6, None, None, 7, 8, 9, 10, 11, 12, 13, 14, 15, 16, 17, 18, 19, None, None, 20, None, None, 21, 22, 23, 24, 25]</td>\n",
       "      <td>0.918420</td>\n",
       "    </tr>\n",
       "  </tbody>\n",
       "</table>\n",
       "</div>"
      ],
      "text/plain": [
       "       label  \\\n",
       "id             \n",
       "30835      1   \n",
       "30241      1   \n",
       "30610      1   \n",
       "30597      1   \n",
       "30508      1   \n",
       "30541      1   \n",
       "30168      0   \n",
       "30727      0   \n",
       "30608      1   \n",
       "30717      0   \n",
       "30622      1   \n",
       "30248      1   \n",
       "30832      1   \n",
       "30726      1   \n",
       "30170      1   \n",
       "\n",
       "                                                                                                                                                                                                                                                                                                           e0_dist  \\\n",
       "id                                                                                                                                                                                                                                                                                                                   \n",
       "30835                                                                                                        [-20, -19, -18, -17, -16, -15, -15, -14, -13, -12, -11, -11, -10, -9, -8, -7, -7, -6, -5, -4, -3, -3, -2, -1, -1, 0, 1, 1, 2, 3, 4, 5, 6, 7, 7, 8, 9, 10, 10, 11, 12, 12, 13, 14, 14, 15, 16, 17, 18]   \n",
       "30241                                          [-8, -7, -7, -6, -5, -4, -3, -3, -2, -1, -1, 0, 1, 1, 2, 3, 3, 4, 5, 6, 7, 7, 8, 9, 10, 10, 11, 12, 12, 13, 14, 15, 16, 17, 18, 19, 20, 20, 21, 22, 22, 23, 24, 24, 25, 26, 26, 27, 28, 29, 30, 31, 31, 32, 33, 33, 34, 35, 36, 37, 38, 38, 39, 40, 40, 41, 42, 43]   \n",
       "30610                                     [-22, -21, -20, -19, -18, -18, -17, -16, -16, -15, -14, -13, -12, -11, -10, -9, -8, -7, -7, -6, -5, -4, -3, -3, -2, -1, -1, 0, 1, 1, 2, 3, 4, 5, 6, 7, 8, 9, 10, 11, 12, 12, 13, 14, 15, 15, 16, 17, 18, 18, 19, 20, 20, 21, 22, 23, 24, 25, 26, 27, 28, 29, 30, 31, 32]   \n",
       "30597  [-44, -43, -42, -41, -40, -39, -38, -37, -36, -35, -34, -33, -32, -31, -30, -29, -28, -27, -26, -25, -24, -23, -22, -21, -20, -19, -18, -17, -16, -15, -14, -13, -12, -12, -11, -10, -10, -9, -8, -7, -6, -5, -5, -4, -3, -3, -2, -1, -1, 0, 1, 1, 2, 3, 4, 5, 6, 7, 8, 9, 9, 10, 11, 11, 12, 13, 14, 15...   \n",
       "30508  [-26, -25, -24, -23, -22, -21, -20, -19, -18, -17, -16, -15, -14, -13, -12, -11, -10, -9, -8, -7, -6, -5, -5, -4, -3, -3, -2, -1, -1, 0, 1, 1, 2, 3, 3, 4, 5, 5, 6, 7, 8, 9, 10, 11, 12, 12, 13, 14, 14, 15, 16, 16, 17, 18, 18, 19, 20, 20, 21, 22, 22, 23, 24, 25, 26, 27, 28, 29, 29, 30, 31, 31, 32,...   \n",
       "30541                                                                                                                                        [-6, -5, -4, -3, -2, -1, -1, 0, 1, 1, 2, 3, 3, 4, 5, 5, 6, 7, 7, 8, 9, 9, 10, 11, 12, 12, 13, 14, 14, 15, 16, 17, 18, 19, 20, 21, 22, 23, 24, 25, 26, 27, 28, 29, 30]   \n",
       "30168                                                                                                                                                              [-7, -7, -6, -5, -5, -4, -3, -2, -1, -1, 0, 1, 1, 2, 3, 4, 5, 5, 6, 7, 8, 9, 9, 10, 12, 13, 14, 15, 16, 17, 18, 19, 20, 20, 21, 22, 22, 23, 24]   \n",
       "30727                                                                                                                                                                                          [-6, -5, -4, -3, -2, -1, -1, 0, 1, 1, 2, 3, 3, 4, 5, 5, 6, 7, 8, 9, 10, 11, 11, 12, 13, 13, 14, 15, 16, 17, 18, 19]   \n",
       "30608                                               [-16, -15, -14, -13, -12, -12, -11, -10, -10, -9, -8, -7, -6, -5, -4, -3, -2, -1, -1, 0, 0, 0, 1, 1, 2, 3, 3, 4, 5, 5, 6, 7, 8, 9, 10, 11, 12, 13, 14, 15, 16, 16, 17, 18, 19, 19, 20, 21, 22, 22, 23, 24, 24, 25, 26, 27, 28, 29, 30, 31, 32, 33, 34, 35, 36]   \n",
       "30717                                                              [-22, -21, -20, -19, -19, -18, -17, -17, -16, -15, -14, -14, -13, -12, -12, -11, -10, -9, -8, -8, -7, -6, -6, -5, -4, -3, -2, -1, -1, 0, 1, 1, 2, 3, 4, 5, 5, 6, 7, 7, 8, 9, 9, 10, 11, 11, 12, 13, 14, 15, 16, 17, 18, 18, 19, 20, 20, 21, 22]   \n",
       "30622                                                                                                                                                                                          [-7, -6, -5, -4, -3, -2, -1, -1, 0, 1, 1, 2, 3, 4, 5, 6, 7, 7, 8, 9, 9, 10, 11, 12, 13, 14, 15, 16, 17, 18, 19, 20]   \n",
       "30248                                                                                                                                                                   [-12, -11, -10, -10, -9, -8, -8, -7, -6, -5, -5, -4, -3, -3, -2, -1, -1, 0, 1, 1, 2, 3, 3, 4, 5, 5, 6, 7, 8, 8, 9, 10, 10, 11, 12, 13, 14]   \n",
       "30832                                                                                                                   [-14, -13, -12, -11, -10, -9, -9, -8, -7, -6, -5, -5, -4, -3, -2, -1, -1, 0, 0, 0, 1, 1, 2, 3, 3, 4, 5, 5, 6, 7, 8, 9, 10, 11, 11, 12, 13, 14, 14, 15, 16, 16, 17, 18, 18, 19, 20, 21, 22]   \n",
       "30726                                                                                                                                                                                          [-6, -5, -4, -3, -2, -1, -1, 0, 1, 1, 2, 3, 3, 4, 5, 5, 6, 7, 8, 9, 10, 11, 11, 12, 13, 13, 14, 15, 16, 17, 18, 19]   \n",
       "30170                                                                                                                                                                [-9, -8, -7, -6, -6, -5, -4, -4, -3, -2, -1, -1, 0, 1, 1, 2, 3, 4, 5, 6, 7, 8, 9, 10, 11, 12, 13, 14, 15, 15, 16, 17, 17, 18, 19, 20, 21, 22]   \n",
       "\n",
       "                            e0_text  \\\n",
       "id                                    \n",
       "30835                         TGF-β   \n",
       "30241                         TGF-β   \n",
       "30610                         TGF-β   \n",
       "30597                          IL12   \n",
       "30508                         IFN-γ   \n",
       "30541                          IL-2   \n",
       "30168                          Ifng   \n",
       "30727                          IL-2   \n",
       "30608  transforming growth factor-β   \n",
       "30717                         TGF-β   \n",
       "30622                          IL-6   \n",
       "30248                          TGFβ   \n",
       "30832  transforming growth factor-β   \n",
       "30726                          IL-2   \n",
       "30170                           IL6   \n",
       "\n",
       "                                                                                                                                                                                                                                                                                                           e1_dist  \\\n",
       "id                                                                                                                                                                                                                                                                                                                   \n",
       "30835                                                                                  [-33, -32, -31, -30, -29, -28, -28, -27, -26, -25, -24, -24, -23, -22, -21, -20, -20, -19, -18, -17, -16, -16, -15, -14, -14, -13, -12, -12, -11, -10, -9, -8, -7, -6, -6, -5, -4, -3, -3, -2, -1, -1, 0, 1, 1, 2, 3, 4, 5]   \n",
       "30241                                        [-12, -11, -11, -10, -9, -8, -7, -7, -6, -5, -5, -4, -3, -3, -2, -1, -1, 0, 0, 0, 1, 1, 2, 3, 4, 4, 5, 6, 6, 7, 8, 9, 10, 11, 12, 13, 14, 14, 15, 16, 16, 17, 18, 18, 19, 20, 20, 21, 22, 23, 24, 25, 25, 26, 27, 27, 28, 29, 30, 31, 32, 32, 33, 34, 34, 35, 36, 37]   \n",
       "30610                       [-35, -34, -33, -32, -31, -31, -30, -29, -29, -28, -27, -26, -25, -24, -23, -22, -21, -20, -20, -19, -18, -17, -16, -16, -15, -14, -14, -13, -12, -12, -11, -10, -9, -8, -7, -6, -5, -4, -3, -2, -1, -1, 0, 0, 1, 1, 2, 3, 4, 4, 5, 6, 6, 7, 8, 9, 10, 11, 12, 13, 14, 15, 16, 17, 18]   \n",
       "30597  [-33, -32, -31, -30, -29, -28, -27, -26, -25, -24, -23, -22, -21, -20, -19, -18, -17, -16, -15, -14, -13, -12, -11, -10, -9, -8, -7, -6, -5, -4, -3, -2, -1, -1, 0, 1, 1, 2, 3, 4, 5, 6, 6, 7, 8, 8, 9, 10, 10, 11, 12, 12, 13, 14, 15, 16, 17, 18, 19, 20, 20, 21, 22, 22, 23, 24, 25, 26, 27, 28, 29, ...   \n",
       "30508  [-30, -29, -28, -27, -26, -25, -24, -23, -22, -21, -20, -19, -18, -17, -16, -15, -14, -13, -12, -11, -10, -9, -9, -8, -7, -7, -6, -5, -5, -4, -3, -3, -2, -1, -1, 0, 1, 1, 2, 3, 4, 5, 6, 7, 8, 8, 9, 10, 10, 11, 12, 12, 13, 14, 14, 15, 16, 16, 17, 18, 18, 19, 20, 21, 22, 23, 24, 25, 25, 26, 27, 27...   \n",
       "30541                                                                                                                                      [-10, -9, -8, -7, -6, -5, -5, -4, -3, -3, -2, -1, -1, 0, 1, 1, 2, 3, 3, 4, 5, 5, 6, 7, 8, 8, 9, 10, 10, 11, 12, 13, 14, 15, 16, 17, 18, 19, 20, 21, 22, 23, 24, 25, 26]   \n",
       "30168                                                                                                                              [-28, -28, -27, -26, -26, -25, -24, -23, -22, -22, -21, -20, -20, -19, -18, -17, -16, -16, -15, -14, -13, -12, -12, -11, -9, -8, -7, -6, -5, -4, -3, -2, -1, -1, 0, 1, 1, 2, 3]   \n",
       "30727                                                                                                                                                                           [-18, -17, -16, -15, -14, -13, -13, -12, -11, -11, -10, -9, -9, -8, -7, -7, -6, -5, -4, -3, -2, -1, -1, 0, 1, 1, 2, 3, 4, 5, 6, 7]   \n",
       "30608                       [-35, -34, -33, -32, -31, -31, -30, -29, -29, -28, -27, -26, -25, -24, -23, -22, -21, -20, -20, -19, -18, -17, -16, -16, -15, -14, -14, -13, -12, -12, -11, -10, -9, -8, -7, -6, -5, -4, -3, -2, -1, -1, 0, 0, 1, 1, 2, 3, 4, 4, 5, 6, 6, 7, 8, 9, 10, 11, 12, 13, 14, 15, 16, 17, 18]   \n",
       "30717                                                                              [-9, -8, -7, -6, -6, -5, -4, -4, -3, -2, -1, -1, 0, 1, 1, 2, 3, 4, 5, 5, 6, 7, 7, 8, 9, 10, 11, 12, 12, 13, 14, 14, 15, 16, 17, 18, 18, 19, 20, 20, 21, 22, 22, 23, 24, 24, 25, 26, 27, 28, 29, 30, 31, 31, 32, 33, 33, 34, 35]   \n",
       "30622                                                                                                                                                                                  [-15, -14, -13, -12, -11, -10, -9, -9, -8, -7, -7, -6, -5, -4, -3, -2, -1, -1, 0, 1, 1, 2, 3, 4, 5, 6, 7, 8, 9, 10, 11, 12]   \n",
       "30248                                                                                                                                                                       [-3, -2, -1, -1, 0, 1, 1, 2, 3, 4, 4, 5, 6, 6, 7, 8, 8, 9, 10, 10, 11, 12, 12, 13, 14, 14, 15, 16, 17, 17, 18, 19, 19, 20, 21, 22, 23]   \n",
       "30832                                                                                                [-28, -27, -26, -25, -24, -23, -23, -22, -21, -20, -19, -19, -18, -17, -16, -15, -15, -14, -13, -12, -11, -11, -10, -9, -9, -8, -7, -7, -6, -5, -4, -3, -2, -1, -1, 0, 0, 1, 1, 2, 3, 3, 4, 5, 5, 6, 7, 8, 9]   \n",
       "30726                                                                                                                                                                                         [-10, -9, -8, -7, -6, -5, -5, -4, -3, -3, -2, -1, -1, 0, 1, 1, 2, 3, 4, 5, 6, 7, 7, 8, 9, 9, 10, 11, 12, 13, 14, 15]   \n",
       "30170                                                                                                                                         [-25, -24, -23, -22, -22, -21, -20, -20, -19, -18, -17, -17, -16, -15, -15, -14, -13, -12, -11, -10, -9, -8, -7, -6, -5, -4, -3, -2, -1, -1, 0, 1, 1, 2, 3, 4, 5, 6]   \n",
       "\n",
       "                    e1_text  \\\n",
       "id                            \n",
       "30835                  Th17   \n",
       "30241  induced regulatory T   \n",
       "30610          regulatory T   \n",
       "30597                   Th1   \n",
       "30508                   Th1   \n",
       "30541                   TH1   \n",
       "30168                   TH1   \n",
       "30727                   TH1   \n",
       "30608          regulatory T   \n",
       "30717                  Th17   \n",
       "30622                  Th17   \n",
       "30248                  Th17   \n",
       "30832           T helper-17   \n",
       "30726                   TH1   \n",
       "30170                  Th17   \n",
       "\n",
       "                                                                                                                                                                                                                                                                                                     token_indices  \\\n",
       "id                                                                                                                                                                                                                                                                                                                   \n",
       "30835                                                                                                                     [0, 1, 2, 3, 4, 5, 5, 6, 7, 8, 9, 9, 10, 11, 12, 13, 13, 14, 15, 16, 17, 17, 18, 19, 19, 20, 21, 21, 22, 23, 24, 25, 26, 27, 27, 28, 29, 30, 30, 31, 32, 32, 33, 34, 34, 35, 36, 37, 38]   \n",
       "30241                                           [0, 1, 1, 2, 3, 4, 5, 5, 6, 7, 7, 8, 9, 9, 10, 11, 11, 12, 13, 14, 15, 15, 16, 17, 18, 18, 19, 20, 20, 21, 22, 23, 24, 25, 26, 27, 28, 28, 29, 30, 30, 31, 32, 32, 33, 34, 34, 35, 36, 37, 38, 39, 39, 40, 41, 41, 42, 43, 44, 45, 46, 46, 47, 48, 48, 49, 50, 51]   \n",
       "30610                                                     [0, 1, 2, 3, 4, 4, 5, 6, 6, 7, 8, 9, 10, 11, 12, 13, 14, 15, 15, 16, 17, 18, 19, 19, 20, 21, 21, 22, 23, 23, 24, 25, 26, 27, 28, 29, 30, 31, 32, 33, 34, 34, 35, 36, 37, 37, 38, 39, 40, 40, 41, 42, 42, 43, 44, 45, 46, 47, 48, 49, 50, 51, 52, 53, 54]   \n",
       "30597  [0, 1, 2, 3, 4, 5, 6, 7, 8, 9, 10, 11, 12, 13, 14, 15, 16, 17, 18, 19, 20, 21, 22, 23, 24, 25, 26, 27, 28, 29, 30, 31, 32, 32, 33, 34, 34, 35, 36, 37, 38, 39, 39, 40, 41, 41, 42, 43, 43, 44, 45, 45, 46, 47, 48, 49, 50, 51, 52, 53, 53, 54, 55, 55, 56, 57, 58, 59, 60, 61, 62, 63, 64, 65, 66, 67, 6...   \n",
       "30508  [0, 1, 2, 3, 4, 5, 6, 7, 8, 9, 10, 11, 12, 13, 14, 15, 16, 17, 18, 19, 20, 21, 21, 22, 23, 23, 24, 25, 25, 26, 27, 27, 28, 29, 29, 30, 31, 31, 32, 33, 34, 35, 36, 37, 38, 38, 39, 40, 40, 41, 42, 42, 43, 44, 44, 45, 46, 46, 47, 48, 48, 49, 50, 51, 52, 53, 54, 55, 55, 56, 57, 57, 58, 59, 60, 61, 6...   \n",
       "30541                                                                                                                                      [0, 1, 2, 3, 4, 5, 5, 6, 7, 7, 8, 9, 9, 10, 11, 11, 12, 13, 13, 14, 15, 15, 16, 17, 18, 18, 19, 20, 20, 21, 22, 23, 24, 25, 26, 27, 28, 29, 30, 31, 32, 33, 34, 35, 36]   \n",
       "30168                                                                                                                                                               [0, 0, 1, 2, 2, 3, 4, 5, 6, 6, 7, 8, 8, 9, 10, 11, 12, 12, 13, 14, 15, 16, 16, 17, 19, 20, 21, 22, 23, 24, 25, 26, 27, 27, 28, 29, 29, 30, 31]   \n",
       "30727                                                                                                                                                                                          [0, 1, 2, 3, 4, 5, 5, 6, 7, 7, 8, 9, 9, 10, 11, 11, 12, 13, 14, 15, 16, 17, 17, 18, 19, 19, 20, 21, 22, 23, 24, 25]   \n",
       "30608                                                     [0, 1, 2, 3, 4, 4, 5, 6, 6, 7, 8, 9, 10, 11, 12, 13, 14, 15, 15, 16, 17, 18, 19, 19, 20, 21, 21, 22, 23, 23, 24, 25, 26, 27, 28, 29, 30, 31, 32, 33, 34, 34, 35, 36, 37, 37, 38, 39, 40, 40, 41, 42, 42, 43, 44, 45, 46, 47, 48, 49, 50, 51, 52, 53, 54]   \n",
       "30717                                                                              [0, 1, 2, 3, 3, 4, 5, 5, 6, 7, 8, 8, 9, 10, 10, 11, 12, 13, 14, 14, 15, 16, 16, 17, 18, 19, 20, 21, 21, 22, 23, 23, 24, 25, 26, 27, 27, 28, 29, 29, 30, 31, 31, 32, 33, 33, 34, 35, 36, 37, 38, 39, 40, 40, 41, 42, 42, 43, 44]   \n",
       "30622                                                                                                                                                                                         [0, 1, 2, 3, 4, 5, 6, 6, 7, 8, 8, 9, 10, 11, 12, 13, 14, 14, 15, 16, 16, 17, 18, 19, 20, 21, 22, 23, 24, 25, 26, 27]   \n",
       "30248                                                                                                                                                                       [0, 1, 2, 2, 3, 4, 4, 5, 6, 7, 7, 8, 9, 9, 10, 11, 11, 12, 13, 13, 14, 15, 15, 16, 17, 17, 18, 19, 20, 20, 21, 22, 22, 23, 24, 25, 26]   \n",
       "30832                                                                                                                     [0, 1, 2, 3, 4, 5, 5, 6, 7, 8, 9, 9, 10, 11, 12, 13, 13, 14, 15, 16, 17, 17, 18, 19, 19, 20, 21, 21, 22, 23, 24, 25, 26, 27, 27, 28, 29, 30, 30, 31, 32, 32, 33, 34, 34, 35, 36, 37, 38]   \n",
       "30726                                                                                                                                                                                          [0, 1, 2, 3, 4, 5, 5, 6, 7, 7, 8, 9, 9, 10, 11, 11, 12, 13, 14, 15, 16, 17, 17, 18, 19, 19, 20, 21, 22, 23, 24, 25]   \n",
       "30170                                                                                                                                                                  [0, 1, 2, 3, 3, 4, 5, 5, 6, 7, 8, 8, 9, 10, 10, 11, 12, 13, 14, 15, 16, 17, 18, 19, 20, 21, 22, 23, 24, 24, 25, 26, 26, 27, 28, 29, 30, 31]   \n",
       "\n",
       "                                                                                                                                                                                                                                                                                                              text  \\\n",
       "id                                                                                                                                                                                                                                                                                                                   \n",
       "30835                                       [The, current, understanding, is, that, |, @, interleukin, (, IL)-6, @, |, in, combination, with, |, @, transforming, growth, factor-β, @, |, (, <, @, TGF-β, @, >, ), leads, to, generation, of, |, #, T, helper-17, #, |, (, <, #, Th17, #, >, ), lineage, cells, .]   \n",
       "30241  [Using, |, @, Transforming, growth, factor-β, @, |, (, <, @, TGF-β, @, >, ), <, #, induced, regulatory, T, #, >, cell, (, |, #, iTreg, #, |, ), system, ,, we, identify, the, TF, |, *, Musculin, *, |, (, |, *, MSC, *, |, ), as, critical, for, |, #, iTreg, #, |, development, by, repression, of, |,...   \n",
       "30610  [Regulatory, DCs, that, express, |, @, IL-10, @, |, ,, programmed, cell, death-1, (, PD-1, ), ,, |, @, transforming, growth, factor-β, @, |, (, <, @, TGF-β, @, >, ), and, argininase, suppress, effector, T, cell, activation, and, promote, <, #, regulatory, T, #, >, cell, (, |, #, Treg, #, |, ), d...   \n",
       "30597  [The, Th1-driven, nature, of, the, EAE, /, MS, disease, was, challenged, by, the, finding, that, IFNγ-, and, IFNγ-receptor, -, deficient, mice, ,, as, well, as, mice, that, lack, other, molecules, involved, in, <, #, Th1, #, >, differentiation, ,, such, as, |, @, IL12p35, @, |, ,, <, @, IL12, @,...   \n",
       "30508  [The, cytokine, milieu, during, CD4, T, cell, activation, is, one, of, the, most, important, factors, in, determining, T, cell, fate, ., |, @, IL-12, @, |, and, <, @, IFN-γ, @, >, induce, <, #, Th1, #, >, cell, differentiation, (, 10–12, ), ;, |, @, IL-4, @, |, and, |, @, IL-2, @, |, induce, |, ...   \n",
       "30541                                                          [Therefore, our, data, reveal, that, <, @, IL-2, @, >, regulates, <, #, TH1, #, >, ,, |, #, TH2, #, |, ,, and, |, #, TH17, #, |, differentiation, based, at, least, in, part, on, its, modulation, of, expression, of, key, cytokine, receptors, .]   \n",
       "30168                                                                                              [|, @, IL-12, @, |, induces, not, only, <, @, Ifng, @, >, expression1, but, also, |, *, T, -, bet, *, |, ,, which, promotes, the, survival, and, proliferation, of, differentiating, <, #, TH1, #, >, cells, .]   \n",
       "30727                                                                                                                         [To, clarify, the, role, of, <, @, IL-2, @, >, in, |, #, TH1, #, |, differentiation, ,, we, examined, Il2−/−, <, #, TH1, #, >, differentiated, cells, for, TH1-associated, genes, .]   \n",
       "30608  [Regulatory, DCs, that, express, |, @, IL-10, @, |, ,, programmed, cell, death-1, (, PD-1, ), ,, <, @, transforming, growth, factor-β, @, >, (, |, @, TGF-β, @, |, ), and, argininase, suppress, effector, T, cell, activation, and, promote, <, #, regulatory, T, #, >, cell, (, |, #, Treg, #, |, ), d...   \n",
       "30717      [We, report, that, |, *, Gfi-1, *, |, suppresses, both, <, #, Th17, #, >, and, CD103, +, |, #, iTreg, #, |, cell, differentiation, ,, whereas, <, @, TGF-β, @, >, ,, critical, for, |, #, Th17, #, |, and, |, #, iTreg, #, |, cell, induction, ,, down, -, regulates, |, *, Gfi-1, *, |, expression, .]   \n",
       "30622                                                                                                [Importantly, ,, we, have, demonstrated, that, <, @, IL-6, @, >, independent, and, dependent, pathways, of, <, #, Th17, #, >, cell, differentiation, are, guided, by, DCs, residing, in, various, tissues, .]   \n",
       "30248                                                                                                                                             [Altogether, ,, <, #, Th17, #, >, cells, require, |, @, IL23, @, |, ,, <, @, TGFβ, @, >, ,, |, @, IL6, @, |, ,, and, |, @, IL1, @, |, for, their, generation, .]   \n",
       "30832                                       [The, current, understanding, is, that, |, @, interleukin, (, IL)-6, @, |, in, combination, with, <, @, transforming, growth, factor-β, @, >, (, |, @, TGF-β, @, |, ), leads, to, generation, of, <, #, T, helper-17, #, >, (, |, #, Th17, #, |, ), lineage, cells, .]   \n",
       "30726                                                                                                                         [To, clarify, the, role, of, <, @, IL-2, @, >, in, <, #, TH1, #, >, differentiation, ,, we, examined, Il2−/−, |, #, TH1, #, |, differentiated, cells, for, TH1-associated, genes, .]   \n",
       "30170                                                                                                                    [In, mice, ,, |, @, TGFβ, @, |, together, with, <, @, IL6, @, >, can, activate, antigen, -, responsive, naïve, CD4, +, T, cells, to, develop, into, <, #, Th17, #, >, cells, [, 39, ], .]   \n",
       "\n",
       "                                                                                                                                                                                                                                                                                                      word_indices  \\\n",
       "id                                                                                                                                                                                                                                                                                                                   \n",
       "30835                                                                           [0, 1, 2, 3, 4, None, None, 5, 6, 7, None, None, 8, 9, 10, None, None, 11, 12, 13, None, None, 14, None, None, 15, None, None, 16, 17, 18, 19, 20, None, None, 21, 22, None, None, 23, None, None, 24, None, None, 25, 26, 27, 28]   \n",
       "30241  [0, None, None, 1, 2, 3, None, None, 4, None, None, 5, None, None, 6, None, None, 7, 8, 9, None, None, 10, 11, None, None, 12, None, None, 13, 14, 15, 16, 17, 18, 19, None, None, 20, None, None, 21, None, None, 22, None, None, 23, 24, 25, 26, None, None, 27, None, None, 28, 29, 30, 31, None, Non...   \n",
       "30610           [0, 1, 2, 3, None, None, 4, None, None, 5, 6, 7, 8, 9, 10, 11, 12, None, None, 13, 14, 15, None, None, 16, None, None, 17, None, None, 18, 19, 20, 21, 22, 23, 24, 25, 26, 27, None, None, 28, 29, None, None, 30, 31, None, None, 32, None, None, 33, 34, 35, 36, 37, 38, 39, 40, 41, 42, 43, 44]   \n",
       "30597  [0, 1, 2, 3, 4, 5, 6, 7, 8, 9, 10, 11, 12, 13, 14, 15, 16, 17, 18, 19, 20, 21, 22, 23, 24, 25, 26, 27, 28, 29, 30, 31, None, None, 32, None, None, 33, 34, 35, 36, None, None, 37, None, None, 38, None, None, 39, None, None, 40, 41, 42, 43, 44, 45, 46, None, None, 47, None, None, 48, 49, 50, 51, 5...   \n",
       "30508  [0, 1, 2, 3, 4, 5, 6, 7, 8, 9, 10, 11, 12, 13, 14, 15, 16, 17, 18, 19, 20, None, None, 21, None, None, 22, None, None, 23, None, None, 24, None, None, 25, None, None, 26, 27, 28, 29, 30, 31, None, None, 32, None, None, 33, None, None, 34, None, None, 35, None, None, 36, None, None, 37, 38, 39, 4...   \n",
       "30541                                                                                                   [0, 1, 2, 3, 4, None, None, 5, None, None, 6, None, None, 7, None, None, 8, None, None, 9, None, None, 10, 11, None, None, 12, None, None, 13, 14, 15, 16, 17, 18, 19, 20, 21, 22, 23, 24, 25, 26, 27, 28]   \n",
       "30168                                                                                                                           [None, None, 0, None, None, 1, 2, 3, None, None, 4, None, None, 5, 6, 7, None, None, 8, 9, 10, None, None, 11, 13, 14, 15, 16, 17, 18, 19, 20, None, None, 21, None, None, 22, 23]   \n",
       "30727                                                                                                                                                               [0, 1, 2, 3, 4, None, None, 5, None, None, 6, None, None, 7, None, None, 8, 9, 10, 11, 12, None, None, 13, None, None, 14, 15, 16, 17, 18, 19]   \n",
       "30608           [0, 1, 2, 3, None, None, 4, None, None, 5, 6, 7, 8, 9, 10, 11, 12, None, None, 13, 14, 15, None, None, 16, None, None, 17, None, None, 18, 19, 20, 21, 22, 23, 24, 25, 26, 27, None, None, 28, 29, None, None, 30, 31, None, None, 32, None, None, 33, 34, 35, 36, 37, 38, 39, 40, 41, 42, 43, 44]   \n",
       "30717                   [0, 1, 2, None, None, 3, None, None, 4, 5, None, None, 6, None, None, 7, 8, 9, None, None, 10, None, None, 11, 12, 13, 14, None, None, 15, None, None, 16, 17, 18, None, None, 19, None, None, 20, None, None, 21, None, None, 22, 23, 24, 25, 26, 27, None, None, 28, None, None, 29, 30]   \n",
       "30622                                                                                                                                                                       [0, 1, 2, 3, 4, 5, None, None, 6, None, None, 7, 8, 9, 10, 11, None, None, 12, None, None, 13, 14, 15, 16, 17, 18, 19, 20, 21, 22, 23]   \n",
       "30248                                                                                                                           [0, 1, None, None, 2, None, None, 3, 4, None, None, 5, None, None, 6, None, None, 7, None, None, 8, None, None, 9, None, None, 10, 11, None, None, 12, None, None, 13, 14, 15, 16]   \n",
       "30832                                                                           [0, 1, 2, 3, 4, None, None, 5, 6, 7, None, None, 8, 9, 10, None, None, 11, 12, 13, None, None, 14, None, None, 15, None, None, 16, 17, 18, 19, 20, None, None, 21, 22, None, None, 23, None, None, 24, None, None, 25, 26, 27, 28]   \n",
       "30726                                                                                                                                                               [0, 1, 2, 3, 4, None, None, 5, None, None, 6, None, None, 7, None, None, 8, 9, 10, 11, 12, None, None, 13, None, None, 14, 15, 16, 17, 18, 19]   \n",
       "30170                                                                                                                                       [0, 1, 2, None, None, 3, None, None, 4, 5, None, None, 6, None, None, 7, 8, 9, 10, 11, 12, 13, 14, 15, 16, 17, 18, 19, None, None, 20, None, None, 21, 22, 23, 24, 25]   \n",
       "\n",
       "           pred  \n",
       "id               \n",
       "30835  0.987022  \n",
       "30241  0.986626  \n",
       "30610  0.976267  \n",
       "30597  0.972955  \n",
       "30508  0.968230  \n",
       "30541  0.964587  \n",
       "30168  0.964428  \n",
       "30727  0.961135  \n",
       "30608  0.961095  \n",
       "30717  0.960947  \n",
       "30622  0.960536  \n",
       "30248  0.951099  \n",
       "30832  0.947071  \n",
       "30726  0.927419  \n",
       "30170  0.918420  "
      ]
     },
     "execution_count": 78,
     "metadata": {},
     "output_type": "execute_result"
    }
   ],
   "source": [
    "from torchtext.data import Iterator\n",
    "pd.set_option('display.max_colwidth', 300)\n",
    "batch = next(iter(Iterator(\n",
    "    ds_val, \n",
    "    len(ds_val),\n",
    "    sort_key=lambda x: len(x.text), \n",
    "    sort_within_batch=True,\n",
    "    repeat=False\n",
    ")))\n",
    "Y_pred = model_restore.transform(model_restore.forward(model_restore.prepare(batch)[0])).detach().numpy()\n",
    "ids = batch.id.numpy()\n",
    "o = np.argsort(Y_pred)[::-1]\n",
    "df_pred = df.set_index('id').loc[list(ids[o])].assign(pred=Y_pred[o])\n",
    "df_pred.head(15)"
   ]
  },
  {
   "cell_type": "code",
   "execution_count": 82,
   "metadata": {},
   "outputs": [
    {
     "data": {
      "text/plain": [
       "0.5915492957746479"
      ]
     },
     "execution_count": 82,
     "metadata": {},
     "output_type": "execute_result"
    }
   ],
   "source": [
    "# Validate that:\n",
    "# 1. This score matches the score stored in the checkpoint file names\n",
    "# 2. That sklearn f1_score gives same result as custom f1 score in MetricsLambda\n",
    "from sklearn.metrics import f1_score\n",
    "f1_score(df_pred['label'], (df_pred['pred'] > .5).astype(int))"
   ]
  }
 ],
 "metadata": {
  "kernelspec": {
   "display_name": "Python 3",
   "language": "python",
   "name": "python3"
  },
  "language_info": {
   "codemirror_mode": {
    "name": "ipython",
    "version": 3
   },
   "file_extension": ".py",
   "mimetype": "text/x-python",
   "name": "python",
   "nbconvert_exporter": "python",
   "pygments_lexer": "ipython3",
   "version": "3.6.8"
  }
 },
 "nbformat": 4,
 "nbformat_minor": 4
}
