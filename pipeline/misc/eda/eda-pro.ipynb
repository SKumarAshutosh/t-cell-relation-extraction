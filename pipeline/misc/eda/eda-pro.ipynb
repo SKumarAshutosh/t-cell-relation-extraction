{
 "cells": [
  {
   "cell_type": "code",
   "execution_count": 5,
   "metadata": {},
   "outputs": [],
   "source": [
    "from owlready2 import get_ontology\n",
    "import os.path as osp\n",
    "import re\n",
    "import os\n",
    "import pandas as pd\n",
    "import numpy as np\n",
    "from dotenv import load_dotenv\n",
    "load_dotenv('../env.sh')\n",
    "None"
   ]
  },
  {
   "cell_type": "code",
   "execution_count": 6,
   "metadata": {},
   "outputs": [
    {
     "data": {
      "text/plain": [
       "get_ontology(\"http://purl.obolibrary.org/obo/pr.owl#\")"
      ]
     },
     "execution_count": 6,
     "metadata": {},
     "output_type": "execute_result"
    }
   ],
   "source": [
    "# Download pr.owl from http://www.obofoundry.org/ontology/pr.html\n",
    "onto = get_ontology(osp.join(os.environ['DATA_DIR'], 'meta', 'pro', 'pr.owl'))\n",
    "onto.load()"
   ]
  },
  {
   "cell_type": "code",
   "execution_count": 7,
   "metadata": {},
   "outputs": [
    {
     "data": {
      "text/plain": [
       "[rdf-schema.comment,\n",
       " rdf-schema.label,\n",
       " owl.deprecated,\n",
       " oboInOwl.hasOBOFormatVersion,\n",
       " oboInOwl.date,\n",
       " oboInOwl.auto-generated-by,\n",
       " oboInOwl.saved-by,\n",
       " oboInOwl.default-namespace,\n",
       " obo.IAO_0000115,\n",
       " obo.IAO_0100001,\n",
       " pr.NC-IUPHAR,\n",
       " oboInOwl.SynonymTypeProperty,\n",
       " oboInOwl.hasExactSynonym,\n",
       " oboInOwl.hasScope,\n",
       " pr.PRO-common-name,\n",
       " pr.PRO-org-label,\n",
       " pr.PRO-proteoform-ftid,\n",
       " pr.PRO-proteoform-std,\n",
       " pr.PRO-short-label,\n",
       " pr.PSI-MOD-label,\n",
       " oboInOwl.consider,\n",
       " oboInOwl.hasAlternativeId,\n",
       " oboInOwl.hasBroadSynonym,\n",
       " oboInOwl.hasDbXref,\n",
       " oboInOwl.hasNarrowSynonym,\n",
       " oboInOwl.hasOBONamespace,\n",
       " oboInOwl.hasRelatedSynonym,\n",
       " oboInOwl.hasSynonymType,\n",
       " oboInOwl.id,\n",
       " oboInOwl.is_transitive,\n",
       " oboInOwl.shorthand]"
      ]
     },
     "execution_count": 7,
     "metadata": {},
     "output_type": "execute_result"
    }
   ],
   "source": [
    "list(onto.annotation_properties())"
   ]
  },
  {
   "cell_type": "code",
   "execution_count": 8,
   "metadata": {},
   "outputs": [
    {
     "data": {
      "text/plain": [
       "[obo.PR_P10145]"
      ]
     },
     "execution_count": 8,
     "metadata": {},
     "output_type": "execute_result"
    }
   ],
   "source": [
    "#res = list(onto.search(label='interleukin-4 receptor subunit alpha, signal peptide removed form'))\n",
    "#res = list(onto.search(label='CD48 molecule'))\n",
    "#res = list(onto.search(label='C-X-C chemokine receptor type 3'))\n",
    "#res = list(onto.search(id='Araport:AT5G50600'))\n",
    "res = list(onto.search(id='PR:P10145'))\n",
    "res"
   ]
  },
  {
   "cell_type": "code",
   "execution_count": 9,
   "metadata": {},
   "outputs": [],
   "source": [
    "v = res[0]"
   ]
  },
  {
   "cell_type": "code",
   "execution_count": 10,
   "metadata": {},
   "outputs": [
    {
     "name": "stdout",
     "output_type": "stream",
     "text": [
      "Category=organism-gene. Salivary oral cancer biomarker.\n"
     ]
    }
   ],
   "source": [
    "if v.comment:\n",
    "    print(v.comment[0])"
   ]
  },
  {
   "cell_type": "code",
   "execution_count": 11,
   "metadata": {},
   "outputs": [
    {
     "data": {
      "text/plain": [
       "(['PR:P10145'],\n",
       " ['Category=organism-gene. Salivary oral cancer biomarker.'],\n",
       " ['GCP-1 (human)', 'IL8'],\n",
       " ['C-X-C motif chemokine 8 (human)',\n",
       "  'IL-8 (human)',\n",
       "  'MDNCF (human)',\n",
       "  'MONAP (human)',\n",
       "  'NAP-1 (human)',\n",
       "  'T-cell chemotactic factor (human)',\n",
       "  'chemokine (C-X-C motif) ligand 8 (human)',\n",
       "  'emoctakin (human)',\n",
       "  'granulocyte chemotactic protein 1 (human)',\n",
       "  'hCXCL8',\n",
       "  'monocyte-derived neutrophil chemotactic factor (human)',\n",
       "  'monocyte-derived neutrophil-activating peptide (human)',\n",
       "  'neutrophil-activating protein 1 (human)',\n",
       "  'protein 3-10C (human)'],\n",
       " [],\n",
       " [])"
      ]
     },
     "execution_count": 11,
     "metadata": {},
     "output_type": "execute_result"
    }
   ],
   "source": [
    "v.id,v.comment, v.hasRelatedSynonym, v.hasExactSynonym, v.consider, v.hasBroadSynonym"
   ]
  },
  {
   "cell_type": "code",
   "execution_count": 12,
   "metadata": {},
   "outputs": [
    {
     "data": {
      "text/plain": [
       "([], [], [], ['protein'])"
      ]
     },
     "execution_count": 12,
     "metadata": {},
     "output_type": "execute_result"
    }
   ],
   "source": [
    "v.hasSynonymType, v.shorthand, v.hasScope, v.hasOBONamespace"
   ]
  },
  {
   "cell_type": "code",
   "execution_count": 13,
   "metadata": {},
   "outputs": [
    {
     "data": {
      "text/plain": [
       "<bound method EntityClass.ancestors of obo.PR_P10145>"
      ]
     },
     "execution_count": 13,
     "metadata": {},
     "output_type": "execute_result"
    }
   ],
   "source": [
    "v.ancestors"
   ]
  },
  {
   "cell_type": "code",
   "execution_count": 14,
   "metadata": {},
   "outputs": [
    {
     "name": "stdout",
     "output_type": "stream",
     "text": [
      "['BFO:0000040']\n",
      "['PR:000029067']\n",
      "['PR:000036194']\n",
      "None\n",
      "['PR:000018263']\n",
      "['BFO:0000030']\n",
      "['PR:000001395']\n",
      "['CHEBI:50047']\n",
      "['PR:000000001']\n",
      "['CHEBI:23367']\n",
      "['CHEBI:24431']\n",
      "['PR:P10145']\n"
     ]
    }
   ],
   "source": [
    "for a in v.ancestors():\n",
    "    print(a.id if hasattr(a,'id') else None)"
   ]
  },
  {
   "cell_type": "code",
   "execution_count": 23,
   "metadata": {},
   "outputs": [
    {
     "data": {
      "text/plain": [
       "{obo.BFO_0000030,\n",
       " obo.BFO_0000040,\n",
       " obo.CHEBI_23367,\n",
       " obo.CHEBI_24431,\n",
       " obo.CHEBI_50047,\n",
       " obo.PR_000000001,\n",
       " obo.PR_000001395,\n",
       " obo.PR_000018263,\n",
       " obo.PR_000029067,\n",
       " obo.PR_000036194,\n",
       " obo.PR_P10145,\n",
       " owl.Thing}"
      ]
     },
     "execution_count": 23,
     "metadata": {},
     "output_type": "execute_result"
    }
   ],
   "source": [
    "v.ancestors()"
   ]
  },
  {
   "cell_type": "code",
   "execution_count": 26,
   "metadata": {},
   "outputs": [
    {
     "data": {
      "text/plain": [
       "(str, 'PR:P10145')"
      ]
     },
     "execution_count": 26,
     "metadata": {},
     "output_type": "execute_result"
    }
   ],
   "source": [
    "type(v.id[0]), v.id[0]"
   ]
  },
  {
   "cell_type": "code",
   "execution_count": 21,
   "metadata": {},
   "outputs": [
    {
     "data": {
      "text/plain": [
       "obo.PR_000001395"
      ]
     },
     "execution_count": 21,
     "metadata": {},
     "output_type": "execute_result"
    }
   ],
   "source": [
    "c = list(v.ancestors())[6]\n",
    "c"
   ]
  },
  {
   "cell_type": "code",
   "execution_count": 22,
   "metadata": {},
   "outputs": [
    {
     "data": {
      "text/plain": [
       "['Category=gene.']"
      ]
     },
     "execution_count": 22,
     "metadata": {},
     "output_type": "execute_result"
    }
   ],
   "source": [
    "c.comment"
   ]
  },
  {
   "cell_type": "code",
   "execution_count": 15,
   "metadata": {},
   "outputs": [
    {
     "data": {
      "text/plain": [
       "mappingproxy({'namespace': get_ontology(\"http://purl.obolibrary.org/obo/pr.owl#\").get_namespace(\"http://purl.obolibrary.org/obo/\"),\n",
       "              'storid': 155667,\n",
       "              '_name': 'PR_P10145',\n",
       "              'is_a': [obo.PR_000001395,\n",
       "               obo.PR_000029067,\n",
       "               pr.has_gene_template.some(cgi-bin.gene_symbol_report?hgnc_id=6025),\n",
       "               obo.RO_0002160.some(obo.NCBITaxon_9606)],\n",
       "              '_equivalent_to': [obo.PR_000001395 & obo.RO_0002160.some(obo.NCBITaxon_9606)],\n",
       "              '__module__': 'owlready2.entity',\n",
       "              '__doc__': None,\n",
       "              '__comment': ['Category=organism-gene. Salivary oral cancer biomarker.'],\n",
       "              '__id': ['PR:P10145'],\n",
       "              '__hasRelatedSynonym': ['GCP-1 (human)', 'IL8'],\n",
       "              '__hasExactSynonym': ['C-X-C motif chemokine 8 (human)',\n",
       "               'IL-8 (human)',\n",
       "               'MDNCF (human)',\n",
       "               'MONAP (human)',\n",
       "               'NAP-1 (human)',\n",
       "               'T-cell chemotactic factor (human)',\n",
       "               'chemokine (C-X-C motif) ligand 8 (human)',\n",
       "               'emoctakin (human)',\n",
       "               'granulocyte chemotactic protein 1 (human)',\n",
       "               'hCXCL8',\n",
       "               'monocyte-derived neutrophil chemotactic factor (human)',\n",
       "               'monocyte-derived neutrophil-activating peptide (human)',\n",
       "               'neutrophil-activating protein 1 (human)',\n",
       "               'protein 3-10C (human)'],\n",
       "              '__consider': [],\n",
       "              '__hasBroadSynonym': [],\n",
       "              '__hasSynonymType': [],\n",
       "              '__shorthand': [],\n",
       "              '__hasScope': [],\n",
       "              '__hasOBONamespace': ['protein']})"
      ]
     },
     "execution_count": 15,
     "metadata": {},
     "output_type": "execute_result"
    }
   ],
   "source": [
    "v.__dict__"
   ]
  }
 ],
 "metadata": {
  "kernelspec": {
   "display_name": "Python 3",
   "language": "python",
   "name": "python3"
  },
  "language_info": {
   "codemirror_mode": {
    "name": "ipython",
    "version": 3
   },
   "file_extension": ".py",
   "mimetype": "text/x-python",
   "name": "python",
   "nbconvert_exporter": "python",
   "pygments_lexer": "ipython3",
   "version": "3.6.7"
  }
 },
 "nbformat": 4,
 "nbformat_minor": 2
}
