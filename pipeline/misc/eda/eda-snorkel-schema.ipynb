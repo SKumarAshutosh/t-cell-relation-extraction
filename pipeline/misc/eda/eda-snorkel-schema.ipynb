{
 "cells": [
  {
   "cell_type": "code",
   "execution_count": 1,
   "metadata": {},
   "outputs": [],
   "source": [
    "from snorkel import SnorkelSession\n",
    "from snorkel.models import StableLabel\n",
    "from snorkel.models import Document\n",
    "session = SnorkelSession()"
   ]
  },
  {
   "cell_type": "code",
   "execution_count": 3,
   "metadata": {},
   "outputs": [
    {
     "data": {
      "text/plain": [
       "4521"
      ]
     },
     "execution_count": 3,
     "metadata": {},
     "output_type": "execute_result"
    }
   ],
   "source": [
    "session.query(Document).count()"
   ]
  },
  {
   "cell_type": "code",
   "execution_count": 4,
   "metadata": {},
   "outputs": [
    {
     "data": {
      "text/plain": [
       "(False, True)"
      ]
     },
     "execution_count": 4,
     "metadata": {},
     "output_type": "execute_result"
    }
   ],
   "source": [
    "session.autocommit, session.autoflush"
   ]
  },
  {
   "cell_type": "code",
   "execution_count": 2,
   "metadata": {},
   "outputs": [],
   "source": [
    "from sqlalchemy import MetaData\n",
    "m = MetaData()\n",
    "m.reflect(session.connection())"
   ]
  },
  {
   "cell_type": "code",
   "execution_count": 3,
   "metadata": {},
   "outputs": [
    {
     "data": {
      "text/plain": [
       "dict_keys(['candidate', 'context', 'document', 'feature', 'feature_key', 'gold_label', 'gold_label_key', 'inducing_cytokine', 'inducing_transcription_factor', 'label', 'label_key', 'marginal', 'prediction', 'prediction_key', 'secreted_cytokine', 'sentence', 'span', 'stable_label'])"
      ]
     },
     "execution_count": 3,
     "metadata": {},
     "output_type": "execute_result"
    }
   ],
   "source": [
    "m.tables.keys()"
   ]
  },
  {
   "cell_type": "code",
   "execution_count": 8,
   "metadata": {},
   "outputs": [
    {
     "data": {
      "text/plain": [
       "('candidate',\n",
       " Table('candidate', MetaData(bind=None), Column('id', INTEGER(), table=<candidate>, primary_key=True, nullable=False), Column('type', VARCHAR(), table=<candidate>, nullable=False), Column('split', INTEGER(), table=<candidate>, nullable=False), schema=None))"
      ]
     },
     "execution_count": 8,
     "metadata": {},
     "output_type": "execute_result"
    }
   ],
   "source": [
    "list(m.tables.items())[0]"
   ]
  },
  {
   "cell_type": "code",
   "execution_count": 14,
   "metadata": {},
   "outputs": [
    {
     "name": "stdout",
     "output_type": "stream",
     "text": [
      "candidate\n",
      "Table('candidate', MetaData(bind=None), Column('id', INTEGER(), table=<candidate>, primary_key=True, nullable=False), Column('type', VARCHAR(), table=<candidate>, nullable=False), Column('split', INTEGER(), table=<candidate>, nullable=False), schema=None)\n",
      "\n",
      "context\n",
      "Table('context', MetaData(bind=None), Column('id', INTEGER(), table=<context>, primary_key=True, nullable=False), Column('type', VARCHAR(), table=<context>, nullable=False), Column('stable_id', VARCHAR(), table=<context>, nullable=False), schema=None)\n",
      "\n",
      "document\n",
      "Table('document', MetaData(bind=None), Column('id', INTEGER(), ForeignKey('context.id'), table=<document>, primary_key=True, nullable=False), Column('name', VARCHAR(), table=<document>, nullable=False), Column('meta', BLOB(), table=<document>), schema=None)\n",
      "\n",
      "feature\n",
      "Table('feature', MetaData(bind=None), Column('value', FLOAT(), table=<feature>, nullable=False), Column('key_id', INTEGER(), ForeignKey('feature_key.id'), table=<feature>, primary_key=True, nullable=False), Column('candidate_id', INTEGER(), ForeignKey('candidate.id'), table=<feature>, primary_key=True, nullable=False), schema=None)\n",
      "\n",
      "feature_key\n",
      "Table('feature_key', MetaData(bind=None), Column('id', INTEGER(), table=<feature_key>, primary_key=True, nullable=False), Column('name', VARCHAR(), table=<feature_key>, nullable=False), Column('group', INTEGER(), table=<feature_key>, nullable=False), schema=None)\n",
      "\n",
      "gold_label\n",
      "Table('gold_label', MetaData(bind=None), Column('value', INTEGER(), table=<gold_label>, nullable=False), Column('key_id', INTEGER(), ForeignKey('gold_label_key.id'), table=<gold_label>, primary_key=True, nullable=False), Column('candidate_id', INTEGER(), ForeignKey('candidate.id'), table=<gold_label>, primary_key=True, nullable=False), schema=None)\n",
      "\n",
      "gold_label_key\n",
      "Table('gold_label_key', MetaData(bind=None), Column('id', INTEGER(), table=<gold_label_key>, primary_key=True, nullable=False), Column('name', VARCHAR(), table=<gold_label_key>, nullable=False), Column('group', INTEGER(), table=<gold_label_key>, nullable=False), schema=None)\n",
      "\n",
      "inducing_cytokine\n",
      "Table('inducing_cytokine', MetaData(bind=None), Column('id', INTEGER(), ForeignKey('candidate.id'), table=<inducing_cytokine>, primary_key=True, nullable=False), Column('cytokine_id', INTEGER(), ForeignKey('context.id'), table=<inducing_cytokine>), Column('cytokine_cid', VARCHAR(), table=<inducing_cytokine>), Column('immune_cell_type_id', INTEGER(), ForeignKey('context.id'), table=<inducing_cytokine>), Column('immune_cell_type_cid', VARCHAR(), table=<inducing_cytokine>), schema=None)\n",
      "\n",
      "inducing_transcription_factor\n",
      "Table('inducing_transcription_factor', MetaData(bind=None), Column('id', INTEGER(), ForeignKey('candidate.id'), table=<inducing_transcription_factor>, primary_key=True, nullable=False), Column('transcription_factor_id', INTEGER(), ForeignKey('context.id'), table=<inducing_transcription_factor>), Column('transcription_factor_cid', VARCHAR(), table=<inducing_transcription_factor>), Column('immune_cell_type_id', INTEGER(), ForeignKey('context.id'), table=<inducing_transcription_factor>), Column('immune_cell_type_cid', VARCHAR(), table=<inducing_transcription_factor>), schema=None)\n",
      "\n",
      "label\n",
      "Table('label', MetaData(bind=None), Column('value', INTEGER(), table=<label>, nullable=False), Column('key_id', INTEGER(), ForeignKey('label_key.id'), table=<label>, primary_key=True, nullable=False), Column('candidate_id', INTEGER(), ForeignKey('candidate.id'), table=<label>, primary_key=True, nullable=False), schema=None)\n",
      "\n",
      "label_key\n",
      "Table('label_key', MetaData(bind=None), Column('id', INTEGER(), table=<label_key>, primary_key=True, nullable=False), Column('name', VARCHAR(), table=<label_key>, nullable=False), Column('group', INTEGER(), table=<label_key>, nullable=False), schema=None)\n",
      "\n",
      "marginal\n",
      "Table('marginal', MetaData(bind=None), Column('id', INTEGER(), table=<marginal>, primary_key=True, nullable=False), Column('candidate_id', INTEGER(), ForeignKey('candidate.id'), table=<marginal>), Column('training', BOOLEAN(), table=<marginal>), Column('value', INTEGER(), table=<marginal>, nullable=False), Column('probability', FLOAT(), table=<marginal>, nullable=False), schema=None)\n",
      "\n",
      "prediction\n",
      "Table('prediction', MetaData(bind=None), Column('value', FLOAT(), table=<prediction>, nullable=False), Column('key_id', INTEGER(), ForeignKey('prediction_key.id'), table=<prediction>, primary_key=True, nullable=False), Column('candidate_id', INTEGER(), ForeignKey('candidate.id'), table=<prediction>, primary_key=True, nullable=False), schema=None)\n",
      "\n",
      "prediction_key\n",
      "Table('prediction_key', MetaData(bind=None), Column('id', INTEGER(), table=<prediction_key>, primary_key=True, nullable=False), Column('name', VARCHAR(), table=<prediction_key>, nullable=False), Column('group', INTEGER(), table=<prediction_key>, nullable=False), schema=None)\n",
      "\n",
      "secreted_cytokine\n",
      "Table('secreted_cytokine', MetaData(bind=None), Column('id', INTEGER(), ForeignKey('candidate.id'), table=<secreted_cytokine>, primary_key=True, nullable=False), Column('cytokine_id', INTEGER(), ForeignKey('context.id'), table=<secreted_cytokine>), Column('cytokine_cid', VARCHAR(), table=<secreted_cytokine>), Column('immune_cell_type_id', INTEGER(), ForeignKey('context.id'), table=<secreted_cytokine>), Column('immune_cell_type_cid', VARCHAR(), table=<secreted_cytokine>), schema=None)\n",
      "\n",
      "sentence\n",
      "Table('sentence', MetaData(bind=None), Column('id', INTEGER(), ForeignKey('context.id'), table=<sentence>, primary_key=True, nullable=False), Column('document_id', INTEGER(), ForeignKey('document.id'), table=<sentence>), Column('position', INTEGER(), table=<sentence>, nullable=False), Column('text', TEXT(), table=<sentence>, nullable=False), Column('words', BLOB(), table=<sentence>, nullable=False), Column('char_offsets', BLOB(), table=<sentence>, nullable=False), Column('abs_char_offsets', BLOB(), table=<sentence>, nullable=False), Column('lemmas', BLOB(), table=<sentence>), Column('pos_tags', BLOB(), table=<sentence>), Column('ner_tags', BLOB(), table=<sentence>), Column('dep_parents', BLOB(), table=<sentence>), Column('dep_labels', BLOB(), table=<sentence>), Column('entity_cids', BLOB(), table=<sentence>), Column('entity_types', BLOB(), table=<sentence>), schema=None)\n",
      "\n",
      "span\n",
      "Table('span', MetaData(bind=None), Column('id', INTEGER(), ForeignKey('context.id'), table=<span>, primary_key=True, nullable=False), Column('sentence_id', INTEGER(), ForeignKey('sentence.id'), table=<span>), Column('char_start', INTEGER(), table=<span>, nullable=False), Column('char_end', INTEGER(), table=<span>, nullable=False), Column('meta', BLOB(), table=<span>), schema=None)\n",
      "\n",
      "stable_label\n",
      "Table('stable_label', MetaData(bind=None), Column('context_stable_ids', VARCHAR(), table=<stable_label>, primary_key=True, nullable=False), Column('annotator_name', VARCHAR(), table=<stable_label>, primary_key=True, nullable=False), Column('split', INTEGER(), table=<stable_label>), Column('value', INTEGER(), table=<stable_label>, nullable=False), schema=None)\n",
      "\n"
     ]
    }
   ],
   "source": [
    "for k, v in m.tables.items():\n",
    "    print(k)\n",
    "    print(v.__repr__())\n",
    "    print()"
   ]
  }
 ],
 "metadata": {
  "kernelspec": {
   "display_name": "Python 3",
   "language": "python",
   "name": "python3"
  },
  "language_info": {
   "codemirror_mode": {
    "name": "ipython",
    "version": 3
   },
   "file_extension": ".py",
   "mimetype": "text/x-python",
   "name": "python",
   "nbconvert_exporter": "python",
   "pygments_lexer": "ipython3",
   "version": "3.6.8"
  }
 },
 "nbformat": 4,
 "nbformat_minor": 4
}
