{
 "cells": [
  {
   "cell_type": "code",
   "execution_count": 1,
   "metadata": {},
   "outputs": [],
   "source": [
    "from snorkel import SnorkelSession\n",
    "from snorkel.models import StableLabel\n",
    "session = SnorkelSession()"
   ]
  },
  {
   "cell_type": "code",
   "execution_count": 2,
   "metadata": {},
   "outputs": [],
   "source": [
    "from snorkel.models import Document"
   ]
  },
  {
   "cell_type": "code",
   "execution_count": 6,
   "metadata": {},
   "outputs": [
    {
     "data": {
      "text/plain": [
       "576"
      ]
     },
     "execution_count": 6,
     "metadata": {},
     "output_type": "execute_result"
    }
   ],
   "source": [
    "session.query(Document).count()"
   ]
  },
  {
   "cell_type": "code",
   "execution_count": 5,
   "metadata": {},
   "outputs": [
    {
     "data": {
      "text/plain": [
       "(False, True)"
      ]
     },
     "execution_count": 5,
     "metadata": {},
     "output_type": "execute_result"
    }
   ],
   "source": [
    "session.autocommit, session.autoflush"
   ]
  },
  {
   "cell_type": "code",
   "execution_count": 5,
   "metadata": {},
   "outputs": [],
   "source": [
    "from sqlalchemy import MetaData\n",
    "m = MetaData()\n",
    "m.reflect(session.connection())"
   ]
  },
  {
   "cell_type": "code",
   "execution_count": 6,
   "metadata": {},
   "outputs": [
    {
     "data": {
      "text/plain": [
       "dict_keys(['candidate', 'context', 'document', 'feature', 'feature_key', 'gold_label', 'gold_label_key', 'inducing_cytokine', 'inducing_transcription_factor', 'label', 'label_key', 'marginal', 'prediction', 'prediction_key', 'secreted_cytokine', 'sentence', 'span', 'stable_label'])"
      ]
     },
     "execution_count": 6,
     "metadata": {},
     "output_type": "execute_result"
    }
   ],
   "source": [
    "m.tables.keys()"
   ]
  },
  {
   "cell_type": "code",
   "execution_count": 4,
   "metadata": {},
   "outputs": [
    {
     "data": {
      "text/plain": [
       "Table('stable_label', MetaData(bind=None), Column('context_stable_ids', VARCHAR(), table=<stable_label>, primary_key=True, nullable=False), Column('annotator_name', VARCHAR(), table=<stable_label>, primary_key=True, nullable=False), Column('split', INTEGER(), table=<stable_label>), Column('value', INTEGER(), table=<stable_label>, nullable=False), schema=None)"
      ]
     },
     "execution_count": 4,
     "metadata": {},
     "output_type": "execute_result"
    }
   ],
   "source": [
    "tbl = m.tables['stable_label']\n",
    "tbl"
   ]
  },
  {
   "cell_type": "code",
   "execution_count": null,
   "metadata": {},
   "outputs": [],
   "source": [
    "m.tables['gold_label']"
   ]
  },
  {
   "cell_type": "code",
   "execution_count": 8,
   "metadata": {},
   "outputs": [
    {
     "data": {
      "text/plain": [
       "Table('span', MetaData(bind=None), Column('id', INTEGER(), ForeignKey('context.id'), table=<span>, primary_key=True, nullable=False), Column('sentence_id', INTEGER(), ForeignKey('sentence.id'), table=<span>), Column('char_start', INTEGER(), table=<span>, nullable=False), Column('char_end', INTEGER(), table=<span>, nullable=False), Column('meta', BLOB(), table=<span>), schema=None)"
      ]
     },
     "execution_count": 8,
     "metadata": {},
     "output_type": "execute_result"
    }
   ],
   "source": [
    "m.tables['span']"
   ]
  },
  {
   "cell_type": "code",
   "execution_count": 8,
   "metadata": {},
   "outputs": [
    {
     "data": {
      "text/plain": [
       "Table('sentence', MetaData(bind=None), Column('id', INTEGER(), ForeignKey('context.id'), table=<sentence>, primary_key=True, nullable=False), Column('document_id', INTEGER(), ForeignKey('document.id'), table=<sentence>), Column('position', INTEGER(), table=<sentence>, nullable=False), Column('text', TEXT(), table=<sentence>, nullable=False), Column('words', BLOB(), table=<sentence>, nullable=False), Column('char_offsets', BLOB(), table=<sentence>, nullable=False), Column('abs_char_offsets', BLOB(), table=<sentence>, nullable=False), Column('lemmas', BLOB(), table=<sentence>), Column('pos_tags', BLOB(), table=<sentence>), Column('ner_tags', BLOB(), table=<sentence>), Column('dep_parents', BLOB(), table=<sentence>), Column('dep_labels', BLOB(), table=<sentence>), Column('entity_cids', BLOB(), table=<sentence>), Column('entity_types', BLOB(), table=<sentence>), schema=None)"
      ]
     },
     "execution_count": 8,
     "metadata": {},
     "output_type": "execute_result"
    }
   ],
   "source": [
    "m.tables['sentence']"
   ]
  },
  {
   "cell_type": "code",
   "execution_count": 9,
   "metadata": {},
   "outputs": [
    {
     "data": {
      "text/plain": [
       "Table('context', MetaData(bind=None), Column('id', INTEGER(), table=<context>, primary_key=True, nullable=False), Column('type', VARCHAR(), table=<context>, nullable=False), Column('stable_id', VARCHAR(), table=<context>, nullable=False), schema=None)"
      ]
     },
     "execution_count": 9,
     "metadata": {},
     "output_type": "execute_result"
    }
   ],
   "source": [
    "m.tables['context']"
   ]
  },
  {
   "cell_type": "code",
   "execution_count": 4,
   "metadata": {},
   "outputs": [
    {
     "data": {
      "text/plain": [
       "Table('marginal', MetaData(bind=None), Column('id', INTEGER(), table=<marginal>, primary_key=True, nullable=False), Column('candidate_id', INTEGER(), ForeignKey('candidate.id'), table=<marginal>), Column('training', BOOLEAN(), table=<marginal>), Column('value', INTEGER(), table=<marginal>, nullable=False), Column('probability', FLOAT(), table=<marginal>, nullable=False), schema=None)"
      ]
     },
     "execution_count": 4,
     "metadata": {},
     "output_type": "execute_result"
    }
   ],
   "source": [
    "m.tables['marginal']"
   ]
  },
  {
   "cell_type": "code",
   "execution_count": 10,
   "metadata": {},
   "outputs": [
    {
     "data": {
      "text/plain": [
       "Table('candidate', MetaData(bind=None), Column('id', INTEGER(), table=<candidate>, primary_key=True, nullable=False), Column('type', VARCHAR(), table=<candidate>, nullable=False), Column('split', INTEGER(), table=<candidate>, nullable=False), schema=None)"
      ]
     },
     "execution_count": 10,
     "metadata": {},
     "output_type": "execute_result"
    }
   ],
   "source": [
    "m.tables['candidate']"
   ]
  },
  {
   "cell_type": "code",
   "execution_count": 13,
   "metadata": {},
   "outputs": [
    {
     "data": {
      "text/plain": [
       "[(23635, 'inducing_transcription_factor'),\n",
       " (23636, 'inducing_transcription_factor'),\n",
       " (23637, 'inducing_transcription_factor'),\n",
       " (23638, 'inducing_transcription_factor'),\n",
       " (23639, 'inducing_transcription_factor'),\n",
       " (23640, 'inducing_transcription_factor'),\n",
       " (23641, 'inducing_transcription_factor'),\n",
       " (23642, 'inducing_transcription_factor'),\n",
       " (23643, 'inducing_transcription_factor'),\n",
       " (23644, 'inducing_transcription_factor')]"
      ]
     },
     "execution_count": 13,
     "metadata": {},
     "output_type": "execute_result"
    }
   ],
   "source": [
    "from snorkel.models import Candidate\n",
    "session.query(Candidate.id, Candidate.type).filter(Candidate.type == 'inducing_transcription_factor').limit(10).all()"
   ]
  },
  {
   "cell_type": "code",
   "execution_count": 11,
   "metadata": {},
   "outputs": [
    {
     "data": {
      "text/plain": [
       "Table('inducing_cytokine', MetaData(bind=None), Column('id', INTEGER(), ForeignKey('candidate.id'), table=<inducing_cytokine>, primary_key=True, nullable=False), Column('cytokine_id', INTEGER(), ForeignKey('context.id'), table=<inducing_cytokine>), Column('cytokine_cid', VARCHAR(), table=<inducing_cytokine>), Column('immune_cell_type_id', INTEGER(), ForeignKey('context.id'), table=<inducing_cytokine>), Column('immune_cell_type_cid', VARCHAR(), table=<inducing_cytokine>), schema=None)"
      ]
     },
     "execution_count": 11,
     "metadata": {},
     "output_type": "execute_result"
    }
   ],
   "source": [
    "m.tables['inducing_cytokine']"
   ]
  },
  {
   "cell_type": "code",
   "execution_count": 5,
   "metadata": {},
   "outputs": [
    {
     "data": {
      "text/plain": [
       "Table('inducing_transcription_factor', MetaData(bind=None), Column('id', INTEGER(), ForeignKey('candidate.id'), table=<inducing_transcription_factor>, primary_key=True, nullable=False), Column('cytokine_id', INTEGER(), ForeignKey('context.id'), table=<inducing_transcription_factor>), Column('cytokine_cid', VARCHAR(), table=<inducing_transcription_factor>), Column('immune_cell_type_id', INTEGER(), ForeignKey('context.id'), table=<inducing_transcription_factor>), Column('immune_cell_type_cid', VARCHAR(), table=<inducing_transcription_factor>), schema=None)"
      ]
     },
     "execution_count": 5,
     "metadata": {},
     "output_type": "execute_result"
    }
   ],
   "source": [
    "m.tables['inducing_transcription_factor']"
   ]
  },
  {
   "cell_type": "code",
   "execution_count": 9,
   "metadata": {},
   "outputs": [
    {
     "data": {
      "text/plain": [
       "212"
      ]
     },
     "execution_count": 9,
     "metadata": {},
     "output_type": "execute_result"
    }
   ],
   "source": [
    "from snorkel.models import StableLabel\n",
    "session.query(StableLabel).count()"
   ]
  }
 ],
 "metadata": {
  "kernelspec": {
   "display_name": "Python 3",
   "language": "python",
   "name": "python3"
  },
  "language_info": {
   "codemirror_mode": {
    "name": "ipython",
    "version": 3
   },
   "file_extension": ".py",
   "mimetype": "text/x-python",
   "name": "python",
   "nbconvert_exporter": "python",
   "pygments_lexer": "ipython3",
   "version": "3.6.8"
  }
 },
 "nbformat": 4,
 "nbformat_minor": 4
}
