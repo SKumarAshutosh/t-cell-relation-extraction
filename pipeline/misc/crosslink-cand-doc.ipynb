{
 "cells": [
  {
   "cell_type": "markdown",
   "metadata": {},
   "source": [
    "### Linking Candidates to Documents Efficiently\n",
    "\n",
    "- All Spans are Contexts which have a stable_id (and the doc name is in the stable id)\n",
    "- Specific Candidate subclass tables each have a span record that can be used to link to stable id"
   ]
  },
  {
   "cell_type": "code",
   "execution_count": 50,
   "metadata": {},
   "outputs": [],
   "source": [
    "from snorkel import SnorkelSession\n",
    "from tcre import supervision\n",
    "import pandas as pd\n",
    "session = SnorkelSession()\n",
    "classes = supervision.get_candidate_classes()"
   ]
  },
  {
   "cell_type": "code",
   "execution_count": 14,
   "metadata": {},
   "outputs": [],
   "source": [
    "from snorkel.models import Document, Span, Context, Candidate, SnorkelBase"
   ]
  },
  {
   "cell_type": "code",
   "execution_count": 4,
   "metadata": {},
   "outputs": [],
   "source": [
    "sc = classes.inducing_cytokine.subclass"
   ]
  },
  {
   "cell_type": "code",
   "execution_count": 6,
   "metadata": {},
   "outputs": [],
   "source": [
    "from snorkel.models import candidate_subclass"
   ]
  },
  {
   "cell_type": "code",
   "execution_count": 9,
   "metadata": {},
   "outputs": [
    {
     "data": {
      "text/plain": [
       "['cytokine', 'immune_cell_type']"
      ]
     },
     "execution_count": 9,
     "metadata": {},
     "output_type": "execute_result"
    }
   ],
   "source": [
    "sc.__argnames__"
   ]
  },
  {
   "cell_type": "code",
   "execution_count": 17,
   "metadata": {},
   "outputs": [],
   "source": [
    "#!cat /opt/conda/envs/nlp/lib/python3.6/site-packages/sqlalchemy/ext/declarative/api.py"
   ]
  },
  {
   "cell_type": "code",
   "execution_count": 18,
   "metadata": {},
   "outputs": [],
   "source": [
    "span = session.query(Span).limit(1).one()"
   ]
  },
  {
   "cell_type": "code",
   "execution_count": 19,
   "metadata": {},
   "outputs": [
    {
     "data": {
      "text/plain": [
       "Span(\"b'T Follicular Helper'\", sentence=503, chars=[17,35], words=[2,4])"
      ]
     },
     "execution_count": 19,
     "metadata": {},
     "output_type": "execute_result"
    }
   ],
   "source": [
    "span"
   ]
  },
  {
   "cell_type": "code",
   "execution_count": 21,
   "metadata": {},
   "outputs": [
    {
     "data": {
      "text/plain": [
       "794041"
      ]
     },
     "execution_count": 21,
     "metadata": {},
     "output_type": "execute_result"
    }
   ],
   "source": [
    "span.id"
   ]
  },
  {
   "cell_type": "code",
   "execution_count": 24,
   "metadata": {},
   "outputs": [
    {
     "data": {
      "text/plain": [
       "'PMC6170619::span:17:35'"
      ]
     },
     "execution_count": 24,
     "metadata": {},
     "output_type": "execute_result"
    }
   ],
   "source": [
    "span.stable_id"
   ]
  },
  {
   "cell_type": "code",
   "execution_count": 23,
   "metadata": {},
   "outputs": [
    {
     "data": {
      "text/plain": [
       "Span(\"b'T Follicular Helper'\", sentence=503, chars=[17,35], words=[2,4])"
      ]
     },
     "execution_count": 23,
     "metadata": {},
     "output_type": "execute_result"
    }
   ],
   "source": [
    "ctx = session.query(Context).filter(Context.id == 794041).one()\n",
    "ctx"
   ]
  },
  {
   "cell_type": "code",
   "execution_count": 41,
   "metadata": {},
   "outputs": [],
   "source": [
    "cand = session.query(classes.inducing_cytokine.subclass).limit(100).all()[-1]"
   ]
  },
  {
   "cell_type": "code",
   "execution_count": 42,
   "metadata": {},
   "outputs": [
    {
     "data": {
      "text/plain": [
       "InducingCytokine(Span(\"b'IFN\\xce\\xb3'\", sentence=985, chars=[51,54], words=[8,8]), Span(\"b'Th2'\", sentence=985, chars=[119,121], words=[17,17]))"
      ]
     },
     "execution_count": 42,
     "metadata": {},
     "output_type": "execute_result"
    }
   ],
   "source": [
    "cand"
   ]
  },
  {
   "cell_type": "code",
   "execution_count": 43,
   "metadata": {},
   "outputs": [
    {
     "data": {
      "text/plain": [
       "100"
      ]
     },
     "execution_count": 43,
     "metadata": {},
     "output_type": "execute_result"
    }
   ],
   "source": [
    "cand.id"
   ]
  },
  {
   "cell_type": "code",
   "execution_count": 60,
   "metadata": {},
   "outputs": [
    {
     "data": {
      "text/plain": [
       "'inducing_cytokine'"
      ]
     },
     "execution_count": 60,
     "metadata": {},
     "output_type": "execute_result"
    }
   ],
   "source": [
    "cand.type"
   ]
  },
  {
   "cell_type": "code",
   "execution_count": 28,
   "metadata": {},
   "outputs": [
    {
     "data": {
      "text/plain": [
       "(Span(\"b'chemokine receptor CXCR5'\", sentence=514, chars=[141,164], words=[27,29]),\n",
       " Span(\"b'Tfh'\", sentence=514, chars=[0,2], words=[0,0]))"
      ]
     },
     "execution_count": 28,
     "metadata": {},
     "output_type": "execute_result"
    }
   ],
   "source": [
    "cand.get_contexts()"
   ]
  },
  {
   "cell_type": "markdown",
   "metadata": {},
   "source": [
    "### Develop Query for Single Class"
   ]
  },
  {
   "cell_type": "code",
   "execution_count": 51,
   "metadata": {},
   "outputs": [],
   "source": [
    "con = session.connection()"
   ]
  },
  {
   "cell_type": "code",
   "execution_count": 56,
   "metadata": {},
   "outputs": [
    {
     "data": {
      "text/plain": [
       "['cytokine', 'immune_cell_type']"
      ]
     },
     "execution_count": 56,
     "metadata": {},
     "output_type": "execute_result"
    }
   ],
   "source": [
    "classes.inducing_cytokine.entity_types"
   ]
  },
  {
   "cell_type": "code",
   "execution_count": 66,
   "metadata": {},
   "outputs": [
    {
     "data": {
      "text/html": [
       "<div>\n",
       "<style scoped>\n",
       "    .dataframe tbody tr th:only-of-type {\n",
       "        vertical-align: middle;\n",
       "    }\n",
       "\n",
       "    .dataframe tbody tr th {\n",
       "        vertical-align: top;\n",
       "    }\n",
       "\n",
       "    .dataframe thead th {\n",
       "        text-align: right;\n",
       "    }\n",
       "</style>\n",
       "<table border=\"1\" class=\"dataframe\">\n",
       "  <thead>\n",
       "    <tr style=\"text-align: right;\">\n",
       "      <th></th>\n",
       "      <th>cand_id</th>\n",
       "      <th>sentence_id</th>\n",
       "      <th>doc_id</th>\n",
       "    </tr>\n",
       "  </thead>\n",
       "  <tbody>\n",
       "    <tr>\n",
       "      <th>0</th>\n",
       "      <td>1</td>\n",
       "      <td>514</td>\n",
       "      <td>1</td>\n",
       "    </tr>\n",
       "    <tr>\n",
       "      <th>1</th>\n",
       "      <td>2</td>\n",
       "      <td>515</td>\n",
       "      <td>1</td>\n",
       "    </tr>\n",
       "    <tr>\n",
       "      <th>2</th>\n",
       "      <td>3</td>\n",
       "      <td>528</td>\n",
       "      <td>1</td>\n",
       "    </tr>\n",
       "    <tr>\n",
       "      <th>3</th>\n",
       "      <td>4</td>\n",
       "      <td>661</td>\n",
       "      <td>1</td>\n",
       "    </tr>\n",
       "    <tr>\n",
       "      <th>4</th>\n",
       "      <td>5</td>\n",
       "      <td>665</td>\n",
       "      <td>1</td>\n",
       "    </tr>\n",
       "  </tbody>\n",
       "</table>\n",
       "</div>"
      ],
      "text/plain": [
       "   cand_id  sentence_id  doc_id\n",
       "0        1          514       1\n",
       "1        2          515       1\n",
       "2        3          528       1\n",
       "3        4          661       1\n",
       "4        5          665       1"
      ]
     },
     "execution_count": 66,
     "metadata": {},
     "output_type": "execute_result"
    }
   ],
   "source": [
    "rs = con.execute(\n",
    "    'SELECT A.id AS cand_id, C.id AS sentence_id, D.id AS doc_id  '\n",
    "    'FROM inducing_cytokine A '\n",
    "    'INNER JOIN span B ON A.immune_cell_type_id = B.id '\n",
    "    'INNER JOIN sentence C ON B.sentence_id = C.id '\n",
    "    'INNER JOIN document D ON C.document_id = D.id'\n",
    ")\n",
    "cols = rs.keys()\n",
    "df = pd.DataFrame([r for r in rs], columns=cols)\n",
    "df.head()"
   ]
  },
  {
   "cell_type": "code",
   "execution_count": 68,
   "metadata": {},
   "outputs": [
    {
     "name": "stdout",
     "output_type": "stream",
     "text": [
      "<class 'pandas.core.frame.DataFrame'>\n",
      "RangeIndex: 91839 entries, 0 to 91838\n",
      "Data columns (total 3 columns):\n",
      "cand_id        91839 non-null int64\n",
      "sentence_id    91839 non-null int64\n",
      "doc_id         91839 non-null int64\n",
      "dtypes: int64(3)\n",
      "memory usage: 2.1 MB\n"
     ]
    }
   ],
   "source": [
    "df.info()"
   ]
  },
  {
   "cell_type": "code",
   "execution_count": 67,
   "metadata": {},
   "outputs": [
    {
     "data": {
      "text/plain": [
       "91839"
      ]
     },
     "execution_count": 67,
     "metadata": {},
     "output_type": "execute_result"
    }
   ],
   "source": [
    "session.query(classes.inducing_cytokine.subclass).count()"
   ]
  },
  {
   "cell_type": "markdown",
   "metadata": {},
   "source": [
    "### Generalize to All Classes"
   ]
  },
  {
   "cell_type": "code",
   "execution_count": 70,
   "metadata": {},
   "outputs": [
    {
     "data": {
      "text/plain": [
       "'SELECT D.id AS doc_id, C.id AS sentence_id, A.id AS cand_id FROM {} A INNER JOIN span B ON A.immune_cell_type_id = B.id INNER JOIN sentence C ON B.sentence_id = C.id INNER JOIN document D ON C.document_id = D.id'"
      ]
     },
     "execution_count": 70,
     "metadata": {},
     "output_type": "execute_result"
    }
   ],
   "source": [
    "QUERY_TEMPLATE = (\n",
    "    'SELECT D.id AS doc_id, C.id AS sentence_id, A.id AS cand_id '\n",
    "    'FROM {} A '\n",
    "    'INNER JOIN span B ON A.immune_cell_type_id = B.id '\n",
    "    'INNER JOIN sentence C ON B.sentence_id = C.id '\n",
    "    'INNER JOIN document D ON C.document_id = D.id'\n",
    ")\n",
    "QUERY_TEMPLATE"
   ]
  },
  {
   "cell_type": "code",
   "execution_count": 76,
   "metadata": {},
   "outputs": [],
   "source": [
    "def _get_query(cand_class):\n",
    "    if 'immune_cell_type' not in cand_class.entity_types:\n",
    "        raise ValueError('Candidate class {} does not have required entity type \"immune_cell_type\"'.format(cand_class.field))\n",
    "    return QUERY_TEMPLATE.format(cand_class.field)\n",
    "\n",
    "def _run_query(con, query):\n",
    "    rs = con.execute(query)\n",
    "    return pd.DataFrame([r for r in rs], columns=rs.keys())\n",
    "\n",
    "def get_cand_docs(session, classes):\n",
    "    con = session.connection()\n",
    "    df = pd.concat([_run_query(con, _get_query(classes[c])).assign(cand_type=classes[c].field) for c in classes])\n",
    "    return df"
   ]
  },
  {
   "cell_type": "code",
   "execution_count": 77,
   "metadata": {},
   "outputs": [
    {
     "name": "stdout",
     "output_type": "stream",
     "text": [
      "<class 'pandas.core.frame.DataFrame'>\n",
      "Int64Index: 220213 entries, 0 to 36534\n",
      "Data columns (total 4 columns):\n",
      "doc_id         220213 non-null int64\n",
      "sentence_id    220213 non-null int64\n",
      "cand_id        220213 non-null int64\n",
      "cand_type      220213 non-null object\n",
      "dtypes: int64(3), object(1)\n",
      "memory usage: 8.4+ MB\n"
     ]
    }
   ],
   "source": [
    "df = get_cand_docs(session, classes)\n",
    "df.info()"
   ]
  },
  {
   "cell_type": "code",
   "execution_count": 79,
   "metadata": {},
   "outputs": [
    {
     "data": {
      "text/plain": [
       "cand_type\n",
       "inducing_cytokine                91839\n",
       "inducing_transcription_factor    36535\n",
       "secreted_cytokine                91839\n",
       "Name: cand_id, dtype: int64"
      ]
     },
     "execution_count": 79,
     "metadata": {},
     "output_type": "execute_result"
    }
   ],
   "source": [
    "df.groupby('cand_type')['cand_id'].nunique()"
   ]
  },
  {
   "cell_type": "code",
   "execution_count": 78,
   "metadata": {},
   "outputs": [
    {
     "data": {
      "text/plain": [
       "type\n",
       "inducing_cytokine                91839\n",
       "inducing_transcription_factor    36535\n",
       "secreted_cytokine                91839\n",
       "Name: id, dtype: int64"
      ]
     },
     "execution_count": 78,
     "metadata": {},
     "output_type": "execute_result"
    }
   ],
   "source": [
    "pd.DataFrame(session.query(Candidate.type, Candidate.id).all()).groupby('type')['id'].nunique()"
   ]
  },
  {
   "cell_type": "code",
   "execution_count": 85,
   "metadata": {},
   "outputs": [
    {
     "data": {
      "text/plain": [
       "<module 'tcre.query' from '/lab/repos/t-cell-relation-extraction/src/tcre/query.py'>"
      ]
     },
     "execution_count": 85,
     "metadata": {},
     "output_type": "execute_result"
    }
   ],
   "source": [
    "from tcre import query as tcre_query\n",
    "import imp\n",
    "imp.reload(tcre_query)"
   ]
  },
  {
   "cell_type": "code",
   "execution_count": 86,
   "metadata": {},
   "outputs": [
    {
     "name": "stdout",
     "output_type": "stream",
     "text": [
      "<class 'pandas.core.frame.DataFrame'>\n",
      "Int64Index: 220213 entries, 0 to 36534\n",
      "Data columns (total 4 columns):\n",
      "doc_id         220213 non-null int64\n",
      "sentence_id    220213 non-null int64\n",
      "cand_id        220213 non-null int64\n",
      "cand_type      220213 non-null object\n",
      "dtypes: int64(3), object(1)\n",
      "memory usage: 8.4+ MB\n"
     ]
    }
   ],
   "source": [
    "tcre_query.DocToCand.all(session, classes).info()"
   ]
  }
 ],
 "metadata": {
  "kernelspec": {
   "display_name": "Python 3",
   "language": "python",
   "name": "python3"
  },
  "language_info": {
   "codemirror_mode": {
    "name": "ipython",
    "version": 3
   },
   "file_extension": ".py",
   "mimetype": "text/x-python",
   "name": "python",
   "nbconvert_exporter": "python",
   "pygments_lexer": "ipython3",
   "version": "3.6.8"
  }
 },
 "nbformat": 4,
 "nbformat_minor": 4
}
