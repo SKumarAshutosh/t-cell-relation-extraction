{
 "cells": [
  {
   "cell_type": "code",
   "execution_count": 1,
   "metadata": {},
   "outputs": [],
   "source": [
    "import pronto\n",
    "import os.path as osp\n",
    "import re\n",
    "import os\n",
    "import pandas as pd\n",
    "import numpy as np\n",
    "%run env.py"
   ]
  },
  {
   "cell_type": "code",
   "execution_count": 2,
   "metadata": {},
   "outputs": [],
   "source": [
    "# Download cl.owl from http://purl.obolibrary.org/obo/cl.owl\n",
    "onto = pronto.Ontology(osp.join(os.environ['DATA_DIR'], 'meta', 'cl', 'cl.owl'))"
   ]
  },
  {
   "cell_type": "code",
   "execution_count": 8,
   "metadata": {},
   "outputs": [
    {
     "data": {
      "text/plain": [
       "<CL:0000084: T cell>"
      ]
     },
     "execution_count": 8,
     "metadata": {},
     "output_type": "execute_result"
    }
   ],
   "source": [
    "# Get term for \"T Cell\"\n",
    "# See: https://www.ebi.ac.uk/ols/ontologies/cl/terms?iri=http%3A%2F%2Fpurl.obolibrary.org%2Fobo%2FCL_0000084\n",
    "parent = onto['CL:0000084']\n",
    "parent"
   ]
  },
  {
   "cell_type": "code",
   "execution_count": 9,
   "metadata": {},
   "outputs": [
    {
     "data": {
      "text/plain": [
       "135"
      ]
     },
     "execution_count": 9,
     "metadata": {},
     "output_type": "execute_result"
    }
   ],
   "source": [
    "len(list(parent.rchildren()))"
   ]
  },
  {
   "cell_type": "code",
   "execution_count": 12,
   "metadata": {},
   "outputs": [
    {
     "data": {
      "text/plain": [
       "136"
      ]
     },
     "execution_count": 12,
     "metadata": {},
     "output_type": "execute_result"
    }
   ],
   "source": [
    "terms = [parent] + list(parent.rchildren())\n",
    "len(terms)"
   ]
  },
  {
   "cell_type": "code",
   "execution_count": 24,
   "metadata": {},
   "outputs": [
    {
     "data": {
      "text/plain": [
       "EXACT      447\n",
       "BROAD       58\n",
       "RELATED     18\n",
       "NARROW       3\n",
       "dtype: int64"
      ]
     },
     "execution_count": 24,
     "metadata": {},
     "output_type": "execute_result"
    }
   ],
   "source": [
    "pd.Series([\n",
    "    s.scope\n",
    "    for t in terms\n",
    "    for s in t.synonyms\n",
    "]).value_counts()"
   ]
  },
  {
   "cell_type": "code",
   "execution_count": 29,
   "metadata": {},
   "outputs": [
    {
     "name": "stdout",
     "output_type": "stream",
     "text": [
      "<class 'pandas.core.frame.DataFrame'>\n",
      "Int64Index: 662 entries, 0 to 135\n",
      "Data columns (total 5 columns):\n",
      "desc       662 non-null object\n",
      "id         662 non-null object\n",
      "label      662 non-null object\n",
      "syn        662 non-null object\n",
      "syn_typ    662 non-null object\n",
      "dtypes: object(5)\n",
      "memory usage: 31.0+ KB\n"
     ]
    }
   ],
   "source": [
    "def get_row(t, s, syn_typ):\n",
    "    return dict(\n",
    "        id=t.id, label=t.name, desc=str(t.desc),\n",
    "        syn=s.desc,\n",
    "        syn_typ=syn_typ if syn_typ else s.scope.lower()\n",
    "    )\n",
    "\n",
    "def get_frame(syn_fn, syn_typ=None):    \n",
    "    return pd.DataFrame([\n",
    "        get_row(t, s, syn_typ)\n",
    "        for t in terms\n",
    "        for s in syn_fn(t)\n",
    "    ])\n",
    "            \n",
    "dfa = pd.concat([\n",
    "    get_frame(lambda t: t.synonyms),\n",
    "    get_frame(lambda t: [pronto.Synonym(t.name)], 'label')\n",
    "])\n",
    "dfa.info()"
   ]
  },
  {
   "cell_type": "code",
   "execution_count": 30,
   "metadata": {},
   "outputs": [
    {
     "data": {
      "text/plain": [
       "exact      447\n",
       "label      136\n",
       "broad       58\n",
       "related     18\n",
       "narrow       3\n",
       "Name: syn_typ, dtype: int64"
      ]
     },
     "execution_count": 30,
     "metadata": {},
     "output_type": "execute_result"
    }
   ],
   "source": [
    "dfa['syn_typ'].value_counts()"
   ]
  },
  {
   "cell_type": "code",
   "execution_count": 32,
   "metadata": {},
   "outputs": [
    {
     "data": {
      "text/plain": [
       "1    617\n",
       "2      8\n",
       "3      5\n",
       "7      2\n",
       "Name: id, dtype: int64"
      ]
     },
     "execution_count": 32,
     "metadata": {},
     "output_type": "execute_result"
    }
   ],
   "source": [
    "cts = dfa.groupby('syn')['id'].nunique()\n",
    "cts.value_counts()"
   ]
  },
  {
   "cell_type": "code",
   "execution_count": 33,
   "metadata": {},
   "outputs": [
    {
     "data": {
      "text/plain": [
       "syn\n",
       "IEL                           7\n",
       "NKT.44+.NK1.1-.Th             2\n",
       "cytotoxic T cell              2\n",
       "cytotoxic T lymphocyte        2\n",
       "cytotoxic T-cell              2\n",
       "cytotoxic T-lymphocyte        2\n",
       "early cortical thymocyte      2\n",
       "immature T cell               3\n",
       "immature T-cell               2\n",
       "intraepithelial lymphocyte    7\n",
       "mature T cell                 2\n",
       "suppressor T cell             3\n",
       "suppressor T lymphocyte       3\n",
       "suppressor T-cell             3\n",
       "suppressor T-lymphocyte       3\n",
       "Name: id, dtype: int64"
      ]
     },
     "execution_count": 33,
     "metadata": {},
     "output_type": "execute_result"
    }
   ],
   "source": [
    "cts[cts > 1]"
   ]
  },
  {
   "cell_type": "code",
   "execution_count": 35,
   "metadata": {},
   "outputs": [
    {
     "name": "stdout",
     "output_type": "stream",
     "text": [
      "<class 'pandas.core.frame.DataFrame'>\n",
      "Int64Index: 632 entries, 412 to 186\n",
      "Data columns (total 6 columns):\n",
      "desc          632 non-null object\n",
      "id            632 non-null object\n",
      "label         632 non-null object\n",
      "syn           632 non-null object\n",
      "syn_typ       632 non-null object\n",
      "syn_typ_id    632 non-null int64\n",
      "dtypes: int64(1), object(5)\n",
      "memory usage: 34.6+ KB\n"
     ]
    }
   ],
   "source": [
    "# Resolve conflicting tokens using synonym type preference\n",
    "SYN_TYPES = {'label': 5, 'exact': 4, 'narrow': 3, 'related': 2, 'broad': 1}\n",
    "\n",
    "def assign_syn_typ_id(df):\n",
    "    df['syn_typ_id'] = df['syn_typ'].map(SYN_TYPES)\n",
    "    assert df['syn_typ_id'].notnull().all()\n",
    "    return df\n",
    "\n",
    "dfr = (\n",
    "    dfa\n",
    "    .pipe(assign_syn_typ_id)\n",
    "    # Note that NA values will are last by default (i.e. lowest)\n",
    "    .sort_values(['syn', 'syn_typ_id', 'id'], ascending=False)\n",
    "    .groupby(['syn'], group_keys=False).head(1)\n",
    ")\n",
    "assert dfr.groupby(['syn']).size().max() == 1\n",
    "dfr.info()"
   ]
  },
  {
   "cell_type": "code",
   "execution_count": 40,
   "metadata": {},
   "outputs": [],
   "source": [
    "# Ensure that labels and ids are mutually exclusive\n",
    "assert dfr.groupby('label')['id'].nunique().max() == 1\n",
    "assert dfr.groupby('id')['label'].nunique().max() == 1"
   ]
  },
  {
   "cell_type": "code",
   "execution_count": 36,
   "metadata": {},
   "outputs": [
    {
     "data": {
      "text/html": [
       "<div>\n",
       "<style scoped>\n",
       "    .dataframe tbody tr th:only-of-type {\n",
       "        vertical-align: middle;\n",
       "    }\n",
       "\n",
       "    .dataframe tbody tr th {\n",
       "        vertical-align: top;\n",
       "    }\n",
       "\n",
       "    .dataframe thead th {\n",
       "        text-align: right;\n",
       "    }\n",
       "</style>\n",
       "<table border=\"1\" class=\"dataframe\">\n",
       "  <thead>\n",
       "    <tr style=\"text-align: right;\">\n",
       "      <th></th>\n",
       "      <th>desc</th>\n",
       "      <th>id</th>\n",
       "      <th>label</th>\n",
       "      <th>syn</th>\n",
       "      <th>syn_typ</th>\n",
       "      <th>syn_typ_id</th>\n",
       "    </tr>\n",
       "  </thead>\n",
       "  <tbody>\n",
       "    <tr>\n",
       "      <th>119</th>\n",
       "      <td>A CD4-positive, alpha-beta T cell that has the...</td>\n",
       "      <td>CL:0001051</td>\n",
       "      <td>CD4-positive, CXCR3-negative, CCR6-negative, a...</td>\n",
       "      <td>non-Th1/Th17 CD4+ T cell</td>\n",
       "      <td>broad</td>\n",
       "      <td>1</td>\n",
       "    </tr>\n",
       "    <tr>\n",
       "      <th>268</th>\n",
       "      <td>A CD8-positive, alpha-beta T cell that has the...</td>\n",
       "      <td>CL:0001052</td>\n",
       "      <td>CD8-positive, CXCR3-negative, CCR6-negative, a...</td>\n",
       "      <td>non-Tc1/Tc17 CD8+ T cell</td>\n",
       "      <td>broad</td>\n",
       "      <td>1</td>\n",
       "    </tr>\n",
       "    <tr>\n",
       "      <th>147</th>\n",
       "      <td>CD4-positive, alpha-beta T cell with the pheno...</td>\n",
       "      <td>CL:0000899</td>\n",
       "      <td>T-helper 17 cell</td>\n",
       "      <td>helper T cell type 17</td>\n",
       "      <td>exact</td>\n",
       "      <td>4</td>\n",
       "    </tr>\n",
       "    <tr>\n",
       "      <th>433</th>\n",
       "      <td>A circulating gamma-delta T cell that expresse...</td>\n",
       "      <td>CL:0002125</td>\n",
       "      <td>CD27-negative gamma-delta T cell</td>\n",
       "      <td>gammadelta-17 cells</td>\n",
       "      <td>exact</td>\n",
       "      <td>4</td>\n",
       "    </tr>\n",
       "    <tr>\n",
       "      <th>141</th>\n",
       "      <td>CD4-positive, alpha-beta T cell with the pheno...</td>\n",
       "      <td>CL:0000899</td>\n",
       "      <td>T-helper 17 cell</td>\n",
       "      <td>Th17 cell</td>\n",
       "      <td>exact</td>\n",
       "      <td>4</td>\n",
       "    </tr>\n",
       "    <tr>\n",
       "      <th>142</th>\n",
       "      <td>CD4-positive, alpha-beta T cell with the pheno...</td>\n",
       "      <td>CL:0000899</td>\n",
       "      <td>T-helper 17 cell</td>\n",
       "      <td>Th17 T-lymphocyte</td>\n",
       "      <td>exact</td>\n",
       "      <td>4</td>\n",
       "    </tr>\n",
       "    <tr>\n",
       "      <th>146</th>\n",
       "      <td>CD4-positive, alpha-beta T cell with the pheno...</td>\n",
       "      <td>CL:0000899</td>\n",
       "      <td>T-helper 17 cell</td>\n",
       "      <td>Th17 T-cell</td>\n",
       "      <td>exact</td>\n",
       "      <td>4</td>\n",
       "    </tr>\n",
       "    <tr>\n",
       "      <th>144</th>\n",
       "      <td>CD4-positive, alpha-beta T cell with the pheno...</td>\n",
       "      <td>CL:0000899</td>\n",
       "      <td>T-helper 17 cell</td>\n",
       "      <td>Th17 T lymphocyte</td>\n",
       "      <td>exact</td>\n",
       "      <td>4</td>\n",
       "    </tr>\n",
       "    <tr>\n",
       "      <th>140</th>\n",
       "      <td>CD4-positive, alpha-beta T cell with the pheno...</td>\n",
       "      <td>CL:0000899</td>\n",
       "      <td>T-helper 17 cell</td>\n",
       "      <td>Th17 T cell</td>\n",
       "      <td>exact</td>\n",
       "      <td>4</td>\n",
       "    </tr>\n",
       "    <tr>\n",
       "      <th>138</th>\n",
       "      <td>CD4-positive, alpha-beta T cell with the pheno...</td>\n",
       "      <td>CL:0000899</td>\n",
       "      <td>T-helper 17 cell</td>\n",
       "      <td>Th17 CD4+ T cell</td>\n",
       "      <td>exact</td>\n",
       "      <td>4</td>\n",
       "    </tr>\n",
       "    <tr>\n",
       "      <th>74</th>\n",
       "      <td>A CD8-positive, alpha-beta T cell that has the...</td>\n",
       "      <td>CL:0002128</td>\n",
       "      <td>Tc17 cell</td>\n",
       "      <td>Tc17 cell</td>\n",
       "      <td>label</td>\n",
       "      <td>5</td>\n",
       "    </tr>\n",
       "    <tr>\n",
       "      <th>321</th>\n",
       "      <td>A CD8-positive, alpha-beta T cell that has the...</td>\n",
       "      <td>CL:0002128</td>\n",
       "      <td>Tc17 cell</td>\n",
       "      <td>Tc17 T-lymphocyte</td>\n",
       "      <td>exact</td>\n",
       "      <td>4</td>\n",
       "    </tr>\n",
       "    <tr>\n",
       "      <th>322</th>\n",
       "      <td>A CD8-positive, alpha-beta T cell that has the...</td>\n",
       "      <td>CL:0002128</td>\n",
       "      <td>Tc17 cell</td>\n",
       "      <td>Tc17 T-cell</td>\n",
       "      <td>exact</td>\n",
       "      <td>4</td>\n",
       "    </tr>\n",
       "    <tr>\n",
       "      <th>320</th>\n",
       "      <td>A CD8-positive, alpha-beta T cell that has the...</td>\n",
       "      <td>CL:0002128</td>\n",
       "      <td>Tc17 cell</td>\n",
       "      <td>Tc17 T lymphocyte</td>\n",
       "      <td>exact</td>\n",
       "      <td>4</td>\n",
       "    </tr>\n",
       "    <tr>\n",
       "      <th>323</th>\n",
       "      <td>A CD8-positive, alpha-beta T cell that has the...</td>\n",
       "      <td>CL:0002128</td>\n",
       "      <td>Tc17 cell</td>\n",
       "      <td>Tc17 T cell</td>\n",
       "      <td>exact</td>\n",
       "      <td>4</td>\n",
       "    </tr>\n",
       "    <tr>\n",
       "      <th>324</th>\n",
       "      <td>A CD8-positive, alpha-beta T cell that has the...</td>\n",
       "      <td>CL:0002128</td>\n",
       "      <td>Tc17 cell</td>\n",
       "      <td>Tc17 CD8+ T cell</td>\n",
       "      <td>exact</td>\n",
       "      <td>4</td>\n",
       "    </tr>\n",
       "    <tr>\n",
       "      <th>41</th>\n",
       "      <td>CD4-positive, alpha-beta T cell with the pheno...</td>\n",
       "      <td>CL:0000899</td>\n",
       "      <td>T-helper 17 cell</td>\n",
       "      <td>T-helper 17 cell</td>\n",
       "      <td>label</td>\n",
       "      <td>5</td>\n",
       "    </tr>\n",
       "    <tr>\n",
       "      <th>145</th>\n",
       "      <td>CD4-positive, alpha-beta T cell with the pheno...</td>\n",
       "      <td>CL:0000899</td>\n",
       "      <td>T-helper 17 cell</td>\n",
       "      <td>T(H)-17 cell</td>\n",
       "      <td>exact</td>\n",
       "      <td>4</td>\n",
       "    </tr>\n",
       "    <tr>\n",
       "      <th>139</th>\n",
       "      <td>CD4-positive, alpha-beta T cell with the pheno...</td>\n",
       "      <td>CL:0000899</td>\n",
       "      <td>T-helper 17 cell</td>\n",
       "      <td>T helper cells type 17</td>\n",
       "      <td>exact</td>\n",
       "      <td>4</td>\n",
       "    </tr>\n",
       "    <tr>\n",
       "      <th>143</th>\n",
       "      <td>CD4-positive, alpha-beta T cell with the pheno...</td>\n",
       "      <td>CL:0000899</td>\n",
       "      <td>T-helper 17 cell</td>\n",
       "      <td>IL-17-producing CD4+ T helper</td>\n",
       "      <td>exact</td>\n",
       "      <td>4</td>\n",
       "    </tr>\n",
       "  </tbody>\n",
       "</table>\n",
       "</div>"
      ],
      "text/plain": [
       "                                                  desc          id  \\\n",
       "119  A CD4-positive, alpha-beta T cell that has the...  CL:0001051   \n",
       "268  A CD8-positive, alpha-beta T cell that has the...  CL:0001052   \n",
       "147  CD4-positive, alpha-beta T cell with the pheno...  CL:0000899   \n",
       "433  A circulating gamma-delta T cell that expresse...  CL:0002125   \n",
       "141  CD4-positive, alpha-beta T cell with the pheno...  CL:0000899   \n",
       "142  CD4-positive, alpha-beta T cell with the pheno...  CL:0000899   \n",
       "146  CD4-positive, alpha-beta T cell with the pheno...  CL:0000899   \n",
       "144  CD4-positive, alpha-beta T cell with the pheno...  CL:0000899   \n",
       "140  CD4-positive, alpha-beta T cell with the pheno...  CL:0000899   \n",
       "138  CD4-positive, alpha-beta T cell with the pheno...  CL:0000899   \n",
       "74   A CD8-positive, alpha-beta T cell that has the...  CL:0002128   \n",
       "321  A CD8-positive, alpha-beta T cell that has the...  CL:0002128   \n",
       "322  A CD8-positive, alpha-beta T cell that has the...  CL:0002128   \n",
       "320  A CD8-positive, alpha-beta T cell that has the...  CL:0002128   \n",
       "323  A CD8-positive, alpha-beta T cell that has the...  CL:0002128   \n",
       "324  A CD8-positive, alpha-beta T cell that has the...  CL:0002128   \n",
       "41   CD4-positive, alpha-beta T cell with the pheno...  CL:0000899   \n",
       "145  CD4-positive, alpha-beta T cell with the pheno...  CL:0000899   \n",
       "139  CD4-positive, alpha-beta T cell with the pheno...  CL:0000899   \n",
       "143  CD4-positive, alpha-beta T cell with the pheno...  CL:0000899   \n",
       "\n",
       "                                                 label  \\\n",
       "119  CD4-positive, CXCR3-negative, CCR6-negative, a...   \n",
       "268  CD8-positive, CXCR3-negative, CCR6-negative, a...   \n",
       "147                                   T-helper 17 cell   \n",
       "433                   CD27-negative gamma-delta T cell   \n",
       "141                                   T-helper 17 cell   \n",
       "142                                   T-helper 17 cell   \n",
       "146                                   T-helper 17 cell   \n",
       "144                                   T-helper 17 cell   \n",
       "140                                   T-helper 17 cell   \n",
       "138                                   T-helper 17 cell   \n",
       "74                                           Tc17 cell   \n",
       "321                                          Tc17 cell   \n",
       "322                                          Tc17 cell   \n",
       "320                                          Tc17 cell   \n",
       "323                                          Tc17 cell   \n",
       "324                                          Tc17 cell   \n",
       "41                                    T-helper 17 cell   \n",
       "145                                   T-helper 17 cell   \n",
       "139                                   T-helper 17 cell   \n",
       "143                                   T-helper 17 cell   \n",
       "\n",
       "                               syn syn_typ  syn_typ_id  \n",
       "119       non-Th1/Th17 CD4+ T cell   broad           1  \n",
       "268       non-Tc1/Tc17 CD8+ T cell   broad           1  \n",
       "147          helper T cell type 17   exact           4  \n",
       "433            gammadelta-17 cells   exact           4  \n",
       "141                      Th17 cell   exact           4  \n",
       "142              Th17 T-lymphocyte   exact           4  \n",
       "146                    Th17 T-cell   exact           4  \n",
       "144              Th17 T lymphocyte   exact           4  \n",
       "140                    Th17 T cell   exact           4  \n",
       "138               Th17 CD4+ T cell   exact           4  \n",
       "74                       Tc17 cell   label           5  \n",
       "321              Tc17 T-lymphocyte   exact           4  \n",
       "322                    Tc17 T-cell   exact           4  \n",
       "320              Tc17 T lymphocyte   exact           4  \n",
       "323                    Tc17 T cell   exact           4  \n",
       "324               Tc17 CD8+ T cell   exact           4  \n",
       "41                T-helper 17 cell   label           5  \n",
       "145                   T(H)-17 cell   exact           4  \n",
       "139         T helper cells type 17   exact           4  \n",
       "143  IL-17-producing CD4+ T helper   exact           4  "
      ]
     },
     "execution_count": 36,
     "metadata": {},
     "output_type": "execute_result"
    }
   ],
   "source": [
    "dfr[dfr['syn'].str.contains('17')]"
   ]
  },
  {
   "cell_type": "code",
   "execution_count": 41,
   "metadata": {},
   "outputs": [
    {
     "data": {
      "text/plain": [
       "'/Users/eczech/repos/hammer/t-cell-relation-extraction/pm_subtype_protein_relations/data/meta/raw/cl.raw.csv'"
      ]
     },
     "execution_count": 41,
     "metadata": {},
     "output_type": "execute_result"
    }
   ],
   "source": [
    "path = osp.join(os.environ['META_DATA_DIR'], 'raw', 'cl.raw.csv')\n",
    "dfr.to_csv(path, index=False)\n",
    "path"
   ]
  }
 ],
 "metadata": {
  "kernelspec": {
   "display_name": "Python 3",
   "language": "python",
   "name": "python3"
  },
  "language_info": {
   "codemirror_mode": {
    "name": "ipython",
    "version": 3
   },
   "file_extension": ".py",
   "mimetype": "text/x-python",
   "name": "python",
   "nbconvert_exporter": "python",
   "pygments_lexer": "ipython3",
   "version": "3.6.7"
  }
 },
 "nbformat": 4,
 "nbformat_minor": 2
}
