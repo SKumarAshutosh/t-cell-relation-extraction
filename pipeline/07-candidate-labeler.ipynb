{
 "cells": [
  {
   "cell_type": "markdown",
   "metadata": {},
   "source": [
    "## Load Gold Candidate Labels"
   ]
  },
  {
   "cell_type": "code",
   "execution_count": 63,
   "metadata": {},
   "outputs": [],
   "source": [
    "import os\n",
    "import os.path as osp\n",
    "import pandas as pd\n",
    "import numpy as np\n",
    "import collections\n",
    "from tcre.env import *\n",
    "from tcre.supervision import *"
   ]
  },
  {
   "cell_type": "code",
   "execution_count": 64,
   "metadata": {},
   "outputs": [
    {
     "name": "stdout",
     "output_type": "stream",
     "text": [
      "<class 'pandas.core.frame.DataFrame'>\n",
      "RangeIndex: 392 entries, 0 to 391\n",
      "Data columns (total 10 columns):\n",
      "doc_id          392 non-null object\n",
      "type            392 non-null object\n",
      "e1_text         392 non-null object\n",
      "e1_start_chr    392 non-null int64\n",
      "e1_end_chr      392 non-null int64\n",
      "e2_text         392 non-null object\n",
      "e2_start_chr    392 non-null int64\n",
      "e2_end_chr      392 non-null int64\n",
      "value           392 non-null int64\n",
      "annotator       392 non-null object\n",
      "dtypes: int64(5), object(5)\n",
      "memory usage: 30.7+ KB\n"
     ]
    }
   ],
   "source": [
    "def load_labels_01():\n",
    "    \"\"\"Load labels from BRAT (dev split)\"\"\"\n",
    "    # Note: Labels are exclusive on ends of char range\n",
    "    path = osp.join(REPO_DATA_DIR, 'annotation', 'brat_export.csv')\n",
    "    df = pd.read_csv(path)\n",
    "    for i in [1, 2]:\n",
    "        # Convert to inclusive end range\n",
    "        df['e{}_end_chr'.format(i)] = df['e{}_end_chr'.format(i)] - 1\n",
    "        assert (df['e{}_end_chr'.format(i)] > df['e{}_start_chr'.format(i)]).all()\n",
    "    df = df.rename(columns={'id': 'doc_id'})\n",
    "    df['type'] = df['rel_typ'].map({\n",
    "        'Induction': REL_FIELD_INDUCING_CYTOKINE,\n",
    "        'Secretion': REL_FIELD_SECRETED_CYTOKINE,\n",
    "        'Differentiation': REL_FIELD_INDUCING_TRANSCRIPTION_FACTOR\n",
    "    })\n",
    "    assert df['type'].notnull().all()\n",
    "    # All of these annotations are only positive\n",
    "    df['value'] = 1\n",
    "    df['annotator'] = 'brat'\n",
    "    df = df[[\n",
    "        'doc_id', 'type', 'e1_text', 'e1_start_chr', 'e1_end_chr', \n",
    "        'e2_text', 'e2_start_chr', 'e2_end_chr', 'value', 'annotator'\n",
    "    ]]\n",
    "    return df\n",
    "df1 = load_labels_01()\n",
    "df1.info()"
   ]
  },
  {
   "cell_type": "code",
   "execution_count": 65,
   "metadata": {},
   "outputs": [
    {
     "data": {
      "text/html": [
       "<div>\n",
       "<style scoped>\n",
       "    .dataframe tbody tr th:only-of-type {\n",
       "        vertical-align: middle;\n",
       "    }\n",
       "\n",
       "    .dataframe tbody tr th {\n",
       "        vertical-align: top;\n",
       "    }\n",
       "\n",
       "    .dataframe thead th {\n",
       "        text-align: right;\n",
       "    }\n",
       "</style>\n",
       "<table border=\"1\" class=\"dataframe\">\n",
       "  <thead>\n",
       "    <tr style=\"text-align: right;\">\n",
       "      <th></th>\n",
       "      <th>doc_id</th>\n",
       "      <th>type</th>\n",
       "      <th>e1_text</th>\n",
       "      <th>e1_start_chr</th>\n",
       "      <th>e1_end_chr</th>\n",
       "      <th>e2_text</th>\n",
       "      <th>e2_start_chr</th>\n",
       "      <th>e2_end_chr</th>\n",
       "      <th>value</th>\n",
       "      <th>annotator</th>\n",
       "    </tr>\n",
       "  </thead>\n",
       "  <tbody>\n",
       "    <tr>\n",
       "      <th>0</th>\n",
       "      <td>PMC4451961</td>\n",
       "      <td>secreted_cytokine</td>\n",
       "      <td>IL-17</td>\n",
       "      <td>1338</td>\n",
       "      <td>1342</td>\n",
       "      <td>Vγ4 T</td>\n",
       "      <td>1291</td>\n",
       "      <td>1295</td>\n",
       "      <td>1</td>\n",
       "      <td>brat</td>\n",
       "    </tr>\n",
       "    <tr>\n",
       "      <th>1</th>\n",
       "      <td>PMC4451961</td>\n",
       "      <td>secreted_cytokine</td>\n",
       "      <td>IL-17</td>\n",
       "      <td>1460</td>\n",
       "      <td>1464</td>\n",
       "      <td>Vγ4 T</td>\n",
       "      <td>1291</td>\n",
       "      <td>1295</td>\n",
       "      <td>1</td>\n",
       "      <td>brat</td>\n",
       "    </tr>\n",
       "    <tr>\n",
       "      <th>2</th>\n",
       "      <td>PMC4451961</td>\n",
       "      <td>secreted_cytokine</td>\n",
       "      <td>IL-17</td>\n",
       "      <td>1903</td>\n",
       "      <td>1907</td>\n",
       "      <td>Vγ4 T</td>\n",
       "      <td>1850</td>\n",
       "      <td>1854</td>\n",
       "      <td>1</td>\n",
       "      <td>brat</td>\n",
       "    </tr>\n",
       "    <tr>\n",
       "      <th>3</th>\n",
       "      <td>PMC4451961</td>\n",
       "      <td>secreted_cytokine</td>\n",
       "      <td>(IFN)-γ</td>\n",
       "      <td>3730</td>\n",
       "      <td>3736</td>\n",
       "      <td>γδ T</td>\n",
       "      <td>3825</td>\n",
       "      <td>3828</td>\n",
       "      <td>1</td>\n",
       "      <td>brat</td>\n",
       "    </tr>\n",
       "    <tr>\n",
       "      <th>4</th>\n",
       "      <td>PMC4451961</td>\n",
       "      <td>secreted_cytokine</td>\n",
       "      <td>(IL)-17</td>\n",
       "      <td>3754</td>\n",
       "      <td>3760</td>\n",
       "      <td>γδ T</td>\n",
       "      <td>3825</td>\n",
       "      <td>3828</td>\n",
       "      <td>1</td>\n",
       "      <td>brat</td>\n",
       "    </tr>\n",
       "  </tbody>\n",
       "</table>\n",
       "</div>"
      ],
      "text/plain": [
       "       doc_id               type  e1_text  e1_start_chr  e1_end_chr e2_text  \\\n",
       "0  PMC4451961  secreted_cytokine    IL-17          1338        1342   Vγ4 T   \n",
       "1  PMC4451961  secreted_cytokine    IL-17          1460        1464   Vγ4 T   \n",
       "2  PMC4451961  secreted_cytokine    IL-17          1903        1907   Vγ4 T   \n",
       "3  PMC4451961  secreted_cytokine  (IFN)-γ          3730        3736    γδ T   \n",
       "4  PMC4451961  secreted_cytokine  (IL)-17          3754        3760    γδ T   \n",
       "\n",
       "   e2_start_chr  e2_end_chr  value annotator  \n",
       "0          1291        1295      1      brat  \n",
       "1          1291        1295      1      brat  \n",
       "2          1850        1854      1      brat  \n",
       "3          3825        3828      1      brat  \n",
       "4          3825        3828      1      brat  "
      ]
     },
     "execution_count": 65,
     "metadata": {},
     "output_type": "execute_result"
    }
   ],
   "source": [
    "df1.head()"
   ]
  },
  {
   "cell_type": "code",
   "execution_count": 66,
   "metadata": {},
   "outputs": [
    {
     "data": {
      "text/html": [
       "<div>\n",
       "<style scoped>\n",
       "    .dataframe tbody tr th:only-of-type {\n",
       "        vertical-align: middle;\n",
       "    }\n",
       "\n",
       "    .dataframe tbody tr th {\n",
       "        vertical-align: top;\n",
       "    }\n",
       "\n",
       "    .dataframe thead th {\n",
       "        text-align: right;\n",
       "    }\n",
       "</style>\n",
       "<table border=\"1\" class=\"dataframe\">\n",
       "  <thead>\n",
       "    <tr style=\"text-align: right;\">\n",
       "      <th></th>\n",
       "      <th>doc_id</th>\n",
       "      <th>type</th>\n",
       "      <th>e1_text</th>\n",
       "      <th>e1_start_chr</th>\n",
       "      <th>e1_end_chr</th>\n",
       "      <th>e2_text</th>\n",
       "      <th>e2_start_chr</th>\n",
       "      <th>e2_end_chr</th>\n",
       "      <th>value</th>\n",
       "      <th>annotator</th>\n",
       "    </tr>\n",
       "  </thead>\n",
       "  <tbody>\n",
       "    <tr>\n",
       "      <th>300</th>\n",
       "      <td>PMC5799164</td>\n",
       "      <td>inducing_cytokine</td>\n",
       "      <td>IL-12</td>\n",
       "      <td>217</td>\n",
       "      <td>221</td>\n",
       "      <td>cytotoxic T</td>\n",
       "      <td>14</td>\n",
       "      <td>24</td>\n",
       "      <td>-1</td>\n",
       "      <td>snorkelngramviewer</td>\n",
       "    </tr>\n",
       "    <tr>\n",
       "      <th>301</th>\n",
       "      <td>PMC3378591</td>\n",
       "      <td>inducing_cytokine</td>\n",
       "      <td>IFN-γ</td>\n",
       "      <td>201</td>\n",
       "      <td>205</td>\n",
       "      <td>Th1</td>\n",
       "      <td>72</td>\n",
       "      <td>74</td>\n",
       "      <td>-1</td>\n",
       "      <td>snorkelngramviewer</td>\n",
       "    </tr>\n",
       "    <tr>\n",
       "      <th>302</th>\n",
       "      <td>PMC6279938</td>\n",
       "      <td>inducing_cytokine</td>\n",
       "      <td>IFN-γ</td>\n",
       "      <td>167</td>\n",
       "      <td>171</td>\n",
       "      <td>Th1</td>\n",
       "      <td>190</td>\n",
       "      <td>192</td>\n",
       "      <td>-1</td>\n",
       "      <td>snorkelngramviewer</td>\n",
       "    </tr>\n",
       "    <tr>\n",
       "      <th>303</th>\n",
       "      <td>PMC2646562</td>\n",
       "      <td>inducing_cytokine</td>\n",
       "      <td>IL-6</td>\n",
       "      <td>36</td>\n",
       "      <td>39</td>\n",
       "      <td>Th17</td>\n",
       "      <td>102</td>\n",
       "      <td>105</td>\n",
       "      <td>-1</td>\n",
       "      <td>snorkelngramviewer</td>\n",
       "    </tr>\n",
       "    <tr>\n",
       "      <th>304</th>\n",
       "      <td>PMC3486158</td>\n",
       "      <td>inducing_cytokine</td>\n",
       "      <td>IFN-γ</td>\n",
       "      <td>184</td>\n",
       "      <td>188</td>\n",
       "      <td>NKT</td>\n",
       "      <td>127</td>\n",
       "      <td>129</td>\n",
       "      <td>-1</td>\n",
       "      <td>snorkelngramviewer</td>\n",
       "    </tr>\n",
       "  </tbody>\n",
       "</table>\n",
       "</div>"
      ],
      "text/plain": [
       "         doc_id               type e1_text  e1_start_chr  e1_end_chr  \\\n",
       "300  PMC5799164  inducing_cytokine   IL-12           217         221   \n",
       "301  PMC3378591  inducing_cytokine   IFN-γ           201         205   \n",
       "302  PMC6279938  inducing_cytokine   IFN-γ           167         171   \n",
       "303  PMC2646562  inducing_cytokine    IL-6            36          39   \n",
       "304  PMC3486158  inducing_cytokine   IFN-γ           184         188   \n",
       "\n",
       "         e2_text  e2_start_chr  e2_end_chr  value           annotator  \n",
       "300  cytotoxic T            14          24     -1  snorkelngramviewer  \n",
       "301          Th1            72          74     -1  snorkelngramviewer  \n",
       "302          Th1           190         192     -1  snorkelngramviewer  \n",
       "303         Th17           102         105     -1  snorkelngramviewer  \n",
       "304          NKT           127         129     -1  snorkelngramviewer  "
      ]
     },
     "execution_count": 66,
     "metadata": {},
     "output_type": "execute_result"
    }
   ],
   "source": [
    "def load_labels_02():\n",
    "    \"\"\"Load labels from SnorkelNgramViewer annotation\"\"\"\n",
    "    # Note: Labels are already inclusive on ends of char range\n",
    "    path = osp.join(REPO_DATA_DIR, 'annotation', 'ngramviewer_export.csv')\n",
    "    df = pd.read_csv(path)\n",
    "    df = df[df['split'] == 3]\n",
    "    df = df[['doc_id', 'field', 'c1_text', 'c1_char_start', 'c1_char_end', 'c2_text', 'c2_char_start', 'c2_char_end', 'value']]\n",
    "    df = df.rename(columns=lambda c: c.replace('c1', 'e1').replace('c2', 'e2'))\n",
    "    df = df.rename(columns=lambda c: c.replace('char_start', 'start_chr').replace('char_end', 'end_chr'))\n",
    "    df = df.rename(columns={'field': 'type'})\n",
    "    df['annotator'] = 'snorkelngramviewer'\n",
    "    return df\n",
    "df2 = load_labels_02()\n",
    "df2.head()"
   ]
  },
  {
   "cell_type": "markdown",
   "metadata": {},
   "source": [
    "## Merge"
   ]
  },
  {
   "cell_type": "code",
   "execution_count": 67,
   "metadata": {},
   "outputs": [
    {
     "data": {
      "text/html": [
       "<div>\n",
       "<style scoped>\n",
       "    .dataframe tbody tr th:only-of-type {\n",
       "        vertical-align: middle;\n",
       "    }\n",
       "\n",
       "    .dataframe tbody tr th {\n",
       "        vertical-align: top;\n",
       "    }\n",
       "\n",
       "    .dataframe thead th {\n",
       "        text-align: right;\n",
       "    }\n",
       "</style>\n",
       "<table border=\"1\" class=\"dataframe\">\n",
       "  <thead>\n",
       "    <tr style=\"text-align: right;\">\n",
       "      <th></th>\n",
       "      <th>doc_id</th>\n",
       "      <th>type</th>\n",
       "      <th>e1_text</th>\n",
       "      <th>e1_start_chr</th>\n",
       "      <th>e1_end_chr</th>\n",
       "      <th>e2_text</th>\n",
       "      <th>e2_start_chr</th>\n",
       "      <th>e2_end_chr</th>\n",
       "      <th>value</th>\n",
       "      <th>annotator</th>\n",
       "      <th>context_stable_ids</th>\n",
       "    </tr>\n",
       "  </thead>\n",
       "  <tbody>\n",
       "    <tr>\n",
       "      <th>0</th>\n",
       "      <td>PMC4451961</td>\n",
       "      <td>secreted_cytokine</td>\n",
       "      <td>IL-17</td>\n",
       "      <td>1338</td>\n",
       "      <td>1342</td>\n",
       "      <td>Vγ4 T</td>\n",
       "      <td>1291</td>\n",
       "      <td>1295</td>\n",
       "      <td>1</td>\n",
       "      <td>brat</td>\n",
       "      <td>PMC4451961::span:1338:1342~~PMC4451961::span:1...</td>\n",
       "    </tr>\n",
       "    <tr>\n",
       "      <th>1</th>\n",
       "      <td>PMC4451961</td>\n",
       "      <td>secreted_cytokine</td>\n",
       "      <td>IL-17</td>\n",
       "      <td>1460</td>\n",
       "      <td>1464</td>\n",
       "      <td>Vγ4 T</td>\n",
       "      <td>1291</td>\n",
       "      <td>1295</td>\n",
       "      <td>1</td>\n",
       "      <td>brat</td>\n",
       "      <td>PMC4451961::span:1460:1464~~PMC4451961::span:1...</td>\n",
       "    </tr>\n",
       "    <tr>\n",
       "      <th>2</th>\n",
       "      <td>PMC4451961</td>\n",
       "      <td>secreted_cytokine</td>\n",
       "      <td>IL-17</td>\n",
       "      <td>1903</td>\n",
       "      <td>1907</td>\n",
       "      <td>Vγ4 T</td>\n",
       "      <td>1850</td>\n",
       "      <td>1854</td>\n",
       "      <td>1</td>\n",
       "      <td>brat</td>\n",
       "      <td>PMC4451961::span:1903:1907~~PMC4451961::span:1...</td>\n",
       "    </tr>\n",
       "    <tr>\n",
       "      <th>3</th>\n",
       "      <td>PMC4451961</td>\n",
       "      <td>secreted_cytokine</td>\n",
       "      <td>(IFN)-γ</td>\n",
       "      <td>3730</td>\n",
       "      <td>3736</td>\n",
       "      <td>γδ T</td>\n",
       "      <td>3825</td>\n",
       "      <td>3828</td>\n",
       "      <td>1</td>\n",
       "      <td>brat</td>\n",
       "      <td>PMC4451961::span:3730:3736~~PMC4451961::span:3...</td>\n",
       "    </tr>\n",
       "    <tr>\n",
       "      <th>4</th>\n",
       "      <td>PMC4451961</td>\n",
       "      <td>secreted_cytokine</td>\n",
       "      <td>(IL)-17</td>\n",
       "      <td>3754</td>\n",
       "      <td>3760</td>\n",
       "      <td>γδ T</td>\n",
       "      <td>3825</td>\n",
       "      <td>3828</td>\n",
       "      <td>1</td>\n",
       "      <td>brat</td>\n",
       "      <td>PMC4451961::span:3754:3760~~PMC4451961::span:3...</td>\n",
       "    </tr>\n",
       "  </tbody>\n",
       "</table>\n",
       "</div>"
      ],
      "text/plain": [
       "       doc_id               type  e1_text  e1_start_chr  e1_end_chr e2_text  \\\n",
       "0  PMC4451961  secreted_cytokine    IL-17          1338        1342   Vγ4 T   \n",
       "1  PMC4451961  secreted_cytokine    IL-17          1460        1464   Vγ4 T   \n",
       "2  PMC4451961  secreted_cytokine    IL-17          1903        1907   Vγ4 T   \n",
       "3  PMC4451961  secreted_cytokine  (IFN)-γ          3730        3736    γδ T   \n",
       "4  PMC4451961  secreted_cytokine  (IL)-17          3754        3760    γδ T   \n",
       "\n",
       "   e2_start_chr  e2_end_chr  value annotator  \\\n",
       "0          1291        1295      1      brat   \n",
       "1          1291        1295      1      brat   \n",
       "2          1850        1854      1      brat   \n",
       "3          3825        3828      1      brat   \n",
       "4          3825        3828      1      brat   \n",
       "\n",
       "                                  context_stable_ids  \n",
       "0  PMC4451961::span:1338:1342~~PMC4451961::span:1...  \n",
       "1  PMC4451961::span:1460:1464~~PMC4451961::span:1...  \n",
       "2  PMC4451961::span:1903:1907~~PMC4451961::span:1...  \n",
       "3  PMC4451961::span:3730:3736~~PMC4451961::span:3...  \n",
       "4  PMC4451961::span:3754:3760~~PMC4451961::span:3...  "
      ]
     },
     "execution_count": 67,
     "metadata": {},
     "output_type": "execute_result"
    }
   ],
   "source": [
    "def get_stable_id(r):\n",
    "    return '{}::span:{}:{}'.format(r['doc_id'], r['start_chr'], r['end_chr'])\n",
    "\n",
    "def get_context_stable_id(r):\n",
    "    e1_id = get_stable_id(r.filter(regex='^e1_|^doc_id$').rename(lambda v: v.replace('e1_', '')))\n",
    "    e2_id = get_stable_id(r.filter(regex='^e2_|^doc_id$').rename(lambda v: v.replace('e2_', '')))\n",
    "    return \"~~\".join([e1_id, e2_id])\n",
    "\n",
    "df = pd.concat([df1, df2])\n",
    "df['context_stable_ids'] = df.apply(get_context_stable_id, axis=1)\n",
    "df.head()"
   ]
  },
  {
   "cell_type": "code",
   "execution_count": null,
   "metadata": {},
   "outputs": [],
   "source": [
    "# doc_id, eN_[start_chr|end_chr] (inclusive), annotator, relation type, value, split\n",
    "# - Take DB backup\n",
    "# - Add stable label on INFER split\n",
    "# - Move everything to target split based on context stable id of candidates\n",
    "# - Check that nothing on INFER split has labels"
   ]
  },
  {
   "cell_type": "markdown",
   "metadata": {},
   "source": [
    "### Load Labels"
   ]
  },
  {
   "cell_type": "code",
   "execution_count": 68,
   "metadata": {},
   "outputs": [],
   "source": [
    "from snorkel import SnorkelSession\n",
    "from snorkel.models import Document, Sentence, Candidate\n",
    "from snorkel.models import StableLabel\n",
    "from snorkel.db_helpers import reload_annotator_labels\n",
    "session = SnorkelSession()\n",
    "classes = get_candidate_classes()"
   ]
  },
  {
   "cell_type": "code",
   "execution_count": 69,
   "metadata": {},
   "outputs": [],
   "source": [
    "def load_labels(session, relations, annotator, candidate_class, split):\n",
    "    assert (relations['type'] == candidate_class.field).all(), 'Relations data frame has conflicting relation classes'\n",
    "    assert (relations['annotator'] == annotator).all(), 'Relations data frame has conflicting annotator'\n",
    "    annotator_name = annotator + '-' + candidate_class.field\n",
    "    \n",
    "    for i, r in relations.iterrows():\n",
    "        value = int(r['value'])\n",
    "        assert value in [-1, 1], 'Row has invalid relation value: {}'.format(r)\n",
    "        context_stable_ids = r['context_stable_ids']\n",
    "        \n",
    "        query = session.query(StableLabel)\\\n",
    "            .filter(StableLabel.context_stable_ids == context_stable_ids)\\\n",
    "            .filter(StableLabel.annotator_name == annotator_name)\n",
    "        if query.count() == 0:\n",
    "            session.add(StableLabel(\n",
    "                context_stable_ids=context_stable_ids,\n",
    "                annotator_name=annotator_name,\n",
    "                value=value\n",
    "            ))\n",
    "            \n",
    "    session.commit()\n",
    "    # This function will create GoldLabel records for each StableLabel above after\n",
    "    # selecting them based on annotator_name.  The annotator name should be different\n",
    "    # for each candidate class if they might have identical context_stable_ids since\n",
    "    # otherwise as written above only the first value for the same annotator + context_stable_ids\n",
    "    # will be saved.\n",
    "    # Other notes: split will be used to find candidates necessary to create GoldLabels though\n",
    "    # it is not necessary for StableLabel filtering in this case (thus filter_label_split=False)\n",
    "    # because the labels were not created with a split above\n",
    "    return reload_annotator_labels(\n",
    "        session, candidate_class.subclass, annotator_name, split=split, \n",
    "        filter_label_split=False, create_missing_cands=False)"
   ]
  },
  {
   "cell_type": "code",
   "execution_count": 70,
   "metadata": {},
   "outputs": [
    {
     "name": "stdout",
     "output_type": "stream",
     "text": [
      "Loading labels for class=inducing_cytokine, annotator=brat\n",
      "AnnotatorLabels created: 1, missed: 144\n",
      "Loading labels for class=inducing_cytokine, annotator=snorkelngramviewer\n",
      "AnnotatorLabels created: 0, missed: 197\n",
      "Loading labels for class=inducing_transcription_factor, annotator=brat\n",
      "AnnotatorLabels created: 3, missed: 92\n",
      "Loading labels for class=inducing_transcription_factor, annotator=snorkelngramviewer\n",
      "AnnotatorLabels created: 1, missed: 216\n",
      "Loading labels for class=secreted_cytokine, annotator=brat\n",
      "AnnotatorLabels created: 0, missed: 152\n",
      "Loading labels for class=secreted_cytokine, annotator=snorkelngramviewer\n",
      "AnnotatorLabels created: 0, missed: 198\n"
     ]
    }
   ],
   "source": [
    "labels = collections.OrderedDict()\n",
    "clmap = {classes[c].field: classes[c] for c in classes}\n",
    "grps = df.groupby(['type', 'annotator'])\n",
    "    \n",
    "for k, g in grps:\n",
    "    candidate_class = clmap[k[0]]\n",
    "    annotator = k[1]\n",
    "    print('Loading labels for class={}, annotator={}'.format(*k))\n",
    "    # Returns tuple with:\n",
    "    # 0: List of GoldLabel instances added\n",
    "    # 1: List of StableLabel instances for which no candidate could be found\n",
    "    labels[k] = load_labels(session, g, annotator, candidate_class, SPLIT_INFER)"
   ]
  },
  {
   "cell_type": "code",
   "execution_count": 71,
   "metadata": {},
   "outputs": [
    {
     "data": {
      "text/plain": [
       "relation                       missing                              \n",
       "inducing_cytokine              cytokine                                   2\n",
       "                               cytokine,immune_cell_type                338\n",
       "                               immune_cell_type                           1\n",
       "inducing_transcription_factor  transcription_factor,immune_cell_type    308\n",
       "secreted_cytokine              cytokine                                   2\n",
       "                               cytokine,immune_cell_type                347\n",
       "                               immune_cell_type                           1\n",
       "dtype: int64"
      ]
     },
     "execution_count": 71,
     "metadata": {},
     "output_type": "execute_result"
    }
   ],
   "source": [
    "# Show missing candidates\n",
    "from snorkel.models import Context \n",
    "\n",
    "# Show which entity types and relations were unable to be matched with spans\n",
    "# extracted and inserted into snorkel db\n",
    "def summarize_missing_candidates(labels):\n",
    "    df = []\n",
    "    for k in labels:\n",
    "        candidate_class = clmap[k[0]]\n",
    "        class_name = k[0]\n",
    "        missed = labels[k][1]\n",
    "        for mc in missed:\n",
    "            doc_id = mc.context_stable_ids.split('::')[0]\n",
    "            ids = mc.context_stable_ids.split('~~')\n",
    "            typs = []\n",
    "            for i, sid in enumerate(ids):\n",
    "                ctx = session.query(Context).filter(Context.stable_id == sid).all()\n",
    "                if len(ctx) == 0:\n",
    "                    typs.append(candidate_class.entity_types[i])\n",
    "            df.append((class_name, doc_id, ','.join(typs)))\n",
    "    return pd.DataFrame(df, columns=['relation', 'doc_id', 'missing'])\n",
    "df_miss = summarize_missing_candidates(labels)\n",
    "df_miss.groupby(['relation', 'missing']).size()"
   ]
  },
  {
   "cell_type": "code",
   "execution_count": 77,
   "metadata": {},
   "outputs": [],
   "source": [
    "gl = list(labels.values())[0][0][0]"
   ]
  },
  {
   "cell_type": "code",
   "execution_count": 79,
   "metadata": {},
   "outputs": [],
   "source": [
    "doc = gl.candidate.get_parent().get_parent()"
   ]
  },
  {
   "cell_type": "code",
   "execution_count": 83,
   "metadata": {},
   "outputs": [
    {
     "data": {
      "text/plain": [
       "InducingCytokine(Span(\"b'IL-27'\", sentence=101221, chars=[120,124], words=[22,22]), Span(\"b'Tr1'\", sentence=101221, chars=[36,38], words=[7,7]))"
      ]
     },
     "execution_count": 83,
     "metadata": {},
     "output_type": "execute_result"
    }
   ],
   "source": [
    "gl.candidate"
   ]
  },
  {
   "cell_type": "code",
   "execution_count": 88,
   "metadata": {},
   "outputs": [],
   "source": [
    "sent = gl.candidate.get_parent()"
   ]
  },
  {
   "cell_type": "code",
   "execution_count": 89,
   "metadata": {},
   "outputs": [
    {
     "data": {
      "text/plain": [
       "Sentence(Document PMC4168117,5,b'In mice, in vivo differentiation of Tr1 cells was dependent on the presence of the aryl hydrocarbon receptor, c-Maf and IL-27.')"
      ]
     },
     "execution_count": 89,
     "metadata": {},
     "output_type": "execute_result"
    }
   ],
   "source": [
    "sent"
   ]
  },
  {
   "cell_type": "code",
   "execution_count": 85,
   "metadata": {},
   "outputs": [
    {
     "data": {
      "text/html": [
       "<div>\n",
       "<style scoped>\n",
       "    .dataframe tbody tr th:only-of-type {\n",
       "        vertical-align: middle;\n",
       "    }\n",
       "\n",
       "    .dataframe tbody tr th {\n",
       "        vertical-align: top;\n",
       "    }\n",
       "\n",
       "    .dataframe thead th {\n",
       "        text-align: right;\n",
       "    }\n",
       "</style>\n",
       "<table border=\"1\" class=\"dataframe\">\n",
       "  <thead>\n",
       "    <tr style=\"text-align: right;\">\n",
       "      <th></th>\n",
       "      <th>doc_id</th>\n",
       "      <th>type</th>\n",
       "      <th>e1_text</th>\n",
       "      <th>e1_start_chr</th>\n",
       "      <th>e1_end_chr</th>\n",
       "      <th>e2_text</th>\n",
       "      <th>e2_start_chr</th>\n",
       "      <th>e2_end_chr</th>\n",
       "      <th>value</th>\n",
       "      <th>annotator</th>\n",
       "    </tr>\n",
       "  </thead>\n",
       "  <tbody>\n",
       "    <tr>\n",
       "      <th>70</th>\n",
       "      <td>PMC4168117</td>\n",
       "      <td>inducing_transcription_factor</td>\n",
       "      <td>c-Maf</td>\n",
       "      <td>952</td>\n",
       "      <td>956</td>\n",
       "      <td>Tr1</td>\n",
       "      <td>878</td>\n",
       "      <td>880</td>\n",
       "      <td>1</td>\n",
       "      <td>brat</td>\n",
       "    </tr>\n",
       "    <tr>\n",
       "      <th>71</th>\n",
       "      <td>PMC4168117</td>\n",
       "      <td>inducing_cytokine</td>\n",
       "      <td>IL-27</td>\n",
       "      <td>962</td>\n",
       "      <td>966</td>\n",
       "      <td>Tr1</td>\n",
       "      <td>878</td>\n",
       "      <td>880</td>\n",
       "      <td>1</td>\n",
       "      <td>brat</td>\n",
       "    </tr>\n",
       "    <tr>\n",
       "      <th>72</th>\n",
       "      <td>PMC4168117</td>\n",
       "      <td>inducing_cytokine</td>\n",
       "      <td>transforming growth factor-β</td>\n",
       "      <td>1940</td>\n",
       "      <td>1967</td>\n",
       "      <td>iTreg</td>\n",
       "      <td>1864</td>\n",
       "      <td>1868</td>\n",
       "      <td>1</td>\n",
       "      <td>brat</td>\n",
       "    </tr>\n",
       "    <tr>\n",
       "      <th>73</th>\n",
       "      <td>PMC4168117</td>\n",
       "      <td>inducing_cytokine</td>\n",
       "      <td>TGF-β</td>\n",
       "      <td>1970</td>\n",
       "      <td>1974</td>\n",
       "      <td>iTreg</td>\n",
       "      <td>1864</td>\n",
       "      <td>1868</td>\n",
       "      <td>1</td>\n",
       "      <td>brat</td>\n",
       "    </tr>\n",
       "    <tr>\n",
       "      <th>74</th>\n",
       "      <td>PMC4168117</td>\n",
       "      <td>secreted_cytokine</td>\n",
       "      <td>interleukin (IL)-10</td>\n",
       "      <td>2027</td>\n",
       "      <td>2045</td>\n",
       "      <td>iTreg</td>\n",
       "      <td>1864</td>\n",
       "      <td>1868</td>\n",
       "      <td>1</td>\n",
       "      <td>brat</td>\n",
       "    </tr>\n",
       "    <tr>\n",
       "      <th>75</th>\n",
       "      <td>PMC4168117</td>\n",
       "      <td>secreted_cytokine</td>\n",
       "      <td>TGF-β</td>\n",
       "      <td>2051</td>\n",
       "      <td>2055</td>\n",
       "      <td>iTreg</td>\n",
       "      <td>1864</td>\n",
       "      <td>1868</td>\n",
       "      <td>1</td>\n",
       "      <td>brat</td>\n",
       "    </tr>\n",
       "    <tr>\n",
       "      <th>76</th>\n",
       "      <td>PMC4168117</td>\n",
       "      <td>inducing_transcription_factor</td>\n",
       "      <td>c-Maf</td>\n",
       "      <td>2287</td>\n",
       "      <td>2291</td>\n",
       "      <td>Tr1</td>\n",
       "      <td>2183</td>\n",
       "      <td>2185</td>\n",
       "      <td>1</td>\n",
       "      <td>brat</td>\n",
       "    </tr>\n",
       "    <tr>\n",
       "      <th>77</th>\n",
       "      <td>PMC4168117</td>\n",
       "      <td>inducing_cytokine</td>\n",
       "      <td>IL-27</td>\n",
       "      <td>2296</td>\n",
       "      <td>2300</td>\n",
       "      <td>Tr1</td>\n",
       "      <td>2183</td>\n",
       "      <td>2185</td>\n",
       "      <td>1</td>\n",
       "      <td>brat</td>\n",
       "    </tr>\n",
       "    <tr>\n",
       "      <th>78</th>\n",
       "      <td>PMC4168117</td>\n",
       "      <td>secreted_cytokine</td>\n",
       "      <td>IL-10</td>\n",
       "      <td>2455</td>\n",
       "      <td>2459</td>\n",
       "      <td>Tr1</td>\n",
       "      <td>2363</td>\n",
       "      <td>2365</td>\n",
       "      <td>1</td>\n",
       "      <td>brat</td>\n",
       "    </tr>\n",
       "    <tr>\n",
       "      <th>79</th>\n",
       "      <td>PMC4168117</td>\n",
       "      <td>secreted_cytokine</td>\n",
       "      <td>interferon gamma</td>\n",
       "      <td>2473</td>\n",
       "      <td>2488</td>\n",
       "      <td>Tr1</td>\n",
       "      <td>2363</td>\n",
       "      <td>2365</td>\n",
       "      <td>1</td>\n",
       "      <td>brat</td>\n",
       "    </tr>\n",
       "    <tr>\n",
       "      <th>80</th>\n",
       "      <td>PMC4168117</td>\n",
       "      <td>secreted_cytokine</td>\n",
       "      <td>IFN-γ</td>\n",
       "      <td>2491</td>\n",
       "      <td>2495</td>\n",
       "      <td>Tr1</td>\n",
       "      <td>2363</td>\n",
       "      <td>2365</td>\n",
       "      <td>1</td>\n",
       "      <td>brat</td>\n",
       "    </tr>\n",
       "  </tbody>\n",
       "</table>\n",
       "</div>"
      ],
      "text/plain": [
       "        doc_id                           type                       e1_text  \\\n",
       "70  PMC4168117  inducing_transcription_factor                         c-Maf   \n",
       "71  PMC4168117              inducing_cytokine                         IL-27   \n",
       "72  PMC4168117              inducing_cytokine  transforming growth factor-β   \n",
       "73  PMC4168117              inducing_cytokine                         TGF-β   \n",
       "74  PMC4168117              secreted_cytokine           interleukin (IL)-10   \n",
       "75  PMC4168117              secreted_cytokine                         TGF-β   \n",
       "76  PMC4168117  inducing_transcription_factor                         c-Maf   \n",
       "77  PMC4168117              inducing_cytokine                         IL-27   \n",
       "78  PMC4168117              secreted_cytokine                         IL-10   \n",
       "79  PMC4168117              secreted_cytokine              interferon gamma   \n",
       "80  PMC4168117              secreted_cytokine                         IFN-γ   \n",
       "\n",
       "    e1_start_chr  e1_end_chr e2_text  e2_start_chr  e2_end_chr  value  \\\n",
       "70           952         956     Tr1           878         880      1   \n",
       "71           962         966     Tr1           878         880      1   \n",
       "72          1940        1967   iTreg          1864        1868      1   \n",
       "73          1970        1974   iTreg          1864        1868      1   \n",
       "74          2027        2045   iTreg          1864        1868      1   \n",
       "75          2051        2055   iTreg          1864        1868      1   \n",
       "76          2287        2291     Tr1          2183        2185      1   \n",
       "77          2296        2300     Tr1          2183        2185      1   \n",
       "78          2455        2459     Tr1          2363        2365      1   \n",
       "79          2473        2488     Tr1          2363        2365      1   \n",
       "80          2491        2495     Tr1          2363        2365      1   \n",
       "\n",
       "   annotator  \n",
       "70      brat  \n",
       "71      brat  \n",
       "72      brat  \n",
       "73      brat  \n",
       "74      brat  \n",
       "75      brat  \n",
       "76      brat  \n",
       "77      brat  \n",
       "78      brat  \n",
       "79      brat  \n",
       "80      brat  "
      ]
     },
     "execution_count": 85,
     "metadata": {},
     "output_type": "execute_result"
    }
   ],
   "source": [
    "df1[df1['doc_id'] == 'PMC4168117']"
   ]
  },
  {
   "cell_type": "code",
   "execution_count": 81,
   "metadata": {},
   "outputs": [
    {
     "data": {
      "text/plain": [
       "Document PMC4168117"
      ]
     },
     "execution_count": 81,
     "metadata": {},
     "output_type": "execute_result"
    }
   ],
   "source": [
    "doc"
   ]
  },
  {
   "cell_type": "markdown",
   "metadata": {},
   "source": [
    "### Assign Splits"
   ]
  },
  {
   "cell_type": "code",
   "execution_count": 72,
   "metadata": {},
   "outputs": [
    {
     "name": "stdout",
     "output_type": "stream",
     "text": [
      "<class 'pandas.core.frame.DataFrame'>\n",
      "RangeIndex: 5 entries, 0 to 4\n",
      "Data columns (total 5 columns):\n",
      "annotator         5 non-null object\n",
      "annotator_name    5 non-null object\n",
      "cand_id           5 non-null int64\n",
      "type              5 non-null object\n",
      "value             5 non-null int64\n",
      "dtypes: int64(2), object(3)\n",
      "memory usage: 280.0+ bytes\n"
     ]
    }
   ],
   "source": [
    "# Create data frame containing newly added candidates\n",
    "dfc = pd.DataFrame([\n",
    "    # GoldLabelKey(name=annotator_name)\n",
    "    # GoldLabel(candidate=candidate, key=ak, value=sl.value)\n",
    "    dict(type=k[0], annotator=k[1], cand_id=label.candidate.id, annotator_name=label.key.name, value=label.value)\n",
    "    for k in labels\n",
    "    for label in labels[k][0]\n",
    "])\n",
    "dfc.info()"
   ]
  },
  {
   "cell_type": "code",
   "execution_count": 73,
   "metadata": {},
   "outputs": [
    {
     "data": {
      "text/plain": [
       "type                           annotator           annotator_name                                  \n",
       "inducing_cytokine              brat                brat-inducing_cytokine                              1\n",
       "inducing_transcription_factor  brat                brat-inducing_transcription_factor                  3\n",
       "                               snorkelngramviewer  snorkelngramviewer-inducing_transcription_factor    1\n",
       "dtype: int64"
      ]
     },
     "execution_count": 73,
     "metadata": {},
     "output_type": "execute_result"
    }
   ],
   "source": [
    "dfc.groupby(['type', 'annotator', 'annotator_name']).size()"
   ]
  },
  {
   "cell_type": "code",
   "execution_count": null,
   "metadata": {},
   "outputs": [],
   "source": [
    "from sklearn.model_selection import train_test_split\n",
    "\n",
    "def assign_split(g):\n",
    "    assert g['annotator'].nunique() == 1\n",
    "    annotator = g['annotator'].iloc[0]\n",
    "    \n",
    "    # Assign all BRAT annotations to dev\n",
    "    if annotator == 'brat':\n",
    "        return g.assign(split=SPLIT_DEV)\n",
    "    \n",
    "    # Do stratified assignment of ngramviewer annotations to val and test\n",
    "    if annotator == 'snorkelngramviewer':\n",
    "        idx = np.arange(len(g))\n",
    "        val_idx, test_idx = train_test_split(idx, stratify=g['value'].values, random_state=TCRE_SEED, test_size=.5)\n",
    "        splits = np.zeros(len(g))\n",
    "        splits[val_idx] = SPLIT_VAL\n",
    "        splits[test_idx] = SPLIT_TEST\n",
    "        return g.assign(split=splits)\n",
    "    raise ValueError('Annotator {} not supported'.format(annotator))\n",
    "    \n",
    "dfcs = dfc.groupby(['annotator', 'type'], group_keys=False).apply(assign_split)\n",
    "assert (dfcs['split'] > 0).all()\n",
    "assert dfcs['split'].dtype == np.int64\n",
    "dfcs.head()"
   ]
  },
  {
   "cell_type": "markdown",
   "metadata": {},
   "source": [
    "### Move Candidates"
   ]
  },
  {
   "cell_type": "code",
   "execution_count": null,
   "metadata": {},
   "outputs": [],
   "source": [
    "for i, r in dfcs.iterrows():\n",
    "    cand = session.query(Candidate).filter(Candidate.id == r['candidate'].id).one()\n",
    "    #cand.split = r['split']\n",
    "session.commit()    "
   ]
  },
  {
   "cell_type": "code",
   "execution_count": null,
   "metadata": {},
   "outputs": [],
   "source": []
  },
  {
   "cell_type": "code",
   "execution_count": 3,
   "metadata": {},
   "outputs": [],
   "source": [
    "from snorkel import SnorkelSession\n",
    "from snorkel.models import Document, Sentence, Candidate\n",
    "session = SnorkelSession()"
   ]
  },
  {
   "cell_type": "code",
   "execution_count": 30,
   "metadata": {},
   "outputs": [
    {
     "data": {
      "text/plain": [
       "20600"
      ]
     },
     "execution_count": 30,
     "metadata": {},
     "output_type": "execute_result"
    }
   ],
   "source": [
    "doc_ids = [v[0] for v in session.query(Document.name).all()]\n",
    "len(doc_ids)"
   ]
  },
  {
   "cell_type": "code",
   "execution_count": 13,
   "metadata": {},
   "outputs": [
    {
     "data": {
      "text/plain": [
       "684"
      ]
     },
     "execution_count": 13,
     "metadata": {},
     "output_type": "execute_result"
    }
   ],
   "source": [
    "dff = df[df['doc_id'].isin(doc_ids)]\n",
    "len(dff)"
   ]
  },
  {
   "cell_type": "code",
   "execution_count": 14,
   "metadata": {},
   "outputs": [
    {
     "data": {
      "text/plain": [
       "doc_id                                                     PMC2646571\n",
       "text                Down-regulation of Gfi-1 expression by TGF-β i...\n",
       "sent_char_offset                                                    0\n",
       "type                                                 InducingCytokine\n",
       "field                                               inducing_cytokine\n",
       "split                                                               1\n",
       "value                                                               1\n",
       "c1_cid                          CKC59F8990F767EBD4:CKFD4CA0B2B4BC3AE4\n",
       "c2_cid                          CTBFBDE5121B6748D1:CTBFBDE5121B6748D1\n",
       "c1_ctxt_id                                                     126965\n",
       "c1_stable_id                                   PMC2646571::span:39:43\n",
       "c1_word_start                                                       7\n",
       "c1_word_end                                                         7\n",
       "c1_char_start                                                      39\n",
       "c1_char_end                                                        43\n",
       "c1_text                                                         TGF-β\n",
       "c2_ctxt_id                                                     126966\n",
       "c2_stable_id                                   PMC2646571::span:81:84\n",
       "c2_word_start                                                      13\n",
       "c2_word_end                                                        13\n",
       "c2_char_start                                                      81\n",
       "c2_char_end                                                        84\n",
       "c2_text                                                          Th17\n",
       "Name: 0, dtype: object"
      ]
     },
     "execution_count": 14,
     "metadata": {},
     "output_type": "execute_result"
    }
   ],
   "source": [
    "dff.iloc[0]"
   ]
  },
  {
   "cell_type": "markdown",
   "metadata": {},
   "source": [
    "#### Debugging"
   ]
  },
  {
   "cell_type": "code",
   "execution_count": 43,
   "metadata": {},
   "outputs": [],
   "source": [
    "from snorkel import SnorkelSession\n",
    "from snorkel.models import Document, Sentence, Candidate\n",
    "from snorkel.models import StableLabel\n",
    "from snorkel.db_helpers import reload_annotator_labels\n",
    "session = SnorkelSession()\n",
    "doc = session.query(Document).filter(Document.name == 'PMC2646571').first()"
   ]
  },
  {
   "cell_type": "code",
   "execution_count": 46,
   "metadata": {},
   "outputs": [],
   "source": [
    "docs = session.query(Document).limit(10).all()"
   ]
  },
  {
   "cell_type": "code",
   "execution_count": 47,
   "metadata": {},
   "outputs": [],
   "source": [
    "doc = docs[1]"
   ]
  },
  {
   "cell_type": "code",
   "execution_count": 48,
   "metadata": {},
   "outputs": [],
   "source": [
    "sents = doc.sentences"
   ]
  },
  {
   "cell_type": "code",
   "execution_count": 59,
   "metadata": {},
   "outputs": [
    {
     "data": {
      "text/plain": [
       "Sentence(Document PMC3691816,5,b'Activation of purified naive CD4+ T cells from NOX2-deficient mice led to augmented IFN-\\xce\\xb3 and diminished IL-4 production and an increased ratio of expression of the TH1-specific transcription factor T-bet versus the TH2-specfic transcription factor GATA-3, consistent with a TH1 skewing of na\\xc3\\xafve T cells.')"
      ]
     },
     "execution_count": 59,
     "metadata": {},
     "output_type": "execute_result"
    }
   ],
   "source": [
    "sent = sents[5]\n",
    "sent"
   ]
  },
  {
   "cell_type": "code",
   "execution_count": 60,
   "metadata": {},
   "outputs": [
    {
     "data": {
      "text/plain": [
       "['O',\n",
       " 'O',\n",
       " 'O',\n",
       " 'immune_cell_type',\n",
       " 'immune_cell_type',\n",
       " 'immune_cell_type',\n",
       " 'immune_cell_type',\n",
       " 'O',\n",
       " 'O',\n",
       " 'O',\n",
       " 'O',\n",
       " 'O',\n",
       " 'O',\n",
       " 'O',\n",
       " 'cytokine',\n",
       " 'O',\n",
       " 'O',\n",
       " 'cytokine',\n",
       " 'O',\n",
       " 'O',\n",
       " 'O',\n",
       " 'O',\n",
       " 'O',\n",
       " 'O',\n",
       " 'O',\n",
       " 'O',\n",
       " 'O',\n",
       " 'O',\n",
       " 'O',\n",
       " 'O',\n",
       " 'transcription_factor',\n",
       " 'O',\n",
       " 'O',\n",
       " 'O',\n",
       " 'O',\n",
       " 'O',\n",
       " 'O',\n",
       " 'O',\n",
       " 'O',\n",
       " 'O',\n",
       " 'O',\n",
       " 'immune_cell_type',\n",
       " 'O',\n",
       " 'O',\n",
       " 'immune_cell_type',\n",
       " 'immune_cell_type',\n",
       " 'O',\n",
       " 'O']"
      ]
     },
     "execution_count": 60,
     "metadata": {},
     "output_type": "execute_result"
    }
   ],
   "source": [
    "sent.entity_types"
   ]
  },
  {
   "cell_type": "code",
   "execution_count": 61,
   "metadata": {},
   "outputs": [
    {
     "data": {
      "text/plain": [
       "['O',\n",
       " 'O',\n",
       " 'O',\n",
       " 'CTF2A8D03E20D25B7F:CTC1A9DDE1514D6425',\n",
       " 'CTF2A8D03E20D25B7F:CTC1A9DDE1514D6425',\n",
       " 'CTF2A8D03E20D25B7F:CTC1A9DDE1514D6425',\n",
       " 'CTF2A8D03E20D25B7F:CTC1A9DDE1514D6425',\n",
       " 'O',\n",
       " 'O',\n",
       " 'O',\n",
       " 'O',\n",
       " 'O',\n",
       " 'O',\n",
       " 'O',\n",
       " 'CK1B71668FDDECE3CF:CKEF3883BE9F74024F',\n",
       " 'O',\n",
       " 'O',\n",
       " 'CKF0F9E60D7241467D:CKF0F9E60D7241467D',\n",
       " 'O',\n",
       " 'O',\n",
       " 'O',\n",
       " 'O',\n",
       " 'O',\n",
       " 'O',\n",
       " 'O',\n",
       " 'O',\n",
       " 'O',\n",
       " 'O',\n",
       " 'O',\n",
       " 'O',\n",
       " 'TFC92DA64402D18F05:TFC99791BEF24108BC',\n",
       " 'O',\n",
       " 'O',\n",
       " 'O',\n",
       " 'O',\n",
       " 'O',\n",
       " 'O',\n",
       " 'O',\n",
       " 'O',\n",
       " 'O',\n",
       " 'O',\n",
       " 'CTC3A8C3CBC245616A:CT6621AF17554FFD22',\n",
       " 'O',\n",
       " 'O',\n",
       " 'CT9E267C696796470F:CT591AB86BE24D7A57',\n",
       " 'CT9E267C696796470F:CT591AB86BE24D7A57',\n",
       " 'O',\n",
       " 'O']"
      ]
     },
     "execution_count": 61,
     "metadata": {},
     "output_type": "execute_result"
    }
   ],
   "source": [
    "sent.entity_cids"
   ]
  },
  {
   "cell_type": "code",
   "execution_count": 20,
   "metadata": {},
   "outputs": [],
   "source": [
    "from tcre import tagging\n",
    "from tcre import parsing\n",
    "nlp = tagging.get_pipeline(include_jnlpba=False)"
   ]
  },
  {
   "cell_type": "code",
   "execution_count": 34,
   "metadata": {},
   "outputs": [],
   "source": [
    "import imp\n",
    "imp.reload(parsing)\n",
    "parser = parsing.SpaCyParser(nlp, ent_fn=tagging.snorkel_ent_fn)"
   ]
  },
  {
   "cell_type": "code",
   "execution_count": 35,
   "metadata": {},
   "outputs": [],
   "source": [
    "text = 'Down-regulation of Gfi-1 expression by TGF-\\xce\\xb2 is important for differentiation of Th17 and CD103+ inducible regulatory T cells.\\n\\nInterleukin (IL) 4 further induces Gfi-1, resulting in optimal Th2 cell expansion. '\n",
    "parts = list(parser.parse(None, text))"
   ]
  }
 ],
 "metadata": {
  "kernelspec": {
   "display_name": "Python 3",
   "language": "python",
   "name": "python3"
  },
  "language_info": {
   "codemirror_mode": {
    "name": "ipython",
    "version": 3
   },
   "file_extension": ".py",
   "mimetype": "text/x-python",
   "name": "python",
   "nbconvert_exporter": "python",
   "pygments_lexer": "ipython3",
   "version": "3.6.8"
  }
 },
 "nbformat": 4,
 "nbformat_minor": 4
}
