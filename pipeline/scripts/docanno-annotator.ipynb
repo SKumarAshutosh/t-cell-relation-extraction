{
 "cells": [
  {
   "cell_type": "markdown",
   "metadata": {},
   "source": [
    "### Doccano Annotation\n",
    "\n",
    "Commands to run doccano locally:\n",
    "\n",
    "```\n",
    "docker pull chakkiworks/doccano\n",
    "docker run -d --name --rm doccano -p 8000:8000 chakkiworks/doccano\n",
    "docker exec doccano tools/create-admin.sh \"admin\" \"admin@example.com\" \"password\"\n",
    "```"
   ]
  },
  {
   "cell_type": "code",
   "execution_count": 1,
   "metadata": {},
   "outputs": [],
   "source": [
    "import os\n",
    "import os.path as osp\n",
    "import pandas as pd\n",
    "import numpy as np\n",
    "import snorkel\n",
    "from snorkel.models import Candidate\n",
    "from snorkel import SnorkelSession\n",
    "from tcre.env import *\n",
    "from tcre import supervision"
   ]
  },
  {
   "cell_type": "code",
   "execution_count": 2,
   "metadata": {},
   "outputs": [],
   "source": [
    "session = SnorkelSession()\n",
    "classes = supervision.get_candidate_classes()"
   ]
  },
  {
   "cell_type": "code",
   "execution_count": 3,
   "metadata": {},
   "outputs": [
    {
     "data": {
      "text/plain": [
       "type\n",
       "inducing_cytokine                56404\n",
       "inducing_transcription_factor    15155\n",
       "secreted_cytokine                56404\n",
       "dtype: int64"
      ]
     },
     "execution_count": 3,
     "metadata": {},
     "output_type": "execute_result"
    }
   ],
   "source": [
    "# Pull list of all non-annotated candidate ids and types\n",
    "dfc = pd.DataFrame(\n",
    "    session.query(Candidate.id, Candidate.type).filter(Candidate.split == supervision.SPLIT_INFER).all(),\n",
    "    columns=['id', 'type']\n",
    ")\n",
    "dfc.groupby('type').size()"
   ]
  },
  {
   "cell_type": "code",
   "execution_count": 4,
   "metadata": {},
   "outputs": [
    {
     "data": {
      "text/html": [
       "<div>\n",
       "<style scoped>\n",
       "    .dataframe tbody tr th:only-of-type {\n",
       "        vertical-align: middle;\n",
       "    }\n",
       "\n",
       "    .dataframe tbody tr th {\n",
       "        vertical-align: top;\n",
       "    }\n",
       "\n",
       "    .dataframe thead th {\n",
       "        text-align: right;\n",
       "    }\n",
       "</style>\n",
       "<table border=\"1\" class=\"dataframe\">\n",
       "  <thead>\n",
       "    <tr style=\"text-align: right;\">\n",
       "      <th></th>\n",
       "      <th>id</th>\n",
       "      <th>type</th>\n",
       "    </tr>\n",
       "  </thead>\n",
       "  <tbody>\n",
       "    <tr>\n",
       "      <th>0</th>\n",
       "      <td>1</td>\n",
       "      <td>inducing_cytokine</td>\n",
       "    </tr>\n",
       "    <tr>\n",
       "      <th>1</th>\n",
       "      <td>2</td>\n",
       "      <td>inducing_cytokine</td>\n",
       "    </tr>\n",
       "    <tr>\n",
       "      <th>2</th>\n",
       "      <td>3</td>\n",
       "      <td>inducing_cytokine</td>\n",
       "    </tr>\n",
       "    <tr>\n",
       "      <th>3</th>\n",
       "      <td>4</td>\n",
       "      <td>inducing_cytokine</td>\n",
       "    </tr>\n",
       "    <tr>\n",
       "      <th>4</th>\n",
       "      <td>5</td>\n",
       "      <td>inducing_cytokine</td>\n",
       "    </tr>\n",
       "  </tbody>\n",
       "</table>\n",
       "</div>"
      ],
      "text/plain": [
       "   id               type\n",
       "0   1  inducing_cytokine\n",
       "1   2  inducing_cytokine\n",
       "2   3  inducing_cytokine\n",
       "3   4  inducing_cytokine\n",
       "4   5  inducing_cytokine"
      ]
     },
     "execution_count": 4,
     "metadata": {},
     "output_type": "execute_result"
    }
   ],
   "source": [
    "dfc.head()"
   ]
  },
  {
   "cell_type": "code",
   "execution_count": 26,
   "metadata": {},
   "outputs": [
    {
     "data": {
      "text/plain": [
       "type\n",
       "inducing_cytokine                500\n",
       "inducing_transcription_factor    500\n",
       "secreted_cytokine                500\n",
       "dtype: int64"
      ]
     },
     "execution_count": 26,
     "metadata": {},
     "output_type": "execute_result"
    }
   ],
   "source": [
    "# Generate samples for each type\n",
    "dfs = dfc.groupby('type', group_keys=False).apply(lambda g: g.sample(n=500, random_state=TCRE_SEED))\n",
    "dfs.groupby('type').size()"
   ]
  },
  {
   "cell_type": "code",
   "execution_count": 27,
   "metadata": {},
   "outputs": [
    {
     "data": {
      "text/plain": [
       "type\n",
       "inducing_cytokine                300\n",
       "inducing_transcription_factor    300\n",
       "secreted_cytokine                300\n",
       "dtype: int64"
      ]
     },
     "execution_count": 27,
     "metadata": {},
     "output_type": "execute_result"
    }
   ],
   "source": [
    "def get_filter_ids():\n",
    "    path = osp.join(REPO_DATA_DIR, 'annotation', 'brat_export.csv')\n",
    "    df = pd.read_csv(path)\n",
    "    ids1 = df['id'].unique()\n",
    "    \n",
    "    path = osp.join(REPO_DATA_DIR, 'annotation', 'ngramviewer_export.csv')\n",
    "    df = pd.read_csv(path)\n",
    "    ids2 = df['doc_id'].unique()\n",
    "    return list(set(list(ids1) + list(ids2)))\n",
    "filter_ids = get_filter_ids()\n",
    "dfs['cand'] = dfs.apply(lambda r: session.query(Candidate).filter(Candidate.id == r['id']).one(), axis=1)\n",
    "dfs['doc_id'] = dfs.apply(lambda r: r['cand'].get_parent().document.name, axis=1)\n",
    "dfs['has_cd4'] = dfs.apply(lambda r: any([c.get_span() == 'CD4' for c in r['cand'].get_contexts()]), axis=1)\n",
    "dfs = dfs[~dfs['doc_id'].isin(filter_ids)]\n",
    "dfs = dfs[~dfs['has_cd4']]\n",
    "\n",
    "dfs = dfs.groupby('type', group_keys=False).apply(lambda g: g.head(300))\n",
    "dfs.groupby('type').size()"
   ]
  },
  {
   "cell_type": "code",
   "execution_count": 28,
   "metadata": {},
   "outputs": [
    {
     "data": {
      "text/html": [
       "<div>\n",
       "<style scoped>\n",
       "    .dataframe tbody tr th:only-of-type {\n",
       "        vertical-align: middle;\n",
       "    }\n",
       "\n",
       "    .dataframe tbody tr th {\n",
       "        vertical-align: top;\n",
       "    }\n",
       "\n",
       "    .dataframe thead th {\n",
       "        text-align: right;\n",
       "    }\n",
       "</style>\n",
       "<table border=\"1\" class=\"dataframe\">\n",
       "  <thead>\n",
       "    <tr style=\"text-align: right;\">\n",
       "      <th></th>\n",
       "      <th>labels</th>\n",
       "      <th>meta</th>\n",
       "      <th>text</th>\n",
       "    </tr>\n",
       "  </thead>\n",
       "  <tbody>\n",
       "    <tr>\n",
       "      <th>0</th>\n",
       "      <td>[]</td>\n",
       "      <td>{'type': 'immune_cell_type', 'doc_id': 'PMC489...</td>\n",
       "      <td>We show that neither the ||IFN-γ|| – producing...</td>\n",
       "    </tr>\n",
       "    <tr>\n",
       "      <th>1</th>\n",
       "      <td>[]</td>\n",
       "      <td>{'type': 'immune_cell_type', 'doc_id': 'PMC333...</td>\n",
       "      <td>The high amount of CD4+CD25 + T cells expressi...</td>\n",
       "    </tr>\n",
       "    <tr>\n",
       "      <th>2</th>\n",
       "      <td>[]</td>\n",
       "      <td>{'type': 'immune_cell_type', 'doc_id': 'PMC219...</td>\n",
       "      <td>In vitro analysis of acquired functional poten...</td>\n",
       "    </tr>\n",
       "    <tr>\n",
       "      <th>3</th>\n",
       "      <td>[]</td>\n",
       "      <td>{'type': 'immune_cell_type', 'doc_id': 'PMC334...</td>\n",
       "      <td>Under conditions in which DCs produce ||IL-23|...</td>\n",
       "    </tr>\n",
       "    <tr>\n",
       "      <th>4</th>\n",
       "      <td>[]</td>\n",
       "      <td>{'type': 'immune_cell_type', 'doc_id': 'PMC405...</td>\n",
       "      <td>To validate our observation of different time ...</td>\n",
       "    </tr>\n",
       "  </tbody>\n",
       "</table>\n",
       "</div>"
      ],
      "text/plain": [
       "  labels                                               meta  \\\n",
       "0     []  {'type': 'immune_cell_type', 'doc_id': 'PMC489...   \n",
       "1     []  {'type': 'immune_cell_type', 'doc_id': 'PMC333...   \n",
       "2     []  {'type': 'immune_cell_type', 'doc_id': 'PMC219...   \n",
       "3     []  {'type': 'immune_cell_type', 'doc_id': 'PMC334...   \n",
       "4     []  {'type': 'immune_cell_type', 'doc_id': 'PMC405...   \n",
       "\n",
       "                                                text  \n",
       "0  We show that neither the ||IFN-γ|| – producing...  \n",
       "1  The high amount of CD4+CD25 + T cells expressi...  \n",
       "2  In vitro analysis of acquired functional poten...  \n",
       "3  Under conditions in which DCs produce ||IL-23|...  \n",
       "4  To validate our observation of different time ...  "
      ]
     },
     "execution_count": 28,
     "metadata": {},
     "output_type": "execute_result"
    }
   ],
   "source": [
    "# Convert to JSONL files for docanno; Example:\n",
    "# {\"text\": \"EU rejects German call to boycott British lamb.\", \"labels\": [ [0, 2, \"ORG\"], [11, 17, \"MISC\"], ... ]}\n",
    "# {\"text\": \"Peter Blackburn\", \"labels\": [ [0, 15, \"PERSON\"] ]}\n",
    "# {\"text\": \"President Obama\", \"labels\": [ [10, 15, \"PERSON\"] ]}\n",
    "\n",
    "markers = {\n",
    "    supervision.ENT_TYP_CK_L: '||',\n",
    "    supervision.ENT_TYP_CT_L: '$$',\n",
    "    supervision.ENT_TYP_TF_L: '@@',\n",
    "}\n",
    "\n",
    "def process(r):\n",
    "    cand = session.query(Candidate).filter(Candidate.id == r['id']).one()\n",
    "    doc = cand.get_parent().get_parent()\n",
    "    words = list(cand.get_parent().words)\n",
    "    ctxs = cand.get_contexts()\n",
    "    \n",
    "    for ctx in ctxs:\n",
    "        rng = ctx.get_word_range()\n",
    "        typ = cand.get_parent().entity_types[rng[0]]\n",
    "        # Add visual markers in the text to make the entities in question clear\n",
    "        words[rng[0]] = markers[typ] + words[rng[0]]\n",
    "        words[rng[1]] = words[rng[1]] + markers[typ] \n",
    "    meta = dict(\n",
    "        type=typ, doc_id=doc.name, \n",
    "        e1_text=ctxs[0].get_span(), e1_start_chr=ctxs[0].char_start, e1_end_chr=ctxs[0].char_end,\n",
    "        e2_text=ctxs[1].get_span(), e2_start_chr=ctxs[1].char_start, e2_end_chr=ctxs[1].char_end\n",
    "    )\n",
    "    return dict(text=' '.join(words), labels=[], meta=meta)\n",
    "\n",
    "dfexp = pd.DataFrame(list(dfs.apply(process, axis=1).values))\n",
    "dfexp.head()"
   ]
  },
  {
   "cell_type": "code",
   "execution_count": 29,
   "metadata": {},
   "outputs": [
    {
     "data": {
      "text/plain": [
       "'/lab/repos/t-cell-relation-extraction/data/doccano/annotations_import.jsonl'"
      ]
     },
     "execution_count": 29,
     "metadata": {},
     "output_type": "execute_result"
    }
   ],
   "source": [
    "path = osp.join(REPO_DATA_DIR, 'doccano', 'annotations_import.jsonl')\n",
    "dfexp.to_json(path, orient='records', lines=True)\n",
    "path"
   ]
  },
  {
   "cell_type": "markdown",
   "metadata": {},
   "source": [
    "### Reload and Export"
   ]
  },
  {
   "cell_type": "code",
   "execution_count": 14,
   "metadata": {},
   "outputs": [
    {
     "data": {
      "text/plain": [
       "{1: ('inducing_cytokine', 1),\n",
       " 2: ('inducing_cytokine', -1),\n",
       " 3: ('secreted_cytokine', 1),\n",
       " 4: ('secreted_cytokine', -1),\n",
       " 5: ('inducing_transcription_factor', 1),\n",
       " 6: ('inducing_transcription_factor', -1)}"
      ]
     },
     "execution_count": 14,
     "metadata": {},
     "output_type": "execute_result"
    }
   ],
   "source": [
    "# These labels need to be defined on a fresh run of the doccano container\n",
    "# and they need to be defined in an order that corresponds with the dict below\n",
    "# (for some reason, doccano only exports the internal id associated with the label,\n",
    "# which will increment indefinitely as you add projects and label categories)\n",
    "labels = {\n",
    "    1: (classes.inducing_cytokine.field, 1),\n",
    "    2: (classes.inducing_cytokine.field, -1),\n",
    "    3: (classes.secreted_cytokine.field, 1),\n",
    "    4: (classes.secreted_cytokine.field, -1),\n",
    "    5: (classes.inducing_transcription_factor.field, 1),\n",
    "    6: (classes.inducing_transcription_factor.field, -1)\n",
    "}\n",
    "labels"
   ]
  },
  {
   "cell_type": "code",
   "execution_count": 17,
   "metadata": {},
   "outputs": [
    {
     "data": {
      "text/html": [
       "<div>\n",
       "<style scoped>\n",
       "    .dataframe tbody tr th:only-of-type {\n",
       "        vertical-align: middle;\n",
       "    }\n",
       "\n",
       "    .dataframe tbody tr th {\n",
       "        vertical-align: top;\n",
       "    }\n",
       "\n",
       "    .dataframe thead th {\n",
       "        text-align: right;\n",
       "    }\n",
       "</style>\n",
       "<table border=\"1\" class=\"dataframe\">\n",
       "  <thead>\n",
       "    <tr style=\"text-align: right;\">\n",
       "      <th></th>\n",
       "      <th>s1</th>\n",
       "      <th>s2</th>\n",
       "      <th>type</th>\n",
       "      <th>value</th>\n",
       "    </tr>\n",
       "  </thead>\n",
       "  <tbody>\n",
       "    <tr>\n",
       "      <th>0</th>\n",
       "      <td>1</td>\n",
       "      <td>yes</td>\n",
       "      <td>inducing_cytokine</td>\n",
       "      <td>-1</td>\n",
       "    </tr>\n",
       "    <tr>\n",
       "      <th>1</th>\n",
       "      <td>1</td>\n",
       "      <td>yes</td>\n",
       "      <td>inducing_cytokine</td>\n",
       "      <td>-1</td>\n",
       "    </tr>\n",
       "    <tr>\n",
       "      <th>2</th>\n",
       "      <td>1</td>\n",
       "      <td>yes</td>\n",
       "      <td>inducing_cytokine</td>\n",
       "      <td>1</td>\n",
       "    </tr>\n",
       "  </tbody>\n",
       "</table>\n",
       "</div>"
      ],
      "text/plain": [
       "   s1   s2               type  value\n",
       "0   1  yes  inducing_cytokine     -1\n",
       "1   1  yes  inducing_cytokine     -1\n",
       "2   1  yes  inducing_cytokine      1"
      ]
     },
     "execution_count": 17,
     "metadata": {},
     "output_type": "execute_result"
    }
   ],
   "source": [
    "# Read doccano export:\n",
    "# {\"id\": 1, \"text\": \"EU rejec...\", \"annotations\": [{\"label\": 2, \"user\": 1}, \"label\": 1, \"user\": 1}], \"meta\": {\"s2\": \"yes\", \"s1\": 1}, \"annotation_approver\": null}\n",
    "# {\"id\": 2, \"text\": \"Peter Bl...\", \"annotations\": [{\"label\": 2, \"user\": 1}], \"meta\": {\"s2\": \"yes\", \"s1\": 1}, \"annotation_approver\": null}\n",
    "# {\"id\": 3, \"text\": \"Presiden...\", \"annotations\": [{\"label\": 1, \"user\": 1}], \"meta\": {\"s2\": \"yes\", \"s1\": 1}, \"annotation_approver\": null}\n",
    "\n",
    "path = osp.join(REPO_DATA_DIR, 'doccano', 'annotations_export.jsonl')\n",
    "df = pd.read_json(path, lines=True)\n",
    "df = pd.DataFrame([\n",
    "    {**r['meta'], **dict(type=labels[a['label']][0], value=labels[a['label']][1])}\n",
    "    for i, r in df.iterrows()\n",
    "    for a in r['annotations']\n",
    "])\n",
    "df.head()"
   ]
  },
  {
   "cell_type": "code",
   "execution_count": null,
   "metadata": {},
   "outputs": [],
   "source": [
    "path = osp.join(REPO_DATA_DIR, 'annotation', 'doccano_export.csv')\n",
    "df.to_csv(path, index=False)\n",
    "path"
   ]
  }
 ],
 "metadata": {
  "kernelspec": {
   "display_name": "Python 3",
   "language": "python",
   "name": "python3"
  },
  "language_info": {
   "codemirror_mode": {
    "name": "ipython",
    "version": 3
   },
   "file_extension": ".py",
   "mimetype": "text/x-python",
   "name": "python",
   "nbconvert_exporter": "python",
   "pygments_lexer": "ipython3",
   "version": "3.6.8"
  }
 },
 "nbformat": 4,
 "nbformat_minor": 4
}
