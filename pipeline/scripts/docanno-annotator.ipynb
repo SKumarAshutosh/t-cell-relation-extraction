{
 "cells": [
  {
   "cell_type": "markdown",
   "metadata": {},
   "source": [
    "### Doccano Annotation\n",
    "\n",
    "Commands to run doccano locally:\n",
    "\n",
    "```\n",
    "docker pull chakkiworks/doccano\n",
    "docker run -d --name doccano -p 8000:8000 chakkiworks/doccano\n",
    "# docker run -d --rm --name doccano -p 8000:8000 chakkiworks/doccano # To delete on stop\n",
    "docker exec doccano tools/create-admin.sh \"admin\" \"admin@example.com\" \"password\"\n",
    "```"
   ]
  },
  {
   "cell_type": "code",
   "execution_count": 3,
   "metadata": {},
   "outputs": [],
   "source": [
    "import os\n",
    "import os.path as osp\n",
    "import pandas as pd\n",
    "import numpy as np\n",
    "import snorkel\n",
    "from snorkel.models import Candidate\n",
    "from snorkel import SnorkelSession\n",
    "from tcre.env import *\n",
    "from tcre import supervision"
   ]
  },
  {
   "cell_type": "code",
   "execution_count": 4,
   "metadata": {},
   "outputs": [],
   "source": [
    "session = SnorkelSession()\n",
    "classes = supervision.get_candidate_classes()"
   ]
  },
  {
   "cell_type": "code",
   "execution_count": null,
   "metadata": {},
   "outputs": [],
   "source": [
    "# Sentence ids with great candidates:\n",
    "# - 700024, 711845, 704300, 519494, 777986"
   ]
  },
  {
   "cell_type": "code",
   "execution_count": 20,
   "metadata": {},
   "outputs": [
    {
     "data": {
      "text/plain": [
       "type\n",
       "inducing_cytokine                90915\n",
       "inducing_transcription_factor    35933\n",
       "dtype: int64"
      ]
     },
     "execution_count": 20,
     "metadata": {},
     "output_type": "execute_result"
    }
   ],
   "source": [
    "# Pull list of all non-annotated candidate ids and types\n",
    "dfc = pd.DataFrame(\n",
    "    session.query(Candidate.id, Candidate.type).filter(Candidate.split == supervision.SPLIT_INFER).all(),\n",
    "    columns=['id', 'type']\n",
    ")\n",
    "# Because inducing and secreted cytokine relations have the same candidates, only one type needs to be used\n",
    "dfc = dfc[dfc['type'] != classes.secreted_cytokine.field]\n",
    "dfc.groupby('type').size()"
   ]
  },
  {
   "cell_type": "code",
   "execution_count": 21,
   "metadata": {},
   "outputs": [
    {
     "data": {
      "text/html": [
       "<div>\n",
       "<style scoped>\n",
       "    .dataframe tbody tr th:only-of-type {\n",
       "        vertical-align: middle;\n",
       "    }\n",
       "\n",
       "    .dataframe tbody tr th {\n",
       "        vertical-align: top;\n",
       "    }\n",
       "\n",
       "    .dataframe thead th {\n",
       "        text-align: right;\n",
       "    }\n",
       "</style>\n",
       "<table border=\"1\" class=\"dataframe\">\n",
       "  <thead>\n",
       "    <tr style=\"text-align: right;\">\n",
       "      <th></th>\n",
       "      <th>id</th>\n",
       "      <th>type</th>\n",
       "    </tr>\n",
       "  </thead>\n",
       "  <tbody>\n",
       "    <tr>\n",
       "      <th>0</th>\n",
       "      <td>1</td>\n",
       "      <td>inducing_cytokine</td>\n",
       "    </tr>\n",
       "    <tr>\n",
       "      <th>1</th>\n",
       "      <td>2</td>\n",
       "      <td>inducing_cytokine</td>\n",
       "    </tr>\n",
       "    <tr>\n",
       "      <th>2</th>\n",
       "      <td>3</td>\n",
       "      <td>inducing_cytokine</td>\n",
       "    </tr>\n",
       "    <tr>\n",
       "      <th>3</th>\n",
       "      <td>4</td>\n",
       "      <td>inducing_cytokine</td>\n",
       "    </tr>\n",
       "    <tr>\n",
       "      <th>4</th>\n",
       "      <td>5</td>\n",
       "      <td>inducing_cytokine</td>\n",
       "    </tr>\n",
       "  </tbody>\n",
       "</table>\n",
       "</div>"
      ],
      "text/plain": [
       "   id               type\n",
       "0   1  inducing_cytokine\n",
       "1   2  inducing_cytokine\n",
       "2   3  inducing_cytokine\n",
       "3   4  inducing_cytokine\n",
       "4   5  inducing_cytokine"
      ]
     },
     "execution_count": 21,
     "metadata": {},
     "output_type": "execute_result"
    }
   ],
   "source": [
    "dfc.head()"
   ]
  },
  {
   "cell_type": "code",
   "execution_count": 22,
   "metadata": {},
   "outputs": [
    {
     "data": {
      "text/plain": [
       "type\n",
       "inducing_cytokine                500\n",
       "inducing_transcription_factor    500\n",
       "dtype: int64"
      ]
     },
     "execution_count": 22,
     "metadata": {},
     "output_type": "execute_result"
    }
   ],
   "source": [
    "# Generate samples for each type\n",
    "dfs = dfc.groupby('type', group_keys=False).apply(lambda g: g.sample(n=500, random_state=TCRE_SEED))\n",
    "dfs.groupby('type').size()"
   ]
  },
  {
   "cell_type": "code",
   "execution_count": 23,
   "metadata": {},
   "outputs": [
    {
     "data": {
      "text/html": [
       "<div>\n",
       "<style scoped>\n",
       "    .dataframe tbody tr th:only-of-type {\n",
       "        vertical-align: middle;\n",
       "    }\n",
       "\n",
       "    .dataframe tbody tr th {\n",
       "        vertical-align: top;\n",
       "    }\n",
       "\n",
       "    .dataframe thead th {\n",
       "        text-align: right;\n",
       "    }\n",
       "</style>\n",
       "<table border=\"1\" class=\"dataframe\">\n",
       "  <thead>\n",
       "    <tr style=\"text-align: right;\">\n",
       "      <th></th>\n",
       "      <th>labels</th>\n",
       "      <th>meta</th>\n",
       "      <th>text</th>\n",
       "    </tr>\n",
       "  </thead>\n",
       "  <tbody>\n",
       "    <tr>\n",
       "      <th>0</th>\n",
       "      <td>[]</td>\n",
       "      <td>{'type': 'inducing_cytokine', 'doc_id': 'PMC42...</td>\n",
       "      <td>Recently , many studies reported that miR-21 i...</td>\n",
       "    </tr>\n",
       "    <tr>\n",
       "      <th>1</th>\n",
       "      <td>[]</td>\n",
       "      <td>{'type': 'inducing_cytokine', 'doc_id': 'PMC58...</td>\n",
       "      <td>The chief mechanisms by which Tr1 cells contro...</td>\n",
       "    </tr>\n",
       "    <tr>\n",
       "      <th>2</th>\n",
       "      <td>[]</td>\n",
       "      <td>{'type': 'inducing_cytokine', 'doc_id': 'PMC56...</td>\n",
       "      <td>a , b Naive T cells were differentiated into T...</td>\n",
       "    </tr>\n",
       "    <tr>\n",
       "      <th>3</th>\n",
       "      <td>[]</td>\n",
       "      <td>{'type': 'inducing_cytokine', 'doc_id': 'PMC42...</td>\n",
       "      <td>Detection of cytokines from RA patients reveal...</td>\n",
       "    </tr>\n",
       "    <tr>\n",
       "      <th>4</th>\n",
       "      <td>[]</td>\n",
       "      <td>{'type': 'inducing_cytokine', 'doc_id': 'PMC59...</td>\n",
       "      <td>However , GATA3 is no longer required for ||IL...</td>\n",
       "    </tr>\n",
       "  </tbody>\n",
       "</table>\n",
       "</div>"
      ],
      "text/plain": [
       "  labels                                               meta  \\\n",
       "0     []  {'type': 'inducing_cytokine', 'doc_id': 'PMC42...   \n",
       "1     []  {'type': 'inducing_cytokine', 'doc_id': 'PMC58...   \n",
       "2     []  {'type': 'inducing_cytokine', 'doc_id': 'PMC56...   \n",
       "3     []  {'type': 'inducing_cytokine', 'doc_id': 'PMC42...   \n",
       "4     []  {'type': 'inducing_cytokine', 'doc_id': 'PMC59...   \n",
       "\n",
       "                                                text  \n",
       "0  Recently , many studies reported that miR-21 i...  \n",
       "1  The chief mechanisms by which Tr1 cells contro...  \n",
       "2  a , b Naive T cells were differentiated into T...  \n",
       "3  Detection of cytokines from RA patients reveal...  \n",
       "4  However , GATA3 is no longer required for ||IL...  "
      ]
     },
     "execution_count": 23,
     "metadata": {},
     "output_type": "execute_result"
    }
   ],
   "source": [
    "# Convert to JSONL files for docanno; Example:\n",
    "# {\"text\": \"EU rejects German call to boycott British lamb.\", \"labels\": [ [0, 2, \"ORG\"], [11, 17, \"MISC\"], ... ]}\n",
    "# {\"text\": \"Peter Blackburn\", \"labels\": [ [0, 15, \"PERSON\"] ]}\n",
    "# {\"text\": \"President Obama\", \"labels\": [ [10, 15, \"PERSON\"] ]}\n",
    "\n",
    "markers = {\n",
    "    supervision.ENT_TYP_CK_L: '||',\n",
    "    supervision.ENT_TYP_CT_L: '$$',\n",
    "    supervision.ENT_TYP_TF_L: '@@',\n",
    "}\n",
    "\n",
    "def process(r):\n",
    "    cand = session.query(Candidate).filter(Candidate.id == r['id']).one()\n",
    "    sent = cand.get_parent()\n",
    "    doc = sent.get_parent()\n",
    "    words = list(cand.get_parent().words)\n",
    "    ctxs = cand.get_contexts()\n",
    "    \n",
    "    for ctx in ctxs:\n",
    "        rng = ctx.get_word_range()\n",
    "        typ = cand.get_parent().entity_types[rng[0]]\n",
    "        # Add visual markers in the text to make the entities in question clear\n",
    "        words[rng[0]] = markers[typ] + words[rng[0]]\n",
    "        words[rng[1]] = words[rng[1]] + markers[typ] \n",
    "    meta = dict(\n",
    "        type=cand.type, doc_id=doc.name, \n",
    "        # Add sentence id, absoluate character offset of first character, index of sentence in document, and sent length (in words)\n",
    "        sent_id=sent.id, sent_abs_offset=sent.abs_char_offsets[0], sent_pos=sent.position, sent_len=len(sent.words),\n",
    "        # Add text and start/end (INCLUSIVE) char span for each entity\n",
    "        e1_text=ctxs[0].get_span(), e1_start_chr=ctxs[0].char_start, e1_end_chr=ctxs[0].char_end,\n",
    "        e2_text=ctxs[1].get_span(), e2_start_chr=ctxs[1].char_start, e2_end_chr=ctxs[1].char_end\n",
    "    )\n",
    "    return dict(text=' '.join(words), labels=[], meta=meta)\n",
    "\n",
    "dfexp = pd.DataFrame(list(dfs.apply(process, axis=1).values))\n",
    "dfexp.head()"
   ]
  },
  {
   "cell_type": "code",
   "execution_count": 24,
   "metadata": {},
   "outputs": [
    {
     "name": "stdout",
     "output_type": "stream",
     "text": [
      "<class 'pandas.core.frame.DataFrame'>\n",
      "RangeIndex: 1000 entries, 0 to 999\n",
      "Data columns (total 3 columns):\n",
      "labels    1000 non-null object\n",
      "meta      1000 non-null object\n",
      "text      1000 non-null object\n",
      "dtypes: object(3)\n",
      "memory usage: 23.5+ KB\n"
     ]
    }
   ],
   "source": [
    "dfexp.info()"
   ]
  },
  {
   "cell_type": "code",
   "execution_count": 25,
   "metadata": {},
   "outputs": [
    {
     "data": {
      "text/plain": [
       "inducing_transcription_factor    500\n",
       "inducing_cytokine                500\n",
       "dtype: int64"
      ]
     },
     "execution_count": 25,
     "metadata": {},
     "output_type": "execute_result"
    }
   ],
   "source": [
    "dfexp.apply(lambda r: r['meta']['type'], axis=1).value_counts()"
   ]
  },
  {
   "cell_type": "code",
   "execution_count": 15,
   "metadata": {},
   "outputs": [
    {
     "data": {
      "text/plain": [
       "<matplotlib.axes._subplots.AxesSubplot at 0x7fe299f477f0>"
      ]
     },
     "execution_count": 15,
     "metadata": {},
     "output_type": "execute_result"
    },
    {
     "data": {
      "image/png": "[encoded data removed]",
      "text/plain": [
       "<Figure size 432x288 with 1 Axes>"
      ]
     },
     "metadata": {
      "needs_background": "light"
     },
     "output_type": "display_data"
    }
   ],
   "source": [
    "%matplotlib inline\n",
    "dfexp.apply(lambda r: r['meta']['sent_abs_offset'], axis=1).hist(bins=32)"
   ]
  },
  {
   "cell_type": "code",
   "execution_count": 16,
   "metadata": {},
   "outputs": [
    {
     "data": {
      "text/plain": [
       "<matplotlib.axes._subplots.AxesSubplot at 0x7fe29b6f5160>"
      ]
     },
     "execution_count": 16,
     "metadata": {},
     "output_type": "execute_result"
    },
    {
     "data": {
      "image/png": "[encoded data removed]",
      "text/plain": [
       "<Figure size 432x288 with 1 Axes>"
      ]
     },
     "metadata": {
      "needs_background": "light"
     },
     "output_type": "display_data"
    }
   ],
   "source": [
    "%matplotlib inline\n",
    "dfexp.apply(lambda r: r['meta']['e1_start_chr'], axis=1).hist(bins=32)"
   ]
  },
  {
   "cell_type": "code",
   "execution_count": 17,
   "metadata": {},
   "outputs": [
    {
     "data": {
      "text/plain": [
       "'/lab/repos/t-cell-relation-extraction/data/doccano/annotations_import.jsonl'"
      ]
     },
     "execution_count": 17,
     "metadata": {},
     "output_type": "execute_result"
    }
   ],
   "source": [
    "path = osp.join(REPO_DATA_DIR, 'doccano', 'annotations_import.jsonl')\n",
    "dfexp.to_json(path, orient='records', lines=True)\n",
    "path"
   ]
  },
  {
   "cell_type": "markdown",
   "metadata": {},
   "source": [
    "### Reload and Export\n",
    "\n",
    "Doccano only exports the internal id for labels, so to get the associated string label use:\n",
    "\n",
    "```bash\n",
    "docker exec -i doccano /bin/bash - << EOF\n",
    "python -c '\n",
    "import sqlite3\n",
    "conn = sqlite3.connect(\"app/db.sqlite3\")\n",
    "# Must replace project_id here (e.g. from url in web app)\n",
    "rows = conn.execute(\"SELECT id, text FROM api_label WHERE project_id = 1;\").fetchall()\n",
    "print(\"\\n\".join([\",\".join(map(str, r)) for r in rows]))\n",
    "'\n",
    "EOF\n",
    "```\n",
    "\n",
    "See: https://github.com/chakki-works/doccano/issues/295"
   ]
  },
  {
   "cell_type": "code",
   "execution_count": 1,
   "metadata": {},
   "outputs": [],
   "source": [
    "# These labels need to be defined on a fresh run of the doccano container\n",
    "# and they need to be defined in an order that corresponds with the dict below\n",
    "# (for some reason, doccano only exports the internal id associated with the label,\n",
    "# which will increment indefinitely as you add projects and label categories)\n",
    "labels = {\n",
    "    1: ('inducing_cytokine', 1), \n",
    "    2: ('inducing_cytokine', -1), \n",
    "    3: ('secreted_cytokine', 1),\n",
    "    4: ('secreted_cytokine', -1), \n",
    "    5: ('inducing_transcription_factor', 1), \n",
    "    6: ('inducing_transcription_factor', -1) \n",
    "}"
   ]
  },
  {
   "cell_type": "code",
   "execution_count": 5,
   "metadata": {},
   "outputs": [
    {
     "data": {
      "text/html": [
       "<div>\n",
       "<style scoped>\n",
       "    .dataframe tbody tr th:only-of-type {\n",
       "        vertical-align: middle;\n",
       "    }\n",
       "\n",
       "    .dataframe tbody tr th {\n",
       "        vertical-align: top;\n",
       "    }\n",
       "\n",
       "    .dataframe thead th {\n",
       "        text-align: right;\n",
       "    }\n",
       "</style>\n",
       "<table border=\"1\" class=\"dataframe\">\n",
       "  <thead>\n",
       "    <tr style=\"text-align: right;\">\n",
       "      <th></th>\n",
       "      <th>doc_id</th>\n",
       "      <th>e1_end_chr</th>\n",
       "      <th>e1_start_chr</th>\n",
       "      <th>e1_text</th>\n",
       "      <th>e2_end_chr</th>\n",
       "      <th>e2_start_chr</th>\n",
       "      <th>e2_text</th>\n",
       "      <th>sent_abs_offset</th>\n",
       "      <th>sent_id</th>\n",
       "      <th>sent_len</th>\n",
       "      <th>sent_pos</th>\n",
       "      <th>type</th>\n",
       "      <th>value</th>\n",
       "    </tr>\n",
       "  </thead>\n",
       "  <tbody>\n",
       "    <tr>\n",
       "      <th>0</th>\n",
       "      <td>PMC4224555</td>\n",
       "      <td>238</td>\n",
       "      <td>234</td>\n",
       "      <td>IL-12</td>\n",
       "      <td>208</td>\n",
       "      <td>206</td>\n",
       "      <td>Th2</td>\n",
       "      <td>3937</td>\n",
       "      <td>510800</td>\n",
       "      <td>70</td>\n",
       "      <td>24</td>\n",
       "      <td>secreted_cytokine</td>\n",
       "      <td>-1</td>\n",
       "    </tr>\n",
       "    <tr>\n",
       "      <th>1</th>\n",
       "      <td>PMC4224555</td>\n",
       "      <td>238</td>\n",
       "      <td>234</td>\n",
       "      <td>IL-12</td>\n",
       "      <td>208</td>\n",
       "      <td>206</td>\n",
       "      <td>Th2</td>\n",
       "      <td>3937</td>\n",
       "      <td>510800</td>\n",
       "      <td>70</td>\n",
       "      <td>24</td>\n",
       "      <td>inducing_cytokine</td>\n",
       "      <td>-1</td>\n",
       "    </tr>\n",
       "    <tr>\n",
       "      <th>2</th>\n",
       "      <td>PMC5818395</td>\n",
       "      <td>138</td>\n",
       "      <td>136</td>\n",
       "      <td>Tr1</td>\n",
       "      <td>348</td>\n",
       "      <td>339</td>\n",
       "      <td>effector T</td>\n",
       "      <td>422</td>\n",
       "      <td>516679</td>\n",
       "      <td>61</td>\n",
       "      <td>3</td>\n",
       "      <td>secreted_cytokine</td>\n",
       "      <td>-1</td>\n",
       "    </tr>\n",
       "    <tr>\n",
       "      <th>3</th>\n",
       "      <td>PMC5818395</td>\n",
       "      <td>138</td>\n",
       "      <td>136</td>\n",
       "      <td>Tr1</td>\n",
       "      <td>348</td>\n",
       "      <td>339</td>\n",
       "      <td>effector T</td>\n",
       "      <td>422</td>\n",
       "      <td>516679</td>\n",
       "      <td>61</td>\n",
       "      <td>3</td>\n",
       "      <td>inducing_cytokine</td>\n",
       "      <td>-1</td>\n",
       "    </tr>\n",
       "    <tr>\n",
       "      <th>4</th>\n",
       "      <td>PMC5634439</td>\n",
       "      <td>325</td>\n",
       "      <td>321</td>\n",
       "      <td>IL-23</td>\n",
       "      <td>55</td>\n",
       "      <td>52</td>\n",
       "      <td>Th17</td>\n",
       "      <td>18552</td>\n",
       "      <td>765061</td>\n",
       "      <td>88</td>\n",
       "      <td>154</td>\n",
       "      <td>secreted_cytokine</td>\n",
       "      <td>-1</td>\n",
       "    </tr>\n",
       "  </tbody>\n",
       "</table>\n",
       "</div>"
      ],
      "text/plain": [
       "       doc_id  e1_end_chr  e1_start_chr e1_text  e2_end_chr  e2_start_chr  \\\n",
       "0  PMC4224555         238           234   IL-12         208           206   \n",
       "1  PMC4224555         238           234   IL-12         208           206   \n",
       "2  PMC5818395         138           136     Tr1         348           339   \n",
       "3  PMC5818395         138           136     Tr1         348           339   \n",
       "4  PMC5634439         325           321   IL-23          55            52   \n",
       "\n",
       "      e2_text  sent_abs_offset  sent_id  sent_len  sent_pos  \\\n",
       "0         Th2             3937   510800        70        24   \n",
       "1         Th2             3937   510800        70        24   \n",
       "2  effector T              422   516679        61         3   \n",
       "3  effector T              422   516679        61         3   \n",
       "4        Th17            18552   765061        88       154   \n",
       "\n",
       "                type  value  \n",
       "0  secreted_cytokine     -1  \n",
       "1  inducing_cytokine     -1  \n",
       "2  secreted_cytokine     -1  \n",
       "3  inducing_cytokine     -1  \n",
       "4  secreted_cytokine     -1  "
      ]
     },
     "execution_count": 5,
     "metadata": {},
     "output_type": "execute_result"
    }
   ],
   "source": [
    "# Read doccano export:\n",
    "# {\"id\": 1, \"text\": \"EU rejec...\", \"annotations\": [{\"label\": 2, \"user\": 1}, \"label\": 1, \"user\": 1}], \"meta\": {\"s2\": \"yes\", \"s1\": 1}, \"annotation_approver\": null}\n",
    "# {\"id\": 2, \"text\": \"Peter Bl...\", \"annotations\": [{\"label\": 2, \"user\": 1}], \"meta\": {\"s2\": \"yes\", \"s1\": 1}, \"annotation_approver\": null}\n",
    "# {\"id\": 3, \"text\": \"Presiden...\", \"annotations\": [{\"label\": 1, \"user\": 1}], \"meta\": {\"s2\": \"yes\", \"s1\": 1}, \"annotation_approver\": null}\n",
    "\n",
    "path = osp.join(REPO_DATA_DIR, 'doccano', 'annotations_export.jsonl')\n",
    "df = pd.read_json(path, lines=True)\n",
    "df = pd.DataFrame([\n",
    "    {**r['meta'], **dict(type=labels[a['label']][0], value=labels[a['label']][1])}\n",
    "    for i, r in df.iterrows()\n",
    "    for a in r['annotations']\n",
    "])\n",
    "df.head()"
   ]
  },
  {
   "cell_type": "code",
   "execution_count": 6,
   "metadata": {},
   "outputs": [
    {
     "name": "stdout",
     "output_type": "stream",
     "text": [
      "<class 'pandas.core.frame.DataFrame'>\n",
      "RangeIndex: 1500 entries, 0 to 1499\n",
      "Data columns (total 13 columns):\n",
      "doc_id             1500 non-null object\n",
      "e1_end_chr         1500 non-null int64\n",
      "e1_start_chr       1500 non-null int64\n",
      "e1_text            1500 non-null object\n",
      "e2_end_chr         1500 non-null int64\n",
      "e2_start_chr       1500 non-null int64\n",
      "e2_text            1500 non-null object\n",
      "sent_abs_offset    1500 non-null int64\n",
      "sent_id            1500 non-null int64\n",
      "sent_len           1500 non-null int64\n",
      "sent_pos           1500 non-null int64\n",
      "type               1500 non-null object\n",
      "value              1500 non-null int64\n",
      "dtypes: int64(9), object(4)\n",
      "memory usage: 152.4+ KB\n"
     ]
    }
   ],
   "source": [
    "df.info()"
   ]
  },
  {
   "cell_type": "code",
   "execution_count": 7,
   "metadata": {},
   "outputs": [
    {
     "data": {
      "text/plain": [
       "inducing_transcription_factor    500\n",
       "inducing_cytokine                500\n",
       "secreted_cytokine                500\n",
       "Name: type, dtype: int64"
      ]
     },
     "execution_count": 7,
     "metadata": {},
     "output_type": "execute_result"
    }
   ],
   "source": [
    "df['type'].value_counts()"
   ]
  },
  {
   "cell_type": "code",
   "execution_count": 8,
   "metadata": {},
   "outputs": [
    {
     "data": {
      "text/plain": [
       "type                           value\n",
       "inducing_cytokine              -1       472\n",
       "                                1        28\n",
       "inducing_transcription_factor  -1       400\n",
       "                                1       100\n",
       "secreted_cytokine              -1       420\n",
       "                                1        80\n",
       "dtype: int64"
      ]
     },
     "execution_count": 8,
     "metadata": {},
     "output_type": "execute_result"
    }
   ],
   "source": [
    "df.groupby(['type', 'value']).size()"
   ]
  },
  {
   "cell_type": "code",
   "execution_count": 9,
   "metadata": {},
   "outputs": [
    {
     "data": {
      "text/plain": [
       "'/lab/repos/t-cell-relation-extraction/data/annotation/doccano_export.csv'"
      ]
     },
     "execution_count": 9,
     "metadata": {},
     "output_type": "execute_result"
    }
   ],
   "source": [
    "path = osp.join(REPO_DATA_DIR, 'annotation', 'doccano_export.csv')\n",
    "df.to_csv(path, index=False)\n",
    "path"
   ]
  }
 ],
 "metadata": {
  "kernelspec": {
   "display_name": "Python 3",
   "language": "python",
   "name": "python3"
  },
  "language_info": {
   "codemirror_mode": {
    "name": "ipython",
    "version": 3
   },
   "file_extension": ".py",
   "mimetype": "text/x-python",
   "name": "python",
   "nbconvert_exporter": "python",
   "pygments_lexer": "ipython3",
   "version": "3.6.8"
  }
 },
 "nbformat": 4,
 "nbformat_minor": 4
}
