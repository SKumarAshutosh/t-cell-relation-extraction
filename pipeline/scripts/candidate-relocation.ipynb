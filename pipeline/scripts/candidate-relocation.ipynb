{
 "cells": [
  {
   "cell_type": "code",
   "execution_count": 1,
   "metadata": {},
   "outputs": [],
   "source": [
    "import os\n",
    "import os.path as osp\n",
    "import pandas as pd\n",
    "import numpy as np\n",
    "import snorkel\n",
    "from snorkel import SnorkelSession\n",
    "from tcre.env import *\n",
    "from tcre.supervision import *\n",
    "session = SnorkelSession()\n",
    "classes = get_candidate_classes()"
   ]
  },
  {
   "cell_type": "code",
   "execution_count": 2,
   "metadata": {},
   "outputs": [
    {
     "data": {
      "text/plain": [
       "(1, 3, 0, 2, 4)"
      ]
     },
     "execution_count": 2,
     "metadata": {},
     "output_type": "execute_result"
    }
   ],
   "source": [
    "SPLIT_DEV, SPLIT_TEST, SPLIT_TRAIN, SPLIT_INFER, SPLIT_VAL"
   ]
  },
  {
   "cell_type": "markdown",
   "metadata": {},
   "source": [
    "### Refactor 1\n",
    "\n",
    "Move unlabeled \"infer\" candidates to training and leave rest as \"test\" set (after annotating on infer split):"
   ]
  },
  {
   "cell_type": "code",
   "execution_count": 3,
   "metadata": {},
   "outputs": [
    {
     "data": {
      "text/plain": [
       "2    305916\n",
       "0    120166\n",
       "1      1756\n",
       "3       612\n",
       "dtype: int64"
      ]
     },
     "execution_count": 3,
     "metadata": {},
     "output_type": "execute_result"
    }
   ],
   "source": [
    "from snorkel.models import Candidate\n",
    "pd.Series([v[0] for v in session.query(Candidate.split).all()]).value_counts()"
   ]
  },
  {
   "cell_type": "code",
   "execution_count": 2,
   "metadata": {},
   "outputs": [
    {
     "data": {
      "text/plain": [
       "612"
      ]
     },
     "execution_count": 2,
     "metadata": {},
     "output_type": "execute_result"
    }
   ],
   "source": [
    "from snorkel.models import Candidate, GoldLabel\n",
    "annot_cands = session.query(Candidate, GoldLabel).join(GoldLabel).filter(Candidate.split == SPLIT_INFER).all()\n",
    "len(annot_cands)"
   ]
  },
  {
   "cell_type": "code",
   "execution_count": 3,
   "metadata": {},
   "outputs": [
    {
     "data": {
      "text/plain": [
       "396528"
      ]
     },
     "execution_count": 3,
     "metadata": {},
     "output_type": "execute_result"
    }
   ],
   "source": [
    "from snorkel.models import Candidate, GoldLabel\n",
    "infer_cands = session.query(Candidate).filter(Candidate.split == SPLIT_INFER).all()\n",
    "len(infer_cands)"
   ]
  },
  {
   "cell_type": "code",
   "execution_count": 4,
   "metadata": {},
   "outputs": [
    {
     "data": {
      "text/plain": [
       "612"
      ]
     },
     "execution_count": 4,
     "metadata": {},
     "output_type": "execute_result"
    }
   ],
   "source": [
    "annot_ids = set([c[0].id for c in annot_cands])\n",
    "len(annot_ids)"
   ]
  },
  {
   "cell_type": "code",
   "execution_count": 5,
   "metadata": {},
   "outputs": [
    {
     "data": {
      "text/plain": [
       "395916"
      ]
     },
     "execution_count": 5,
     "metadata": {},
     "output_type": "execute_result"
    }
   ],
   "source": [
    "mv_cands = [r for r in infer_cands if r.id not in annot_ids]\n",
    "len(mv_cands)"
   ]
  },
  {
   "cell_type": "code",
   "execution_count": 11,
   "metadata": {},
   "outputs": [
    {
     "data": {
      "text/plain": [
       "612"
      ]
     },
     "execution_count": 11,
     "metadata": {},
     "output_type": "execute_result"
    }
   ],
   "source": [
    "# Sanity check on counts and presence\n",
    "from snorkel.models import StableLabel, GoldLabel\n",
    "gcandids = [r.candidate_id for r in session.query(GoldLabel).all()]\n",
    "assert not any([c.id in gcandids for c in mv_cands])\n",
    "assert len(infer_cands) - len(mv_cands) == len(annot_cands)\n",
    "len(infer_cands) - len(mv_cands)"
   ]
  },
  {
   "cell_type": "code",
   "execution_count": 20,
   "metadata": {},
   "outputs": [
    {
     "data": {
      "text/plain": [
       "InducingCytokine(Span(\"b'interleukin-4'\", sentence=128832, chars=[90,102], words=[17,17]), Span(\"b'Th2'\", sentence=128832, chars=[75,77], words=[14,14]))"
      ]
     },
     "execution_count": 20,
     "metadata": {},
     "output_type": "execute_result"
    }
   ],
   "source": [
    "c = mv_cands[0]\n",
    "c"
   ]
  },
  {
   "cell_type": "code",
   "execution_count": 21,
   "metadata": {},
   "outputs": [
    {
     "data": {
      "text/plain": [
       "3"
      ]
     },
     "execution_count": 21,
     "metadata": {},
     "output_type": "execute_result"
    }
   ],
   "source": [
    "c.split"
   ]
  },
  {
   "cell_type": "code",
   "execution_count": 32,
   "metadata": {},
   "outputs": [
    {
     "data": {
      "text/plain": [
       "(395916, 90000, 305916)"
      ]
     },
     "execution_count": 32,
     "metadata": {},
     "output_type": "execute_result"
    }
   ],
   "source": [
    "idx = pd.Series(np.arange(len(mv_cands)))\n",
    "idx_train = idx.sample(n=90000, random_state=1).values\n",
    "idx_infer = np.setdiff1d(idx, idx_train)\n",
    "len(idx), len(idx_train), len(idx_infer)"
   ]
  },
  {
   "cell_type": "code",
   "execution_count": 34,
   "metadata": {},
   "outputs": [],
   "source": [
    "assert len(idx) == len(idx_train) + len(idx_infer)"
   ]
  },
  {
   "cell_type": "code",
   "execution_count": 35,
   "metadata": {},
   "outputs": [],
   "source": [
    "assert len(idx) == len(mv_cands)"
   ]
  },
  {
   "cell_type": "code",
   "execution_count": 33,
   "metadata": {},
   "outputs": [],
   "source": [
    "# Move some candidates to training split (from 3 -> 0)\n",
    "for i in idx_train:\n",
    "    mv_cands[i].split = 0 \n",
    "session.commit()"
   ]
  },
  {
   "cell_type": "code",
   "execution_count": 36,
   "metadata": {},
   "outputs": [],
   "source": [
    "# Move the rest to a new infer split (from 3 -> 2)\n",
    "# * from now on, the old INFER split (3) will contain only labeled candidates and should be referred to as TEST\n",
    "for i in idx_infer:\n",
    "    mv_cands[i].split = 2 \n",
    "session.commit()"
   ]
  },
  {
   "cell_type": "code",
   "execution_count": 37,
   "metadata": {},
   "outputs": [
    {
     "data": {
      "text/plain": [
       "2    305916\n",
       "0    120166\n",
       "1      1756\n",
       "3       612\n",
       "dtype: int64"
      ]
     },
     "execution_count": 37,
     "metadata": {},
     "output_type": "execute_result"
    }
   ],
   "source": [
    "# Pull new candidate distribution\n",
    "from snorkel.models import Candidate\n",
    "pd.Series([v[0] for v in session.query(Candidate.split).all()]).value_counts()"
   ]
  },
  {
   "cell_type": "markdown",
   "metadata": {},
   "source": [
    "### Refactor 2\n",
    "\n",
    "Move some test candidates to validation split:"
   ]
  },
  {
   "cell_type": "code",
   "execution_count": 7,
   "metadata": {},
   "outputs": [
    {
     "data": {
      "text/plain": [
       "612"
      ]
     },
     "execution_count": 7,
     "metadata": {},
     "output_type": "execute_result"
    }
   ],
   "source": [
    "test_cands = session.query(Candidate).filter(Candidate.split == SPLIT_TEST).all()\n",
    "len(test_cands)"
   ]
  },
  {
   "cell_type": "code",
   "execution_count": 10,
   "metadata": {},
   "outputs": [
    {
     "data": {
      "text/plain": [
       "inducing_transcription_factor    217\n",
       "secreted_cytokine                198\n",
       "inducing_cytokine                197\n",
       "dtype: int64"
      ]
     },
     "execution_count": 10,
     "metadata": {},
     "output_type": "execute_result"
    }
   ],
   "source": [
    "pd.Series([c.type for c in test_cands]).value_counts()"
   ]
  },
  {
   "cell_type": "code",
   "execution_count": 13,
   "metadata": {},
   "outputs": [
    {
     "data": {
      "text/plain": [
       "-1"
      ]
     },
     "execution_count": 13,
     "metadata": {},
     "output_type": "execute_result"
    }
   ],
   "source": [
    "c.gold_labels[0].value"
   ]
  },
  {
   "cell_type": "code",
   "execution_count": 16,
   "metadata": {},
   "outputs": [
    {
     "data": {
      "text/html": [
       "<div>\n",
       "<style scoped>\n",
       "    .dataframe tbody tr th:only-of-type {\n",
       "        vertical-align: middle;\n",
       "    }\n",
       "\n",
       "    .dataframe tbody tr th {\n",
       "        vertical-align: top;\n",
       "    }\n",
       "\n",
       "    .dataframe thead th {\n",
       "        text-align: right;\n",
       "    }\n",
       "</style>\n",
       "<table border=\"1\" class=\"dataframe\">\n",
       "  <thead>\n",
       "    <tr style=\"text-align: right;\">\n",
       "      <th></th>\n",
       "      <th>id</th>\n",
       "      <th>type</th>\n",
       "      <th>num_lbls</th>\n",
       "      <th>lbl</th>\n",
       "    </tr>\n",
       "  </thead>\n",
       "  <tbody>\n",
       "    <tr>\n",
       "      <th>0</th>\n",
       "      <td>32545</td>\n",
       "      <td>inducing_cytokine</td>\n",
       "      <td>1</td>\n",
       "      <td>-1</td>\n",
       "    </tr>\n",
       "    <tr>\n",
       "      <th>1</th>\n",
       "      <td>33626</td>\n",
       "      <td>inducing_cytokine</td>\n",
       "      <td>1</td>\n",
       "      <td>-1</td>\n",
       "    </tr>\n",
       "    <tr>\n",
       "      <th>2</th>\n",
       "      <td>33781</td>\n",
       "      <td>inducing_cytokine</td>\n",
       "      <td>1</td>\n",
       "      <td>-1</td>\n",
       "    </tr>\n",
       "    <tr>\n",
       "      <th>3</th>\n",
       "      <td>34318</td>\n",
       "      <td>inducing_cytokine</td>\n",
       "      <td>1</td>\n",
       "      <td>-1</td>\n",
       "    </tr>\n",
       "    <tr>\n",
       "      <th>4</th>\n",
       "      <td>34476</td>\n",
       "      <td>inducing_cytokine</td>\n",
       "      <td>1</td>\n",
       "      <td>-1</td>\n",
       "    </tr>\n",
       "  </tbody>\n",
       "</table>\n",
       "</div>"
      ],
      "text/plain": [
       "      id               type  num_lbls  lbl\n",
       "0  32545  inducing_cytokine         1   -1\n",
       "1  33626  inducing_cytokine         1   -1\n",
       "2  33781  inducing_cytokine         1   -1\n",
       "3  34318  inducing_cytokine         1   -1\n",
       "4  34476  inducing_cytokine         1   -1"
      ]
     },
     "execution_count": 16,
     "metadata": {},
     "output_type": "execute_result"
    }
   ],
   "source": [
    "df = pd.DataFrame([\n",
    "    (c.id, c.type, len(c.gold_labels), c.gold_labels[0].value)\n",
    "    for c in test_cands\n",
    "], columns=['id', 'type', 'num_lbls', 'lbl'])\n",
    "assert (df['num_lbls'] == 1).all()\n",
    "assert df['lbl'].isin([-1, 1]).all()\n",
    "df.head()"
   ]
  },
  {
   "cell_type": "code",
   "execution_count": 17,
   "metadata": {},
   "outputs": [
    {
     "data": {
      "text/html": [
       "<div>\n",
       "<style scoped>\n",
       "    .dataframe tbody tr th:only-of-type {\n",
       "        vertical-align: middle;\n",
       "    }\n",
       "\n",
       "    .dataframe tbody tr th {\n",
       "        vertical-align: top;\n",
       "    }\n",
       "\n",
       "    .dataframe thead th {\n",
       "        text-align: right;\n",
       "    }\n",
       "</style>\n",
       "<table border=\"1\" class=\"dataframe\">\n",
       "  <thead>\n",
       "    <tr style=\"text-align: right;\">\n",
       "      <th>lbl</th>\n",
       "      <th>-1</th>\n",
       "      <th>1</th>\n",
       "    </tr>\n",
       "    <tr>\n",
       "      <th>type</th>\n",
       "      <th></th>\n",
       "      <th></th>\n",
       "    </tr>\n",
       "  </thead>\n",
       "  <tbody>\n",
       "    <tr>\n",
       "      <th>inducing_cytokine</th>\n",
       "      <td>170</td>\n",
       "      <td>27</td>\n",
       "    </tr>\n",
       "    <tr>\n",
       "      <th>inducing_transcription_factor</th>\n",
       "      <td>177</td>\n",
       "      <td>40</td>\n",
       "    </tr>\n",
       "    <tr>\n",
       "      <th>secreted_cytokine</th>\n",
       "      <td>159</td>\n",
       "      <td>39</td>\n",
       "    </tr>\n",
       "  </tbody>\n",
       "</table>\n",
       "</div>"
      ],
      "text/plain": [
       "lbl                             -1   1\n",
       "type                                  \n",
       "inducing_cytokine              170  27\n",
       "inducing_transcription_factor  177  40\n",
       "secreted_cytokine              159  39"
      ]
     },
     "execution_count": 17,
     "metadata": {},
     "output_type": "execute_result"
    }
   ],
   "source": [
    "df.groupby(['type', 'lbl']).size().unstack()"
   ]
  },
  {
   "cell_type": "code",
   "execution_count": 27,
   "metadata": {},
   "outputs": [],
   "source": [
    "from sklearn.model_selection import train_test_split\n",
    "\n",
    "mv_cand_ids = {}\n",
    "for k, g in df.groupby('type'):\n",
    "    new_val_ids, old_test_ids = train_test_split(g['id'], stratify=g['lbl'], test_size=100, random_state=1)\n",
    "    assert len(new_val_ids) + len(old_test_ids) == len(g)\n",
    "    mv_cand_ids[k] = new_val_ids.values"
   ]
  },
  {
   "cell_type": "code",
   "execution_count": 28,
   "metadata": {},
   "outputs": [
    {
     "name": "stdout",
     "output_type": "stream",
     "text": [
      "inducing_cytokine 97 {-1: 84, 1: 13}\n",
      "inducing_transcription_factor 117 {-1: 95, 1: 22}\n",
      "secreted_cytokine 98 {-1: 79, 1: 19}\n"
     ]
    }
   ],
   "source": [
    "# Show counts and label balance for data to be moved to validation split\n",
    "for k, v in mv_cand_ids.items():\n",
    "    print(k, len(v), df.set_index('id').loc[v]['lbl'].value_counts().to_dict())"
   ]
  },
  {
   "cell_type": "code",
   "execution_count": 30,
   "metadata": {},
   "outputs": [
    {
     "data": {
      "text/plain": [
       "312"
      ]
     },
     "execution_count": 30,
     "metadata": {},
     "output_type": "execute_result"
    }
   ],
   "source": [
    "# Show sum of counts\n",
    "np.sum([len(v) for k, v in mv_cand_ids.items()])"
   ]
  },
  {
   "cell_type": "code",
   "execution_count": 29,
   "metadata": {},
   "outputs": [
    {
     "data": {
      "text/plain": [
       "312"
      ]
     },
     "execution_count": 29,
     "metadata": {},
     "output_type": "execute_result"
    }
   ],
   "source": [
    "# Grab candidate objects for above ids\n",
    "mv_cands = [{c.id: c for c in test_cands}[cid] for k, v in mv_cand_ids.items() for cid in v]\n",
    "len(mv_cands)"
   ]
  },
  {
   "cell_type": "code",
   "execution_count": 32,
   "metadata": {},
   "outputs": [
    {
     "data": {
      "text/plain": [
       "inducing_transcription_factor    117\n",
       "secreted_cytokine                 98\n",
       "inducing_cytokine                 97\n",
       "dtype: int64"
      ]
     },
     "execution_count": 32,
     "metadata": {},
     "output_type": "execute_result"
    }
   ],
   "source": [
    "# Check counts by type one more time\n",
    "pd.Series([c.type for c in mv_cands]).value_counts()"
   ]
  },
  {
   "cell_type": "code",
   "execution_count": 33,
   "metadata": {},
   "outputs": [
    {
     "data": {
      "text/plain": [
       "4"
      ]
     },
     "execution_count": 33,
     "metadata": {},
     "output_type": "execute_result"
    }
   ],
   "source": [
    "SPLIT_VAL"
   ]
  },
  {
   "cell_type": "code",
   "execution_count": 34,
   "metadata": {},
   "outputs": [],
   "source": [
    "# Move some candidates to training split (from 3 -> 0)\n",
    "for c in mv_cands:\n",
    "    c.split = SPLIT_VAL\n",
    "session.commit()"
   ]
  },
  {
   "cell_type": "code",
   "execution_count": 37,
   "metadata": {},
   "outputs": [
    {
     "data": {
      "text/plain": [
       "infer         305916\n",
       "train         120166\n",
       "dev             1756\n",
       "validation       312\n",
       "test             300\n",
       "dtype: int64"
      ]
     },
     "execution_count": 37,
     "metadata": {},
     "output_type": "execute_result"
    }
   ],
   "source": [
    "# Pull new candidate distribution\n",
    "from snorkel.models import Candidate\n",
    "pd.Series([SPLIT_MAP[v[0]] for v in session.query(Candidate.split).all()]).value_counts()"
   ]
  }
 ],
 "metadata": {
  "kernelspec": {
   "display_name": "Python 3",
   "language": "python",
   "name": "python3"
  },
  "language_info": {
   "codemirror_mode": {
    "name": "ipython",
    "version": 3
   },
   "file_extension": ".py",
   "mimetype": "text/x-python",
   "name": "python",
   "nbconvert_exporter": "python",
   "pygments_lexer": "ipython3",
   "version": "3.6.8"
  }
 },
 "nbformat": 4,
 "nbformat_minor": 2
}
