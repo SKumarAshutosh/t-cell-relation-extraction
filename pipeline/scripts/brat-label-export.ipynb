{
 "cells": [
  {
   "cell_type": "markdown",
   "metadata": {},
   "source": [
    "## BRAT Label Export\n",
    "\n",
    "Convert BRAT annotations to csv. In this case, BRAT annotations apply only to the dev partition."
   ]
  },
  {
   "cell_type": "code",
   "execution_count": 6,
   "metadata": {},
   "outputs": [],
   "source": [
    "import os\n",
    "import os.path as osp\n",
    "import pandas as pd\n",
    "import numpy as np\n",
    "from bratreader.repomodel import RepoModel\n",
    "from tcre.env import *\n",
    "from tcre.supervision import ENT_TYP_TF, ENT_TYP_CK, ENT_TYP_CT"
   ]
  },
  {
   "cell_type": "code",
   "execution_count": 2,
   "metadata": {},
   "outputs": [
    {
     "data": {
      "text/plain": [
       "'/lab/repos/t-cell-relation-extraction/data/brat/collection_02'"
      ]
     },
     "execution_count": 2,
     "metadata": {},
     "output_type": "execute_result"
    }
   ],
   "source": [
    "collection_dir = osp.join(REPO_DATA_DIR, 'brat', 'collection_02')\n",
    "collection_dir"
   ]
  },
  {
   "cell_type": "code",
   "execution_count": 3,
   "metadata": {},
   "outputs": [],
   "source": [
    "repo_model = RepoModel(collection_dir)"
   ]
  },
  {
   "cell_type": "code",
   "execution_count": 4,
   "metadata": {},
   "outputs": [
    {
     "data": {
      "text/plain": [
       "89"
      ]
     },
     "execution_count": 4,
     "metadata": {},
     "output_type": "execute_result"
    }
   ],
   "source": [
    "len(repo_model.documents)"
   ]
  },
  {
   "cell_type": "code",
   "execution_count": 7,
   "metadata": {},
   "outputs": [
    {
     "data": {
      "text/html": [
       "<div>\n",
       "<style scoped>\n",
       "    .dataframe tbody tr th:only-of-type {\n",
       "        vertical-align: middle;\n",
       "    }\n",
       "\n",
       "    .dataframe tbody tr th {\n",
       "        vertical-align: top;\n",
       "    }\n",
       "\n",
       "    .dataframe thead th {\n",
       "        text-align: right;\n",
       "    }\n",
       "</style>\n",
       "<table border=\"1\" class=\"dataframe\">\n",
       "  <thead>\n",
       "    <tr style=\"text-align: right;\">\n",
       "      <th></th>\n",
       "      <th>e1_end_chr</th>\n",
       "      <th>e1_start_chr</th>\n",
       "      <th>e1_text</th>\n",
       "      <th>e1_typ</th>\n",
       "      <th>e2_end_chr</th>\n",
       "      <th>e2_start_chr</th>\n",
       "      <th>e2_text</th>\n",
       "      <th>e2_typ</th>\n",
       "      <th>id</th>\n",
       "      <th>rel_typ</th>\n",
       "    </tr>\n",
       "  </thead>\n",
       "  <tbody>\n",
       "    <tr>\n",
       "      <th>0</th>\n",
       "      <td>1343</td>\n",
       "      <td>1338</td>\n",
       "      <td>IL-17</td>\n",
       "      <td>CYTOKINE</td>\n",
       "      <td>1296</td>\n",
       "      <td>1291</td>\n",
       "      <td>Vγ4 T</td>\n",
       "      <td>IMMUNE_CELL_TYPE</td>\n",
       "      <td>PMC4451961</td>\n",
       "      <td>Secretion</td>\n",
       "    </tr>\n",
       "    <tr>\n",
       "      <th>1</th>\n",
       "      <td>1465</td>\n",
       "      <td>1460</td>\n",
       "      <td>IL-17</td>\n",
       "      <td>CYTOKINE</td>\n",
       "      <td>1296</td>\n",
       "      <td>1291</td>\n",
       "      <td>Vγ4 T</td>\n",
       "      <td>IMMUNE_CELL_TYPE</td>\n",
       "      <td>PMC4451961</td>\n",
       "      <td>Secretion</td>\n",
       "    </tr>\n",
       "    <tr>\n",
       "      <th>2</th>\n",
       "      <td>1908</td>\n",
       "      <td>1903</td>\n",
       "      <td>IL-17</td>\n",
       "      <td>CYTOKINE</td>\n",
       "      <td>1855</td>\n",
       "      <td>1850</td>\n",
       "      <td>Vγ4 T</td>\n",
       "      <td>IMMUNE_CELL_TYPE</td>\n",
       "      <td>PMC4451961</td>\n",
       "      <td>Secretion</td>\n",
       "    </tr>\n",
       "    <tr>\n",
       "      <th>3</th>\n",
       "      <td>3737</td>\n",
       "      <td>3730</td>\n",
       "      <td>(IFN)-γ</td>\n",
       "      <td>CYTOKINE</td>\n",
       "      <td>3829</td>\n",
       "      <td>3825</td>\n",
       "      <td>γδ T</td>\n",
       "      <td>IMMUNE_CELL_TYPE</td>\n",
       "      <td>PMC4451961</td>\n",
       "      <td>Secretion</td>\n",
       "    </tr>\n",
       "    <tr>\n",
       "      <th>4</th>\n",
       "      <td>3761</td>\n",
       "      <td>3754</td>\n",
       "      <td>(IL)-17</td>\n",
       "      <td>CYTOKINE</td>\n",
       "      <td>3829</td>\n",
       "      <td>3825</td>\n",
       "      <td>γδ T</td>\n",
       "      <td>IMMUNE_CELL_TYPE</td>\n",
       "      <td>PMC4451961</td>\n",
       "      <td>Secretion</td>\n",
       "    </tr>\n",
       "  </tbody>\n",
       "</table>\n",
       "</div>"
      ],
      "text/plain": [
       "   e1_end_chr  e1_start_chr  e1_text    e1_typ  e2_end_chr  e2_start_chr  \\\n",
       "0        1343          1338    IL-17  CYTOKINE        1296          1291   \n",
       "1        1465          1460    IL-17  CYTOKINE        1296          1291   \n",
       "2        1908          1903    IL-17  CYTOKINE        1855          1850   \n",
       "3        3737          3730  (IFN)-γ  CYTOKINE        3829          3825   \n",
       "4        3761          3754  (IL)-17  CYTOKINE        3829          3825   \n",
       "\n",
       "  e2_text            e2_typ          id    rel_typ  \n",
       "0   Vγ4 T  IMMUNE_CELL_TYPE  PMC4451961  Secretion  \n",
       "1   Vγ4 T  IMMUNE_CELL_TYPE  PMC4451961  Secretion  \n",
       "2   Vγ4 T  IMMUNE_CELL_TYPE  PMC4451961  Secretion  \n",
       "3    γδ T  IMMUNE_CELL_TYPE  PMC4451961  Secretion  \n",
       "4    γδ T  IMMUNE_CELL_TYPE  PMC4451961  Secretion  "
      ]
     },
     "execution_count": 7,
     "metadata": {},
     "output_type": "execute_result"
    }
   ],
   "source": [
    "def get_relations(doc):\n",
    "    relations = []\n",
    "    \n",
    "    # Map from entity type label used in annotation to label used within snorkel\n",
    "    ent_typ_map = {\n",
    "        'TF': ENT_TYP_TF,\n",
    "        'CELL_TYPE': ENT_TYP_CT,\n",
    "        'CYTOKINE': ENT_TYP_CK\n",
    "    }\n",
    "    \n",
    "    for a2 in doc.annotations:\n",
    "        # Links only exist as INCOMING links meaning that a2 is the target of relations\n",
    "        # and a1 will be the source\n",
    "        if a2.links:\n",
    "            for relation_type, annots in a2.links.items():\n",
    "                for a1 in annots:\n",
    "                    assert len(a1.labels) == len(a2.labels) == 1\n",
    "                    a2_typ = ent_typ_map[list(a2.labels.keys())[0]]\n",
    "                    \n",
    "                    # For consistency with snorkel convention, ensure that the second\n",
    "                    # value in relation entry is the cell type and all others are first\n",
    "                    e1, e2 = a1, a2\n",
    "                    if a2_typ != ENT_TYP_CT:\n",
    "                        e1, e2 = a2, a1\n",
    "                    \n",
    "                    relations.append(dict(\n",
    "                        id=doc.key,\n",
    "                        rel_typ=relation_type, \n",
    "                        e1_typ=ent_typ_map[list(e1.labels.keys())[0]], \n",
    "                        e1_start_chr=e1.realspan[0], \n",
    "                        e1_end_chr=e1.realspan[1], \n",
    "                        e1_text=e1.repr,\n",
    "                        e2_typ=ent_typ_map[list(e2.labels.keys())[0]], \n",
    "                        e2_start_chr=e2.realspan[0], \n",
    "                        e2_end_chr=e2.realspan[1], \n",
    "                        e2_text=e2.repr\n",
    "                    ))\n",
    "    return relations\n",
    "df = pd.DataFrame([r for k, doc in repo_model.documents.items() for r in get_relations(doc)])\n",
    "df = df.drop_duplicates()\n",
    "df.head()"
   ]
  },
  {
   "cell_type": "code",
   "execution_count": 8,
   "metadata": {},
   "outputs": [
    {
     "data": {
      "text/plain": [
       "e1_typ                e2_typ                rel_typ               \n",
       "CYTOKINE              CYTOKINE              CKCKEnhancement            31\n",
       "                                            CKCKEnhancementNeg         11\n",
       "                      IMMUNE_CELL_TYPE      CKProliferation             5\n",
       "                                            Induction                 145\n",
       "                                            InductionNeg                3\n",
       "                                            InductionNeutral           17\n",
       "                                            Secretion                 152\n",
       "                                            SecretionNeg                3\n",
       "                      TRANSCRIPTION_FACTOR  TFCKEnhancement            15\n",
       "                                            TFCKEnhancementNeg         13\n",
       "TRANSCRIPTION_FACTOR  CYTOKINE              CKTFEnhancement            20\n",
       "                                            CKTFEnhancementNeg          2\n",
       "                      IMMUNE_CELL_TYPE      Differentiation            95\n",
       "                                            DifferentiationNeg         30\n",
       "                                            DifferentiationNeutral      3\n",
       "                                            TFExpression               36\n",
       "                                            TFExpressionNeg             1\n",
       "                                            TFProliferation             5\n",
       "dtype: int64"
      ]
     },
     "execution_count": 8,
     "metadata": {},
     "output_type": "execute_result"
    }
   ],
   "source": [
    "df.groupby(['e1_typ', 'e2_typ', 'rel_typ']).size()"
   ]
  },
  {
   "cell_type": "code",
   "execution_count": 9,
   "metadata": {},
   "outputs": [
    {
     "data": {
      "text/plain": [
       "e1_typ                e2_typ            rel_typ        \n",
       "CYTOKINE              IMMUNE_CELL_TYPE  Induction          145\n",
       "                                        Secretion          152\n",
       "TRANSCRIPTION_FACTOR  IMMUNE_CELL_TYPE  Differentiation     95\n",
       "dtype: int64"
      ]
     },
     "execution_count": 9,
     "metadata": {},
     "output_type": "execute_result"
    }
   ],
   "source": [
    "dff = df[df['rel_typ'].isin(['Induction', 'Secretion', 'Differentiation'])]\n",
    "dff.groupby(['e1_typ', 'e2_typ', 'rel_typ']).size()"
   ]
  },
  {
   "cell_type": "code",
   "execution_count": 12,
   "metadata": {},
   "outputs": [
    {
     "data": {
      "text/plain": [
       "'/lab/repos/t-cell-relation-extraction/data/annotation/brat_export.csv'"
      ]
     },
     "execution_count": 12,
     "metadata": {},
     "output_type": "execute_result"
    }
   ],
   "source": [
    "# Note: export has exclusive char range\n",
    "path = osp.join(REPO_DATA_DIR, 'annotation',  'brat_export.csv')\n",
    "dff.to_csv(path, index=False)\n",
    "path"
   ]
  }
 ],
 "metadata": {
  "kernelspec": {
   "display_name": "Python 3",
   "language": "python",
   "name": "python3"
  },
  "language_info": {
   "codemirror_mode": {
    "name": "ipython",
    "version": 3
   },
   "file_extension": ".py",
   "mimetype": "text/x-python",
   "name": "python",
   "nbconvert_exporter": "python",
   "pygments_lexer": "ipython3",
   "version": "3.6.8"
  }
 },
 "nbformat": 4,
 "nbformat_minor": 4
}
