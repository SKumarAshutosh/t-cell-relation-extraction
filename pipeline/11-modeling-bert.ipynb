{
 "cells": [
  {
   "cell_type": "code",
   "execution_count": 1,
   "metadata": {},
   "outputs": [],
   "source": [
    "%matplotlib inline\n",
    "import pandas as pd\n",
    "import numpy as np\n",
    "import itertools\n",
    "import tqdm\n",
    "import os.path as osp\n",
    "from snorkel import SnorkelSession\n",
    "from tcre.env import *\n",
    "from tcre import supervision\n",
    "from tcre.exec.v1 import bert\n",
    "session = SnorkelSession()\n",
    "classes = supervision.get_candidate_classes()"
   ]
  },
  {
   "cell_type": "code",
   "execution_count": 2,
   "metadata": {},
   "outputs": [
    {
     "data": {
      "text/plain": [
       "'/lab/data/results/modeling-bert/run1'"
      ]
     },
     "execution_count": 2,
     "metadata": {},
     "output_type": "execute_result"
    }
   ],
   "source": [
    "output_dir = osp.join(RESULTS_DATA_DIR, 'modeling-bert', 'run1')\n",
    "output_dir"
   ]
  },
  {
   "cell_type": "code",
   "execution_count": 3,
   "metadata": {},
   "outputs": [
    {
     "data": {
      "text/plain": [
       "'/lab/data/scibert/scibert_scivocab_uncased'"
      ]
     },
     "execution_count": 3,
     "metadata": {},
     "output_type": "execute_result"
    }
   ],
   "source": [
    "bert.DEFAULT_BERT_PATH"
   ]
  },
  {
   "cell_type": "code",
   "execution_count": 4,
   "metadata": {},
   "outputs": [
    {
     "data": {
      "text/plain": [
       "[{'learning_rate': 5e-05,\n",
       "  'num_train_epochs': 2,\n",
       "  'per_gpu_train_batch_size': 16,\n",
       "  'max_seq_length': 128,\n",
       "  'bert_path': 'bert-base-uncased'},\n",
       " {'learning_rate': 5e-05,\n",
       "  'num_train_epochs': 2,\n",
       "  'per_gpu_train_batch_size': 16,\n",
       "  'max_seq_length': 128,\n",
       "  'bert_path': '/lab/data/scibert/scibert_scivocab_uncased'},\n",
       " {'learning_rate': 5e-05,\n",
       "  'num_train_epochs': 2,\n",
       "  'per_gpu_train_batch_size': 32,\n",
       "  'max_seq_length': 128,\n",
       "  'bert_path': 'bert-base-uncased'},\n",
       " {'learning_rate': 5e-05,\n",
       "  'num_train_epochs': 2,\n",
       "  'per_gpu_train_batch_size': 32,\n",
       "  'max_seq_length': 128,\n",
       "  'bert_path': '/lab/data/scibert/scibert_scivocab_uncased'},\n",
       " {'learning_rate': 5e-05,\n",
       "  'num_train_epochs': 4,\n",
       "  'per_gpu_train_batch_size': 16,\n",
       "  'max_seq_length': 128,\n",
       "  'bert_path': 'bert-base-uncased'}]"
      ]
     },
     "execution_count": 4,
     "metadata": {},
     "output_type": "execute_result"
    }
   ],
   "source": [
    "# Create grid subset based on https://mccormickml.com/2019/07/22/BERT-fine-tuning/\n",
    "keys = ['learning_rate', 'num_train_epochs', 'per_gpu_train_batch_size', 'max_seq_length', 'bert_path']\n",
    "configs = list(itertools.product(\n",
    "    [5e-5, 3e-5, 2e-5],\n",
    "    [2, 4, 6],\n",
    "    [16, 32],\n",
    "    [128],\n",
    "    ['bert-base-uncased', bert.DEFAULT_BERT_PATH]\n",
    "))\n",
    "configs = [dict(zip(keys, c)) for c in configs]\n",
    "configs[:5]"
   ]
  },
  {
   "cell_type": "code",
   "execution_count": 5,
   "metadata": {},
   "outputs": [
    {
     "name": "stderr",
     "output_type": "stream",
     "text": [
      "  0%|          | 0/36 [00:00<?, ?it/s]"
     ]
    },
    {
     "name": "stdout",
     "output_type": "stream",
     "text": [
      "Running modeling for class \"inducing_cytokine\"\n"
     ]
    },
    {
     "name": "stderr",
     "output_type": "stream",
     "text": [
      "100%|██████████| 36/36 [47:03<00:00, 79.39s/it]  \n",
      "  0%|          | 0/36 [00:00<?, ?it/s]"
     ]
    },
    {
     "name": "stdout",
     "output_type": "stream",
     "text": [
      "Running modeling for class \"secreted_cytokine\"\n"
     ]
    },
    {
     "name": "stderr",
     "output_type": "stream",
     "text": [
      "100%|██████████| 36/36 [46:00<00:00, 80.00s/it]\n",
      "  0%|          | 0/36 [00:00<?, ?it/s]"
     ]
    },
    {
     "name": "stdout",
     "output_type": "stream",
     "text": [
      "Running modeling for class \"inducing_transcription_factor\"\n"
     ]
    },
    {
     "name": "stderr",
     "output_type": "stream",
     "text": [
      "100%|██████████| 36/36 [43:39<00:00, 74.92s/it]\n"
     ]
    },
    {
     "data": {
      "text/html": [
       "<div>\n",
       "<style scoped>\n",
       "    .dataframe tbody tr th:only-of-type {\n",
       "        vertical-align: middle;\n",
       "    }\n",
       "\n",
       "    .dataframe tbody tr th {\n",
       "        vertical-align: top;\n",
       "    }\n",
       "\n",
       "    .dataframe thead th {\n",
       "        text-align: right;\n",
       "    }\n",
       "</style>\n",
       "<table border=\"1\" class=\"dataframe\">\n",
       "  <thead>\n",
       "    <tr style=\"text-align: right;\">\n",
       "      <th></th>\n",
       "      <th>metric</th>\n",
       "      <th>value</th>\n",
       "      <th>split</th>\n",
       "      <th>config_index</th>\n",
       "      <th>model</th>\n",
       "      <th>task</th>\n",
       "    </tr>\n",
       "  </thead>\n",
       "  <tbody>\n",
       "    <tr>\n",
       "      <th>0</th>\n",
       "      <td>acc_and_f1</td>\n",
       "      <td>0.756539</td>\n",
       "      <td>train</td>\n",
       "      <td>0</td>\n",
       "      <td>bert-base-uncased</td>\n",
       "      <td>inducing_cytokine</td>\n",
       "    </tr>\n",
       "    <tr>\n",
       "      <th>1</th>\n",
       "      <td>accuracy</td>\n",
       "      <td>0.737931</td>\n",
       "      <td>train</td>\n",
       "      <td>0</td>\n",
       "      <td>bert-base-uncased</td>\n",
       "      <td>inducing_cytokine</td>\n",
       "    </tr>\n",
       "    <tr>\n",
       "      <th>2</th>\n",
       "      <td>f1</td>\n",
       "      <td>0.775148</td>\n",
       "      <td>train</td>\n",
       "      <td>0</td>\n",
       "      <td>bert-base-uncased</td>\n",
       "      <td>inducing_cytokine</td>\n",
       "    </tr>\n",
       "    <tr>\n",
       "      <th>3</th>\n",
       "      <td>n</td>\n",
       "      <td>290.000000</td>\n",
       "      <td>train</td>\n",
       "      <td>0</td>\n",
       "      <td>bert-base-uncased</td>\n",
       "      <td>inducing_cytokine</td>\n",
       "    </tr>\n",
       "    <tr>\n",
       "      <th>4</th>\n",
       "      <td>precision</td>\n",
       "      <td>0.678756</td>\n",
       "      <td>train</td>\n",
       "      <td>0</td>\n",
       "      <td>bert-base-uncased</td>\n",
       "      <td>inducing_cytokine</td>\n",
       "    </tr>\n",
       "  </tbody>\n",
       "</table>\n",
       "</div>"
      ],
      "text/plain": [
       "       metric       value  split  config_index              model  \\\n",
       "0  acc_and_f1    0.756539  train             0  bert-base-uncased   \n",
       "1    accuracy    0.737931  train             0  bert-base-uncased   \n",
       "2          f1    0.775148  train             0  bert-base-uncased   \n",
       "3           n  290.000000  train             0  bert-base-uncased   \n",
       "4   precision    0.678756  train             0  bert-base-uncased   \n",
       "\n",
       "                task  \n",
       "0  inducing_cytokine  \n",
       "1  inducing_cytokine  \n",
       "2  inducing_cytokine  \n",
       "3  inducing_cytokine  \n",
       "4  inducing_cytokine  "
      ]
     },
     "execution_count": 5,
     "metadata": {},
     "output_type": "execute_result"
    }
   ],
   "source": [
    "def get_model_name(bert_path):\n",
    "    if bert_path == 'bert-base-uncased':\n",
    "        return 'bert-base-uncased'\n",
    "    if bert_path == bert.DEFAULT_BERT_PATH:\n",
    "        return 'bert-scibert-uncased'\n",
    "    raise ValueError('BERT path \"{}\" not valid'.format(bert_path))\n",
    "\n",
    "def get_scores_for_class(candidate_class):\n",
    "    res = []\n",
    "    data_dir = osp.join(output_dir, candidate_class.field)\n",
    "    for i, config in tqdm.tqdm(list(enumerate(configs))):\n",
    "        bert_path = config['bert_path']\n",
    "        cfg = {k: v for k, v in config.items() if k != 'bert_path'}\n",
    "        scores = bert.run_transformer_modeling(\n",
    "            session, candidate_class, config=cfg, bert_path=bert_path,\n",
    "            data_dir=data_dir, print_commands=False, clear=True\n",
    "        )\n",
    "        res.append(scores.assign(config_index=i, model=get_model_name(bert_path)))\n",
    "    return pd.concat(res)\n",
    "\n",
    "def get_scores():\n",
    "    res = []\n",
    "    for c in classes:\n",
    "        candidate_class = classes[c]\n",
    "        print(f'Running modeling for class \"{candidate_class.field}\"')\n",
    "        scores = get_scores_for_class(candidate_class)\n",
    "        res.append(scores.assign(task=candidate_class.field))\n",
    "    return pd.concat(res)\n",
    "\n",
    "df = get_scores()\n",
    "df.head()"
   ]
  },
  {
   "cell_type": "code",
   "execution_count": 6,
   "metadata": {},
   "outputs": [
    {
     "data": {
      "text/plain": [
       "task\n",
       "inducing_cytokine                0.781250\n",
       "inducing_transcription_factor    0.750000\n",
       "secreted_cytokine                0.718563\n",
       "Name: value, dtype: float64"
      ]
     },
     "execution_count": 6,
     "metadata": {},
     "output_type": "execute_result"
    }
   ],
   "source": [
    "(\n",
    "    df\n",
    "    .pipe(lambda df: df[df['metric'] == 'f1'])\n",
    "    .pipe(lambda df: df[df['split'] == 'test'])\n",
    "    .pipe(lambda df: df[df['model'] == 'bert-scibert-uncased'])\n",
    "    .groupby(['task'])['value'].max()\n",
    ")"
   ]
  },
  {
   "cell_type": "code",
   "execution_count": 7,
   "metadata": {},
   "outputs": [
    {
     "data": {
      "text/plain": [
       "task                           model               \n",
       "inducing_cytokine              bert-base-uncased       28\n",
       "                               bert-scibert-uncased    23\n",
       "inducing_transcription_factor  bert-base-uncased       34\n",
       "                               bert-scibert-uncased     9\n",
       "secreted_cytokine              bert-base-uncased        6\n",
       "                               bert-scibert-uncased    19\n",
       "dtype: int64"
      ]
     },
     "execution_count": 7,
     "metadata": {},
     "output_type": "execute_result"
    }
   ],
   "source": [
    "top_configs = (\n",
    "    df\n",
    "    .pipe(lambda df: df[df['metric'] == 'f1'])\n",
    "    .pipe(lambda df: df[df['split'] == 'val'])\n",
    "    .groupby(['task', 'model'])\n",
    "    .apply(lambda g: g.sort_values('value').tail(1)['config_index'].iloc[0])\n",
    ")\n",
    "top_configs"
   ]
  },
  {
   "cell_type": "code",
   "execution_count": 8,
   "metadata": {},
   "outputs": [
    {
     "data": {
      "text/html": [
       "<div>\n",
       "<style scoped>\n",
       "    .dataframe tbody tr th:only-of-type {\n",
       "        vertical-align: middle;\n",
       "    }\n",
       "\n",
       "    .dataframe tbody tr th {\n",
       "        vertical-align: top;\n",
       "    }\n",
       "\n",
       "    .dataframe thead th {\n",
       "        text-align: right;\n",
       "    }\n",
       "</style>\n",
       "<table border=\"1\" class=\"dataframe\">\n",
       "  <thead>\n",
       "    <tr style=\"text-align: right;\">\n",
       "      <th></th>\n",
       "      <th>task</th>\n",
       "      <th>model</th>\n",
       "      <th>metric</th>\n",
       "      <th>value</th>\n",
       "      <th>split</th>\n",
       "    </tr>\n",
       "  </thead>\n",
       "  <tbody>\n",
       "    <tr>\n",
       "      <th>0</th>\n",
       "      <td>inducing_cytokine</td>\n",
       "      <td>bert-base-uncased</td>\n",
       "      <td>acc_and_f1</td>\n",
       "      <td>0.841408</td>\n",
       "      <td>train</td>\n",
       "    </tr>\n",
       "    <tr>\n",
       "      <th>1</th>\n",
       "      <td>inducing_cytokine</td>\n",
       "      <td>bert-base-uncased</td>\n",
       "      <td>accuracy</td>\n",
       "      <td>0.837931</td>\n",
       "      <td>train</td>\n",
       "    </tr>\n",
       "    <tr>\n",
       "      <th>2</th>\n",
       "      <td>inducing_cytokine</td>\n",
       "      <td>bert-base-uncased</td>\n",
       "      <td>f1</td>\n",
       "      <td>0.844884</td>\n",
       "      <td>train</td>\n",
       "    </tr>\n",
       "    <tr>\n",
       "      <th>3</th>\n",
       "      <td>inducing_cytokine</td>\n",
       "      <td>bert-base-uncased</td>\n",
       "      <td>n</td>\n",
       "      <td>290.000000</td>\n",
       "      <td>train</td>\n",
       "    </tr>\n",
       "    <tr>\n",
       "      <th>4</th>\n",
       "      <td>inducing_cytokine</td>\n",
       "      <td>bert-base-uncased</td>\n",
       "      <td>precision</td>\n",
       "      <td>0.810127</td>\n",
       "      <td>train</td>\n",
       "    </tr>\n",
       "  </tbody>\n",
       "</table>\n",
       "</div>"
      ],
      "text/plain": [
       "                task              model      metric       value  split\n",
       "0  inducing_cytokine  bert-base-uncased  acc_and_f1    0.841408  train\n",
       "1  inducing_cytokine  bert-base-uncased    accuracy    0.837931  train\n",
       "2  inducing_cytokine  bert-base-uncased          f1    0.844884  train\n",
       "3  inducing_cytokine  bert-base-uncased           n  290.000000  train\n",
       "4  inducing_cytokine  bert-base-uncased   precision    0.810127  train"
      ]
     },
     "execution_count": 8,
     "metadata": {},
     "output_type": "execute_result"
    }
   ],
   "source": [
    "df_top = df.set_index(['task', 'model', 'config_index']).loc[list(map(tuple, top_configs.reset_index().values))].reset_index()\n",
    "df_top = df_top.drop('config_index', axis=1)\n",
    "assert (df_top.groupby(['task', 'metric', 'model', 'split']).size() == 1).all()\n",
    "df_top.head()"
   ]
  },
  {
   "cell_type": "code",
   "execution_count": 9,
   "metadata": {},
   "outputs": [
    {
     "data": {
      "text/html": [
       "<div>\n",
       "<style scoped>\n",
       "    .dataframe tbody tr th:only-of-type {\n",
       "        vertical-align: middle;\n",
       "    }\n",
       "\n",
       "    .dataframe tbody tr th {\n",
       "        vertical-align: top;\n",
       "    }\n",
       "\n",
       "    .dataframe thead th {\n",
       "        text-align: right;\n",
       "    }\n",
       "</style>\n",
       "<table border=\"1\" class=\"dataframe\">\n",
       "  <thead>\n",
       "    <tr style=\"text-align: right;\">\n",
       "      <th></th>\n",
       "      <th>task</th>\n",
       "      <th>model</th>\n",
       "      <th>metric</th>\n",
       "      <th>value</th>\n",
       "      <th>split</th>\n",
       "    </tr>\n",
       "  </thead>\n",
       "  <tbody>\n",
       "    <tr>\n",
       "      <th>2</th>\n",
       "      <td>inducing_cytokine</td>\n",
       "      <td>bert-base-uncased</td>\n",
       "      <td>f1</td>\n",
       "      <td>0.844884</td>\n",
       "      <td>train</td>\n",
       "    </tr>\n",
       "    <tr>\n",
       "      <th>9</th>\n",
       "      <td>inducing_cytokine</td>\n",
       "      <td>bert-base-uncased</td>\n",
       "      <td>f1</td>\n",
       "      <td>0.680851</td>\n",
       "      <td>val</td>\n",
       "    </tr>\n",
       "    <tr>\n",
       "      <th>16</th>\n",
       "      <td>inducing_cytokine</td>\n",
       "      <td>bert-base-uncased</td>\n",
       "      <td>f1</td>\n",
       "      <td>0.610169</td>\n",
       "      <td>test</td>\n",
       "    </tr>\n",
       "    <tr>\n",
       "      <th>23</th>\n",
       "      <td>inducing_cytokine</td>\n",
       "      <td>bert-scibert-uncased</td>\n",
       "      <td>f1</td>\n",
       "      <td>0.882155</td>\n",
       "      <td>train</td>\n",
       "    </tr>\n",
       "    <tr>\n",
       "      <th>30</th>\n",
       "      <td>inducing_cytokine</td>\n",
       "      <td>bert-scibert-uncased</td>\n",
       "      <td>f1</td>\n",
       "      <td>0.826087</td>\n",
       "      <td>val</td>\n",
       "    </tr>\n",
       "    <tr>\n",
       "      <th>37</th>\n",
       "      <td>inducing_cytokine</td>\n",
       "      <td>bert-scibert-uncased</td>\n",
       "      <td>f1</td>\n",
       "      <td>0.678571</td>\n",
       "      <td>test</td>\n",
       "    </tr>\n",
       "    <tr>\n",
       "      <th>44</th>\n",
       "      <td>inducing_transcription_factor</td>\n",
       "      <td>bert-base-uncased</td>\n",
       "      <td>f1</td>\n",
       "      <td>0.824645</td>\n",
       "      <td>train</td>\n",
       "    </tr>\n",
       "    <tr>\n",
       "      <th>51</th>\n",
       "      <td>inducing_transcription_factor</td>\n",
       "      <td>bert-base-uncased</td>\n",
       "      <td>f1</td>\n",
       "      <td>0.787234</td>\n",
       "      <td>val</td>\n",
       "    </tr>\n",
       "    <tr>\n",
       "      <th>58</th>\n",
       "      <td>inducing_transcription_factor</td>\n",
       "      <td>bert-base-uncased</td>\n",
       "      <td>f1</td>\n",
       "      <td>0.710744</td>\n",
       "      <td>test</td>\n",
       "    </tr>\n",
       "    <tr>\n",
       "      <th>65</th>\n",
       "      <td>inducing_transcription_factor</td>\n",
       "      <td>bert-scibert-uncased</td>\n",
       "      <td>f1</td>\n",
       "      <td>0.875576</td>\n",
       "      <td>train</td>\n",
       "    </tr>\n",
       "    <tr>\n",
       "      <th>72</th>\n",
       "      <td>inducing_transcription_factor</td>\n",
       "      <td>bert-scibert-uncased</td>\n",
       "      <td>f1</td>\n",
       "      <td>0.792453</td>\n",
       "      <td>val</td>\n",
       "    </tr>\n",
       "    <tr>\n",
       "      <th>79</th>\n",
       "      <td>inducing_transcription_factor</td>\n",
       "      <td>bert-scibert-uncased</td>\n",
       "      <td>f1</td>\n",
       "      <td>0.750000</td>\n",
       "      <td>test</td>\n",
       "    </tr>\n",
       "    <tr>\n",
       "      <th>86</th>\n",
       "      <td>secreted_cytokine</td>\n",
       "      <td>bert-base-uncased</td>\n",
       "      <td>f1</td>\n",
       "      <td>0.894118</td>\n",
       "      <td>train</td>\n",
       "    </tr>\n",
       "    <tr>\n",
       "      <th>93</th>\n",
       "      <td>secreted_cytokine</td>\n",
       "      <td>bert-base-uncased</td>\n",
       "      <td>f1</td>\n",
       "      <td>0.679245</td>\n",
       "      <td>val</td>\n",
       "    </tr>\n",
       "    <tr>\n",
       "      <th>100</th>\n",
       "      <td>secreted_cytokine</td>\n",
       "      <td>bert-base-uncased</td>\n",
       "      <td>f1</td>\n",
       "      <td>0.586466</td>\n",
       "      <td>test</td>\n",
       "    </tr>\n",
       "    <tr>\n",
       "      <th>107</th>\n",
       "      <td>secreted_cytokine</td>\n",
       "      <td>bert-scibert-uncased</td>\n",
       "      <td>f1</td>\n",
       "      <td>0.786765</td>\n",
       "      <td>train</td>\n",
       "    </tr>\n",
       "    <tr>\n",
       "      <th>114</th>\n",
       "      <td>secreted_cytokine</td>\n",
       "      <td>bert-scibert-uncased</td>\n",
       "      <td>f1</td>\n",
       "      <td>0.715596</td>\n",
       "      <td>val</td>\n",
       "    </tr>\n",
       "    <tr>\n",
       "      <th>121</th>\n",
       "      <td>secreted_cytokine</td>\n",
       "      <td>bert-scibert-uncased</td>\n",
       "      <td>f1</td>\n",
       "      <td>0.647887</td>\n",
       "      <td>test</td>\n",
       "    </tr>\n",
       "  </tbody>\n",
       "</table>\n",
       "</div>"
      ],
      "text/plain": [
       "                              task                 model metric     value  \\\n",
       "2                inducing_cytokine     bert-base-uncased     f1  0.844884   \n",
       "9                inducing_cytokine     bert-base-uncased     f1  0.680851   \n",
       "16               inducing_cytokine     bert-base-uncased     f1  0.610169   \n",
       "23               inducing_cytokine  bert-scibert-uncased     f1  0.882155   \n",
       "30               inducing_cytokine  bert-scibert-uncased     f1  0.826087   \n",
       "37               inducing_cytokine  bert-scibert-uncased     f1  0.678571   \n",
       "44   inducing_transcription_factor     bert-base-uncased     f1  0.824645   \n",
       "51   inducing_transcription_factor     bert-base-uncased     f1  0.787234   \n",
       "58   inducing_transcription_factor     bert-base-uncased     f1  0.710744   \n",
       "65   inducing_transcription_factor  bert-scibert-uncased     f1  0.875576   \n",
       "72   inducing_transcription_factor  bert-scibert-uncased     f1  0.792453   \n",
       "79   inducing_transcription_factor  bert-scibert-uncased     f1  0.750000   \n",
       "86               secreted_cytokine     bert-base-uncased     f1  0.894118   \n",
       "93               secreted_cytokine     bert-base-uncased     f1  0.679245   \n",
       "100              secreted_cytokine     bert-base-uncased     f1  0.586466   \n",
       "107              secreted_cytokine  bert-scibert-uncased     f1  0.786765   \n",
       "114              secreted_cytokine  bert-scibert-uncased     f1  0.715596   \n",
       "121              secreted_cytokine  bert-scibert-uncased     f1  0.647887   \n",
       "\n",
       "     split  \n",
       "2    train  \n",
       "9      val  \n",
       "16    test  \n",
       "23   train  \n",
       "30     val  \n",
       "37    test  \n",
       "44   train  \n",
       "51     val  \n",
       "58    test  \n",
       "65   train  \n",
       "72     val  \n",
       "79    test  \n",
       "86   train  \n",
       "93     val  \n",
       "100   test  \n",
       "107  train  \n",
       "114    val  \n",
       "121   test  "
      ]
     },
     "execution_count": 9,
     "metadata": {},
     "output_type": "execute_result"
    }
   ],
   "source": [
    "df_top[df_top['metric'] == 'f1']"
   ]
  },
  {
   "cell_type": "markdown",
   "metadata": {},
   "source": [
    "## Export"
   ]
  },
  {
   "cell_type": "code",
   "execution_count": 10,
   "metadata": {},
   "outputs": [
    {
     "name": "stdout",
     "output_type": "stream",
     "text": [
      "<class 'pandas.core.frame.DataFrame'>\n",
      "RangeIndex: 126 entries, 0 to 125\n",
      "Data columns (total 5 columns):\n",
      "task      126 non-null object\n",
      "model     126 non-null object\n",
      "metric    126 non-null object\n",
      "value     126 non-null float64\n",
      "split     126 non-null object\n",
      "dtypes: float64(1), object(4)\n",
      "memory usage: 5.0+ KB\n"
     ]
    }
   ],
   "source": [
    "dfe = df_top.copy()\n",
    "dfe['split'] = dfe['split'].map({'train': 'training', 'val': 'validation', 'test': 'test'})\n",
    "dfe['metric'] = dfe['metric'].apply(lambda v: 'accuracy' if v == 'acc' else v)\n",
    "assert dfe['split'].notnull().all()\n",
    "dfe.info()"
   ]
  },
  {
   "cell_type": "code",
   "execution_count": 11,
   "metadata": {},
   "outputs": [
    {
     "data": {
      "text/html": [
       "<div>\n",
       "<style scoped>\n",
       "    .dataframe tbody tr th:only-of-type {\n",
       "        vertical-align: middle;\n",
       "    }\n",
       "\n",
       "    .dataframe tbody tr th {\n",
       "        vertical-align: top;\n",
       "    }\n",
       "\n",
       "    .dataframe thead th {\n",
       "        text-align: right;\n",
       "    }\n",
       "</style>\n",
       "<table border=\"1\" class=\"dataframe\">\n",
       "  <thead>\n",
       "    <tr style=\"text-align: right;\">\n",
       "      <th></th>\n",
       "      <th>task</th>\n",
       "      <th>model</th>\n",
       "      <th>metric</th>\n",
       "      <th>value</th>\n",
       "      <th>split</th>\n",
       "    </tr>\n",
       "  </thead>\n",
       "  <tbody>\n",
       "    <tr>\n",
       "      <th>0</th>\n",
       "      <td>inducing_cytokine</td>\n",
       "      <td>bert-base-uncased</td>\n",
       "      <td>acc_and_f1</td>\n",
       "      <td>0.841408</td>\n",
       "      <td>training</td>\n",
       "    </tr>\n",
       "    <tr>\n",
       "      <th>1</th>\n",
       "      <td>inducing_cytokine</td>\n",
       "      <td>bert-base-uncased</td>\n",
       "      <td>accuracy</td>\n",
       "      <td>0.837931</td>\n",
       "      <td>training</td>\n",
       "    </tr>\n",
       "    <tr>\n",
       "      <th>2</th>\n",
       "      <td>inducing_cytokine</td>\n",
       "      <td>bert-base-uncased</td>\n",
       "      <td>f1</td>\n",
       "      <td>0.844884</td>\n",
       "      <td>training</td>\n",
       "    </tr>\n",
       "    <tr>\n",
       "      <th>3</th>\n",
       "      <td>inducing_cytokine</td>\n",
       "      <td>bert-base-uncased</td>\n",
       "      <td>n</td>\n",
       "      <td>290.000000</td>\n",
       "      <td>training</td>\n",
       "    </tr>\n",
       "    <tr>\n",
       "      <th>4</th>\n",
       "      <td>inducing_cytokine</td>\n",
       "      <td>bert-base-uncased</td>\n",
       "      <td>precision</td>\n",
       "      <td>0.810127</td>\n",
       "      <td>training</td>\n",
       "    </tr>\n",
       "  </tbody>\n",
       "</table>\n",
       "</div>"
      ],
      "text/plain": [
       "                task              model      metric       value     split\n",
       "0  inducing_cytokine  bert-base-uncased  acc_and_f1    0.841408  training\n",
       "1  inducing_cytokine  bert-base-uncased    accuracy    0.837931  training\n",
       "2  inducing_cytokine  bert-base-uncased          f1    0.844884  training\n",
       "3  inducing_cytokine  bert-base-uncased           n  290.000000  training\n",
       "4  inducing_cytokine  bert-base-uncased   precision    0.810127  training"
      ]
     },
     "execution_count": 11,
     "metadata": {},
     "output_type": "execute_result"
    }
   ],
   "source": [
    "dfe.head()"
   ]
  },
  {
   "cell_type": "code",
   "execution_count": 12,
   "metadata": {},
   "outputs": [
    {
     "data": {
      "text/plain": [
       "'/lab/data/results/modeling-bert/run1/scores.csv'"
      ]
     },
     "execution_count": 12,
     "metadata": {},
     "output_type": "execute_result"
    }
   ],
   "source": [
    "path = osp.join(output_dir, 'scores.csv')\n",
    "dfe.to_csv(path, index=False)\n",
    "path"
   ]
  }
 ],
 "metadata": {
  "kernelspec": {
   "display_name": "Python 3",
   "language": "python",
   "name": "python3"
  },
  "language_info": {
   "codemirror_mode": {
    "name": "ipython",
    "version": 3
   },
   "file_extension": ".py",
   "mimetype": "text/x-python",
   "name": "python",
   "nbconvert_exporter": "python",
   "pygments_lexer": "ipython3",
   "version": "3.6.8"
  }
 },
 "nbformat": 4,
 "nbformat_minor": 4
}
