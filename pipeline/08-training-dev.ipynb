{
 "cells": [
  {
   "cell_type": "markdown",
   "metadata": {},
   "source": [
    "# Dev Set Supervised Modeling \n",
    "\n",
    "Produce models and predictions for use as labeling functions.  The process for this is:\n",
    "\n",
    "- **dev** predictions\n",
    "    1. K fold split on **dev** candidates (with fairly large K)\n",
    "    2. Train a model on each fold using **val** split for validation and out-of-sample fold as **test**\n",
    "- **train** predictions\n",
    "    1. Train on all **dev** with **val** for validation\n",
    "    2. Apply to all **train** candidates\n",
    "- Concatenate predictions for both sets, stored in large dict keyed by id, expose in LFs"
   ]
  },
  {
   "cell_type": "code",
   "execution_count": 1,
   "metadata": {},
   "outputs": [],
   "source": [
    "import pandas as pd\n",
    "import numpy as np\n",
    "import tqdm\n",
    "import snorkel\n",
    "import os\n",
    "import os.path as osp\n",
    "from snorkel import SnorkelSession\n",
    "from snorkel.models import Candidate\n",
    "from tcre.env import *\n",
    "from tcre.supervision import *\n",
    "from tcre.exec.v1 import cli_client\n",
    "session = SnorkelSession()\n",
    "classes = get_candidate_classes()"
   ]
  },
  {
   "cell_type": "code",
   "execution_count": 2,
   "metadata": {},
   "outputs": [
    {
     "data": {
      "text/plain": [
       "('/lab/data/results/training-dev/run1',\n",
       " '/lab/data/results/gridsearch-dev/run1',\n",
       " 10)"
      ]
     },
     "execution_count": 2,
     "metadata": {},
     "output_type": "execute_result"
    }
   ],
   "source": [
    "output_dir = osp.join(RESULTS_DATA_DIR, 'training-dev', 'run1')\n",
    "search_dir = osp.join(RESULTS_DATA_DIR, 'gridsearch-dev', 'run1')\n",
    "n_cv_splits = 10\n",
    "output_dir, search_dir, n_cv_splits"
   ]
  },
  {
   "cell_type": "code",
   "execution_count": 3,
   "metadata": {},
   "outputs": [
    {
     "data": {
      "text/plain": [
       "['inducing_cytokine', 'secreted_cytokine', 'inducing_transcription_factor']"
      ]
     },
     "execution_count": 3,
     "metadata": {},
     "output_type": "execute_result"
    }
   ],
   "source": [
    "tasks = [classes[c].field for c in classes]\n",
    "tasks"
   ]
  },
  {
   "cell_type": "code",
   "execution_count": 4,
   "metadata": {},
   "outputs": [
    {
     "data": {
      "text/plain": [
       "['000', '001', '002', '003', '004', '005', '006', '007', '008', '009']"
      ]
     },
     "execution_count": 4,
     "metadata": {},
     "output_type": "execute_result"
    }
   ],
   "source": [
    "folds = list(map(lambda v: f'{v:03d}', range(n_cv_splits)))\n",
    "folds"
   ]
  },
  {
   "cell_type": "markdown",
   "metadata": {},
   "source": [
    "## Generate Splits"
   ]
  },
  {
   "cell_type": "code",
   "execution_count": 5,
   "metadata": {},
   "outputs": [],
   "source": [
    "def to_df(cands):\n",
    "    return pd.DataFrame([\n",
    "        dict(id=c.id, type=c.type, label=c.gold_labels[0].value if c.gold_labels else -1)\n",
    "        for c in cands\n",
    "    ])\n",
    "\n",
    "def get_all_ids(split):\n",
    "    return to_df(session.query(Candidate).filter(Candidate.split == split).all())\\\n",
    "        .groupby('type')['id'].unique().apply(list)"
   ]
  },
  {
   "cell_type": "code",
   "execution_count": 6,
   "metadata": {},
   "outputs": [
    {
     "data": {
      "text/plain": [
       "{0: 'train', 1: 'dev', 2: 'infer', 3: 'test', 4: 'val'}"
      ]
     },
     "execution_count": 6,
     "metadata": {},
     "output_type": "execute_result"
    }
   ],
   "source": [
    "SPLIT_MAP"
   ]
  },
  {
   "cell_type": "code",
   "execution_count": 7,
   "metadata": {},
   "outputs": [
    {
     "data": {
      "text/html": [
       "<div>\n",
       "<style scoped>\n",
       "    .dataframe tbody tr th:only-of-type {\n",
       "        vertical-align: middle;\n",
       "    }\n",
       "\n",
       "    .dataframe tbody tr th {\n",
       "        vertical-align: top;\n",
       "    }\n",
       "\n",
       "    .dataframe thead th {\n",
       "        text-align: right;\n",
       "    }\n",
       "</style>\n",
       "<table border=\"1\" class=\"dataframe\">\n",
       "  <thead>\n",
       "    <tr style=\"text-align: right;\">\n",
       "      <th></th>\n",
       "      <th>nids</th>\n",
       "      <th>split</th>\n",
       "      <th>task</th>\n",
       "    </tr>\n",
       "  </thead>\n",
       "  <tbody>\n",
       "    <tr>\n",
       "      <th>0</th>\n",
       "      <td>673</td>\n",
       "      <td>dev</td>\n",
       "      <td>inducing_cytokine</td>\n",
       "    </tr>\n",
       "    <tr>\n",
       "      <th>1</th>\n",
       "      <td>410</td>\n",
       "      <td>dev</td>\n",
       "      <td>inducing_transcription_factor</td>\n",
       "    </tr>\n",
       "    <tr>\n",
       "      <th>2</th>\n",
       "      <td>673</td>\n",
       "      <td>dev</td>\n",
       "      <td>secreted_cytokine</td>\n",
       "    </tr>\n",
       "    <tr>\n",
       "      <th>3</th>\n",
       "      <td>97</td>\n",
       "      <td>val</td>\n",
       "      <td>inducing_cytokine</td>\n",
       "    </tr>\n",
       "    <tr>\n",
       "      <th>4</th>\n",
       "      <td>117</td>\n",
       "      <td>val</td>\n",
       "      <td>inducing_transcription_factor</td>\n",
       "    </tr>\n",
       "    <tr>\n",
       "      <th>5</th>\n",
       "      <td>98</td>\n",
       "      <td>val</td>\n",
       "      <td>secreted_cytokine</td>\n",
       "    </tr>\n",
       "    <tr>\n",
       "      <th>6</th>\n",
       "      <td>100</td>\n",
       "      <td>test</td>\n",
       "      <td>inducing_cytokine</td>\n",
       "    </tr>\n",
       "    <tr>\n",
       "      <th>7</th>\n",
       "      <td>100</td>\n",
       "      <td>test</td>\n",
       "      <td>inducing_transcription_factor</td>\n",
       "    </tr>\n",
       "    <tr>\n",
       "      <th>8</th>\n",
       "      <td>100</td>\n",
       "      <td>test</td>\n",
       "      <td>secreted_cytokine</td>\n",
       "    </tr>\n",
       "    <tr>\n",
       "      <th>9</th>\n",
       "      <td>48656</td>\n",
       "      <td>train</td>\n",
       "      <td>inducing_cytokine</td>\n",
       "    </tr>\n",
       "    <tr>\n",
       "      <th>10</th>\n",
       "      <td>22983</td>\n",
       "      <td>train</td>\n",
       "      <td>inducing_transcription_factor</td>\n",
       "    </tr>\n",
       "    <tr>\n",
       "      <th>11</th>\n",
       "      <td>48527</td>\n",
       "      <td>train</td>\n",
       "      <td>secreted_cytokine</td>\n",
       "    </tr>\n",
       "  </tbody>\n",
       "</table>\n",
       "</div>"
      ],
      "text/plain": [
       "     nids  split                           task\n",
       "0     673    dev              inducing_cytokine\n",
       "1     410    dev  inducing_transcription_factor\n",
       "2     673    dev              secreted_cytokine\n",
       "3      97    val              inducing_cytokine\n",
       "4     117    val  inducing_transcription_factor\n",
       "5      98    val              secreted_cytokine\n",
       "6     100   test              inducing_cytokine\n",
       "7     100   test  inducing_transcription_factor\n",
       "8     100   test              secreted_cytokine\n",
       "9   48656  train              inducing_cytokine\n",
       "10  22983  train  inducing_transcription_factor\n",
       "11  48527  train              secreted_cytokine"
      ]
     },
     "execution_count": 7,
     "metadata": {},
     "output_type": "execute_result"
    }
   ],
   "source": [
    "# Load all ids for each split (may take a few minutes)\n",
    "ids = {\n",
    "    SPLIT_MAP[k]: get_all_ids(k)\n",
    "    for k in [SPLIT_DEV, SPLIT_VAL, SPLIT_TEST, SPLIT_TRAIN]\n",
    "}\n",
    "\n",
    "pd.DataFrame([\n",
    "    dict(split=split, task=task, nids=len(ids[split][task]))\n",
    "    for split in ids.keys()\n",
    "    for task in ids[split].keys()\n",
    "])"
   ]
  },
  {
   "cell_type": "code",
   "execution_count": 8,
   "metadata": {},
   "outputs": [
    {
     "name": "stdout",
     "output_type": "stream",
     "text": [
      "<class 'pandas.core.frame.DataFrame'>\n",
      "RangeIndex: 1756 entries, 0 to 1755\n",
      "Data columns (total 3 columns):\n",
      "id       1756 non-null int64\n",
      "label    1756 non-null int64\n",
      "type     1756 non-null object\n",
      "dtypes: int64(2), object(1)\n",
      "memory usage: 41.2+ KB\n"
     ]
    }
   ],
   "source": [
    "# Load dev candidates and labels for stratification\n",
    "df = to_df(session.query(Candidate).filter(Candidate.split.in_([SPLIT_DEV])).all())\n",
    "df.info()"
   ]
  },
  {
   "cell_type": "code",
   "execution_count": 9,
   "metadata": {},
   "outputs": [
    {
     "data": {
      "text/html": [
       "<div>\n",
       "<style scoped>\n",
       "    .dataframe tbody tr th:only-of-type {\n",
       "        vertical-align: middle;\n",
       "    }\n",
       "\n",
       "    .dataframe tbody tr th {\n",
       "        vertical-align: top;\n",
       "    }\n",
       "\n",
       "    .dataframe thead th {\n",
       "        text-align: right;\n",
       "    }\n",
       "</style>\n",
       "<table border=\"1\" class=\"dataframe\">\n",
       "  <thead>\n",
       "    <tr style=\"text-align: right;\">\n",
       "      <th>label</th>\n",
       "      <th>-1</th>\n",
       "      <th>1</th>\n",
       "    </tr>\n",
       "    <tr>\n",
       "      <th>type</th>\n",
       "      <th></th>\n",
       "      <th></th>\n",
       "    </tr>\n",
       "  </thead>\n",
       "  <tbody>\n",
       "    <tr>\n",
       "      <th>inducing_cytokine</th>\n",
       "      <td>540</td>\n",
       "      <td>133</td>\n",
       "    </tr>\n",
       "    <tr>\n",
       "      <th>inducing_transcription_factor</th>\n",
       "      <td>324</td>\n",
       "      <td>86</td>\n",
       "    </tr>\n",
       "    <tr>\n",
       "      <th>secreted_cytokine</th>\n",
       "      <td>592</td>\n",
       "      <td>81</td>\n",
       "    </tr>\n",
       "  </tbody>\n",
       "</table>\n",
       "</div>"
      ],
      "text/plain": [
       "label                           -1    1\n",
       "type                                   \n",
       "inducing_cytokine              540  133\n",
       "inducing_transcription_factor  324   86\n",
       "secreted_cytokine              592   81"
      ]
     },
     "execution_count": 9,
     "metadata": {},
     "output_type": "execute_result"
    }
   ],
   "source": [
    "df.groupby(['type', 'label']).size().unstack()"
   ]
  },
  {
   "cell_type": "code",
   "execution_count": 10,
   "metadata": {},
   "outputs": [],
   "source": [
    "# Build splits with larger fold partition of dev set as training data and held-out\n",
    "# portion as the prediction target (with validation and test as usual)\n",
    "from sklearn.model_selection import StratifiedKFold\n",
    "\n",
    "def get_split(k, g, val_ids, test_ids):\n",
    "    cv = StratifiedKFold(n_splits=n_cv_splits, random_state=TCRE_SEED)\n",
    "    for train, test in cv.split(g['id'].values.reshape((-1, 1)), g['label']):\n",
    "        yield pd.Series({\n",
    "            'train': list(g['id'].iloc[train].values), \n",
    "            'predict': list(g['id'].iloc[test].values), \n",
    "            'val': list(val_ids[k]),\n",
    "            'test': list(test_ids[k])\n",
    "        })\n",
    "\n",
    "splits = {}\n",
    "for task in tasks:\n",
    "    g = df[df['type'] == task]\n",
    "    assert len(g) > 0, f'No candidates found for task {task}'\n",
    "    splits[task] = []\n",
    "    for split in get_split(task, g, ids['val'], ids['test']):\n",
    "        splits[task].append(split)"
   ]
  },
  {
   "cell_type": "code",
   "execution_count": 11,
   "metadata": {},
   "outputs": [
    {
     "data": {
      "text/plain": [
       "dict_keys(['inducing_cytokine', 'secreted_cytokine', 'inducing_transcription_factor'])"
      ]
     },
     "execution_count": 11,
     "metadata": {},
     "output_type": "execute_result"
    }
   ],
   "source": [
    "splits.keys()"
   ]
  },
  {
   "cell_type": "code",
   "execution_count": 12,
   "metadata": {},
   "outputs": [
    {
     "data": {
      "text/html": [
       "<div>\n",
       "<style scoped>\n",
       "    .dataframe tbody tr th:only-of-type {\n",
       "        vertical-align: middle;\n",
       "    }\n",
       "\n",
       "    .dataframe tbody tr th {\n",
       "        vertical-align: top;\n",
       "    }\n",
       "\n",
       "    .dataframe thead th {\n",
       "        text-align: right;\n",
       "    }\n",
       "</style>\n",
       "<table border=\"1\" class=\"dataframe\">\n",
       "  <thead>\n",
       "    <tr style=\"text-align: right;\">\n",
       "      <th></th>\n",
       "      <th>fold</th>\n",
       "      <th>predict</th>\n",
       "      <th>task</th>\n",
       "      <th>test</th>\n",
       "      <th>train</th>\n",
       "      <th>val</th>\n",
       "    </tr>\n",
       "  </thead>\n",
       "  <tbody>\n",
       "    <tr>\n",
       "      <th>0</th>\n",
       "      <td>0</td>\n",
       "      <td>68</td>\n",
       "      <td>inducing_cytokine</td>\n",
       "      <td>100</td>\n",
       "      <td>605</td>\n",
       "      <td>97</td>\n",
       "    </tr>\n",
       "    <tr>\n",
       "      <th>1</th>\n",
       "      <td>1</td>\n",
       "      <td>68</td>\n",
       "      <td>inducing_cytokine</td>\n",
       "      <td>100</td>\n",
       "      <td>605</td>\n",
       "      <td>97</td>\n",
       "    </tr>\n",
       "    <tr>\n",
       "      <th>2</th>\n",
       "      <td>2</td>\n",
       "      <td>68</td>\n",
       "      <td>inducing_cytokine</td>\n",
       "      <td>100</td>\n",
       "      <td>605</td>\n",
       "      <td>97</td>\n",
       "    </tr>\n",
       "    <tr>\n",
       "      <th>3</th>\n",
       "      <td>3</td>\n",
       "      <td>67</td>\n",
       "      <td>inducing_cytokine</td>\n",
       "      <td>100</td>\n",
       "      <td>606</td>\n",
       "      <td>97</td>\n",
       "    </tr>\n",
       "    <tr>\n",
       "      <th>4</th>\n",
       "      <td>4</td>\n",
       "      <td>67</td>\n",
       "      <td>inducing_cytokine</td>\n",
       "      <td>100</td>\n",
       "      <td>606</td>\n",
       "      <td>97</td>\n",
       "    </tr>\n",
       "    <tr>\n",
       "      <th>5</th>\n",
       "      <td>5</td>\n",
       "      <td>67</td>\n",
       "      <td>inducing_cytokine</td>\n",
       "      <td>100</td>\n",
       "      <td>606</td>\n",
       "      <td>97</td>\n",
       "    </tr>\n",
       "    <tr>\n",
       "      <th>6</th>\n",
       "      <td>6</td>\n",
       "      <td>67</td>\n",
       "      <td>inducing_cytokine</td>\n",
       "      <td>100</td>\n",
       "      <td>606</td>\n",
       "      <td>97</td>\n",
       "    </tr>\n",
       "    <tr>\n",
       "      <th>7</th>\n",
       "      <td>7</td>\n",
       "      <td>67</td>\n",
       "      <td>inducing_cytokine</td>\n",
       "      <td>100</td>\n",
       "      <td>606</td>\n",
       "      <td>97</td>\n",
       "    </tr>\n",
       "    <tr>\n",
       "      <th>8</th>\n",
       "      <td>8</td>\n",
       "      <td>67</td>\n",
       "      <td>inducing_cytokine</td>\n",
       "      <td>100</td>\n",
       "      <td>606</td>\n",
       "      <td>97</td>\n",
       "    </tr>\n",
       "    <tr>\n",
       "      <th>9</th>\n",
       "      <td>9</td>\n",
       "      <td>67</td>\n",
       "      <td>inducing_cytokine</td>\n",
       "      <td>100</td>\n",
       "      <td>606</td>\n",
       "      <td>97</td>\n",
       "    </tr>\n",
       "    <tr>\n",
       "      <th>10</th>\n",
       "      <td>0</td>\n",
       "      <td>69</td>\n",
       "      <td>secreted_cytokine</td>\n",
       "      <td>100</td>\n",
       "      <td>604</td>\n",
       "      <td>98</td>\n",
       "    </tr>\n",
       "    <tr>\n",
       "      <th>11</th>\n",
       "      <td>1</td>\n",
       "      <td>68</td>\n",
       "      <td>secreted_cytokine</td>\n",
       "      <td>100</td>\n",
       "      <td>605</td>\n",
       "      <td>98</td>\n",
       "    </tr>\n",
       "    <tr>\n",
       "      <th>12</th>\n",
       "      <td>2</td>\n",
       "      <td>67</td>\n",
       "      <td>secreted_cytokine</td>\n",
       "      <td>100</td>\n",
       "      <td>606</td>\n",
       "      <td>98</td>\n",
       "    </tr>\n",
       "    <tr>\n",
       "      <th>13</th>\n",
       "      <td>3</td>\n",
       "      <td>67</td>\n",
       "      <td>secreted_cytokine</td>\n",
       "      <td>100</td>\n",
       "      <td>606</td>\n",
       "      <td>98</td>\n",
       "    </tr>\n",
       "    <tr>\n",
       "      <th>14</th>\n",
       "      <td>4</td>\n",
       "      <td>67</td>\n",
       "      <td>secreted_cytokine</td>\n",
       "      <td>100</td>\n",
       "      <td>606</td>\n",
       "      <td>98</td>\n",
       "    </tr>\n",
       "    <tr>\n",
       "      <th>15</th>\n",
       "      <td>5</td>\n",
       "      <td>67</td>\n",
       "      <td>secreted_cytokine</td>\n",
       "      <td>100</td>\n",
       "      <td>606</td>\n",
       "      <td>98</td>\n",
       "    </tr>\n",
       "    <tr>\n",
       "      <th>16</th>\n",
       "      <td>6</td>\n",
       "      <td>67</td>\n",
       "      <td>secreted_cytokine</td>\n",
       "      <td>100</td>\n",
       "      <td>606</td>\n",
       "      <td>98</td>\n",
       "    </tr>\n",
       "    <tr>\n",
       "      <th>17</th>\n",
       "      <td>7</td>\n",
       "      <td>67</td>\n",
       "      <td>secreted_cytokine</td>\n",
       "      <td>100</td>\n",
       "      <td>606</td>\n",
       "      <td>98</td>\n",
       "    </tr>\n",
       "    <tr>\n",
       "      <th>18</th>\n",
       "      <td>8</td>\n",
       "      <td>67</td>\n",
       "      <td>secreted_cytokine</td>\n",
       "      <td>100</td>\n",
       "      <td>606</td>\n",
       "      <td>98</td>\n",
       "    </tr>\n",
       "    <tr>\n",
       "      <th>19</th>\n",
       "      <td>9</td>\n",
       "      <td>67</td>\n",
       "      <td>secreted_cytokine</td>\n",
       "      <td>100</td>\n",
       "      <td>606</td>\n",
       "      <td>98</td>\n",
       "    </tr>\n",
       "    <tr>\n",
       "      <th>20</th>\n",
       "      <td>0</td>\n",
       "      <td>42</td>\n",
       "      <td>inducing_transcription_factor</td>\n",
       "      <td>100</td>\n",
       "      <td>368</td>\n",
       "      <td>117</td>\n",
       "    </tr>\n",
       "    <tr>\n",
       "      <th>21</th>\n",
       "      <td>1</td>\n",
       "      <td>42</td>\n",
       "      <td>inducing_transcription_factor</td>\n",
       "      <td>100</td>\n",
       "      <td>368</td>\n",
       "      <td>117</td>\n",
       "    </tr>\n",
       "    <tr>\n",
       "      <th>22</th>\n",
       "      <td>2</td>\n",
       "      <td>42</td>\n",
       "      <td>inducing_transcription_factor</td>\n",
       "      <td>100</td>\n",
       "      <td>368</td>\n",
       "      <td>117</td>\n",
       "    </tr>\n",
       "    <tr>\n",
       "      <th>23</th>\n",
       "      <td>3</td>\n",
       "      <td>42</td>\n",
       "      <td>inducing_transcription_factor</td>\n",
       "      <td>100</td>\n",
       "      <td>368</td>\n",
       "      <td>117</td>\n",
       "    </tr>\n",
       "    <tr>\n",
       "      <th>24</th>\n",
       "      <td>4</td>\n",
       "      <td>41</td>\n",
       "      <td>inducing_transcription_factor</td>\n",
       "      <td>100</td>\n",
       "      <td>369</td>\n",
       "      <td>117</td>\n",
       "    </tr>\n",
       "    <tr>\n",
       "      <th>25</th>\n",
       "      <td>5</td>\n",
       "      <td>41</td>\n",
       "      <td>inducing_transcription_factor</td>\n",
       "      <td>100</td>\n",
       "      <td>369</td>\n",
       "      <td>117</td>\n",
       "    </tr>\n",
       "    <tr>\n",
       "      <th>26</th>\n",
       "      <td>6</td>\n",
       "      <td>40</td>\n",
       "      <td>inducing_transcription_factor</td>\n",
       "      <td>100</td>\n",
       "      <td>370</td>\n",
       "      <td>117</td>\n",
       "    </tr>\n",
       "    <tr>\n",
       "      <th>27</th>\n",
       "      <td>7</td>\n",
       "      <td>40</td>\n",
       "      <td>inducing_transcription_factor</td>\n",
       "      <td>100</td>\n",
       "      <td>370</td>\n",
       "      <td>117</td>\n",
       "    </tr>\n",
       "    <tr>\n",
       "      <th>28</th>\n",
       "      <td>8</td>\n",
       "      <td>40</td>\n",
       "      <td>inducing_transcription_factor</td>\n",
       "      <td>100</td>\n",
       "      <td>370</td>\n",
       "      <td>117</td>\n",
       "    </tr>\n",
       "    <tr>\n",
       "      <th>29</th>\n",
       "      <td>9</td>\n",
       "      <td>40</td>\n",
       "      <td>inducing_transcription_factor</td>\n",
       "      <td>100</td>\n",
       "      <td>370</td>\n",
       "      <td>117</td>\n",
       "    </tr>\n",
       "  </tbody>\n",
       "</table>\n",
       "</div>"
      ],
      "text/plain": [
       "    fold  predict                           task  test  train  val\n",
       "0      0       68              inducing_cytokine   100    605   97\n",
       "1      1       68              inducing_cytokine   100    605   97\n",
       "2      2       68              inducing_cytokine   100    605   97\n",
       "3      3       67              inducing_cytokine   100    606   97\n",
       "4      4       67              inducing_cytokine   100    606   97\n",
       "5      5       67              inducing_cytokine   100    606   97\n",
       "6      6       67              inducing_cytokine   100    606   97\n",
       "7      7       67              inducing_cytokine   100    606   97\n",
       "8      8       67              inducing_cytokine   100    606   97\n",
       "9      9       67              inducing_cytokine   100    606   97\n",
       "10     0       69              secreted_cytokine   100    604   98\n",
       "11     1       68              secreted_cytokine   100    605   98\n",
       "12     2       67              secreted_cytokine   100    606   98\n",
       "13     3       67              secreted_cytokine   100    606   98\n",
       "14     4       67              secreted_cytokine   100    606   98\n",
       "15     5       67              secreted_cytokine   100    606   98\n",
       "16     6       67              secreted_cytokine   100    606   98\n",
       "17     7       67              secreted_cytokine   100    606   98\n",
       "18     8       67              secreted_cytokine   100    606   98\n",
       "19     9       67              secreted_cytokine   100    606   98\n",
       "20     0       42  inducing_transcription_factor   100    368  117\n",
       "21     1       42  inducing_transcription_factor   100    368  117\n",
       "22     2       42  inducing_transcription_factor   100    368  117\n",
       "23     3       42  inducing_transcription_factor   100    368  117\n",
       "24     4       41  inducing_transcription_factor   100    369  117\n",
       "25     5       41  inducing_transcription_factor   100    369  117\n",
       "26     6       40  inducing_transcription_factor   100    370  117\n",
       "27     7       40  inducing_transcription_factor   100    370  117\n",
       "28     8       40  inducing_transcription_factor   100    370  117\n",
       "29     9       40  inducing_transcription_factor   100    370  117"
      ]
     },
     "execution_count": 12,
     "metadata": {},
     "output_type": "execute_result"
    }
   ],
   "source": [
    "# Show number of ids to be written in splits files (by fold and task)\n",
    "pd.DataFrame([\n",
    "    {**dict(task=k, fold=i), **fold.apply(len).to_dict()}\n",
    "    for k in splits.keys()\n",
    "    for i, fold in enumerate(splits[k])\n",
    "])"
   ]
  },
  {
   "cell_type": "code",
   "execution_count": 13,
   "metadata": {},
   "outputs": [
    {
     "name": "stdout",
     "output_type": "stream",
     "text": [
      "All fold splits written to /lab/data/results/training-dev/run1/splits\n"
     ]
    }
   ],
   "source": [
    "# Write split arrays to individual files for each fold\n",
    "for task, split in splits.items():\n",
    "    for i, fold in enumerate(split):\n",
    "        split_file = osp.join(output_dir, 'splits', f'dev_{task}_fold_{i:03d}.json')\n",
    "        if not osp.exists(osp.dirname(split_file)):\n",
    "            os.makedirs(osp.dirname(split_file))\n",
    "        fold.to_json(split_file, orient='index')\n",
    "print(f\"All fold splits written to {osp.join(output_dir, 'splits')}\")"
   ]
  },
  {
   "cell_type": "code",
   "execution_count": 14,
   "metadata": {},
   "outputs": [
    {
     "name": "stdout",
     "output_type": "stream",
     "text": [
      "Complete splits written to /lab/data/results/training-dev/run1/splits\n"
     ]
    }
   ],
   "source": [
    "# Finally, write a split file for each task across the entire dev set\n",
    "# with the train partition as the prediction target\n",
    "for task in splits.keys():\n",
    "    split_file = osp.join(output_dir, 'splits', f'dev_{task}_fold_all.json')\n",
    "    split_data = pd.Series({\n",
    "        'train': ids['dev'][task],\n",
    "        'val': ids['val'][task],\n",
    "        'test': ids['test'][task],\n",
    "        'predict': ids['train'][task]\n",
    "    })\n",
    "    split_data.to_json(split_file, orient='index')\n",
    "print(f\"Complete splits written to {osp.join(output_dir, 'splits')}\")"
   ]
  },
  {
   "cell_type": "markdown",
   "metadata": {},
   "source": [
    "## Training"
   ]
  },
  {
   "cell_type": "markdown",
   "metadata": {},
   "source": [
    "Load model configs from grid search results:"
   ]
  },
  {
   "cell_type": "code",
   "execution_count": 15,
   "metadata": {},
   "outputs": [
    {
     "data": {
      "text/html": [
       "<div>\n",
       "<style scoped>\n",
       "    .dataframe tbody tr th:only-of-type {\n",
       "        vertical-align: middle;\n",
       "    }\n",
       "\n",
       "    .dataframe tbody tr th {\n",
       "        vertical-align: top;\n",
       "    }\n",
       "\n",
       "    .dataframe thead th {\n",
       "        text-align: right;\n",
       "    }\n",
       "</style>\n",
       "<table border=\"1\" class=\"dataframe\">\n",
       "  <thead>\n",
       "    <tr style=\"text-align: right;\">\n",
       "      <th></th>\n",
       "      <th>bidirectional</th>\n",
       "      <th>cell_type</th>\n",
       "      <th>dropout</th>\n",
       "      <th>learning_rate</th>\n",
       "      <th>marker_list</th>\n",
       "      <th>model_size</th>\n",
       "      <th>use_positions</th>\n",
       "      <th>use_secondary</th>\n",
       "      <th>use_swaps</th>\n",
       "      <th>weight_decay</th>\n",
       "      <th>wrd_embedding_type</th>\n",
       "    </tr>\n",
       "  </thead>\n",
       "  <tbody>\n",
       "    <tr>\n",
       "      <th>0</th>\n",
       "      <td>False</td>\n",
       "      <td>LSTM</td>\n",
       "      <td>0.5</td>\n",
       "      <td>0.01</td>\n",
       "      <td>doub_01</td>\n",
       "      <td>XL</td>\n",
       "      <td>True</td>\n",
       "      <td>False</td>\n",
       "      <td>False</td>\n",
       "      <td>0.001</td>\n",
       "      <td>w2v_frozen</td>\n",
       "    </tr>\n",
       "    <tr>\n",
       "      <th>1</th>\n",
       "      <td>False</td>\n",
       "      <td>LSTM</td>\n",
       "      <td>0.5</td>\n",
       "      <td>0.01</td>\n",
       "      <td>doub_01</td>\n",
       "      <td>XL</td>\n",
       "      <td>True</td>\n",
       "      <td>False</td>\n",
       "      <td>False</td>\n",
       "      <td>0.001</td>\n",
       "      <td>w2v_trained</td>\n",
       "    </tr>\n",
       "  </tbody>\n",
       "</table>\n",
       "</div>"
      ],
      "text/plain": [
       "  bidirectional cell_type  dropout  learning_rate marker_list model_size  \\\n",
       "0         False      LSTM      0.5           0.01     doub_01         XL   \n",
       "1         False      LSTM      0.5           0.01     doub_01         XL   \n",
       "\n",
       "  use_positions use_secondary use_swaps  weight_decay wrd_embedding_type  \n",
       "0          True         False     False         0.001         w2v_frozen  \n",
       "1          True         False     False         0.001        w2v_trained  "
      ]
     },
     "execution_count": 15,
     "metadata": {},
     "output_type": "execute_result"
    }
   ],
   "source": [
    "dfcfg = pd.read_json(osp.join(search_dir, 'top_model_configurations.json'))\n",
    "dfcfg"
   ]
  },
  {
   "cell_type": "markdown",
   "metadata": {},
   "source": [
    "Train all models and create predictions for each:"
   ]
  },
  {
   "cell_type": "code",
   "execution_count": 16,
   "metadata": {},
   "outputs": [],
   "source": [
    "client = cli_client.Client(require_options=True, exceptions=['log_level', 'seed', 'batch_size', 'vocab_limit', 'use_lower', 'save_keys'])"
   ]
  },
  {
   "cell_type": "code",
   "execution_count": null,
   "metadata": {},
   "outputs": [
    {
     "name": "stderr",
     "output_type": "stream",
     "text": [
      "Processing task=inducing_cytokine, fold=000, config=1:   2%|▏         | 1/66 [00:33<36:30, 33.70s/it]"
     ]
    }
   ],
   "source": [
    "CMD_FORMAT = \"{cmd} > {log_file} 2>&1\"\n",
    "\n",
    "def run_predictions(folds, tasks, cfgs):\n",
    "    pbar = tqdm.tqdm(total=len(tasks) * len(folds) * len(cfgs))\n",
    "    for task in tasks:\n",
    "        for fold in folds:\n",
    "            for i, cfg in list(enumerate(cfgs)):\n",
    "                pbar.set_description(f'Processing task={task}, fold={fold}, config={i}')\n",
    "                splits_file = osp.join(output_dir, 'splits', f'dev_{task}_fold_{fold}.json')\n",
    "                model_dir = osp.join(output_dir, 'models', f'dev_{task}_fold_{fold}_cfg_{i:03d}')\n",
    "                train_log_file = osp.join(model_dir, 'train_log.txt')\n",
    "                predict_log_file = osp.join(model_dir, 'predict_log.txt')\n",
    "                data_dir = osp.join(model_dir, 'data')\n",
    "\n",
    "                if not osp.exists(model_dir):\n",
    "                    os.makedirs(model_dir)\n",
    "\n",
    "                cli_args = dict(relation_class=task, device='\"cuda:1\"', output_dir=data_dir)\n",
    "                cmd = client.cmd(\n",
    "                    cli=cli_args,\n",
    "                    train={**cfg, **dict(use_checkpoints=True, splits_file=splits_file)}\n",
    "                )\n",
    "                cmd = CMD_FORMAT.format(cmd=cmd, log_file=train_log_file)\n",
    "                client.execute(cmd)\n",
    "\n",
    "                cmd = client.cmd(\n",
    "                    cli=cli_args,\n",
    "                    predict=dict(splits_file=splits_file)\n",
    "                )\n",
    "                cmd = CMD_FORMAT.format(cmd=cmd, log_file=predict_log_file)\n",
    "                client.execute(cmd)\n",
    "                pbar.update(1)\n",
    "\n",
    "#run_predictions(['all'], ['secreted_cytokine'], dfcfg.to_dict(orient='records'))\n",
    "#run_predictions(['000'], ['secreted_cytokine'], dfcfg.to_dict(orient='records'))\n",
    "run_predictions(folds + ['all'], tasks, dfcfg.to_dict(orient='records'))"
   ]
  },
  {
   "cell_type": "code",
   "execution_count": 56,
   "metadata": {},
   "outputs": [],
   "source": [
    "# !ls /lab/data/results/training-dev/run1/splits/dev_inducing_cytokine_fold_000.json"
   ]
  },
  {
   "cell_type": "code",
   "execution_count": 55,
   "metadata": {},
   "outputs": [],
   "source": [
    "# !python /lab/repos/t-cell-relation-extraction/src/tcre/exec/v1/cli.py --relation-class=inducing_cytokine --device=\"cpu\" --output-dir=/lab/data/results/training-dev/run1/models/dev_inducing_cytokine_fold_000_cfg_000/data predict --splits-file=/lab/data/results/training-dev/run1/splits/dev_inducing_cytokine_fold_000.json"
   ]
  },
  {
   "cell_type": "code",
   "execution_count": 30,
   "metadata": {},
   "outputs": [],
   "source": [
    "# dfh = pd.read_json('/lab/data/results/training-dev/run1/models/dev_secreted_cytokine_fold_000_cfg_000/data/history.json')\n",
    "# dfh.set_index(['epoch', 'type'])['f1'].unstack()"
   ]
  },
  {
   "cell_type": "code",
   "execution_count": 19,
   "metadata": {},
   "outputs": [
    {
     "name": "stdout",
     "output_type": "stream",
     "text": [
      "<class 'pandas.core.frame.DataFrame'>\n",
      "Int64Index: 48527 entries, 0 to 9999\n",
      "Data columns (total 3 columns):\n",
      "id        48527 non-null int64\n",
      "y_true    48527 non-null int64\n",
      "y_pred    48527 non-null float64\n",
      "dtypes: float64(1), int64(2)\n",
      "memory usage: 1.5 MB\n"
     ]
    }
   ],
   "source": [
    "dfp = pd.read_json('/lab/data/results/training-dev/run1/models/dev_secreted_cytokine_fold_all_cfg_000/data/predictions.json')\n",
    "dfp.info()"
   ]
  },
  {
   "cell_type": "code",
   "execution_count": 78,
   "metadata": {},
   "outputs": [],
   "source": [
    "# %matplotlib inline\n",
    "# dfp['y_pred'].hist(bins=32)"
   ]
  },
  {
   "cell_type": "code",
   "execution_count": 20,
   "metadata": {},
   "outputs": [
    {
     "data": {
      "text/html": [
       "<div>\n",
       "<style scoped>\n",
       "    .dataframe tbody tr th:only-of-type {\n",
       "        vertical-align: middle;\n",
       "    }\n",
       "\n",
       "    .dataframe tbody tr th {\n",
       "        vertical-align: top;\n",
       "    }\n",
       "\n",
       "    .dataframe thead th {\n",
       "        text-align: right;\n",
       "    }\n",
       "</style>\n",
       "<table border=\"1\" class=\"dataframe\">\n",
       "  <thead>\n",
       "    <tr style=\"text-align: right;\">\n",
       "      <th></th>\n",
       "      <th>id</th>\n",
       "      <th>y_true</th>\n",
       "      <th>y_pred</th>\n",
       "    </tr>\n",
       "  </thead>\n",
       "  <tbody>\n",
       "    <tr>\n",
       "      <th>26720</th>\n",
       "      <td>278083</td>\n",
       "      <td>0</td>\n",
       "      <td>0.964123</td>\n",
       "    </tr>\n",
       "    <tr>\n",
       "      <th>13977</th>\n",
       "      <td>60695</td>\n",
       "      <td>0</td>\n",
       "      <td>0.960050</td>\n",
       "    </tr>\n",
       "    <tr>\n",
       "      <th>46931</th>\n",
       "      <td>367475</td>\n",
       "      <td>0</td>\n",
       "      <td>0.959832</td>\n",
       "    </tr>\n",
       "    <tr>\n",
       "      <th>31602</th>\n",
       "      <td>299321</td>\n",
       "      <td>0</td>\n",
       "      <td>0.959384</td>\n",
       "    </tr>\n",
       "    <tr>\n",
       "      <th>7649</th>\n",
       "      <td>19321</td>\n",
       "      <td>0</td>\n",
       "      <td>0.959170</td>\n",
       "    </tr>\n",
       "  </tbody>\n",
       "</table>\n",
       "</div>"
      ],
      "text/plain": [
       "           id  y_true    y_pred\n",
       "26720  278083       0  0.964123\n",
       "13977   60695       0  0.960050\n",
       "46931  367475       0  0.959832\n",
       "31602  299321       0  0.959384\n",
       "7649    19321       0  0.959170"
      ]
     },
     "execution_count": 20,
     "metadata": {},
     "output_type": "execute_result"
    }
   ],
   "source": [
    "dfp.sort_values('y_pred', ascending=False).head()"
   ]
  },
  {
   "cell_type": "code",
   "execution_count": 21,
   "metadata": {},
   "outputs": [
    {
     "data": {
      "text/plain": [
       "[278083, 60695, 367475, 299321, 19321, 54598, 288078, 331541, 297000, 308685]"
      ]
     },
     "execution_count": 21,
     "metadata": {},
     "output_type": "execute_result"
    }
   ],
   "source": [
    "list(dfp.sort_values('y_pred', ascending=False)['id'].head(10).unique())"
   ]
  },
  {
   "cell_type": "code",
   "execution_count": 22,
   "metadata": {},
   "outputs": [
    {
     "data": {
      "text/plain": [
       "[(SecretedCytokine(Span(\"b'IL-9'\", sentence=59599, chars=[65,68], words=[13,13]), Span(\"b'Th9'\", sentence=59599, chars=[51,53], words=[10,10])),\n",
       "  'The latest addition to the list of subsets, termed Th9, secretes IL-9 as the signature cytokine and may play a role in several inflammatory disorders.'),\n",
       " (SecretedCytokine(Span(\"b'IL-6'\", sentence=220721, chars=[70,73], words=[13,13]), Span(\"b'naive T'\", sentence=220721, chars=[34,40], words=[6,7])),\n",
       "  'The generation of Th17 cells from naive T cells activated with IL-1β, IL-6 and IL-23 in the absence of TGF-β has been reported.'),\n",
       " (SecretedCytokine(Span(\"b'IL-10'\", sentence=320315, chars=[312,316], words=[60,60]), Span(\"b'Tregs'\", sentence=320315, chars=[284,288], words=[54,54])),\n",
       "  \"G-MSCs' infusion modulated the function of multiple innate and adaptive immune cells through the COX/PGE2 pathway, resulting in a decreased infiltration of DCs, CD81 T-cells, Th-17, and MCs, a suppression of a variety of inflammatory cytokines, a reciprocal increased infiltration of Tregs, and an expression of IL-10 at the regional lymph nodes and the allergic contact areas.\"),\n",
       " (SecretedCytokine(Span(\"b'TNF-\\xce\\xb1'\", sentence=959684, chars=[45,49], words=[10,10]), Span(\"b'Th17'\", sentence=959684, chars=[0,3], words=[0,0])),\n",
       "  'Th17 cells may also secrete IL-6, IL-22, and TNF-α and play a critical role in protection against microbial challenges, particularly extracellular bacteria and fungi [].'),\n",
       " (SecretedCytokine(Span(\"b'IL-6'\", sentence=899169, chars=[26,29], words=[5,5]), Span(\"b'TH17'\", sentence=899169, chars=[0,3], words=[0,0])),\n",
       "  'TH17 cells are induced by IL-6 and TGF-β in a HIF-1α-dependent manner, they play an important role in autoimmune diseases [,].'),\n",
       " (SecretedCytokine(Span(\"b'IL-17'\", sentence=1796027, chars=[63,67], words=[9,9]), Span(\"b'Th17'\", sentence=1796027, chars=[97,100], words=[13,13])),\n",
       "  'Remarkably, studies identifying Th17 by means of intracellular IL-17 staining reported increased Th17 in PD patients, with the only exception of Cen et al.'),\n",
       " (SecretedCytokine(Span(\"b'IL-5'\", sentence=1107313, chars=[37,40], words=[6,6]), Span(\"b'Th2'\", sentence=1107313, chars=[65,67], words=[12,12])),\n",
       "  'Therefore, excessive cytokines IL-4, IL-5, and IL-13 produced by Th2 cells are significant risk factors in asthma pathogenesis [].'),\n",
       " (SecretedCytokine(Span(\"b'IL-12'\", sentence=905586, chars=[63,67], words=[10,10]), Span(\"b'Th1'\", sentence=905586, chars=[24,26], words=[4,4])),\n",
       "  'The mature DC polarizes Th1 responses though the production of IL-12 to contribute to liver inflammation as well as play a protective role against to fibrosis[, ].'),\n",
       " (SecretedCytokine(Span(\"b'IL-9'\", sentence=2242844, chars=[38,41], words=[6,6]), Span(\"b'Th9'\", sentence=2242844, chars=[73,75], words=[12,12])),\n",
       "  'Furthermore, loss of Foxo1 suppresses IL-9 production in mouse and human Th9 and Th17 cells and substantially ameliorates allergic inflammation in asthma.'),\n",
       " (SecretedCytokine(Span(\"b'IL-18'\", sentence=2066541, chars=[85,89], words=[16,16]), Span(\"b'Th2'\", sentence=2066541, chars=[46,48], words=[9,9])),\n",
       "  'Therefore, in a helminth infection in which a Th2 type immune response is important, IL-18 has a different role depending on the nematode type and may play an important role in host defense.\\n\\n')]"
      ]
     },
     "execution_count": 22,
     "metadata": {},
     "output_type": "execute_result"
    }
   ],
   "source": [
    "[\n",
    "    (c, c.get_parent().text) for c in \n",
    "    session.query(Candidate).filter(Candidate.id.in_([278083, 60695, 367475, 299321, 19321, 54598, 288078, 331541, 297000, 308685])).all()\n",
    "]"
   ]
  }
 ],
 "metadata": {
  "kernelspec": {
   "display_name": "Python 3",
   "language": "python",
   "name": "python3"
  },
  "language_info": {
   "codemirror_mode": {
    "name": "ipython",
    "version": 3
   },
   "file_extension": ".py",
   "mimetype": "text/x-python",
   "name": "python",
   "nbconvert_exporter": "python",
   "pygments_lexer": "ipython3",
   "version": "3.6.8"
  }
 },
 "nbformat": 4,
 "nbformat_minor": 2
}
