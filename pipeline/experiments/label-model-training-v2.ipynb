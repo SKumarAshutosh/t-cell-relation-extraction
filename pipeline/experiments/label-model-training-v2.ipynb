{
 "cells": [
  {
   "cell_type": "code",
   "execution_count": 1,
   "metadata": {},
   "outputs": [],
   "source": [
    "import os\n",
    "import os.path as osp\n",
    "import pandas as pd\n",
    "import numpy as np\n",
    "from snorkel import SnorkelSession\n",
    "from tcre.env import *\n",
    "from tcre.supervision import *\n",
    "from tcre.modeling import utils\n",
    "from tcre.modeling import features\n",
    "%matplotlib inline\n",
    "session = SnorkelSession()\n",
    "classes = get_candidate_classes()"
   ]
  },
  {
   "cell_type": "code",
   "execution_count": 2,
   "metadata": {},
   "outputs": [
    {
     "data": {
      "text/plain": [
       "673"
      ]
     },
     "execution_count": 2,
     "metadata": {},
     "output_type": "execute_result"
    }
   ],
   "source": [
    "from snorkel.models import Candidate, GoldLabel\n",
    "candidate_class = classes.inducing_cytokine\n",
    "cands = session.query(candidate_class.subclass)\\\n",
    "    .filter(candidate_class.subclass.split == SPLIT_DEV).all()\n",
    "len(cands)"
   ]
  },
  {
   "cell_type": "code",
   "execution_count": 3,
   "metadata": {},
   "outputs": [],
   "source": [
    "from tcre.modeling import features"
   ]
  },
  {
   "cell_type": "code",
   "execution_count": 5,
   "metadata": {},
   "outputs": [
    {
     "data": {
      "text/plain": [
       "(Span(\"b'IL-12'\", sentence=13515, chars=[0,4], words=[0,0]),\n",
       " Span(\"b'TH1'\", sentence=13515, chars=[122,124], words=[21,21]))"
      ]
     },
     "execution_count": 5,
     "metadata": {},
     "output_type": "execute_result"
    }
   ],
   "source": [
    "cands[0].get_contexts()\n"
   ]
  },
  {
   "cell_type": "code",
   "execution_count": 31,
   "metadata": {},
   "outputs": [
    {
     "data": {
      "text/plain": [
       "<module 'tcre.modeling.features' from '/lab/repos/t-cell-relation-extraction/src/tcre/modeling/features.py'>"
      ]
     },
     "execution_count": 31,
     "metadata": {},
     "output_type": "execute_result"
    }
   ],
   "source": [
    "import imp\n",
    "imp.reload(features)"
   ]
  },
  {
   "cell_type": "code",
   "execution_count": 17,
   "metadata": {},
   "outputs": [],
   "source": [
    "import spacy\n",
    "nlp = spacy.load('en_core_sci_md')"
   ]
  },
  {
   "cell_type": "code",
   "execution_count": 32,
   "metadata": {},
   "outputs": [
    {
     "data": {
      "text/html": [
       "<div>\n",
       "<style scoped>\n",
       "    .dataframe tbody tr th:only-of-type {\n",
       "        vertical-align: middle;\n",
       "    }\n",
       "\n",
       "    .dataframe tbody tr th {\n",
       "        vertical-align: top;\n",
       "    }\n",
       "\n",
       "    .dataframe thead th {\n",
       "        text-align: right;\n",
       "    }\n",
       "</style>\n",
       "<table border=\"1\" class=\"dataframe\">\n",
       "  <thead>\n",
       "    <tr style=\"text-align: right;\">\n",
       "      <th></th>\n",
       "      <th>id</th>\n",
       "      <th>label</th>\n",
       "      <th>e0_dist</th>\n",
       "      <th>e0_text</th>\n",
       "      <th>e1_dist</th>\n",
       "      <th>e1_text</th>\n",
       "      <th>token_indices</th>\n",
       "      <th>tokens</th>\n",
       "      <th>word_indices</th>\n",
       "    </tr>\n",
       "  </thead>\n",
       "  <tbody>\n",
       "    <tr>\n",
       "      <th>0</th>\n",
       "      <td>30167</td>\n",
       "      <td>1</td>\n",
       "      <td>[-1, -1, 0, 1, 1, 2, 3, 4, 5, 6, 7, 8, 9, 10, 11, 12, 13, 14, 15, 16, 17, 18, 19, 20, 21, 22, 22, 23, 24, 24, 25, 26, 27]</td>\n",
       "      <td>IL-12</td>\n",
       "      <td>[-24, -24, -23, -22, -22, -21, -20, -19, -18, -17, -16, -15, -14, -13, -12, -11, -10, -9, -8, -7, -6, -5, -4, -3, -2, -1, -1, 0, 1, 1, 2, 3, 4]</td>\n",
       "      <td>TH1</td>\n",
       "      <td>[0, 0, 1, 2, 2, 3, 4, 5, 6, 7, 8, 9, 10, 11, 12, 13, 14, 15, 16, 17, 18, 19, 20, 21, 22, 23, 23, 24, 25, 25, 26, 27, 28]</td>\n",
       "      <td>[&lt;, &lt;, IL-12, &gt;, &gt;, induces, not, only, Ifng, expression1, but, also, T, -, bet, ,,  , which, promotes, the, survival, and, proliferation, of, differentiating, [, [, TH1, ], ], cells, .,   ]</td>\n",
       "      <td>[None, None, 0, None, None, 1, 2, 3, 4, 5, 6, 7, 8, 9, 10, 11, 12, 13, 14, 15, 16, 17, 18, 19, 20, None, None, 21, None, None, 22, 23, 24]</td>\n",
       "    </tr>\n",
       "    <tr>\n",
       "      <th>1</th>\n",
       "      <td>30168</td>\n",
       "      <td>0</td>\n",
       "      <td>[-5, -4, -3, -2, -1, -1, 0, 1, 1, 2, 3, 4, 5, 6, 7, 8, 9, 10, 11, 12, 13, 14, 15, 16, 17, 18, 18, 19, 20, 20, 21, 22, 23]</td>\n",
       "      <td>Ifng</td>\n",
       "      <td>[-24, -23, -22, -21, -20, -20, -19, -18, -18, -17, -16, -15, -14, -13, -12, -11, -10, -9, -8, -7, -6, -5, -4, -3, -2, -1, -1, 0, 1, 1, 2, 3, 4]</td>\n",
       "      <td>TH1</td>\n",
       "      <td>[0, 1, 2, 3, 4, 4, 5, 6, 6, 7, 8, 9, 10, 11, 12, 13, 14, 15, 16, 17, 18, 19, 20, 21, 22, 23, 23, 24, 25, 25, 26, 27, 28]</td>\n",
       "      <td>[IL-12, induces, not, only, &lt;, &lt;, Ifng, &gt;, &gt;, expression1, but, also, T, -, bet, ,,  , which, promotes, the, survival, and, proliferation, of, differentiating, [, [, TH1, ], ], cells, .,   ]</td>\n",
       "      <td>[0, 1, 2, 3, None, None, 4, None, None, 5, 6, 7, 8, 9, 10, 11, 12, 13, 14, 15, 16, 17, 18, 19, 20, None, None, 21, None, None, 22, 23, 24]</td>\n",
       "    </tr>\n",
       "    <tr>\n",
       "      <th>2</th>\n",
       "      <td>30169</td>\n",
       "      <td>1</td>\n",
       "      <td>[-4, -3, -2, -1, -1, 0, 1, 1, 2, 3, 4, 5, 6, 7, 8, 9, 10, 11, 12, 13, 14, 15, 16, 17, 18, 18, 19, 20, 20, 21, 22, 23, 24, 25]</td>\n",
       "      <td>TGFβ</td>\n",
       "      <td>[-23, -22, -21, -20, -20, -19, -18, -18, -17, -16, -15, -14, -13, -12, -11, -10, -9, -8, -7, -6, -5, -4, -3, -2, -1, -1, 0, 1, 1, 2, 3, 4, 5, 6]</td>\n",
       "      <td>Th17</td>\n",
       "      <td>[0, 1, 2, 3, 3, 4, 5, 5, 6, 7, 8, 9, 10, 11, 12, 13, 14, 15, 16, 17, 18, 19, 20, 21, 22, 22, 23, 24, 24, 25, 26, 27, 28, 29]</td>\n",
       "      <td>[In, mice, ,, &lt;, &lt;, TGFβ, &gt;, &gt;, together, with, IL6, can, activate, antigen, -, responsive, naïve, CD4, +, T, cells, to, develop, into, [, [, Th17, ], ], cells, [, 39, ], .]</td>\n",
       "      <td>[0, 1, 2, None, None, 3, None, None, 4, 5, 6, 7, 8, 9, 10, 11, 12, 13, 14, 15, 16, 17, 18, 19, None, None, 20, None, None, 21, 22, 23, 24, 25]</td>\n",
       "    </tr>\n",
       "    <tr>\n",
       "      <th>3</th>\n",
       "      <td>30170</td>\n",
       "      <td>1</td>\n",
       "      <td>[-7, -6, -5, -4, -3, -2, -1, -1, 0, 1, 1, 2, 3, 4, 5, 6, 7, 8, 9, 10, 11, 12, 13, 14, 15, 15, 16, 17, 17, 18, 19, 20, 21, 22]</td>\n",
       "      <td>IL6</td>\n",
       "      <td>[-23, -22, -21, -20, -19, -18, -17, -17, -16, -15, -15, -14, -13, -12, -11, -10, -9, -8, -7, -6, -5, -4, -3, -2, -1, -1, 0, 1, 1, 2, 3, 4, 5, 6]</td>\n",
       "      <td>Th17</td>\n",
       "      <td>[0, 1, 2, 3, 4, 5, 6, 6, 7, 8, 8, 9, 10, 11, 12, 13, 14, 15, 16, 17, 18, 19, 20, 21, 22, 22, 23, 24, 24, 25, 26, 27, 28, 29]</td>\n",
       "      <td>[In, mice, ,, TGFβ, together, with, &lt;, &lt;, IL6, &gt;, &gt;, can, activate, antigen, -, responsive, naïve, CD4, +, T, cells, to, develop, into, [, [, Th17, ], ], cells, [, 39, ], .]</td>\n",
       "      <td>[0, 1, 2, 3, 4, 5, None, None, 6, None, None, 7, 8, 9, 10, 11, 12, 13, 14, 15, 16, 17, 18, 19, None, None, 20, None, None, 21, 22, 23, 24, 25]</td>\n",
       "    </tr>\n",
       "    <tr>\n",
       "      <th>4</th>\n",
       "      <td>30171</td>\n",
       "      <td>0</td>\n",
       "      <td>[-15, -14, -13, -12, -11, -10, -9, -8, -7, -6, -6, -5, -4, -4, -3, -2, -1, -1, 0, 1, 1, 2, 3, 4, 5, 6, 7, 8, 9, 10, 11, 12, 13, 14, 15, 16, 17, 18, 19, 20, 21, 22, 23, 24, 25, 26, 27, 28, 29, 30, 31, 32]</td>\n",
       "      <td>IL-12</td>\n",
       "      <td>[-10, -9, -8, -7, -6, -5, -4, -3, -2, -1, -1, 0, 1, 1, 2, 3, 4, 4, 5, 6, 6, 7, 8, 9, 10, 11, 12, 13, 14, 15, 16, 17, 18, 19, 20, 21, 22, 23, 24, 25, 26, 27, 28, 29, 30, 31, 32, 33, 34, 35, 36, 37]</td>\n",
       "      <td>Th1</td>\n",
       "      <td>[0, 1, 2, 3, 4, 5, 6, 7, 8, 9, 9, 10, 11, 11, 12, 13, 14, 14, 15, 16, 16, 17, 18, 19, 20, 21, 22, 23, 24, 25, 26, 27, 28, 29, 30, 31, 32, 33, 34, 35, 36, 37, 38, 39, 40, 41, 42, 43, 44, 45, 46, 47]</td>\n",
       "      <td>[Several, findings, suggest, that, during, the, initiation, of, a, [, [, Th1, ], ], response, ,, &lt;, &lt;, IL-12, &gt;, &gt;, is, produced, particularly, by, macrophages, in, response, to, certain, microbial, antigens, ,, while, NK, cells, are, the, main, ...</td>\n",
       "      <td>[0, 1, 2, 3, 4, 5, 6, 7, 8, None, None, 9, None, None, 10, 11, None, None, 12, None, None, 13, 14, 15, 16, 17, 18, 19, 20, 21, 22, 23, 24, 25, 26, 27, 28, 29, 30, 31, 32, 33, 34, 35, 36, 37, 38, 39, 40, 41, 42, 43]</td>\n",
       "    </tr>\n",
       "  </tbody>\n",
       "</table>\n",
       "</div>"
      ],
      "text/plain": [
       "      id  label  \\\n",
       "0  30167      1   \n",
       "1  30168      0   \n",
       "2  30169      1   \n",
       "3  30170      1   \n",
       "4  30171      0   \n",
       "\n",
       "                                                                                                                                                                                                       e0_dist  \\\n",
       "0                                                                                    [-1, -1, 0, 1, 1, 2, 3, 4, 5, 6, 7, 8, 9, 10, 11, 12, 13, 14, 15, 16, 17, 18, 19, 20, 21, 22, 22, 23, 24, 24, 25, 26, 27]   \n",
       "1                                                                                    [-5, -4, -3, -2, -1, -1, 0, 1, 1, 2, 3, 4, 5, 6, 7, 8, 9, 10, 11, 12, 13, 14, 15, 16, 17, 18, 18, 19, 20, 20, 21, 22, 23]   \n",
       "2                                                                                [-4, -3, -2, -1, -1, 0, 1, 1, 2, 3, 4, 5, 6, 7, 8, 9, 10, 11, 12, 13, 14, 15, 16, 17, 18, 18, 19, 20, 20, 21, 22, 23, 24, 25]   \n",
       "3                                                                                [-7, -6, -5, -4, -3, -2, -1, -1, 0, 1, 1, 2, 3, 4, 5, 6, 7, 8, 9, 10, 11, 12, 13, 14, 15, 15, 16, 17, 17, 18, 19, 20, 21, 22]   \n",
       "4  [-15, -14, -13, -12, -11, -10, -9, -8, -7, -6, -6, -5, -4, -4, -3, -2, -1, -1, 0, 1, 1, 2, 3, 4, 5, 6, 7, 8, 9, 10, 11, 12, 13, 14, 15, 16, 17, 18, 19, 20, 21, 22, 23, 24, 25, 26, 27, 28, 29, 30, 31, 32]   \n",
       "\n",
       "  e0_text  \\\n",
       "0   IL-12   \n",
       "1    Ifng   \n",
       "2    TGFβ   \n",
       "3     IL6   \n",
       "4   IL-12   \n",
       "\n",
       "                                                                                                                                                                                                e1_dist  \\\n",
       "0                                                       [-24, -24, -23, -22, -22, -21, -20, -19, -18, -17, -16, -15, -14, -13, -12, -11, -10, -9, -8, -7, -6, -5, -4, -3, -2, -1, -1, 0, 1, 1, 2, 3, 4]   \n",
       "1                                                       [-24, -23, -22, -21, -20, -20, -19, -18, -18, -17, -16, -15, -14, -13, -12, -11, -10, -9, -8, -7, -6, -5, -4, -3, -2, -1, -1, 0, 1, 1, 2, 3, 4]   \n",
       "2                                                      [-23, -22, -21, -20, -20, -19, -18, -18, -17, -16, -15, -14, -13, -12, -11, -10, -9, -8, -7, -6, -5, -4, -3, -2, -1, -1, 0, 1, 1, 2, 3, 4, 5, 6]   \n",
       "3                                                      [-23, -22, -21, -20, -19, -18, -17, -17, -16, -15, -15, -14, -13, -12, -11, -10, -9, -8, -7, -6, -5, -4, -3, -2, -1, -1, 0, 1, 1, 2, 3, 4, 5, 6]   \n",
       "4  [-10, -9, -8, -7, -6, -5, -4, -3, -2, -1, -1, 0, 1, 1, 2, 3, 4, 4, 5, 6, 6, 7, 8, 9, 10, 11, 12, 13, 14, 15, 16, 17, 18, 19, 20, 21, 22, 23, 24, 25, 26, 27, 28, 29, 30, 31, 32, 33, 34, 35, 36, 37]   \n",
       "\n",
       "  e1_text  \\\n",
       "0     TH1   \n",
       "1     TH1   \n",
       "2    Th17   \n",
       "3    Th17   \n",
       "4     Th1   \n",
       "\n",
       "                                                                                                                                                                                           token_indices  \\\n",
       "0                                                                               [0, 0, 1, 2, 2, 3, 4, 5, 6, 7, 8, 9, 10, 11, 12, 13, 14, 15, 16, 17, 18, 19, 20, 21, 22, 23, 23, 24, 25, 25, 26, 27, 28]   \n",
       "1                                                                               [0, 1, 2, 3, 4, 4, 5, 6, 6, 7, 8, 9, 10, 11, 12, 13, 14, 15, 16, 17, 18, 19, 20, 21, 22, 23, 23, 24, 25, 25, 26, 27, 28]   \n",
       "2                                                                           [0, 1, 2, 3, 3, 4, 5, 5, 6, 7, 8, 9, 10, 11, 12, 13, 14, 15, 16, 17, 18, 19, 20, 21, 22, 22, 23, 24, 24, 25, 26, 27, 28, 29]   \n",
       "3                                                                           [0, 1, 2, 3, 4, 5, 6, 6, 7, 8, 8, 9, 10, 11, 12, 13, 14, 15, 16, 17, 18, 19, 20, 21, 22, 22, 23, 24, 24, 25, 26, 27, 28, 29]   \n",
       "4  [0, 1, 2, 3, 4, 5, 6, 7, 8, 9, 9, 10, 11, 11, 12, 13, 14, 14, 15, 16, 16, 17, 18, 19, 20, 21, 22, 23, 24, 25, 26, 27, 28, 29, 30, 31, 32, 33, 34, 35, 36, 37, 38, 39, 40, 41, 42, 43, 44, 45, 46, 47]   \n",
       "\n",
       "                                                                                                                                                                                                                                                      tokens  \\\n",
       "0                                                             [<, <, IL-12, >, >, induces, not, only, Ifng, expression1, but, also, T, -, bet, ,,  , which, promotes, the, survival, and, proliferation, of, differentiating, [, [, TH1, ], ], cells, .,   ]   \n",
       "1                                                             [IL-12, induces, not, only, <, <, Ifng, >, >, expression1, but, also, T, -, bet, ,,  , which, promotes, the, survival, and, proliferation, of, differentiating, [, [, TH1, ], ], cells, .,   ]   \n",
       "2                                                                              [In, mice, ,, <, <, TGFβ, >, >, together, with, IL6, can, activate, antigen, -, responsive, naïve, CD4, +, T, cells, to, develop, into, [, [, Th17, ], ], cells, [, 39, ], .]   \n",
       "3                                                                              [In, mice, ,, TGFβ, together, with, <, <, IL6, >, >, can, activate, antigen, -, responsive, naïve, CD4, +, T, cells, to, develop, into, [, [, Th17, ], ], cells, [, 39, ], .]   \n",
       "4  [Several, findings, suggest, that, during, the, initiation, of, a, [, [, Th1, ], ], response, ,, <, <, IL-12, >, >, is, produced, particularly, by, macrophages, in, response, to, certain, microbial, antigens, ,, while, NK, cells, are, the, main, ...   \n",
       "\n",
       "                                                                                                                                                                                                             word_indices  \n",
       "0                                                                              [None, None, 0, None, None, 1, 2, 3, 4, 5, 6, 7, 8, 9, 10, 11, 12, 13, 14, 15, 16, 17, 18, 19, 20, None, None, 21, None, None, 22, 23, 24]  \n",
       "1                                                                              [0, 1, 2, 3, None, None, 4, None, None, 5, 6, 7, 8, 9, 10, 11, 12, 13, 14, 15, 16, 17, 18, 19, 20, None, None, 21, None, None, 22, 23, 24]  \n",
       "2                                                                          [0, 1, 2, None, None, 3, None, None, 4, 5, 6, 7, 8, 9, 10, 11, 12, 13, 14, 15, 16, 17, 18, 19, None, None, 20, None, None, 21, 22, 23, 24, 25]  \n",
       "3                                                                          [0, 1, 2, 3, 4, 5, None, None, 6, None, None, 7, 8, 9, 10, 11, 12, 13, 14, 15, 16, 17, 18, 19, None, None, 20, None, None, 21, 22, 23, 24, 25]  \n",
       "4  [0, 1, 2, 3, 4, 5, 6, 7, 8, None, None, 9, None, None, 10, 11, None, None, 12, None, None, 13, 14, 15, 16, 17, 18, 19, 20, 21, 22, 23, 24, 25, 26, 27, 28, 29, 30, 31, 32, 33, 34, 35, 36, 37, 38, 39, 40, 41, 42, 43]  "
      ]
     },
     "execution_count": 32,
     "metadata": {},
     "output_type": "execute_result"
    }
   ],
   "source": [
    "pd.set_option('display.max_colwidth', 250)\n",
    "markers = ['<<', '>>', '[[', ']]']\n",
    "#df = features.get_record_features(features.candidates_to_records(cands), markers=markers)\n",
    "df = features.get_record_features(features.candidates_to_records(cands)[:10], markers=markers, subtokenizer=lambda t: [str(v) for v in nlp(t)])\n",
    "\n",
    "df.head()"
   ]
  },
  {
   "cell_type": "code",
   "execution_count": 76,
   "metadata": {},
   "outputs": [],
   "source": [
    "from tcre.modeling import data as tcre_data"
   ]
  },
  {
   "cell_type": "code",
   "execution_count": 84,
   "metadata": {},
   "outputs": [],
   "source": [
    "fields = {\n",
    "    'text': txd.Field(lower=False, fix_length=128, include_lengths=True, tokenize=lambda seq: list(map(str, nlp(seq)))),\n",
    "    'label': txd.Field(sequential=False)\n",
    "}\n",
    "dfds = tcre_data.DataFrameDataset(df, fields)\n",
    "fields['label'].build_vocab(dfds)"
   ]
  },
  {
   "cell_type": "code",
   "execution_count": 85,
   "metadata": {},
   "outputs": [],
   "source": [
    "ds_train, ds_val = dfds.split(stratified=True, strata_field='label')"
   ]
  },
  {
   "cell_type": "code",
   "execution_count": 86,
   "metadata": {},
   "outputs": [],
   "source": [
    "fields['text'].vocab = w2vocab"
   ]
  },
  {
   "cell_type": "code",
   "execution_count": 90,
   "metadata": {},
   "outputs": [
    {
     "data": {
      "text/plain": [
       "tensor([[   129,      3, 184891,  ...,      0,      0,      0],\n",
       "        [ 14186,   5830,     51,  ...,      0,      0,      0],\n",
       "        [ 19664,     87,    937,  ...,      0,      0,      0],\n",
       "        ...,\n",
       "        [ 30981,      5,      2,  ...,      0,      0,      0],\n",
       "        [    34,    212,      3,  ...,      0,      0,      0],\n",
       "        [ 19664,      9, 265456,  ...,      0,      0,      0]])"
      ]
     },
     "execution_count": 90,
     "metadata": {},
     "output_type": "execute_result"
    }
   ],
   "source": [
    "next(iter(Iterator(ds_train, 10))).text[0].t()"
   ]
  },
  {
   "cell_type": "code",
   "execution_count": 30,
   "metadata": {},
   "outputs": [
    {
     "data": {
      "text/plain": [
       "0    494\n",
       "1    179\n",
       "Name: label, dtype: int64"
      ]
     },
     "execution_count": 30,
     "metadata": {},
     "output_type": "execute_result"
    }
   ],
   "source": [
    "df['label'].value_counts()"
   ]
  },
  {
   "cell_type": "code",
   "execution_count": 31,
   "metadata": {},
   "outputs": [],
   "source": [
    "df[['text', 'label']].to_csv('/tmp/data.csv', index=False)"
   ]
  },
  {
   "cell_type": "code",
   "execution_count": 32,
   "metadata": {},
   "outputs": [],
   "source": [
    "from torchtext import data as txd\n",
    "TEXT = txd.Field(lower=False, fix_length=128, include_lengths=True, tokenize=lambda seq: list(map(str, nlp(seq))))\n",
    "LABEL = txd.Field(sequential=False)\n",
    "# POS1 = txd.Field(sequential=False)\n",
    "# POS2 = txd.Field(sequential=False)"
   ]
  },
  {
   "cell_type": "code",
   "execution_count": 6,
   "metadata": {},
   "outputs": [
    {
     "name": "stderr",
     "output_type": "stream",
     "text": [
      "/opt/conda/envs/nlp/lib/python3.6/site-packages/sklearn/externals/joblib/__init__.py:15: DeprecationWarning: sklearn.externals.joblib is deprecated in 0.21 and will be removed in 0.23. Please import this functionality directly from joblib, which can be installed with: pip install joblib. If this warning is raised when loading pickled models, you may need to re-serialize those models with scikit-learn 0.21+.\n",
      "  warnings.warn(msg, category=DeprecationWarning)\n"
     ]
    }
   ],
   "source": [
    "import word2vec\n",
    "w2v_model = word2vec.load(W2V_MODEL_01)"
   ]
  },
  {
   "cell_type": "code",
   "execution_count": 7,
   "metadata": {},
   "outputs": [],
   "source": [
    "# from torchtext.vocab import Vectors\n",
    "# vectors = Vectors(name=W2V_MODEL_01, cache='/lab/data/word2vec')"
   ]
  },
  {
   "cell_type": "code",
   "execution_count": 8,
   "metadata": {},
   "outputs": [],
   "source": [
    "import torch\n",
    "import numpy as np\n",
    "from torchtext.vocab import Vocab\n",
    "from collections import defaultdict, Counter\n",
    "    \n",
    "class W2VVocab(Vocab):\n",
    "    \n",
    "    def __init__(self, model, specials=['<pad>'], unk_init=np.zeros):\n",
    "        super().__init__(Counter())\n",
    "        self.itos = specials + list(model.vocab)\n",
    "        \n",
    "        unk_index = model.ix('UNK')\n",
    "        def get_unk_index():\n",
    "            return unk_index\n",
    "        self.stoi = defaultdict(get_unk_index)\n",
    "        self.stoi.update({w: i for i, w in enumerate(self.itos)})\n",
    "        self.vectors = torch.cat([\n",
    "            torch.FloatTensor(np.zeros((len(specials), model.vectors.shape[1]))),\n",
    "            torch.FloatTensor(model.vectors)\n",
    "        ], dim=0)\n",
    "        \n",
    "w2vocab = W2VVocab(w2v_model)"
   ]
  },
  {
   "cell_type": "code",
   "execution_count": 33,
   "metadata": {},
   "outputs": [],
   "source": [
    "TEXT.vocab = w2vocab"
   ]
  },
  {
   "cell_type": "code",
   "execution_count": 34,
   "metadata": {},
   "outputs": [],
   "source": [
    "# vocab = TEXT.vocab\n",
    "# self.embed = nn.Embedding(len(vocab), emb_dim)\n",
    "# self.embed.weight.data.copy_(vocab.vectors)"
   ]
  },
  {
   "cell_type": "code",
   "execution_count": 35,
   "metadata": {},
   "outputs": [],
   "source": [
    "#??TEXT.pad"
   ]
  },
  {
   "cell_type": "code",
   "execution_count": 36,
   "metadata": {},
   "outputs": [],
   "source": [
    "#TEXT.process([['I', 'went', 'somewhere']])"
   ]
  },
  {
   "cell_type": "code",
   "execution_count": 37,
   "metadata": {},
   "outputs": [],
   "source": [
    "# ds = txd.TabularDataset('/tmp/data.csv', fields=[('text', TEXT), ('label', LABEL)], format='csv', skip_header=True)\n",
    "# LABEL.build_vocab(ds)"
   ]
  },
  {
   "cell_type": "code",
   "execution_count": 38,
   "metadata": {},
   "outputs": [],
   "source": [
    "ds_train, ds_val = ds.split(stratified=True, strata_field='label')"
   ]
  },
  {
   "cell_type": "code",
   "execution_count": 39,
   "metadata": {},
   "outputs": [
    {
     "data": {
      "text/plain": [
       "(471, 202)"
      ]
     },
     "execution_count": 39,
     "metadata": {},
     "output_type": "execute_result"
    }
   ],
   "source": [
    "len(ds_train), len(ds_val)"
   ]
  },
  {
   "cell_type": "code",
   "execution_count": 40,
   "metadata": {},
   "outputs": [
    {
     "data": {
      "text/plain": [
       "(0    148\n",
       " 1     54\n",
       " dtype: int64, 0    346\n",
       " 1    125\n",
       " dtype: int64)"
      ]
     },
     "execution_count": 40,
     "metadata": {},
     "output_type": "execute_result"
    }
   ],
   "source": [
    "pd.Series(list(ds_val.label)).value_counts(), pd.Series(list(ds_train.label)).value_counts()"
   ]
  },
  {
   "cell_type": "code",
   "execution_count": 41,
   "metadata": {},
   "outputs": [],
   "source": [
    "from torchtext.data import Iterator, BucketIterator\n",
    "train_iter, val_iter = BucketIterator.splits(\n",
    "    (ds_train, ds_val), # we pass in the datasets we want the iterator to draw data from\n",
    "    batch_sizes=(32, 32),\n",
    "    sort_key=lambda x: len(x.text), # the BucketIterator needs to be told what function it should use to group the data.\n",
    "    sort_within_batch=True,\n",
    "    repeat=False, # we pass repeat=False because we want to wrap this Iterator layer.d\n",
    "    device='cuda'\n",
    ")\n",
    "#ds_iter = txd.Iterator(ds, 10, sort_within_batch=True, sort_key=lambda x: len(x.text), device='cuda')"
   ]
  },
  {
   "cell_type": "code",
   "execution_count": 42,
   "metadata": {},
   "outputs": [],
   "source": [
    "b = next(iter(train_iter))"
   ]
  },
  {
   "cell_type": "code",
   "execution_count": 43,
   "metadata": {},
   "outputs": [
    {
     "data": {
      "text/plain": [
       "tensor([[4981, 5018,  324,  ...,    2,   70,  901],\n",
       "        [ 979, 9082, 1293,  ...,    0,    0,    0],\n",
       "        [ 979, 9082, 1293,  ...,    0,    0,    0],\n",
       "        ...,\n",
       "        [ 193,  653,    3,  ...,    0,    0,    0],\n",
       "        [ 193,  653,    3,  ...,    0,    0,    0],\n",
       "        [ 193,  653,    3,  ...,    0,    0,    0]], device='cuda:0')"
      ]
     },
     "execution_count": 43,
     "metadata": {},
     "output_type": "execute_result"
    }
   ],
   "source": [
    "b.text[0].t()"
   ]
  },
  {
   "cell_type": "code",
   "execution_count": 63,
   "metadata": {},
   "outputs": [],
   "source": [
    "# for t in nlp(str(ds.examples[0].text)):\n",
    "#     print(t)"
   ]
  },
  {
   "cell_type": "code",
   "execution_count": 84,
   "metadata": {},
   "outputs": [
    {
     "data": {
      "text/plain": [
       "dict_keys(['text', 'label'])"
      ]
     },
     "execution_count": 84,
     "metadata": {},
     "output_type": "execute_result"
    }
   ],
   "source": [
    "b.fields"
   ]
  },
  {
   "cell_type": "code",
   "execution_count": 90,
   "metadata": {},
   "outputs": [
    {
     "data": {
      "text/plain": [
       "{'text': <torchtext.data.field.Field at 0x7f716f590be0>,\n",
       " 'label': <torchtext.data.field.Field at 0x7f716f590898>}"
      ]
     },
     "execution_count": 90,
     "metadata": {},
     "output_type": "execute_result"
    }
   ],
   "source": [
    "b.dataset.fields"
   ]
  },
  {
   "cell_type": "markdown",
   "metadata": {},
   "source": [
    "### Set Model"
   ]
  },
  {
   "cell_type": "code",
   "execution_count": 44,
   "metadata": {},
   "outputs": [],
   "source": [
    "import torch\n",
    "import torch.nn as nn\n",
    "from torch.nn.utils.rnn import pack_padded_sequence\n",
    "import torch.optim as optim"
   ]
  },
  {
   "cell_type": "code",
   "execution_count": 46,
   "metadata": {},
   "outputs": [],
   "source": [
    "class RNN(nn.Module):\n",
    "\n",
    "    def __init__(self, fields, cardinality=2, hidden_dim=50, num_layers=1, cell_type=nn.LSTM, \n",
    "                 dropout=0, bidirectional=False, device=None, names=['text', 'label']):\n",
    "        super().__init__()\n",
    "        self.fields = fields\n",
    "        self.cardinality = cardinality\n",
    "        self.hidden_dim = hidden_dim\n",
    "        self.num_layers = num_layers\n",
    "        self.dropout = dropout\n",
    "        self.bidirectional = bidirectional\n",
    "        self.num_directions = 2 if self.bidirectional else 1\n",
    "        self.cell_type = cell_type\n",
    "        self.device = device\n",
    "        self.names = names\n",
    "        \n",
    "        self._init_embedding()\n",
    "        self._init_cell()\n",
    "        self.output = nn.Linear(self.hidden_dim * self.num_directions, self.cardinality if self.cardinality > 2 else 1)\n",
    "        self.dropout = nn.Dropout(p=dropout)\n",
    "        \n",
    "    def _init_embedding(self):\n",
    "        vectors = self.fields[self.names[0]].vocab.vectors\n",
    "        self.embedding = nn.Embedding.from_pretrained(vectors, padding_idx=0)\n",
    "        self.embedding.weight.requires_grad = False\n",
    "        self.embedding_shape = tuple(vectors.shape)\n",
    "        \n",
    "    def _init_cell(self):\n",
    "        self.cell = self.cell_type(\n",
    "            self.embedding_shape[1], self.hidden_dim,\n",
    "            num_layers=self.num_layers, bidirectional=self.bidirectional,\n",
    "            dropout=self.dropout, batch_first=True\n",
    "        )\n",
    "\n",
    "    def prepare(self, batch, **kwargs):\n",
    "        \"\"\"Extract seq token indices, seq lengths, and training labels\"\"\"\n",
    "        text, label = [getattr(batch, n) if n in batch.fields else None for n in self.names]\n",
    "        X, L = text[0].t(), text[1]\n",
    "        Y = None if label is None else (label - 1).type(torch.FloatTensor).to(self.device)\n",
    "        return (X.to(self.device), L.to(self.device)), Y\n",
    "    \n",
    "    def transform(self, Y):\n",
    "        return torch.sigmoid(Y) if self.cardinality == 2 else torch.softmax(Y)\n",
    "\n",
    "    def classify(self, Y):\n",
    "        return torch.round(Y) if self.cardinality == 2 else torch.argmax(Y, dim=0)\n",
    "    \n",
    "    def forward(self, features):\n",
    "        X, L = features\n",
    "        H = self.initial_hidden_state(len(X))\n",
    "        X = self.embedding(X)\n",
    "        L = L.view(-1).tolist()\n",
    "        X = nn.utils.rnn.pack_padded_sequence(X, L, batch_first=True)    \n",
    "        ht = self.cell(X, H)[1]\n",
    "        ht = ht[0] if isinstance(ht, tuple) else ht\n",
    "        Y = ht[-1] if self.num_directions == 1 else torch.cat((ht[0], ht[1]), dim=1)\n",
    "        Y = self.output(self.dropout(Y))\n",
    "        return Y.view(-1) if self.cardinality == 2 else Y\n",
    "\n",
    "    def initial_hidden_state(self, batch_size):\n",
    "        def get_h0():\n",
    "            return torch.zeros(self.num_layers * self.num_directions, batch_size, self.hidden_dim).to(self.device) \n",
    "        \n",
    "        if self.cell_type == nn.GRU:\n",
    "            return get_h0()\n",
    "        elif self.cell_type == nn.LSTM:\n",
    "            return tuple([get_h0(), get_h0()])\n",
    "        else:\n",
    "            raise ValueError(f'RNN type {self.cell_type.__name__} not supported')\n",
    "\n",
    "#model = RNN(ds.fields, dropout=0, hidden_dim=30, bidirectional=True, device='cuda') # underfit\n",
    "#model = RNN(ds.fields, dropout=0, hidden_dim=100, bidirectional=True, device='cuda') # mild overfitting\n",
    "model = RNN(ds.fields, dropout=0, hidden_dim=100, bidirectional=False, device='cuda', cell_type=nn.GRU) "
   ]
  },
  {
   "cell_type": "code",
   "execution_count": null,
   "metadata": {},
   "outputs": [],
   "source": [
    "# output, hn = rnn(input, h0\n",
    "# output, (hn, cn) \n",
    "#nn.LSTM()"
   ]
  },
  {
   "cell_type": "code",
   "execution_count": 45,
   "metadata": {},
   "outputs": [],
   "source": [
    "del model\n",
    "torch.cuda.empty_cache()"
   ]
  },
  {
   "cell_type": "code",
   "execution_count": 47,
   "metadata": {},
   "outputs": [],
   "source": [
    "from torch.optim.lr_scheduler import ReduceLROnPlateau\n",
    "from ignite.contrib.handlers.param_scheduler import LRScheduler\n",
    "\n",
    "optimizer = optim.Adam([p for p in model.parameters() if p.requires_grad], .01)\n",
    "scheduler = ReduceLROnPlateau(optimizer, mode='min', factor=0.25, patience=25, threshold=0.01, verbose=True)\n",
    "criterion = nn.BCEWithLogitsLoss()"
   ]
  },
  {
   "cell_type": "code",
   "execution_count": 48,
   "metadata": {},
   "outputs": [],
   "source": [
    "from ignite.engine import Events, Engine, create_supervised_trainer, create_supervised_evaluator\n",
    "from ignite.metrics import Accuracy, Loss, Precision, Recall, Metric, MetricsLambda\n",
    "from ignite.handlers import EarlyStopping\n",
    "\n",
    "trainer = create_supervised_trainer(\n",
    "    model, optimizer, criterion, \n",
    "    device=model.device, prepare_batch=model.prepare\n",
    ")\n",
    "\n",
    "def F1(r, p):\n",
    "        return 2 * (p * r) / (p + r + 1e-20)\n",
    "\n",
    "def get_metrics():\n",
    "    metrics = {\n",
    "        'accuracy': Accuracy(), \n",
    "        'precision': Precision(average=False),\n",
    "        'recall': Recall(average=False),\n",
    "        'loss': Loss(criterion)\n",
    "    }\n",
    "    metrics['f1'] = MetricsLambda(F1, metrics['recall'], metrics['precision'])\n",
    "    return metrics\n",
    "\n",
    "def get_evaluator():\n",
    "    return create_supervised_evaluator(\n",
    "        model, metrics=get_metrics(), prepare_batch=model.prepare, device=model.device,\n",
    "        output_transform=lambda x, y, y_pred: (model.classify(model.transform(y_pred)), y)\n",
    "    )\n",
    "train_evaluator = get_evaluator()\n",
    "val_evaluator = get_evaluator()\n",
    "\n",
    "def score_function(engine):\n",
    "    return -engine.state.metrics['loss']\n",
    "\n",
    "handler = EarlyStopping(patience=50, score_function=score_function, trainer=trainer)\n",
    "val_evaluator.add_event_handler(Events.EPOCH_COMPLETED, handler)\n",
    "    \n",
    "history = []\n",
    "\n",
    "@trainer.on(Events.ITERATION_COMPLETED)\n",
    "def log_training_loss(engine):\n",
    "    if engine.state.iteration % 10 == 0:\n",
    "        lr = optimizer.param_groups[0]['lr']\n",
    "        print(\"Epoch[{}] Iteration[{}] Loss: {:.4f} LR: {}\".format(engine.state.epoch, engine.state.iteration, engine.state.output, lr))\n",
    "\n",
    "def log_results(engine, iterator, dataset_type, epoch):\n",
    "    engine.run(iterator)\n",
    "    metrics = dict(engine.state.metrics)\n",
    "    precision, recall = metrics['precision'], metrics['recall']\n",
    "    metrics['ct'] = len(iterator.dataset)\n",
    "    metrics['lr'] = optimizer.param_groups[0]['lr']\n",
    "    record = {**metrics, **{'type': dataset_type.title(), 'epoch': epoch}}\n",
    "    history.append(record)\n",
    "    print('{type} Results - Epoch: {epoch}  Count: {ct} Loss: {loss:.2f} Accuracy: {accuracy:.3f} F1: {f1:.3f}'.format(**record))\n",
    "    return metrics\n",
    "    \n",
    "@trainer.on(Events.EPOCH_COMPLETED)\n",
    "def log_training_results(engine):\n",
    "    epoch = engine.state.epoch\n",
    "    metric = log_results(train_evaluator, train_iter, 'training', epoch)['loss']\n",
    "    # scheduler.step(metric)\n",
    "    metric = log_results(val_evaluator, val_iter, 'validation', epoch)['f1']\n",
    "    scheduler.step(metric) "
   ]
  },
  {
   "cell_type": "code",
   "execution_count": 49,
   "metadata": {},
   "outputs": [
    {
     "name": "stdout",
     "output_type": "stream",
     "text": [
      "Epoch[1] Iteration[10] Loss: 0.3674 LR: 0.01\n",
      "Training Results - Epoch: 1  Count: 471 Loss: 1.05 Accuracy: 0.265 F1: 0.419\n",
      "Validation Results - Epoch: 1  Count: 202 Loss: 1.05 Accuracy: 0.267 F1: 0.422\n",
      "Epoch[2] Iteration[20] Loss: 0.9211 LR: 0.01\n",
      "Epoch[2] Iteration[30] Loss: 0.3370 LR: 0.01\n",
      "Training Results - Epoch: 2  Count: 471 Loss: 0.69 Accuracy: 0.735 F1: 0.000\n",
      "Validation Results - Epoch: 2  Count: 202 Loss: 0.69 Accuracy: 0.733 F1: 0.000\n",
      "Epoch[3] Iteration[40] Loss: 0.5567 LR: 0.01\n",
      "Training Results - Epoch: 3  Count: 471 Loss: 0.65 Accuracy: 0.849 F1: 0.603\n",
      "Validation Results - Epoch: 3  Count: 202 Loss: 0.65 Accuracy: 0.847 F1: 0.597\n",
      "Epoch[4] Iteration[50] Loss: 0.4048 LR: 0.01\n",
      "Epoch[4] Iteration[60] Loss: 0.6478 LR: 0.01\n",
      "Training Results - Epoch: 4  Count: 471 Loss: 0.65 Accuracy: 0.849 F1: 0.620\n",
      "Validation Results - Epoch: 4  Count: 202 Loss: 0.65 Accuracy: 0.847 F1: 0.617\n",
      "Epoch[5] Iteration[70] Loss: 0.3409 LR: 0.01\n",
      "Training Results - Epoch: 5  Count: 471 Loss: 0.65 Accuracy: 0.856 F1: 0.626\n",
      "Validation Results - Epoch: 5  Count: 202 Loss: 0.65 Accuracy: 0.856 F1: 0.633\n",
      "Epoch[6] Iteration[80] Loss: 0.3833 LR: 0.01\n",
      "Epoch[6] Iteration[90] Loss: 0.0191 LR: 0.01\n",
      "Training Results - Epoch: 6  Count: 471 Loss: 0.62 Accuracy: 0.932 F1: 0.862\n",
      "Validation Results - Epoch: 6  Count: 202 Loss: 0.62 Accuracy: 0.926 F1: 0.842\n",
      "Epoch[7] Iteration[100] Loss: 0.2899 LR: 0.01\n",
      "Training Results - Epoch: 7  Count: 471 Loss: 0.63 Accuracy: 0.898 F1: 0.762\n",
      "Validation Results - Epoch: 7  Count: 202 Loss: 0.63 Accuracy: 0.901 F1: 0.773\n",
      "Epoch[8] Iteration[110] Loss: 0.0201 LR: 0.01\n",
      "Epoch[8] Iteration[120] Loss: 0.2462 LR: 0.01\n",
      "Training Results - Epoch: 8  Count: 471 Loss: 0.62 Accuracy: 0.949 F1: 0.902\n",
      "Validation Results - Epoch: 8  Count: 202 Loss: 0.63 Accuracy: 0.916 F1: 0.835\n",
      "Epoch[9] Iteration[130] Loss: 0.0207 LR: 0.01\n",
      "Training Results - Epoch: 9  Count: 471 Loss: 0.61 Accuracy: 0.945 F1: 0.884\n",
      "Validation Results - Epoch: 9  Count: 202 Loss: 0.62 Accuracy: 0.931 F1: 0.851\n",
      "Epoch[10] Iteration[140] Loss: 0.0045 LR: 0.01\n",
      "Epoch[10] Iteration[150] Loss: 0.0559 LR: 0.01\n",
      "Training Results - Epoch: 10  Count: 471 Loss: 0.61 Accuracy: 0.977 F1: 0.957\n",
      "Validation Results - Epoch: 10  Count: 202 Loss: 0.63 Accuracy: 0.931 F1: 0.877\n",
      "Epoch[11] Iteration[160] Loss: 0.0751 LR: 0.01\n",
      "Training Results - Epoch: 11  Count: 471 Loss: 0.60 Accuracy: 0.977 F1: 0.954\n",
      "Validation Results - Epoch: 11  Count: 202 Loss: 0.61 Accuracy: 0.960 F1: 0.922\n",
      "Epoch[12] Iteration[170] Loss: 0.0054 LR: 0.01\n",
      "Epoch[12] Iteration[180] Loss: 0.0561 LR: 0.01\n",
      "Training Results - Epoch: 12  Count: 471 Loss: 0.61 Accuracy: 0.970 F1: 0.947\n",
      "Validation Results - Epoch: 12  Count: 202 Loss: 0.63 Accuracy: 0.936 F1: 0.893\n",
      "Epoch[13] Iteration[190] Loss: 0.1095 LR: 0.01\n",
      "Training Results - Epoch: 13  Count: 471 Loss: 0.60 Accuracy: 0.983 F1: 0.967\n",
      "Validation Results - Epoch: 13  Count: 202 Loss: 0.61 Accuracy: 0.965 F1: 0.932\n",
      "Epoch[14] Iteration[200] Loss: 0.0571 LR: 0.01\n",
      "Epoch[14] Iteration[210] Loss: 0.0038 LR: 0.01\n",
      "Training Results - Epoch: 14  Count: 471 Loss: 0.59 Accuracy: 0.998 F1: 0.996\n",
      "Validation Results - Epoch: 14  Count: 202 Loss: 0.60 Accuracy: 0.980 F1: 0.963\n",
      "Epoch[15] Iteration[220] Loss: 0.0355 LR: 0.01\n",
      "Training Results - Epoch: 15  Count: 471 Loss: 0.59 Accuracy: 0.998 F1: 0.996\n",
      "Validation Results - Epoch: 15  Count: 202 Loss: 0.60 Accuracy: 0.990 F1: 0.981\n",
      "Epoch[16] Iteration[230] Loss: 0.0138 LR: 0.01\n",
      "Epoch[16] Iteration[240] Loss: 0.0420 LR: 0.01\n",
      "Training Results - Epoch: 16  Count: 471 Loss: 0.60 Accuracy: 0.994 F1: 0.988\n",
      "Validation Results - Epoch: 16  Count: 202 Loss: 0.61 Accuracy: 0.960 F1: 0.929\n",
      "Epoch[17] Iteration[250] Loss: 0.0929 LR: 0.01\n",
      "Training Results - Epoch: 17  Count: 471 Loss: 0.60 Accuracy: 0.985 F1: 0.972\n",
      "Validation Results - Epoch: 17  Count: 202 Loss: 0.61 Accuracy: 0.955 F1: 0.914\n",
      "Epoch[18] Iteration[260] Loss: 0.0246 LR: 0.01\n",
      "Epoch[18] Iteration[270] Loss: 0.1105 LR: 0.01\n",
      "Training Results - Epoch: 18  Count: 471 Loss: 0.59 Accuracy: 0.996 F1: 0.992\n",
      "Validation Results - Epoch: 18  Count: 202 Loss: 0.61 Accuracy: 0.965 F1: 0.937\n",
      "Epoch[19] Iteration[280] Loss: 0.0440 LR: 0.01\n",
      "Training Results - Epoch: 19  Count: 471 Loss: 0.59 Accuracy: 0.998 F1: 0.996\n",
      "Validation Results - Epoch: 19  Count: 202 Loss: 0.61 Accuracy: 0.970 F1: 0.945\n",
      "Epoch[20] Iteration[290] Loss: 0.0269 LR: 0.01\n",
      "Epoch[20] Iteration[300] Loss: 0.0009 LR: 0.01\n",
      "Training Results - Epoch: 20  Count: 471 Loss: 0.59 Accuracy: 1.000 F1: 1.000\n",
      "Validation Results - Epoch: 20  Count: 202 Loss: 0.61 Accuracy: 0.970 F1: 0.945\n",
      "Epoch[21] Iteration[310] Loss: 0.0452 LR: 0.01\n",
      "Training Results - Epoch: 21  Count: 471 Loss: 0.59 Accuracy: 1.000 F1: 1.000\n",
      "Validation Results - Epoch: 21  Count: 202 Loss: 0.61 Accuracy: 0.970 F1: 0.945\n",
      "Epoch[22] Iteration[320] Loss: 0.0165 LR: 0.01\n",
      "Epoch[22] Iteration[330] Loss: 0.0088 LR: 0.01\n",
      "Training Results - Epoch: 22  Count: 471 Loss: 0.59 Accuracy: 1.000 F1: 1.000\n",
      "Validation Results - Epoch: 22  Count: 202 Loss: 0.61 Accuracy: 0.970 F1: 0.945\n",
      "Epoch[23] Iteration[340] Loss: 0.0004 LR: 0.01\n",
      "Training Results - Epoch: 23  Count: 471 Loss: 0.59 Accuracy: 1.000 F1: 1.000\n",
      "Validation Results - Epoch: 23  Count: 202 Loss: 0.61 Accuracy: 0.970 F1: 0.945\n",
      "Epoch[24] Iteration[350] Loss: 0.0045 LR: 0.01\n",
      "Epoch[24] Iteration[360] Loss: 0.0144 LR: 0.01\n",
      "Training Results - Epoch: 24  Count: 471 Loss: 0.59 Accuracy: 1.000 F1: 1.000\n",
      "Validation Results - Epoch: 24  Count: 202 Loss: 0.61 Accuracy: 0.970 F1: 0.945\n",
      "Epoch[25] Iteration[370] Loss: 0.0077 LR: 0.01\n",
      "Training Results - Epoch: 25  Count: 471 Loss: 0.59 Accuracy: 1.000 F1: 1.000\n",
      "Validation Results - Epoch: 25  Count: 202 Loss: 0.61 Accuracy: 0.970 F1: 0.945\n",
      "Epoch[26] Iteration[380] Loss: 0.0020 LR: 0.01\n",
      "Epoch[26] Iteration[390] Loss: 0.0254 LR: 0.01\n",
      "Training Results - Epoch: 26  Count: 471 Loss: 0.60 Accuracy: 0.985 F1: 0.973\n",
      "Validation Results - Epoch: 26  Count: 202 Loss: 0.63 Accuracy: 0.941 F1: 0.897\n",
      "Epoch[27] Iteration[400] Loss: 0.0047 LR: 0.01\n",
      "Training Results - Epoch: 27  Count: 471 Loss: 0.59 Accuracy: 0.998 F1: 0.996\n",
      "Validation Results - Epoch: 27  Count: 202 Loss: 0.61 Accuracy: 0.970 F1: 0.945\n",
      "Epoch[28] Iteration[410] Loss: 0.0365 LR: 0.01\n",
      "Epoch[28] Iteration[420] Loss: 0.0254 LR: 0.01\n",
      "Training Results - Epoch: 28  Count: 471 Loss: 0.59 Accuracy: 0.998 F1: 0.996\n",
      "Validation Results - Epoch: 28  Count: 202 Loss: 0.62 Accuracy: 0.955 F1: 0.920\n",
      "Epoch    27: reducing learning rate of group 0 to 2.5000e-03.\n",
      "Epoch[29] Iteration[430] Loss: 0.0004 LR: 0.0025\n",
      "Training Results - Epoch: 29  Count: 471 Loss: 0.59 Accuracy: 1.000 F1: 1.000\n",
      "Validation Results - Epoch: 29  Count: 202 Loss: 0.61 Accuracy: 0.970 F1: 0.945\n",
      "Epoch[30] Iteration[440] Loss: 0.0006 LR: 0.0025\n",
      "Epoch[30] Iteration[450] Loss: 0.0009 LR: 0.0025\n",
      "Training Results - Epoch: 30  Count: 471 Loss: 0.59 Accuracy: 1.000 F1: 1.000\n",
      "Validation Results - Epoch: 30  Count: 202 Loss: 0.61 Accuracy: 0.970 F1: 0.945\n",
      "Epoch[31] Iteration[460] Loss: 0.0155 LR: 0.0025\n",
      "Training Results - Epoch: 31  Count: 471 Loss: 0.59 Accuracy: 1.000 F1: 1.000\n",
      "Validation Results - Epoch: 31  Count: 202 Loss: 0.61 Accuracy: 0.970 F1: 0.945\n",
      "Epoch[32] Iteration[470] Loss: 0.0060 LR: 0.0025\n",
      "Epoch[32] Iteration[480] Loss: 0.0064 LR: 0.0025\n",
      "Training Results - Epoch: 32  Count: 471 Loss: 0.59 Accuracy: 1.000 F1: 1.000\n",
      "Validation Results - Epoch: 32  Count: 202 Loss: 0.61 Accuracy: 0.970 F1: 0.945\n",
      "Epoch[33] Iteration[490] Loss: 0.0005 LR: 0.0025\n",
      "Training Results - Epoch: 33  Count: 471 Loss: 0.59 Accuracy: 1.000 F1: 1.000\n",
      "Validation Results - Epoch: 33  Count: 202 Loss: 0.61 Accuracy: 0.970 F1: 0.945\n",
      "Epoch[34] Iteration[500] Loss: 0.0135 LR: 0.0025\n",
      "Epoch[34] Iteration[510] Loss: 0.0006 LR: 0.0025\n",
      "Training Results - Epoch: 34  Count: 471 Loss: 0.59 Accuracy: 1.000 F1: 1.000\n",
      "Validation Results - Epoch: 34  Count: 202 Loss: 0.61 Accuracy: 0.970 F1: 0.945\n",
      "Epoch[35] Iteration[520] Loss: 0.0005 LR: 0.0025\n",
      "Training Results - Epoch: 35  Count: 471 Loss: 0.59 Accuracy: 1.000 F1: 1.000\n",
      "Validation Results - Epoch: 35  Count: 202 Loss: 0.61 Accuracy: 0.970 F1: 0.945\n",
      "Epoch[36] Iteration[530] Loss: 0.0119 LR: 0.0025\n",
      "Epoch[36] Iteration[540] Loss: 0.0006 LR: 0.0025\n",
      "Training Results - Epoch: 36  Count: 471 Loss: 0.59 Accuracy: 1.000 F1: 1.000\n",
      "Validation Results - Epoch: 36  Count: 202 Loss: 0.61 Accuracy: 0.970 F1: 0.945\n",
      "Epoch[37] Iteration[550] Loss: 0.0115 LR: 0.0025\n",
      "Training Results - Epoch: 37  Count: 471 Loss: 0.59 Accuracy: 1.000 F1: 1.000\n",
      "Validation Results - Epoch: 37  Count: 202 Loss: 0.61 Accuracy: 0.970 F1: 0.945\n",
      "Epoch[38] Iteration[560] Loss: 0.0024 LR: 0.0025\n",
      "Epoch[38] Iteration[570] Loss: 0.0004 LR: 0.0025\n",
      "Training Results - Epoch: 38  Count: 471 Loss: 0.59 Accuracy: 1.000 F1: 1.000\n",
      "Validation Results - Epoch: 38  Count: 202 Loss: 0.61 Accuracy: 0.970 F1: 0.945\n",
      "Epoch[39] Iteration[580] Loss: 0.0007 LR: 0.0025\n",
      "Training Results - Epoch: 39  Count: 471 Loss: 0.59 Accuracy: 1.000 F1: 1.000\n",
      "Validation Results - Epoch: 39  Count: 202 Loss: 0.61 Accuracy: 0.970 F1: 0.945\n",
      "Epoch[40] Iteration[590] Loss: 0.0050 LR: 0.0025\n",
      "Epoch[40] Iteration[600] Loss: 0.0021 LR: 0.0025\n",
      "Training Results - Epoch: 40  Count: 471 Loss: 0.59 Accuracy: 1.000 F1: 1.000\n",
      "Validation Results - Epoch: 40  Count: 202 Loss: 0.61 Accuracy: 0.970 F1: 0.945\n",
      "Epoch[41] Iteration[610] Loss: 0.0085 LR: 0.0025\n",
      "Training Results - Epoch: 41  Count: 471 Loss: 0.59 Accuracy: 1.000 F1: 1.000\n",
      "Validation Results - Epoch: 41  Count: 202 Loss: 0.61 Accuracy: 0.970 F1: 0.945\n",
      "Epoch[42] Iteration[620] Loss: 0.0096 LR: 0.0025\n",
      "Epoch[42] Iteration[630] Loss: 0.0004 LR: 0.0025\n",
      "Training Results - Epoch: 42  Count: 471 Loss: 0.59 Accuracy: 1.000 F1: 1.000\n",
      "Validation Results - Epoch: 42  Count: 202 Loss: 0.61 Accuracy: 0.970 F1: 0.945\n",
      "Epoch[43] Iteration[640] Loss: 0.0135 LR: 0.0025\n",
      "Training Results - Epoch: 43  Count: 471 Loss: 0.59 Accuracy: 1.000 F1: 1.000\n",
      "Validation Results - Epoch: 43  Count: 202 Loss: 0.61 Accuracy: 0.970 F1: 0.945\n",
      "Epoch[44] Iteration[650] Loss: 0.0005 LR: 0.0025\n",
      "Epoch[44] Iteration[660] Loss: 0.0002 LR: 0.0025\n",
      "Training Results - Epoch: 44  Count: 471 Loss: 0.59 Accuracy: 1.000 F1: 1.000\n",
      "Validation Results - Epoch: 44  Count: 202 Loss: 0.61 Accuracy: 0.970 F1: 0.945\n",
      "Epoch[45] Iteration[670] Loss: 0.0002 LR: 0.0025\n",
      "Training Results - Epoch: 45  Count: 471 Loss: 0.59 Accuracy: 1.000 F1: 1.000\n",
      "Validation Results - Epoch: 45  Count: 202 Loss: 0.61 Accuracy: 0.970 F1: 0.945\n",
      "Epoch[46] Iteration[680] Loss: 0.0003 LR: 0.0025\n",
      "Epoch[46] Iteration[690] Loss: 0.0004 LR: 0.0025\n",
      "Training Results - Epoch: 46  Count: 471 Loss: 0.59 Accuracy: 1.000 F1: 1.000\n",
      "Validation Results - Epoch: 46  Count: 202 Loss: 0.61 Accuracy: 0.970 F1: 0.945\n",
      "Epoch[47] Iteration[700] Loss: 0.0036 LR: 0.0025\n",
      "Training Results - Epoch: 47  Count: 471 Loss: 0.59 Accuracy: 1.000 F1: 1.000\n",
      "Validation Results - Epoch: 47  Count: 202 Loss: 0.61 Accuracy: 0.970 F1: 0.945\n",
      "Epoch[48] Iteration[710] Loss: 0.0002 LR: 0.0025\n",
      "Epoch[48] Iteration[720] Loss: 0.0066 LR: 0.0025\n",
      "Training Results - Epoch: 48  Count: 471 Loss: 0.59 Accuracy: 1.000 F1: 1.000\n",
      "Validation Results - Epoch: 48  Count: 202 Loss: 0.61 Accuracy: 0.970 F1: 0.945\n",
      "Epoch[49] Iteration[730] Loss: 0.0077 LR: 0.0025\n",
      "Training Results - Epoch: 49  Count: 471 Loss: 0.59 Accuracy: 1.000 F1: 1.000\n",
      "Validation Results - Epoch: 49  Count: 202 Loss: 0.61 Accuracy: 0.970 F1: 0.945\n",
      "Epoch[50] Iteration[740] Loss: 0.0002 LR: 0.0025\n",
      "Epoch[50] Iteration[750] Loss: 0.0017 LR: 0.0025\n",
      "Training Results - Epoch: 50  Count: 471 Loss: 0.59 Accuracy: 1.000 F1: 1.000\n",
      "Validation Results - Epoch: 50  Count: 202 Loss: 0.61 Accuracy: 0.970 F1: 0.945\n",
      "Epoch[51] Iteration[760] Loss: 0.0058 LR: 0.0025\n",
      "Training Results - Epoch: 51  Count: 471 Loss: 0.59 Accuracy: 1.000 F1: 1.000\n",
      "Validation Results - Epoch: 51  Count: 202 Loss: 0.61 Accuracy: 0.970 F1: 0.945\n",
      "Epoch[52] Iteration[770] Loss: 0.0017 LR: 0.0025\n",
      "Epoch[52] Iteration[780] Loss: 0.0002 LR: 0.0025\n",
      "Training Results - Epoch: 52  Count: 471 Loss: 0.59 Accuracy: 1.000 F1: 1.000\n",
      "Validation Results - Epoch: 52  Count: 202 Loss: 0.61 Accuracy: 0.970 F1: 0.945\n",
      "Epoch[53] Iteration[790] Loss: 0.0060 LR: 0.0025\n",
      "Training Results - Epoch: 53  Count: 471 Loss: 0.59 Accuracy: 1.000 F1: 1.000\n",
      "Validation Results - Epoch: 53  Count: 202 Loss: 0.61 Accuracy: 0.970 F1: 0.945\n",
      "Epoch[54] Iteration[800] Loss: 0.0002 LR: 0.0025\n",
      "Epoch[54] Iteration[810] Loss: 0.0001 LR: 0.0025\n",
      "Training Results - Epoch: 54  Count: 471 Loss: 0.59 Accuracy: 1.000 F1: 1.000\n",
      "Validation Results - Epoch: 54  Count: 202 Loss: 0.61 Accuracy: 0.970 F1: 0.945\n",
      "Epoch    53: reducing learning rate of group 0 to 6.2500e-04.\n",
      "Epoch[55] Iteration[820] Loss: 0.0003 LR: 0.000625\n",
      "Training Results - Epoch: 55  Count: 471 Loss: 0.59 Accuracy: 1.000 F1: 1.000\n",
      "Validation Results - Epoch: 55  Count: 202 Loss: 0.61 Accuracy: 0.970 F1: 0.945\n",
      "Epoch[56] Iteration[830] Loss: 0.0051 LR: 0.000625\n",
      "Epoch[56] Iteration[840] Loss: 0.0003 LR: 0.000625\n",
      "Training Results - Epoch: 56  Count: 471 Loss: 0.59 Accuracy: 1.000 F1: 1.000\n",
      "Validation Results - Epoch: 56  Count: 202 Loss: 0.61 Accuracy: 0.970 F1: 0.945\n",
      "Epoch[57] Iteration[850] Loss: 0.0006 LR: 0.000625\n",
      "Training Results - Epoch: 57  Count: 471 Loss: 0.59 Accuracy: 1.000 F1: 1.000\n",
      "Validation Results - Epoch: 57  Count: 202 Loss: 0.61 Accuracy: 0.970 F1: 0.945\n",
      "Epoch[58] Iteration[860] Loss: 0.0033 LR: 0.000625\n",
      "Epoch[58] Iteration[870] Loss: 0.0048 LR: 0.000625\n",
      "Training Results - Epoch: 58  Count: 471 Loss: 0.59 Accuracy: 1.000 F1: 1.000\n",
      "Validation Results - Epoch: 58  Count: 202 Loss: 0.61 Accuracy: 0.970 F1: 0.945\n",
      "Epoch[59] Iteration[880] Loss: 0.0005 LR: 0.000625\n",
      "Training Results - Epoch: 59  Count: 471 Loss: 0.59 Accuracy: 1.000 F1: 1.000\n",
      "Validation Results - Epoch: 59  Count: 202 Loss: 0.61 Accuracy: 0.970 F1: 0.945\n",
      "Epoch[60] Iteration[890] Loss: 0.0002 LR: 0.000625\n",
      "Epoch[60] Iteration[900] Loss: 0.0005 LR: 0.000625\n",
      "Training Results - Epoch: 60  Count: 471 Loss: 0.59 Accuracy: 1.000 F1: 1.000\n",
      "Validation Results - Epoch: 60  Count: 202 Loss: 0.61 Accuracy: 0.970 F1: 0.945\n",
      "Epoch[61] Iteration[910] Loss: 0.0011 LR: 0.000625\n",
      "Training Results - Epoch: 61  Count: 471 Loss: 0.59 Accuracy: 1.000 F1: 1.000\n",
      "Validation Results - Epoch: 61  Count: 202 Loss: 0.61 Accuracy: 0.970 F1: 0.945\n",
      "Epoch[62] Iteration[920] Loss: 0.0002 LR: 0.000625\n",
      "Epoch[62] Iteration[930] Loss: 0.0002 LR: 0.000625\n",
      "Training Results - Epoch: 62  Count: 471 Loss: 0.59 Accuracy: 1.000 F1: 1.000\n",
      "Validation Results - Epoch: 62  Count: 202 Loss: 0.61 Accuracy: 0.970 F1: 0.945\n",
      "Epoch[63] Iteration[940] Loss: 0.0015 LR: 0.000625\n",
      "Training Results - Epoch: 63  Count: 471 Loss: 0.59 Accuracy: 1.000 F1: 1.000\n",
      "Validation Results - Epoch: 63  Count: 202 Loss: 0.61 Accuracy: 0.970 F1: 0.945\n",
      "Epoch[64] Iteration[950] Loss: 0.0003 LR: 0.000625\n",
      "Epoch[64] Iteration[960] Loss: 0.0035 LR: 0.000625\n",
      "Training Results - Epoch: 64  Count: 471 Loss: 0.59 Accuracy: 1.000 F1: 1.000\n",
      "Validation Results - Epoch: 64  Count: 202 Loss: 0.61 Accuracy: 0.970 F1: 0.945\n",
      "Epoch[65] Iteration[970] Loss: 0.0037 LR: 0.000625\n",
      "Training Results - Epoch: 65  Count: 471 Loss: 0.59 Accuracy: 1.000 F1: 1.000\n",
      "Validation Results - Epoch: 65  Count: 202 Loss: 0.61 Accuracy: 0.970 F1: 0.945\n"
     ]
    },
    {
     "data": {
      "text/plain": [
       "<ignite.engine.engine.State at 0x7f00c22e6748>"
      ]
     },
     "execution_count": 49,
     "metadata": {},
     "output_type": "execute_result"
    }
   ],
   "source": [
    "trainer.run(train_iter, max_epochs=250)"
   ]
  },
  {
   "cell_type": "code",
   "execution_count": 50,
   "metadata": {},
   "outputs": [
    {
     "data": {
      "image/png": "[encoded data removed]",
      "text/plain": [
       "<Figure size 800x800 with 12 Axes>"
      ]
     },
     "metadata": {},
     "output_type": "display_data"
    },
    {
     "data": {
      "text/plain": [
       "<ggplot: (8727577160189)>"
      ]
     },
     "execution_count": 50,
     "metadata": {},
     "output_type": "execute_result"
    }
   ],
   "source": [
    "%matplotlib inline\n",
    "import plotnine as pn\n",
    "(\n",
    "    pn.ggplot(\n",
    "        pd.DataFrame(history).set_index(['epoch', 'type'])\n",
    "            .rename_axis('metric', axis='columns')\n",
    "            .stack().rename('value').reset_index()\n",
    "            .pipe(lambda df: df[df['metric'].isin(['f1', 'loss', 'accuracy', 'lr', 'precision', 'recall'])]),\n",
    "        pn.aes(x='epoch', y='value')\n",
    "    ) + \n",
    "    pn.geom_line() + \n",
    "    pn.facet_grid('metric ~ type', scales='free') + \n",
    "    pn.theme(figure_size=(8, 8))\n",
    ")\n"
   ]
  },
  {
   "cell_type": "code",
   "execution_count": null,
   "metadata": {},
   "outputs": [],
   "source": []
  }
 ],
 "metadata": {
  "kernelspec": {
   "display_name": "Python 3",
   "language": "python",
   "name": "python3"
  },
  "language_info": {
   "codemirror_mode": {
    "name": "ipython",
    "version": 3
   },
   "file_extension": ".py",
   "mimetype": "text/x-python",
   "name": "python",
   "nbconvert_exporter": "python",
   "pygments_lexer": "ipython3",
   "version": "3.6.8"
  }
 },
 "nbformat": 4,
 "nbformat_minor": 2
}
