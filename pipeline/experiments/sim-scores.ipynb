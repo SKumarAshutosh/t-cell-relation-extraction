{
 "cells": [
  {
   "cell_type": "code",
   "execution_count": 1,
   "metadata": {},
   "outputs": [],
   "source": [
    "import numpy as np\n",
    "import pandas as pd\n",
    "from sklearn.metrics import f1_score"
   ]
  },
  {
   "cell_type": "code",
   "execution_count": 31,
   "metadata": {},
   "outputs": [
    {
     "data": {
      "text/plain": [
       "{0: 'e1', 3: 'e2', 5: 'e3'}"
      ]
     },
     "execution_count": 31,
     "metadata": {},
     "output_type": "execute_result"
    }
   ],
   "source": [
    "def _get_unique_entity_mentions(typs, null_val='O'):\n",
    "    \"\"\"Get unique entity types for a list of token entity types (which may repeat)\"\"\"\n",
    "    uniq = np.unique(typs)\n",
    "    uniq = {v: i for i, v in enumerate(uniq)}\n",
    "    ind = pd.Series(typs).map(uniq).diff().values\n",
    "    ind[0] = float(typs[0] != null_val)\n",
    "    ind = np.argwhere(ind).ravel()\n",
    "    return {i:typs[i] for i in ind if typs[i] != null_val}\n",
    "\n",
    "_get_unique_entity_mentions(['e1', 'O', 'O', 'e2', 'e2', 'e3'])\n",
    "#_get_unique_entity_mentions(['c2', 'c2'])"
   ]
  },
  {
   "cell_type": "code",
   "execution_count": 8,
   "metadata": {},
   "outputs": [
    {
     "name": "stderr",
     "output_type": "stream",
     "text": [
      "/opt/conda/envs/nlp/lib/python3.6/site-packages/sklearn/metrics/classification.py:1439: UndefinedMetricWarning: F-score is ill-defined and being set to 0.0 due to no true samples.\n",
      "  'recall', 'true', average, warn_for)\n"
     ]
    },
    {
     "data": {
      "text/html": [
       "<div>\n",
       "<style scoped>\n",
       "    .dataframe tbody tr th:only-of-type {\n",
       "        vertical-align: middle;\n",
       "    }\n",
       "\n",
       "    .dataframe tbody tr th {\n",
       "        vertical-align: top;\n",
       "    }\n",
       "\n",
       "    .dataframe thead th {\n",
       "        text-align: right;\n",
       "    }\n",
       "</style>\n",
       "<table border=\"1\" class=\"dataframe\">\n",
       "  <thead>\n",
       "    <tr style=\"text-align: right;\">\n",
       "      <th></th>\n",
       "      <th>baseline_positive</th>\n",
       "      <th>f1_one</th>\n",
       "      <th>f1_rand</th>\n",
       "      <th>f1_zero</th>\n",
       "    </tr>\n",
       "  </thead>\n",
       "  <tbody>\n",
       "    <tr>\n",
       "      <th>0</th>\n",
       "      <td>0.05</td>\n",
       "      <td>0.095</td>\n",
       "      <td>0.050</td>\n",
       "      <td>0.0</td>\n",
       "    </tr>\n",
       "    <tr>\n",
       "      <th>1</th>\n",
       "      <td>0.10</td>\n",
       "      <td>0.182</td>\n",
       "      <td>0.098</td>\n",
       "      <td>0.0</td>\n",
       "    </tr>\n",
       "    <tr>\n",
       "      <th>2</th>\n",
       "      <td>0.15</td>\n",
       "      <td>0.261</td>\n",
       "      <td>0.150</td>\n",
       "      <td>0.0</td>\n",
       "    </tr>\n",
       "    <tr>\n",
       "      <th>3</th>\n",
       "      <td>0.20</td>\n",
       "      <td>0.333</td>\n",
       "      <td>0.201</td>\n",
       "      <td>0.0</td>\n",
       "    </tr>\n",
       "    <tr>\n",
       "      <th>4</th>\n",
       "      <td>0.25</td>\n",
       "      <td>0.400</td>\n",
       "      <td>0.251</td>\n",
       "      <td>0.0</td>\n",
       "    </tr>\n",
       "    <tr>\n",
       "      <th>5</th>\n",
       "      <td>0.30</td>\n",
       "      <td>0.462</td>\n",
       "      <td>0.299</td>\n",
       "      <td>0.0</td>\n",
       "    </tr>\n",
       "    <tr>\n",
       "      <th>6</th>\n",
       "      <td>0.40</td>\n",
       "      <td>0.572</td>\n",
       "      <td>0.400</td>\n",
       "      <td>0.0</td>\n",
       "    </tr>\n",
       "    <tr>\n",
       "      <th>7</th>\n",
       "      <td>0.50</td>\n",
       "      <td>0.667</td>\n",
       "      <td>0.500</td>\n",
       "      <td>0.0</td>\n",
       "    </tr>\n",
       "  </tbody>\n",
       "</table>\n",
       "</div>"
      ],
      "text/plain": [
       "   baseline_positive  f1_one  f1_rand  f1_zero\n",
       "0               0.05   0.095    0.050      0.0\n",
       "1               0.10   0.182    0.098      0.0\n",
       "2               0.15   0.261    0.150      0.0\n",
       "3               0.20   0.333    0.201      0.0\n",
       "4               0.25   0.400    0.251      0.0\n",
       "5               0.30   0.462    0.299      0.0\n",
       "6               0.40   0.572    0.400      0.0\n",
       "7               0.50   0.667    0.500      0.0"
      ]
     },
     "execution_count": 8,
     "metadata": {},
     "output_type": "execute_result"
    }
   ],
   "source": [
    "# Expected F1 for given class distributions and a random prediction:\n",
    "n = 100000\n",
    "res = []\n",
    "for a in [.05, .1, .15, .2, .25, .3, .4, .5]:\n",
    "    y_sim = np.random.choice([0, 1], size=n, p=[1-a, a])\n",
    "    y_pre = np.random.choice([0, 1], size=n, p=[1-a, a])\n",
    "    y_one = np.ones(n)\n",
    "    y_zer = np.zeros(n)\n",
    "    res.append(dict(\n",
    "        baseline_positive=a, \n",
    "        f1_rand=f1_score(y_pre, y_sim), \n",
    "        f1_one=f1_score(y_one, y_sim),\n",
    "        f1_zero=f1_score(y_zer, y_sim)\n",
    "    ))\n",
    "pd.DataFrame(res).round(3)"
   ]
  }
 ],
 "metadata": {
  "kernelspec": {
   "display_name": "Python 3",
   "language": "python",
   "name": "python3"
  },
  "language_info": {
   "codemirror_mode": {
    "name": "ipython",
    "version": 3
   },
   "file_extension": ".py",
   "mimetype": "text/x-python",
   "name": "python",
   "nbconvert_exporter": "python",
   "pygments_lexer": "ipython3",
   "version": "3.6.8"
  }
 },
 "nbformat": 4,
 "nbformat_minor": 4
}
