{
 "cells": [
  {
   "cell_type": "code",
   "execution_count": 1,
   "metadata": {},
   "outputs": [
    {
     "name": "stderr",
     "output_type": "stream",
     "text": [
      "/opt/conda/envs/nlp/lib/python3.6/site-packages/sklearn/externals/joblib/__init__.py:15: DeprecationWarning: sklearn.externals.joblib is deprecated in 0.21 and will be removed in 0.23. Please import this functionality directly from joblib, which can be installed with: pip install joblib. If this warning is raised when loading pickled models, you may need to re-serialize those models with scikit-learn 0.21+.\n",
      "  warnings.warn(msg, category=DeprecationWarning)\n"
     ]
    }
   ],
   "source": [
    "%matplotlib inline\n",
    "import os\n",
    "import tqdm\n",
    "import os.path as osp\n",
    "import pandas as pd\n",
    "import numpy as np\n",
    "import itertools\n",
    "import glob\n",
    "import json \n",
    "import plotnine as pn\n",
    "import matplotlib.pyplot as plt\n",
    "import collections\n",
    "from tcre.env import *\n",
    "from tcre.supervision import get_candidate_classes, SPLIT_DEV, SPLIT_VAL, SPLIT_TEST, SPLIT_TRAIN, SPLIT_MAP\n",
    "from tcre.exec.v1 import optim\n",
    "from tcre.modeling import features\n",
    "from snorkel import SnorkelSession\n",
    "from snorkel.models import Candidate\n",
    "import logging\n",
    "session = SnorkelSession()\n",
    "%run ../src/tcre/logging.py\n",
    "classes = get_candidate_classes()"
   ]
  },
  {
   "cell_type": "code",
   "execution_count": 2,
   "metadata": {},
   "outputs": [
    {
     "data": {
      "text/plain": [
       "'/lab/data/results/training-classifier/run1'"
      ]
     },
     "execution_count": 2,
     "metadata": {},
     "output_type": "execute_result"
    }
   ],
   "source": [
    "output_dir = osp.join(RESULTS_DATA_DIR, 'training-classifier', 'run1')\n",
    "output_dir"
   ]
  },
  {
   "cell_type": "code",
   "execution_count": 3,
   "metadata": {},
   "outputs": [
    {
     "data": {
      "text/plain": [
       "['inducing_cytokine', 'secreted_cytokine', 'inducing_transcription_factor']"
      ]
     },
     "execution_count": 3,
     "metadata": {},
     "output_type": "execute_result"
    }
   ],
   "source": [
    "tasks = [classes[c].field for c in classes]\n",
    "tasks"
   ]
  },
  {
   "cell_type": "markdown",
   "metadata": {},
   "source": [
    "### Initialize Optimizers"
   ]
  },
  {
   "cell_type": "code",
   "execution_count": 4,
   "metadata": {},
   "outputs": [],
   "source": [
    "from skopt.space import Categorical\n",
    "from skopt.space import Space\n",
    "\n",
    "# inducing cytokine: {'marker_list': 'doub_01', 'use_secondary': True, 'use_swaps': True, 'use_positions': True, 'wrd_embedding_type': 'w2v_trained', \n",
    "# 'model_size': 'XXXXL', 'weight_decay': 0.0, 'learning_rate': 0.01, 'dropout': 0.75, 'cell_type': 'LSTM', 'bidirectional': False, \n",
    "# 'score': 0.521739130434782, 'task': 'inducing_cytokine', 'iteration': 0}\n",
    "space = Space([\n",
    "    Categorical(['doub_01'], name='marker_list'),\n",
    "    Categorical([True, False], name='use_secondary'),\n",
    "    Categorical([True], name='use_swaps'),\n",
    "    Categorical([True], name='use_positions'),\n",
    "    Categorical(['w2v_frozen', 'w2v_trained'], name='wrd_embedding_type'),\n",
    "    Categorical(['XXL', 'XXXL', 'XXXXL'], name='model_size'),\n",
    "    Categorical([0.0, .00001, .0001, .001], name='weight_decay'),\n",
    "    Categorical([.005, .01, .05], name='learning_rate'),\n",
    "    Categorical([0.0, 0.25, 0.5, 0.75], name='dropout'),\n",
    "    Categorical(['LSTM'], name='cell_type'),\n",
    "    Categorical([False], name='bidirectional')\n",
    "])"
   ]
  },
  {
   "cell_type": "code",
   "execution_count": 5,
   "metadata": {},
   "outputs": [
    {
     "name": "stdout",
     "output_type": "stream",
     "text": [
      "Number of combinations in parameter space: 576\n"
     ]
    }
   ],
   "source": [
    "n_space = np.prod([len(dim.categories) for dim in space])\n",
    "print('Number of combinations in parameter space:', n_space)"
   ]
  },
  {
   "cell_type": "code",
   "execution_count": 6,
   "metadata": {},
   "outputs": [],
   "source": [
    "from skopt import forest_minimize, dummy_minimize\n",
    "client_args = dict(cli=dict(batch_size=512), train=dict(log_iter_interval=150, log_epoch_interval=5))\n",
    "optimizers = {\n",
    "    task: optim.TaskParameterOptimizer(task, space, output_dir, minimizer=dummy_minimize, client_args=client_args) \n",
    "    for task in tasks\n",
    "}"
   ]
  },
  {
   "cell_type": "markdown",
   "metadata": {},
   "source": [
    "### Create Splits for Tasks"
   ]
  },
  {
   "cell_type": "code",
   "execution_count": 7,
   "metadata": {},
   "outputs": [
    {
     "data": {
      "text/plain": [
       "120778"
      ]
     },
     "execution_count": 7,
     "metadata": {},
     "output_type": "execute_result"
    }
   ],
   "source": [
    "cands = session.query(Candidate).filter(Candidate.split.in_([SPLIT_VAL, SPLIT_TEST, SPLIT_TRAIN])).all()\n",
    "len(cands)"
   ]
  },
  {
   "cell_type": "code",
   "execution_count": 8,
   "metadata": {},
   "outputs": [
    {
     "data": {
      "text/plain": [
       "task                           split\n",
       "inducing_cytokine              test       100\n",
       "                               train    48656\n",
       "                               val         97\n",
       "inducing_transcription_factor  test       100\n",
       "                               train    22983\n",
       "                               val        117\n",
       "secreted_cytokine              test       100\n",
       "                               train    48527\n",
       "                               val         98\n",
       "dtype: int64"
      ]
     },
     "execution_count": 8,
     "metadata": {},
     "output_type": "execute_result"
    }
   ],
   "source": [
    "# DB splits -> modeling splits \n",
    "TARGET_MAP = {'train': 'train', 'val': 'val', 'test': 'test'}\n",
    "df_cand = pd.DataFrame([\n",
    "    dict(id=c.id, task=c.type, split=c.split, label=features.get_label(c, strict=True))\n",
    "    for c in cands\n",
    "])\n",
    "df_cand['split'] = df_cand['split'].map(SPLIT_MAP).map(TARGET_MAP)\n",
    "df_cand.groupby(['task', 'split']).size()"
   ]
  },
  {
   "cell_type": "code",
   "execution_count": 9,
   "metadata": {},
   "outputs": [
    {
     "name": "stdout",
     "output_type": "stream",
     "text": [
      "Splits for task \"inducing_cytokine\":\n",
      "split\n",
      "test       100\n",
      "train    10000\n",
      "val         97\n",
      "Name: id, dtype: int64\n",
      "Splits written to /lab/data/results/training-classifier/run1/inducing_cytokine/splits/splits.json\n",
      "Splits for task \"inducing_transcription_factor\":\n",
      "split\n",
      "test       100\n",
      "train    10000\n",
      "val        117\n",
      "Name: id, dtype: int64\n",
      "Splits written to /lab/data/results/training-classifier/run1/inducing_transcription_factor/splits/splits.json\n",
      "Splits for task \"secreted_cytokine\":\n",
      "split\n",
      "test       100\n",
      "train    10000\n",
      "val         98\n",
      "Name: id, dtype: int64\n",
      "Splits written to /lab/data/results/training-classifier/run1/secreted_cytokine/splits/splits.json\n"
     ]
    }
   ],
   "source": [
    "for task, g in df_cand.groupby('task'):\n",
    "    _rs = lambda: np.random.RandomState(TCRE_SEED)\n",
    "    splits = g.groupby('split')['id'].unique().apply(lambda v: _rs().choice(v, size=min(10000, len(v)), replace=False))\n",
    "    print(f'Splits for task \"{task}\":')\n",
    "    print(splits.apply(len))\n",
    "    splits_file = optimizers[task].write_splits(splits)\n",
    "    print(f'Splits written to {splits_file}')"
   ]
  },
  {
   "cell_type": "markdown",
   "metadata": {},
   "source": [
    "### Run Search"
   ]
  },
  {
   "cell_type": "code",
   "execution_count": 10,
   "metadata": {},
   "outputs": [
    {
     "name": "stdout",
     "output_type": "stream",
     "text": [
      "python /lab/repos/t-cell-relation-extraction/src/tcre/exec/v1/cli.py --relation-class=inducing_cytokine --device=\"cuda:1\" --output-dir=/lab/data/results/training-classifier/run1/inducing_cytokine/data --batch-size=512 train --splits-file=/lab/data/results/training-classifier/run1/inducing_cytokine/splits/splits.json --use-checkpoints=False --save-keys=\"history\" --log-iter-interval=150 --log-epoch-interval=5 --marker-list=doub_01 --use-secondary=True --use-swaps=True --use-positions=True --wrd-embedding-type=w2v_frozen --model-size=XXXL --weight-decay=0.001 --learning-rate=0.01 --dropout=0.25 --cell-type=LSTM --bidirectional=False > /lab/data/results/training-classifier/run1/inducing_cytokine/log/log.txt 2>&1\n"
     ]
    }
   ],
   "source": [
    "# Show an example command to be run \n",
    "print(optimizers[tasks[0]].get_cmd(space.rvs()[0]))"
   ]
  },
  {
   "cell_type": "code",
   "execution_count": 11,
   "metadata": {},
   "outputs": [
    {
     "name": "stdout",
     "output_type": "stream",
     "text": [
      "Iterations = 10 --> Time = 3.0 (hrs)\n",
      "Iterations = 100 --> Time = 30.0 (hrs)\n",
      "Iterations = 250 --> Time = 75.0 (hrs)\n",
      "Iterations = 500 --> Time = 150.0 (hrs)\n",
      "Iterations = 1000 --> Time = 300.0 (hrs)\n"
     ]
    }
   ],
   "source": [
    "# For 3 tasks at about about 360s per iteration, show common time estimations:\n",
    "time_per_iter_sec = 360\n",
    "n_iter = np.array([10, 100, 250, 500, 1000])\n",
    "for n in n_iter:\n",
    "    time = n * time_per_iter_sec * len(tasks) / 3600\n",
    "    print(f'Iterations = {n} --> Time = {time} (hrs)')"
   ]
  },
  {
   "cell_type": "code",
   "execution_count": null,
   "metadata": {},
   "outputs": [
    {
     "name": "stderr",
     "output_type": "stream",
     "text": [
      "2019-07-09 20:31:00,625:INFO:root: Running optimization for task inducing_cytokine\n",
      "2019-07-09 20:31:00,626:INFO:tcre.exec.v1.optim: Beginning parameter search with max iterations 10\n",
      "2019-07-09 20:35:19,899:INFO:tcre.exec.v1.optim: Saving checkpoint to /lab/data/results/training-classifier/run1/inducing_cytokine/checkpoints/checkpoint.pkl\n",
      "2019-07-09 20:35:19,916:INFO:tcre.exec.v1.optim: Completed iteration 1 of 10 (score = -0.559999999999999)\n",
      "2019-07-09 20:40:29,950:INFO:tcre.exec.v1.optim: Saving checkpoint to /lab/data/results/training-classifier/run1/inducing_cytokine/checkpoints/checkpoint.pkl\n",
      "2019-07-09 20:40:29,971:INFO:tcre.exec.v1.optim: Completed iteration 2 of 10 (score = -0.461538461538461)\n",
      "2019-07-09 20:44:35,027:INFO:tcre.exec.v1.optim: Saving checkpoint to /lab/data/results/training-classifier/run1/inducing_cytokine/checkpoints/checkpoint.pkl\n",
      "2019-07-09 20:44:35,049:INFO:tcre.exec.v1.optim: Completed iteration 3 of 10 (score = -0.22222222222222202)\n",
      "2019-07-09 20:48:06,941:INFO:tcre.exec.v1.optim: Saving checkpoint to /lab/data/results/training-classifier/run1/inducing_cytokine/checkpoints/checkpoint.pkl\n",
      "2019-07-09 20:48:06,964:INFO:tcre.exec.v1.optim: Completed iteration 4 of 10 (score = -0.38709677419354804)\n",
      "2019-07-09 20:51:27,134:INFO:tcre.exec.v1.optim: Saving checkpoint to /lab/data/results/training-classifier/run1/inducing_cytokine/checkpoints/checkpoint.pkl\n",
      "2019-07-09 20:51:27,159:INFO:tcre.exec.v1.optim: Completed iteration 5 of 10 (score = -0.49999999999999906)\n",
      "2019-07-09 20:54:09,184:INFO:tcre.exec.v1.optim: Saving checkpoint to /lab/data/results/training-classifier/run1/inducing_cytokine/checkpoints/checkpoint.pkl\n",
      "2019-07-09 20:54:09,209:INFO:tcre.exec.v1.optim: Completed iteration 6 of 10 (score = -0.461538461538461)\n",
      "2019-07-09 20:57:40,270:INFO:tcre.exec.v1.optim: Saving checkpoint to /lab/data/results/training-classifier/run1/inducing_cytokine/checkpoints/checkpoint.pkl\n",
      "2019-07-09 20:57:40,296:INFO:tcre.exec.v1.optim: Completed iteration 7 of 10 (score = -0.4)\n",
      "2019-07-09 21:03:38,663:INFO:tcre.exec.v1.optim: Saving checkpoint to /lab/data/results/training-classifier/run1/inducing_cytokine/checkpoints/checkpoint.pkl\n",
      "2019-07-09 21:03:38,691:INFO:tcre.exec.v1.optim: Completed iteration 8 of 10 (score = -0.46666666666666606)\n",
      "2019-07-09 21:06:54,896:INFO:tcre.exec.v1.optim: Saving checkpoint to /lab/data/results/training-classifier/run1/inducing_cytokine/checkpoints/checkpoint.pkl\n",
      "2019-07-09 21:06:54,925:INFO:tcre.exec.v1.optim: Completed iteration 9 of 10 (score = -0.46666666666666606)\n",
      "2019-07-09 21:10:17,654:INFO:tcre.exec.v1.optim: Saving checkpoint to /lab/data/results/training-classifier/run1/inducing_cytokine/checkpoints/checkpoint.pkl\n",
      "2019-07-09 21:10:17,684:INFO:tcre.exec.v1.optim: Completed iteration 10 of 10 (score = -0.5714285714285711)\n",
      "2019-07-09 21:10:17,796:INFO:root: Saved scores to /lab/data/results/training-classifier/run1/inducing_cytokine/scores.feather\n",
      "2019-07-09 21:10:17,797:INFO:tcre.exec.v1.optim: Saving checkpoint to /lab/data/results/training-classifier/run1/inducing_cytokine/checkpoints/checkpoint.pkl\n",
      "2019-07-09 21:10:17,820:INFO:root: Saved final result\n",
      "2019-07-09 21:10:17,821:INFO:root: Running optimization for task secreted_cytokine\n",
      "2019-07-09 21:10:17,822:INFO:tcre.exec.v1.optim: Beginning parameter search with max iterations 10\n",
      "2019-07-09 21:13:56,121:INFO:tcre.exec.v1.optim: Saving checkpoint to /lab/data/results/training-classifier/run1/secreted_cytokine/checkpoints/checkpoint.pkl\n",
      "2019-07-09 21:13:56,142:INFO:tcre.exec.v1.optim: Completed iteration 1 of 10 (score = -0.42424242424242403)\n",
      "2019-07-09 21:17:02,267:INFO:tcre.exec.v1.optim: Saving checkpoint to /lab/data/results/training-classifier/run1/secreted_cytokine/checkpoints/checkpoint.pkl\n",
      "2019-07-09 21:17:02,284:INFO:tcre.exec.v1.optim: Completed iteration 2 of 10 (score = -0.31578947368421)\n",
      "2019-07-09 21:20:48,541:INFO:tcre.exec.v1.optim: Saving checkpoint to /lab/data/results/training-classifier/run1/secreted_cytokine/checkpoints/checkpoint.pkl\n",
      "2019-07-09 21:20:48,564:INFO:tcre.exec.v1.optim: Completed iteration 3 of 10 (score = -0.47058823529411703)\n",
      "2019-07-09 21:23:34,180:INFO:tcre.exec.v1.optim: Saving checkpoint to /lab/data/results/training-classifier/run1/secreted_cytokine/checkpoints/checkpoint.pkl\n",
      "2019-07-09 21:23:34,203:INFO:tcre.exec.v1.optim: Completed iteration 4 of 10 (score = -0.47058823529411703)\n",
      "2019-07-09 21:29:33,484:INFO:tcre.exec.v1.optim: Saving checkpoint to /lab/data/results/training-classifier/run1/secreted_cytokine/checkpoints/checkpoint.pkl\n",
      "2019-07-09 21:29:33,508:INFO:tcre.exec.v1.optim: Completed iteration 5 of 10 (score = -0.592592592592592)\n",
      "2019-07-09 21:32:48,942:INFO:tcre.exec.v1.optim: Saving checkpoint to /lab/data/results/training-classifier/run1/secreted_cytokine/checkpoints/checkpoint.pkl\n",
      "2019-07-09 21:32:48,970:INFO:tcre.exec.v1.optim: Completed iteration 6 of 10 (score = -0.514285714285714)\n"
     ]
    }
   ],
   "source": [
    "results = {}\n",
    "\n",
    "for task in tasks:\n",
    "    optimizer = optimizers[task]\n",
    "    logging.info(f'Running optimization for task {task}')\n",
    "    res, scores, callbacks = optimizer.run(n_iterations=10, progress_interval=1, checkpoint_interval=1)\n",
    "    \n",
    "    # Save scores for non-objective (i.e. validation) after converting to long form\n",
    "    scores = pd.DataFrame(scores)\n",
    "    scores.columns = pd.MultiIndex.from_tuples([c for c in scores])\n",
    "    scores = scores.rename_axis('iteration', axis=0).rename_axis(('metric', 'type'), axis=1)\n",
    "    scores = scores.stack().stack().rename('value').reset_index()\n",
    "    scores_file = osp.join(optimizer.output_dir, 'scores.feather')\n",
    "    scores.to_feather(scores_file)\n",
    "    logging.info(f'Saved scores to {scores_file}')\n",
    "    \n",
    "    # Checkpoint final result since it is not saved at every step\n",
    "    callbacks['saver'].i = -1\n",
    "    callbacks['saver'](res)\n",
    "    logging.info(f'Saved final result')\n",
    "    \n",
    "    results[task] = res, scores, callbacks"
   ]
  },
  {
   "cell_type": "code",
   "execution_count": 51,
   "metadata": {},
   "outputs": [
    {
     "name": "stdout",
     "output_type": "stream",
     "text": [
      "inducing_cytokine\n"
     ]
    }
   ],
   "source": [
    "print(tasks[0])\n",
    "res, scores, callbacks = results[tasks[0]]"
   ]
  },
  {
   "cell_type": "code",
   "execution_count": 52,
   "metadata": {},
   "outputs": [
    {
     "data": {
      "text/plain": [
       "count      3.000000\n",
       "mean     357.958764\n",
       "std      127.910002\n",
       "min      251.829914\n",
       "25%      286.947712\n",
       "50%      322.065509\n",
       "75%      411.023190\n",
       "max      499.980870\n",
       "dtype: float64"
      ]
     },
     "execution_count": 52,
     "metadata": {},
     "output_type": "execute_result"
    }
   ],
   "source": [
    "times = callbacks['timer'].iter_time\n",
    "pd.Series(times).describe()"
   ]
  },
  {
   "cell_type": "markdown",
   "metadata": {},
   "source": [
    "## Analysis"
   ]
  },
  {
   "cell_type": "code",
   "execution_count": 54,
   "metadata": {},
   "outputs": [
    {
     "data": {
      "text/plain": [
       "'/lab/data/results/training-classifier/run1'"
      ]
     },
     "execution_count": 54,
     "metadata": {},
     "output_type": "execute_result"
    }
   ],
   "source": [
    "output_dir"
   ]
  },
  {
   "cell_type": "code",
   "execution_count": 55,
   "metadata": {},
   "outputs": [
    {
     "name": "stdout",
     "output_type": "stream",
     "text": [
      "inducing_cytokine  inducing_transcription_factor  secreted_cytokine\n"
     ]
    }
   ],
   "source": [
    "!ls $output_dir"
   ]
  },
  {
   "cell_type": "code",
   "execution_count": 71,
   "metadata": {},
   "outputs": [],
   "source": [
    "import skopt\n",
    "# Restore from serialized data\n",
    "\n",
    "results = {}\n",
    "for task in tasks:\n",
    "    optimizer = optimizers[task]\n",
    "    res = skopt.load(optimizer.get_checkpoints_file())\n",
    "    \n",
    "    scores = None\n",
    "    scores_file = osp.join(optimizer.output_dir, 'scores.feather')\n",
    "    if osp.exists(scores_file):\n",
    "        scores = pd.read_feather(scores_file)\n",
    "    \n",
    "    results[task] = res, scores, globals().get('times') "
   ]
  },
  {
   "cell_type": "code",
   "execution_count": 72,
   "metadata": {},
   "outputs": [],
   "source": [
    "def get_dfx(results):\n",
    "    df = []\n",
    "    for k in results:\n",
    "        res = results[k][0]\n",
    "        dfx = pd.DataFrame(res.x_iters, columns=[dim.name for dim in space])\n",
    "        dfx['score'] = -res.func_vals\n",
    "        dfx['task'] = k\n",
    "        dfx['iteration'] = np.arange(len(dfx))\n",
    "        df.append(dfx)\n",
    "    return pd.concat(df)"
   ]
  },
  {
   "cell_type": "code",
   "execution_count": 73,
   "metadata": {},
   "outputs": [
    {
     "name": "stdout",
     "output_type": "stream",
     "text": [
      "['marker_list', 'use_secondary', 'use_swaps', 'use_positions', 'wrd_embedding_type', 'model_size', 'weight_decay', 'learning_rate', 'dropout', 'cell_type', 'bidirectional']\n"
     ]
    },
    {
     "data": {
      "text/html": [
       "<div>\n",
       "<style scoped>\n",
       "    .dataframe tbody tr th:only-of-type {\n",
       "        vertical-align: middle;\n",
       "    }\n",
       "\n",
       "    .dataframe tbody tr th {\n",
       "        vertical-align: top;\n",
       "    }\n",
       "\n",
       "    .dataframe thead th {\n",
       "        text-align: right;\n",
       "    }\n",
       "</style>\n",
       "<table border=\"1\" class=\"dataframe\">\n",
       "  <thead>\n",
       "    <tr style=\"text-align: right;\">\n",
       "      <th></th>\n",
       "      <th>marker_list</th>\n",
       "      <th>use_secondary</th>\n",
       "      <th>use_swaps</th>\n",
       "      <th>use_positions</th>\n",
       "      <th>wrd_embedding_type</th>\n",
       "      <th>model_size</th>\n",
       "      <th>weight_decay</th>\n",
       "      <th>learning_rate</th>\n",
       "      <th>dropout</th>\n",
       "      <th>cell_type</th>\n",
       "      <th>bidirectional</th>\n",
       "      <th>score</th>\n",
       "      <th>task</th>\n",
       "      <th>iteration</th>\n",
       "    </tr>\n",
       "  </thead>\n",
       "  <tbody>\n",
       "    <tr>\n",
       "      <th>0</th>\n",
       "      <td>doub_01</td>\n",
       "      <td>True</td>\n",
       "      <td>True</td>\n",
       "      <td>True</td>\n",
       "      <td>w2v_trained</td>\n",
       "      <td>XXXXL</td>\n",
       "      <td>0.000</td>\n",
       "      <td>0.01</td>\n",
       "      <td>0.75</td>\n",
       "      <td>LSTM</td>\n",
       "      <td>False</td>\n",
       "      <td>0.521739</td>\n",
       "      <td>inducing_cytokine</td>\n",
       "      <td>0</td>\n",
       "    </tr>\n",
       "    <tr>\n",
       "      <th>1</th>\n",
       "      <td>doub_01</td>\n",
       "      <td>False</td>\n",
       "      <td>True</td>\n",
       "      <td>True</td>\n",
       "      <td>w2v_trained</td>\n",
       "      <td>XXXXL</td>\n",
       "      <td>0.001</td>\n",
       "      <td>0.05</td>\n",
       "      <td>0.25</td>\n",
       "      <td>LSTM</td>\n",
       "      <td>False</td>\n",
       "      <td>0.200000</td>\n",
       "      <td>inducing_cytokine</td>\n",
       "      <td>1</td>\n",
       "    </tr>\n",
       "    <tr>\n",
       "      <th>2</th>\n",
       "      <td>doub_01</td>\n",
       "      <td>False</td>\n",
       "      <td>True</td>\n",
       "      <td>True</td>\n",
       "      <td>w2v_frozen</td>\n",
       "      <td>XXXXL</td>\n",
       "      <td>0.001</td>\n",
       "      <td>0.01</td>\n",
       "      <td>0.00</td>\n",
       "      <td>LSTM</td>\n",
       "      <td>False</td>\n",
       "      <td>0.333333</td>\n",
       "      <td>inducing_cytokine</td>\n",
       "      <td>2</td>\n",
       "    </tr>\n",
       "  </tbody>\n",
       "</table>\n",
       "</div>"
      ],
      "text/plain": [
       "  marker_list  use_secondary  use_swaps  use_positions wrd_embedding_type  \\\n",
       "0     doub_01           True       True           True        w2v_trained   \n",
       "1     doub_01          False       True           True        w2v_trained   \n",
       "2     doub_01          False       True           True         w2v_frozen   \n",
       "\n",
       "  model_size  weight_decay  learning_rate  dropout cell_type  bidirectional  \\\n",
       "0      XXXXL         0.000           0.01     0.75      LSTM          False   \n",
       "1      XXXXL         0.001           0.05     0.25      LSTM          False   \n",
       "2      XXXXL         0.001           0.01     0.00      LSTM          False   \n",
       "\n",
       "      score               task  iteration  \n",
       "0  0.521739  inducing_cytokine          0  \n",
       "1  0.200000  inducing_cytokine          1  \n",
       "2  0.333333  inducing_cytokine          2  "
      ]
     },
     "execution_count": 73,
     "metadata": {},
     "output_type": "execute_result"
    }
   ],
   "source": [
    "dfx = get_dfx(results)\n",
    "props = dfx.drop(['score', 'task', 'iteration'], axis=1).columns.tolist()\n",
    "print(props)\n",
    "dfx.head()"
   ]
  },
  {
   "cell_type": "code",
   "execution_count": 80,
   "metadata": {},
   "outputs": [
    {
     "data": {
      "text/html": [
       "<div>\n",
       "<style scoped>\n",
       "    .dataframe tbody tr th:only-of-type {\n",
       "        vertical-align: middle;\n",
       "    }\n",
       "\n",
       "    .dataframe tbody tr th {\n",
       "        vertical-align: top;\n",
       "    }\n",
       "\n",
       "    .dataframe thead th {\n",
       "        text-align: right;\n",
       "    }\n",
       "</style>\n",
       "<table border=\"1\" class=\"dataframe\">\n",
       "  <thead>\n",
       "    <tr style=\"text-align: right;\">\n",
       "      <th></th>\n",
       "      <th></th>\n",
       "      <th>marker_list</th>\n",
       "      <th>use_secondary</th>\n",
       "      <th>use_swaps</th>\n",
       "      <th>use_positions</th>\n",
       "      <th>wrd_embedding_type</th>\n",
       "      <th>model_size</th>\n",
       "      <th>weight_decay</th>\n",
       "      <th>learning_rate</th>\n",
       "      <th>dropout</th>\n",
       "      <th>cell_type</th>\n",
       "      <th>bidirectional</th>\n",
       "      <th>score</th>\n",
       "      <th>task</th>\n",
       "      <th>iteration</th>\n",
       "    </tr>\n",
       "    <tr>\n",
       "      <th>task</th>\n",
       "      <th></th>\n",
       "      <th></th>\n",
       "      <th></th>\n",
       "      <th></th>\n",
       "      <th></th>\n",
       "      <th></th>\n",
       "      <th></th>\n",
       "      <th></th>\n",
       "      <th></th>\n",
       "      <th></th>\n",
       "      <th></th>\n",
       "      <th></th>\n",
       "      <th></th>\n",
       "      <th></th>\n",
       "      <th></th>\n",
       "    </tr>\n",
       "  </thead>\n",
       "  <tbody>\n",
       "    <tr>\n",
       "      <th rowspan=\"3\" valign=\"top\">inducing_cytokine</th>\n",
       "      <th>1</th>\n",
       "      <td>doub_01</td>\n",
       "      <td>False</td>\n",
       "      <td>True</td>\n",
       "      <td>True</td>\n",
       "      <td>w2v_trained</td>\n",
       "      <td>XXXXL</td>\n",
       "      <td>0.001</td>\n",
       "      <td>0.05</td>\n",
       "      <td>0.25</td>\n",
       "      <td>LSTM</td>\n",
       "      <td>False</td>\n",
       "      <td>0.200000</td>\n",
       "      <td>inducing_cytokine</td>\n",
       "      <td>1</td>\n",
       "    </tr>\n",
       "    <tr>\n",
       "      <th>2</th>\n",
       "      <td>doub_01</td>\n",
       "      <td>False</td>\n",
       "      <td>True</td>\n",
       "      <td>True</td>\n",
       "      <td>w2v_frozen</td>\n",
       "      <td>XXXXL</td>\n",
       "      <td>0.001</td>\n",
       "      <td>0.01</td>\n",
       "      <td>0.00</td>\n",
       "      <td>LSTM</td>\n",
       "      <td>False</td>\n",
       "      <td>0.333333</td>\n",
       "      <td>inducing_cytokine</td>\n",
       "      <td>2</td>\n",
       "    </tr>\n",
       "    <tr>\n",
       "      <th>0</th>\n",
       "      <td>doub_01</td>\n",
       "      <td>True</td>\n",
       "      <td>True</td>\n",
       "      <td>True</td>\n",
       "      <td>w2v_trained</td>\n",
       "      <td>XXXXL</td>\n",
       "      <td>0.000</td>\n",
       "      <td>0.01</td>\n",
       "      <td>0.75</td>\n",
       "      <td>LSTM</td>\n",
       "      <td>False</td>\n",
       "      <td>0.521739</td>\n",
       "      <td>inducing_cytokine</td>\n",
       "      <td>0</td>\n",
       "    </tr>\n",
       "  </tbody>\n",
       "</table>\n",
       "</div>"
      ],
      "text/plain": [
       "                    marker_list  use_secondary  use_swaps  use_positions  \\\n",
       "task                                                                       \n",
       "inducing_cytokine 1     doub_01          False       True           True   \n",
       "                  2     doub_01          False       True           True   \n",
       "                  0     doub_01           True       True           True   \n",
       "\n",
       "                    wrd_embedding_type model_size  weight_decay  \\\n",
       "task                                                              \n",
       "inducing_cytokine 1        w2v_trained      XXXXL         0.001   \n",
       "                  2         w2v_frozen      XXXXL         0.001   \n",
       "                  0        w2v_trained      XXXXL         0.000   \n",
       "\n",
       "                     learning_rate  dropout cell_type  bidirectional  \\\n",
       "task                                                                   \n",
       "inducing_cytokine 1           0.05     0.25      LSTM          False   \n",
       "                  2           0.01     0.00      LSTM          False   \n",
       "                  0           0.01     0.75      LSTM          False   \n",
       "\n",
       "                        score               task  iteration  \n",
       "task                                                         \n",
       "inducing_cytokine 1  0.200000  inducing_cytokine          1  \n",
       "                  2  0.333333  inducing_cytokine          2  \n",
       "                  0  0.521739  inducing_cytokine          0  "
      ]
     },
     "execution_count": 80,
     "metadata": {},
     "output_type": "execute_result"
    }
   ],
   "source": [
    "# Show top configs by task\n",
    "dfx.groupby('task').apply(lambda g: g.sort_values('score').iloc[-8:])"
   ]
  },
  {
   "cell_type": "markdown",
   "metadata": {},
   "source": [
    "### Parameter Regression"
   ]
  },
  {
   "cell_type": "code",
   "execution_count": 81,
   "metadata": {},
   "outputs": [],
   "source": [
    "from sklearn.metrics import r2_score\n",
    "import warnings\n",
    "warnings.filterwarnings('ignore', category=DeprecationWarning, message='The default of the `iid` parameter.*')\n",
    "\n",
    "def get_coefs(est):\n",
    "    coefs = []\n",
    "    grps = dfx.groupby(['task'])\n",
    "    fig, axs = plt.subplots(1, len(grps))\n",
    "    if len(grps) == 1:\n",
    "        axs = [axs]\n",
    "    fig.set_size_inches(18, 4)\n",
    "    for i, (k, g) in enumerate(grps):\n",
    "        X = pd.get_dummies(g.drop(['task', 'iteration', 'score'], axis=1).astype(str), prefix_sep=':')\n",
    "        y = g['score'].values\n",
    "        est = est.fit(X.values, y)\n",
    "        y_pred = est.predict(X)\n",
    "        score = max(r2_score(y, y_pred), 0)\n",
    "        title = f'{est.__class__.__name__} {k} (R2={score:.2f})'\n",
    "        pd.DataFrame({'y_true': y, 'y_pred': y_pred}).plot(kind='scatter', x='y_pred', y='y_true', ax=axs[i], title=title)\n",
    "        coefs.append(\n",
    "            pd.Series(est.coef_, index=X.columns.to_list()).sort_index()\n",
    "            .append(pd.Series(dict(task=k, score=score, est=est.__class__.__name__)))\n",
    "        )\n",
    "    return est, pd.DataFrame(coefs)\n",
    "\n",
    "def plot_coefs(est, coefs):\n",
    "    return (\n",
    "        pn.ggplot(\n",
    "            coefs\n",
    "                .set_index('task').rename_axis('metric', axis='columns').stack().rename('value').reset_index()\n",
    "                .assign(metric=lambda df: pd.Categorical(df['metric'], ordered=True, categories=df.groupby('metric')['value'].mean().sort_values().index)), \n",
    "            pn.aes(x='metric', y='value', fill='task', color='task', group='task')\n",
    "        ) + \n",
    "        pn.geom_point() +\n",
    "        pn.geom_line() + \n",
    "        pn.ggtitle(type(est).__name__) + \n",
    "        pn.theme(figure_size=(12, 4), axis_text_x=pn.element_text(rotation=90, hjust=.5))\n",
    "    )"
   ]
  },
  {
   "cell_type": "code",
   "execution_count": 82,
   "metadata": {},
   "outputs": [],
   "source": [
    "from sklearn.linear_model import LassoCV, RidgeCV, ElasticNetCV"
   ]
  },
  {
   "cell_type": "code",
   "execution_count": 83,
   "metadata": {},
   "outputs": [
    {
     "ename": "ValueError",
     "evalue": "Cannot have number of splits n_splits=5 greater than the number of samples: n_samples=3.",
     "output_type": "error",
     "traceback": [
      "\u001b[0;31m---------------------------------------------------------------------------\u001b[0m",
      "\u001b[0;31mValueError\u001b[0m                                Traceback (most recent call last)",
      "\u001b[0;32m<ipython-input-83-aa211c86db3b>\u001b[0m in \u001b[0;36m<module>\u001b[0;34m\u001b[0m\n\u001b[1;32m      1\u001b[0m df_coef = pd.concat([\n\u001b[0;32m----> 2\u001b[0;31m     \u001b[0mget_coefs\u001b[0m\u001b[0;34m(\u001b[0m\u001b[0mRidgeCV\u001b[0m\u001b[0;34m(\u001b[0m\u001b[0mnormalize\u001b[0m\u001b[0;34m=\u001b[0m\u001b[0;32mTrue\u001b[0m\u001b[0;34m,\u001b[0m \u001b[0mcv\u001b[0m\u001b[0;34m=\u001b[0m\u001b[0;36m5\u001b[0m\u001b[0;34m)\u001b[0m\u001b[0;34m)\u001b[0m\u001b[0;34m[\u001b[0m\u001b[0;36m1\u001b[0m\u001b[0;34m]\u001b[0m\u001b[0;34m,\u001b[0m\u001b[0;34m\u001b[0m\u001b[0;34m\u001b[0m\u001b[0m\n\u001b[0m\u001b[1;32m      3\u001b[0m     \u001b[0mget_coefs\u001b[0m\u001b[0;34m(\u001b[0m\u001b[0mLassoCV\u001b[0m\u001b[0;34m(\u001b[0m\u001b[0mnormalize\u001b[0m\u001b[0;34m=\u001b[0m\u001b[0;32mTrue\u001b[0m\u001b[0;34m,\u001b[0m \u001b[0mcv\u001b[0m\u001b[0;34m=\u001b[0m\u001b[0;36m5\u001b[0m\u001b[0;34m,\u001b[0m \u001b[0mrandom_state\u001b[0m\u001b[0;34m=\u001b[0m\u001b[0;36m1\u001b[0m\u001b[0;34m)\u001b[0m\u001b[0;34m)\u001b[0m\u001b[0;34m[\u001b[0m\u001b[0;36m1\u001b[0m\u001b[0;34m]\u001b[0m\u001b[0;34m,\u001b[0m\u001b[0;34m\u001b[0m\u001b[0;34m\u001b[0m\u001b[0m\n\u001b[1;32m      4\u001b[0m     \u001b[0mget_coefs\u001b[0m\u001b[0;34m(\u001b[0m\u001b[0mElasticNetCV\u001b[0m\u001b[0;34m(\u001b[0m\u001b[0mnormalize\u001b[0m\u001b[0;34m=\u001b[0m\u001b[0;32mTrue\u001b[0m\u001b[0;34m,\u001b[0m \u001b[0mcv\u001b[0m\u001b[0;34m=\u001b[0m\u001b[0;36m5\u001b[0m\u001b[0;34m,\u001b[0m \u001b[0mrandom_state\u001b[0m\u001b[0;34m=\u001b[0m\u001b[0;36m1\u001b[0m\u001b[0;34m)\u001b[0m\u001b[0;34m)\u001b[0m\u001b[0;34m[\u001b[0m\u001b[0;36m1\u001b[0m\u001b[0;34m]\u001b[0m\u001b[0;34m\u001b[0m\u001b[0;34m\u001b[0m\u001b[0m\n\u001b[1;32m      5\u001b[0m ])\n",
      "\u001b[0;32m<ipython-input-81-910ed84bf6ab>\u001b[0m in \u001b[0;36mget_coefs\u001b[0;34m(est)\u001b[0m\n\u001b[1;32m     13\u001b[0m         \u001b[0mX\u001b[0m \u001b[0;34m=\u001b[0m \u001b[0mpd\u001b[0m\u001b[0;34m.\u001b[0m\u001b[0mget_dummies\u001b[0m\u001b[0;34m(\u001b[0m\u001b[0mg\u001b[0m\u001b[0;34m.\u001b[0m\u001b[0mdrop\u001b[0m\u001b[0;34m(\u001b[0m\u001b[0;34m[\u001b[0m\u001b[0;34m'task'\u001b[0m\u001b[0;34m,\u001b[0m \u001b[0;34m'iteration'\u001b[0m\u001b[0;34m,\u001b[0m \u001b[0;34m'score'\u001b[0m\u001b[0;34m]\u001b[0m\u001b[0;34m,\u001b[0m \u001b[0maxis\u001b[0m\u001b[0;34m=\u001b[0m\u001b[0;36m1\u001b[0m\u001b[0;34m)\u001b[0m\u001b[0;34m.\u001b[0m\u001b[0mastype\u001b[0m\u001b[0;34m(\u001b[0m\u001b[0mstr\u001b[0m\u001b[0;34m)\u001b[0m\u001b[0;34m,\u001b[0m \u001b[0mprefix_sep\u001b[0m\u001b[0;34m=\u001b[0m\u001b[0;34m':'\u001b[0m\u001b[0;34m)\u001b[0m\u001b[0;34m\u001b[0m\u001b[0;34m\u001b[0m\u001b[0m\n\u001b[1;32m     14\u001b[0m         \u001b[0my\u001b[0m \u001b[0;34m=\u001b[0m \u001b[0mg\u001b[0m\u001b[0;34m[\u001b[0m\u001b[0;34m'score'\u001b[0m\u001b[0;34m]\u001b[0m\u001b[0;34m.\u001b[0m\u001b[0mvalues\u001b[0m\u001b[0;34m\u001b[0m\u001b[0;34m\u001b[0m\u001b[0m\n\u001b[0;32m---> 15\u001b[0;31m         \u001b[0mest\u001b[0m \u001b[0;34m=\u001b[0m \u001b[0mest\u001b[0m\u001b[0;34m.\u001b[0m\u001b[0mfit\u001b[0m\u001b[0;34m(\u001b[0m\u001b[0mX\u001b[0m\u001b[0;34m.\u001b[0m\u001b[0mvalues\u001b[0m\u001b[0;34m,\u001b[0m \u001b[0my\u001b[0m\u001b[0;34m)\u001b[0m\u001b[0;34m\u001b[0m\u001b[0;34m\u001b[0m\u001b[0m\n\u001b[0m\u001b[1;32m     16\u001b[0m         \u001b[0my_pred\u001b[0m \u001b[0;34m=\u001b[0m \u001b[0mest\u001b[0m\u001b[0;34m.\u001b[0m\u001b[0mpredict\u001b[0m\u001b[0;34m(\u001b[0m\u001b[0mX\u001b[0m\u001b[0;34m)\u001b[0m\u001b[0;34m\u001b[0m\u001b[0;34m\u001b[0m\u001b[0m\n\u001b[1;32m     17\u001b[0m         \u001b[0mscore\u001b[0m \u001b[0;34m=\u001b[0m \u001b[0mmax\u001b[0m\u001b[0;34m(\u001b[0m\u001b[0mr2_score\u001b[0m\u001b[0;34m(\u001b[0m\u001b[0my\u001b[0m\u001b[0;34m,\u001b[0m \u001b[0my_pred\u001b[0m\u001b[0;34m)\u001b[0m\u001b[0;34m,\u001b[0m \u001b[0;36m0\u001b[0m\u001b[0;34m)\u001b[0m\u001b[0;34m\u001b[0m\u001b[0;34m\u001b[0m\u001b[0m\n",
      "\u001b[0;32m/opt/conda/envs/nlp/lib/python3.6/site-packages/sklearn/linear_model/ridge.py\u001b[0m in \u001b[0;36mfit\u001b[0;34m(self, X, y, sample_weight)\u001b[0m\n\u001b[1;32m   1540\u001b[0m                                     solver=solver),\n\u001b[1;32m   1541\u001b[0m                               parameters, cv=cv, scoring=self.scoring)\n\u001b[0;32m-> 1542\u001b[0;31m             \u001b[0mgs\u001b[0m\u001b[0;34m.\u001b[0m\u001b[0mfit\u001b[0m\u001b[0;34m(\u001b[0m\u001b[0mX\u001b[0m\u001b[0;34m,\u001b[0m \u001b[0my\u001b[0m\u001b[0;34m,\u001b[0m \u001b[0msample_weight\u001b[0m\u001b[0;34m=\u001b[0m\u001b[0msample_weight\u001b[0m\u001b[0;34m)\u001b[0m\u001b[0;34m\u001b[0m\u001b[0;34m\u001b[0m\u001b[0m\n\u001b[0m\u001b[1;32m   1543\u001b[0m             \u001b[0mestimator\u001b[0m \u001b[0;34m=\u001b[0m \u001b[0mgs\u001b[0m\u001b[0;34m.\u001b[0m\u001b[0mbest_estimator_\u001b[0m\u001b[0;34m\u001b[0m\u001b[0;34m\u001b[0m\u001b[0m\n\u001b[1;32m   1544\u001b[0m             \u001b[0mself\u001b[0m\u001b[0;34m.\u001b[0m\u001b[0malpha_\u001b[0m \u001b[0;34m=\u001b[0m \u001b[0mgs\u001b[0m\u001b[0;34m.\u001b[0m\u001b[0mbest_estimator_\u001b[0m\u001b[0;34m.\u001b[0m\u001b[0malpha\u001b[0m\u001b[0;34m\u001b[0m\u001b[0;34m\u001b[0m\u001b[0m\n",
      "\u001b[0;32m/opt/conda/envs/nlp/lib/python3.6/site-packages/sklearn/model_selection/_search.py\u001b[0m in \u001b[0;36mfit\u001b[0;34m(self, X, y, groups, **fit_params)\u001b[0m\n\u001b[1;32m    685\u001b[0m                 \u001b[0;32mreturn\u001b[0m \u001b[0mresults\u001b[0m\u001b[0;34m\u001b[0m\u001b[0;34m\u001b[0m\u001b[0m\n\u001b[1;32m    686\u001b[0m \u001b[0;34m\u001b[0m\u001b[0m\n\u001b[0;32m--> 687\u001b[0;31m             \u001b[0mself\u001b[0m\u001b[0;34m.\u001b[0m\u001b[0m_run_search\u001b[0m\u001b[0;34m(\u001b[0m\u001b[0mevaluate_candidates\u001b[0m\u001b[0;34m)\u001b[0m\u001b[0;34m\u001b[0m\u001b[0;34m\u001b[0m\u001b[0m\n\u001b[0m\u001b[1;32m    688\u001b[0m \u001b[0;34m\u001b[0m\u001b[0m\n\u001b[1;32m    689\u001b[0m         \u001b[0;31m# For multi-metric evaluation, store the best_index_, best_params_ and\u001b[0m\u001b[0;34m\u001b[0m\u001b[0;34m\u001b[0m\u001b[0;34m\u001b[0m\u001b[0m\n",
      "\u001b[0;32m/opt/conda/envs/nlp/lib/python3.6/site-packages/sklearn/model_selection/_search.py\u001b[0m in \u001b[0;36m_run_search\u001b[0;34m(self, evaluate_candidates)\u001b[0m\n\u001b[1;32m   1146\u001b[0m     \u001b[0;32mdef\u001b[0m \u001b[0m_run_search\u001b[0m\u001b[0;34m(\u001b[0m\u001b[0mself\u001b[0m\u001b[0;34m,\u001b[0m \u001b[0mevaluate_candidates\u001b[0m\u001b[0;34m)\u001b[0m\u001b[0;34m:\u001b[0m\u001b[0;34m\u001b[0m\u001b[0;34m\u001b[0m\u001b[0m\n\u001b[1;32m   1147\u001b[0m         \u001b[0;34m\"\"\"Search all candidates in param_grid\"\"\"\u001b[0m\u001b[0;34m\u001b[0m\u001b[0;34m\u001b[0m\u001b[0m\n\u001b[0;32m-> 1148\u001b[0;31m         \u001b[0mevaluate_candidates\u001b[0m\u001b[0;34m(\u001b[0m\u001b[0mParameterGrid\u001b[0m\u001b[0;34m(\u001b[0m\u001b[0mself\u001b[0m\u001b[0;34m.\u001b[0m\u001b[0mparam_grid\u001b[0m\u001b[0;34m)\u001b[0m\u001b[0;34m)\u001b[0m\u001b[0;34m\u001b[0m\u001b[0;34m\u001b[0m\u001b[0m\n\u001b[0m\u001b[1;32m   1149\u001b[0m \u001b[0;34m\u001b[0m\u001b[0m\n\u001b[1;32m   1150\u001b[0m \u001b[0;34m\u001b[0m\u001b[0m\n",
      "\u001b[0;32m/opt/conda/envs/nlp/lib/python3.6/site-packages/sklearn/model_selection/_search.py\u001b[0m in \u001b[0;36mevaluate_candidates\u001b[0;34m(candidate_params)\u001b[0m\n\u001b[1;32m    664\u001b[0m                                \u001b[0;32mfor\u001b[0m \u001b[0mparameters\u001b[0m\u001b[0;34m,\u001b[0m \u001b[0;34m(\u001b[0m\u001b[0mtrain\u001b[0m\u001b[0;34m,\u001b[0m \u001b[0mtest\u001b[0m\u001b[0;34m)\u001b[0m\u001b[0;34m\u001b[0m\u001b[0;34m\u001b[0m\u001b[0m\n\u001b[1;32m    665\u001b[0m                                in product(candidate_params,\n\u001b[0;32m--> 666\u001b[0;31m                                           cv.split(X, y, groups)))\n\u001b[0m\u001b[1;32m    667\u001b[0m \u001b[0;34m\u001b[0m\u001b[0m\n\u001b[1;32m    668\u001b[0m                 \u001b[0;32mif\u001b[0m \u001b[0mlen\u001b[0m\u001b[0;34m(\u001b[0m\u001b[0mout\u001b[0m\u001b[0;34m)\u001b[0m \u001b[0;34m<\u001b[0m \u001b[0;36m1\u001b[0m\u001b[0;34m:\u001b[0m\u001b[0;34m\u001b[0m\u001b[0;34m\u001b[0m\u001b[0m\n",
      "\u001b[0;32m/opt/conda/envs/nlp/lib/python3.6/site-packages/sklearn/model_selection/_split.py\u001b[0m in \u001b[0;36msplit\u001b[0;34m(self, X, y, groups)\u001b[0m\n\u001b[1;32m    331\u001b[0m                 (\"Cannot have number of splits n_splits={0} greater\"\n\u001b[1;32m    332\u001b[0m                  \" than the number of samples: n_samples={1}.\")\n\u001b[0;32m--> 333\u001b[0;31m                 .format(self.n_splits, n_samples))\n\u001b[0m\u001b[1;32m    334\u001b[0m \u001b[0;34m\u001b[0m\u001b[0m\n\u001b[1;32m    335\u001b[0m         \u001b[0;32mfor\u001b[0m \u001b[0mtrain\u001b[0m\u001b[0;34m,\u001b[0m \u001b[0mtest\u001b[0m \u001b[0;32min\u001b[0m \u001b[0msuper\u001b[0m\u001b[0;34m(\u001b[0m\u001b[0;34m)\u001b[0m\u001b[0;34m.\u001b[0m\u001b[0msplit\u001b[0m\u001b[0;34m(\u001b[0m\u001b[0mX\u001b[0m\u001b[0;34m,\u001b[0m \u001b[0my\u001b[0m\u001b[0;34m,\u001b[0m \u001b[0mgroups\u001b[0m\u001b[0;34m)\u001b[0m\u001b[0;34m:\u001b[0m\u001b[0;34m\u001b[0m\u001b[0;34m\u001b[0m\u001b[0m\n",
      "\u001b[0;31mValueError\u001b[0m: Cannot have number of splits n_splits=5 greater than the number of samples: n_samples=3."
     ]
    },
    {
     "data": {
      "image/png": "[encoded data removed]",
      "text/plain": [
       "<Figure size 1296x288 with 1 Axes>"
      ]
     },
     "metadata": {
      "needs_background": "light"
     },
     "output_type": "display_data"
    }
   ],
   "source": [
    "df_coef = pd.concat([\n",
    "    get_coefs(RidgeCV(normalize=True, cv=5))[1],\n",
    "    get_coefs(LassoCV(normalize=True, cv=5, random_state=1))[1],\n",
    "    get_coefs(ElasticNetCV(normalize=True, cv=5, random_state=1))[1]\n",
    "])\n",
    "\n",
    "# Add weight for each model as R2 for model / R2 for all models\n",
    "df_coef = df_coef.groupby('task', group_keys=False).apply(lambda g: g.assign(weight=(g['score'] / g['score'].sum())))\n",
    "df_coef = df_coef.set_index(['task', 'score', 'est', 'weight'])\n",
    "\n",
    "df_coef.head()"
   ]
  },
  {
   "cell_type": "code",
   "execution_count": 37,
   "metadata": {},
   "outputs": [
    {
     "data": {
      "text/html": [
       "<div>\n",
       "<style scoped>\n",
       "    .dataframe tbody tr th:only-of-type {\n",
       "        vertical-align: middle;\n",
       "    }\n",
       "\n",
       "    .dataframe tbody tr th {\n",
       "        vertical-align: top;\n",
       "    }\n",
       "\n",
       "    .dataframe thead th {\n",
       "        text-align: right;\n",
       "    }\n",
       "</style>\n",
       "<table border=\"1\" class=\"dataframe\">\n",
       "  <thead>\n",
       "    <tr style=\"text-align: right;\">\n",
       "      <th></th>\n",
       "      <th>task</th>\n",
       "      <th>score</th>\n",
       "      <th>est</th>\n",
       "      <th>weight</th>\n",
       "      <th>parameter</th>\n",
       "      <th>value</th>\n",
       "      <th>weighted_value</th>\n",
       "    </tr>\n",
       "  </thead>\n",
       "  <tbody>\n",
       "    <tr>\n",
       "      <th>0</th>\n",
       "      <td>inducing_cytokine</td>\n",
       "      <td>0.618068</td>\n",
       "      <td>RidgeCV</td>\n",
       "      <td>0.306541</td>\n",
       "      <td>bidirectional:False</td>\n",
       "      <td>0.000000</td>\n",
       "      <td>0.000000</td>\n",
       "    </tr>\n",
       "    <tr>\n",
       "      <th>1</th>\n",
       "      <td>inducing_cytokine</td>\n",
       "      <td>0.618068</td>\n",
       "      <td>RidgeCV</td>\n",
       "      <td>0.306541</td>\n",
       "      <td>cell_type:LSTM</td>\n",
       "      <td>0.000000</td>\n",
       "      <td>0.000000</td>\n",
       "    </tr>\n",
       "    <tr>\n",
       "      <th>2</th>\n",
       "      <td>inducing_cytokine</td>\n",
       "      <td>0.618068</td>\n",
       "      <td>RidgeCV</td>\n",
       "      <td>0.306541</td>\n",
       "      <td>dropout:0.0</td>\n",
       "      <td>0.031066</td>\n",
       "      <td>0.009523</td>\n",
       "    </tr>\n",
       "    <tr>\n",
       "      <th>3</th>\n",
       "      <td>inducing_cytokine</td>\n",
       "      <td>0.618068</td>\n",
       "      <td>RidgeCV</td>\n",
       "      <td>0.306541</td>\n",
       "      <td>dropout:0.25</td>\n",
       "      <td>-0.023913</td>\n",
       "      <td>-0.007330</td>\n",
       "    </tr>\n",
       "    <tr>\n",
       "      <th>4</th>\n",
       "      <td>inducing_cytokine</td>\n",
       "      <td>0.618068</td>\n",
       "      <td>RidgeCV</td>\n",
       "      <td>0.306541</td>\n",
       "      <td>dropout:0.5</td>\n",
       "      <td>0.006178</td>\n",
       "      <td>0.001894</td>\n",
       "    </tr>\n",
       "  </tbody>\n",
       "</table>\n",
       "</div>"
      ],
      "text/plain": [
       "                task     score      est    weight            parameter  \\\n",
       "0  inducing_cytokine  0.618068  RidgeCV  0.306541  bidirectional:False   \n",
       "1  inducing_cytokine  0.618068  RidgeCV  0.306541       cell_type:LSTM   \n",
       "2  inducing_cytokine  0.618068  RidgeCV  0.306541          dropout:0.0   \n",
       "3  inducing_cytokine  0.618068  RidgeCV  0.306541         dropout:0.25   \n",
       "4  inducing_cytokine  0.618068  RidgeCV  0.306541          dropout:0.5   \n",
       "\n",
       "      value  weighted_value  \n",
       "0  0.000000        0.000000  \n",
       "1  0.000000        0.000000  \n",
       "2  0.031066        0.009523  \n",
       "3 -0.023913       -0.007330  \n",
       "4  0.006178        0.001894  "
      ]
     },
     "execution_count": 37,
     "metadata": {},
     "output_type": "execute_result"
    }
   ],
   "source": [
    "df_coef_lng = df_coef.rename_axis('parameter', axis='columns').stack().rename('value').reset_index()\n",
    "df_coef_lng['weighted_value'] = df_coef_lng['value'] * df_coef_lng['weight']\n",
    "df_coef_lng.head()"
   ]
  },
  {
   "cell_type": "code",
   "execution_count": 38,
   "metadata": {},
   "outputs": [
    {
     "data": {
      "image/png": "[encoded data removed]",
      "text/plain": [
       "<Figure size 1200x800 with 3 Axes>"
      ]
     },
     "metadata": {},
     "output_type": "display_data"
    },
    {
     "data": {
      "text/plain": [
       "<ggplot: (-9223363302176086205)>"
      ]
     },
     "execution_count": 38,
     "metadata": {},
     "output_type": "execute_result"
    }
   ],
   "source": [
    "(\n",
    "    pn.ggplot(\n",
    "        df_coef_lng.assign(parameter=lambda df: pd.Categorical(\n",
    "            df['parameter'], ordered=True, \n",
    "            categories=df.groupby('parameter')['weighted_value'].mean().sort_values().index\n",
    "        )), \n",
    "        pn.aes(x='parameter', y='value', fill='task', color='task', group='task')\n",
    "    ) + \n",
    "    pn.geom_point() +\n",
    "    pn.geom_line() + \n",
    "    pn.ggtitle('Parameter Coefficients by Model') + \n",
    "    pn.facet_wrap('~ est', ncol=1) +\n",
    "    pn.theme(figure_size=(12, 8), axis_text_x=pn.element_text(rotation=90, hjust=.5))\n",
    ")"
   ]
  },
  {
   "cell_type": "markdown",
   "metadata": {},
   "source": [
    "### Score Distributions"
   ]
  },
  {
   "cell_type": "code",
   "execution_count": 92,
   "metadata": {},
   "outputs": [
    {
     "data": {
      "text/html": [
       "<div>\n",
       "<style scoped>\n",
       "    .dataframe tbody tr th:only-of-type {\n",
       "        vertical-align: middle;\n",
       "    }\n",
       "\n",
       "    .dataframe tbody tr th {\n",
       "        vertical-align: top;\n",
       "    }\n",
       "\n",
       "    .dataframe thead th {\n",
       "        text-align: right;\n",
       "    }\n",
       "</style>\n",
       "<table border=\"1\" class=\"dataframe\">\n",
       "  <thead>\n",
       "    <tr style=\"text-align: right;\">\n",
       "      <th></th>\n",
       "      <th>iteration</th>\n",
       "      <th>type</th>\n",
       "      <th>metric</th>\n",
       "      <th>value</th>\n",
       "      <th>task</th>\n",
       "    </tr>\n",
       "  </thead>\n",
       "  <tbody>\n",
       "    <tr>\n",
       "      <th>0</th>\n",
       "      <td>0</td>\n",
       "      <td>test</td>\n",
       "      <td>accuracy</td>\n",
       "      <td>0.800000</td>\n",
       "      <td>inducing_cytokine</td>\n",
       "    </tr>\n",
       "    <tr>\n",
       "      <th>1</th>\n",
       "      <td>0</td>\n",
       "      <td>test</td>\n",
       "      <td>ct</td>\n",
       "      <td>100.000000</td>\n",
       "      <td>inducing_cytokine</td>\n",
       "    </tr>\n",
       "    <tr>\n",
       "      <th>2</th>\n",
       "      <td>0</td>\n",
       "      <td>test</td>\n",
       "      <td>f1</td>\n",
       "      <td>0.333333</td>\n",
       "      <td>inducing_cytokine</td>\n",
       "    </tr>\n",
       "    <tr>\n",
       "      <th>3</th>\n",
       "      <td>0</td>\n",
       "      <td>test</td>\n",
       "      <td>loss</td>\n",
       "      <td>0.575303</td>\n",
       "      <td>inducing_cytokine</td>\n",
       "    </tr>\n",
       "    <tr>\n",
       "      <th>4</th>\n",
       "      <td>0</td>\n",
       "      <td>test</td>\n",
       "      <td>lr</td>\n",
       "      <td>0.002500</td>\n",
       "      <td>inducing_cytokine</td>\n",
       "    </tr>\n",
       "  </tbody>\n",
       "</table>\n",
       "</div>"
      ],
      "text/plain": [
       "   iteration  type    metric       value               task\n",
       "0          0  test  accuracy    0.800000  inducing_cytokine\n",
       "1          0  test        ct  100.000000  inducing_cytokine\n",
       "2          0  test        f1    0.333333  inducing_cytokine\n",
       "3          0  test      loss    0.575303  inducing_cytokine\n",
       "4          0  test        lr    0.002500  inducing_cytokine"
      ]
     },
     "execution_count": 92,
     "metadata": {},
     "output_type": "execute_result"
    }
   ],
   "source": [
    "df_score = pd.concat([v[1].assign(task=k) for k, v in results.items()])\n",
    "df_score.head()"
   ]
  },
  {
   "cell_type": "code",
   "execution_count": 94,
   "metadata": {},
   "outputs": [
    {
     "data": {
      "text/html": [
       "<div>\n",
       "<style scoped>\n",
       "    .dataframe tbody tr th:only-of-type {\n",
       "        vertical-align: middle;\n",
       "    }\n",
       "\n",
       "    .dataframe tbody tr th {\n",
       "        vertical-align: top;\n",
       "    }\n",
       "\n",
       "    .dataframe thead tr th {\n",
       "        text-align: left;\n",
       "    }\n",
       "\n",
       "    .dataframe thead tr:last-of-type th {\n",
       "        text-align: right;\n",
       "    }\n",
       "</style>\n",
       "<table border=\"1\" class=\"dataframe\">\n",
       "  <thead>\n",
       "    <tr>\n",
       "      <th></th>\n",
       "      <th>agg</th>\n",
       "      <th colspan=\"2\" halign=\"left\">count</th>\n",
       "      <th colspan=\"2\" halign=\"left\">percent</th>\n",
       "    </tr>\n",
       "    <tr>\n",
       "      <th></th>\n",
       "      <th>label</th>\n",
       "      <th>0</th>\n",
       "      <th>1</th>\n",
       "      <th>0</th>\n",
       "      <th>1</th>\n",
       "    </tr>\n",
       "    <tr>\n",
       "      <th>task</th>\n",
       "      <th>split</th>\n",
       "      <th></th>\n",
       "      <th></th>\n",
       "      <th></th>\n",
       "      <th></th>\n",
       "    </tr>\n",
       "  </thead>\n",
       "  <tbody>\n",
       "    <tr>\n",
       "      <th rowspan=\"3\" valign=\"top\">inducing_cytokine</th>\n",
       "      <th>test</th>\n",
       "      <td>86</td>\n",
       "      <td>14</td>\n",
       "      <td>0.86</td>\n",
       "      <td>0.14</td>\n",
       "    </tr>\n",
       "    <tr>\n",
       "      <th>train</th>\n",
       "      <td>41513</td>\n",
       "      <td>7143</td>\n",
       "      <td>0.85</td>\n",
       "      <td>0.15</td>\n",
       "    </tr>\n",
       "    <tr>\n",
       "      <th>val</th>\n",
       "      <td>84</td>\n",
       "      <td>13</td>\n",
       "      <td>0.87</td>\n",
       "      <td>0.13</td>\n",
       "    </tr>\n",
       "    <tr>\n",
       "      <th rowspan=\"3\" valign=\"top\">inducing_transcription_factor</th>\n",
       "      <th>test</th>\n",
       "      <td>82</td>\n",
       "      <td>18</td>\n",
       "      <td>0.82</td>\n",
       "      <td>0.18</td>\n",
       "    </tr>\n",
       "    <tr>\n",
       "      <th>train</th>\n",
       "      <td>18062</td>\n",
       "      <td>4921</td>\n",
       "      <td>0.79</td>\n",
       "      <td>0.21</td>\n",
       "    </tr>\n",
       "    <tr>\n",
       "      <th>val</th>\n",
       "      <td>95</td>\n",
       "      <td>22</td>\n",
       "      <td>0.81</td>\n",
       "      <td>0.19</td>\n",
       "    </tr>\n",
       "    <tr>\n",
       "      <th rowspan=\"3\" valign=\"top\">secreted_cytokine</th>\n",
       "      <th>test</th>\n",
       "      <td>80</td>\n",
       "      <td>20</td>\n",
       "      <td>0.80</td>\n",
       "      <td>0.20</td>\n",
       "    </tr>\n",
       "    <tr>\n",
       "      <th>train</th>\n",
       "      <td>41904</td>\n",
       "      <td>6623</td>\n",
       "      <td>0.86</td>\n",
       "      <td>0.14</td>\n",
       "    </tr>\n",
       "    <tr>\n",
       "      <th>val</th>\n",
       "      <td>79</td>\n",
       "      <td>19</td>\n",
       "      <td>0.81</td>\n",
       "      <td>0.19</td>\n",
       "    </tr>\n",
       "  </tbody>\n",
       "</table>\n",
       "</div>"
      ],
      "text/plain": [
       "agg                                  count       percent      \n",
       "label                                    0     1       0     1\n",
       "task                          split                           \n",
       "inducing_cytokine             test      86    14    0.86  0.14\n",
       "                              train  41513  7143    0.85  0.15\n",
       "                              val       84    13    0.87  0.13\n",
       "inducing_transcription_factor test      82    18    0.82  0.18\n",
       "                              train  18062  4921    0.79  0.21\n",
       "                              val       95    22    0.81  0.19\n",
       "secreted_cytokine             test      80    20    0.80  0.20\n",
       "                              train  41904  6623    0.86  0.14\n",
       "                              val       79    19    0.81  0.19"
      ]
     },
     "execution_count": 94,
     "metadata": {},
     "output_type": "execute_result"
    }
   ],
   "source": [
    "# Label balance\n",
    "df_lbl = df_cand.assign(label=lambda df: np.where(df['label'] > .5, 1, 0))\n",
    "pd.concat([\n",
    "    df_lbl.assign(agg='count').groupby(['task', 'split', 'agg'])['label'].value_counts().unstack([-2, -1]),\n",
    "    df_lbl.assign(agg='percent').groupby(['task', 'split', 'agg'])['label'].value_counts(normalize=True).unstack([-2, -1]).round(2)\n",
    "], axis=1)"
   ]
  },
  {
   "cell_type": "code",
   "execution_count": 101,
   "metadata": {},
   "outputs": [],
   "source": [
    "# Scores at best validation F1 iteration\n",
    "def get_scores_table(metrics):\n",
    "    df_bal = (\n",
    "        df_lbl.assign(metric='balance').groupby(['task', 'metric', 'split'])['label'].value_counts(normalize=True)\n",
    "        .unstack().round(2)[1].unstack([-2, -1])\n",
    "    )\n",
    "    return (\n",
    "        df_score\n",
    "        .pivot_table(index=['task', 'iteration'], columns=['metric', 'type'], values='value')\n",
    "        .pipe(lambda df: df.groupby('task').apply(lambda g: g.iloc[np.argmax(g[('f1', 'validation')].values)])[metrics])\n",
    "        .round(2)\n",
    "        .pipe(lambda df: pd.concat([df, df_bal], axis=1, sort=True))\n",
    "        .style.background_gradient(low=.1, high=.3)\n",
    "    )"
   ]
  },
  {
   "cell_type": "code",
   "execution_count": 102,
   "metadata": {},
   "outputs": [
    {
     "data": {
      "text/html": [
       "<style  type=\"text/css\" >\n",
       "    #T_03ac5634_a288_11e9_9e67_0242ac110002row0_col0 {\n",
       "            background-color:  #fff7fb;\n",
       "            color:  #000000;\n",
       "        }    #T_03ac5634_a288_11e9_9e67_0242ac110002row0_col1 {\n",
       "            background-color:  #fff7fb;\n",
       "            color:  #000000;\n",
       "        }    #T_03ac5634_a288_11e9_9e67_0242ac110002row0_col2 {\n",
       "            background-color:  #fff7fb;\n",
       "            color:  #000000;\n",
       "        }    #T_03ac5634_a288_11e9_9e67_0242ac110002row0_col3 {\n",
       "            background-color:  #fff7fb;\n",
       "            color:  #000000;\n",
       "        }    #T_03ac5634_a288_11e9_9e67_0242ac110002row0_col4 {\n",
       "            background-color:  #fff7fb;\n",
       "            color:  #000000;\n",
       "        }    #T_03ac5634_a288_11e9_9e67_0242ac110002row0_col5 {\n",
       "            background-color:  #fff7fb;\n",
       "            color:  #000000;\n",
       "        }    #T_03ac5634_a288_11e9_9e67_0242ac110002row0_col6 {\n",
       "            background-color:  #fff7fb;\n",
       "            color:  #000000;\n",
       "        }    #T_03ac5634_a288_11e9_9e67_0242ac110002row0_col7 {\n",
       "            background-color:  #fff7fb;\n",
       "            color:  #000000;\n",
       "        }    #T_03ac5634_a288_11e9_9e67_0242ac110002row0_col8 {\n",
       "            background-color:  #fff7fb;\n",
       "            color:  #000000;\n",
       "        }    #T_03ac5634_a288_11e9_9e67_0242ac110002row0_col9 {\n",
       "            background-color:  #fff7fb;\n",
       "            color:  #000000;\n",
       "        }    #T_03ac5634_a288_11e9_9e67_0242ac110002row0_col10 {\n",
       "            background-color:  #fff7fb;\n",
       "            color:  #000000;\n",
       "        }    #T_03ac5634_a288_11e9_9e67_0242ac110002row0_col11 {\n",
       "            background-color:  #fff7fb;\n",
       "            color:  #000000;\n",
       "        }    #T_03ac5634_a288_11e9_9e67_0242ac110002row0_col12 {\n",
       "            background-color:  #fff7fb;\n",
       "            color:  #000000;\n",
       "        }    #T_03ac5634_a288_11e9_9e67_0242ac110002row0_col13 {\n",
       "            background-color:  #fff7fb;\n",
       "            color:  #000000;\n",
       "        }    #T_03ac5634_a288_11e9_9e67_0242ac110002row0_col14 {\n",
       "            background-color:  #fff7fb;\n",
       "            color:  #000000;\n",
       "        }    #T_03ac5634_a288_11e9_9e67_0242ac110002row0_col15 {\n",
       "            background-color:  #f4eef6;\n",
       "            color:  #000000;\n",
       "        }    #T_03ac5634_a288_11e9_9e67_0242ac110002row0_col16 {\n",
       "            background-color:  #e1dfed;\n",
       "            color:  #000000;\n",
       "        }    #T_03ac5634_a288_11e9_9e67_0242ac110002row0_col17 {\n",
       "            background-color:  #f4eef6;\n",
       "            color:  #000000;\n",
       "        }    #T_03ac5634_a288_11e9_9e67_0242ac110002row1_col0 {\n",
       "            background-color:  #fff7fb;\n",
       "            color:  #000000;\n",
       "        }    #T_03ac5634_a288_11e9_9e67_0242ac110002row1_col1 {\n",
       "            background-color:  #fff7fb;\n",
       "            color:  #000000;\n",
       "        }    #T_03ac5634_a288_11e9_9e67_0242ac110002row1_col2 {\n",
       "            background-color:  #fff7fb;\n",
       "            color:  #000000;\n",
       "        }    #T_03ac5634_a288_11e9_9e67_0242ac110002row1_col3 {\n",
       "            background-color:  #fff7fb;\n",
       "            color:  #000000;\n",
       "        }    #T_03ac5634_a288_11e9_9e67_0242ac110002row1_col4 {\n",
       "            background-color:  #fff7fb;\n",
       "            color:  #000000;\n",
       "        }    #T_03ac5634_a288_11e9_9e67_0242ac110002row1_col5 {\n",
       "            background-color:  #fff7fb;\n",
       "            color:  #000000;\n",
       "        }    #T_03ac5634_a288_11e9_9e67_0242ac110002row1_col6 {\n",
       "            background-color:  #fff7fb;\n",
       "            color:  #000000;\n",
       "        }    #T_03ac5634_a288_11e9_9e67_0242ac110002row1_col7 {\n",
       "            background-color:  #fff7fb;\n",
       "            color:  #000000;\n",
       "        }    #T_03ac5634_a288_11e9_9e67_0242ac110002row1_col8 {\n",
       "            background-color:  #fff7fb;\n",
       "            color:  #000000;\n",
       "        }    #T_03ac5634_a288_11e9_9e67_0242ac110002row1_col9 {\n",
       "            background-color:  #fff7fb;\n",
       "            color:  #000000;\n",
       "        }    #T_03ac5634_a288_11e9_9e67_0242ac110002row1_col10 {\n",
       "            background-color:  #fff7fb;\n",
       "            color:  #000000;\n",
       "        }    #T_03ac5634_a288_11e9_9e67_0242ac110002row1_col11 {\n",
       "            background-color:  #fff7fb;\n",
       "            color:  #000000;\n",
       "        }    #T_03ac5634_a288_11e9_9e67_0242ac110002row1_col12 {\n",
       "            background-color:  #fff7fb;\n",
       "            color:  #000000;\n",
       "        }    #T_03ac5634_a288_11e9_9e67_0242ac110002row1_col13 {\n",
       "            background-color:  #fff7fb;\n",
       "            color:  #000000;\n",
       "        }    #T_03ac5634_a288_11e9_9e67_0242ac110002row1_col14 {\n",
       "            background-color:  #fff7fb;\n",
       "            color:  #000000;\n",
       "        }    #T_03ac5634_a288_11e9_9e67_0242ac110002row1_col15 {\n",
       "            background-color:  #5c9fc9;\n",
       "            color:  #000000;\n",
       "        }    #T_03ac5634_a288_11e9_9e67_0242ac110002row1_col16 {\n",
       "            background-color:  #0569a5;\n",
       "            color:  #f1f1f1;\n",
       "        }    #T_03ac5634_a288_11e9_9e67_0242ac110002row1_col17 {\n",
       "            background-color:  #0569a5;\n",
       "            color:  #f1f1f1;\n",
       "        }    #T_03ac5634_a288_11e9_9e67_0242ac110002row2_col0 {\n",
       "            background-color:  #fff7fb;\n",
       "            color:  #000000;\n",
       "        }    #T_03ac5634_a288_11e9_9e67_0242ac110002row2_col1 {\n",
       "            background-color:  #fff7fb;\n",
       "            color:  #000000;\n",
       "        }    #T_03ac5634_a288_11e9_9e67_0242ac110002row2_col2 {\n",
       "            background-color:  #fff7fb;\n",
       "            color:  #000000;\n",
       "        }    #T_03ac5634_a288_11e9_9e67_0242ac110002row2_col3 {\n",
       "            background-color:  #fff7fb;\n",
       "            color:  #000000;\n",
       "        }    #T_03ac5634_a288_11e9_9e67_0242ac110002row2_col4 {\n",
       "            background-color:  #fff7fb;\n",
       "            color:  #000000;\n",
       "        }    #T_03ac5634_a288_11e9_9e67_0242ac110002row2_col5 {\n",
       "            background-color:  #fff7fb;\n",
       "            color:  #000000;\n",
       "        }    #T_03ac5634_a288_11e9_9e67_0242ac110002row2_col6 {\n",
       "            background-color:  #fff7fb;\n",
       "            color:  #000000;\n",
       "        }    #T_03ac5634_a288_11e9_9e67_0242ac110002row2_col7 {\n",
       "            background-color:  #fff7fb;\n",
       "            color:  #000000;\n",
       "        }    #T_03ac5634_a288_11e9_9e67_0242ac110002row2_col8 {\n",
       "            background-color:  #fff7fb;\n",
       "            color:  #000000;\n",
       "        }    #T_03ac5634_a288_11e9_9e67_0242ac110002row2_col9 {\n",
       "            background-color:  #fff7fb;\n",
       "            color:  #000000;\n",
       "        }    #T_03ac5634_a288_11e9_9e67_0242ac110002row2_col10 {\n",
       "            background-color:  #fff7fb;\n",
       "            color:  #000000;\n",
       "        }    #T_03ac5634_a288_11e9_9e67_0242ac110002row2_col11 {\n",
       "            background-color:  #fff7fb;\n",
       "            color:  #000000;\n",
       "        }    #T_03ac5634_a288_11e9_9e67_0242ac110002row2_col12 {\n",
       "            background-color:  #fff7fb;\n",
       "            color:  #000000;\n",
       "        }    #T_03ac5634_a288_11e9_9e67_0242ac110002row2_col13 {\n",
       "            background-color:  #fff7fb;\n",
       "            color:  #000000;\n",
       "        }    #T_03ac5634_a288_11e9_9e67_0242ac110002row2_col14 {\n",
       "            background-color:  #fff7fb;\n",
       "            color:  #000000;\n",
       "        }    #T_03ac5634_a288_11e9_9e67_0242ac110002row2_col15 {\n",
       "            background-color:  #0569a5;\n",
       "            color:  #f1f1f1;\n",
       "        }    #T_03ac5634_a288_11e9_9e67_0242ac110002row2_col16 {\n",
       "            background-color:  #f4eef6;\n",
       "            color:  #000000;\n",
       "        }    #T_03ac5634_a288_11e9_9e67_0242ac110002row2_col17 {\n",
       "            background-color:  #0569a5;\n",
       "            color:  #f1f1f1;\n",
       "        }</style><table id=\"T_03ac5634_a288_11e9_9e67_0242ac110002\" ><thead>    <tr>        <th class=\"index_name level0\" >metric</th>        <th class=\"col_heading level0 col0\" colspan=3>ct</th>        <th class=\"col_heading level0 col3\" colspan=3>f1</th>        <th class=\"col_heading level0 col6\" colspan=3>accuracy</th>        <th class=\"col_heading level0 col9\" colspan=3>precision</th>        <th class=\"col_heading level0 col12\" colspan=3>recall</th>        <th class=\"col_heading level0 col15\" colspan=3>balance</th>    </tr>    <tr>        <th class=\"index_name level1\" >type</th>        <th class=\"col_heading level1 col0\" >test</th>        <th class=\"col_heading level1 col1\" >training</th>        <th class=\"col_heading level1 col2\" >validation</th>        <th class=\"col_heading level1 col3\" >test</th>        <th class=\"col_heading level1 col4\" >training</th>        <th class=\"col_heading level1 col5\" >validation</th>        <th class=\"col_heading level1 col6\" >test</th>        <th class=\"col_heading level1 col7\" >training</th>        <th class=\"col_heading level1 col8\" >validation</th>        <th class=\"col_heading level1 col9\" >test</th>        <th class=\"col_heading level1 col10\" >training</th>        <th class=\"col_heading level1 col11\" >validation</th>        <th class=\"col_heading level1 col12\" >test</th>        <th class=\"col_heading level1 col13\" >training</th>        <th class=\"col_heading level1 col14\" >validation</th>        <th class=\"col_heading level1 col15\" >test</th>        <th class=\"col_heading level1 col16\" >train</th>        <th class=\"col_heading level1 col17\" >val</th>    </tr></thead><tbody>\n",
       "                <tr>\n",
       "                        <th id=\"T_03ac5634_a288_11e9_9e67_0242ac110002level0_row0\" class=\"row_heading level0 row0\" >inducing_cytokine</th>\n",
       "                        <td id=\"T_03ac5634_a288_11e9_9e67_0242ac110002row0_col0\" class=\"data row0 col0\" >100</td>\n",
       "                        <td id=\"T_03ac5634_a288_11e9_9e67_0242ac110002row0_col1\" class=\"data row0 col1\" >10000</td>\n",
       "                        <td id=\"T_03ac5634_a288_11e9_9e67_0242ac110002row0_col2\" class=\"data row0 col2\" >97</td>\n",
       "                        <td id=\"T_03ac5634_a288_11e9_9e67_0242ac110002row0_col3\" class=\"data row0 col3\" >0.33</td>\n",
       "                        <td id=\"T_03ac5634_a288_11e9_9e67_0242ac110002row0_col4\" class=\"data row0 col4\" >0.76</td>\n",
       "                        <td id=\"T_03ac5634_a288_11e9_9e67_0242ac110002row0_col5\" class=\"data row0 col5\" >0.52</td>\n",
       "                        <td id=\"T_03ac5634_a288_11e9_9e67_0242ac110002row0_col6\" class=\"data row0 col6\" >0.8</td>\n",
       "                        <td id=\"T_03ac5634_a288_11e9_9e67_0242ac110002row0_col7\" class=\"data row0 col7\" >0.93</td>\n",
       "                        <td id=\"T_03ac5634_a288_11e9_9e67_0242ac110002row0_col8\" class=\"data row0 col8\" >0.89</td>\n",
       "                        <td id=\"T_03ac5634_a288_11e9_9e67_0242ac110002row0_col9\" class=\"data row0 col9\" >0.31</td>\n",
       "                        <td id=\"T_03ac5634_a288_11e9_9e67_0242ac110002row0_col10\" class=\"data row0 col10\" >0.8</td>\n",
       "                        <td id=\"T_03ac5634_a288_11e9_9e67_0242ac110002row0_col11\" class=\"data row0 col11\" >0.6</td>\n",
       "                        <td id=\"T_03ac5634_a288_11e9_9e67_0242ac110002row0_col12\" class=\"data row0 col12\" >0.36</td>\n",
       "                        <td id=\"T_03ac5634_a288_11e9_9e67_0242ac110002row0_col13\" class=\"data row0 col13\" >0.73</td>\n",
       "                        <td id=\"T_03ac5634_a288_11e9_9e67_0242ac110002row0_col14\" class=\"data row0 col14\" >0.46</td>\n",
       "                        <td id=\"T_03ac5634_a288_11e9_9e67_0242ac110002row0_col15\" class=\"data row0 col15\" >0.14</td>\n",
       "                        <td id=\"T_03ac5634_a288_11e9_9e67_0242ac110002row0_col16\" class=\"data row0 col16\" >0.15</td>\n",
       "                        <td id=\"T_03ac5634_a288_11e9_9e67_0242ac110002row0_col17\" class=\"data row0 col17\" >0.13</td>\n",
       "            </tr>\n",
       "            <tr>\n",
       "                        <th id=\"T_03ac5634_a288_11e9_9e67_0242ac110002level0_row1\" class=\"row_heading level0 row1\" >inducing_transcription_factor</th>\n",
       "                        <td id=\"T_03ac5634_a288_11e9_9e67_0242ac110002row1_col0\" class=\"data row1 col0\" >nan</td>\n",
       "                        <td id=\"T_03ac5634_a288_11e9_9e67_0242ac110002row1_col1\" class=\"data row1 col1\" >nan</td>\n",
       "                        <td id=\"T_03ac5634_a288_11e9_9e67_0242ac110002row1_col2\" class=\"data row1 col2\" >nan</td>\n",
       "                        <td id=\"T_03ac5634_a288_11e9_9e67_0242ac110002row1_col3\" class=\"data row1 col3\" >nan</td>\n",
       "                        <td id=\"T_03ac5634_a288_11e9_9e67_0242ac110002row1_col4\" class=\"data row1 col4\" >nan</td>\n",
       "                        <td id=\"T_03ac5634_a288_11e9_9e67_0242ac110002row1_col5\" class=\"data row1 col5\" >nan</td>\n",
       "                        <td id=\"T_03ac5634_a288_11e9_9e67_0242ac110002row1_col6\" class=\"data row1 col6\" >nan</td>\n",
       "                        <td id=\"T_03ac5634_a288_11e9_9e67_0242ac110002row1_col7\" class=\"data row1 col7\" >nan</td>\n",
       "                        <td id=\"T_03ac5634_a288_11e9_9e67_0242ac110002row1_col8\" class=\"data row1 col8\" >nan</td>\n",
       "                        <td id=\"T_03ac5634_a288_11e9_9e67_0242ac110002row1_col9\" class=\"data row1 col9\" >nan</td>\n",
       "                        <td id=\"T_03ac5634_a288_11e9_9e67_0242ac110002row1_col10\" class=\"data row1 col10\" >nan</td>\n",
       "                        <td id=\"T_03ac5634_a288_11e9_9e67_0242ac110002row1_col11\" class=\"data row1 col11\" >nan</td>\n",
       "                        <td id=\"T_03ac5634_a288_11e9_9e67_0242ac110002row1_col12\" class=\"data row1 col12\" >nan</td>\n",
       "                        <td id=\"T_03ac5634_a288_11e9_9e67_0242ac110002row1_col13\" class=\"data row1 col13\" >nan</td>\n",
       "                        <td id=\"T_03ac5634_a288_11e9_9e67_0242ac110002row1_col14\" class=\"data row1 col14\" >nan</td>\n",
       "                        <td id=\"T_03ac5634_a288_11e9_9e67_0242ac110002row1_col15\" class=\"data row1 col15\" >0.18</td>\n",
       "                        <td id=\"T_03ac5634_a288_11e9_9e67_0242ac110002row1_col16\" class=\"data row1 col16\" >0.21</td>\n",
       "                        <td id=\"T_03ac5634_a288_11e9_9e67_0242ac110002row1_col17\" class=\"data row1 col17\" >0.19</td>\n",
       "            </tr>\n",
       "            <tr>\n",
       "                        <th id=\"T_03ac5634_a288_11e9_9e67_0242ac110002level0_row2\" class=\"row_heading level0 row2\" >secreted_cytokine</th>\n",
       "                        <td id=\"T_03ac5634_a288_11e9_9e67_0242ac110002row2_col0\" class=\"data row2 col0\" >nan</td>\n",
       "                        <td id=\"T_03ac5634_a288_11e9_9e67_0242ac110002row2_col1\" class=\"data row2 col1\" >nan</td>\n",
       "                        <td id=\"T_03ac5634_a288_11e9_9e67_0242ac110002row2_col2\" class=\"data row2 col2\" >nan</td>\n",
       "                        <td id=\"T_03ac5634_a288_11e9_9e67_0242ac110002row2_col3\" class=\"data row2 col3\" >nan</td>\n",
       "                        <td id=\"T_03ac5634_a288_11e9_9e67_0242ac110002row2_col4\" class=\"data row2 col4\" >nan</td>\n",
       "                        <td id=\"T_03ac5634_a288_11e9_9e67_0242ac110002row2_col5\" class=\"data row2 col5\" >nan</td>\n",
       "                        <td id=\"T_03ac5634_a288_11e9_9e67_0242ac110002row2_col6\" class=\"data row2 col6\" >nan</td>\n",
       "                        <td id=\"T_03ac5634_a288_11e9_9e67_0242ac110002row2_col7\" class=\"data row2 col7\" >nan</td>\n",
       "                        <td id=\"T_03ac5634_a288_11e9_9e67_0242ac110002row2_col8\" class=\"data row2 col8\" >nan</td>\n",
       "                        <td id=\"T_03ac5634_a288_11e9_9e67_0242ac110002row2_col9\" class=\"data row2 col9\" >nan</td>\n",
       "                        <td id=\"T_03ac5634_a288_11e9_9e67_0242ac110002row2_col10\" class=\"data row2 col10\" >nan</td>\n",
       "                        <td id=\"T_03ac5634_a288_11e9_9e67_0242ac110002row2_col11\" class=\"data row2 col11\" >nan</td>\n",
       "                        <td id=\"T_03ac5634_a288_11e9_9e67_0242ac110002row2_col12\" class=\"data row2 col12\" >nan</td>\n",
       "                        <td id=\"T_03ac5634_a288_11e9_9e67_0242ac110002row2_col13\" class=\"data row2 col13\" >nan</td>\n",
       "                        <td id=\"T_03ac5634_a288_11e9_9e67_0242ac110002row2_col14\" class=\"data row2 col14\" >nan</td>\n",
       "                        <td id=\"T_03ac5634_a288_11e9_9e67_0242ac110002row2_col15\" class=\"data row2 col15\" >0.2</td>\n",
       "                        <td id=\"T_03ac5634_a288_11e9_9e67_0242ac110002row2_col16\" class=\"data row2 col16\" >0.14</td>\n",
       "                        <td id=\"T_03ac5634_a288_11e9_9e67_0242ac110002row2_col17\" class=\"data row2 col17\" >0.19</td>\n",
       "            </tr>\n",
       "    </tbody></table>"
      ],
      "text/plain": [
       "<pandas.io.formats.style.Styler at 0x7fd19e8bc5c0>"
      ]
     },
     "execution_count": 102,
     "metadata": {},
     "output_type": "execute_result"
    }
   ],
   "source": [
    "get_scores_table(['ct', 'f1', 'accuracy', 'precision', 'recall'])"
   ]
  },
  {
   "cell_type": "code",
   "execution_count": 103,
   "metadata": {},
   "outputs": [
    {
     "data": {
      "text/html": [
       "<style  type=\"text/css\" >\n",
       "    #T_12a57256_a288_11e9_9e67_0242ac110002row0_col0 {\n",
       "            background-color:  #fff7fb;\n",
       "            color:  #000000;\n",
       "        }    #T_12a57256_a288_11e9_9e67_0242ac110002row0_col1 {\n",
       "            background-color:  #fff7fb;\n",
       "            color:  #000000;\n",
       "        }    #T_12a57256_a288_11e9_9e67_0242ac110002row0_col2 {\n",
       "            background-color:  #fff7fb;\n",
       "            color:  #000000;\n",
       "        }    #T_12a57256_a288_11e9_9e67_0242ac110002row0_col3 {\n",
       "            background-color:  #fff7fb;\n",
       "            color:  #000000;\n",
       "        }    #T_12a57256_a288_11e9_9e67_0242ac110002row0_col4 {\n",
       "            background-color:  #fff7fb;\n",
       "            color:  #000000;\n",
       "        }    #T_12a57256_a288_11e9_9e67_0242ac110002row0_col5 {\n",
       "            background-color:  #fff7fb;\n",
       "            color:  #000000;\n",
       "        }    #T_12a57256_a288_11e9_9e67_0242ac110002row0_col6 {\n",
       "            background-color:  #fff7fb;\n",
       "            color:  #000000;\n",
       "        }    #T_12a57256_a288_11e9_9e67_0242ac110002row0_col7 {\n",
       "            background-color:  #fff7fb;\n",
       "            color:  #000000;\n",
       "        }    #T_12a57256_a288_11e9_9e67_0242ac110002row0_col8 {\n",
       "            background-color:  #fff7fb;\n",
       "            color:  #000000;\n",
       "        }    #T_12a57256_a288_11e9_9e67_0242ac110002row0_col9 {\n",
       "            background-color:  #fff7fb;\n",
       "            color:  #000000;\n",
       "        }    #T_12a57256_a288_11e9_9e67_0242ac110002row0_col10 {\n",
       "            background-color:  #fff7fb;\n",
       "            color:  #000000;\n",
       "        }    #T_12a57256_a288_11e9_9e67_0242ac110002row0_col11 {\n",
       "            background-color:  #fff7fb;\n",
       "            color:  #000000;\n",
       "        }    #T_12a57256_a288_11e9_9e67_0242ac110002row0_col12 {\n",
       "            background-color:  #fff7fb;\n",
       "            color:  #000000;\n",
       "        }    #T_12a57256_a288_11e9_9e67_0242ac110002row0_col13 {\n",
       "            background-color:  #fff7fb;\n",
       "            color:  #000000;\n",
       "        }    #T_12a57256_a288_11e9_9e67_0242ac110002row0_col14 {\n",
       "            background-color:  #fff7fb;\n",
       "            color:  #000000;\n",
       "        }    #T_12a57256_a288_11e9_9e67_0242ac110002row0_col15 {\n",
       "            background-color:  #f4eef6;\n",
       "            color:  #000000;\n",
       "        }    #T_12a57256_a288_11e9_9e67_0242ac110002row0_col16 {\n",
       "            background-color:  #e1dfed;\n",
       "            color:  #000000;\n",
       "        }    #T_12a57256_a288_11e9_9e67_0242ac110002row0_col17 {\n",
       "            background-color:  #f4eef6;\n",
       "            color:  #000000;\n",
       "        }    #T_12a57256_a288_11e9_9e67_0242ac110002row1_col0 {\n",
       "            background-color:  #fff7fb;\n",
       "            color:  #000000;\n",
       "        }    #T_12a57256_a288_11e9_9e67_0242ac110002row1_col1 {\n",
       "            background-color:  #fff7fb;\n",
       "            color:  #000000;\n",
       "        }    #T_12a57256_a288_11e9_9e67_0242ac110002row1_col2 {\n",
       "            background-color:  #fff7fb;\n",
       "            color:  #000000;\n",
       "        }    #T_12a57256_a288_11e9_9e67_0242ac110002row1_col3 {\n",
       "            background-color:  #fff7fb;\n",
       "            color:  #000000;\n",
       "        }    #T_12a57256_a288_11e9_9e67_0242ac110002row1_col4 {\n",
       "            background-color:  #fff7fb;\n",
       "            color:  #000000;\n",
       "        }    #T_12a57256_a288_11e9_9e67_0242ac110002row1_col5 {\n",
       "            background-color:  #fff7fb;\n",
       "            color:  #000000;\n",
       "        }    #T_12a57256_a288_11e9_9e67_0242ac110002row1_col6 {\n",
       "            background-color:  #fff7fb;\n",
       "            color:  #000000;\n",
       "        }    #T_12a57256_a288_11e9_9e67_0242ac110002row1_col7 {\n",
       "            background-color:  #fff7fb;\n",
       "            color:  #000000;\n",
       "        }    #T_12a57256_a288_11e9_9e67_0242ac110002row1_col8 {\n",
       "            background-color:  #fff7fb;\n",
       "            color:  #000000;\n",
       "        }    #T_12a57256_a288_11e9_9e67_0242ac110002row1_col9 {\n",
       "            background-color:  #fff7fb;\n",
       "            color:  #000000;\n",
       "        }    #T_12a57256_a288_11e9_9e67_0242ac110002row1_col10 {\n",
       "            background-color:  #fff7fb;\n",
       "            color:  #000000;\n",
       "        }    #T_12a57256_a288_11e9_9e67_0242ac110002row1_col11 {\n",
       "            background-color:  #fff7fb;\n",
       "            color:  #000000;\n",
       "        }    #T_12a57256_a288_11e9_9e67_0242ac110002row1_col12 {\n",
       "            background-color:  #fff7fb;\n",
       "            color:  #000000;\n",
       "        }    #T_12a57256_a288_11e9_9e67_0242ac110002row1_col13 {\n",
       "            background-color:  #fff7fb;\n",
       "            color:  #000000;\n",
       "        }    #T_12a57256_a288_11e9_9e67_0242ac110002row1_col14 {\n",
       "            background-color:  #fff7fb;\n",
       "            color:  #000000;\n",
       "        }    #T_12a57256_a288_11e9_9e67_0242ac110002row1_col15 {\n",
       "            background-color:  #5c9fc9;\n",
       "            color:  #000000;\n",
       "        }    #T_12a57256_a288_11e9_9e67_0242ac110002row1_col16 {\n",
       "            background-color:  #0569a5;\n",
       "            color:  #f1f1f1;\n",
       "        }    #T_12a57256_a288_11e9_9e67_0242ac110002row1_col17 {\n",
       "            background-color:  #0569a5;\n",
       "            color:  #f1f1f1;\n",
       "        }    #T_12a57256_a288_11e9_9e67_0242ac110002row2_col0 {\n",
       "            background-color:  #fff7fb;\n",
       "            color:  #000000;\n",
       "        }    #T_12a57256_a288_11e9_9e67_0242ac110002row2_col1 {\n",
       "            background-color:  #fff7fb;\n",
       "            color:  #000000;\n",
       "        }    #T_12a57256_a288_11e9_9e67_0242ac110002row2_col2 {\n",
       "            background-color:  #fff7fb;\n",
       "            color:  #000000;\n",
       "        }    #T_12a57256_a288_11e9_9e67_0242ac110002row2_col3 {\n",
       "            background-color:  #fff7fb;\n",
       "            color:  #000000;\n",
       "        }    #T_12a57256_a288_11e9_9e67_0242ac110002row2_col4 {\n",
       "            background-color:  #fff7fb;\n",
       "            color:  #000000;\n",
       "        }    #T_12a57256_a288_11e9_9e67_0242ac110002row2_col5 {\n",
       "            background-color:  #fff7fb;\n",
       "            color:  #000000;\n",
       "        }    #T_12a57256_a288_11e9_9e67_0242ac110002row2_col6 {\n",
       "            background-color:  #fff7fb;\n",
       "            color:  #000000;\n",
       "        }    #T_12a57256_a288_11e9_9e67_0242ac110002row2_col7 {\n",
       "            background-color:  #fff7fb;\n",
       "            color:  #000000;\n",
       "        }    #T_12a57256_a288_11e9_9e67_0242ac110002row2_col8 {\n",
       "            background-color:  #fff7fb;\n",
       "            color:  #000000;\n",
       "        }    #T_12a57256_a288_11e9_9e67_0242ac110002row2_col9 {\n",
       "            background-color:  #fff7fb;\n",
       "            color:  #000000;\n",
       "        }    #T_12a57256_a288_11e9_9e67_0242ac110002row2_col10 {\n",
       "            background-color:  #fff7fb;\n",
       "            color:  #000000;\n",
       "        }    #T_12a57256_a288_11e9_9e67_0242ac110002row2_col11 {\n",
       "            background-color:  #fff7fb;\n",
       "            color:  #000000;\n",
       "        }    #T_12a57256_a288_11e9_9e67_0242ac110002row2_col12 {\n",
       "            background-color:  #fff7fb;\n",
       "            color:  #000000;\n",
       "        }    #T_12a57256_a288_11e9_9e67_0242ac110002row2_col13 {\n",
       "            background-color:  #fff7fb;\n",
       "            color:  #000000;\n",
       "        }    #T_12a57256_a288_11e9_9e67_0242ac110002row2_col14 {\n",
       "            background-color:  #fff7fb;\n",
       "            color:  #000000;\n",
       "        }    #T_12a57256_a288_11e9_9e67_0242ac110002row2_col15 {\n",
       "            background-color:  #0569a5;\n",
       "            color:  #f1f1f1;\n",
       "        }    #T_12a57256_a288_11e9_9e67_0242ac110002row2_col16 {\n",
       "            background-color:  #f4eef6;\n",
       "            color:  #000000;\n",
       "        }    #T_12a57256_a288_11e9_9e67_0242ac110002row2_col17 {\n",
       "            background-color:  #0569a5;\n",
       "            color:  #f1f1f1;\n",
       "        }</style><table id=\"T_12a57256_a288_11e9_9e67_0242ac110002\" ><thead>    <tr>        <th class=\"index_name level0\" >metric</th>        <th class=\"col_heading level0 col0\" colspan=3>ct</th>        <th class=\"col_heading level0 col3\" colspan=3>f1</th>        <th class=\"col_heading level0 col6\" colspan=3>precision</th>        <th class=\"col_heading level0 col9\" colspan=3>precision@70</th>        <th class=\"col_heading level0 col12\" colspan=3>precision@90</th>        <th class=\"col_heading level0 col15\" colspan=3>balance</th>    </tr>    <tr>        <th class=\"index_name level1\" >type</th>        <th class=\"col_heading level1 col0\" >test</th>        <th class=\"col_heading level1 col1\" >training</th>        <th class=\"col_heading level1 col2\" >validation</th>        <th class=\"col_heading level1 col3\" >test</th>        <th class=\"col_heading level1 col4\" >training</th>        <th class=\"col_heading level1 col5\" >validation</th>        <th class=\"col_heading level1 col6\" >test</th>        <th class=\"col_heading level1 col7\" >training</th>        <th class=\"col_heading level1 col8\" >validation</th>        <th class=\"col_heading level1 col9\" >test</th>        <th class=\"col_heading level1 col10\" >training</th>        <th class=\"col_heading level1 col11\" >validation</th>        <th class=\"col_heading level1 col12\" >test</th>        <th class=\"col_heading level1 col13\" >training</th>        <th class=\"col_heading level1 col14\" >validation</th>        <th class=\"col_heading level1 col15\" >test</th>        <th class=\"col_heading level1 col16\" >train</th>        <th class=\"col_heading level1 col17\" >val</th>    </tr></thead><tbody>\n",
       "                <tr>\n",
       "                        <th id=\"T_12a57256_a288_11e9_9e67_0242ac110002level0_row0\" class=\"row_heading level0 row0\" >inducing_cytokine</th>\n",
       "                        <td id=\"T_12a57256_a288_11e9_9e67_0242ac110002row0_col0\" class=\"data row0 col0\" >100</td>\n",
       "                        <td id=\"T_12a57256_a288_11e9_9e67_0242ac110002row0_col1\" class=\"data row0 col1\" >10000</td>\n",
       "                        <td id=\"T_12a57256_a288_11e9_9e67_0242ac110002row0_col2\" class=\"data row0 col2\" >97</td>\n",
       "                        <td id=\"T_12a57256_a288_11e9_9e67_0242ac110002row0_col3\" class=\"data row0 col3\" >0.33</td>\n",
       "                        <td id=\"T_12a57256_a288_11e9_9e67_0242ac110002row0_col4\" class=\"data row0 col4\" >0.76</td>\n",
       "                        <td id=\"T_12a57256_a288_11e9_9e67_0242ac110002row0_col5\" class=\"data row0 col5\" >0.52</td>\n",
       "                        <td id=\"T_12a57256_a288_11e9_9e67_0242ac110002row0_col6\" class=\"data row0 col6\" >0.31</td>\n",
       "                        <td id=\"T_12a57256_a288_11e9_9e67_0242ac110002row0_col7\" class=\"data row0 col7\" >0.8</td>\n",
       "                        <td id=\"T_12a57256_a288_11e9_9e67_0242ac110002row0_col8\" class=\"data row0 col8\" >0.6</td>\n",
       "                        <td id=\"T_12a57256_a288_11e9_9e67_0242ac110002row0_col9\" class=\"data row0 col9\" >0.25</td>\n",
       "                        <td id=\"T_12a57256_a288_11e9_9e67_0242ac110002row0_col10\" class=\"data row0 col10\" >0.93</td>\n",
       "                        <td id=\"T_12a57256_a288_11e9_9e67_0242ac110002row0_col11\" class=\"data row0 col11\" >0.8</td>\n",
       "                        <td id=\"T_12a57256_a288_11e9_9e67_0242ac110002row0_col12\" class=\"data row0 col12\" >0</td>\n",
       "                        <td id=\"T_12a57256_a288_11e9_9e67_0242ac110002row0_col13\" class=\"data row0 col13\" >0.99</td>\n",
       "                        <td id=\"T_12a57256_a288_11e9_9e67_0242ac110002row0_col14\" class=\"data row0 col14\" >0</td>\n",
       "                        <td id=\"T_12a57256_a288_11e9_9e67_0242ac110002row0_col15\" class=\"data row0 col15\" >0.14</td>\n",
       "                        <td id=\"T_12a57256_a288_11e9_9e67_0242ac110002row0_col16\" class=\"data row0 col16\" >0.15</td>\n",
       "                        <td id=\"T_12a57256_a288_11e9_9e67_0242ac110002row0_col17\" class=\"data row0 col17\" >0.13</td>\n",
       "            </tr>\n",
       "            <tr>\n",
       "                        <th id=\"T_12a57256_a288_11e9_9e67_0242ac110002level0_row1\" class=\"row_heading level0 row1\" >inducing_transcription_factor</th>\n",
       "                        <td id=\"T_12a57256_a288_11e9_9e67_0242ac110002row1_col0\" class=\"data row1 col0\" >nan</td>\n",
       "                        <td id=\"T_12a57256_a288_11e9_9e67_0242ac110002row1_col1\" class=\"data row1 col1\" >nan</td>\n",
       "                        <td id=\"T_12a57256_a288_11e9_9e67_0242ac110002row1_col2\" class=\"data row1 col2\" >nan</td>\n",
       "                        <td id=\"T_12a57256_a288_11e9_9e67_0242ac110002row1_col3\" class=\"data row1 col3\" >nan</td>\n",
       "                        <td id=\"T_12a57256_a288_11e9_9e67_0242ac110002row1_col4\" class=\"data row1 col4\" >nan</td>\n",
       "                        <td id=\"T_12a57256_a288_11e9_9e67_0242ac110002row1_col5\" class=\"data row1 col5\" >nan</td>\n",
       "                        <td id=\"T_12a57256_a288_11e9_9e67_0242ac110002row1_col6\" class=\"data row1 col6\" >nan</td>\n",
       "                        <td id=\"T_12a57256_a288_11e9_9e67_0242ac110002row1_col7\" class=\"data row1 col7\" >nan</td>\n",
       "                        <td id=\"T_12a57256_a288_11e9_9e67_0242ac110002row1_col8\" class=\"data row1 col8\" >nan</td>\n",
       "                        <td id=\"T_12a57256_a288_11e9_9e67_0242ac110002row1_col9\" class=\"data row1 col9\" >nan</td>\n",
       "                        <td id=\"T_12a57256_a288_11e9_9e67_0242ac110002row1_col10\" class=\"data row1 col10\" >nan</td>\n",
       "                        <td id=\"T_12a57256_a288_11e9_9e67_0242ac110002row1_col11\" class=\"data row1 col11\" >nan</td>\n",
       "                        <td id=\"T_12a57256_a288_11e9_9e67_0242ac110002row1_col12\" class=\"data row1 col12\" >nan</td>\n",
       "                        <td id=\"T_12a57256_a288_11e9_9e67_0242ac110002row1_col13\" class=\"data row1 col13\" >nan</td>\n",
       "                        <td id=\"T_12a57256_a288_11e9_9e67_0242ac110002row1_col14\" class=\"data row1 col14\" >nan</td>\n",
       "                        <td id=\"T_12a57256_a288_11e9_9e67_0242ac110002row1_col15\" class=\"data row1 col15\" >0.18</td>\n",
       "                        <td id=\"T_12a57256_a288_11e9_9e67_0242ac110002row1_col16\" class=\"data row1 col16\" >0.21</td>\n",
       "                        <td id=\"T_12a57256_a288_11e9_9e67_0242ac110002row1_col17\" class=\"data row1 col17\" >0.19</td>\n",
       "            </tr>\n",
       "            <tr>\n",
       "                        <th id=\"T_12a57256_a288_11e9_9e67_0242ac110002level0_row2\" class=\"row_heading level0 row2\" >secreted_cytokine</th>\n",
       "                        <td id=\"T_12a57256_a288_11e9_9e67_0242ac110002row2_col0\" class=\"data row2 col0\" >nan</td>\n",
       "                        <td id=\"T_12a57256_a288_11e9_9e67_0242ac110002row2_col1\" class=\"data row2 col1\" >nan</td>\n",
       "                        <td id=\"T_12a57256_a288_11e9_9e67_0242ac110002row2_col2\" class=\"data row2 col2\" >nan</td>\n",
       "                        <td id=\"T_12a57256_a288_11e9_9e67_0242ac110002row2_col3\" class=\"data row2 col3\" >nan</td>\n",
       "                        <td id=\"T_12a57256_a288_11e9_9e67_0242ac110002row2_col4\" class=\"data row2 col4\" >nan</td>\n",
       "                        <td id=\"T_12a57256_a288_11e9_9e67_0242ac110002row2_col5\" class=\"data row2 col5\" >nan</td>\n",
       "                        <td id=\"T_12a57256_a288_11e9_9e67_0242ac110002row2_col6\" class=\"data row2 col6\" >nan</td>\n",
       "                        <td id=\"T_12a57256_a288_11e9_9e67_0242ac110002row2_col7\" class=\"data row2 col7\" >nan</td>\n",
       "                        <td id=\"T_12a57256_a288_11e9_9e67_0242ac110002row2_col8\" class=\"data row2 col8\" >nan</td>\n",
       "                        <td id=\"T_12a57256_a288_11e9_9e67_0242ac110002row2_col9\" class=\"data row2 col9\" >nan</td>\n",
       "                        <td id=\"T_12a57256_a288_11e9_9e67_0242ac110002row2_col10\" class=\"data row2 col10\" >nan</td>\n",
       "                        <td id=\"T_12a57256_a288_11e9_9e67_0242ac110002row2_col11\" class=\"data row2 col11\" >nan</td>\n",
       "                        <td id=\"T_12a57256_a288_11e9_9e67_0242ac110002row2_col12\" class=\"data row2 col12\" >nan</td>\n",
       "                        <td id=\"T_12a57256_a288_11e9_9e67_0242ac110002row2_col13\" class=\"data row2 col13\" >nan</td>\n",
       "                        <td id=\"T_12a57256_a288_11e9_9e67_0242ac110002row2_col14\" class=\"data row2 col14\" >nan</td>\n",
       "                        <td id=\"T_12a57256_a288_11e9_9e67_0242ac110002row2_col15\" class=\"data row2 col15\" >0.2</td>\n",
       "                        <td id=\"T_12a57256_a288_11e9_9e67_0242ac110002row2_col16\" class=\"data row2 col16\" >0.14</td>\n",
       "                        <td id=\"T_12a57256_a288_11e9_9e67_0242ac110002row2_col17\" class=\"data row2 col17\" >0.19</td>\n",
       "            </tr>\n",
       "    </tbody></table>"
      ],
      "text/plain": [
       "<pandas.io.formats.style.Styler at 0x7fd10a832588>"
      ]
     },
     "execution_count": 103,
     "metadata": {},
     "output_type": "execute_result"
    }
   ],
   "source": [
    "get_scores_table(['ct', 'f1', 'precision', 'precision@70', 'precision@90'])"
   ]
  },
  {
   "cell_type": "code",
   "execution_count": 105,
   "metadata": {},
   "outputs": [
    {
     "data": {
      "image/png": "[encoded data removed]",
      "text/plain": [
       "<Figure size 1200x800 with 5 Axes>"
      ]
     },
     "metadata": {},
     "output_type": "display_data"
    },
    {
     "data": {
      "text/plain": [
       "<ggplot: (8783613954070)>"
      ]
     },
     "execution_count": 105,
     "metadata": {},
     "output_type": "execute_result"
    }
   ],
   "source": [
    "(\n",
    "    pn.ggplot(\n",
    "        df_score.pipe(lambda df: df[df['metric'].isin(['f1', 'accuracy', 'precision', 'precision@70', 'recall'])]),\n",
    "        pn.aes(x='type', y='value', fill='type')\n",
    "    ) + \n",
    "    pn.geom_violin() + \n",
    "    pn.facet_grid('metric ~ task', scales='free') + \n",
    "    pn.theme(figure_size=(12, 8))\n",
    ")"
   ]
  },
  {
   "cell_type": "markdown",
   "metadata": {},
   "source": [
    "## Export\n",
    "\n",
    "Export top model configurations. This is based on the average performance of each parameter as determined by regression.  \n",
    "\n",
    "Individual max scores are not used to select the top models because the validation set is so small and the search space large enough by comparison that parameter settings that result in poor models on average often end up at the top of the list."
   ]
  },
  {
   "cell_type": "code",
   "execution_count": 61,
   "metadata": {},
   "outputs": [
    {
     "data": {
      "text/plain": [
       "{'dropout': '0.5',\n",
       " 'wrd_embedding_type': 'w2v_trained',\n",
       " 'use_positions': 'True',\n",
       " 'use_secondary': 'False',\n",
       " 'learning_rate': '0.01',\n",
       " 'cell_type': 'LSTM',\n",
       " 'model_size': 'XL',\n",
       " 'use_swaps': 'False',\n",
       " 'bidirectional': 'True',\n",
       " 'marker_list': 'mult_01',\n",
       " 'weight_decay': '0.005'}"
      ]
     },
     "execution_count": 61,
     "metadata": {},
     "output_type": "execute_result"
    }
   ],
   "source": [
    "top_config = {}\n",
    "for k, v in df_coef_lng.groupby('parameter')['weighted_value'].mean().sort_values(ascending=False).items():\n",
    "    param, val = k.split(':')\n",
    "    if param not in top_config:\n",
    "        top_config[param] = val\n",
    "top_config"
   ]
  },
  {
   "cell_type": "code",
   "execution_count": 63,
   "metadata": {},
   "outputs": [
    {
     "data": {
      "text/plain": [
       "{'dropout': '0.5',\n",
       " 'wrd_embedding_type': 'w2v_trained',\n",
       " 'use_positions': 'True',\n",
       " 'use_secondary': 'False',\n",
       " 'learning_rate': '0.01',\n",
       " 'cell_type': 'LSTM',\n",
       " 'model_size': 'XL',\n",
       " 'use_swaps': 'False',\n",
       " 'bidirectional': False,\n",
       " 'marker_list': 'mult_01',\n",
       " 'weight_decay': '0.005'}"
      ]
     },
     "execution_count": 63,
     "metadata": {},
     "output_type": "execute_result"
    }
   ],
   "source": [
    "# Unless there is a compelling reason to do otherwise, make sure bidirectional \n",
    "# option is false to speed up training\n",
    "top_config['bidirectional'] = False\n",
    "top_config"
   ]
  },
  {
   "cell_type": "code",
   "execution_count": 64,
   "metadata": {},
   "outputs": [
    {
     "data": {
      "text/html": [
       "<div>\n",
       "<style scoped>\n",
       "    .dataframe tbody tr th:only-of-type {\n",
       "        vertical-align: middle;\n",
       "    }\n",
       "\n",
       "    .dataframe tbody tr th {\n",
       "        vertical-align: top;\n",
       "    }\n",
       "\n",
       "    .dataframe thead th {\n",
       "        text-align: right;\n",
       "    }\n",
       "</style>\n",
       "<table border=\"1\" class=\"dataframe\">\n",
       "  <thead>\n",
       "    <tr style=\"text-align: right;\">\n",
       "      <th></th>\n",
       "      <th>bidirectional</th>\n",
       "      <th>cell_type</th>\n",
       "      <th>dropout</th>\n",
       "      <th>learning_rate</th>\n",
       "      <th>marker_list</th>\n",
       "      <th>model_size</th>\n",
       "      <th>use_positions</th>\n",
       "      <th>use_secondary</th>\n",
       "      <th>use_swaps</th>\n",
       "      <th>weight_decay</th>\n",
       "      <th>wrd_embedding_type</th>\n",
       "    </tr>\n",
       "  </thead>\n",
       "  <tbody>\n",
       "    <tr>\n",
       "      <th>0</th>\n",
       "      <td>False</td>\n",
       "      <td>LSTM</td>\n",
       "      <td>0.5</td>\n",
       "      <td>0.01</td>\n",
       "      <td>mult_01</td>\n",
       "      <td>XL</td>\n",
       "      <td>True</td>\n",
       "      <td>False</td>\n",
       "      <td>False</td>\n",
       "      <td>0.005</td>\n",
       "      <td>w2v_frozen</td>\n",
       "    </tr>\n",
       "    <tr>\n",
       "      <th>1</th>\n",
       "      <td>False</td>\n",
       "      <td>LSTM</td>\n",
       "      <td>0.5</td>\n",
       "      <td>0.01</td>\n",
       "      <td>mult_01</td>\n",
       "      <td>XL</td>\n",
       "      <td>True</td>\n",
       "      <td>False</td>\n",
       "      <td>False</td>\n",
       "      <td>0.005</td>\n",
       "      <td>w2v_trained</td>\n",
       "    </tr>\n",
       "  </tbody>\n",
       "</table>\n",
       "</div>"
      ],
      "text/plain": [
       "   bidirectional cell_type dropout learning_rate marker_list model_size  \\\n",
       "0          False      LSTM     0.5          0.01     mult_01         XL   \n",
       "1          False      LSTM     0.5          0.01     mult_01         XL   \n",
       "\n",
       "  use_positions use_secondary use_swaps weight_decay wrd_embedding_type  \n",
       "0          True         False     False        0.005         w2v_frozen  \n",
       "1          True         False     False        0.005        w2v_trained  "
      ]
     },
     "execution_count": 64,
     "metadata": {},
     "output_type": "execute_result"
    }
   ],
   "source": [
    "# Use frozen and trainable versions of best config for further training\n",
    "top_models = pd.DataFrame([\n",
    "    {**dict(top_config), **dict(wrd_embedding_type=v)}\n",
    "    for v in ['w2v_frozen', 'w2v_trained']\n",
    "])\n",
    "top_models"
   ]
  },
  {
   "cell_type": "code",
   "execution_count": 65,
   "metadata": {},
   "outputs": [
    {
     "data": {
      "text/plain": [
       "'/lab/data/results/gridsearch-dev/run1/top_model_configurations.json'"
      ]
     },
     "execution_count": 65,
     "metadata": {},
     "output_type": "execute_result"
    }
   ],
   "source": [
    "path = osp.join(output_dir, 'top_model_configurations.json')\n",
    "top_models.to_json(path)\n",
    "path"
   ]
  }
 ],
 "metadata": {
  "kernelspec": {
   "display_name": "Python 3",
   "language": "python",
   "name": "python3"
  },
  "language_info": {
   "codemirror_mode": {
    "name": "ipython",
    "version": 3
   },
   "file_extension": ".py",
   "mimetype": "text/x-python",
   "name": "python",
   "nbconvert_exporter": "python",
   "pygments_lexer": "ipython3",
   "version": "3.6.8"
  }
 },
 "nbformat": 4,
 "nbformat_minor": 2
}
