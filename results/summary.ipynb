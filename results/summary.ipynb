{
 "cells": [
  {
   "cell_type": "markdown",
   "metadata": {},
   "source": [
    "## Project Summary\n",
    "\n",
    "Top-level stats, motivations, and results that are otherwise difficult to compile from individual project files.\n",
    "\n",
    "Outline:\n",
    "\n",
    "- Corpora selection and import\n",
    "    - Sources:\n",
    "        - Entrez corpus\n",
    "        - PMC OA corpus\n",
    "    - Discuss filtering to relevant documents\n",
    "- Ontology Integration\n",
    "    - Discuss CL, CKR, and PRO imports\n",
    "        - Explain choices for root nodes and conflict resolution\n",
    "    - Show how synonym lists are prioritized across sources\n",
    "- Corpus Processing\n",
    "    - Outline tokenization and entity tagging process\n",
    "    - Show ScispaCy JNLPBA tagger examples\n",
    "- Cell Phenotype Inference\n",
    "    - Frame as tangent to cell type ontology expansion\n",
    "    - Discuss modalities in cell type references\n",
    "    - Explain protein tokenization with examples\n",
    "    - Show results from analyzing subtokens in JNLPBA tags\n",
    "- Candidate Generation\n",
    "    - Explain how candidates are paired within sentence and stored in snorkel db\n",
    "- Candidate Annotation\n",
    "    - Give stats on initial BRAT annotations and relation classes\n",
    "    - Provide info on test set annotations (outside of BRAT)\n",
    "- Labeling Functions\n",
    "    - Reference regex rules built during annotation\n",
    "    - Reference other simple heuristics\n",
    "    - Show some statistics on dev set LFs \n",
    "    - Discuss avoidance of advanced heuristics in favor of dev set modeling\n",
    "        - Show results from RNNs over tokenization, entity marking, embedding, and position feature strategies\n",
    "        - Show example feature inputs for different settings\n",
    "        - Explain vocab clipping for pre-trained embeddings\n",
    "        - Reference modeling code\n",
    "- Discriminative Model Training\n",
    "    - Explain where final model is trained and how it is used for each task\n",
    "- ImmuneXpresso Comparison\n",
    "    - Show final results as compared to scrape from iX"
   ]
  }
 ],
 "metadata": {
  "kernelspec": {
   "display_name": "Python 3",
   "language": "python",
   "name": "python3"
  },
  "language_info": {
   "codemirror_mode": {
    "name": "ipython",
    "version": 3
   },
   "file_extension": ".py",
   "mimetype": "text/x-python",
   "name": "python",
   "nbconvert_exporter": "python",
   "pygments_lexer": "ipython3",
   "version": "3.6.8"
  }
 },
 "nbformat": 4,
 "nbformat_minor": 2
}
